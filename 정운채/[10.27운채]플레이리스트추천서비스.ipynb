{
 "cells": [
  {
   "cell_type": "code",
   "execution_count": 1,
   "id": "7fbb0b3e-6e0c-40d0-ae90-693fe0fe94be",
   "metadata": {},
   "outputs": [],
   "source": [
    "# 모듈 불러오기\n",
    "import os\n",
    "import numpy as np\n",
    "import pandas as pd\n",
    "\n",
    "import pickle\n",
    "import implicit\n",
    "\n",
    "import itertools"
   ]
  },
  {
   "cell_type": "code",
   "execution_count": 5,
   "id": "48d1c79e-adc6-4f9d-9d0b-95b83f8fce00",
   "metadata": {},
   "outputs": [],
   "source": [
    "# ply2ply_als_model pickle 불러오기\n",
    "\n",
    "def ply2ply_recommendation(USER_ID): \n",
    "    import pickle\n",
    "    with open('data/ply2ply_als_model.pickle','rb') as f:\n",
    "        als_model = pickle.load(f)\n",
    "    find_top10_ply = als_model.similar_items(USER_ID,N=6)\n",
    "    top10 = list(map(lambda x : x[0], find_top10_ply))\n",
    "    del top10[0]\n",
    "    return top10\n",
    "\n",
    "# ply2ply_recommendation(10000)"
   ]
  },
  {
   "cell_type": "code",
   "execution_count": null,
   "id": "9d7be7d9-698e-42b8-9446-8cf37621c769",
   "metadata": {},
   "outputs": [],
   "source": []
  }
 ],
 "metadata": {
  "kernelspec": {
   "display_name": "Python 3",
   "language": "python",
   "name": "python3"
  },
  "language_info": {
   "codemirror_mode": {
    "name": "ipython",
    "version": 3
   },
   "file_extension": ".py",
   "mimetype": "text/x-python",
   "name": "python",
   "nbconvert_exporter": "python",
   "pygments_lexer": "ipython3",
   "version": "3.8.8"
  }
 },
 "nbformat": 4,
 "nbformat_minor": 5
}
