{
 "cells": [
  {
   "cell_type": "code",
   "execution_count": 1,
   "id": "7fbb0b3e-6e0c-40d0-ae90-693fe0fe94be",
   "metadata": {},
   "outputs": [],
   "source": [
    "# 모듈 불러오기\n",
    "import os\n",
    "import numpy as np\n",
    "import pandas as pd\n",
    "\n",
    "import pickle\n",
    "import implicit\n",
    "\n",
    "import itertools"
   ]
  },
  {
   "cell_type": "code",
   "execution_count": 5,
   "id": "48d1c79e-adc6-4f9d-9d0b-95b83f8fce00",
   "metadata": {},
   "outputs": [],
   "source": [
    "# ply2ply_als_model pickle 불러오기\n",
    "\n",
    "def ply2ply_recommendation(USER_ID): \n",
    "    import pickle\n",
    "    with open('data/ply2ply_als_model.pickle','rb') as f:\n",
    "        als_model = pickle.load(f)\n",
    "    find_top10_ply = als_model.similar_items(USER_ID,N=6)\n",
    "    top10 = list(map(lambda x : x[0], find_top10_ply))\n",
    "    del top10[0]\n",
    "    return top10\n",
    "\n",
    "# ply2ply_recommendation(10000)"
   ]
  },
  {
   "cell_type": "code",
   "execution_count": null,
   "id": "9d7be7d9-698e-42b8-9446-8cf37621c769",
   "metadata": {},
   "outputs": [],
   "source": []
  }
 ],
 "metadata": {
  "kernelspec": {
   "display_name": "Python 3 (ipykernel)",
   "language": "python",
   "name": "python3"
  },
  "language_info": {
   "codemirror_mode": {
    "name": "ipython",
    "version": 3
   },
   "file_extension": ".py",
   "mimetype": "text/x-python",
   "name": "python",
   "nbconvert_exporter": "python",
   "pygments_lexer": "ipython3",
   "version": "3.9.6"
  },
  "toc": {
   "base_numbering": 1,
   "nav_menu": {},
   "number_sections": true,
   "sideBar": true,
   "skip_h1_title": false,
   "title_cell": "Table of Contents",
   "title_sidebar": "Contents",
   "toc_cell": false,
   "toc_position": {},
   "toc_section_display": true,
   "toc_window_display": false
  },
  "varInspector": {
   "cols": {
    "lenName": 16,
    "lenType": 16,
    "lenVar": 40
   },
   "kernels_config": {
    "python": {
     "delete_cmd_postfix": "",
     "delete_cmd_prefix": "del ",
     "library": "var_list.py",
     "varRefreshCmd": "print(var_dic_list())"
    },
    "r": {
     "delete_cmd_postfix": ") ",
     "delete_cmd_prefix": "rm(",
     "library": "var_list.r",
     "varRefreshCmd": "cat(var_dic_list()) "
    }
   },
   "types_to_exclude": [
    "module",
    "function",
    "builtin_function_or_method",
    "instance",
    "_Feature"
   ],
   "window_display": false
  }
 },
 "nbformat": 4,
 "nbformat_minor": 5
}
