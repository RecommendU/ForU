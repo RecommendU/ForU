{
 "cells": [
  {
   "cell_type": "markdown",
   "id": "8d81e262-3266-445c-96d5-0dedf1f19139",
   "metadata": {},
   "source": [
    "# INPUT playlist, OUTPUT playlist, 기준 : 장르분포도, 방식ALS"
   ]
  },
  {
   "cell_type": "code",
   "execution_count": null,
   "id": "6e3d57ac-7468-4356-bf76-3df30096c603",
   "metadata": {},
   "outputs": [],
   "source": [
    "# !pip install implicit"
   ]
  },
  {
   "cell_type": "code",
   "execution_count": 63,
   "id": "8720a0e1-9090-4a20-9e3c-242c066f3ae4",
   "metadata": {},
   "outputs": [],
   "source": [
    "# 모듈 불러오기\n",
    "import os\n",
    "import json\n",
    "import numpy as np\n",
    "import pandas as pd\n",
    "import scipy.sparse as spr\n",
    "from tqdm.notebook import tqdm\n",
    "\n",
    "from itertools import chain\n",
    "from collections import Counter\n",
    "from sklearn.metrics.pairwise import cosine_similarity\n",
    "import pickle\n",
    "import implicit"
   ]
  },
  {
   "cell_type": "code",
   "execution_count": 64,
   "id": "1ebd0f48-193f-43d3-94ff-48a96e934b52",
   "metadata": {},
   "outputs": [],
   "source": [
    "# 데이터 불러오기\n",
    "\n",
    "with open('data/train.json',encoding='utf-8-sig') as f:\n",
    "    train_dict = json.load(f)\n",
    "    \n",
    "with open('data/song_meta.json',encoding='utf-8-sig') as f:\n",
    "    song_dict = json.load(f)\n",
    "    \n",
    "with open('data/genre_gn_all.json',encoding='utf-8-sig') as f:\n",
    "    genre_dict = json.load(f)\n",
    "    \n",
    "train = pd.DataFrame.from_dict(train_dict)\n",
    "genre_gn_all = pd.read_json('data/genre_gn_all.json', typ = 'series') # 장르 읽어오기\n",
    "song = pd.DataFrame.from_dict(song_dict)\n",
    "genre = pd.DataFrame(genre_gn_all, columns = ['gnr_name']).reset_index().rename(columns = {'index' : 'gnr_code'}) # 장르코드 : gnr_code, 장르명 : gnr_name \n",
    "\n",
    "\n",
    "\n",
    "df_train = train.copy()\n",
    "df_song = song.copy()\n",
    "\n",
    "# song data 사용할 컬럼만 가져오기\n",
    "df_gnr_id_song = song[['song_gn_dtl_gnr_basket','id']].copy()\n",
    "# 컬럼 알아보기 쉽게 한글로 바꾸기\n",
    "df_gnr_id_song = df_gnr_id_song.rename(columns={'song_gn_dtl_gnr_basket':'장르','id':'곡id'})\n",
    "\n"
   ]
  },
  {
   "cell_type": "markdown",
   "id": "71fd6c50-65c8-468f-b2ba-4f79685cf042",
   "metadata": {},
   "source": [
    "# df_train[장르, 장르id, 장르cnt] columns 추가 (json파일 만들기)\n",
    "df_train_with_gnr_cnt.json 만들기"
   ]
  },
  {
   "cell_type": "code",
   "execution_count": 65,
   "id": "41b443bd-6fcb-47a9-a7c9-f9228f95f5b2",
   "metadata": {},
   "outputs": [],
   "source": [
    "from itertools import chain\n",
    "genre_code_list = list(genre_dict.keys())\n",
    "genre_id_dict = dict(zip(genre_code_list,range(len(genre_code_list)))) # {code : code_id}\n",
    "\n",
    "# 노래 : 장르 딕셔너리 만들기 # {song_id : [gnr_id,gnr_id2...]}\n",
    "songid_genre_dict = dict(zip(df_gnr_id_song['곡id'].tolist(),df_gnr_id_song['장르'].tolist()))\n",
    "\n",
    "# df_train['장르']\n",
    "song_id_lists = df_train['songs'].tolist() # playlist의 [[song_id, song_id2 ...],[ ...]]\n",
    "song_genre_lists = [] \n",
    "\n",
    "for song_id_list in song_id_lists:  \n",
    "    temp = [] \n",
    "    for song_id in song_id_list: \n",
    "        temp.append(songid_genre_dict[song_id]) \n",
    "    song_genre_lists.append(list(chain.from_iterable(temp))) # 이중리스트를 플랫하게 만듦.\n",
    "    \n",
    "df_train['장르'] = song_genre_lists # playlist의 [[gnr, gnr2...],[ ... ]]\n",
    "# df_train.head(2)\n",
    "\n",
    "# df_train[장르id]\n",
    "df_train['장르id'] = df_train['장르'].map(lambda x : [ genre_id_dict[i] for i in x]) \n",
    "# df_train.head(2)\n",
    "\n",
    "# df_train['장르cnt']\n",
    "df_train['장르cnt'] = df_train['장르'].apply(lambda x : len(x))\n",
    "# df_train.head(2)\n",
    "\n",
    "# 장르cnt가 0인 것들 임의의 값 주기 # 나중에 전체 나눗셈을 할 때 분모가 0일 경우 Null값이 생기기 때문\n",
    "df_train['장르cnt'].replace(0,1, inplace=True)\n",
    "# df_train[df_train['장르cnt'] == 0] # 잘 없어졌는지 확인.\n",
    "\n",
    "\n",
    "# json파일로 만들기\n",
    "# df_train.to_json('data/df_train_with_gnr_cnt.json') # 파일 생성"
   ]
  },
  {
   "cell_type": "markdown",
   "id": "9702dd63-b603-4448-b8ab-ea3ce8efa08b",
   "metadata": {},
   "source": [
    "---"
   ]
  },
  {
   "cell_type": "markdown",
   "id": "e783e84c-f565-4ff4-89e6-1b9c7cd5fbf0",
   "metadata": {},
   "source": [
    "# df_train DF sparse matrix 만들기 (npz 저장하기)"
   ]
  },
  {
   "cell_type": "code",
   "execution_count": 66,
   "id": "17194410-b5d6-4c41-b300-0b5bc3f52622",
   "metadata": {
    "tags": []
   },
   "outputs": [],
   "source": [
    "from collections import defaultdict, Counter\n",
    "\n",
    "my_dict = defaultdict(dict)\n",
    "genre_id_lists = df_train['장르id'].tolist() # genre_id_lists   # 이중 리스트 [[111,110,57 ....]]\n",
    "\n",
    "# sparse matrix를 만들기 위한 row, col, dat 데이터 뽑아오기\n",
    "for i in range(len(df_train)):\n",
    "    my_dict[i] = dict(Counter(genre_id_lists[i]))\n",
    "row =[] # playlist\n",
    "col =[] # genre\n",
    "dat =[] # gnr_cnt\n",
    "\n",
    "for k, v in my_dict.items():\n",
    "    for vk,vv in v.items():\n",
    "        row.append(k)\n",
    "        col.append(vk)\n",
    "        dat.append(vv)\n",
    "\n",
    "# print(row)\n",
    "# print(col)\n",
    "# print(dat)\n",
    "\n",
    "\n",
    "spr_ply_gnr = spr.csr_matrix((dat, (row, col)), shape=(len(df_train), len(genre)))\n",
    "spr_ply_gnr  # row = ply, col = genre, dat = gnr_cnt\n",
    "\n",
    "# row별로 장르cnt를 나눠주면 각 곡의 비율이 나오니까 노래의 개수로 인한 데이터 편중이 일어나지 않을 것.\n",
    "\n",
    "spr_ply_gnr_pct = spr_ply_gnr / df_train[['장르cnt']].values  # spr_ply_gnr_pct = matrix 형태\n",
    "\n",
    "\n",
    "spr_spr_ply_gnr_pct= spr.csr_matrix(spr_ply_gnr_pct) # sparse matrix 형태로 저장\n",
    "\n",
    "# npz 저장하기\n",
    "# spr.save_npz('data/spr_spr_ply_gnr_pct.npz', spr_spr_ply_gnr_pct) "
   ]
  },
  {
   "cell_type": "markdown",
   "id": "825ffb8b-8350-4f25-abe3-9bb6baa2dd0d",
   "metadata": {},
   "source": [
    "---"
   ]
  },
  {
   "cell_type": "markdown",
   "id": "32ad482f-1dcb-4ccf-981e-9faeee25c637",
   "metadata": {},
   "source": [
    "# 2개 playlist의 코사인 유사도 구하기\n",
    "playlist와 playlist 간의"
   ]
  },
  {
   "cell_type": "markdown",
   "id": "b4ecf3c1-637a-41b1-abd7-2fee6e98c8b3",
   "metadata": {},
   "source": [
    "> 유사한 장르 분포를 가진 ply(user) 간을 비교하기에 앞서서 `장르 cnt의 비율`로 만든 이유는     \n",
    "장르 개수의 격차가 클 때 코사인 유사도를 구하면\n",
    "(예를 들어 비슷한 장르 분포를 가졌지만 A(ply)에 포함된 곡의 장르가 1000개, B(ply)에 포함된 곡의 장르가 10개라고 할 때)    \n",
    "서로 비슷하지 않다는 결과가 도출되기 때문에 `(A) ply의 각 장르 / (A) ply total cnt`로 나눠서 장르의 총합이 1이 되도록 `비중(%)`으로 구함.         \n",
    "멘토님은 `countervectorizer nomalization`의 의견을 주셨음. 유튜브에 찾아봐야 할 듯     "
   ]
  },
  {
   "cell_type": "code",
   "execution_count": 81,
   "id": "74df69d8-320e-457d-b0bc-c74943782dfe",
   "metadata": {},
   "outputs": [
    {
     "data": {
      "text/plain": [
       "array([[0.04929709]])"
      ]
     },
     "execution_count": 81,
     "metadata": {},
     "output_type": "execute_result"
    }
   ],
   "source": [
    "# npz 불러오기 \n",
    "spr_spr_ply_gnr_pct = spr.load_npz('data/spr_spr_ply_gnr_pct.npz') # csr형태\n",
    "\n",
    "spr_ply_gnr_pct = spr_spr_ply_gnr_pct.todense() # matrix 형태\n",
    "\n",
    "from sklearn.metrics.pairwise import cosine_similarity\n",
    "\n",
    "# cosine_similarity(spr_ply_gnr_pct[1],spr_ply_gnr_pct[3]) # matrix 형태\n",
    "\n",
    "cosine_similarity(spr_spr_ply_gnr_pct[1],spr_spr_ply_gnr_pct[4]) # csr 형태"
   ]
  },
  {
   "cell_type": "markdown",
   "id": "c934e792-25ee-4a59-bdf5-690a36eb159a",
   "metadata": {},
   "source": [
    "# als_model 피클 저장(따로 ipynb 만들어놓음 - 10.27일자)\n",
    "> spr_spr_ply_gnr_pct.npz 가져와서 만듦"
   ]
  },
  {
   "cell_type": "code",
   "execution_count": 84,
   "id": "c7e3f03d-91fe-4955-b68f-26d449011955",
   "metadata": {},
   "outputs": [
    {
     "data": {
      "application/vnd.jupyter.widget-view+json": {
       "model_id": "0be5609917f343a0af76d6e9774dd60d",
       "version_major": 2,
       "version_minor": 0
      },
      "text/plain": [
       "  0%|          | 0/15 [00:00<?, ?it/s]"
      ]
     },
     "metadata": {},
     "output_type": "display_data"
    }
   ],
   "source": [
    "# als_model 추천서비스\n",
    "import implicit\n",
    "\n",
    "#데이터 불러오기\n",
    "spr_spr_ply_gnr_pct = spr.load_npz('data/spr_spr_ply_gnr_pct.npz') # csr형태\n",
    "\n",
    "als_model = implicit.als.AlternatingLeastSquares(factors=50) # factors = 50\n",
    "als_model.fit(spr_spr_ply_gnr_pct*40) # 40을 곱해주는건 랜덤임\n",
    "user_items = spr_spr_ply_gnr_pct.T.tocsr()\n"
   ]
  },
  {
   "cell_type": "code",
   "execution_count": 85,
   "id": "b81ced0c-7da6-4744-b2cb-010118b975dd",
   "metadata": {},
   "outputs": [
    {
     "data": {
      "text/plain": [
       "[(44159, 1.0),\n",
       " (38952, 0.9993441),\n",
       " (110897, 0.99907786),\n",
       " (48088, 0.9929551),\n",
       " (25220, 0.9844763),\n",
       " (97719, 0.98434705),\n",
       " (5641, 0.9783359),\n",
       " (46828, 0.97703993),\n",
       " (79538, 0.97194),\n",
       " (3572, 0.968999)]"
      ]
     },
     "execution_count": 85,
     "metadata": {},
     "output_type": "execute_result"
    }
   ],
   "source": [
    "related = als_model.similar_items(44159, N=10)\n",
    "related"
   ]
  },
  {
   "cell_type": "code",
   "execution_count": 26,
   "id": "383adb11-6a85-49e3-a81a-1d722e678c0e",
   "metadata": {},
   "outputs": [],
   "source": [
    "# pickle로 저장하기\n",
    "import pickle\n",
    "with open('data/ply2ply_als_model.pickle','wb') as fw:\n",
    "    pickle.dump(als_model, fw)"
   ]
  },
  {
   "cell_type": "markdown",
   "id": "95e30bf5-8b50-45cb-a3db-16712cb37176",
   "metadata": {},
   "source": [
    "# model pickle(ply2ply_als_model) 불러오기 + top10 playlist 뽑아보기"
   ]
  },
  {
   "cell_type": "code",
   "execution_count": 91,
   "id": "8c8ba7f0-f721-4491-be9b-7354c72df131",
   "metadata": {},
   "outputs": [
    {
     "data": {
      "text/plain": [
       "[(10000, 0.99999994),\n",
       " (93827, 0.9567366),\n",
       " (82698, 0.9301126),\n",
       " (11951, 0.9267973),\n",
       " (47639, 0.9232885),\n",
       " (27619, 0.92234665),\n",
       " (99261, 0.92189234),\n",
       " (7967, 0.90896934),\n",
       " (96340, 0.9086004),\n",
       " (51419, 0.9085828),\n",
       " (2909, 0.908581)]"
      ]
     },
     "execution_count": 91,
     "metadata": {},
     "output_type": "execute_result"
    }
   ],
   "source": [
    "# model pickle(ply2ply_als_model) 불러오기\n",
    "import pickle\n",
    "with open('data/ply2ply_als_model.pickle','rb') as f:\n",
    "    temp_model = pickle.load(f)\n",
    "\n",
    "# top10\n",
    "temp = temp_model.similar_items(10000,N=11)\n",
    "temp"
   ]
  },
  {
   "cell_type": "code",
   "execution_count": 30,
   "id": "b3b22afd-466a-495f-a82c-a5aae16ba4eb",
   "metadata": {},
   "outputs": [],
   "source": [
    "# # Input 값 확인 \n",
    "# display(df_train.iloc[10000])\n",
    "# display(df_train.iloc[96340])\n",
    "\n",
    "# # DF 비교 확인함\n",
    "# display(df_song.iloc[df_train['songs'][10000]][['song_name','artist_name_basket','song_gn_dtl_gnr_basket']])\n",
    "# display(df_song.iloc[df_train['songs'][93827]][['song_name','artist_name_basket','song_gn_dtl_gnr_basket']])\n",
    "\n",
    "# # 가수가 비슷한 지 확인용\n",
    "# temp_list_input = df_song.iloc[df_train['songs'][22]]['artist_name_basket'].tolist()\n",
    "# temp_list_output = df_song.iloc[df_train['songs'][2006]]['artist_name_basket'].tolist()\n",
    "\n",
    "# # import itertools\n",
    "# # list(itertools.chain.from_iterable(my_list))\n",
    "\n",
    "# import itertools\n",
    "\n",
    "# temp_list_input_flat= list(itertools.chain.from_iterable(temp_list_input))\n",
    "# temp_list_output_flat= list(itertools.chain.from_iterable(temp_list_output))\n",
    "\n",
    "# print(Counter(temp_list_input_flat),'\\n')\n",
    "# print(Counter(temp_list_output_flat))\n",
    "\n",
    "\n",
    "# 유사도가 높은 2가지 dataframe 비교\n",
    "# display(df_song.iloc[df_train['songs'][1]]['artist_name_basket'].tolist())\n",
    "# display(df_song.iloc[df_train['songs'][3]]['artist_name_basket'].tolist())\n",
    "\n",
    "# # 비교한 플레이리스트 {가수 : cnt} 확인하기\n",
    "# temp_list_input = df_song.iloc[df_train['songs'][1]]['artist_name_basket'].tolist()\n",
    "# temp_list_output = df_song.iloc[df_train['songs'][3]]['artist_name_basket'].tolist()\n",
    "\n",
    "# # import itertools\n",
    "# # list(itertools.chain.from_iterable(my_list))\n",
    "\n",
    "# import itertools\n",
    "\n",
    "# temp_list_input_flat= list(itertools.chain.from_iterable(temp_list_input))\n",
    "# temp_list_output_flat= list(itertools.chain.from_iterable(temp_list_output))\n",
    "\n",
    "# print(Counter(temp_list_input_flat),'\\n')\n",
    "# print(Counter(temp_list_output_flat))\n"
   ]
  },
  {
   "cell_type": "markdown",
   "id": "05135c00-1eda-4741-b9f1-b92a1a103a1d",
   "metadata": {},
   "source": [
    "---"
   ]
  },
  {
   "cell_type": "code",
   "execution_count": null,
   "id": "9b7892a1-68d7-4942-b66a-de5c525606c4",
   "metadata": {},
   "outputs": [],
   "source": []
  }
 ],
 "metadata": {
  "kernelspec": {
   "display_name": "Python 3",
   "language": "python",
   "name": "python3"
  },
  "language_info": {
   "codemirror_mode": {
    "name": "ipython",
    "version": 3
   },
   "file_extension": ".py",
   "mimetype": "text/x-python",
   "name": "python",
   "nbconvert_exporter": "python",
   "pygments_lexer": "ipython3",
   "version": "3.9.1"
  },
  "toc": {
   "base_numbering": 1,
   "nav_menu": {},
   "number_sections": true,
   "sideBar": true,
   "skip_h1_title": false,
   "title_cell": "Table of Contents",
   "title_sidebar": "Contents",
   "toc_cell": false,
   "toc_position": {},
   "toc_section_display": true,
   "toc_window_display": false
  },
  "varInspector": {
   "cols": {
    "lenName": 16,
    "lenType": 16,
    "lenVar": 40
   },
   "kernels_config": {
    "python": {
     "delete_cmd_postfix": "",
     "delete_cmd_prefix": "del ",
     "library": "var_list.py",
     "varRefreshCmd": "print(var_dic_list())"
    },
    "r": {
     "delete_cmd_postfix": ") ",
     "delete_cmd_prefix": "rm(",
     "library": "var_list.r",
     "varRefreshCmd": "cat(var_dic_list()) "
    }
   },
   "types_to_exclude": [
    "module",
    "function",
    "builtin_function_or_method",
    "instance",
    "_Feature"
   ],
   "window_display": false
  }
 },
 "nbformat": 4,
 "nbformat_minor": 5
}
