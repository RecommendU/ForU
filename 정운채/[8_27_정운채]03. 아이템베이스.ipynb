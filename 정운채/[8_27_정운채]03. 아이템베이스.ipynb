{
 "cells": [
  {
   "cell_type": "code",
   "execution_count": 4,
   "id": "f4be254b-bd4c-4094-a4e3-63b34b2f2925",
   "metadata": {},
   "outputs": [],
   "source": [
    "import pandas as pd\n",
    "import numpy as np\n",
    "import matplotlib.pyplot as plt\n",
    "from ast import literal_eval\n",
    "from sklearn.feature_extraction.text import TfidfVectorizer\n",
    "from sklearn.feature_extraction.text import CountVectorizer\n",
    "from sklearn.metrics.pairwise import cosine_similarity"
   ]
  },
  {
   "cell_type": "code",
   "execution_count": 8,
   "id": "25f78452-329a-4577-b12e-5045a5b563bf",
   "metadata": {},
   "outputs": [],
   "source": [
    "train = pd.read_json('data/train.json')\n",
    "song_meta = pd.read_json('data/song_meta.json')"
   ]
  },
  {
   "cell_type": "code",
   "execution_count": 10,
   "id": "1afe5a1d-ce70-455f-ae16-22b06b0fbfe9",
   "metadata": {},
   "outputs": [
    {
     "data": {
      "text/html": [
       "<div>\n",
       "<style scoped>\n",
       "    .dataframe tbody tr th:only-of-type {\n",
       "        vertical-align: middle;\n",
       "    }\n",
       "\n",
       "    .dataframe tbody tr th {\n",
       "        vertical-align: top;\n",
       "    }\n",
       "\n",
       "    .dataframe thead th {\n",
       "        text-align: right;\n",
       "    }\n",
       "</style>\n",
       "<table border=\"1\" class=\"dataframe\">\n",
       "  <thead>\n",
       "    <tr style=\"text-align: right;\">\n",
       "      <th></th>\n",
       "      <th>tags</th>\n",
       "      <th>id</th>\n",
       "      <th>plylst_title</th>\n",
       "      <th>songs</th>\n",
       "      <th>like_cnt</th>\n",
       "      <th>updt_date</th>\n",
       "    </tr>\n",
       "  </thead>\n",
       "  <tbody>\n",
       "    <tr>\n",
       "      <th>0</th>\n",
       "      <td>[락]</td>\n",
       "      <td>61281</td>\n",
       "      <td>여행같은 음악</td>\n",
       "      <td>[525514, 129701, 383374, 562083, 297861, 13954...</td>\n",
       "      <td>71</td>\n",
       "      <td>2013-12-19 18:36:19.000</td>\n",
       "    </tr>\n",
       "    <tr>\n",
       "      <th>1</th>\n",
       "      <td>[추억, 회상]</td>\n",
       "      <td>10532</td>\n",
       "      <td>요즘 너 말야</td>\n",
       "      <td>[432406, 675945, 497066, 120377, 389529, 24427...</td>\n",
       "      <td>1</td>\n",
       "      <td>2014-12-02 16:19:42.000</td>\n",
       "    </tr>\n",
       "  </tbody>\n",
       "</table>\n",
       "</div>"
      ],
      "text/plain": [
       "       tags     id plylst_title  \\\n",
       "0       [락]  61281      여행같은 음악   \n",
       "1  [추억, 회상]  10532      요즘 너 말야   \n",
       "\n",
       "                                               songs  like_cnt  \\\n",
       "0  [525514, 129701, 383374, 562083, 297861, 13954...        71   \n",
       "1  [432406, 675945, 497066, 120377, 389529, 24427...         1   \n",
       "\n",
       "                 updt_date  \n",
       "0  2013-12-19 18:36:19.000  \n",
       "1  2014-12-02 16:19:42.000  "
      ]
     },
     "execution_count": 10,
     "metadata": {},
     "output_type": "execute_result"
    }
   ],
   "source": [
    "train.head(2)"
   ]
  },
  {
   "cell_type": "code",
   "execution_count": 12,
   "id": "622f995e-821b-454d-9101-986b610cec96",
   "metadata": {},
   "outputs": [
    {
     "data": {
      "text/html": [
       "<div>\n",
       "<style scoped>\n",
       "    .dataframe tbody tr th:only-of-type {\n",
       "        vertical-align: middle;\n",
       "    }\n",
       "\n",
       "    .dataframe tbody tr th {\n",
       "        vertical-align: top;\n",
       "    }\n",
       "\n",
       "    .dataframe thead th {\n",
       "        text-align: right;\n",
       "    }\n",
       "</style>\n",
       "<table border=\"1\" class=\"dataframe\">\n",
       "  <thead>\n",
       "    <tr style=\"text-align: right;\">\n",
       "      <th></th>\n",
       "      <th>0</th>\n",
       "      <th>1</th>\n",
       "    </tr>\n",
       "  </thead>\n",
       "  <tbody>\n",
       "    <tr>\n",
       "      <th>song_gn_dtl_gnr_basket</th>\n",
       "      <td>[GN0901]</td>\n",
       "      <td>[GN1601, GN1606]</td>\n",
       "    </tr>\n",
       "    <tr>\n",
       "      <th>issue_date</th>\n",
       "      <td>20140512</td>\n",
       "      <td>20080421</td>\n",
       "    </tr>\n",
       "    <tr>\n",
       "      <th>album_name</th>\n",
       "      <td>불후의 명곡 - 7080 추억의 얄개시대 팝송베스트</td>\n",
       "      <td>Bach : Partitas Nos. 2, 3 &amp; 4</td>\n",
       "    </tr>\n",
       "    <tr>\n",
       "      <th>album_id</th>\n",
       "      <td>2255639</td>\n",
       "      <td>376431</td>\n",
       "    </tr>\n",
       "    <tr>\n",
       "      <th>artist_id_basket</th>\n",
       "      <td>[2727]</td>\n",
       "      <td>[29966]</td>\n",
       "    </tr>\n",
       "    <tr>\n",
       "      <th>song_name</th>\n",
       "      <td>Feelings</td>\n",
       "      <td>Bach : Partita No. 4 In D Major, BWV 828 - II....</td>\n",
       "    </tr>\n",
       "    <tr>\n",
       "      <th>song_gn_gnr_basket</th>\n",
       "      <td>[GN0900]</td>\n",
       "      <td>[GN1600]</td>\n",
       "    </tr>\n",
       "    <tr>\n",
       "      <th>artist_name_basket</th>\n",
       "      <td>[Various Artists]</td>\n",
       "      <td>[Murray Perahia]</td>\n",
       "    </tr>\n",
       "    <tr>\n",
       "      <th>id</th>\n",
       "      <td>0</td>\n",
       "      <td>1</td>\n",
       "    </tr>\n",
       "  </tbody>\n",
       "</table>\n",
       "</div>"
      ],
      "text/plain": [
       "                                                   0  \\\n",
       "song_gn_dtl_gnr_basket                      [GN0901]   \n",
       "issue_date                                  20140512   \n",
       "album_name              불후의 명곡 - 7080 추억의 얄개시대 팝송베스트   \n",
       "album_id                                     2255639   \n",
       "artist_id_basket                              [2727]   \n",
       "song_name                                   Feelings   \n",
       "song_gn_gnr_basket                          [GN0900]   \n",
       "artist_name_basket                 [Various Artists]   \n",
       "id                                                 0   \n",
       "\n",
       "                                                                        1  \n",
       "song_gn_dtl_gnr_basket                                   [GN1601, GN1606]  \n",
       "issue_date                                                       20080421  \n",
       "album_name                                  Bach : Partitas Nos. 2, 3 & 4  \n",
       "album_id                                                           376431  \n",
       "artist_id_basket                                                  [29966]  \n",
       "song_name               Bach : Partita No. 4 In D Major, BWV 828 - II....  \n",
       "song_gn_gnr_basket                                               [GN1600]  \n",
       "artist_name_basket                                       [Murray Perahia]  \n",
       "id                                                                      1  "
      ]
     },
     "execution_count": 12,
     "metadata": {},
     "output_type": "execute_result"
    }
   ],
   "source": [
    "song_meta.head(2).T"
   ]
  },
  {
   "cell_type": "code",
   "execution_count": null,
   "id": "2af2828b-c1f6-4513-ba25-770e5d147d35",
   "metadata": {},
   "outputs": [],
   "source": []
  }
 ],
 "metadata": {
  "kernelspec": {
   "display_name": "Python 3",
   "language": "python",
   "name": "python3"
  },
  "language_info": {
   "codemirror_mode": {
    "name": "ipython",
    "version": 3
   },
   "file_extension": ".py",
   "mimetype": "text/x-python",
   "name": "python",
   "nbconvert_exporter": "python",
   "pygments_lexer": "ipython3",
   "version": "3.8.8"
  }
 },
 "nbformat": 4,
 "nbformat_minor": 5
}
