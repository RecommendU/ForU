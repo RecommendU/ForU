{
 "cells": [
  {
   "cell_type": "markdown",
   "id": "f79c364d",
   "metadata": {},
   "source": [
    "# 주제: 플레이리스트와 태그의 세부장르의 빈도의 성격을 알아보자"
   ]
  },
  {
   "cell_type": "markdown",
   "id": "f065061a",
   "metadata": {},
   "source": [
    "# 라이브러리, 데이터 로드"
   ]
  },
  {
   "cell_type": "code",
   "execution_count": 56,
   "id": "0d97cb2a",
   "metadata": {
    "ExecuteTime": {
     "end_time": "2021-11-13T12:48:51.364512Z",
     "start_time": "2021-11-13T12:48:51.348205Z"
    }
   },
   "outputs": [],
   "source": [
    "import json\n",
    "import pandas as pd\n",
    "import numpy as np\n",
    "from datetime import datetime\n",
    "from itertools import chain\n",
    "from collections import Counter,defaultdict\n",
    "import matplotlib.pyplot as plt\n",
    "import seaborn as sns\n",
    "import warnings\n",
    "import matplotlib\n",
    "from scipy.stats import skew,kurtosis\n",
    "from matplotlib import font_manager, rc\n",
    "import squarify\n",
    "warnings.filterwarnings(action='ignore')\n",
    "font_path = \"C:/Windows/Fonts/NGULIM.TTF\"\n",
    "font = font_manager.FontProperties(fname=font_path).get_name()\n",
    "rc('font', family=font)"
   ]
  },
  {
   "cell_type": "code",
   "execution_count": 2,
   "id": "20bd6a60",
   "metadata": {
    "ExecuteTime": {
     "end_time": "2021-11-13T12:22:53.765269Z",
     "start_time": "2021-11-13T12:22:46.059214Z"
    }
   },
   "outputs": [],
   "source": [
    "with open('./data/train.json','r',encoding='utf-8-sig') as f:\n",
    "    playlist_df = pd.DataFrame(json.load(f))\n",
    "    \n",
    "with open('./data/song_meta.json','r',encoding='utf-8-sig') as f:\n",
    "    song_df = pd.DataFrame(json.load(f))\n",
    "    \n",
    "#장르 데이터\n",
    "with open('./data/genre_gn_all.json',encoding='utf-8-sig') as f:\n",
    "    genre_dict = json.load(f)"
   ]
  },
  {
   "cell_type": "markdown",
   "id": "b7caa0f2",
   "metadata": {},
   "source": [
    "# 데이터 전처리"
   ]
  },
  {
   "cell_type": "markdown",
   "id": "e84ba414",
   "metadata": {},
   "source": [
    "## 노래별 세부장르 코드 취합"
   ]
  },
  {
   "cell_type": "code",
   "execution_count": 3,
   "id": "a1026e34",
   "metadata": {
    "ExecuteTime": {
     "end_time": "2021-11-13T12:22:54.419190Z",
     "start_time": "2021-11-13T12:22:53.767213Z"
    }
   },
   "outputs": [],
   "source": [
    "song_id_genre_detail_dict = defaultdict(list)\n",
    "\n",
    "for id,genre_detail in zip(song_df['id'].tolist(),song_df['song_gn_dtl_gnr_basket'].tolist()):\n",
    "    song_id_genre_detail_dict[id].extend(genre_detail)"
   ]
  },
  {
   "cell_type": "markdown",
   "id": "255db40e",
   "metadata": {},
   "source": [
    "## 장르 사전에 없으나 playlist 데이터에는 있는 데이터 처리"
   ]
  },
  {
   "cell_type": "code",
   "execution_count": 4,
   "id": "85d010c5",
   "metadata": {
    "ExecuteTime": {
     "end_time": "2021-11-13T12:22:54.435188Z",
     "start_time": "2021-11-13T12:22:54.422189Z"
    }
   },
   "outputs": [],
   "source": [
    "#genre_dict['GN9000'] = '기타장르'"
   ]
  },
  {
   "cell_type": "markdown",
   "id": "d9037274",
   "metadata": {},
   "source": [
    "## 세부장르에 대장르의 이름 넣어주기 10 -> 발라드_10"
   ]
  },
  {
   "cell_type": "code",
   "execution_count": 5,
   "id": "d644ec1b",
   "metadata": {
    "ExecuteTime": {
     "end_time": "2021-11-13T12:22:54.451189Z",
     "start_time": "2021-11-13T12:22:54.437190Z"
    }
   },
   "outputs": [],
   "source": [
    "genre_big = {}\n",
    "\n",
    "# 모든 장르 딕셔너리를 돌면서\n",
    "for k,v in genre_dict.items():\n",
    "    \n",
    "    # 맨 뒤 두자리가 00이면 대장류로 분류\n",
    "    if k[-2:] == '00':\n",
    "        \n",
    "        # 맨앞 네자리를 키로 하는 대장류 딕셔너리 값 추가\n",
    "        genre_big[k[:4]] = v\n",
    "\n",
    "genre_detail_dict = {}\n",
    "\n",
    "# 모든 딕셔너리를 돌면서\n",
    "for k,v in genre_dict.items():\n",
    "    \n",
    "    # 맨뒤 두자리가 00이 아니면 대장류가 아닌거임!\n",
    "    if k[-2:] != '00':\n",
    "        \n",
    "        # 그럴떈 아까만든 대장르 딕셔너리의 대장류 이름을 추가해서 이름을 수정해서 다시 넣어줌\n",
    "        new_value = genre_big[k[:4]]+'_'+v\n",
    "        genre_detail_dict[k] = new_value\n",
    "        \n",
    "genre_big_dict = {}\n",
    "\n",
    "for k,v in genre_big.items():\n",
    "    genre_big_dict[k+'00'] = v"
   ]
  },
  {
   "cell_type": "markdown",
   "id": "4e8e512c",
   "metadata": {},
   "source": [
    "## 세부장르의 세부장르_전체 데이터 삭제"
   ]
  },
  {
   "cell_type": "code",
   "execution_count": 6,
   "id": "6ab446c0",
   "metadata": {
    "ExecuteTime": {
     "end_time": "2021-11-13T12:22:54.467188Z",
     "start_time": "2021-11-13T12:22:54.453187Z"
    }
   },
   "outputs": [],
   "source": [
    "key_01 = []\n",
    "\n",
    "for k in genre_detail_dict.keys():\n",
    "    if k[-2:] == '01':\n",
    "        key_01.append(k)\n",
    "        \n",
    "result = [genre_detail_dict.pop(key) for key in key_01]"
   ]
  },
  {
   "cell_type": "markdown",
   "id": "039d1008",
   "metadata": {},
   "source": [
    "## 취합 된 노래 별 세부장르 코드 -> 세부장르 이름으로 변경"
   ]
  },
  {
   "cell_type": "code",
   "execution_count": 7,
   "id": "43924783",
   "metadata": {
    "ExecuteTime": {
     "end_time": "2021-11-13T12:22:55.309304Z",
     "start_time": "2021-11-13T12:22:54.469189Z"
    }
   },
   "outputs": [],
   "source": [
    "for k,v in song_id_genre_detail_dict.items():\n",
    "    temp = []\n",
    "    for value in v:\n",
    "        try:\n",
    "            temp.append(genre_detail_dict[value])\n",
    "        except:\n",
    "            pass\n",
    "    song_id_genre_detail_dict[k] = temp"
   ]
  },
  {
   "cell_type": "markdown",
   "id": "8babd3d4",
   "metadata": {},
   "source": [
    "## 플레이리스트 데이터 프레임에 세부장르 별 빈도 칼럼 새로 만들기"
   ]
  },
  {
   "cell_type": "code",
   "execution_count": 8,
   "id": "3cd0ccb0",
   "metadata": {
    "ExecuteTime": {
     "end_time": "2021-11-13T12:23:03.074847Z",
     "start_time": "2021-11-13T12:22:55.311216Z"
    }
   },
   "outputs": [],
   "source": [
    "def genre_fetch(x):\n",
    "    \n",
    "    results = []\n",
    "    \n",
    "    for id in x:\n",
    "        \n",
    "        try:\n",
    "            results.extend(song_id_genre_detail_dict[id])\n",
    "        except:\n",
    "            pass\n",
    "        \n",
    "    return dict(Counter(results))\n",
    "\n",
    "playlist_df['genre_detail'] = playlist_df['songs'].map(genre_fetch)"
   ]
  },
  {
   "cell_type": "markdown",
   "id": "e21c4e43",
   "metadata": {},
   "source": [
    "## 태그 별 빈도수가 16을 넘는 태그에 대해서만 수행"
   ]
  },
  {
   "cell_type": "code",
   "execution_count": 9,
   "id": "3b4df60c",
   "metadata": {
    "ExecuteTime": {
     "end_time": "2021-11-13T12:23:03.425758Z",
     "start_time": "2021-11-13T12:23:03.076754Z"
    }
   },
   "outputs": [],
   "source": [
    "tag_cnt_dict = dict(Counter(chain.from_iterable(playlist_df['tags'].tolist())))\n",
    "playlist_df['tags'] = playlist_df['tags'].map(lambda x : [ tag for tag in x if tag_cnt_dict[tag]>16])"
   ]
  },
  {
   "cell_type": "markdown",
   "id": "99d86b9b",
   "metadata": {},
   "source": [
    "## 태그별로 함께 나온 노래 취합 및 빈도수 연산"
   ]
  },
  {
   "cell_type": "code",
   "execution_count": 10,
   "id": "67de90ed",
   "metadata": {
    "ExecuteTime": {
     "end_time": "2021-11-13T12:23:19.613871Z",
     "start_time": "2021-11-13T12:23:03.429760Z"
    }
   },
   "outputs": [],
   "source": [
    "tag_to_songs_dict = defaultdict(list)\n",
    "\n",
    "for tags,songs in zip(playlist_df['tags'].tolist(),playlist_df['songs']):\n",
    "    for tag in tags:\n",
    "        tag_to_songs_dict[tag].extend(songs)\n",
    "        \n",
    "for k,v in tag_to_songs_dict.items():\n",
    "    tag_to_songs_dict[k] = list(chain.from_iterable([song_id_genre_detail_dict[song] for song in v]))\n",
    "    \n",
    "for k,v in tag_to_songs_dict.items():\n",
    "    tag_to_songs_dict[k] = dict(Counter(v))"
   ]
  },
  {
   "cell_type": "code",
   "execution_count": 11,
   "id": "32c84888",
   "metadata": {
    "ExecuteTime": {
     "end_time": "2021-11-13T12:23:19.645756Z",
     "start_time": "2021-11-13T12:23:19.615756Z"
    }
   },
   "outputs": [
    {
     "data": {
      "text/html": [
       "<div>\n",
       "<style scoped>\n",
       "    .dataframe tbody tr th:only-of-type {\n",
       "        vertical-align: middle;\n",
       "    }\n",
       "\n",
       "    .dataframe tbody tr th {\n",
       "        vertical-align: top;\n",
       "    }\n",
       "\n",
       "    .dataframe thead th {\n",
       "        text-align: right;\n",
       "    }\n",
       "</style>\n",
       "<table border=\"1\" class=\"dataframe\">\n",
       "  <thead>\n",
       "    <tr style=\"text-align: right;\">\n",
       "      <th></th>\n",
       "      <th>tags</th>\n",
       "      <th>id</th>\n",
       "      <th>plylst_title</th>\n",
       "      <th>songs</th>\n",
       "      <th>like_cnt</th>\n",
       "      <th>updt_date</th>\n",
       "      <th>genre_detail</th>\n",
       "    </tr>\n",
       "  </thead>\n",
       "  <tbody>\n",
       "    <tr>\n",
       "      <th>0</th>\n",
       "      <td>[락]</td>\n",
       "      <td>61281</td>\n",
       "      <td>여행같은 음악</td>\n",
       "      <td>[525514, 129701, 383374, 562083, 297861, 13954...</td>\n",
       "      <td>71</td>\n",
       "      <td>2013-12-19 18:36:19.000</td>\n",
       "      <td>{'포크/블루스/컨트리_포크': 3, 'POP_얼터너티브팝': 5, '록/메탈_'9...</td>\n",
       "    </tr>\n",
       "    <tr>\n",
       "      <th>1</th>\n",
       "      <td>[추억, 회상]</td>\n",
       "      <td>10532</td>\n",
       "      <td>요즘 너 말야</td>\n",
       "      <td>[432406, 675945, 497066, 120377, 389529, 24427...</td>\n",
       "      <td>1</td>\n",
       "      <td>2014-12-02 16:19:42.000</td>\n",
       "      <td>{'발라드_'90': 1, '록/메탈_'00': 5, '발라드_'00': 3, '인...</td>\n",
       "    </tr>\n",
       "    <tr>\n",
       "      <th>2</th>\n",
       "      <td>[까페, 잔잔한]</td>\n",
       "      <td>76951</td>\n",
       "      <td>편하게, 잔잔하게 들을 수 있는 곡.-</td>\n",
       "      <td>[83116, 276692, 166267, 186301, 354465, 256598...</td>\n",
       "      <td>17</td>\n",
       "      <td>2017-08-28 07:09:34.000</td>\n",
       "      <td>{'R&amp;B/Soul_R&amp;B': 10, '인디음악_록': 4, '록/메탈_'10-':...</td>\n",
       "    </tr>\n",
       "    <tr>\n",
       "      <th>3</th>\n",
       "      <td>[연말, 눈오는날, 캐럴, 분위기, 따듯한, 겨울노래, 크리스마스, 겨울왕국]</td>\n",
       "      <td>147456</td>\n",
       "      <td>크리스마스 분위기에 흠뻑 취하고 싶을때</td>\n",
       "      <td>[394031, 195524, 540149, 287984, 440773, 10033...</td>\n",
       "      <td>33</td>\n",
       "      <td>2019-12-05 15:15:18.000</td>\n",
       "      <td>{'POP_'10-': 1, 'OST_애니메이션/웹툰': 3, '어린이/태교_만화'...</td>\n",
       "    </tr>\n",
       "    <tr>\n",
       "      <th>4</th>\n",
       "      <td>[댄스]</td>\n",
       "      <td>27616</td>\n",
       "      <td>추억의 노래 ㅋ</td>\n",
       "      <td>[159327, 553610, 5130, 645103, 294435, 100657,...</td>\n",
       "      <td>9</td>\n",
       "      <td>2011-10-25 13:54:56.000</td>\n",
       "      <td>{'발라드_'90': 3, '아이돌_남자 아이돌': 8, '아이돌_댄스': 13, ...</td>\n",
       "    </tr>\n",
       "  </tbody>\n",
       "</table>\n",
       "</div>"
      ],
      "text/plain": [
       "                                          tags      id           plylst_title  \\\n",
       "0                                          [락]   61281                여행같은 음악   \n",
       "1                                     [추억, 회상]   10532                요즘 너 말야   \n",
       "2                                    [까페, 잔잔한]   76951  편하게, 잔잔하게 들을 수 있는 곡.-   \n",
       "3  [연말, 눈오는날, 캐럴, 분위기, 따듯한, 겨울노래, 크리스마스, 겨울왕국]  147456  크리스마스 분위기에 흠뻑 취하고 싶을때   \n",
       "4                                         [댄스]   27616               추억의 노래 ㅋ   \n",
       "\n",
       "                                               songs  like_cnt  \\\n",
       "0  [525514, 129701, 383374, 562083, 297861, 13954...        71   \n",
       "1  [432406, 675945, 497066, 120377, 389529, 24427...         1   \n",
       "2  [83116, 276692, 166267, 186301, 354465, 256598...        17   \n",
       "3  [394031, 195524, 540149, 287984, 440773, 10033...        33   \n",
       "4  [159327, 553610, 5130, 645103, 294435, 100657,...         9   \n",
       "\n",
       "                 updt_date                                       genre_detail  \n",
       "0  2013-12-19 18:36:19.000  {'포크/블루스/컨트리_포크': 3, 'POP_얼터너티브팝': 5, '록/메탈_'9...  \n",
       "1  2014-12-02 16:19:42.000  {'발라드_'90': 1, '록/메탈_'00': 5, '발라드_'00': 3, '인...  \n",
       "2  2017-08-28 07:09:34.000  {'R&B/Soul_R&B': 10, '인디음악_록': 4, '록/메탈_'10-':...  \n",
       "3  2019-12-05 15:15:18.000  {'POP_'10-': 1, 'OST_애니메이션/웹툰': 3, '어린이/태교_만화'...  \n",
       "4  2011-10-25 13:54:56.000  {'발라드_'90': 3, '아이돌_남자 아이돌': 8, '아이돌_댄스': 13, ...  "
      ]
     },
     "execution_count": 11,
     "metadata": {},
     "output_type": "execute_result"
    }
   ],
   "source": [
    "playlist_df.head()"
   ]
  },
  {
   "cell_type": "markdown",
   "id": "d0a37f4f",
   "metadata": {},
   "source": [
    "# 플레이리스트 속 장르의 구성은 편향되어 있을까?"
   ]
  },
  {
   "cell_type": "markdown",
   "id": "5ee222a5",
   "metadata": {},
   "source": [
    "## 단일 플레이리스트에 대해서 파이차트 그려보기"
   ]
  },
  {
   "cell_type": "code",
   "execution_count": 12,
   "id": "7e1b1c20",
   "metadata": {
    "ExecuteTime": {
     "end_time": "2021-11-13T12:23:19.661755Z",
     "start_time": "2021-11-13T12:23:19.646756Z"
    }
   },
   "outputs": [],
   "source": [
    "def draw_pie_chart(playlist_dict):\n",
    "    plt.figsize = (20,20)\n",
    "    ratio = [value/sum(list(playlist_dict.values()))for value in list(playlist_dict.values())]\n",
    "    labels = list(playlist_dict.keys())\n",
    "    best_index = ratio.index(max(ratio))\n",
    "    explode = np.zeros(len(playlist_dict))\n",
    "    explode[best_index] = 0.2\n",
    "    plt.pie(ratio, labels=labels, autopct='%.1f%%', startangle=260, counterclock=False, explode=explode)\n",
    "    plt.show()\n",
    "    plt.close()"
   ]
  },
  {
   "cell_type": "code",
   "execution_count": 13,
   "id": "2a0f3c17",
   "metadata": {
    "ExecuteTime": {
     "end_time": "2021-11-13T12:23:20.025845Z",
     "start_time": "2021-11-13T12:23:19.663758Z"
    }
   },
   "outputs": [
    {
     "data": {
      "image/png": "[encoded data removed]",
      "text/plain": [
       "<Figure size 432x288 with 1 Axes>"
      ]
     },
     "metadata": {},
     "output_type": "display_data"
    }
   ],
   "source": [
    "# 50번플레이리스트의 세부 장르 구성\n",
    "draw_pie_chart(playlist_df['genre_detail'][50])"
   ]
  },
  {
   "cell_type": "markdown",
   "id": "910c0d76",
   "metadata": {},
   "source": [
    "## 단일 플레이리스트 데이터와 정규분포 비교"
   ]
  },
  {
   "cell_type": "code",
   "execution_count": 51,
   "id": "38064d91",
   "metadata": {
    "ExecuteTime": {
     "end_time": "2021-11-13T12:40:31.417477Z",
     "start_time": "2021-11-13T12:40:31.294401Z"
    }
   },
   "outputs": [
    {
     "data": {
      "image/png": "[encoded data removed]",
      "text/plain": [
       "<Figure size 432x288 with 1 Axes>"
      ]
     },
     "metadata": {
      "needs_background": "light"
     },
     "output_type": "display_data"
    }
   ],
   "source": [
    "def draw_playlist_kedplot(playlist_id):\n",
    "    playlist_cnt = list(playlist_df['genre_detail'][playlist_id].values())\n",
    "    playlist_kurtosis_std = np.nanstd(playlist_cnt)\n",
    "    playlist_kurtosis_mean = np.nanmean(playlist_cnt)\n",
    "    playlist_len = len(playlist_df['genre_detail'][playlist_id])\n",
    "    playlist_norm = np.random.normal(loc=playlist_kurtosis_mean,scale=playlist_kurtosis_std,size=playlist_len)\n",
    "    \n",
    "    playlist_view_data = pd.DataFrame({'플레이리스트':playlist_cnt,'정규':playlist_norm})\n",
    "    \n",
    "    playlist = sns.kdeplot(data=playlist_view_data,shade=True)\n",
    "    playlist.set_xlabel('세부장르 빈도')\n",
    "\n",
    "    plt.show()\n",
    "    \n",
    "draw_playlist_kedplot(50)"
   ]
  },
  {
   "cell_type": "markdown",
   "id": "e63c1238",
   "metadata": {},
   "source": [
    "## 플레이리스트별 세부장르 구성의 첨도 칼럼생성"
   ]
  },
  {
   "cell_type": "code",
   "execution_count": 14,
   "id": "0736cc98",
   "metadata": {
    "ExecuteTime": {
     "end_time": "2021-11-13T12:23:31.513890Z",
     "start_time": "2021-11-13T12:23:20.027756Z"
    }
   },
   "outputs": [
    {
     "data": {
      "text/html": [
       "<div>\n",
       "<style scoped>\n",
       "    .dataframe tbody tr th:only-of-type {\n",
       "        vertical-align: middle;\n",
       "    }\n",
       "\n",
       "    .dataframe tbody tr th {\n",
       "        vertical-align: top;\n",
       "    }\n",
       "\n",
       "    .dataframe thead th {\n",
       "        text-align: right;\n",
       "    }\n",
       "</style>\n",
       "<table border=\"1\" class=\"dataframe\">\n",
       "  <thead>\n",
       "    <tr style=\"text-align: right;\">\n",
       "      <th></th>\n",
       "      <th>tags</th>\n",
       "      <th>id</th>\n",
       "      <th>plylst_title</th>\n",
       "      <th>songs</th>\n",
       "      <th>like_cnt</th>\n",
       "      <th>updt_date</th>\n",
       "      <th>genre_detail</th>\n",
       "      <th>genre_kurtosis</th>\n",
       "    </tr>\n",
       "  </thead>\n",
       "  <tbody>\n",
       "    <tr>\n",
       "      <th>0</th>\n",
       "      <td>[락]</td>\n",
       "      <td>61281</td>\n",
       "      <td>여행같은 음악</td>\n",
       "      <td>[525514, 129701, 383374, 562083, 297861, 13954...</td>\n",
       "      <td>71</td>\n",
       "      <td>2013-12-19 18:36:19.000</td>\n",
       "      <td>{'포크/블루스/컨트리_포크': 3, 'POP_얼터너티브팝': 5, '록/메탈_'9...</td>\n",
       "      <td>0.279763</td>\n",
       "    </tr>\n",
       "    <tr>\n",
       "      <th>1</th>\n",
       "      <td>[추억, 회상]</td>\n",
       "      <td>10532</td>\n",
       "      <td>요즘 너 말야</td>\n",
       "      <td>[432406, 675945, 497066, 120377, 389529, 24427...</td>\n",
       "      <td>1</td>\n",
       "      <td>2014-12-02 16:19:42.000</td>\n",
       "      <td>{'발라드_'90': 1, '록/메탈_'00': 5, '발라드_'00': 3, '인...</td>\n",
       "      <td>-0.979592</td>\n",
       "    </tr>\n",
       "    <tr>\n",
       "      <th>2</th>\n",
       "      <td>[까페, 잔잔한]</td>\n",
       "      <td>76951</td>\n",
       "      <td>편하게, 잔잔하게 들을 수 있는 곡.-</td>\n",
       "      <td>[83116, 276692, 166267, 186301, 354465, 256598...</td>\n",
       "      <td>17</td>\n",
       "      <td>2017-08-28 07:09:34.000</td>\n",
       "      <td>{'R&amp;B/Soul_R&amp;B': 10, '인디음악_록': 4, '록/메탈_'10-':...</td>\n",
       "      <td>0.380838</td>\n",
       "    </tr>\n",
       "    <tr>\n",
       "      <th>3</th>\n",
       "      <td>[연말, 눈오는날, 캐럴, 분위기, 따듯한, 겨울노래, 크리스마스, 겨울왕국]</td>\n",
       "      <td>147456</td>\n",
       "      <td>크리스마스 분위기에 흠뻑 취하고 싶을때</td>\n",
       "      <td>[394031, 195524, 540149, 287984, 440773, 10033...</td>\n",
       "      <td>33</td>\n",
       "      <td>2019-12-05 15:15:18.000</td>\n",
       "      <td>{'POP_'10-': 1, 'OST_애니메이션/웹툰': 3, '어린이/태교_만화'...</td>\n",
       "      <td>1.036531</td>\n",
       "    </tr>\n",
       "    <tr>\n",
       "      <th>4</th>\n",
       "      <td>[댄스]</td>\n",
       "      <td>27616</td>\n",
       "      <td>추억의 노래 ㅋ</td>\n",
       "      <td>[159327, 553610, 5130, 645103, 294435, 100657,...</td>\n",
       "      <td>9</td>\n",
       "      <td>2011-10-25 13:54:56.000</td>\n",
       "      <td>{'발라드_'90': 3, '아이돌_남자 아이돌': 8, '아이돌_댄스': 13, ...</td>\n",
       "      <td>3.310724</td>\n",
       "    </tr>\n",
       "  </tbody>\n",
       "</table>\n",
       "</div>"
      ],
      "text/plain": [
       "                                          tags      id           plylst_title  \\\n",
       "0                                          [락]   61281                여행같은 음악   \n",
       "1                                     [추억, 회상]   10532                요즘 너 말야   \n",
       "2                                    [까페, 잔잔한]   76951  편하게, 잔잔하게 들을 수 있는 곡.-   \n",
       "3  [연말, 눈오는날, 캐럴, 분위기, 따듯한, 겨울노래, 크리스마스, 겨울왕국]  147456  크리스마스 분위기에 흠뻑 취하고 싶을때   \n",
       "4                                         [댄스]   27616               추억의 노래 ㅋ   \n",
       "\n",
       "                                               songs  like_cnt  \\\n",
       "0  [525514, 129701, 383374, 562083, 297861, 13954...        71   \n",
       "1  [432406, 675945, 497066, 120377, 389529, 24427...         1   \n",
       "2  [83116, 276692, 166267, 186301, 354465, 256598...        17   \n",
       "3  [394031, 195524, 540149, 287984, 440773, 10033...        33   \n",
       "4  [159327, 553610, 5130, 645103, 294435, 100657,...         9   \n",
       "\n",
       "                 updt_date                                       genre_detail  \\\n",
       "0  2013-12-19 18:36:19.000  {'포크/블루스/컨트리_포크': 3, 'POP_얼터너티브팝': 5, '록/메탈_'9...   \n",
       "1  2014-12-02 16:19:42.000  {'발라드_'90': 1, '록/메탈_'00': 5, '발라드_'00': 3, '인...   \n",
       "2  2017-08-28 07:09:34.000  {'R&B/Soul_R&B': 10, '인디음악_록': 4, '록/메탈_'10-':...   \n",
       "3  2019-12-05 15:15:18.000  {'POP_'10-': 1, 'OST_애니메이션/웹툰': 3, '어린이/태교_만화'...   \n",
       "4  2011-10-25 13:54:56.000  {'발라드_'90': 3, '아이돌_남자 아이돌': 8, '아이돌_댄스': 13, ...   \n",
       "\n",
       "   genre_kurtosis  \n",
       "0        0.279763  \n",
       "1       -0.979592  \n",
       "2        0.380838  \n",
       "3        1.036531  \n",
       "4        3.310724  "
      ]
     },
     "execution_count": 14,
     "metadata": {},
     "output_type": "execute_result"
    }
   ],
   "source": [
    "playlist_df['genre_kurtosis'] = playlist_df['genre_detail'].map(lambda x : kurtosis(list(x.values())))\n",
    "playlist_df.head()"
   ]
  },
  {
   "cell_type": "markdown",
   "id": "2541e791",
   "metadata": {
    "ExecuteTime": {
     "end_time": "2021-11-13T10:42:44.280215Z",
     "start_time": "2021-11-13T10:42:44.222539Z"
    }
   },
   "source": [
    "## 과연 첨도가 3이 넘는 플레이리스트는 몇 퍼센트?"
   ]
  },
  {
   "cell_type": "code",
   "execution_count": 60,
   "id": "92636666",
   "metadata": {
    "ExecuteTime": {
     "end_time": "2021-11-13T12:51:52.493252Z",
     "start_time": "2021-11-13T12:51:52.469250Z"
    }
   },
   "outputs": [
    {
     "name": "stdout",
     "output_type": "stream",
     "text": [
      "세부장르의 빈도 분포의 첨도가 3 이상인 플레이리스트는 전체에서 약 20.54% 입니다. \n"
     ]
    }
   ],
   "source": [
    "playlist_over3 = len(playlist_df[playlist_df['genre_kurtosis'] >= 3]) / len(playlist_df)\n",
    "print(f'세부장르의 빈도 분포의 첨도가 3 이상인 플레이리스트는 전체에서 약 {np.round(playlist_over3*100,2)}% 입니다. ')"
   ]
  },
  {
   "cell_type": "code",
   "execution_count": 61,
   "id": "82fdb4e3",
   "metadata": {
    "ExecuteTime": {
     "end_time": "2021-11-13T12:51:52.931858Z",
     "start_time": "2021-11-13T12:51:52.895948Z"
    }
   },
   "outputs": [
    {
     "name": "stdout",
     "output_type": "stream",
     "text": [
      "세부장르의 빈도 분포의 첨도가 3 미만인 플레이리스트는 전체에서 약 79.1% 입니다. \n"
     ]
    }
   ],
   "source": [
    "playlist_less3 = len(playlist_df[playlist_df['genre_kurtosis'] < 3]) / len(playlist_df)\n",
    "print(f'세부장르의 빈도 분포의 첨도가 3 미만인 플레이리스트는 전체에서 약 {np.round(playlist_less3*100,2)}% 입니다. ')"
   ]
  },
  {
   "cell_type": "markdown",
   "id": "972c4595",
   "metadata": {},
   "source": [
    "## 전체 데이터 시각화"
   ]
  },
  {
   "cell_type": "code",
   "execution_count": 62,
   "id": "0c627477",
   "metadata": {
    "ExecuteTime": {
     "end_time": "2021-11-13T12:52:04.798148Z",
     "start_time": "2021-11-13T12:52:04.701137Z"
    }
   },
   "outputs": [
    {
     "data": {
      "image/png": "[encoded data removed]",
      "text/plain": [
       "<Figure size 640x480 with 1 Axes>"
      ]
     },
     "metadata": {},
     "output_type": "display_data"
    }
   ],
   "source": [
    "plt.style.use('default')\n",
    "plt.rcParams['font.size'] = 12\n",
    "\n",
    "sizes = [playlist_over3,playlist_less3]\n",
    "labels= ['High_Kurtosis', 'Low_Kurtosis']\n",
    "\n",
    "squarify.plot(sizes, 10, 10, label=labels)\n",
    "plt.show()"
   ]
  },
  {
   "cell_type": "markdown",
   "id": "e5f7eecb",
   "metadata": {},
   "source": [
    "## 결론\n",
    "\n",
    "- 플레이리스트 별 세부장르의 수 자체가 적기 때문에 분포를 자세히 확인하기 어렵지만, 플레이리스트 별 세부장르의 점유율은 꽤 고른분포를 보인다"
   ]
  },
  {
   "cell_type": "markdown",
   "id": "5d2b4304",
   "metadata": {},
   "source": [
    "# 태그별 세부장르의 구성은 편향되어 있을까?"
   ]
  },
  {
   "cell_type": "markdown",
   "id": "95d76fca",
   "metadata": {},
   "source": [
    "## 단일 태그 데이터에 대해서 파이차트 그려보기"
   ]
  },
  {
   "cell_type": "code",
   "execution_count": 44,
   "id": "3d34e1b2",
   "metadata": {
    "ExecuteTime": {
     "end_time": "2021-11-13T12:36:38.904006Z",
     "start_time": "2021-11-13T12:36:37.558006Z"
    }
   },
   "outputs": [
    {
     "data": {
      "image/png": "[encoded data removed]",
      "text/plain": [
       "<Figure size 432x288 with 1 Axes>"
      ]
     },
     "metadata": {},
     "output_type": "display_data"
    }
   ],
   "source": [
    "draw_pie_chart(tag_to_songs_dict['아이유'])"
   ]
  },
  {
   "cell_type": "markdown",
   "id": "dde32d4c",
   "metadata": {},
   "source": [
    "## 단일 태그 데이터와 정규분포 그래프 분포 비교"
   ]
  },
  {
   "cell_type": "code",
   "execution_count": 43,
   "id": "08e445b9",
   "metadata": {
    "ExecuteTime": {
     "end_time": "2021-11-13T12:36:33.448052Z",
     "start_time": "2021-11-13T12:36:33.329135Z"
    }
   },
   "outputs": [
    {
     "data": {
      "image/png": "[encoded data removed]",
      "text/plain": [
       "<Figure size 432x288 with 1 Axes>"
      ]
     },
     "metadata": {
      "needs_background": "light"
     },
     "output_type": "display_data"
    }
   ],
   "source": [
    "def draw_tag_kedplot(tag_name):\n",
    "    tag_cnt = list(tag_to_songs_dict[tag_name].values())\n",
    "    tag_kurtosis_std = np.nanstd(tag_cnt)\n",
    "    tag_kurtosis_mean = np.nanmean(tag_cnt)\n",
    "    tag_len = len(tag_to_songs_dict[tag_name])\n",
    "    tag_norm = np.random.normal(loc=tag_kurtosis_mean,scale=tag_kurtosis_std,size=tag_len)\n",
    "    \n",
    "    tag_view_data = pd.DataFrame({'태그':tag_cnt,'정규':tag_norm})\n",
    "    \n",
    "    tag = sns.kdeplot(data=tag_view_data,shade=True)\n",
    "    tag.set_xlabel('세부장르 빈도')\n",
    "\n",
    "    plt.show()\n",
    "    \n",
    "draw_tag_kedplot('아이유')"
   ]
  },
  {
   "cell_type": "markdown",
   "id": "d6ec68cc",
   "metadata": {},
   "source": [
    "## 태그별 세부장르 분포 첨도 구하고 단일 데이터 확인"
   ]
  },
  {
   "cell_type": "code",
   "execution_count": 20,
   "id": "af71d2f5",
   "metadata": {
    "ExecuteTime": {
     "end_time": "2021-11-13T12:23:34.971844Z",
     "start_time": "2021-11-13T12:23:34.753757Z"
    }
   },
   "outputs": [],
   "source": [
    "tag_kurtosis = {}\n",
    "\n",
    "for k,v in tag_to_songs_dict.items():\n",
    "    tag_kurtosis[k] = kurtosis(list(tag_to_songs_dict[k].values()))"
   ]
  },
  {
   "cell_type": "code",
   "execution_count": 21,
   "id": "5d072245",
   "metadata": {
    "ExecuteTime": {
     "end_time": "2021-11-13T12:23:34.987839Z",
     "start_time": "2021-11-13T12:23:34.973759Z"
    }
   },
   "outputs": [
    {
     "data": {
      "text/plain": [
       "52.06521626263427"
      ]
     },
     "execution_count": 21,
     "metadata": {},
     "output_type": "execute_result"
    }
   ],
   "source": [
    "tag_kurtosis['락']"
   ]
  },
  {
   "cell_type": "markdown",
   "id": "6ab86c68",
   "metadata": {},
   "source": [
    "## 과연 첨도가 3이 넘는 태그는 몇 퍼센트?"
   ]
  },
  {
   "cell_type": "code",
   "execution_count": 22,
   "id": "7a2f6ab6",
   "metadata": {
    "ExecuteTime": {
     "end_time": "2021-11-13T12:23:35.003756Z",
     "start_time": "2021-11-13T12:23:34.989756Z"
    }
   },
   "outputs": [],
   "source": [
    "kurtosis_over3 = 0\n",
    "kurtosis_less3 = 0\n",
    "\n",
    "for kurtosis in list(tag_kurtosis.values()):\n",
    "    if kurtosis >=3:\n",
    "        kurtosis_over3+=1\n",
    "    else:\n",
    "        kurtosis_less3+=1"
   ]
  },
  {
   "cell_type": "code",
   "execution_count": 23,
   "id": "e90219ff",
   "metadata": {
    "ExecuteTime": {
     "end_time": "2021-11-13T12:23:35.019775Z",
     "start_time": "2021-11-13T12:23:35.005757Z"
    }
   },
   "outputs": [
    {
     "name": "stdout",
     "output_type": "stream",
     "text": [
      "세부장르의 빈도 분포의 첨도가 3 이상인 태그는 전체에서 약 94.06% 입니다. \n"
     ]
    }
   ],
   "source": [
    "over3_per = kurtosis_over3 / len(tag_kurtosis)\n",
    "print(f'세부장르의 빈도 분포의 첨도가 3 이상인 태그는 전체에서 약 {np.round(over3_per*100,2)}% 입니다. ')"
   ]
  },
  {
   "cell_type": "code",
   "execution_count": 24,
   "id": "ceb9bfcc",
   "metadata": {
    "ExecuteTime": {
     "end_time": "2021-11-13T12:23:35.035764Z",
     "start_time": "2021-11-13T12:23:35.021757Z"
    }
   },
   "outputs": [
    {
     "name": "stdout",
     "output_type": "stream",
     "text": [
      "세부장르의 빈도 분포의 첨도가 3 이상인 태그는 전체에서 약 5.94% 입니다. \n"
     ]
    }
   ],
   "source": [
    "less3_per = kurtosis_less3/len(tag_kurtosis)\n",
    "print(f'세부장르의 빈도 분포의 첨도가 3 이상인 태그는 전체에서 약 {np.round(less3_per*100,2)}% 입니다. ')"
   ]
  },
  {
   "cell_type": "markdown",
   "id": "4d08e8e6",
   "metadata": {},
   "source": [
    "## 전체 태그 데이터 시각화"
   ]
  },
  {
   "cell_type": "code",
   "execution_count": 59,
   "id": "2e0c41c7",
   "metadata": {
    "ExecuteTime": {
     "end_time": "2021-11-13T12:49:26.100460Z",
     "start_time": "2021-11-13T12:49:25.993518Z"
    }
   },
   "outputs": [
    {
     "data": {
      "image/png": "[encoded data removed]",
      "text/plain": [
       "<Figure size 640x480 with 1 Axes>"
      ]
     },
     "metadata": {},
     "output_type": "display_data"
    }
   ],
   "source": [
    "plt.style.use('default')\n",
    "plt.rcParams['font.size'] = 12\n",
    "\n",
    "sizes = [kurtosis_over3,kurtosis_less3]\n",
    "labels= ['High_Kurtosis', 'Low_Kurtosis']\n",
    "\n",
    "squarify.plot(sizes, 10, 10, label=labels)\n",
    "plt.show()"
   ]
  },
  {
   "cell_type": "markdown",
   "id": "c09887c7",
   "metadata": {},
   "source": [
    "## 결론 \n",
    "\n",
    " - 태그에 대한 세부장르의 분포는 전체적으로 특정 세부장르에 치우쳐 있다"
   ]
  }
 ],
 "metadata": {
  "kernelspec": {
   "display_name": "Python 3 (ipykernel)",
   "language": "python",
   "name": "python3"
  },
  "language_info": {
   "codemirror_mode": {
    "name": "ipython",
    "version": 3
   },
   "file_extension": ".py",
   "mimetype": "text/x-python",
   "name": "python",
   "nbconvert_exporter": "python",
   "pygments_lexer": "ipython3",
   "version": "3.9.6"
  },
  "toc": {
   "base_numbering": 1,
   "nav_menu": {},
   "number_sections": true,
   "sideBar": true,
   "skip_h1_title": false,
   "title_cell": "Table of Contents",
   "title_sidebar": "Contents",
   "toc_cell": false,
   "toc_position": {},
   "toc_section_display": true,
   "toc_window_display": false
  }
 },
 "nbformat": 4,
 "nbformat_minor": 5
}
