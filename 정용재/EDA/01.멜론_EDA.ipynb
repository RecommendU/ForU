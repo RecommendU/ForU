{
 "cells": [
  {
   "cell_type": "code",
   "execution_count": 1,
   "id": "hawaiian-apartment",
   "metadata": {
    "ExecuteTime": {
     "end_time": "2021-08-21T04:49:41.714634Z",
     "start_time": "2021-08-21T04:49:39.774902Z"
    }
   },
   "outputs": [],
   "source": [
    "import json\n",
    "import os\n",
    "import pandas as pd\n",
    "import seaborn as sns\n",
    "import matplotlib.pyplot as plt\n",
    "import collections\n",
    "from sklearn.preprocessing import QuantileTransformer\n",
    "plt.rc(\"font\", family = \"Malgun Gothic\")\n",
    "plt.rc(\"axes\", unicode_minus = False)\n",
    "plt.rcParams[\"figure.figsize\"] = (14,8)\n",
    "plt.rcParams['lines.color'] = 'r'\n",
    "plt.rcParams['axes.grid'] = True "
   ]
  },
  {
   "cell_type": "markdown",
   "id": "fleet-breast",
   "metadata": {},
   "source": [
    "# Train EDA"
   ]
  },
  {
   "cell_type": "code",
   "execution_count": 2,
   "id": "filled-surfing",
   "metadata": {
    "ExecuteTime": {
     "end_time": "2021-08-21T04:49:43.039499Z",
     "start_time": "2021-08-21T04:49:41.715616Z"
    }
   },
   "outputs": [
    {
     "data": {
      "text/html": [
       "<div>\n",
       "<style scoped>\n",
       "    .dataframe tbody tr th:only-of-type {\n",
       "        vertical-align: middle;\n",
       "    }\n",
       "\n",
       "    .dataframe tbody tr th {\n",
       "        vertical-align: top;\n",
       "    }\n",
       "\n",
       "    .dataframe thead th {\n",
       "        text-align: right;\n",
       "    }\n",
       "</style>\n",
       "<table border=\"1\" class=\"dataframe\">\n",
       "  <thead>\n",
       "    <tr style=\"text-align: right;\">\n",
       "      <th></th>\n",
       "      <th>tags</th>\n",
       "      <th>id</th>\n",
       "      <th>plylst_title</th>\n",
       "      <th>songs</th>\n",
       "      <th>like_cnt</th>\n",
       "      <th>updt_date</th>\n",
       "    </tr>\n",
       "  </thead>\n",
       "  <tbody>\n",
       "    <tr>\n",
       "      <th>0</th>\n",
       "      <td>[락]</td>\n",
       "      <td>61281</td>\n",
       "      <td>여행같은 음악</td>\n",
       "      <td>[525514, 129701, 383374, 562083, 297861, 13954...</td>\n",
       "      <td>71</td>\n",
       "      <td>2013-12-19 18:36:19.000</td>\n",
       "    </tr>\n",
       "    <tr>\n",
       "      <th>1</th>\n",
       "      <td>[추억, 회상]</td>\n",
       "      <td>10532</td>\n",
       "      <td>요즘 너 말야</td>\n",
       "      <td>[432406, 675945, 497066, 120377, 389529, 24427...</td>\n",
       "      <td>1</td>\n",
       "      <td>2014-12-02 16:19:42.000</td>\n",
       "    </tr>\n",
       "    <tr>\n",
       "      <th>2</th>\n",
       "      <td>[까페, 잔잔한]</td>\n",
       "      <td>76951</td>\n",
       "      <td>편하게, 잔잔하게 들을 수 있는 곡.-</td>\n",
       "      <td>[83116, 276692, 166267, 186301, 354465, 256598...</td>\n",
       "      <td>17</td>\n",
       "      <td>2017-08-28 07:09:34.000</td>\n",
       "    </tr>\n",
       "  </tbody>\n",
       "</table>\n",
       "</div>"
      ],
      "text/plain": [
       "        tags     id           plylst_title  \\\n",
       "0        [락]  61281                여행같은 음악   \n",
       "1   [추억, 회상]  10532                요즘 너 말야   \n",
       "2  [까페, 잔잔한]  76951  편하게, 잔잔하게 들을 수 있는 곡.-   \n",
       "\n",
       "                                               songs  like_cnt  \\\n",
       "0  [525514, 129701, 383374, 562083, 297861, 13954...        71   \n",
       "1  [432406, 675945, 497066, 120377, 389529, 24427...         1   \n",
       "2  [83116, 276692, 166267, 186301, 354465, 256598...        17   \n",
       "\n",
       "                 updt_date  \n",
       "0  2013-12-19 18:36:19.000  \n",
       "1  2014-12-02 16:19:42.000  \n",
       "2  2017-08-28 07:09:34.000  "
      ]
     },
     "execution_count": 2,
     "metadata": {},
     "output_type": "execute_result"
    }
   ],
   "source": [
    "base_dir = 'data'\n",
    "\n",
    "with open(os.path.join(base_dir,'train.json'),encoding='utf-8') as f:\n",
    "    train = json.load(f)\n",
    "    \n",
    "train_df = pd.DataFrame(train)\n",
    "train_df.head(3)"
   ]
  },
  {
   "cell_type": "markdown",
   "id": "indie-gasoline",
   "metadata": {},
   "source": [
    "\n",
    "## Train.tags\n",
    "\n",
    "- 1. 결측치 확인\n",
    "- 2. 모든 tag의 가짓수와 빈도수 ==> 중복제거 및 word vector로 변환할 내용 파악\n",
    "- 3. 자연어 처리, 감성 분석 고민 "
   ]
  },
  {
   "cell_type": "markdown",
   "id": "increasing-fundamental",
   "metadata": {},
   "source": [
    "### Train.tags 결측치 확인"
   ]
  },
  {
   "cell_type": "code",
   "execution_count": 3,
   "id": "tight-hygiene",
   "metadata": {
    "ExecuteTime": {
     "end_time": "2021-08-21T04:49:43.071226Z",
     "start_time": "2021-08-21T04:49:43.040493Z"
    }
   },
   "outputs": [
    {
     "data": {
      "text/plain": [
       "tags    0\n",
       "dtype: int64"
      ]
     },
     "execution_count": 3,
     "metadata": {},
     "output_type": "execute_result"
    }
   ],
   "source": [
    "train_df[['tags']].isna().sum()"
   ]
  },
  {
   "cell_type": "markdown",
   "id": "impossible-excitement",
   "metadata": {
    "ExecuteTime": {
     "end_time": "2021-08-20T01:54:37.236933Z",
     "start_time": "2021-08-20T01:54:37.222933Z"
    }
   },
   "source": [
    "### Train.tags 단어별 빈도수"
   ]
  },
  {
   "cell_type": "code",
   "execution_count": 4,
   "id": "thorough-still",
   "metadata": {
    "ExecuteTime": {
     "end_time": "2021-08-21T04:49:43.194652Z",
     "start_time": "2021-08-21T04:49:43.072409Z"
    },
    "cell_style": "center"
   },
   "outputs": [],
   "source": [
    "tag_total = []\n",
    "\n",
    "train_df['tags'].map(lambda x : tag_total.extend(x))\n",
    "\n",
    "tag_count = collections.Counter(tag_total)\n",
    "\n",
    "tag_count_df = pd.DataFrame.from_dict(tag_count, orient='index').sort_values(by=0,ascending=False)\n",
    "\n",
    "tag_count_df.columns = ['Count']"
   ]
  },
  {
   "cell_type": "code",
   "execution_count": 5,
   "id": "fourth-abraham",
   "metadata": {
    "ExecuteTime": {
     "end_time": "2021-08-21T04:49:43.225881Z",
     "start_time": "2021-08-21T04:49:43.195727Z"
    },
    "cell_style": "split"
   },
   "outputs": [
    {
     "data": {
      "text/html": [
       "<div>\n",
       "<style scoped>\n",
       "    .dataframe tbody tr th:only-of-type {\n",
       "        vertical-align: middle;\n",
       "    }\n",
       "\n",
       "    .dataframe tbody tr th {\n",
       "        vertical-align: top;\n",
       "    }\n",
       "\n",
       "    .dataframe thead th {\n",
       "        text-align: right;\n",
       "    }\n",
       "</style>\n",
       "<table border=\"1\" class=\"dataframe\">\n",
       "  <thead>\n",
       "    <tr style=\"text-align: right;\">\n",
       "      <th></th>\n",
       "      <th>Count</th>\n",
       "    </tr>\n",
       "  </thead>\n",
       "  <tbody>\n",
       "    <tr>\n",
       "      <th>count</th>\n",
       "      <td>29160.000000</td>\n",
       "    </tr>\n",
       "    <tr>\n",
       "      <th>mean</th>\n",
       "      <td>16.335082</td>\n",
       "    </tr>\n",
       "    <tr>\n",
       "      <th>std</th>\n",
       "      <td>247.011075</td>\n",
       "    </tr>\n",
       "    <tr>\n",
       "      <th>min</th>\n",
       "      <td>1.000000</td>\n",
       "    </tr>\n",
       "    <tr>\n",
       "      <th>25%</th>\n",
       "      <td>1.000000</td>\n",
       "    </tr>\n",
       "    <tr>\n",
       "      <th>50%</th>\n",
       "      <td>1.000000</td>\n",
       "    </tr>\n",
       "    <tr>\n",
       "      <th>75%</th>\n",
       "      <td>3.000000</td>\n",
       "    </tr>\n",
       "    <tr>\n",
       "      <th>max</th>\n",
       "      <td>16465.000000</td>\n",
       "    </tr>\n",
       "  </tbody>\n",
       "</table>\n",
       "</div>"
      ],
      "text/plain": [
       "              Count\n",
       "count  29160.000000\n",
       "mean      16.335082\n",
       "std      247.011075\n",
       "min        1.000000\n",
       "25%        1.000000\n",
       "50%        1.000000\n",
       "75%        3.000000\n",
       "max    16465.000000"
      ]
     },
     "execution_count": 5,
     "metadata": {},
     "output_type": "execute_result"
    }
   ],
   "source": [
    "tag_count_df.describe() # 왜도"
   ]
  },
  {
   "cell_type": "code",
   "execution_count": 6,
   "id": "auburn-clause",
   "metadata": {
    "ExecuteTime": {
     "end_time": "2021-08-21T04:49:43.241531Z",
     "start_time": "2021-08-21T04:49:43.227355Z"
    },
    "cell_style": "split"
   },
   "outputs": [
    {
     "data": {
      "text/html": [
       "<div>\n",
       "<style scoped>\n",
       "    .dataframe tbody tr th:only-of-type {\n",
       "        vertical-align: middle;\n",
       "    }\n",
       "\n",
       "    .dataframe tbody tr th {\n",
       "        vertical-align: top;\n",
       "    }\n",
       "\n",
       "    .dataframe thead th {\n",
       "        text-align: right;\n",
       "    }\n",
       "</style>\n",
       "<table border=\"1\" class=\"dataframe\">\n",
       "  <thead>\n",
       "    <tr style=\"text-align: right;\">\n",
       "      <th></th>\n",
       "      <th>Count</th>\n",
       "    </tr>\n",
       "  </thead>\n",
       "  <tbody>\n",
       "    <tr>\n",
       "      <th>기분전환</th>\n",
       "      <td>16465</td>\n",
       "    </tr>\n",
       "    <tr>\n",
       "      <th>감성</th>\n",
       "      <td>11417</td>\n",
       "    </tr>\n",
       "    <tr>\n",
       "      <th>휴식</th>\n",
       "      <td>11215</td>\n",
       "    </tr>\n",
       "    <tr>\n",
       "      <th>발라드</th>\n",
       "      <td>10796</td>\n",
       "    </tr>\n",
       "    <tr>\n",
       "      <th>잔잔한</th>\n",
       "      <td>10218</td>\n",
       "    </tr>\n",
       "    <tr>\n",
       "      <th>...</th>\n",
       "      <td>...</td>\n",
       "    </tr>\n",
       "    <tr>\n",
       "      <th>섹시한분위기</th>\n",
       "      <td>1</td>\n",
       "    </tr>\n",
       "    <tr>\n",
       "      <th>퓨젼재즈</th>\n",
       "      <td>1</td>\n",
       "    </tr>\n",
       "    <tr>\n",
       "      <th>ThankYouLord</th>\n",
       "      <td>1</td>\n",
       "    </tr>\n",
       "    <tr>\n",
       "      <th>드렁크타이거</th>\n",
       "      <td>1</td>\n",
       "    </tr>\n",
       "    <tr>\n",
       "      <th>로맨틱쇼</th>\n",
       "      <td>1</td>\n",
       "    </tr>\n",
       "  </tbody>\n",
       "</table>\n",
       "<p>29160 rows × 1 columns</p>\n",
       "</div>"
      ],
      "text/plain": [
       "              Count\n",
       "기분전환          16465\n",
       "감성            11417\n",
       "휴식            11215\n",
       "발라드           10796\n",
       "잔잔한           10218\n",
       "...             ...\n",
       "섹시한분위기            1\n",
       "퓨젼재즈              1\n",
       "ThankYouLord      1\n",
       "드렁크타이거            1\n",
       "로맨틱쇼              1\n",
       "\n",
       "[29160 rows x 1 columns]"
      ]
     },
     "execution_count": 6,
     "metadata": {},
     "output_type": "execute_result"
    }
   ],
   "source": [
    "tag_count_df"
   ]
  },
  {
   "cell_type": "markdown",
   "id": "expired-filing",
   "metadata": {},
   "source": [
    "## Train.id\n",
    "- Train.id 중복확인"
   ]
  },
  {
   "cell_type": "markdown",
   "id": "documentary-gibraltar",
   "metadata": {},
   "source": [
    "### Train.id 중복확인"
   ]
  },
  {
   "cell_type": "code",
   "execution_count": 7,
   "id": "lyric-makeup",
   "metadata": {
    "ExecuteTime": {
     "end_time": "2021-08-21T04:49:43.257049Z",
     "start_time": "2021-08-21T04:49:43.243040Z"
    }
   },
   "outputs": [
    {
     "data": {
      "text/plain": [
       "True"
      ]
     },
     "execution_count": 7,
     "metadata": {},
     "output_type": "execute_result"
    }
   ],
   "source": [
    "len(train_df) == len(train_df['id'].unique())"
   ]
  },
  {
   "cell_type": "markdown",
   "id": "level-ballot",
   "metadata": {},
   "source": [
    "## Train.plylst_title\n",
    "- 결측치 확인\n",
    "- 자연어처리 가능성"
   ]
  },
  {
   "cell_type": "markdown",
   "id": "sorted-report",
   "metadata": {},
   "source": [
    "###  Train.plylst_title 결측치 확인"
   ]
  },
  {
   "cell_type": "code",
   "execution_count": 8,
   "id": "requested-cookbook",
   "metadata": {
    "ExecuteTime": {
     "end_time": "2021-08-21T04:49:43.288713Z",
     "start_time": "2021-08-21T04:49:43.259040Z"
    }
   },
   "outputs": [
    {
     "data": {
      "text/plain": [
       "plylst_title    0\n",
       "dtype: int64"
      ]
     },
     "execution_count": 8,
     "metadata": {},
     "output_type": "execute_result"
    }
   ],
   "source": [
    "train_df[['plylst_title']].isna().sum()"
   ]
  },
  {
   "cell_type": "markdown",
   "id": "signed-syracuse",
   "metadata": {},
   "source": [
    "## Train.songs\n",
    "- 빈도수 탐색 해가지고 songs 데이터에 빈도를 넣을 수도 빈도가 높은 노래는 대부분 다 좋아하지 않을까? ==> songs.count 컬럼 도입?\n",
    "- 플레이리스트 별 포함된 노래가짓수 ==> 노래 가짓수가 많으면 아무래도 노래가 골고루 들어있지 않을까? ==> playlist.length 컬럼 도입?\n",
    "- 플레이 리스트 안에 중복된 노래는 없나?\n",
    "- 겹치는 노래가 많은 플레이리스트 일수록 비슷한 취향을 저격할 것"
   ]
  },
  {
   "cell_type": "markdown",
   "id": "remarkable-drawing",
   "metadata": {},
   "source": [
    "### Train.songs 노래별 등장 빈도수 분석\n",
    "- song.json과 join 필요"
   ]
  },
  {
   "cell_type": "code",
   "execution_count": 9,
   "id": "compatible-reception",
   "metadata": {
    "ExecuteTime": {
     "end_time": "2021-08-21T04:49:44.676565Z",
     "start_time": "2021-08-21T04:49:43.289737Z"
    },
    "cell_style": "center"
   },
   "outputs": [],
   "source": [
    "songs_count = []\n",
    "train_df['songs'].map(lambda x : songs_count.extend(x))\n",
    "songs_count = collections.Counter(songs_count)\n",
    "songs_count_df = pd.DataFrame.from_dict(songs_count,orient='index')\n",
    "songs_count_df = songs_count_df.sort_values(by=0,ascending=False)\n",
    "songs_count_df.columns = ['Count']"
   ]
  },
  {
   "cell_type": "code",
   "execution_count": 10,
   "id": "rising-accuracy",
   "metadata": {
    "ExecuteTime": {
     "end_time": "2021-08-21T04:49:44.707887Z",
     "start_time": "2021-08-21T04:49:44.680201Z"
    },
    "cell_style": "split"
   },
   "outputs": [
    {
     "data": {
      "text/html": [
       "<div>\n",
       "<style scoped>\n",
       "    .dataframe tbody tr th:only-of-type {\n",
       "        vertical-align: middle;\n",
       "    }\n",
       "\n",
       "    .dataframe tbody tr th {\n",
       "        vertical-align: top;\n",
       "    }\n",
       "\n",
       "    .dataframe thead th {\n",
       "        text-align: right;\n",
       "    }\n",
       "</style>\n",
       "<table border=\"1\" class=\"dataframe\">\n",
       "  <thead>\n",
       "    <tr style=\"text-align: right;\">\n",
       "      <th></th>\n",
       "      <th>Count</th>\n",
       "    </tr>\n",
       "  </thead>\n",
       "  <tbody>\n",
       "    <tr>\n",
       "      <th>144663</th>\n",
       "      <td>2175</td>\n",
       "    </tr>\n",
       "    <tr>\n",
       "      <th>116573</th>\n",
       "      <td>2121</td>\n",
       "    </tr>\n",
       "    <tr>\n",
       "      <th>357367</th>\n",
       "      <td>1981</td>\n",
       "    </tr>\n",
       "    <tr>\n",
       "      <th>366786</th>\n",
       "      <td>1919</td>\n",
       "    </tr>\n",
       "    <tr>\n",
       "      <th>654757</th>\n",
       "      <td>1647</td>\n",
       "    </tr>\n",
       "    <tr>\n",
       "      <th>...</th>\n",
       "      <td>...</td>\n",
       "    </tr>\n",
       "    <tr>\n",
       "      <th>255114</th>\n",
       "      <td>1</td>\n",
       "    </tr>\n",
       "    <tr>\n",
       "      <th>385743</th>\n",
       "      <td>1</td>\n",
       "    </tr>\n",
       "    <tr>\n",
       "      <th>608019</th>\n",
       "      <td>1</td>\n",
       "    </tr>\n",
       "    <tr>\n",
       "      <th>324450</th>\n",
       "      <td>1</td>\n",
       "    </tr>\n",
       "    <tr>\n",
       "      <th>37623</th>\n",
       "      <td>1</td>\n",
       "    </tr>\n",
       "  </tbody>\n",
       "</table>\n",
       "<p>615142 rows × 1 columns</p>\n",
       "</div>"
      ],
      "text/plain": [
       "        Count\n",
       "144663   2175\n",
       "116573   2121\n",
       "357367   1981\n",
       "366786   1919\n",
       "654757   1647\n",
       "...       ...\n",
       "255114      1\n",
       "385743      1\n",
       "608019      1\n",
       "324450      1\n",
       "37623       1\n",
       "\n",
       "[615142 rows x 1 columns]"
      ]
     },
     "execution_count": 10,
     "metadata": {},
     "output_type": "execute_result"
    }
   ],
   "source": [
    "songs_count_df\n",
    "# 성향이 마이너한 곡들을 담은 플리가 많다"
   ]
  },
  {
   "cell_type": "code",
   "execution_count": 11,
   "id": "lined-defendant",
   "metadata": {
    "ExecuteTime": {
     "end_time": "2021-08-21T04:49:44.755034Z",
     "start_time": "2021-08-21T04:49:44.710410Z"
    },
    "cell_style": "split"
   },
   "outputs": [
    {
     "data": {
      "text/html": [
       "<div>\n",
       "<style scoped>\n",
       "    .dataframe tbody tr th:only-of-type {\n",
       "        vertical-align: middle;\n",
       "    }\n",
       "\n",
       "    .dataframe tbody tr th {\n",
       "        vertical-align: top;\n",
       "    }\n",
       "\n",
       "    .dataframe thead th {\n",
       "        text-align: right;\n",
       "    }\n",
       "</style>\n",
       "<table border=\"1\" class=\"dataframe\">\n",
       "  <thead>\n",
       "    <tr style=\"text-align: right;\">\n",
       "      <th></th>\n",
       "      <th>Count</th>\n",
       "    </tr>\n",
       "  </thead>\n",
       "  <tbody>\n",
       "    <tr>\n",
       "      <th>count</th>\n",
       "      <td>615142.000000</td>\n",
       "    </tr>\n",
       "    <tr>\n",
       "      <th>mean</th>\n",
       "      <td>8.592928</td>\n",
       "    </tr>\n",
       "    <tr>\n",
       "      <th>std</th>\n",
       "      <td>39.481912</td>\n",
       "    </tr>\n",
       "    <tr>\n",
       "      <th>min</th>\n",
       "      <td>1.000000</td>\n",
       "    </tr>\n",
       "    <tr>\n",
       "      <th>25%</th>\n",
       "      <td>1.000000</td>\n",
       "    </tr>\n",
       "    <tr>\n",
       "      <th>50%</th>\n",
       "      <td>2.000000</td>\n",
       "    </tr>\n",
       "    <tr>\n",
       "      <th>75%</th>\n",
       "      <td>4.000000</td>\n",
       "    </tr>\n",
       "    <tr>\n",
       "      <th>max</th>\n",
       "      <td>2175.000000</td>\n",
       "    </tr>\n",
       "  </tbody>\n",
       "</table>\n",
       "</div>"
      ],
      "text/plain": [
       "               Count\n",
       "count  615142.000000\n",
       "mean        8.592928\n",
       "std        39.481912\n",
       "min         1.000000\n",
       "25%         1.000000\n",
       "50%         2.000000\n",
       "75%         4.000000\n",
       "max      2175.000000"
      ]
     },
     "execution_count": 11,
     "metadata": {},
     "output_type": "execute_result"
    }
   ],
   "source": [
    "songs_count_df.describe()"
   ]
  },
  {
   "cell_type": "markdown",
   "id": "finished-illinois",
   "metadata": {},
   "source": [
    "### Train.songs 플레이리스트 별 포함된 노래수"
   ]
  },
  {
   "cell_type": "code",
   "execution_count": 12,
   "id": "reduced-forward",
   "metadata": {
    "ExecuteTime": {
     "end_time": "2021-08-21T04:49:44.817334Z",
     "start_time": "2021-08-21T04:49:44.756019Z"
    },
    "scrolled": true
   },
   "outputs": [
    {
     "data": {
      "text/html": [
       "<div>\n",
       "<style scoped>\n",
       "    .dataframe tbody tr th:only-of-type {\n",
       "        vertical-align: middle;\n",
       "    }\n",
       "\n",
       "    .dataframe tbody tr th {\n",
       "        vertical-align: top;\n",
       "    }\n",
       "\n",
       "    .dataframe thead th {\n",
       "        text-align: right;\n",
       "    }\n",
       "</style>\n",
       "<table border=\"1\" class=\"dataframe\">\n",
       "  <thead>\n",
       "    <tr style=\"text-align: right;\">\n",
       "      <th></th>\n",
       "      <th>tags</th>\n",
       "      <th>id</th>\n",
       "      <th>plylst_title</th>\n",
       "      <th>songs</th>\n",
       "      <th>like_cnt</th>\n",
       "      <th>updt_date</th>\n",
       "      <th>playlist_length</th>\n",
       "    </tr>\n",
       "  </thead>\n",
       "  <tbody>\n",
       "    <tr>\n",
       "      <th>0</th>\n",
       "      <td>[락]</td>\n",
       "      <td>61281</td>\n",
       "      <td>여행같은 음악</td>\n",
       "      <td>[525514, 129701, 383374, 562083, 297861, 13954...</td>\n",
       "      <td>71</td>\n",
       "      <td>2013-12-19 18:36:19.000</td>\n",
       "      <td>19</td>\n",
       "    </tr>\n",
       "    <tr>\n",
       "      <th>1</th>\n",
       "      <td>[추억, 회상]</td>\n",
       "      <td>10532</td>\n",
       "      <td>요즘 너 말야</td>\n",
       "      <td>[432406, 675945, 497066, 120377, 389529, 24427...</td>\n",
       "      <td>1</td>\n",
       "      <td>2014-12-02 16:19:42.000</td>\n",
       "      <td>42</td>\n",
       "    </tr>\n",
       "    <tr>\n",
       "      <th>2</th>\n",
       "      <td>[까페, 잔잔한]</td>\n",
       "      <td>76951</td>\n",
       "      <td>편하게, 잔잔하게 들을 수 있는 곡.-</td>\n",
       "      <td>[83116, 276692, 166267, 186301, 354465, 256598...</td>\n",
       "      <td>17</td>\n",
       "      <td>2017-08-28 07:09:34.000</td>\n",
       "      <td>28</td>\n",
       "    </tr>\n",
       "  </tbody>\n",
       "</table>\n",
       "</div>"
      ],
      "text/plain": [
       "        tags     id           plylst_title  \\\n",
       "0        [락]  61281                여행같은 음악   \n",
       "1   [추억, 회상]  10532                요즘 너 말야   \n",
       "2  [까페, 잔잔한]  76951  편하게, 잔잔하게 들을 수 있는 곡.-   \n",
       "\n",
       "                                               songs  like_cnt  \\\n",
       "0  [525514, 129701, 383374, 562083, 297861, 13954...        71   \n",
       "1  [432406, 675945, 497066, 120377, 389529, 24427...         1   \n",
       "2  [83116, 276692, 166267, 186301, 354465, 256598...        17   \n",
       "\n",
       "                 updt_date  playlist_length  \n",
       "0  2013-12-19 18:36:19.000               19  \n",
       "1  2014-12-02 16:19:42.000               42  \n",
       "2  2017-08-28 07:09:34.000               28  "
      ]
     },
     "execution_count": 12,
     "metadata": {},
     "output_type": "execute_result"
    }
   ],
   "source": [
    "train_df['playlist_length'] = train_df['songs'].map(lambda x : len(x))\n",
    "train_df.head(3)"
   ]
  },
  {
   "cell_type": "markdown",
   "id": "eligible-attraction",
   "metadata": {},
   "source": [
    "### Train.songs 중복곡 검사"
   ]
  },
  {
   "cell_type": "code",
   "execution_count": 13,
   "id": "subtle-brick",
   "metadata": {
    "ExecuteTime": {
     "end_time": "2021-08-21T04:49:45.051793Z",
     "start_time": "2021-08-21T04:49:44.821065Z"
    }
   },
   "outputs": [
    {
     "data": {
      "text/plain": [
       "array([ True])"
      ]
     },
     "execution_count": 13,
     "metadata": {},
     "output_type": "execute_result"
    }
   ],
   "source": [
    "test_duplicate = train_df['songs'].map(lambda x : len(x) == len(set(x)))\n",
    "test_duplicate.unique()"
   ]
  },
  {
   "cell_type": "markdown",
   "id": "considered-device",
   "metadata": {},
   "source": [
    "## Train.like_cnt \n",
    "- 좋아요 수와 플레이리스트 길이의 상관관계 ==> 많은 노래가 수록될수록 보편적으로 좋아할까?\n",
    "- tag가 tag된 횟수 / tag의 길이와 좋아요 수와의 상관관계\n",
    "- song이 포함된 횟수 / songs의 길이와 좋아요의 상관관계\n",
    "- tag 갯수가 많을 수록 좋아요가 많지 않을까?"
   ]
  },
  {
   "cell_type": "code",
   "execution_count": 14,
   "id": "silent-monster",
   "metadata": {
    "ExecuteTime": {
     "end_time": "2021-08-21T04:49:51.425890Z",
     "start_time": "2021-08-21T04:49:45.053717Z"
    }
   },
   "outputs": [],
   "source": [
    "qt = QuantileTransformer(n_quantiles=100000,output_distribution='normal')\n",
    "\n",
    "train_df['normal_cnt'] = qt.fit_transform(train_df['like_cnt'].values.reshape(-1,1))\n",
    "\n",
    "# playlist_length도 정규화하기"
   ]
  },
  {
   "cell_type": "markdown",
   "id": "vocational-inquiry",
   "metadata": {},
   "source": [
    "###  Train.like_cnt 좋아요 수와 플레이리스트 길이의 상관관계"
   ]
  },
  {
   "cell_type": "code",
   "execution_count": 15,
   "id": "gentle-hollow",
   "metadata": {
    "ExecuteTime": {
     "end_time": "2021-08-21T04:49:51.456488Z",
     "start_time": "2021-08-21T04:49:51.427904Z"
    },
    "cell_style": "split",
    "scrolled": true
   },
   "outputs": [
    {
     "data": {
      "text/html": [
       "<div>\n",
       "<style scoped>\n",
       "    .dataframe tbody tr th:only-of-type {\n",
       "        vertical-align: middle;\n",
       "    }\n",
       "\n",
       "    .dataframe tbody tr th {\n",
       "        vertical-align: top;\n",
       "    }\n",
       "\n",
       "    .dataframe thead th {\n",
       "        text-align: right;\n",
       "    }\n",
       "</style>\n",
       "<table border=\"1\" class=\"dataframe\">\n",
       "  <thead>\n",
       "    <tr style=\"text-align: right;\">\n",
       "      <th></th>\n",
       "      <th>like_cnt</th>\n",
       "      <th>playlist_length</th>\n",
       "    </tr>\n",
       "  </thead>\n",
       "  <tbody>\n",
       "    <tr>\n",
       "      <th>like_cnt</th>\n",
       "      <td>1.000000</td>\n",
       "      <td>0.149828</td>\n",
       "    </tr>\n",
       "    <tr>\n",
       "      <th>playlist_length</th>\n",
       "      <td>0.149828</td>\n",
       "      <td>1.000000</td>\n",
       "    </tr>\n",
       "  </tbody>\n",
       "</table>\n",
       "</div>"
      ],
      "text/plain": [
       "                 like_cnt  playlist_length\n",
       "like_cnt         1.000000         0.149828\n",
       "playlist_length  0.149828         1.000000"
      ]
     },
     "execution_count": 15,
     "metadata": {},
     "output_type": "execute_result"
    }
   ],
   "source": [
    "# 그냥 count\n",
    "train_df[['like_cnt','playlist_length']].corr()"
   ]
  },
  {
   "cell_type": "code",
   "execution_count": 16,
   "id": "executed-advancement",
   "metadata": {
    "ExecuteTime": {
     "end_time": "2021-08-21T04:49:51.487708Z",
     "start_time": "2021-08-21T04:49:51.459303Z"
    },
    "cell_style": "split"
   },
   "outputs": [
    {
     "data": {
      "text/html": [
       "<div>\n",
       "<style scoped>\n",
       "    .dataframe tbody tr th:only-of-type {\n",
       "        vertical-align: middle;\n",
       "    }\n",
       "\n",
       "    .dataframe tbody tr th {\n",
       "        vertical-align: top;\n",
       "    }\n",
       "\n",
       "    .dataframe thead th {\n",
       "        text-align: right;\n",
       "    }\n",
       "</style>\n",
       "<table border=\"1\" class=\"dataframe\">\n",
       "  <thead>\n",
       "    <tr style=\"text-align: right;\">\n",
       "      <th></th>\n",
       "      <th>normal_cnt</th>\n",
       "      <th>playlist_length</th>\n",
       "    </tr>\n",
       "  </thead>\n",
       "  <tbody>\n",
       "    <tr>\n",
       "      <th>normal_cnt</th>\n",
       "      <td>1.000000</td>\n",
       "      <td>0.205865</td>\n",
       "    </tr>\n",
       "    <tr>\n",
       "      <th>playlist_length</th>\n",
       "      <td>0.205865</td>\n",
       "      <td>1.000000</td>\n",
       "    </tr>\n",
       "  </tbody>\n",
       "</table>\n",
       "</div>"
      ],
      "text/plain": [
       "                 normal_cnt  playlist_length\n",
       "normal_cnt         1.000000         0.205865\n",
       "playlist_length    0.205865         1.000000"
      ]
     },
     "execution_count": 16,
     "metadata": {},
     "output_type": "execute_result"
    }
   ],
   "source": [
    "# 정규화된 count\n",
    "train_df[['normal_cnt','playlist_length']].corr()"
   ]
  },
  {
   "cell_type": "code",
   "execution_count": 17,
   "id": "unauthorized-policy",
   "metadata": {
    "ExecuteTime": {
     "end_time": "2021-08-21T04:49:51.968804Z",
     "start_time": "2021-08-21T04:49:51.488972Z"
    }
   },
   "outputs": [
    {
     "data": {
      "text/plain": [
       "<AxesSubplot:xlabel='playlist_length', ylabel='like_cnt'>"
      ]
     },
     "execution_count": 17,
     "metadata": {},
     "output_type": "execute_result"
    },
    {
     "data": {
      "image/png": "[encoded data removed]",
      "text/plain": [
       "<Figure size 1008x576 with 1 Axes>"
      ]
     },
     "metadata": {
      "needs_background": "light"
     },
     "output_type": "display_data"
    }
   ],
   "source": [
    "sns.scatterplot(y='like_cnt',x='playlist_length',data = train_df[['like_cnt','playlist_length']])"
   ]
  },
  {
   "cell_type": "markdown",
   "id": "straight-problem",
   "metadata": {},
   "source": [
    "###  Train.like_cnt tag가 tag된 횟수 / tag의 길이와 좋아요 수와의 상관관계"
   ]
  },
  {
   "cell_type": "code",
   "execution_count": 18,
   "id": "patient-bermuda",
   "metadata": {
    "ExecuteTime": {
     "end_time": "2021-08-21T04:49:52.154148Z",
     "start_time": "2021-08-21T04:49:51.969304Z"
    },
    "cell_style": "center",
    "code_folding": []
   },
   "outputs": [],
   "source": [
    "def tag_sum(x):\n",
    "    temp = 0\n",
    "    for value in x:\n",
    "        temp = temp + tag_count[value]\n",
    "    return temp / len(x)        \n",
    "\n",
    "train_df['tag_mean'] =  train_df['tags'].map(tag_sum)"
   ]
  },
  {
   "cell_type": "code",
   "execution_count": 19,
   "id": "perceived-rendering",
   "metadata": {
    "ExecuteTime": {
     "end_time": "2021-08-21T04:49:52.185359Z",
     "start_time": "2021-08-21T04:49:52.157712Z"
    },
    "cell_style": "split"
   },
   "outputs": [
    {
     "data": {
      "text/html": [
       "<div>\n",
       "<style scoped>\n",
       "    .dataframe tbody tr th:only-of-type {\n",
       "        vertical-align: middle;\n",
       "    }\n",
       "\n",
       "    .dataframe tbody tr th {\n",
       "        vertical-align: top;\n",
       "    }\n",
       "\n",
       "    .dataframe thead th {\n",
       "        text-align: right;\n",
       "    }\n",
       "</style>\n",
       "<table border=\"1\" class=\"dataframe\">\n",
       "  <thead>\n",
       "    <tr style=\"text-align: right;\">\n",
       "      <th></th>\n",
       "      <th>tag_mean</th>\n",
       "      <th>like_cnt</th>\n",
       "    </tr>\n",
       "  </thead>\n",
       "  <tbody>\n",
       "    <tr>\n",
       "      <th>tag_mean</th>\n",
       "      <td>1.000000</td>\n",
       "      <td>-0.003329</td>\n",
       "    </tr>\n",
       "    <tr>\n",
       "      <th>like_cnt</th>\n",
       "      <td>-0.003329</td>\n",
       "      <td>1.000000</td>\n",
       "    </tr>\n",
       "  </tbody>\n",
       "</table>\n",
       "</div>"
      ],
      "text/plain": [
       "          tag_mean  like_cnt\n",
       "tag_mean  1.000000 -0.003329\n",
       "like_cnt -0.003329  1.000000"
      ]
     },
     "execution_count": 19,
     "metadata": {},
     "output_type": "execute_result"
    }
   ],
   "source": [
    "# 그냥 count\n",
    "train_df[['tag_mean','like_cnt']].corr()"
   ]
  },
  {
   "cell_type": "code",
   "execution_count": 20,
   "id": "collected-paint",
   "metadata": {
    "ExecuteTime": {
     "end_time": "2021-08-21T04:49:52.216859Z",
     "start_time": "2021-08-21T04:49:52.186835Z"
    },
    "cell_style": "split"
   },
   "outputs": [
    {
     "data": {
      "text/html": [
       "<div>\n",
       "<style scoped>\n",
       "    .dataframe tbody tr th:only-of-type {\n",
       "        vertical-align: middle;\n",
       "    }\n",
       "\n",
       "    .dataframe tbody tr th {\n",
       "        vertical-align: top;\n",
       "    }\n",
       "\n",
       "    .dataframe thead th {\n",
       "        text-align: right;\n",
       "    }\n",
       "</style>\n",
       "<table border=\"1\" class=\"dataframe\">\n",
       "  <thead>\n",
       "    <tr style=\"text-align: right;\">\n",
       "      <th></th>\n",
       "      <th>tag_mean</th>\n",
       "      <th>normal_cnt</th>\n",
       "    </tr>\n",
       "  </thead>\n",
       "  <tbody>\n",
       "    <tr>\n",
       "      <th>tag_mean</th>\n",
       "      <td>1.000000</td>\n",
       "      <td>-0.036783</td>\n",
       "    </tr>\n",
       "    <tr>\n",
       "      <th>normal_cnt</th>\n",
       "      <td>-0.036783</td>\n",
       "      <td>1.000000</td>\n",
       "    </tr>\n",
       "  </tbody>\n",
       "</table>\n",
       "</div>"
      ],
      "text/plain": [
       "            tag_mean  normal_cnt\n",
       "tag_mean    1.000000   -0.036783\n",
       "normal_cnt -0.036783    1.000000"
      ]
     },
     "execution_count": 20,
     "metadata": {},
     "output_type": "execute_result"
    }
   ],
   "source": [
    "# 정규화된 count\n",
    "train_df[['tag_mean','normal_cnt']].corr()"
   ]
  },
  {
   "cell_type": "code",
   "execution_count": 21,
   "id": "promotional-record",
   "metadata": {
    "ExecuteTime": {
     "end_time": "2021-08-21T04:49:52.777796Z",
     "start_time": "2021-08-21T04:49:52.218428Z"
    }
   },
   "outputs": [
    {
     "data": {
      "text/plain": [
       "<AxesSubplot:xlabel='tag_mean', ylabel='like_cnt'>"
      ]
     },
     "execution_count": 21,
     "metadata": {},
     "output_type": "execute_result"
    },
    {
     "data": {
      "image/png": "[encoded data removed]",
      "text/plain": [
       "<Figure size 1008x576 with 1 Axes>"
      ]
     },
     "metadata": {
      "needs_background": "light"
     },
     "output_type": "display_data"
    }
   ],
   "source": [
    "sns.scatterplot(y='like_cnt',x='tag_mean',data = train_df[['tag_mean','like_cnt']])\n",
    "# 좋아요를 뭔가 계층적으로 나눠서 하면 의미가 생길지도? 4분위수 8분위수 혹은 10단위 "
   ]
  },
  {
   "cell_type": "markdown",
   "id": "contrary-fashion",
   "metadata": {},
   "source": [
    "### Train.like_cnt song이 포함된 횟수 / songs의 길이와 좋아요의 상관관계"
   ]
  },
  {
   "cell_type": "code",
   "execution_count": 22,
   "id": "exposed-flower",
   "metadata": {
    "ExecuteTime": {
     "end_time": "2021-08-21T04:49:54.826459Z",
     "start_time": "2021-08-21T04:49:52.779354Z"
    },
    "cell_style": "center"
   },
   "outputs": [],
   "source": [
    "def songs_sum(x):\n",
    "    temp = 0\n",
    "    for value in x:\n",
    "        temp = temp + songs_count[value]\n",
    "    return temp / len(x)        \n",
    "\n",
    "train_df['songs_mean'] = train_df['songs'].map(songs_sum)\n",
    "\n",
    "# 좋아요를 뭔가 계층적으로 나눠서 하면 의미가 생길지도? 4분위수 8분위수 혹은 10단위 "
   ]
  },
  {
   "cell_type": "code",
   "execution_count": 23,
   "id": "developing-romantic",
   "metadata": {
    "ExecuteTime": {
     "end_time": "2021-08-21T04:49:54.857749Z",
     "start_time": "2021-08-21T04:49:54.829182Z"
    },
    "cell_style": "split"
   },
   "outputs": [
    {
     "data": {
      "text/html": [
       "<div>\n",
       "<style scoped>\n",
       "    .dataframe tbody tr th:only-of-type {\n",
       "        vertical-align: middle;\n",
       "    }\n",
       "\n",
       "    .dataframe tbody tr th {\n",
       "        vertical-align: top;\n",
       "    }\n",
       "\n",
       "    .dataframe thead th {\n",
       "        text-align: right;\n",
       "    }\n",
       "</style>\n",
       "<table border=\"1\" class=\"dataframe\">\n",
       "  <thead>\n",
       "    <tr style=\"text-align: right;\">\n",
       "      <th></th>\n",
       "      <th>songs_mean</th>\n",
       "      <th>like_cnt</th>\n",
       "    </tr>\n",
       "  </thead>\n",
       "  <tbody>\n",
       "    <tr>\n",
       "      <th>songs_mean</th>\n",
       "      <td>1.000000</td>\n",
       "      <td>-0.040487</td>\n",
       "    </tr>\n",
       "    <tr>\n",
       "      <th>like_cnt</th>\n",
       "      <td>-0.040487</td>\n",
       "      <td>1.000000</td>\n",
       "    </tr>\n",
       "  </tbody>\n",
       "</table>\n",
       "</div>"
      ],
      "text/plain": [
       "            songs_mean  like_cnt\n",
       "songs_mean    1.000000 -0.040487\n",
       "like_cnt     -0.040487  1.000000"
      ]
     },
     "execution_count": 23,
     "metadata": {},
     "output_type": "execute_result"
    }
   ],
   "source": [
    "# 그냥 count\n",
    "train_df[['songs_mean','like_cnt']].corr()"
   ]
  },
  {
   "cell_type": "code",
   "execution_count": 24,
   "id": "inner-sender",
   "metadata": {
    "ExecuteTime": {
     "end_time": "2021-08-21T04:49:54.887896Z",
     "start_time": "2021-08-21T04:49:54.858956Z"
    },
    "cell_style": "split"
   },
   "outputs": [
    {
     "data": {
      "text/html": [
       "<div>\n",
       "<style scoped>\n",
       "    .dataframe tbody tr th:only-of-type {\n",
       "        vertical-align: middle;\n",
       "    }\n",
       "\n",
       "    .dataframe tbody tr th {\n",
       "        vertical-align: top;\n",
       "    }\n",
       "\n",
       "    .dataframe thead th {\n",
       "        text-align: right;\n",
       "    }\n",
       "</style>\n",
       "<table border=\"1\" class=\"dataframe\">\n",
       "  <thead>\n",
       "    <tr style=\"text-align: right;\">\n",
       "      <th></th>\n",
       "      <th>songs_mean</th>\n",
       "      <th>normal_cnt</th>\n",
       "    </tr>\n",
       "  </thead>\n",
       "  <tbody>\n",
       "    <tr>\n",
       "      <th>songs_mean</th>\n",
       "      <td>1.000000</td>\n",
       "      <td>-0.116768</td>\n",
       "    </tr>\n",
       "    <tr>\n",
       "      <th>normal_cnt</th>\n",
       "      <td>-0.116768</td>\n",
       "      <td>1.000000</td>\n",
       "    </tr>\n",
       "  </tbody>\n",
       "</table>\n",
       "</div>"
      ],
      "text/plain": [
       "            songs_mean  normal_cnt\n",
       "songs_mean    1.000000   -0.116768\n",
       "normal_cnt   -0.116768    1.000000"
      ]
     },
     "execution_count": 24,
     "metadata": {},
     "output_type": "execute_result"
    }
   ],
   "source": [
    "# 정규화된 count\n",
    "train_df[['songs_mean','normal_cnt']].corr()"
   ]
  },
  {
   "cell_type": "markdown",
   "id": "controlling-angle",
   "metadata": {},
   "source": [
    "애초에 좋아요 데이터 왜도가 너무 높아서 상관관계가 제대로 안잡히는것 같기도 ==> 데이터 변환 필요"
   ]
  },
  {
   "cell_type": "code",
   "execution_count": 25,
   "id": "fundamental-spread",
   "metadata": {
    "ExecuteTime": {
     "end_time": "2021-08-21T04:49:54.903442Z",
     "start_time": "2021-08-21T04:49:54.889790Z"
    }
   },
   "outputs": [
    {
     "data": {
      "text/plain": [
       "count    115071.000000\n",
       "mean         95.197687\n",
       "std         560.653757\n",
       "min           0.000000\n",
       "25%           2.000000\n",
       "50%           7.000000\n",
       "75%          24.000000\n",
       "max       53211.000000\n",
       "Name: like_cnt, dtype: float64"
      ]
     },
     "execution_count": 25,
     "metadata": {},
     "output_type": "execute_result"
    }
   ],
   "source": [
    "train_df['like_cnt'].describe()"
   ]
  },
  {
   "cell_type": "code",
   "execution_count": 26,
   "id": "metropolitan-system",
   "metadata": {
    "ExecuteTime": {
     "end_time": "2021-08-21T04:49:55.294695Z",
     "start_time": "2021-08-21T04:49:54.905377Z"
    }
   },
   "outputs": [
    {
     "data": {
      "text/plain": [
       "<AxesSubplot:xlabel='songs_mean', ylabel='like_cnt'>"
      ]
     },
     "execution_count": 26,
     "metadata": {},
     "output_type": "execute_result"
    },
    {
     "data": {
      "image/png": "[encoded data removed]",
      "text/plain": [
       "<Figure size 1008x576 with 1 Axes>"
      ]
     },
     "metadata": {
      "needs_background": "light"
     },
     "output_type": "display_data"
    }
   ],
   "source": [
    "sns.scatterplot(y='like_cnt',x='songs_mean',data = train_df[['songs_mean','like_cnt']])"
   ]
  },
  {
   "cell_type": "markdown",
   "id": "funded-major",
   "metadata": {
    "heading_collapsed": true
   },
   "source": [
    "### Train.like_cnt와 tag의 숫자와의 상관관계"
   ]
  },
  {
   "cell_type": "code",
   "execution_count": 27,
   "id": "regulation-verse",
   "metadata": {
    "ExecuteTime": {
     "end_time": "2021-08-21T04:49:55.372646Z",
     "start_time": "2021-08-21T04:49:55.296430Z"
    },
    "hidden": true
   },
   "outputs": [],
   "source": [
    "train_df['tags_cnt'] = train_df['tags'].map(lambda x : len(x))"
   ]
  },
  {
   "cell_type": "code",
   "execution_count": 28,
   "id": "grateful-fashion",
   "metadata": {
    "ExecuteTime": {
     "end_time": "2021-08-21T04:49:55.403495Z",
     "start_time": "2021-08-21T04:49:55.379962Z"
    },
    "cell_style": "split",
    "hidden": true
   },
   "outputs": [
    {
     "data": {
      "text/html": [
       "<div>\n",
       "<style scoped>\n",
       "    .dataframe tbody tr th:only-of-type {\n",
       "        vertical-align: middle;\n",
       "    }\n",
       "\n",
       "    .dataframe tbody tr th {\n",
       "        vertical-align: top;\n",
       "    }\n",
       "\n",
       "    .dataframe thead th {\n",
       "        text-align: right;\n",
       "    }\n",
       "</style>\n",
       "<table border=\"1\" class=\"dataframe\">\n",
       "  <thead>\n",
       "    <tr style=\"text-align: right;\">\n",
       "      <th></th>\n",
       "      <th>tags_cnt</th>\n",
       "      <th>like_cnt</th>\n",
       "    </tr>\n",
       "  </thead>\n",
       "  <tbody>\n",
       "    <tr>\n",
       "      <th>tags_cnt</th>\n",
       "      <td>1.000000</td>\n",
       "      <td>0.066963</td>\n",
       "    </tr>\n",
       "    <tr>\n",
       "      <th>like_cnt</th>\n",
       "      <td>0.066963</td>\n",
       "      <td>1.000000</td>\n",
       "    </tr>\n",
       "  </tbody>\n",
       "</table>\n",
       "</div>"
      ],
      "text/plain": [
       "          tags_cnt  like_cnt\n",
       "tags_cnt  1.000000  0.066963\n",
       "like_cnt  0.066963  1.000000"
      ]
     },
     "execution_count": 28,
     "metadata": {},
     "output_type": "execute_result"
    }
   ],
   "source": [
    "train_df[['tags_cnt','like_cnt']].corr()"
   ]
  },
  {
   "cell_type": "code",
   "execution_count": 29,
   "id": "nervous-oliver",
   "metadata": {
    "ExecuteTime": {
     "end_time": "2021-08-21T04:49:55.419001Z",
     "start_time": "2021-08-21T04:49:55.404763Z"
    },
    "cell_style": "split",
    "hidden": true
   },
   "outputs": [
    {
     "data": {
      "text/html": [
       "<div>\n",
       "<style scoped>\n",
       "    .dataframe tbody tr th:only-of-type {\n",
       "        vertical-align: middle;\n",
       "    }\n",
       "\n",
       "    .dataframe tbody tr th {\n",
       "        vertical-align: top;\n",
       "    }\n",
       "\n",
       "    .dataframe thead th {\n",
       "        text-align: right;\n",
       "    }\n",
       "</style>\n",
       "<table border=\"1\" class=\"dataframe\">\n",
       "  <thead>\n",
       "    <tr style=\"text-align: right;\">\n",
       "      <th></th>\n",
       "      <th>tags_cnt</th>\n",
       "      <th>normal_cnt</th>\n",
       "    </tr>\n",
       "  </thead>\n",
       "  <tbody>\n",
       "    <tr>\n",
       "      <th>tags_cnt</th>\n",
       "      <td>1.000000</td>\n",
       "      <td>0.160804</td>\n",
       "    </tr>\n",
       "    <tr>\n",
       "      <th>normal_cnt</th>\n",
       "      <td>0.160804</td>\n",
       "      <td>1.000000</td>\n",
       "    </tr>\n",
       "  </tbody>\n",
       "</table>\n",
       "</div>"
      ],
      "text/plain": [
       "            tags_cnt  normal_cnt\n",
       "tags_cnt    1.000000    0.160804\n",
       "normal_cnt  0.160804    1.000000"
      ]
     },
     "execution_count": 29,
     "metadata": {},
     "output_type": "execute_result"
    }
   ],
   "source": [
    "train_df[['tags_cnt','normal_cnt']].corr()"
   ]
  },
  {
   "cell_type": "markdown",
   "id": "divided-salad",
   "metadata": {},
   "source": [
    "## Train.updt_date\n",
    "\n",
    "- 최신 업데이트된 플레이리스트 일수록 최신곡을 담고있을것 같다. (조인 필요)\n",
    "- 최신 업데이트된 플레이리스트 일수록 좋아요 수가 많을 것 같다."
   ]
  },
  {
   "cell_type": "markdown",
   "id": "cellular-impact",
   "metadata": {},
   "source": [
    "### Train.updt_date와 좋아요 수의 상관관계"
   ]
  },
  {
   "cell_type": "code",
   "execution_count": 30,
   "id": "coordinate-chrome",
   "metadata": {
    "ExecuteTime": {
     "end_time": "2021-08-21T04:49:55.511813Z",
     "start_time": "2021-08-21T04:49:55.420463Z"
    }
   },
   "outputs": [],
   "source": [
    "train_df['updt_date'] = pd.to_datetime(train_df['updt_date'])"
   ]
  },
  {
   "cell_type": "code",
   "execution_count": 31,
   "id": "designed-module",
   "metadata": {
    "ExecuteTime": {
     "end_time": "2021-08-21T04:49:56.092441Z",
     "start_time": "2021-08-21T04:49:55.513764Z"
    }
   },
   "outputs": [],
   "source": [
    "def to_date_2004(x):\n",
    "    year = (x.year - 2004)*365\n",
    "    month = (x.month)*30\n",
    "    date = x.day\n",
    "    \n",
    "    return year+month+date\n",
    "\n",
    "\n",
    "train_df['updt_date_to_date'] = train_df['updt_date'].map(to_date_2004)\n",
    "\n",
    "# 좋아요를 뭔가 계층적으로 나눠서 하면 의미가 생길지도? 4분위수 8분위수 혹은 10단위 "
   ]
  },
  {
   "cell_type": "code",
   "execution_count": 32,
   "id": "extensive-tactics",
   "metadata": {
    "ExecuteTime": {
     "end_time": "2021-08-21T04:49:56.123081Z",
     "start_time": "2021-08-21T04:49:56.095395Z"
    },
    "cell_style": "split"
   },
   "outputs": [
    {
     "data": {
      "text/html": [
       "<div>\n",
       "<style scoped>\n",
       "    .dataframe tbody tr th:only-of-type {\n",
       "        vertical-align: middle;\n",
       "    }\n",
       "\n",
       "    .dataframe tbody tr th {\n",
       "        vertical-align: top;\n",
       "    }\n",
       "\n",
       "    .dataframe thead th {\n",
       "        text-align: right;\n",
       "    }\n",
       "</style>\n",
       "<table border=\"1\" class=\"dataframe\">\n",
       "  <thead>\n",
       "    <tr style=\"text-align: right;\">\n",
       "      <th></th>\n",
       "      <th>updt_date_to_date</th>\n",
       "      <th>like_cnt</th>\n",
       "    </tr>\n",
       "  </thead>\n",
       "  <tbody>\n",
       "    <tr>\n",
       "      <th>updt_date_to_date</th>\n",
       "      <td>1.000000</td>\n",
       "      <td>0.036565</td>\n",
       "    </tr>\n",
       "    <tr>\n",
       "      <th>like_cnt</th>\n",
       "      <td>0.036565</td>\n",
       "      <td>1.000000</td>\n",
       "    </tr>\n",
       "  </tbody>\n",
       "</table>\n",
       "</div>"
      ],
      "text/plain": [
       "                   updt_date_to_date  like_cnt\n",
       "updt_date_to_date           1.000000  0.036565\n",
       "like_cnt                    0.036565  1.000000"
      ]
     },
     "execution_count": 32,
     "metadata": {},
     "output_type": "execute_result"
    }
   ],
   "source": [
    "train_df[['updt_date_to_date','like_cnt']].corr()"
   ]
  },
  {
   "cell_type": "code",
   "execution_count": 33,
   "id": "running-chocolate",
   "metadata": {
    "ExecuteTime": {
     "end_time": "2021-08-21T04:49:56.154125Z",
     "start_time": "2021-08-21T04:49:56.124424Z"
    },
    "cell_style": "split",
    "scrolled": true
   },
   "outputs": [
    {
     "data": {
      "text/html": [
       "<div>\n",
       "<style scoped>\n",
       "    .dataframe tbody tr th:only-of-type {\n",
       "        vertical-align: middle;\n",
       "    }\n",
       "\n",
       "    .dataframe tbody tr th {\n",
       "        vertical-align: top;\n",
       "    }\n",
       "\n",
       "    .dataframe thead th {\n",
       "        text-align: right;\n",
       "    }\n",
       "</style>\n",
       "<table border=\"1\" class=\"dataframe\">\n",
       "  <thead>\n",
       "    <tr style=\"text-align: right;\">\n",
       "      <th></th>\n",
       "      <th>updt_date_to_date</th>\n",
       "      <th>normal_cnt</th>\n",
       "    </tr>\n",
       "  </thead>\n",
       "  <tbody>\n",
       "    <tr>\n",
       "      <th>updt_date_to_date</th>\n",
       "      <td>1.00000</td>\n",
       "      <td>0.00358</td>\n",
       "    </tr>\n",
       "    <tr>\n",
       "      <th>normal_cnt</th>\n",
       "      <td>0.00358</td>\n",
       "      <td>1.00000</td>\n",
       "    </tr>\n",
       "  </tbody>\n",
       "</table>\n",
       "</div>"
      ],
      "text/plain": [
       "                   updt_date_to_date  normal_cnt\n",
       "updt_date_to_date            1.00000     0.00358\n",
       "normal_cnt                   0.00358     1.00000"
      ]
     },
     "execution_count": 33,
     "metadata": {},
     "output_type": "execute_result"
    }
   ],
   "source": [
    "train_df[['updt_date_to_date','normal_cnt']].corr()"
   ]
  },
  {
   "cell_type": "markdown",
   "id": "median-singles",
   "metadata": {},
   "source": [
    "# Song Meta EDA"
   ]
  },
  {
   "cell_type": "code",
   "execution_count": 34,
   "id": "recent-career",
   "metadata": {
    "ExecuteTime": {
     "end_time": "2021-08-21T04:50:05.968683Z",
     "start_time": "2021-08-21T04:49:56.155001Z"
    }
   },
   "outputs": [
    {
     "data": {
      "text/html": [
       "<div>\n",
       "<style scoped>\n",
       "    .dataframe tbody tr th:only-of-type {\n",
       "        vertical-align: middle;\n",
       "    }\n",
       "\n",
       "    .dataframe tbody tr th {\n",
       "        vertical-align: top;\n",
       "    }\n",
       "\n",
       "    .dataframe thead th {\n",
       "        text-align: right;\n",
       "    }\n",
       "</style>\n",
       "<table border=\"1\" class=\"dataframe\">\n",
       "  <thead>\n",
       "    <tr style=\"text-align: right;\">\n",
       "      <th></th>\n",
       "      <th>song_gn_dtl_gnr_basket</th>\n",
       "      <th>issue_date</th>\n",
       "      <th>album_name</th>\n",
       "      <th>album_id</th>\n",
       "      <th>artist_id_basket</th>\n",
       "      <th>song_name</th>\n",
       "      <th>song_gn_gnr_basket</th>\n",
       "      <th>artist_name_basket</th>\n",
       "      <th>id</th>\n",
       "    </tr>\n",
       "  </thead>\n",
       "  <tbody>\n",
       "    <tr>\n",
       "      <th>0</th>\n",
       "      <td>[GN0901]</td>\n",
       "      <td>20140512</td>\n",
       "      <td>불후의 명곡 - 7080 추억의 얄개시대 팝송베스트</td>\n",
       "      <td>2255639</td>\n",
       "      <td>[2727]</td>\n",
       "      <td>Feelings</td>\n",
       "      <td>[GN0900]</td>\n",
       "      <td>[Various Artists]</td>\n",
       "      <td>0</td>\n",
       "    </tr>\n",
       "    <tr>\n",
       "      <th>1</th>\n",
       "      <td>[GN1601, GN1606]</td>\n",
       "      <td>20080421</td>\n",
       "      <td>Bach : Partitas Nos. 2, 3 &amp; 4</td>\n",
       "      <td>376431</td>\n",
       "      <td>[29966]</td>\n",
       "      <td>Bach : Partita No. 4 In D Major, BWV 828 - II....</td>\n",
       "      <td>[GN1600]</td>\n",
       "      <td>[Murray Perahia]</td>\n",
       "      <td>1</td>\n",
       "    </tr>\n",
       "    <tr>\n",
       "      <th>2</th>\n",
       "      <td>[GN0901]</td>\n",
       "      <td>20180518</td>\n",
       "      <td>Hit</td>\n",
       "      <td>4698747</td>\n",
       "      <td>[3361]</td>\n",
       "      <td>Solsbury Hill (Remastered 2002)</td>\n",
       "      <td>[GN0900]</td>\n",
       "      <td>[Peter Gabriel]</td>\n",
       "      <td>2</td>\n",
       "    </tr>\n",
       "  </tbody>\n",
       "</table>\n",
       "</div>"
      ],
      "text/plain": [
       "  song_gn_dtl_gnr_basket issue_date                     album_name  album_id  \\\n",
       "0               [GN0901]   20140512   불후의 명곡 - 7080 추억의 얄개시대 팝송베스트   2255639   \n",
       "1       [GN1601, GN1606]   20080421  Bach : Partitas Nos. 2, 3 & 4    376431   \n",
       "2               [GN0901]   20180518                            Hit   4698747   \n",
       "\n",
       "  artist_id_basket                                          song_name  \\\n",
       "0           [2727]                                           Feelings   \n",
       "1          [29966]  Bach : Partita No. 4 In D Major, BWV 828 - II....   \n",
       "2           [3361]                    Solsbury Hill (Remastered 2002)   \n",
       "\n",
       "  song_gn_gnr_basket artist_name_basket  id  \n",
       "0           [GN0900]  [Various Artists]   0  \n",
       "1           [GN1600]   [Murray Perahia]   1  \n",
       "2           [GN0900]    [Peter Gabriel]   2  "
      ]
     },
     "execution_count": 34,
     "metadata": {},
     "output_type": "execute_result"
    }
   ],
   "source": [
    "with open(os.path.join(base_dir,'song_meta.json'),encoding='utf-8') as f:\n",
    "    song_meta = json.load(f)\n",
    "    \n",
    "song_meta_df = pd.DataFrame(song_meta)\n",
    "song_meta_df.head(3)"
   ]
  },
  {
   "cell_type": "code",
   "execution_count": 35,
   "id": "historical-pressure",
   "metadata": {
    "ExecuteTime": {
     "end_time": "2021-08-21T04:50:05.999779Z",
     "start_time": "2021-08-21T04:50:05.970186Z"
    }
   },
   "outputs": [
    {
     "data": {
      "text/html": [
       "<div>\n",
       "<style scoped>\n",
       "    .dataframe tbody tr th:only-of-type {\n",
       "        vertical-align: middle;\n",
       "    }\n",
       "\n",
       "    .dataframe tbody tr th {\n",
       "        vertical-align: top;\n",
       "    }\n",
       "\n",
       "    .dataframe thead th {\n",
       "        text-align: right;\n",
       "    }\n",
       "</style>\n",
       "<table border=\"1\" class=\"dataframe\">\n",
       "  <thead>\n",
       "    <tr style=\"text-align: right;\">\n",
       "      <th></th>\n",
       "      <th>장르소분류list</th>\n",
       "      <th>등록일</th>\n",
       "      <th>앨범명</th>\n",
       "      <th>앨범id</th>\n",
       "      <th>가수id_list</th>\n",
       "      <th>곡명</th>\n",
       "      <th>장르대분류list</th>\n",
       "      <th>가수명list</th>\n",
       "      <th>곡id</th>\n",
       "    </tr>\n",
       "  </thead>\n",
       "  <tbody>\n",
       "    <tr>\n",
       "      <th>0</th>\n",
       "      <td>[GN0901]</td>\n",
       "      <td>20140512</td>\n",
       "      <td>불후의 명곡 - 7080 추억의 얄개시대 팝송베스트</td>\n",
       "      <td>2255639</td>\n",
       "      <td>[2727]</td>\n",
       "      <td>Feelings</td>\n",
       "      <td>[GN0900]</td>\n",
       "      <td>[Various Artists]</td>\n",
       "      <td>0</td>\n",
       "    </tr>\n",
       "    <tr>\n",
       "      <th>1</th>\n",
       "      <td>[GN1601, GN1606]</td>\n",
       "      <td>20080421</td>\n",
       "      <td>Bach : Partitas Nos. 2, 3 &amp; 4</td>\n",
       "      <td>376431</td>\n",
       "      <td>[29966]</td>\n",
       "      <td>Bach : Partita No. 4 In D Major, BWV 828 - II....</td>\n",
       "      <td>[GN1600]</td>\n",
       "      <td>[Murray Perahia]</td>\n",
       "      <td>1</td>\n",
       "    </tr>\n",
       "    <tr>\n",
       "      <th>2</th>\n",
       "      <td>[GN0901]</td>\n",
       "      <td>20180518</td>\n",
       "      <td>Hit</td>\n",
       "      <td>4698747</td>\n",
       "      <td>[3361]</td>\n",
       "      <td>Solsbury Hill (Remastered 2002)</td>\n",
       "      <td>[GN0900]</td>\n",
       "      <td>[Peter Gabriel]</td>\n",
       "      <td>2</td>\n",
       "    </tr>\n",
       "  </tbody>\n",
       "</table>\n",
       "</div>"
      ],
      "text/plain": [
       "          장르소분류list       등록일                            앨범명     앨범id  \\\n",
       "0          [GN0901]  20140512   불후의 명곡 - 7080 추억의 얄개시대 팝송베스트  2255639   \n",
       "1  [GN1601, GN1606]  20080421  Bach : Partitas Nos. 2, 3 & 4   376431   \n",
       "2          [GN0901]  20180518                            Hit  4698747   \n",
       "\n",
       "  가수id_list                                                 곡명 장르대분류list  \\\n",
       "0    [2727]                                           Feelings  [GN0900]   \n",
       "1   [29966]  Bach : Partita No. 4 In D Major, BWV 828 - II....  [GN1600]   \n",
       "2    [3361]                    Solsbury Hill (Remastered 2002)  [GN0900]   \n",
       "\n",
       "             가수명list  곡id  \n",
       "0  [Various Artists]    0  \n",
       "1   [Murray Perahia]    1  \n",
       "2    [Peter Gabriel]    2  "
      ]
     },
     "execution_count": 35,
     "metadata": {},
     "output_type": "execute_result"
    }
   ],
   "source": [
    "song_meta_df.columns = ['장르소분류list','등록일','앨범명','앨범id','가수id_list','곡명','장르대분류list','가수명list','곡id']\n",
    "song_meta_df.head(3)"
   ]
  },
  {
   "cell_type": "code",
   "execution_count": 36,
   "id": "2bc84d16",
   "metadata": {
    "ExecuteTime": {
     "end_time": "2021-08-21T04:50:06.030690Z",
     "start_time": "2021-08-21T04:50:06.001214Z"
    }
   },
   "outputs": [
    {
     "data": {
      "text/html": [
       "<div>\n",
       "<style scoped>\n",
       "    .dataframe tbody tr th:only-of-type {\n",
       "        vertical-align: middle;\n",
       "    }\n",
       "\n",
       "    .dataframe tbody tr th {\n",
       "        vertical-align: top;\n",
       "    }\n",
       "\n",
       "    .dataframe thead th {\n",
       "        text-align: right;\n",
       "    }\n",
       "</style>\n",
       "<table border=\"1\" class=\"dataframe\">\n",
       "  <thead>\n",
       "    <tr style=\"text-align: right;\">\n",
       "      <th></th>\n",
       "      <th>tags</th>\n",
       "      <th>id</th>\n",
       "      <th>plylst_title</th>\n",
       "      <th>songs</th>\n",
       "      <th>like_cnt</th>\n",
       "      <th>updt_date</th>\n",
       "      <th>playlist_length</th>\n",
       "      <th>normal_cnt</th>\n",
       "      <th>tag_mean</th>\n",
       "      <th>songs_mean</th>\n",
       "      <th>tags_cnt</th>\n",
       "      <th>updt_date_to_date</th>\n",
       "    </tr>\n",
       "  </thead>\n",
       "  <tbody>\n",
       "    <tr>\n",
       "      <th>0</th>\n",
       "      <td>[락]</td>\n",
       "      <td>61281</td>\n",
       "      <td>여행같은 음악</td>\n",
       "      <td>[525514, 129701, 383374, 562083, 297861, 13954...</td>\n",
       "      <td>71</td>\n",
       "      <td>2013-12-19 18:36:19</td>\n",
       "      <td>19</td>\n",
       "      <td>1.068083</td>\n",
       "      <td>4007.0</td>\n",
       "      <td>14.736842</td>\n",
       "      <td>1</td>\n",
       "      <td>3664</td>\n",
       "    </tr>\n",
       "    <tr>\n",
       "      <th>1</th>\n",
       "      <td>[추억, 회상]</td>\n",
       "      <td>10532</td>\n",
       "      <td>요즘 너 말야</td>\n",
       "      <td>[432406, 675945, 497066, 120377, 389529, 24427...</td>\n",
       "      <td>1</td>\n",
       "      <td>2014-12-02 16:19:42</td>\n",
       "      <td>42</td>\n",
       "      <td>-1.103747</td>\n",
       "      <td>5549.5</td>\n",
       "      <td>169.761905</td>\n",
       "      <td>2</td>\n",
       "      <td>4012</td>\n",
       "    </tr>\n",
       "    <tr>\n",
       "      <th>2</th>\n",
       "      <td>[까페, 잔잔한]</td>\n",
       "      <td>76951</td>\n",
       "      <td>편하게, 잔잔하게 들을 수 있는 곡.-</td>\n",
       "      <td>[83116, 276692, 166267, 186301, 354465, 256598...</td>\n",
       "      <td>17</td>\n",
       "      <td>2017-08-28 07:09:34</td>\n",
       "      <td>28</td>\n",
       "      <td>0.496976</td>\n",
       "      <td>6537.0</td>\n",
       "      <td>68.571429</td>\n",
       "      <td>2</td>\n",
       "      <td>5013</td>\n",
       "    </tr>\n",
       "  </tbody>\n",
       "</table>\n",
       "</div>"
      ],
      "text/plain": [
       "        tags     id           plylst_title  \\\n",
       "0        [락]  61281                여행같은 음악   \n",
       "1   [추억, 회상]  10532                요즘 너 말야   \n",
       "2  [까페, 잔잔한]  76951  편하게, 잔잔하게 들을 수 있는 곡.-   \n",
       "\n",
       "                                               songs  like_cnt  \\\n",
       "0  [525514, 129701, 383374, 562083, 297861, 13954...        71   \n",
       "1  [432406, 675945, 497066, 120377, 389529, 24427...         1   \n",
       "2  [83116, 276692, 166267, 186301, 354465, 256598...        17   \n",
       "\n",
       "            updt_date  playlist_length  normal_cnt  tag_mean  songs_mean  \\\n",
       "0 2013-12-19 18:36:19               19    1.068083    4007.0   14.736842   \n",
       "1 2014-12-02 16:19:42               42   -1.103747    5549.5  169.761905   \n",
       "2 2017-08-28 07:09:34               28    0.496976    6537.0   68.571429   \n",
       "\n",
       "   tags_cnt  updt_date_to_date  \n",
       "0         1               3664  \n",
       "1         2               4012  \n",
       "2         2               5013  "
      ]
     },
     "execution_count": 36,
     "metadata": {},
     "output_type": "execute_result"
    }
   ],
   "source": [
    "train_df.head(3)"
   ]
  },
  {
   "cell_type": "code",
   "execution_count": 37,
   "id": "distant-ukraine",
   "metadata": {
    "ExecuteTime": {
     "end_time": "2021-08-21T04:50:06.046208Z",
     "start_time": "2021-08-21T04:50:06.032213Z"
    }
   },
   "outputs": [],
   "source": [
    "with open(os.path.join(base_dir,'genre_gn_all.json'),encoding='utf-8') as f:\n",
    "    genre = json.load(f)"
   ]
  },
  {
   "cell_type": "code",
   "execution_count": 38,
   "id": "certified-mambo",
   "metadata": {
    "ExecuteTime": {
     "end_time": "2021-08-21T04:50:06.061466Z",
     "start_time": "2021-08-21T04:50:06.047331Z"
    }
   },
   "outputs": [],
   "source": [
    "train_column = ['태그','플리아이디','플리제목',\n",
    "                              '좋아요 횟수','갱신일','플리곡수',\n",
    "                              '정규화_좋아요','태그_좋아요_평균',\n",
    "                              '곡_좋아요_평균','태그수','갱신일_날짜']\n",
    "train_column.extend(song_meta_df.columns)\n",
    "\n",
    "train_ws_df = pd.DataFrame(columns=train_column)"
   ]
  },
  {
   "cell_type": "code",
   "execution_count": 39,
   "id": "human-judgment",
   "metadata": {
    "ExecuteTime": {
     "end_time": "2021-08-21T04:51:20.242577Z",
     "start_time": "2021-08-21T04:50:06.063109Z"
    }
   },
   "outputs": [
    {
     "data": {
      "text/plain": [
       "0         0\n",
       "1         0\n",
       "2         0\n",
       "3         0\n",
       "4         0\n",
       "         ..\n",
       "115066    0\n",
       "115067    0\n",
       "115068    0\n",
       "115069    0\n",
       "115070    0\n",
       "Name: songs, Length: 115071, dtype: int64"
      ]
     },
     "execution_count": 39,
     "metadata": {},
     "output_type": "execute_result"
    }
   ],
   "source": [
    "count_as_index = 0\n",
    "\n",
    "def song_merge(x):\n",
    "    \n",
    "    global count_as_index\n",
    "    row_list = train_df.loc[count_as_index,train_df.columns.difference(['songs'])].values\n",
    "    \n",
    "    return 0\n",
    "\n",
    "train_df['songs'].map(song_merge)"
   ]
  },
  {
   "cell_type": "markdown",
   "id": "incident-responsibility",
   "metadata": {},
   "source": [
    "## SongMeta.장르소분류list\n"
   ]
  },
  {
   "cell_type": "code",
   "execution_count": null,
   "id": "continental-european",
   "metadata": {},
   "outputs": [],
   "source": []
  }
 ],
 "metadata": {
  "kernelspec": {
   "display_name": "Python 3 (ipykernel)",
   "language": "python",
   "name": "python3"
  },
  "language_info": {
   "codemirror_mode": {
    "name": "ipython",
    "version": 3
   },
   "file_extension": ".py",
   "mimetype": "text/x-python",
   "name": "python",
   "nbconvert_exporter": "python",
   "pygments_lexer": "ipython3",
   "version": "3.9.6"
  },
  "toc": {
   "base_numbering": 1,
   "nav_menu": {},
   "number_sections": true,
   "sideBar": true,
   "skip_h1_title": false,
   "title_cell": "Table of Contents",
   "title_sidebar": "Contents",
   "toc_cell": false,
   "toc_position": {
    "height": "calc(100% - 180px)",
    "left": "10px",
    "top": "150px",
    "width": "276px"
   },
   "toc_section_display": true,
   "toc_window_display": true
  },
  "varInspector": {
   "cols": {
    "lenName": 16,
    "lenType": 16,
    "lenVar": 40
   },
   "kernels_config": {
    "python": {
     "delete_cmd_postfix": "",
     "delete_cmd_prefix": "del ",
     "library": "var_list.py",
     "varRefreshCmd": "print(var_dic_list())"
    },
    "r": {
     "delete_cmd_postfix": ") ",
     "delete_cmd_prefix": "rm(",
     "library": "var_list.r",
     "varRefreshCmd": "cat(var_dic_list()) "
    }
   },
   "position": {
    "height": "796px",
    "left": "2199px",
    "right": "20px",
    "top": "120px",
    "width": "341px"
   },
   "types_to_exclude": [
    "module",
    "function",
    "builtin_function_or_method",
    "instance",
    "_Feature"
   ],
   "window_display": false
  }
 },
 "nbformat": 4,
 "nbformat_minor": 5
}
