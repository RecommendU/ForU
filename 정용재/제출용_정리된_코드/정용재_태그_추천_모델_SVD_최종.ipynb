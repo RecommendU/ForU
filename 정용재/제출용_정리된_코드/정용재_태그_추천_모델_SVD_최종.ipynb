{
 "cells": [
  {
   "cell_type": "markdown",
   "id": "09383984",
   "metadata": {},
   "source": [
    "# 필요한 라이브러리 import"
   ]
  },
  {
   "cell_type": "code",
   "execution_count": 56,
   "id": "c5bfe0a3",
   "metadata": {
    "ExecuteTime": {
     "end_time": "2021-11-10T08:14:42.552464Z",
     "start_time": "2021-11-10T08:14:42.533470Z"
    }
   },
   "outputs": [],
   "source": [
    "import os\n",
    "import json\n",
    "import numpy as np\n",
    "import pandas as pd\n",
    "from scipy import sparse as spr\n",
    "from itertools import chain\n",
    "from collections import defaultdict,Counter\n",
    "import hnswlib\n",
    "import warnings\n",
    "import pickle\n",
    "import matplotlib.pyplot as plt\n",
    "import seaborn as sns\n",
    "from itertools import repeat\n",
    "import random\n",
    "from scipy.stats import skew,kurtosis\n",
    "warnings.filterwarnings(action='ignore')"
   ]
  },
  {
   "cell_type": "markdown",
   "id": "9ae8eb62",
   "metadata": {},
   "source": [
    "# 데이터 로드"
   ]
  },
  {
   "cell_type": "markdown",
   "id": "609ecae1",
   "metadata": {},
   "source": [
    "## 노래 데이터 로드"
   ]
  },
  {
   "cell_type": "code",
   "execution_count": 57,
   "id": "alike-angola",
   "metadata": {
    "ExecuteTime": {
     "end_time": "2021-11-10T08:15:00.856745Z",
     "start_time": "2021-11-10T08:14:42.553471Z"
    }
   },
   "outputs": [],
   "source": [
    "with open('./data/song_meta.json',encoding='utf-8-sig') as f:\n",
    "    song_dict = json.load(f)\n",
    "    \n",
    "song_df = pd.DataFrame.from_dict(song_dict)"
   ]
  },
  {
   "cell_type": "markdown",
   "id": "8ed93451",
   "metadata": {},
   "source": [
    "## 장르 데이터 로드"
   ]
  },
  {
   "cell_type": "code",
   "execution_count": 58,
   "id": "unique-electric",
   "metadata": {
    "ExecuteTime": {
     "end_time": "2021-11-10T08:15:00.872729Z",
     "start_time": "2021-11-10T08:15:00.859730Z"
    }
   },
   "outputs": [],
   "source": [
    "with open('./data/genre_gn_all.json',encoding='utf-8-sig') as f:\n",
    "    genre_dict = json.load(f)"
   ]
  },
  {
   "cell_type": "markdown",
   "id": "f8d12ca6",
   "metadata": {},
   "source": [
    "## 플레이리스트 데이터 로드"
   ]
  },
  {
   "cell_type": "code",
   "execution_count": 59,
   "id": "31d7a997",
   "metadata": {
    "ExecuteTime": {
     "end_time": "2021-11-10T08:15:02.375713Z",
     "start_time": "2021-11-10T08:15:00.875733Z"
    }
   },
   "outputs": [],
   "source": [
    "with open('./data/train.json',encoding='utf-8-sig') as f:\n",
    "    train_dict = json.load(f)\n",
    "    \n",
    "playlist_df = pd.DataFrame.from_dict(train_dict)"
   ]
  },
  {
   "cell_type": "markdown",
   "id": "7f312eb5",
   "metadata": {},
   "source": [
    "# 데이터 전처리"
   ]
  },
  {
   "cell_type": "markdown",
   "id": "e83fb22c",
   "metadata": {},
   "source": [
    "## 태그 전처리"
   ]
  },
  {
   "cell_type": "markdown",
   "id": "5de1509c",
   "metadata": {},
   "source": [
    "### tag와 tag_id 간 딕셔너리 만들기 "
   ]
  },
  {
   "cell_type": "code",
   "execution_count": 60,
   "id": "d3ee5d86",
   "metadata": {
    "ExecuteTime": {
     "end_time": "2021-11-10T08:15:02.423707Z",
     "start_time": "2021-11-10T08:15:02.376692Z"
    }
   },
   "outputs": [],
   "source": [
    "with open('./data/tag_tag_id_dict.json','r',encoding='utf-8-sig') as f:\n",
    "    tag_to_id = json.load(f)"
   ]
  },
  {
   "cell_type": "code",
   "execution_count": 61,
   "id": "71a24f2c",
   "metadata": {
    "ExecuteTime": {
     "end_time": "2021-11-10T08:15:02.439693Z",
     "start_time": "2021-11-10T08:15:02.425692Z"
    }
   },
   "outputs": [],
   "source": [
    "# id를 tag로\n",
    "id_to_tag = {}\n",
    "    \n",
    "for k,v in tag_to_id.items() :\n",
    "    id_to_tag[v] = k"
   ]
  },
  {
   "cell_type": "markdown",
   "id": "interesting-lloyd",
   "metadata": {},
   "source": [
    "### 태그 사용 빈도수 도출"
   ]
  },
  {
   "cell_type": "code",
   "execution_count": 63,
   "id": "1e8963c5",
   "metadata": {
    "ExecuteTime": {
     "end_time": "2021-11-10T08:15:29.848389Z",
     "start_time": "2021-11-10T08:15:29.682379Z"
    }
   },
   "outputs": [],
   "source": [
    "# train dataframe tag 컬럼의 모든 tag들 (중복포함)\n",
    "tags_all = playlist_df['tags'].tolist()\n",
    "\n",
    "# 태그의 빈도수를 가진 dict, Counter 써도 됨\n",
    "tags_frequency = defaultdict(int)\n",
    "\n",
    "# 특정 tag가 나올 때마다 1더하기\n",
    "for tags in tags_all:\n",
    "    for tag in tags:\n",
    "        tags_frequency[tag] += 1"
   ]
  },
  {
   "cell_type": "code",
   "execution_count": 64,
   "id": "04c26c2d",
   "metadata": {
    "ExecuteTime": {
     "end_time": "2021-11-10T08:15:33.026844Z",
     "start_time": "2021-11-10T08:15:32.958887Z"
    }
   },
   "outputs": [
    {
     "data": {
      "text/html": [
       "<div>\n",
       "<style scoped>\n",
       "    .dataframe tbody tr th:only-of-type {\n",
       "        vertical-align: middle;\n",
       "    }\n",
       "\n",
       "    .dataframe tbody tr th {\n",
       "        vertical-align: top;\n",
       "    }\n",
       "\n",
       "    .dataframe thead th {\n",
       "        text-align: right;\n",
       "    }\n",
       "</style>\n",
       "<table border=\"1\" class=\"dataframe\">\n",
       "  <thead>\n",
       "    <tr style=\"text-align: right;\">\n",
       "      <th></th>\n",
       "      <th>count</th>\n",
       "      <th>mean</th>\n",
       "      <th>std</th>\n",
       "      <th>min</th>\n",
       "      <th>25%</th>\n",
       "      <th>50%</th>\n",
       "      <th>75%</th>\n",
       "      <th>max</th>\n",
       "    </tr>\n",
       "  </thead>\n",
       "  <tbody>\n",
       "    <tr>\n",
       "      <th>빈도</th>\n",
       "      <td>29160.0</td>\n",
       "      <td>16.335082</td>\n",
       "      <td>247.011075</td>\n",
       "      <td>1.0</td>\n",
       "      <td>1.0</td>\n",
       "      <td>1.0</td>\n",
       "      <td>3.0</td>\n",
       "      <td>16465.0</td>\n",
       "    </tr>\n",
       "  </tbody>\n",
       "</table>\n",
       "</div>"
      ],
      "text/plain": [
       "      count       mean         std  min  25%  50%  75%      max\n",
       "빈도  29160.0  16.335082  247.011075  1.0  1.0  1.0  3.0  16465.0"
      ]
     },
     "execution_count": 64,
     "metadata": {},
     "output_type": "execute_result"
    }
   ],
   "source": [
    "# 태그 빈도의 분포를 알아보자\n",
    "tag_freq = pd.DataFrame().from_dict(tags_frequency,orient=\"index\")\n",
    "tag_freq.columns=['빈도']\n",
    "tag_freq.describe().T"
   ]
  },
  {
   "cell_type": "markdown",
   "id": "initial-seller",
   "metadata": {},
   "source": [
    "### 태그 사용 빈도 수의 평균 값(16)을 기준으로 태그를 절삭"
   ]
  },
  {
   "cell_type": "code",
   "execution_count": 65,
   "id": "still-istanbul",
   "metadata": {
    "ExecuteTime": {
     "end_time": "2021-11-10T08:15:41.970911Z",
     "start_time": "2021-11-10T08:15:41.801901Z"
    }
   },
   "outputs": [],
   "source": [
    "# 빈도수로 태그를 filter\n",
    "\n",
    "def filter_func(x):\n",
    "    temp = []\n",
    "    for tag in x:\n",
    "        if tags_frequency[tag] >=16:\n",
    "            temp.append(tag)\n",
    "        else:\n",
    "            pass\n",
    "    return temp\n",
    "            \n",
    "playlist_df['tags'] = playlist_df['tags'].map(filter_func)"
   ]
  },
  {
   "cell_type": "markdown",
   "id": "9ad1bc08",
   "metadata": {},
   "source": [
    "### 행렬을 만들기 위해 tag를 id로 만들어 새 컬럼 생성"
   ]
  },
  {
   "cell_type": "code",
   "execution_count": 66,
   "id": "2c1c7387",
   "metadata": {
    "ExecuteTime": {
     "end_time": "2021-11-10T08:15:49.629274Z",
     "start_time": "2021-11-10T08:15:49.515195Z"
    }
   },
   "outputs": [],
   "source": [
    "# filter된 태그의 id만 남기기\n",
    "playlist_df['tag_ids'] = playlist_df['tags'].map(lambda x : [tag_to_id[v] for v in x])"
   ]
  },
  {
   "cell_type": "markdown",
   "id": "ignored-upper",
   "metadata": {},
   "source": [
    "### 컬럼명 한글화 및 플레이리스트 당 태그의 수 컬럼 생성"
   ]
  },
  {
   "cell_type": "code",
   "execution_count": 67,
   "id": "afraid-television",
   "metadata": {
    "ExecuteTime": {
     "end_time": "2021-11-10T08:16:02.450199Z",
     "start_time": "2021-11-10T08:16:02.413199Z"
    }
   },
   "outputs": [],
   "source": [
    "playlist_df.columns=['태그','플리아이디','플리제목','노래들','좋아요수','변경일자','태그아이디']\n",
    "playlist_df['태그수'] = playlist_df['태그'].map(len)"
   ]
  },
  {
   "cell_type": "markdown",
   "id": "affected-murray",
   "metadata": {},
   "source": [
    "## 플레이리스트의 태그로 예측에 사용 될 태그와 검증에 사용 될 태그로 나누기"
   ]
  },
  {
   "cell_type": "code",
   "execution_count": 68,
   "id": "disabled-forum",
   "metadata": {
    "ExecuteTime": {
     "end_time": "2021-11-10T08:16:20.576776Z",
     "start_time": "2021-11-10T08:16:20.269946Z"
    }
   },
   "outputs": [
    {
     "data": {
      "text/html": [
       "<div>\n",
       "<style scoped>\n",
       "    .dataframe tbody tr th:only-of-type {\n",
       "        vertical-align: middle;\n",
       "    }\n",
       "\n",
       "    .dataframe tbody tr th {\n",
       "        vertical-align: top;\n",
       "    }\n",
       "\n",
       "    .dataframe thead th {\n",
       "        text-align: right;\n",
       "    }\n",
       "</style>\n",
       "<table border=\"1\" class=\"dataframe\">\n",
       "  <thead>\n",
       "    <tr style=\"text-align: right;\">\n",
       "      <th></th>\n",
       "      <th>예측용태그</th>\n",
       "      <th>검증용태그</th>\n",
       "      <th>svd_예측결과</th>\n",
       "      <th>svd_히트</th>\n",
       "    </tr>\n",
       "  </thead>\n",
       "  <tbody>\n",
       "    <tr>\n",
       "      <th>0</th>\n",
       "      <td>[겨울노래, 캐럴]</td>\n",
       "      <td>[눈오는날, 따듯한, 연말, 분위기, 겨울왕국, 크리스마스]</td>\n",
       "      <td>NaN</td>\n",
       "      <td>NaN</td>\n",
       "    </tr>\n",
       "  </tbody>\n",
       "</table>\n",
       "</div>"
      ],
      "text/plain": [
       "        예측용태그                              검증용태그 svd_예측결과 svd_히트\n",
       "0  [겨울노래, 캐럴]  [눈오는날, 따듯한, 연말, 분위기, 겨울왕국, 크리스마스]      NaN    NaN"
      ]
     },
     "execution_count": 68,
     "metadata": {},
     "output_type": "execute_result"
    }
   ],
   "source": [
    "# 3:7 비율로 랜덤으로 나눌 것이기 때문에 태그수가 3 보다 커야 한다.\n",
    "origin_tags = playlist_df[playlist_df['태그수']>3]['태그'].tolist()\n",
    "\n",
    "train_tags = []\n",
    "test_tags = []\n",
    "\n",
    "# 3:7비율로 나누기\n",
    "for tags in origin_tags:\n",
    "    tag_3p = len(tags)//3\n",
    "    train_tag = random.sample(tags, tag_3p)\n",
    "    test_tag = list(set(tags)-set(train_tag))\n",
    "    train_tags.append(train_tag)\n",
    "    test_tags.append(test_tag)\n",
    "    \n",
    "cal_tag_hit_df = pd.DataFrame(columns=['예측용태그','검증용태그','svd_예측결과','svd_히트'])\n",
    "\n",
    "cal_tag_hit_df['예측용태그'] = train_tags\n",
    "cal_tag_hit_df['검증용태그'] = test_tags\n",
    "cal_tag_hit_df.head(1)"
   ]
  },
  {
   "cell_type": "markdown",
   "id": "098f316b",
   "metadata": {},
   "source": [
    "# 세부장르 전처리"
   ]
  },
  {
   "cell_type": "markdown",
   "id": "ecc4df4b",
   "metadata": {},
   "source": [
    "## 노래 데이터 프레임 컬럼명 한글화"
   ]
  },
  {
   "cell_type": "code",
   "execution_count": 69,
   "id": "grateful-identity",
   "metadata": {
    "ExecuteTime": {
     "end_time": "2021-11-10T08:16:25.764617Z",
     "start_time": "2021-11-10T08:16:25.748668Z"
    }
   },
   "outputs": [],
   "source": [
    "# 노래 데이터 프레임 컬럼명 한글화\n",
    "song_df.colums=['세부장르','발매일','앨범명','앨범ID','가수ID','노래명','대장르','가수명','노래ID']"
   ]
  },
  {
   "cell_type": "markdown",
   "id": "disturbed-desert",
   "metadata": {},
   "source": [
    "## 세부 장르 이름에 대장르의 이름 넣기"
   ]
  },
  {
   "cell_type": "code",
   "execution_count": 70,
   "id": "listed-monthly",
   "metadata": {
    "ExecuteTime": {
     "end_time": "2021-11-10T08:16:29.917000Z",
     "start_time": "2021-11-10T08:16:29.898002Z"
    }
   },
   "outputs": [],
   "source": [
    "genre_dict['GN9000'] = '기타장르'\n",
    "\n",
    "genre_big = {}\n",
    "\n",
    "# 모든 장르 딕셔너리를 돌면서\n",
    "for k,v in genre_dict.items():\n",
    "    \n",
    "    # 맨 뒤 두자리가 00이면 대장류로 분류\n",
    "    if k[-2:] == '00':\n",
    "        \n",
    "        # 맨앞 네자리를 키로 하는 대장류 딕셔너리 값 추가\n",
    "        genre_big[k[:4]] = v\n",
    "\n",
    "genre_detail_dict = {}\n",
    "\n",
    "# 모든 딕셔너리를 돌면서\n",
    "for k,v in genre_dict.items():\n",
    "    \n",
    "    # 맨뒤 두자리가 00이 아니면 대장류가 아닌거임!\n",
    "    if k[-2:] != '00':\n",
    "        \n",
    "        # 그럴떈 아까만든 대장르 딕셔너리의 대장류 이름을 추가해서 이름을 수정해서 다시 넣어줌\n",
    "        new_value = genre_big[k[:4]]+'_'+v\n",
    "        genre_detail_dict[k] = new_value\n",
    "        \n",
    "genre_big_dict = {}\n",
    "\n",
    "for k,v in genre_big.items():\n",
    "    genre_big_dict[k+'00'] = v"
   ]
  },
  {
   "cell_type": "markdown",
   "id": "ff6232e1",
   "metadata": {},
   "source": [
    "## 세부장르ID와 CODE간 딕셔너리 생성"
   ]
  },
  {
   "cell_type": "code",
   "execution_count": 71,
   "id": "flexible-tumor",
   "metadata": {
    "ExecuteTime": {
     "end_time": "2021-11-10T08:16:30.835991Z",
     "start_time": "2021-11-10T08:16:30.824939Z"
    }
   },
   "outputs": [],
   "source": [
    "# 세부장르의 id를 세부장르 코드로\n",
    "genre_detail_id_to_code = {}\n",
    "\n",
    "# 세부장르의 코드를 세부장르의 id로\n",
    "genre_detail_code_to_id = {}\n",
    "\n",
    "for i,v in enumerate(list(genre_detail_dict.keys())):\n",
    "    genre_detail_id_to_code[i] = v\n",
    "    \n",
    "for i,v in enumerate(list(genre_detail_dict.keys())):\n",
    "    genre_detail_code_to_id[v] = i"
   ]
  },
  {
   "cell_type": "markdown",
   "id": "455434b6",
   "metadata": {},
   "source": [
    "## 노래ID와 세부장르ID간 딕셔너리 생성"
   ]
  },
  {
   "cell_type": "code",
   "execution_count": 72,
   "id": "disciplinary-parish",
   "metadata": {
    "ExecuteTime": {
     "end_time": "2021-11-10T08:16:34.340025Z",
     "start_time": "2021-11-10T08:16:33.714296Z"
    }
   },
   "outputs": [],
   "source": [
    "# 노래의 ID를 KEY 세부장르의 ID리스트를 ITEM으로 하는 딕셔너리 생성 \n",
    "\n",
    "song_genre_detail_dict = defaultdict(list)\n",
    "\n",
    "for codes,id in zip(song_df['song_gn_dtl_gnr_basket'].tolist(),song_df['id'].tolist()):\n",
    "    for code in codes:\n",
    "        song_genre_detail_dict[id].append(genre_detail_code_to_id[code])"
   ]
  },
  {
   "cell_type": "markdown",
   "id": "restricted-casting",
   "metadata": {},
   "source": [
    "## 플레이리스트 각 노래마다 달린 세부장르의 ID를 전부 플레이리스트에 추가"
   ]
  },
  {
   "cell_type": "code",
   "execution_count": 73,
   "id": "material-agenda",
   "metadata": {
    "ExecuteTime": {
     "end_time": "2021-11-10T08:16:46.703076Z",
     "start_time": "2021-11-10T08:16:43.202146Z"
    }
   },
   "outputs": [
    {
     "data": {
      "text/html": [
       "<div>\n",
       "<style scoped>\n",
       "    .dataframe tbody tr th:only-of-type {\n",
       "        vertical-align: middle;\n",
       "    }\n",
       "\n",
       "    .dataframe tbody tr th {\n",
       "        vertical-align: top;\n",
       "    }\n",
       "\n",
       "    .dataframe thead th {\n",
       "        text-align: right;\n",
       "    }\n",
       "</style>\n",
       "<table border=\"1\" class=\"dataframe\">\n",
       "  <thead>\n",
       "    <tr style=\"text-align: right;\">\n",
       "      <th></th>\n",
       "      <th>태그</th>\n",
       "      <th>플리아이디</th>\n",
       "      <th>플리제목</th>\n",
       "      <th>노래들</th>\n",
       "      <th>좋아요수</th>\n",
       "      <th>변경일자</th>\n",
       "      <th>태그아이디</th>\n",
       "      <th>태그수</th>\n",
       "      <th>세부장르</th>\n",
       "    </tr>\n",
       "  </thead>\n",
       "  <tbody>\n",
       "    <tr>\n",
       "      <th>0</th>\n",
       "      <td>[락]</td>\n",
       "      <td>61281</td>\n",
       "      <td>여행같은 음악</td>\n",
       "      <td>[525514, 129701, 383374, 562083, 297861, 13954...</td>\n",
       "      <td>71</td>\n",
       "      <td>2013-12-19 18:36:19.000</td>\n",
       "      <td>[25304]</td>\n",
       "      <td>1</td>\n",
       "      <td>[97, 96, 48, 49, 56, 67, 60, 56, 68, 48, 49, 5...</td>\n",
       "    </tr>\n",
       "  </tbody>\n",
       "</table>\n",
       "</div>"
      ],
      "text/plain": [
       "    태그  플리아이디     플리제목                                                노래들  \\\n",
       "0  [락]  61281  여행같은 음악  [525514, 129701, 383374, 562083, 297861, 13954...   \n",
       "\n",
       "   좋아요수                     변경일자    태그아이디  태그수  \\\n",
       "0    71  2013-12-19 18:36:19.000  [25304]    1   \n",
       "\n",
       "                                                세부장르  \n",
       "0  [97, 96, 48, 49, 56, 67, 60, 56, 68, 48, 49, 5...  "
      ]
     },
     "execution_count": 73,
     "metadata": {},
     "output_type": "execute_result"
    }
   ],
   "source": [
    "# 플레이리스트의 모든 노래의 세부장르를 모아서 새로운 컬럼으로 생성\n",
    "\n",
    "def fetcher(x):\n",
    "    temp = []\n",
    "    for song in x:\n",
    "        genre_ids = song_genre_detail_dict[song]\n",
    "        for id in genre_ids:\n",
    "            temp.append(id)\n",
    "    return temp\n",
    "\n",
    "playlist_df['세부장르'] = playlist_df['노래들'].map(fetcher)\n",
    "playlist_df.head(1)"
   ]
  },
  {
   "cell_type": "markdown",
   "id": "1ab41e1a",
   "metadata": {},
   "source": [
    "## 태그ID와 세부장르ID들 간 딕셔너리 생성"
   ]
  },
  {
   "cell_type": "code",
   "execution_count": 74,
   "id": "regulated-native",
   "metadata": {
    "ExecuteTime": {
     "end_time": "2021-11-10T08:16:49.678482Z",
     "start_time": "2021-11-10T08:16:48.463017Z"
    }
   },
   "outputs": [],
   "source": [
    "# {tag_Id:genre_detail_ids}\n",
    "\n",
    "tag_id_to_genre_detail_ids = defaultdict(list)\n",
    "\n",
    "for ids,genres in zip(train_df['태그아이디'].tolist(),train_df['세부장르'].tolist()):\n",
    "    for id in ids:\n",
    "        tag_id_to_genre_detail_ids[id].extend(genres)"
   ]
  },
  {
   "cell_type": "markdown",
   "id": "b79b2e8f",
   "metadata": {},
   "source": [
    "# 태그-세부장르 간 csr_matrix만들기"
   ]
  },
  {
   "cell_type": "markdown",
   "id": "0c17971c",
   "metadata": {},
   "source": [
    "## 세부장르의 빈도를 Min-Max Scaler로 0~1사이의 값으로 변환"
   ]
  },
  {
   "cell_type": "code",
   "execution_count": 75,
   "id": "incredible-hartford",
   "metadata": {
    "ExecuteTime": {
     "end_time": "2021-11-10T08:16:55.102614Z",
     "start_time": "2021-11-10T08:16:52.957169Z"
    }
   },
   "outputs": [],
   "source": [
    "# 세부장르의 빈도수를 카운트해서 tag_id_to_genre_detail_id의 value를 바꿔줌\n",
    "\n",
    "for k,v in tag_id_to_genre_detail_ids.items():\n",
    "    tag_id_to_genre_detail_ids[k] = dict(Counter(v))"
   ]
  },
  {
   "cell_type": "code",
   "execution_count": 76,
   "id": "invisible-ferry",
   "metadata": {
    "ExecuteTime": {
     "end_time": "2021-11-10T08:16:57.398048Z",
     "start_time": "2021-11-10T08:16:55.982028Z"
    }
   },
   "outputs": [],
   "source": [
    "# 딕셔너리의 빈도를 min_max_scaling 진행\n",
    "for k,value_dict in tag_id_to_genre_detail_ids.items():\n",
    "    max_val = np.max(list(value_dict.values()))\n",
    "    min_val = np.min(list(value_dict.values()))\n",
    "    for key,value in value_dict.items():\n",
    "        value_dict[key] = np.round((value-min_val)/(max_val-min_val),3)"
   ]
  },
  {
   "cell_type": "markdown",
   "id": "a666e219",
   "metadata": {},
   "source": [
    "## 만든 딕셔너리를 이용해서 csr_matrix 생성"
   ]
  },
  {
   "cell_type": "code",
   "execution_count": 77,
   "id": "a9ada042",
   "metadata": {
    "ExecuteTime": {
     "end_time": "2021-11-10T08:17:02.657103Z",
     "start_time": "2021-11-10T08:17:02.571102Z"
    }
   },
   "outputs": [],
   "source": [
    "# 행,열,데이터 list를 생성\n",
    "row = []\n",
    "col = []\n",
    "dat = []\n",
    "\n",
    "for k,v in tag_id_to_genre_detail_ids.items():\n",
    "    for vk,vv in v.items():\n",
    "        row.append(k)\n",
    "        col.append(vk)\n",
    "        dat.append(vv)"
   ]
  },
  {
   "cell_type": "code",
   "execution_count": 78,
   "id": "887d40e4",
   "metadata": {
    "ExecuteTime": {
     "end_time": "2021-11-10T08:17:02.890501Z",
     "start_time": "2021-11-10T08:17:02.799476Z"
    }
   },
   "outputs": [],
   "source": [
    "# 29160의 태그의 가짓수, 224는 세부장르의 가짓수\n",
    "A = spr.csr_matrix((dat, (row, col)), shape=(29160, 224))\n",
    "\n",
    "# 행렬분해 수행을 위해 자료형 변경\n",
    "A = A.astype(float)"
   ]
  },
  {
   "cell_type": "markdown",
   "id": "887a222b",
   "metadata": {},
   "source": [
    "# SVD로 태그 임베딩"
   ]
  },
  {
   "cell_type": "markdown",
   "id": "a727ebe5",
   "metadata": {},
   "source": [
    "## 태그-세부장르 행렬의 SVD 행렬분해 수행 "
   ]
  },
  {
   "cell_type": "code",
   "execution_count": 79,
   "id": "5b681ab7",
   "metadata": {
    "ExecuteTime": {
     "end_time": "2021-11-10T08:17:10.255684Z",
     "start_time": "2021-11-10T08:17:09.070384Z"
    }
   },
   "outputs": [],
   "source": [
    "# svd행렬분해 100개의 sigular vector사용\n",
    "u,s,vt = spr.linalg.svds(A,k=223)\n",
    "\n",
    "svd_vectors = np.matmul(u,np.diag(s))\n",
    "\n",
    "data_len,dim = svd_vectors.shape\n",
    "\n",
    "# svd tag의 벡터들을 저장\n",
    "with open('./models/svd_tag_vectors.pickle', 'wb') as f:\n",
    "    pickle.dump(svd_vectors,f)"
   ]
  },
  {
   "cell_type": "markdown",
   "id": "47328986",
   "metadata": {},
   "source": [
    "## cosine유사도를 이용해서 KNN 모델 생성"
   ]
  },
  {
   "cell_type": "code",
   "execution_count": null,
   "id": "72ef74dd",
   "metadata": {
    "ExecuteTime": {
     "start_time": "2021-11-10T08:17:10.526Z"
    }
   },
   "outputs": [],
   "source": [
    "# 100차원으로 index 생성 및 초기화\n",
    "svd_p = hnswlib.Index(space='cosine', dim=dim)  \n",
    "svd_p.init_index(max_elements=data_len, ef_construction=300, M=100)\n",
    "\n",
    "# 짐재행렬 추가\n",
    "svd_p.add_items(svd_vectors,np.arange(data_len))\n",
    "\n",
    "#svd knn모델 저장\n",
    "with open('./models/svd_knn_model.pickle', 'wb') as f:\n",
    "    pickle.dump(svd_p,f)"
   ]
  },
  {
   "cell_type": "markdown",
   "id": "imposed-sense",
   "metadata": {},
   "source": [
    "# 태그 예측"
   ]
  },
  {
   "cell_type": "markdown",
   "id": "hourly-spectrum",
   "metadata": {},
   "source": [
    "## 예측 수행 및 수행 결과 저장"
   ]
  },
  {
   "cell_type": "code",
   "execution_count": null,
   "id": "6e4f89cc",
   "metadata": {
    "ExecuteTime": {
     "start_time": "2021-11-10T08:17:17.963Z"
    }
   },
   "outputs": [],
   "source": [
    "# svd_knn_model로 태그를 예측하여 예측된 결과의 list를 저장하는 함수\n",
    "\n",
    "def tag_svd(x):\n",
    "    target_ids = [tag_to_id[t] for t in x]\n",
    "    \n",
    "    vectors = np.zeros((100,1))\n",
    "    \n",
    "    for id in target_ids:\n",
    "        vectors = vectors+svd_vectors[id]\n",
    "    \n",
    "    labels, distances = svd_p.knn_query(vectors/len(target_ids), k = 10+len(x))\n",
    "\n",
    "    ids = [label for label in labels[0]]\n",
    "   \n",
    "    return list(set([id_to_tag[tag] for tag in ids])-set(x))"
   ]
  },
  {
   "cell_type": "code",
   "execution_count": null,
   "id": "8229231a",
   "metadata": {
    "ExecuteTime": {
     "start_time": "2021-11-10T08:17:18.170Z"
    }
   },
   "outputs": [],
   "source": [
    "# 예측수행\n",
    "cal_tag_hit_df['svd_예측결과'] = cal_tag_hit_df['예측용태그'].map(tag_svd)"
   ]
  },
  {
   "cell_type": "markdown",
   "id": "furnished-finding",
   "metadata": {},
   "source": [
    "## 평가 지표"
   ]
  },
  {
   "cell_type": "code",
   "execution_count": null,
   "id": "6650697c",
   "metadata": {
    "ExecuteTime": {
     "start_time": "2021-11-10T08:17:20.807Z"
    }
   },
   "outputs": [],
   "source": [
    "val_tag = cal_tag_hit_df['검증용태그'].tolist()\n",
    "svd_tag = cal_tag_hit_df['svd_예측결과'].tolist()\n",
    "\n",
    "svd_hit = []\n",
    "\n",
    "for val,svd in zip(val_tag,svd_tag):\n",
    "    if len(val) == len(set(val)-set(svd)):\n",
    "        svd_hit.append(0)\n",
    "    else:\n",
    "        svd_hit.append(1)\n",
    "        \n",
    "cal_tag_hit_df['svd_히트'] = svd_hit"
   ]
  },
  {
   "cell_type": "code",
   "execution_count": null,
   "id": "careful-salon",
   "metadata": {
    "ExecuteTime": {
     "start_time": "2021-11-10T08:17:22.835Z"
    }
   },
   "outputs": [],
   "source": [
    "svd_inter = []\n",
    "\n",
    "for val,svd in zip(val_tag,svd_tag):\n",
    "    svd_inter.append(len(set(val) - (set(val)-set(svd))))\n",
    "        \n",
    "cal_tag_hit_df['svd_히트_count'] = svd_inter"
   ]
  },
  {
   "cell_type": "code",
   "execution_count": null,
   "id": "00521a2e",
   "metadata": {
    "ExecuteTime": {
     "start_time": "2021-11-10T08:17:23.051Z"
    }
   },
   "outputs": [],
   "source": [
    "print(f'이 예측 모델의 Hit Rate는 약 {np.round(sum(svd_hit)/len(svd_hit)*100,1)}% 입니다')"
   ]
  },
  {
   "cell_type": "code",
   "execution_count": null,
   "id": "37303d33",
   "metadata": {
    "ExecuteTime": {
     "start_time": "2021-11-10T08:17:23.242Z"
    }
   },
   "outputs": [],
   "source": [
    "print(f'이 예측 모델의 정밀도는 약 {np.round(sum(svd_inter)/len(svd_inter)*100,2)}% 입니다')"
   ]
  },
  {
   "cell_type": "markdown",
   "id": "23221747",
   "metadata": {},
   "source": [
    "## 예측된 태그 직접 보기"
   ]
  },
  {
   "cell_type": "code",
   "execution_count": null,
   "id": "88dd9a7a",
   "metadata": {
    "ExecuteTime": {
     "start_time": "2021-11-10T08:17:23.916Z"
    }
   },
   "outputs": [],
   "source": [
    "cal_tag_hit_df.head(30)"
   ]
  }
 ],
 "metadata": {
  "kernelspec": {
   "display_name": "Python 3 (ipykernel)",
   "language": "python",
   "name": "python3"
  },
  "language_info": {
   "codemirror_mode": {
    "name": "ipython",
    "version": 3
   },
   "file_extension": ".py",
   "mimetype": "text/x-python",
   "name": "python",
   "nbconvert_exporter": "python",
   "pygments_lexer": "ipython3",
   "version": "3.9.6"
  },
  "toc": {
   "base_numbering": 1,
   "nav_menu": {},
   "number_sections": true,
   "sideBar": true,
   "skip_h1_title": false,
   "title_cell": "Table of Contents",
   "title_sidebar": "Contents",
   "toc_cell": false,
   "toc_position": {},
   "toc_section_display": true,
   "toc_window_display": false
  },
  "varInspector": {
   "cols": {
    "lenName": 16,
    "lenType": 16,
    "lenVar": 40
   },
   "kernels_config": {
    "python": {
     "delete_cmd_postfix": "",
     "delete_cmd_prefix": "del ",
     "library": "var_list.py",
     "varRefreshCmd": "print(var_dic_list())"
    },
    "r": {
     "delete_cmd_postfix": ") ",
     "delete_cmd_prefix": "rm(",
     "library": "var_list.r",
     "varRefreshCmd": "cat(var_dic_list()) "
    }
   },
   "types_to_exclude": [
    "module",
    "function",
    "builtin_function_or_method",
    "instance",
    "_Feature"
   ],
   "window_display": false
  }
 },
 "nbformat": 4,
 "nbformat_minor": 5
}
