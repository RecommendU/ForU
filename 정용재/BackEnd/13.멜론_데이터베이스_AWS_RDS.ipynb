{
 "cells": [
  {
   "cell_type": "markdown",
   "id": "74d221ee",
   "metadata": {},
   "source": [
    "# 사용할 라이브러리 import"
   ]
  },
  {
   "cell_type": "code",
   "execution_count": 1,
   "id": "6f47b0bb",
   "metadata": {
    "ExecuteTime": {
     "end_time": "2021-10-10T08:12:48.146104Z",
     "start_time": "2021-10-10T08:12:46.011426Z"
    }
   },
   "outputs": [],
   "source": [
    "# MySQL 서버 연결\n",
    "from sqlalchemy import create_engine\n",
    "import mysql.connector\n",
    "\n",
    "# MySQL 서버 config 파싱\n",
    "import configparser\n",
    "\n",
    "import numpy as np\n",
    "import pandas as pd\n",
    "from collections import Counter,defaultdict\n",
    "from itertools import chain\n",
    "\n",
    "import json\n",
    "import warnings\n",
    "warnings.filterwarnings(action='ignore')"
   ]
  },
  {
   "cell_type": "markdown",
   "id": "f2627f72",
   "metadata": {},
   "source": [
    "# 연결정보 불러오기"
   ]
  },
  {
   "cell_type": "code",
   "execution_count": 2,
   "id": "4e912899",
   "metadata": {
    "ExecuteTime": {
     "end_time": "2021-10-10T08:12:48.161655Z",
     "start_time": "2021-10-10T08:12:48.148208Z"
    }
   },
   "outputs": [],
   "source": [
    "import configparser\n",
    "\n",
    "# config parser 객체 생성\n",
    "config = configparser.ConfigParser()\n",
    "\n",
    "# parser객체로 config.ini 파일 읽기\n",
    "config.read('config.ini')\n",
    "\n",
    "# 변수저장\n",
    "'''\n",
    "user = config['DEFAULT']['ADMIN_USER_NAME']\n",
    "passwd = config['DEFAULT']['ADMIN_PASSWORD']\n",
    "host = config['DEFAULT']['RDS_ENDPOINT']\n",
    "port = config['DEFAULT']['PORT']\n",
    "database = config['DEFAULT']['DEFAULT_DATABASE']\n",
    "'''\n",
    "\n",
    "user = 'root'\n",
    "passwd = 'wilfriedzaha11!'\n",
    "host = '127.0.0.1'\n",
    "port = '3306'\n",
    "database = 'melon_recom_db'\n"
   ]
  },
  {
   "cell_type": "markdown",
   "id": "7c188a16",
   "metadata": {},
   "source": [
    "# mysql 연결"
   ]
  },
  {
   "cell_type": "code",
   "execution_count": 3,
   "id": "10f3e4c9",
   "metadata": {
    "ExecuteTime": {
     "end_time": "2021-10-10T08:12:48.395612Z",
     "start_time": "2021-10-10T08:12:48.165262Z"
    }
   },
   "outputs": [],
   "source": [
    "# MySQL 서버 연결\n",
    "engine = create_engine(f\"mysql+pymysql://{user}:{passwd}@{host}:{port}/{database}\",encoding='utf-8')\n",
    "conn = engine.connect()"
   ]
  },
  {
   "cell_type": "markdown",
   "id": "a4586c14",
   "metadata": {},
   "source": [
    "# 데이터 불러오기"
   ]
  },
  {
   "cell_type": "code",
   "execution_count": 4,
   "id": "d3cb7cd5",
   "metadata": {
    "ExecuteTime": {
     "end_time": "2021-10-10T08:12:57.581185Z",
     "start_time": "2021-10-10T08:12:48.398230Z"
    }
   },
   "outputs": [],
   "source": [
    "with open('data/train.json',encoding='utf-8-sig') as f:\n",
    "    train_dict = json.load(f)\n",
    "    \n",
    "with open('data/song_meta.json',encoding='utf-8-sig') as f:\n",
    "    song_dict = json.load(f)\n",
    "    \n",
    "with open('data/genre_gn_all.json',encoding='utf-8-sig') as f:\n",
    "    genre_dict = json.load(f)\n",
    "\n",
    "train_df = pd.DataFrame.from_dict(train_dict)\n",
    "song_df = pd.DataFrame.from_dict(song_dict)"
   ]
  },
  {
   "cell_type": "code",
   "execution_count": 5,
   "id": "bc8206c0",
   "metadata": {
    "ExecuteTime": {
     "end_time": "2021-10-10T08:12:57.597099Z",
     "start_time": "2021-10-10T08:12:57.586103Z"
    }
   },
   "outputs": [],
   "source": [
    "# 테이블 생성 및 데이터 insert 하는 함수\n",
    "def make_table_and_insert_data(df,table_name,connection):\n",
    "    df.to_sql(name=table_name,con=connection,if_exists='replace',index=False)"
   ]
  },
  {
   "cell_type": "markdown",
   "id": "9b567f1f",
   "metadata": {},
   "source": [
    "# 플레이리스트, 태그 테이블"
   ]
  },
  {
   "cell_type": "markdown",
   "id": "02a59bdb",
   "metadata": {},
   "source": [
    "## 플레이리스트 테이블 정의 및 insert"
   ]
  },
  {
   "cell_type": "code",
   "execution_count": 6,
   "id": "a1acea05",
   "metadata": {
    "ExecuteTime": {
     "end_time": "2021-10-10T08:12:57.768025Z",
     "start_time": "2021-10-10T08:12:57.600171Z"
    }
   },
   "outputs": [
    {
     "name": "stdout",
     "output_type": "stream",
     "text": [
      "<class 'pandas.core.frame.DataFrame'>\n",
      "RangeIndex: 115071 entries, 0 to 115070\n",
      "Data columns (total 7 columns):\n",
      " #   Column        Non-Null Count   Dtype         \n",
      "---  ------        --------------   -----         \n",
      " 0   tags          115071 non-null  object        \n",
      " 1   id            115071 non-null  int64         \n",
      " 2   plylst_title  115071 non-null  object        \n",
      " 3   songs         115071 non-null  object        \n",
      " 4   like_cnt      115071 non-null  int64         \n",
      " 5   updt_date     115071 non-null  datetime64[ns]\n",
      " 6   playlist_id   115071 non-null  int64         \n",
      "dtypes: datetime64[ns](1), int64(3), object(3)\n",
      "memory usage: 6.1+ MB\n"
     ]
    }
   ],
   "source": [
    "# index로 새로 플레이리스트 id 지정\n",
    "train_df['playlist_id'] = train_df.index\n",
    "\n",
    "# update 날짜는 datetime 형식으로 바꿈\n",
    "train_df['updt_date'] = pd.to_datetime(train_df['updt_date'])\n",
    "\n",
    "# 변경 확인\n",
    "train_df.info()"
   ]
  },
  {
   "cell_type": "code",
   "execution_count": 7,
   "id": "6bb92f44",
   "metadata": {
    "ExecuteTime": {
     "end_time": "2021-10-10T08:12:57.814431Z",
     "start_time": "2021-10-10T08:12:57.770160Z"
    }
   },
   "outputs": [
    {
     "data": {
      "text/html": [
       "<div>\n",
       "<style scoped>\n",
       "    .dataframe tbody tr th:only-of-type {\n",
       "        vertical-align: middle;\n",
       "    }\n",
       "\n",
       "    .dataframe tbody tr th {\n",
       "        vertical-align: top;\n",
       "    }\n",
       "\n",
       "    .dataframe thead th {\n",
       "        text-align: right;\n",
       "    }\n",
       "</style>\n",
       "<table border=\"1\" class=\"dataframe\">\n",
       "  <thead>\n",
       "    <tr style=\"text-align: right;\">\n",
       "      <th></th>\n",
       "      <th>playlist_id</th>\n",
       "      <th>playlist_title</th>\n",
       "      <th>update_date</th>\n",
       "      <th>like_cnt</th>\n",
       "    </tr>\n",
       "  </thead>\n",
       "  <tbody>\n",
       "    <tr>\n",
       "      <th>0</th>\n",
       "      <td>0</td>\n",
       "      <td>여행같은 음악</td>\n",
       "      <td>2013-12-19 18:36:19</td>\n",
       "      <td>71</td>\n",
       "    </tr>\n",
       "    <tr>\n",
       "      <th>1</th>\n",
       "      <td>1</td>\n",
       "      <td>요즘 너 말야</td>\n",
       "      <td>2014-12-02 16:19:42</td>\n",
       "      <td>1</td>\n",
       "    </tr>\n",
       "    <tr>\n",
       "      <th>2</th>\n",
       "      <td>2</td>\n",
       "      <td>편하게, 잔잔하게 들을 수 있는 곡.-</td>\n",
       "      <td>2017-08-28 07:09:34</td>\n",
       "      <td>17</td>\n",
       "    </tr>\n",
       "    <tr>\n",
       "      <th>3</th>\n",
       "      <td>3</td>\n",
       "      <td>크리스마스 분위기에 흠뻑 취하고 싶을때</td>\n",
       "      <td>2019-12-05 15:15:18</td>\n",
       "      <td>33</td>\n",
       "    </tr>\n",
       "    <tr>\n",
       "      <th>4</th>\n",
       "      <td>4</td>\n",
       "      <td>추억의 노래 ㅋ</td>\n",
       "      <td>2011-10-25 13:54:56</td>\n",
       "      <td>9</td>\n",
       "    </tr>\n",
       "  </tbody>\n",
       "</table>\n",
       "</div>"
      ],
      "text/plain": [
       "   playlist_id         playlist_title         update_date  like_cnt\n",
       "0            0                여행같은 음악 2013-12-19 18:36:19        71\n",
       "1            1                요즘 너 말야 2014-12-02 16:19:42         1\n",
       "2            2  편하게, 잔잔하게 들을 수 있는 곡.- 2017-08-28 07:09:34        17\n",
       "3            3  크리스마스 분위기에 흠뻑 취하고 싶을때 2019-12-05 15:15:18        33\n",
       "4            4               추억의 노래 ㅋ 2011-10-25 13:54:56         9"
      ]
     },
     "execution_count": 7,
     "metadata": {},
     "output_type": "execute_result"
    }
   ],
   "source": [
    "# SQL에 집어넣을 컬럼만 가지고 새 df 생성 \n",
    "playlist_df = train_df[['playlist_id','plylst_title','updt_date','like_cnt']]\n",
    "\n",
    "# 컬럼명 변경\n",
    "playlist_df.columns = ['playlist_id','playlist_title','update_date','like_cnt']\n",
    "playlist_df.head(5)"
   ]
  },
  {
   "cell_type": "code",
   "execution_count": 8,
   "id": "5fd194cb",
   "metadata": {
    "ExecuteTime": {
     "end_time": "2021-10-10T08:13:03.102462Z",
     "start_time": "2021-10-10T08:12:57.817558Z"
    }
   },
   "outputs": [],
   "source": [
    "# 테이블 생성 및 데이터 insert\n",
    "make_table_and_insert_data(playlist_df,'playlist',conn)"
   ]
  },
  {
   "cell_type": "markdown",
   "id": "52778b54",
   "metadata": {},
   "source": [
    "## 태그 테이블 정의 및 insert"
   ]
  },
  {
   "cell_type": "code",
   "execution_count": 9,
   "id": "7466c8fe",
   "metadata": {
    "ExecuteTime": {
     "end_time": "2021-10-10T08:13:03.117753Z",
     "start_time": "2021-10-10T08:13:03.105070Z"
    }
   },
   "outputs": [],
   "source": [
    "# train 데이터에 들어있는 tag들을 추출\n",
    "tags = train_df['tags'].tolist()\n",
    "\n",
    "# 1차원 리스트로 변경\n",
    "tags = chain.from_iterable(tags)"
   ]
  },
  {
   "cell_type": "code",
   "execution_count": 10,
   "id": "34807172",
   "metadata": {
    "ExecuteTime": {
     "end_time": "2021-10-10T08:13:03.212379Z",
     "start_time": "2021-10-10T08:13:03.120612Z"
    }
   },
   "outputs": [],
   "source": [
    "# 중복태그 제거\n",
    "unique_tags = list(set(tags))"
   ]
  },
  {
   "cell_type": "code",
   "execution_count": 11,
   "id": "1de34b68",
   "metadata": {
    "ExecuteTime": {
     "end_time": "2021-10-10T08:13:03.273335Z",
     "start_time": "2021-10-10T08:13:03.215460Z"
    }
   },
   "outputs": [
    {
     "data": {
      "text/html": [
       "<div>\n",
       "<style scoped>\n",
       "    .dataframe tbody tr th:only-of-type {\n",
       "        vertical-align: middle;\n",
       "    }\n",
       "\n",
       "    .dataframe tbody tr th {\n",
       "        vertical-align: top;\n",
       "    }\n",
       "\n",
       "    .dataframe thead th {\n",
       "        text-align: right;\n",
       "    }\n",
       "</style>\n",
       "<table border=\"1\" class=\"dataframe\">\n",
       "  <thead>\n",
       "    <tr style=\"text-align: right;\">\n",
       "      <th></th>\n",
       "      <th>tag_id</th>\n",
       "      <th>tag</th>\n",
       "    </tr>\n",
       "  </thead>\n",
       "  <tbody>\n",
       "    <tr>\n",
       "      <th>0</th>\n",
       "      <td>0</td>\n",
       "      <td></td>\n",
       "    </tr>\n",
       "    <tr>\n",
       "      <th>1</th>\n",
       "      <td>1</td>\n",
       "      <td>2주</td>\n",
       "    </tr>\n",
       "    <tr>\n",
       "      <th>2</th>\n",
       "      <td>2</td>\n",
       "      <td>올드팝</td>\n",
       "    </tr>\n",
       "    <tr>\n",
       "      <th>3</th>\n",
       "      <td>3</td>\n",
       "      <td>아무말대잔치</td>\n",
       "    </tr>\n",
       "    <tr>\n",
       "      <th>4</th>\n",
       "      <td>4</td>\n",
       "      <td>찍어</td>\n",
       "    </tr>\n",
       "  </tbody>\n",
       "</table>\n",
       "</div>"
      ],
      "text/plain": [
       "   tag_id     tag\n",
       "0       0        \n",
       "1       1      2주\n",
       "2       2     올드팝\n",
       "3       3  아무말대잔치\n",
       "4       4      찍어"
      ]
     },
     "execution_count": 11,
     "metadata": {},
     "output_type": "execute_result"
    }
   ],
   "source": [
    "# 태그별 id 붙여서 dataframe 생성\n",
    "tags_df = pd.DataFrame(zip(range(len(unique_tags)),unique_tags),columns=['tag_id','tag'])\n",
    "tags_df.head(5)"
   ]
  },
  {
   "cell_type": "code",
   "execution_count": 12,
   "id": "5915c7e8",
   "metadata": {
    "ExecuteTime": {
     "end_time": "2021-10-10T08:13:04.386047Z",
     "start_time": "2021-10-10T08:13:03.275810Z"
    }
   },
   "outputs": [],
   "source": [
    "# 테이블 생성 및 데이터 insert\n",
    "make_table_and_insert_data(tags_df,'tag',conn)"
   ]
  },
  {
   "cell_type": "markdown",
   "id": "de05fdaf",
   "metadata": {},
   "source": [
    "## 자연어 처리된 태그 테이블 정의 및 insert"
   ]
  },
  {
   "cell_type": "raw",
   "id": "bcb6fdc5",
   "metadata": {
    "ExecuteTime": {
     "end_time": "2021-10-06T07:56:22.843718Z",
     "start_time": "2021-10-06T07:56:22.764720Z"
    }
   },
   "source": [
    "p_tag = processed_tag_df['6개지움'].tolist()\n",
    "p_tag = chain.from_iterable(p_tag)\n",
    "unique_p_tag = list(set(p_tag))\n",
    "processed_unique_tag_df = pd.DataFrame(zip(range(len(unique_p_tag)),unique_p_tag),columns=['processed_tag_id','processed_tag'])\n",
    "processed_unique_tag_df.head(5)"
   ]
  },
  {
   "cell_type": "raw",
   "id": "aa4bbcee",
   "metadata": {
    "ExecuteTime": {
     "end_time": "2021-10-06T07:57:06.474525Z",
     "start_time": "2021-10-06T07:57:06.240448Z"
    }
   },
   "source": [
    "processed_unique_tag_df.to_sql(name='processed_tag',con=conn,if_exists='replace',index=False)"
   ]
  },
  {
   "cell_type": "markdown",
   "id": "1dc3b428",
   "metadata": {},
   "source": [
    "## 플레이리스트 태그 관계 테이블 정의 및 insert"
   ]
  },
  {
   "cell_type": "code",
   "execution_count": 13,
   "id": "c3ae69f0",
   "metadata": {
    "ExecuteTime": {
     "end_time": "2021-10-10T08:13:04.416547Z",
     "start_time": "2021-10-10T08:13:04.388629Z"
    }
   },
   "outputs": [],
   "source": [
    "# 태그id와 태그명 간 변환 할수있게 dictionary 생성\n",
    "\n",
    "id_to_tag_dict = dict(zip(range(len(unique_tags)),unique_tags))\n",
    "tag_to_id_dict = dict(zip(unique_tags,range(len(unique_tags))))"
   ]
  },
  {
   "cell_type": "code",
   "execution_count": 14,
   "id": "6e28ba25",
   "metadata": {
    "ExecuteTime": {
     "end_time": "2021-10-10T08:13:04.448551Z",
     "start_time": "2021-10-10T08:13:04.423165Z"
    }
   },
   "outputs": [],
   "source": [
    "# tag들만 추출 (2차원, 중복포함)\n",
    "tags = train_df['tags'].tolist()"
   ]
  },
  {
   "cell_type": "code",
   "execution_count": 15,
   "id": "1fbd6772",
   "metadata": {
    "ExecuteTime": {
     "end_time": "2021-10-10T08:13:04.713821Z",
     "start_time": "2021-10-10T08:13:04.450568Z"
    }
   },
   "outputs": [],
   "source": [
    "# tag id와 playlist id가 쌍(tuple)으로 들어있는 list 생성\n",
    "tag_id_pid_list = []\n",
    "\n",
    "# 추가\n",
    "for tags,playlist in zip(tags,range(len(train_df))):\n",
    "    for tag in tags:\n",
    "        tag_id_pid_list.append((tag_to_id_dict[tag],playlist))"
   ]
  },
  {
   "cell_type": "code",
   "execution_count": 16,
   "id": "3b2334a6",
   "metadata": {
    "ExecuteTime": {
     "end_time": "2021-10-10T08:13:04.991616Z",
     "start_time": "2021-10-10T08:13:04.717337Z"
    }
   },
   "outputs": [
    {
     "data": {
      "text/html": [
       "<div>\n",
       "<style scoped>\n",
       "    .dataframe tbody tr th:only-of-type {\n",
       "        vertical-align: middle;\n",
       "    }\n",
       "\n",
       "    .dataframe tbody tr th {\n",
       "        vertical-align: top;\n",
       "    }\n",
       "\n",
       "    .dataframe thead th {\n",
       "        text-align: right;\n",
       "    }\n",
       "</style>\n",
       "<table border=\"1\" class=\"dataframe\">\n",
       "  <thead>\n",
       "    <tr style=\"text-align: right;\">\n",
       "      <th></th>\n",
       "      <th>tag_id</th>\n",
       "      <th>playlist_id</th>\n",
       "    </tr>\n",
       "  </thead>\n",
       "  <tbody>\n",
       "    <tr>\n",
       "      <th>0</th>\n",
       "      <td>28555</td>\n",
       "      <td>0</td>\n",
       "    </tr>\n",
       "    <tr>\n",
       "      <th>1</th>\n",
       "      <td>3156</td>\n",
       "      <td>1</td>\n",
       "    </tr>\n",
       "    <tr>\n",
       "      <th>2</th>\n",
       "      <td>8740</td>\n",
       "      <td>1</td>\n",
       "    </tr>\n",
       "    <tr>\n",
       "      <th>3</th>\n",
       "      <td>15236</td>\n",
       "      <td>2</td>\n",
       "    </tr>\n",
       "    <tr>\n",
       "      <th>4</th>\n",
       "      <td>27989</td>\n",
       "      <td>2</td>\n",
       "    </tr>\n",
       "  </tbody>\n",
       "</table>\n",
       "</div>"
      ],
      "text/plain": [
       "   tag_id  playlist_id\n",
       "0   28555            0\n",
       "1    3156            1\n",
       "2    8740            1\n",
       "3   15236            2\n",
       "4   27989            2"
      ]
     },
     "execution_count": 16,
     "metadata": {},
     "output_type": "execute_result"
    }
   ],
   "source": [
    "# 생성된 리스트를 가지고 dataframe 만들기\n",
    "tag_playlist_df = pd.DataFrame(tag_id_pid_list)\n",
    "tag_playlist_df.columns = ['tag_id','playlist_id']\n",
    "tag_playlist_df.head(5)"
   ]
  },
  {
   "cell_type": "code",
   "execution_count": 17,
   "id": "9f28f70f",
   "metadata": {
    "ExecuteTime": {
     "end_time": "2021-10-10T08:13:17.943947Z",
     "start_time": "2021-10-10T08:13:04.994788Z"
    }
   },
   "outputs": [],
   "source": [
    "make_table_and_insert_data(tag_playlist_df,'playlist_tag',conn)"
   ]
  },
  {
   "cell_type": "markdown",
   "id": "35353c45",
   "metadata": {},
   "source": [
    "# 유저 테이블"
   ]
  },
  {
   "cell_type": "markdown",
   "id": "e5b325fc",
   "metadata": {},
   "source": [
    "# 가수 테이블"
   ]
  },
  {
   "cell_type": "markdown",
   "id": "1d60e056",
   "metadata": {},
   "source": [
    "## 가수 정보 테이블"
   ]
  },
  {
   "cell_type": "code",
   "execution_count": 18,
   "id": "d4ed356a",
   "metadata": {
    "ExecuteTime": {
     "end_time": "2021-10-10T08:13:18.083943Z",
     "start_time": "2021-10-10T08:13:17.946501Z"
    }
   },
   "outputs": [
    {
     "data": {
      "text/html": [
       "<div>\n",
       "<style scoped>\n",
       "    .dataframe tbody tr th:only-of-type {\n",
       "        vertical-align: middle;\n",
       "    }\n",
       "\n",
       "    .dataframe tbody tr th {\n",
       "        vertical-align: top;\n",
       "    }\n",
       "\n",
       "    .dataframe thead th {\n",
       "        text-align: right;\n",
       "    }\n",
       "</style>\n",
       "<table border=\"1\" class=\"dataframe\">\n",
       "  <thead>\n",
       "    <tr style=\"text-align: right;\">\n",
       "      <th></th>\n",
       "      <th>artist_id</th>\n",
       "      <th>artist_name</th>\n",
       "      <th>artist_main_genre</th>\n",
       "    </tr>\n",
       "  </thead>\n",
       "  <tbody>\n",
       "    <tr>\n",
       "      <th>0</th>\n",
       "      <td>0</td>\n",
       "      <td>unknown</td>\n",
       "      <td>GN1100</td>\n",
       "    </tr>\n",
       "    <tr>\n",
       "      <th>1</th>\n",
       "      <td>1</td>\n",
       "      <td>A.R.D.I.</td>\n",
       "      <td>GN1100</td>\n",
       "    </tr>\n",
       "    <tr>\n",
       "      <th>2</th>\n",
       "      <td>2</td>\n",
       "      <td>Al Kasha</td>\n",
       "      <td>GN1500</td>\n",
       "    </tr>\n",
       "    <tr>\n",
       "      <th>3</th>\n",
       "      <td>3</td>\n",
       "      <td>Benny Benassi</td>\n",
       "      <td>GN1100</td>\n",
       "    </tr>\n",
       "    <tr>\n",
       "      <th>4</th>\n",
       "      <td>4</td>\n",
       "      <td>Black Pata</td>\n",
       "      <td>GN1100</td>\n",
       "    </tr>\n",
       "  </tbody>\n",
       "</table>\n",
       "</div>"
      ],
      "text/plain": [
       "   artist_id     artist_name artist_main_genre\n",
       "0          0         unknown            GN1100\n",
       "1          1        A.R.D.I.            GN1100\n",
       "2          2        Al Kasha            GN1500\n",
       "3          3   Benny Benassi            GN1100\n",
       "4          4      Black Pata            GN1100"
      ]
     },
     "execution_count": 18,
     "metadata": {},
     "output_type": "execute_result"
    }
   ],
   "source": [
    "# 만들어 놓은 csv파일을 이용해서 dataframe 생성\n",
    "artist_df = pd.read_csv('./data/artist_table.csv',encoding='utf-8')\n",
    "artist_df.head(5)"
   ]
  },
  {
   "cell_type": "code",
   "execution_count": 19,
   "id": "ca87cf98",
   "metadata": {
    "ExecuteTime": {
     "end_time": "2021-10-10T08:13:22.295209Z",
     "start_time": "2021-10-10T08:13:18.087020Z"
    }
   },
   "outputs": [],
   "source": [
    "make_table_and_insert_data(artist_df,'artist',conn)"
   ]
  },
  {
   "cell_type": "markdown",
   "id": "6794ed81",
   "metadata": {},
   "source": [
    "## 가수 노래 관계 테이블"
   ]
  },
  {
   "cell_type": "code",
   "execution_count": 20,
   "id": "40b21ffa",
   "metadata": {
    "ExecuteTime": {
     "end_time": "2021-10-10T08:13:22.481096Z",
     "start_time": "2021-10-10T08:13:22.298701Z"
    }
   },
   "outputs": [
    {
     "data": {
      "text/html": [
       "<div>\n",
       "<style scoped>\n",
       "    .dataframe tbody tr th:only-of-type {\n",
       "        vertical-align: middle;\n",
       "    }\n",
       "\n",
       "    .dataframe tbody tr th {\n",
       "        vertical-align: top;\n",
       "    }\n",
       "\n",
       "    .dataframe thead th {\n",
       "        text-align: right;\n",
       "    }\n",
       "</style>\n",
       "<table border=\"1\" class=\"dataframe\">\n",
       "  <thead>\n",
       "    <tr style=\"text-align: right;\">\n",
       "      <th></th>\n",
       "      <th>song_id</th>\n",
       "      <th>artist_id</th>\n",
       "    </tr>\n",
       "  </thead>\n",
       "  <tbody>\n",
       "    <tr>\n",
       "      <th>0</th>\n",
       "      <td>0</td>\n",
       "      <td>80705</td>\n",
       "    </tr>\n",
       "    <tr>\n",
       "      <th>1</th>\n",
       "      <td>1</td>\n",
       "      <td>53946</td>\n",
       "    </tr>\n",
       "    <tr>\n",
       "      <th>2</th>\n",
       "      <td>2</td>\n",
       "      <td>59768</td>\n",
       "    </tr>\n",
       "    <tr>\n",
       "      <th>3</th>\n",
       "      <td>3</td>\n",
       "      <td>50124</td>\n",
       "    </tr>\n",
       "    <tr>\n",
       "      <th>4</th>\n",
       "      <td>4</td>\n",
       "      <td>39213</td>\n",
       "    </tr>\n",
       "  </tbody>\n",
       "</table>\n",
       "</div>"
      ],
      "text/plain": [
       "   song_id  artist_id\n",
       "0        0      80705\n",
       "1        1      53946\n",
       "2        2      59768\n",
       "3        3      50124\n",
       "4        4      39213"
      ]
     },
     "execution_count": 20,
     "metadata": {},
     "output_type": "execute_result"
    }
   ],
   "source": [
    "song_artist_df = pd.read_csv('./data/song_artist.csv',encoding='utf-8')\n",
    "song_artist_df.head(5)"
   ]
  },
  {
   "cell_type": "code",
   "execution_count": 21,
   "id": "cd693faf",
   "metadata": {
    "ExecuteTime": {
     "end_time": "2021-10-10T08:13:43.093264Z",
     "start_time": "2021-10-10T08:13:22.483462Z"
    }
   },
   "outputs": [],
   "source": [
    "make_table_and_insert_data(song_artist_df,'song_artist',conn)"
   ]
  },
  {
   "cell_type": "markdown",
   "id": "6ea22f24",
   "metadata": {},
   "source": [
    "## 가수 플레이리스트 관계 테이블"
   ]
  },
  {
   "cell_type": "code",
   "execution_count": 22,
   "id": "a9aa92f6",
   "metadata": {
    "ExecuteTime": {
     "end_time": "2021-10-10T08:13:43.835642Z",
     "start_time": "2021-10-10T08:13:43.094318Z"
    }
   },
   "outputs": [
    {
     "data": {
      "text/html": [
       "<div>\n",
       "<style scoped>\n",
       "    .dataframe tbody tr th:only-of-type {\n",
       "        vertical-align: middle;\n",
       "    }\n",
       "\n",
       "    .dataframe tbody tr th {\n",
       "        vertical-align: top;\n",
       "    }\n",
       "\n",
       "    .dataframe thead th {\n",
       "        text-align: right;\n",
       "    }\n",
       "</style>\n",
       "<table border=\"1\" class=\"dataframe\">\n",
       "  <thead>\n",
       "    <tr style=\"text-align: right;\">\n",
       "      <th></th>\n",
       "      <th>playlist_id</th>\n",
       "      <th>artist_id</th>\n",
       "    </tr>\n",
       "  </thead>\n",
       "  <tbody>\n",
       "    <tr>\n",
       "      <th>0</th>\n",
       "      <td>0</td>\n",
       "      <td>15315</td>\n",
       "    </tr>\n",
       "    <tr>\n",
       "      <th>1</th>\n",
       "      <td>0</td>\n",
       "      <td>35406</td>\n",
       "    </tr>\n",
       "    <tr>\n",
       "      <th>2</th>\n",
       "      <td>0</td>\n",
       "      <td>57410</td>\n",
       "    </tr>\n",
       "    <tr>\n",
       "      <th>3</th>\n",
       "      <td>0</td>\n",
       "      <td>14501</td>\n",
       "    </tr>\n",
       "    <tr>\n",
       "      <th>4</th>\n",
       "      <td>0</td>\n",
       "      <td>45319</td>\n",
       "    </tr>\n",
       "  </tbody>\n",
       "</table>\n",
       "</div>"
      ],
      "text/plain": [
       "   playlist_id  artist_id\n",
       "0            0      15315\n",
       "1            0      35406\n",
       "2            0      57410\n",
       "3            0      14501\n",
       "4            0      45319"
      ]
     },
     "execution_count": 22,
     "metadata": {},
     "output_type": "execute_result"
    }
   ],
   "source": [
    "playlist_artist_df = pd.read_csv('./data/playlist_artist.csv',encoding='utf-8')\n",
    "playlist_artist_df.head(5)"
   ]
  },
  {
   "cell_type": "code",
   "execution_count": 23,
   "id": "94cb867e",
   "metadata": {
    "ExecuteTime": {
     "end_time": "2021-10-10T08:15:29.599088Z",
     "start_time": "2021-10-10T08:13:43.837057Z"
    }
   },
   "outputs": [],
   "source": [
    "make_table_and_insert_data(playlist_artist_df,'playlist_artist',conn)"
   ]
  },
  {
   "cell_type": "markdown",
   "id": "ee1757a4",
   "metadata": {},
   "source": [
    "# 노래 테이블"
   ]
  },
  {
   "cell_type": "markdown",
   "id": "9ed61fa6",
   "metadata": {},
   "source": [
    "## 노래 정보 테이블(with 플레이리스트에 노래가 추가된 횟수, 썸네일)"
   ]
  },
  {
   "cell_type": "code",
   "execution_count": 24,
   "id": "e93c1802",
   "metadata": {
    "ExecuteTime": {
     "end_time": "2021-10-10T08:15:29.692111Z",
     "start_time": "2021-10-10T08:15:29.605115Z"
    }
   },
   "outputs": [
    {
     "data": {
      "text/html": [
       "<div>\n",
       "<style scoped>\n",
       "    .dataframe tbody tr th:only-of-type {\n",
       "        vertical-align: middle;\n",
       "    }\n",
       "\n",
       "    .dataframe tbody tr th {\n",
       "        vertical-align: top;\n",
       "    }\n",
       "\n",
       "    .dataframe thead th {\n",
       "        text-align: right;\n",
       "    }\n",
       "</style>\n",
       "<table border=\"1\" class=\"dataframe\">\n",
       "  <thead>\n",
       "    <tr style=\"text-align: right;\">\n",
       "      <th></th>\n",
       "      <th>song_gn_dtl_gnr_basket</th>\n",
       "      <th>issue_date</th>\n",
       "      <th>album_name</th>\n",
       "      <th>album_id</th>\n",
       "      <th>artist_id_basket</th>\n",
       "      <th>song_name</th>\n",
       "      <th>song_gn_gnr_basket</th>\n",
       "      <th>artist_name_basket</th>\n",
       "      <th>id</th>\n",
       "    </tr>\n",
       "  </thead>\n",
       "  <tbody>\n",
       "    <tr>\n",
       "      <th>0</th>\n",
       "      <td>[GN0901]</td>\n",
       "      <td>20140512</td>\n",
       "      <td>불후의 명곡 - 7080 추억의 얄개시대 팝송베스트</td>\n",
       "      <td>2255639</td>\n",
       "      <td>[2727]</td>\n",
       "      <td>Feelings</td>\n",
       "      <td>[GN0900]</td>\n",
       "      <td>[Various Artists]</td>\n",
       "      <td>0</td>\n",
       "    </tr>\n",
       "    <tr>\n",
       "      <th>1</th>\n",
       "      <td>[GN1601, GN1606]</td>\n",
       "      <td>20080421</td>\n",
       "      <td>Bach : Partitas Nos. 2, 3 &amp; 4</td>\n",
       "      <td>376431</td>\n",
       "      <td>[29966]</td>\n",
       "      <td>Bach : Partita No. 4 In D Major, BWV 828 - II....</td>\n",
       "      <td>[GN1600]</td>\n",
       "      <td>[Murray Perahia]</td>\n",
       "      <td>1</td>\n",
       "    </tr>\n",
       "    <tr>\n",
       "      <th>2</th>\n",
       "      <td>[GN0901]</td>\n",
       "      <td>20180518</td>\n",
       "      <td>Hit</td>\n",
       "      <td>4698747</td>\n",
       "      <td>[3361]</td>\n",
       "      <td>Solsbury Hill (Remastered 2002)</td>\n",
       "      <td>[GN0900]</td>\n",
       "      <td>[Peter Gabriel]</td>\n",
       "      <td>2</td>\n",
       "    </tr>\n",
       "    <tr>\n",
       "      <th>3</th>\n",
       "      <td>[GN1102, GN1101]</td>\n",
       "      <td>20151016</td>\n",
       "      <td>Feeling Right (Everything Is Nice) (Feat. Popc...</td>\n",
       "      <td>2644882</td>\n",
       "      <td>[838543]</td>\n",
       "      <td>Feeling Right (Everything Is Nice) (Feat. Popc...</td>\n",
       "      <td>[GN1100]</td>\n",
       "      <td>[Matoma]</td>\n",
       "      <td>3</td>\n",
       "    </tr>\n",
       "    <tr>\n",
       "      <th>4</th>\n",
       "      <td>[GN1802, GN1801]</td>\n",
       "      <td>20110824</td>\n",
       "      <td>그남자 그여자</td>\n",
       "      <td>2008470</td>\n",
       "      <td>[560160]</td>\n",
       "      <td>그남자 그여자</td>\n",
       "      <td>[GN1800]</td>\n",
       "      <td>[Jude Law]</td>\n",
       "      <td>4</td>\n",
       "    </tr>\n",
       "  </tbody>\n",
       "</table>\n",
       "</div>"
      ],
      "text/plain": [
       "  song_gn_dtl_gnr_basket issue_date  \\\n",
       "0               [GN0901]   20140512   \n",
       "1       [GN1601, GN1606]   20080421   \n",
       "2               [GN0901]   20180518   \n",
       "3       [GN1102, GN1101]   20151016   \n",
       "4       [GN1802, GN1801]   20110824   \n",
       "\n",
       "                                          album_name  album_id  \\\n",
       "0                       불후의 명곡 - 7080 추억의 얄개시대 팝송베스트   2255639   \n",
       "1                      Bach : Partitas Nos. 2, 3 & 4    376431   \n",
       "2                                                Hit   4698747   \n",
       "3  Feeling Right (Everything Is Nice) (Feat. Popc...   2644882   \n",
       "4                                            그남자 그여자   2008470   \n",
       "\n",
       "  artist_id_basket                                          song_name  \\\n",
       "0           [2727]                                           Feelings   \n",
       "1          [29966]  Bach : Partita No. 4 In D Major, BWV 828 - II....   \n",
       "2           [3361]                    Solsbury Hill (Remastered 2002)   \n",
       "3         [838543]  Feeling Right (Everything Is Nice) (Feat. Popc...   \n",
       "4         [560160]                                            그남자 그여자   \n",
       "\n",
       "  song_gn_gnr_basket artist_name_basket  id  \n",
       "0           [GN0900]  [Various Artists]   0  \n",
       "1           [GN1600]   [Murray Perahia]   1  \n",
       "2           [GN0900]    [Peter Gabriel]   2  \n",
       "3           [GN1100]           [Matoma]   3  \n",
       "4           [GN1800]         [Jude Law]   4  "
      ]
     },
     "execution_count": 24,
     "metadata": {},
     "output_type": "execute_result"
    }
   ],
   "source": [
    "song_df.head(5)"
   ]
  },
  {
   "cell_type": "markdown",
   "id": "f05aeeaf",
   "metadata": {},
   "source": [
    "### 모든 노래 id에 대해서 추가된 횟수를 0으로 초기화 한 다음에 Counter의 값을 넣어줌"
   ]
  },
  {
   "cell_type": "code",
   "execution_count": 25,
   "id": "03f15656",
   "metadata": {
    "ExecuteTime": {
     "end_time": "2021-10-10T08:15:31.844961Z",
     "start_time": "2021-10-10T08:15:29.694207Z"
    }
   },
   "outputs": [],
   "source": [
    "added_song_list = list(chain.from_iterable(train_df['songs'].tolist()))\n",
    "added_song_count = dict(Counter(added_song_list))\n",
    "added_song_cnt = {}\n",
    "\n",
    "for i in range(len(song_df)):\n",
    "    added_song_cnt[i] = 0\n",
    "for k,v in added_song_count.items():\n",
    "    added_song_cnt[k] = v"
   ]
  },
  {
   "cell_type": "code",
   "execution_count": 26,
   "id": "bb689214",
   "metadata": {
    "ExecuteTime": {
     "end_time": "2021-10-10T08:15:32.155777Z",
     "start_time": "2021-10-10T08:15:31.847005Z"
    }
   },
   "outputs": [],
   "source": [
    "# 노래당 플레이리스트에 추가된 횟수 추가\n",
    "song_df['added_cnt'] = song_df['id'].map(lambda x : added_song_cnt[x])"
   ]
  },
  {
   "cell_type": "code",
   "execution_count": 27,
   "id": "119d81a5",
   "metadata": {
    "ExecuteTime": {
     "end_time": "2021-10-10T08:15:32.171273Z",
     "start_time": "2021-10-10T08:15:32.157253Z"
    }
   },
   "outputs": [],
   "source": [
    "# 썸네일 url은 비워둔 상태로\n",
    "song_df['thumb_url'] = ''"
   ]
  },
  {
   "cell_type": "code",
   "execution_count": 28,
   "id": "b39a3ffd",
   "metadata": {
    "ExecuteTime": {
     "end_time": "2021-10-10T08:15:33.070038Z",
     "start_time": "2021-10-10T08:15:32.174662Z"
    }
   },
   "outputs": [],
   "source": [
    "# 필요한 컬럼만 가지고 새로운 dataframe 생성\n",
    "song_df_for_table = song_df[['id','issue_date','album_name','album_id','song_name','added_cnt','thumb_url']]"
   ]
  },
  {
   "cell_type": "code",
   "execution_count": 29,
   "id": "f406b49f",
   "metadata": {
    "ExecuteTime": {
     "end_time": "2021-10-10T08:15:33.100069Z",
     "start_time": "2021-10-10T08:15:33.072342Z"
    }
   },
   "outputs": [
    {
     "data": {
      "text/html": [
       "<div>\n",
       "<style scoped>\n",
       "    .dataframe tbody tr th:only-of-type {\n",
       "        vertical-align: middle;\n",
       "    }\n",
       "\n",
       "    .dataframe tbody tr th {\n",
       "        vertical-align: top;\n",
       "    }\n",
       "\n",
       "    .dataframe thead th {\n",
       "        text-align: right;\n",
       "    }\n",
       "</style>\n",
       "<table border=\"1\" class=\"dataframe\">\n",
       "  <thead>\n",
       "    <tr style=\"text-align: right;\">\n",
       "      <th></th>\n",
       "      <th>song_id</th>\n",
       "      <th>issue_date</th>\n",
       "      <th>album_name</th>\n",
       "      <th>album_id</th>\n",
       "      <th>song_name</th>\n",
       "      <th>added_cnt</th>\n",
       "      <th>thumb_url</th>\n",
       "    </tr>\n",
       "  </thead>\n",
       "  <tbody>\n",
       "    <tr>\n",
       "      <th>0</th>\n",
       "      <td>0</td>\n",
       "      <td>20140512</td>\n",
       "      <td>불후의 명곡 - 7080 추억의 얄개시대 팝송베스트</td>\n",
       "      <td>2255639</td>\n",
       "      <td>Feelings</td>\n",
       "      <td>2</td>\n",
       "      <td></td>\n",
       "    </tr>\n",
       "    <tr>\n",
       "      <th>1</th>\n",
       "      <td>1</td>\n",
       "      <td>20080421</td>\n",
       "      <td>Bach : Partitas Nos. 2, 3 &amp; 4</td>\n",
       "      <td>376431</td>\n",
       "      <td>Bach : Partita No. 4 In D Major, BWV 828 - II....</td>\n",
       "      <td>0</td>\n",
       "      <td></td>\n",
       "    </tr>\n",
       "    <tr>\n",
       "      <th>2</th>\n",
       "      <td>2</td>\n",
       "      <td>20180518</td>\n",
       "      <td>Hit</td>\n",
       "      <td>4698747</td>\n",
       "      <td>Solsbury Hill (Remastered 2002)</td>\n",
       "      <td>0</td>\n",
       "      <td></td>\n",
       "    </tr>\n",
       "    <tr>\n",
       "      <th>3</th>\n",
       "      <td>3</td>\n",
       "      <td>20151016</td>\n",
       "      <td>Feeling Right (Everything Is Nice) (Feat. Popc...</td>\n",
       "      <td>2644882</td>\n",
       "      <td>Feeling Right (Everything Is Nice) (Feat. Popc...</td>\n",
       "      <td>8</td>\n",
       "      <td></td>\n",
       "    </tr>\n",
       "    <tr>\n",
       "      <th>4</th>\n",
       "      <td>4</td>\n",
       "      <td>20110824</td>\n",
       "      <td>그남자 그여자</td>\n",
       "      <td>2008470</td>\n",
       "      <td>그남자 그여자</td>\n",
       "      <td>2</td>\n",
       "      <td></td>\n",
       "    </tr>\n",
       "  </tbody>\n",
       "</table>\n",
       "</div>"
      ],
      "text/plain": [
       "   song_id issue_date                                         album_name  \\\n",
       "0        0   20140512                       불후의 명곡 - 7080 추억의 얄개시대 팝송베스트   \n",
       "1        1   20080421                      Bach : Partitas Nos. 2, 3 & 4   \n",
       "2        2   20180518                                                Hit   \n",
       "3        3   20151016  Feeling Right (Everything Is Nice) (Feat. Popc...   \n",
       "4        4   20110824                                            그남자 그여자   \n",
       "\n",
       "   album_id                                          song_name  added_cnt  \\\n",
       "0   2255639                                           Feelings          2   \n",
       "1    376431  Bach : Partita No. 4 In D Major, BWV 828 - II....          0   \n",
       "2   4698747                    Solsbury Hill (Remastered 2002)          0   \n",
       "3   2644882  Feeling Right (Everything Is Nice) (Feat. Popc...          8   \n",
       "4   2008470                                            그남자 그여자          2   \n",
       "\n",
       "  thumb_url  \n",
       "0            \n",
       "1            \n",
       "2            \n",
       "3            \n",
       "4            "
      ]
     },
     "execution_count": 29,
     "metadata": {},
     "output_type": "execute_result"
    }
   ],
   "source": [
    "# 컬럼명 변경\n",
    "song_df_for_table.columns = ['song_id','issue_date','album_name','album_id','song_name','added_cnt','thumb_url']\n",
    "song_df_for_table.head(5)"
   ]
  },
  {
   "cell_type": "code",
   "execution_count": 30,
   "id": "0ba64170",
   "metadata": {
    "ExecuteTime": {
     "end_time": "2021-10-10T08:16:07.356397Z",
     "start_time": "2021-10-10T08:15:33.104212Z"
    }
   },
   "outputs": [],
   "source": [
    "make_table_and_insert_data(song_df_for_table,'song',conn)"
   ]
  },
  {
   "cell_type": "markdown",
   "id": "583383df",
   "metadata": {},
   "source": [
    "## 플레이리스트 노래 관계 테이블"
   ]
  },
  {
   "cell_type": "code",
   "execution_count": 31,
   "id": "4de3f909",
   "metadata": {
    "ExecuteTime": {
     "end_time": "2021-10-10T08:16:07.403052Z",
     "start_time": "2021-10-10T08:16:07.358823Z"
    }
   },
   "outputs": [
    {
     "data": {
      "text/html": [
       "<div>\n",
       "<style scoped>\n",
       "    .dataframe tbody tr th:only-of-type {\n",
       "        vertical-align: middle;\n",
       "    }\n",
       "\n",
       "    .dataframe tbody tr th {\n",
       "        vertical-align: top;\n",
       "    }\n",
       "\n",
       "    .dataframe thead th {\n",
       "        text-align: right;\n",
       "    }\n",
       "</style>\n",
       "<table border=\"1\" class=\"dataframe\">\n",
       "  <thead>\n",
       "    <tr style=\"text-align: right;\">\n",
       "      <th></th>\n",
       "      <th>tags</th>\n",
       "      <th>id</th>\n",
       "      <th>plylst_title</th>\n",
       "      <th>songs</th>\n",
       "      <th>like_cnt</th>\n",
       "      <th>updt_date</th>\n",
       "      <th>playlist_id</th>\n",
       "    </tr>\n",
       "  </thead>\n",
       "  <tbody>\n",
       "    <tr>\n",
       "      <th>0</th>\n",
       "      <td>[락]</td>\n",
       "      <td>61281</td>\n",
       "      <td>여행같은 음악</td>\n",
       "      <td>[525514, 129701, 383374, 562083, 297861, 13954...</td>\n",
       "      <td>71</td>\n",
       "      <td>2013-12-19 18:36:19</td>\n",
       "      <td>0</td>\n",
       "    </tr>\n",
       "    <tr>\n",
       "      <th>1</th>\n",
       "      <td>[추억, 회상]</td>\n",
       "      <td>10532</td>\n",
       "      <td>요즘 너 말야</td>\n",
       "      <td>[432406, 675945, 497066, 120377, 389529, 24427...</td>\n",
       "      <td>1</td>\n",
       "      <td>2014-12-02 16:19:42</td>\n",
       "      <td>1</td>\n",
       "    </tr>\n",
       "    <tr>\n",
       "      <th>2</th>\n",
       "      <td>[까페, 잔잔한]</td>\n",
       "      <td>76951</td>\n",
       "      <td>편하게, 잔잔하게 들을 수 있는 곡.-</td>\n",
       "      <td>[83116, 276692, 166267, 186301, 354465, 256598...</td>\n",
       "      <td>17</td>\n",
       "      <td>2017-08-28 07:09:34</td>\n",
       "      <td>2</td>\n",
       "    </tr>\n",
       "    <tr>\n",
       "      <th>3</th>\n",
       "      <td>[연말, 눈오는날, 캐럴, 분위기, 따듯한, 크리스마스캐럴, 겨울노래, 크리스마스,...</td>\n",
       "      <td>147456</td>\n",
       "      <td>크리스마스 분위기에 흠뻑 취하고 싶을때</td>\n",
       "      <td>[394031, 195524, 540149, 287984, 440773, 10033...</td>\n",
       "      <td>33</td>\n",
       "      <td>2019-12-05 15:15:18</td>\n",
       "      <td>3</td>\n",
       "    </tr>\n",
       "    <tr>\n",
       "      <th>4</th>\n",
       "      <td>[댄스]</td>\n",
       "      <td>27616</td>\n",
       "      <td>추억의 노래 ㅋ</td>\n",
       "      <td>[159327, 553610, 5130, 645103, 294435, 100657,...</td>\n",
       "      <td>9</td>\n",
       "      <td>2011-10-25 13:54:56</td>\n",
       "      <td>4</td>\n",
       "    </tr>\n",
       "  </tbody>\n",
       "</table>\n",
       "</div>"
      ],
      "text/plain": [
       "                                                tags      id  \\\n",
       "0                                                [락]   61281   \n",
       "1                                           [추억, 회상]   10532   \n",
       "2                                          [까페, 잔잔한]   76951   \n",
       "3  [연말, 눈오는날, 캐럴, 분위기, 따듯한, 크리스마스캐럴, 겨울노래, 크리스마스,...  147456   \n",
       "4                                               [댄스]   27616   \n",
       "\n",
       "            plylst_title                                              songs  \\\n",
       "0                여행같은 음악  [525514, 129701, 383374, 562083, 297861, 13954...   \n",
       "1                요즘 너 말야  [432406, 675945, 497066, 120377, 389529, 24427...   \n",
       "2  편하게, 잔잔하게 들을 수 있는 곡.-  [83116, 276692, 166267, 186301, 354465, 256598...   \n",
       "3  크리스마스 분위기에 흠뻑 취하고 싶을때  [394031, 195524, 540149, 287984, 440773, 10033...   \n",
       "4               추억의 노래 ㅋ  [159327, 553610, 5130, 645103, 294435, 100657,...   \n",
       "\n",
       "   like_cnt           updt_date  playlist_id  \n",
       "0        71 2013-12-19 18:36:19            0  \n",
       "1         1 2014-12-02 16:19:42            1  \n",
       "2        17 2017-08-28 07:09:34            2  \n",
       "3        33 2019-12-05 15:15:18            3  \n",
       "4         9 2011-10-25 13:54:56            4  "
      ]
     },
     "execution_count": 31,
     "metadata": {},
     "output_type": "execute_result"
    }
   ],
   "source": [
    "train_df.head(5)"
   ]
  },
  {
   "cell_type": "code",
   "execution_count": 32,
   "id": "001e37e2",
   "metadata": {
    "ExecuteTime": {
     "end_time": "2021-10-10T08:16:10.698383Z",
     "start_time": "2021-10-10T08:16:07.406937Z"
    }
   },
   "outputs": [
    {
     "data": {
      "text/html": [
       "<div>\n",
       "<style scoped>\n",
       "    .dataframe tbody tr th:only-of-type {\n",
       "        vertical-align: middle;\n",
       "    }\n",
       "\n",
       "    .dataframe tbody tr th {\n",
       "        vertical-align: top;\n",
       "    }\n",
       "\n",
       "    .dataframe thead th {\n",
       "        text-align: right;\n",
       "    }\n",
       "</style>\n",
       "<table border=\"1\" class=\"dataframe\">\n",
       "  <thead>\n",
       "    <tr style=\"text-align: right;\">\n",
       "      <th></th>\n",
       "      <th>playlist_id</th>\n",
       "      <th>song_id</th>\n",
       "    </tr>\n",
       "  </thead>\n",
       "  <tbody>\n",
       "    <tr>\n",
       "      <th>0</th>\n",
       "      <td>0</td>\n",
       "      <td>525514</td>\n",
       "    </tr>\n",
       "    <tr>\n",
       "      <th>1</th>\n",
       "      <td>0</td>\n",
       "      <td>129701</td>\n",
       "    </tr>\n",
       "    <tr>\n",
       "      <th>2</th>\n",
       "      <td>0</td>\n",
       "      <td>383374</td>\n",
       "    </tr>\n",
       "    <tr>\n",
       "      <th>3</th>\n",
       "      <td>0</td>\n",
       "      <td>562083</td>\n",
       "    </tr>\n",
       "    <tr>\n",
       "      <th>4</th>\n",
       "      <td>0</td>\n",
       "      <td>297861</td>\n",
       "    </tr>\n",
       "  </tbody>\n",
       "</table>\n",
       "</div>"
      ],
      "text/plain": [
       "   playlist_id  song_id\n",
       "0            0   525514\n",
       "1            0   129701\n",
       "2            0   383374\n",
       "3            0   562083\n",
       "4            0   297861"
      ]
     },
     "execution_count": 32,
     "metadata": {},
     "output_type": "execute_result"
    }
   ],
   "source": [
    "# 노래 컬럼만 추출\n",
    "songs_list = train_df['songs'].tolist()\n",
    "\n",
    "# 플레이리스트 id와 노래들을 쌍(tuple)으로 갖는 list 생성\n",
    "id_song_list = []\n",
    "\n",
    "# 반복횟수와 playlist_id가 일치해서 enumerate 씀\n",
    "for id,songs in enumerate(songs_list):\n",
    "    for song in songs:\n",
    "        id_song_list.append((id,song))\n",
    "\n",
    "# 데이터 프레임 생성\n",
    "song_playlist_df = pd.DataFrame(id_song_list,columns=['playlist_id','song_id'])\n",
    "song_playlist_df.head(5)"
   ]
  },
  {
   "cell_type": "code",
   "execution_count": null,
   "id": "a2c8d096",
   "metadata": {
    "ExecuteTime": {
     "start_time": "2021-10-10T08:12:46.209Z"
    }
   },
   "outputs": [],
   "source": [
    "make_table_and_insert_data(song_playlist_df,'playlist_song',conn)"
   ]
  },
  {
   "cell_type": "markdown",
   "id": "07b91d1b",
   "metadata": {},
   "source": [
    "# 장르 테이블"
   ]
  },
  {
   "cell_type": "markdown",
   "id": "374d48cf",
   "metadata": {},
   "source": [
    "## 대장르 테이블"
   ]
  },
  {
   "cell_type": "code",
   "execution_count": null,
   "id": "1d472f21",
   "metadata": {
    "ExecuteTime": {
     "start_time": "2021-10-10T08:12:46.215Z"
    }
   },
   "outputs": [],
   "source": [
    "genre_dict['GN9000'] = '기타장르'\n",
    "\n",
    "genre_big = {}\n",
    "\n",
    "# 모든 장르 딕셔너리를 돌면서\n",
    "for k,v in genre_dict.items():\n",
    "    \n",
    "    # 맨 뒤 두자리가 00이면 대장류로 분류\n",
    "    if k[-2:] == '00':\n",
    "        \n",
    "        # 맨앞 네자리를 키로 하는 대장류 딕셔너리 값 추가\n",
    "        genre_big[k[:4]] = v\n",
    "\n",
    "genre_big_list = []\n",
    "\n",
    "for id,name in genre_big.items():\n",
    "    genre_big_list.append((id+'00',name))\n",
    "    \n",
    "genre_big_df = pd.DataFrame(genre_big_list,columns=['genre_big_code','genre_name'])\n",
    "genre_big_df['genre_big_id'] = genre_big_df.index\n",
    "genre_big_df.head()"
   ]
  },
  {
   "cell_type": "code",
   "execution_count": null,
   "id": "51a60583",
   "metadata": {
    "ExecuteTime": {
     "start_time": "2021-10-10T08:12:46.218Z"
    }
   },
   "outputs": [],
   "source": [
    "make_table_and_insert_data(genre_big_df,'genre_big',conn)"
   ]
  },
  {
   "cell_type": "markdown",
   "id": "3e13fd57",
   "metadata": {},
   "source": [
    "## 대장르 노래 관계 테이블"
   ]
  },
  {
   "cell_type": "code",
   "execution_count": null,
   "id": "18306172",
   "metadata": {
    "ExecuteTime": {
     "start_time": "2021-10-10T08:12:46.223Z"
    }
   },
   "outputs": [],
   "source": [
    "genre_code_to_genre_id = dict(zip(genre_big_df.genre_big_code,genre_big_df.genre_big_id))"
   ]
  },
  {
   "cell_type": "code",
   "execution_count": null,
   "id": "0dd2e343",
   "metadata": {
    "ExecuteTime": {
     "start_time": "2021-10-10T08:12:46.229Z"
    }
   },
   "outputs": [],
   "source": [
    "big_genre = song_df['song_gn_gnr_basket'].tolist()\n",
    "\n",
    "song_id_genre_big_list = []\n",
    "\n",
    "for song_id,genre_codes in enumerate(big_genre):\n",
    "    for code in genre_codes:\n",
    "        song_id_genre_big_list.append((song_id,genre_code_to_genre_id[code]))\n",
    "\n",
    "song_id_genre_big_df = pd.DataFrame(song_id_genre_big_list,columns=['song_id','genre_big_id'])\n",
    "song_id_genre_big_df.head(5)"
   ]
  },
  {
   "cell_type": "code",
   "execution_count": null,
   "id": "81322bbc",
   "metadata": {
    "ExecuteTime": {
     "start_time": "2021-10-10T08:12:46.233Z"
    }
   },
   "outputs": [],
   "source": [
    "make_table_and_insert_data(song_id_genre_big_df,'song_genre_big',conn)"
   ]
  },
  {
   "cell_type": "markdown",
   "id": "6b3f0839",
   "metadata": {},
   "source": [
    "## 세부장르 테이블"
   ]
  },
  {
   "cell_type": "code",
   "execution_count": null,
   "id": "da558ff6",
   "metadata": {
    "ExecuteTime": {
     "start_time": "2021-10-10T08:12:46.238Z"
    }
   },
   "outputs": [],
   "source": [
    "genre_detail_dict = {}\n",
    "\n",
    "# 모든 딕셔너리를 돌면서\n",
    "for k,v in genre_dict.items():\n",
    "    \n",
    "    # 맨뒤 두자리가 00이 아니면 대장류가 아닌거임!\n",
    "    if k[-2:] != '00':\n",
    "        \n",
    "        # 그럴떈 아까만든 대장르 딕셔너리의 대장류 이름을 추가해서 이름을 수정해서 다시 넣어줌\n",
    "        new_value = genre_big[k[:4]]+'_'+v\n",
    "        genre_detail_dict[k] = new_value"
   ]
  },
  {
   "cell_type": "code",
   "execution_count": null,
   "id": "5c93b6d5",
   "metadata": {
    "ExecuteTime": {
     "start_time": "2021-10-10T08:12:46.244Z"
    }
   },
   "outputs": [],
   "source": [
    "genre_detail_list = []\n",
    "\n",
    "for k,v in genre_detail_dict.items():\n",
    "    genre_detail_list.append((k,v))\n",
    "\n",
    "\n",
    "genre_detail_df = pd.DataFrame(genre_detail_list,columns=['genre_code','genre_name'])\n",
    "genre_detail_df['genre_detail_id'] = genre_detail_df.index\n",
    "genre_detail_df.head(5)"
   ]
  },
  {
   "cell_type": "code",
   "execution_count": null,
   "id": "3c043374",
   "metadata": {
    "ExecuteTime": {
     "start_time": "2021-10-10T08:12:46.248Z"
    }
   },
   "outputs": [],
   "source": [
    "make_table_and_insert_data(genre_detail_df,'genre_detail',conn)"
   ]
  },
  {
   "cell_type": "markdown",
   "id": "51c87aa6",
   "metadata": {},
   "source": [
    "## 세부장르 노래 관계 테이블"
   ]
  },
  {
   "cell_type": "code",
   "execution_count": null,
   "id": "59728a85",
   "metadata": {
    "ExecuteTime": {
     "start_time": "2021-10-10T08:12:46.251Z"
    }
   },
   "outputs": [],
   "source": [
    "detail_genre_code_to_genre_id = dict(zip(genre_detail_df.genre_code,genre_detail_df.genre_detail_id))"
   ]
  },
  {
   "cell_type": "code",
   "execution_count": null,
   "id": "70852222",
   "metadata": {
    "ExecuteTime": {
     "start_time": "2021-10-10T08:12:46.254Z"
    }
   },
   "outputs": [],
   "source": [
    "detail_genre = song_df['song_gn_dtl_gnr_basket'].tolist()\n",
    "\n",
    "song_id_genre_detail_list = []\n",
    "\n",
    "for song_id,genre_codes in enumerate(detail_genre):\n",
    "    for code in genre_codes:\n",
    "        song_id_genre_detail_list.append((song_id,detail_genre_code_to_genre_id[code]))\n",
    "\n",
    "song_id_genre_detail_df = pd.DataFrame(song_id_genre_detail_list,columns=['song_id','genre_detail_id'])\n",
    "song_id_genre_detail_df.head(5)"
   ]
  },
  {
   "cell_type": "code",
   "execution_count": null,
   "id": "903b7c71",
   "metadata": {
    "ExecuteTime": {
     "start_time": "2021-10-10T08:12:46.257Z"
    }
   },
   "outputs": [],
   "source": [
    "make_table_and_insert_data(song_id_genre_detail_df,'song_genre_detail',conn)"
   ]
  },
  {
   "cell_type": "markdown",
   "id": "a6878eb1",
   "metadata": {},
   "source": [
    "# 외래키 관계 업데이트 (이건 mysql.connector 사용)"
   ]
  },
  {
   "cell_type": "code",
   "execution_count": null,
   "id": "6b8b18a4",
   "metadata": {
    "ExecuteTime": {
     "start_time": "2021-10-10T08:12:46.260Z"
    }
   },
   "outputs": [],
   "source": [
    "melon_recom_db = mysql.connector.connect(\n",
    "    host = host,\n",
    "    user = user,\n",
    "    password = passwd,\n",
    "    database = database,\n",
    "    port = port,\n",
    ")"
   ]
  },
  {
   "cell_type": "code",
   "execution_count": null,
   "id": "1cea945a",
   "metadata": {
    "ExecuteTime": {
     "start_time": "2021-10-10T08:12:46.262Z"
    }
   },
   "outputs": [],
   "source": [
    "with open('./data/db_alter_text.txt','r') as f:\n",
    "    lines = f.readlines()\n",
    "\n",
    "for line in lines:\n",
    "    print(line)"
   ]
  },
  {
   "cell_type": "code",
   "execution_count": null,
   "id": "038efca1",
   "metadata": {
    "ExecuteTime": {
     "start_time": "2021-10-10T08:12:46.265Z"
    }
   },
   "outputs": [],
   "source": [
    "melon_cursor = melon_recom_db.cursor()"
   ]
  },
  {
   "cell_type": "code",
   "execution_count": null,
   "id": "fbe57645",
   "metadata": {
    "ExecuteTime": {
     "start_time": "2021-10-10T08:12:46.268Z"
    }
   },
   "outputs": [],
   "source": [
    "for line in lines:\n",
    "    melon_cursor.execute(line) "
   ]
  }
 ],
 "metadata": {
  "kernelspec": {
   "display_name": "Python 3 (ipykernel)",
   "language": "python",
   "name": "python3"
  },
  "language_info": {
   "codemirror_mode": {
    "name": "ipython",
    "version": 3
   },
   "file_extension": ".py",
   "mimetype": "text/x-python",
   "name": "python",
   "nbconvert_exporter": "python",
   "pygments_lexer": "ipython3",
   "version": "3.9.6"
  },
  "toc": {
   "base_numbering": 1,
   "nav_menu": {},
   "number_sections": true,
   "sideBar": true,
   "skip_h1_title": false,
   "title_cell": "Table of Contents",
   "title_sidebar": "Contents",
   "toc_cell": false,
   "toc_position": {},
   "toc_section_display": true,
   "toc_window_display": false
  },
  "varInspector": {
   "cols": {
    "lenName": 16,
    "lenType": 16,
    "lenVar": 40
   },
   "kernels_config": {
    "python": {
     "delete_cmd_postfix": "",
     "delete_cmd_prefix": "del ",
     "library": "var_list.py",
     "varRefreshCmd": "print(var_dic_list())"
    },
    "r": {
     "delete_cmd_postfix": ") ",
     "delete_cmd_prefix": "rm(",
     "library": "var_list.r",
     "varRefreshCmd": "cat(var_dic_list()) "
    }
   },
   "types_to_exclude": [
    "module",
    "function",
    "builtin_function_or_method",
    "instance",
    "_Feature"
   ],
   "window_display": false
  }
 },
 "nbformat": 4,
 "nbformat_minor": 5
}
