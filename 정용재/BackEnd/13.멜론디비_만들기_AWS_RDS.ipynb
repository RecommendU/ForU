{
 "cells": [
  {
   "cell_type": "markdown",
   "id": "18d93ad5",
   "metadata": {},
   "source": [
    "# 사용할 라이브러리 import"
   ]
  },
  {
   "cell_type": "code",
   "execution_count": 1,
   "id": "e2dd25c6",
   "metadata": {
    "ExecuteTime": {
     "end_time": "2021-10-10T11:44:40.129929Z",
     "start_time": "2021-10-10T11:44:38.565547Z"
    }
   },
   "outputs": [],
   "source": [
    "# MySQL 서버 연결\n",
    "from sqlalchemy import create_engine\n",
    "import mysql.connector\n",
    "\n",
    "# MySQL 서버 config 파싱\n",
    "import configparser\n",
    "\n",
    "import numpy as np\n",
    "import pandas as pd\n",
    "from collections import Counter,defaultdict\n",
    "from itertools import chain\n",
    "\n",
    "import json\n",
    "import warnings\n",
    "warnings.filterwarnings(action='ignore')"
   ]
  },
  {
   "cell_type": "code",
   "execution_count": 2,
   "id": "8680905e",
   "metadata": {
    "ExecuteTime": {
     "end_time": "2021-10-10T11:44:40.145926Z",
     "start_time": "2021-10-10T11:44:40.131914Z"
    }
   },
   "outputs": [],
   "source": [
    "import configparser\n",
    "\n",
    "# config parser 객체 생성\n",
    "config = configparser.ConfigParser()\n",
    "\n",
    "# parser객체로 config.ini 파일 읽기\n",
    "config.read('config.ini')\n",
    "\n",
    "# 변수저장\n",
    "'''\n",
    "user = config['DEFAULT']['ADMIN_USER_NAME']\n",
    "passwd = config['DEFAULT']['ADMIN_PASSWORD']\n",
    "host = config['DEFAULT']['RDS_ENDPOINT']\n",
    "port = config['DEFAULT']['PORT']\n",
    "database = config['DEFAULT']['DEFAULT_DATABASE']\n",
    "'''\n",
    "\n",
    "user = 'root'\n",
    "passwd = 'wilfriedzaha11!'\n",
    "host = '127.0.0.1'\n",
    "port = '3306'\n",
    "database = 'melon_recom_db'"
   ]
  },
  {
   "cell_type": "code",
   "execution_count": 3,
   "id": "549ff6a3",
   "metadata": {
    "ExecuteTime": {
     "end_time": "2021-10-10T11:44:40.241915Z",
     "start_time": "2021-10-10T11:44:40.147917Z"
    }
   },
   "outputs": [],
   "source": [
    "melon_recom_db = mysql.connector.connect(\n",
    "    host = host,\n",
    "    user = user,\n",
    "    password = passwd,\n",
    "    database = database,\n",
    "    port = port,\n",
    ")"
   ]
  },
  {
   "cell_type": "code",
   "execution_count": 4,
   "id": "f01e87ca",
   "metadata": {
    "ExecuteTime": {
     "end_time": "2021-10-10T11:44:40.257916Z",
     "start_time": "2021-10-10T11:44:40.243919Z"
    }
   },
   "outputs": [],
   "source": [
    "melon_cursor = melon_recom_db.cursor()"
   ]
  },
  {
   "cell_type": "markdown",
   "id": "89c9c7c9",
   "metadata": {},
   "source": [
    "# 테이블 생성"
   ]
  },
  {
   "cell_type": "markdown",
   "id": "e0895e74",
   "metadata": {},
   "source": [
    "## 플레이리스트 테이블 생성"
   ]
  },
  {
   "cell_type": "code",
   "execution_count": 5,
   "id": "d90973ff",
   "metadata": {
    "ExecuteTime": {
     "end_time": "2021-10-10T11:44:40.321930Z",
     "start_time": "2021-10-10T11:44:40.259918Z"
    }
   },
   "outputs": [],
   "source": [
    "query = '''create table `playlist` \n",
    "                        (`playlist_id` INTEGER PRIMARY KEY, \n",
    "                         `playlist_title` TEXT,\n",
    "                         `update_date` DATETIME, \n",
    "                         `like_cnt` INTEGER)'''\n",
    "\n",
    "melon_cursor.execute(query)"
   ]
  },
  {
   "cell_type": "markdown",
   "id": "eab390c1",
   "metadata": {},
   "source": [
    "## 태그 테이블 생성"
   ]
  },
  {
   "cell_type": "code",
   "execution_count": 6,
   "id": "8e7bf85e",
   "metadata": {
    "ExecuteTime": {
     "end_time": "2021-10-10T11:44:40.369937Z",
     "start_time": "2021-10-10T11:44:40.323914Z"
    }
   },
   "outputs": [],
   "source": [
    "query = '''create table `tag` \n",
    "                        (`tag_id` INTEGER PRIMARY KEY, \n",
    "                         `tag` TEXT) '''\n",
    "\n",
    "melon_cursor.execute(query)"
   ]
  },
  {
   "cell_type": "markdown",
   "id": "d3f95a6a",
   "metadata": {},
   "source": [
    "## 플레이리스트_태그 관계테이블 생성"
   ]
  },
  {
   "cell_type": "code",
   "execution_count": 7,
   "id": "41cd9165",
   "metadata": {
    "ExecuteTime": {
     "end_time": "2021-10-10T11:44:40.433915Z",
     "start_time": "2021-10-10T11:44:40.372916Z"
    }
   },
   "outputs": [],
   "source": [
    "query = '''create table `playlist_tag` \n",
    "                        (`tag_id` INTEGER, \n",
    "                         `playlist_id` INTEGER,\n",
    "                         FOREIGN KEY(tag_id) REFERENCES tag(tag_id) on delete cascade,\n",
    "                         FOREIGN KEY(playlist_id) REFERENCES playlist(playlist_id) on delete cascade)'''\n",
    "\n",
    "melon_cursor.execute(query)"
   ]
  },
  {
   "cell_type": "markdown",
   "id": "3d27d183",
   "metadata": {},
   "source": [
    "## 가수정보 테이블"
   ]
  },
  {
   "cell_type": "code",
   "execution_count": 8,
   "id": "2977b328",
   "metadata": {
    "ExecuteTime": {
     "end_time": "2021-10-10T11:44:40.480915Z",
     "start_time": "2021-10-10T11:44:40.437913Z"
    }
   },
   "outputs": [],
   "source": [
    "query = '''create table `artist` \n",
    "                        (`artist_id` INTEGER PRIMARY KEY, \n",
    "                         `artist_name` TEXT,\n",
    "                         `artist_main_genre` TEXT)'''\n",
    "\n",
    "melon_cursor.execute(query)"
   ]
  },
  {
   "cell_type": "markdown",
   "id": "90e4d917",
   "metadata": {},
   "source": [
    "## 가수 플레이리스트 관계 테이블"
   ]
  },
  {
   "cell_type": "code",
   "execution_count": 9,
   "id": "5b4617d4",
   "metadata": {
    "ExecuteTime": {
     "end_time": "2021-10-10T11:44:40.541915Z",
     "start_time": "2021-10-10T11:44:40.482917Z"
    }
   },
   "outputs": [],
   "source": [
    "query = '''create table `artist_playlist` \n",
    "                        (`playlist_id` INTEGER , \n",
    "                         `artist_id` INTEGER,\n",
    "                         FOREIGN KEY(artist_id) REFERENCES artist(artist_id) on delete cascade,\n",
    "                         FOREIGN KEY(playlist_id) REFERENCES playlist(playlist_id) on delete cascade)'''\n",
    "\n",
    "melon_cursor.execute(query)"
   ]
  },
  {
   "cell_type": "markdown",
   "id": "6f2af3c6",
   "metadata": {},
   "source": [
    "## 노래 정보 테이블"
   ]
  },
  {
   "cell_type": "code",
   "execution_count": 10,
   "id": "2631a884",
   "metadata": {
    "ExecuteTime": {
     "end_time": "2021-10-10T11:44:40.604936Z",
     "start_time": "2021-10-10T11:44:40.544916Z"
    }
   },
   "outputs": [],
   "source": [
    "query = '''create table `song` \n",
    "                        (`song_id` INTEGER PRIMARY KEY, \n",
    "                         `issue_date` TEXT,\n",
    "                         `album_name` TEXT,\n",
    "                         `album_id` INTEGER,\n",
    "                         `song_name` TEXT,\n",
    "                         `added_cnt` INTEGER,\n",
    "                         `thumb_url` TEXT)'''\n",
    "\n",
    "melon_cursor.execute(query)"
   ]
  },
  {
   "cell_type": "markdown",
   "id": "f8d2ffd6",
   "metadata": {},
   "source": [
    "## 가수 노래 관계 테이블"
   ]
  },
  {
   "cell_type": "code",
   "execution_count": 11,
   "id": "0ad508ae",
   "metadata": {
    "ExecuteTime": {
     "end_time": "2021-10-10T11:44:40.666934Z",
     "start_time": "2021-10-10T11:44:40.606915Z"
    }
   },
   "outputs": [],
   "source": [
    "query = '''create table `artist_song` \n",
    "                        (`song_id` INTEGER , \n",
    "                         `artist_id` INTEGER,\n",
    "                         FOREIGN KEY(artist_id) REFERENCES artist(artist_id) on delete cascade,\n",
    "                         FOREIGN KEY(song_id) REFERENCES song(song_id) on delete cascade)'''\n",
    "\n",
    "melon_cursor.execute(query)"
   ]
  },
  {
   "cell_type": "markdown",
   "id": "2cf50440",
   "metadata": {},
   "source": [
    "## 플레이리스트 노래 관계 테이블"
   ]
  },
  {
   "cell_type": "code",
   "execution_count": 12,
   "id": "188fcb65",
   "metadata": {
    "ExecuteTime": {
     "end_time": "2021-10-10T11:44:40.775916Z",
     "start_time": "2021-10-10T11:44:40.668916Z"
    }
   },
   "outputs": [],
   "source": [
    "query = '''create table `playlist_song` \n",
    "                        (`playlist_id` INTEGER,\n",
    "                         `song_id` INTEGER ,\n",
    "                         FOREIGN KEY(song_id) REFERENCES song(song_id) on delete cascade,\n",
    "                         FOREIGN KEY(playlist_id) REFERENCES playlist(playlist_id) on delete cascade)'''\n",
    "\n",
    "melon_cursor.execute(query)"
   ]
  },
  {
   "cell_type": "markdown",
   "id": "24c80dde",
   "metadata": {},
   "source": [
    "## 대장르 테이블 "
   ]
  },
  {
   "cell_type": "code",
   "execution_count": 13,
   "id": "4ae2ced6",
   "metadata": {
    "ExecuteTime": {
     "end_time": "2021-10-10T11:44:40.837016Z",
     "start_time": "2021-10-10T11:44:40.777915Z"
    }
   },
   "outputs": [],
   "source": [
    "query = '''create table `genre_big` \n",
    "                        (`genre_big_id` INTEGER PRIMARY KEY, \n",
    "                         `genre_big_code` TEXT,\n",
    "                         `genre_name` TEXT)'''\n",
    "\n",
    "melon_cursor.execute(query)"
   ]
  },
  {
   "cell_type": "markdown",
   "id": "5f524360",
   "metadata": {},
   "source": [
    "## 대장르 노래 관계 테이블"
   ]
  },
  {
   "cell_type": "code",
   "execution_count": 14,
   "id": "d62550da",
   "metadata": {
    "ExecuteTime": {
     "end_time": "2021-10-10T11:44:40.899916Z",
     "start_time": "2021-10-10T11:44:40.838916Z"
    }
   },
   "outputs": [],
   "source": [
    "query = '''create table `genre_big_song` \n",
    "                        (`genre_big_id` INTEGER,\n",
    "                         `song_id` INTEGER ,\n",
    "                         FOREIGN KEY(song_id) REFERENCES song(song_id) on delete cascade,\n",
    "                         FOREIGN KEY(genre_big_id) REFERENCES genre_big(genre_big_id) on delete cascade)'''\n",
    "\n",
    "melon_cursor.execute(query)"
   ]
  },
  {
   "cell_type": "markdown",
   "id": "a74d3feb",
   "metadata": {},
   "source": [
    "## 세부장르 테이블"
   ]
  },
  {
   "cell_type": "code",
   "execution_count": 15,
   "id": "7262a12e",
   "metadata": {
    "ExecuteTime": {
     "end_time": "2021-10-10T11:44:40.944916Z",
     "start_time": "2021-10-10T11:44:40.901919Z"
    }
   },
   "outputs": [],
   "source": [
    "query = '''create table `genre_detail` \n",
    "                        (`genre_detail_id` INTEGER PRIMARY KEY, \n",
    "                         `genre_detail_code` TEXT,\n",
    "                         `genre_name` TEXT)'''\n",
    "\n",
    "melon_cursor.execute(query)"
   ]
  },
  {
   "cell_type": "markdown",
   "id": "43664ad8",
   "metadata": {},
   "source": [
    "## 세부장르 노래 관계 테이블"
   ]
  },
  {
   "cell_type": "code",
   "execution_count": 16,
   "id": "ad429d70",
   "metadata": {
    "ExecuteTime": {
     "end_time": "2021-10-10T11:44:41.023764Z",
     "start_time": "2021-10-10T11:44:40.946915Z"
    }
   },
   "outputs": [],
   "source": [
    "query = '''create table `genre_detail_song` \n",
    "                        (`genre_detail_id` INTEGER,\n",
    "                         `song_id` INTEGER ,\n",
    "                         FOREIGN KEY(song_id) REFERENCES song(song_id) on delete cascade,\n",
    "                         FOREIGN KEY(genre_detail_id) REFERENCES genre_detail(genre_detail_id) on delete cascade)'''\n",
    "\n",
    "melon_cursor.execute(query)"
   ]
  },
  {
   "cell_type": "markdown",
   "id": "5baf31f5",
   "metadata": {},
   "source": [
    "# 데이터 삽입"
   ]
  },
  {
   "cell_type": "code",
   "execution_count": 17,
   "id": "44529023",
   "metadata": {
    "ExecuteTime": {
     "end_time": "2021-10-10T11:44:41.211439Z",
     "start_time": "2021-10-10T11:44:41.025639Z"
    }
   },
   "outputs": [],
   "source": [
    "# MySQL 서버 연결\n",
    "engine = create_engine(f\"mysql+pymysql://{user}:{passwd}@{host}:{port}/{database}\",encoding='utf-8')\n",
    "conn = engine.connect()"
   ]
  },
  {
   "cell_type": "markdown",
   "id": "190142ad",
   "metadata": {},
   "source": [
    "## 데이터 불러오기 "
   ]
  },
  {
   "cell_type": "code",
   "execution_count": 18,
   "id": "91f2200b",
   "metadata": {
    "ExecuteTime": {
     "end_time": "2021-10-10T11:44:52.369897Z",
     "start_time": "2021-10-10T11:44:41.213345Z"
    }
   },
   "outputs": [],
   "source": [
    "with open('data/train.json',encoding='utf-8-sig') as f:\n",
    "    train_dict = json.load(f)\n",
    "    \n",
    "with open('data/song_meta.json',encoding='utf-8-sig') as f:\n",
    "    song_dict = json.load(f)\n",
    "    \n",
    "with open('data/genre_gn_all.json',encoding='utf-8-sig') as f:\n",
    "    genre_dict = json.load(f)\n",
    "    \n",
    "# 만들어 놓은 csv파일을 이용해서 dataframe 생성\n",
    "artist_df = pd.read_csv('./data/artist_table.csv',encoding='utf-8')\n",
    "artist_df.head(5)\n",
    "    \n",
    "song_artist_df = pd.read_csv('./data/song_artist.csv',encoding='utf-8')\n",
    "song_artist_df.head(5)\n",
    "    \n",
    "playlist_artist_df = pd.read_csv('./data/playlist_artist.csv',encoding='utf-8')\n",
    "playlist_artist_df.head(5)\n",
    "\n",
    "train_df = pd.DataFrame.from_dict(train_dict)\n",
    "song_df = pd.DataFrame.from_dict(song_dict)"
   ]
  },
  {
   "cell_type": "code",
   "execution_count": 19,
   "id": "49cac636",
   "metadata": {
    "ExecuteTime": {
     "end_time": "2021-10-10T11:44:52.385891Z",
     "start_time": "2021-10-10T11:44:52.371891Z"
    }
   },
   "outputs": [],
   "source": [
    "# 테이블 생성 및 데이터 insert 하는 함수\n",
    "def insert_data(df,table_name,connection):\n",
    "    df.to_sql(name=table_name,con=connection,if_exists='append',index=False)"
   ]
  },
  {
   "cell_type": "markdown",
   "id": "ea2acf1c",
   "metadata": {},
   "source": [
    "## 플레이리스트 테이블 insert"
   ]
  },
  {
   "cell_type": "code",
   "execution_count": 20,
   "id": "04948fa4",
   "metadata": {
    "ExecuteTime": {
     "end_time": "2021-10-10T11:44:52.527973Z",
     "start_time": "2021-10-10T11:44:52.387895Z"
    }
   },
   "outputs": [],
   "source": [
    "# index로 새로 플레이리스트 id 지정\n",
    "train_df['playlist_id'] = train_df.index\n",
    "\n",
    "# update 날짜는 datetime 형식으로 바꿈\n",
    "train_df['updt_date'] = pd.to_datetime(train_df['updt_date'])"
   ]
  },
  {
   "cell_type": "code",
   "execution_count": 21,
   "id": "83b4d993",
   "metadata": {
    "ExecuteTime": {
     "end_time": "2021-10-10T11:44:52.559897Z",
     "start_time": "2021-10-10T11:44:52.529903Z"
    }
   },
   "outputs": [
    {
     "data": {
      "text/html": [
       "<div>\n",
       "<style scoped>\n",
       "    .dataframe tbody tr th:only-of-type {\n",
       "        vertical-align: middle;\n",
       "    }\n",
       "\n",
       "    .dataframe tbody tr th {\n",
       "        vertical-align: top;\n",
       "    }\n",
       "\n",
       "    .dataframe thead th {\n",
       "        text-align: right;\n",
       "    }\n",
       "</style>\n",
       "<table border=\"1\" class=\"dataframe\">\n",
       "  <thead>\n",
       "    <tr style=\"text-align: right;\">\n",
       "      <th></th>\n",
       "      <th>playlist_id</th>\n",
       "      <th>playlist_title</th>\n",
       "      <th>update_date</th>\n",
       "      <th>like_cnt</th>\n",
       "    </tr>\n",
       "  </thead>\n",
       "  <tbody>\n",
       "    <tr>\n",
       "      <th>0</th>\n",
       "      <td>0</td>\n",
       "      <td>여행같은 음악</td>\n",
       "      <td>2013-12-19 18:36:19</td>\n",
       "      <td>71</td>\n",
       "    </tr>\n",
       "    <tr>\n",
       "      <th>1</th>\n",
       "      <td>1</td>\n",
       "      <td>요즘 너 말야</td>\n",
       "      <td>2014-12-02 16:19:42</td>\n",
       "      <td>1</td>\n",
       "    </tr>\n",
       "    <tr>\n",
       "      <th>2</th>\n",
       "      <td>2</td>\n",
       "      <td>편하게, 잔잔하게 들을 수 있는 곡.-</td>\n",
       "      <td>2017-08-28 07:09:34</td>\n",
       "      <td>17</td>\n",
       "    </tr>\n",
       "    <tr>\n",
       "      <th>3</th>\n",
       "      <td>3</td>\n",
       "      <td>크리스마스 분위기에 흠뻑 취하고 싶을때</td>\n",
       "      <td>2019-12-05 15:15:18</td>\n",
       "      <td>33</td>\n",
       "    </tr>\n",
       "    <tr>\n",
       "      <th>4</th>\n",
       "      <td>4</td>\n",
       "      <td>추억의 노래 ㅋ</td>\n",
       "      <td>2011-10-25 13:54:56</td>\n",
       "      <td>9</td>\n",
       "    </tr>\n",
       "  </tbody>\n",
       "</table>\n",
       "</div>"
      ],
      "text/plain": [
       "   playlist_id         playlist_title         update_date  like_cnt\n",
       "0            0                여행같은 음악 2013-12-19 18:36:19        71\n",
       "1            1                요즘 너 말야 2014-12-02 16:19:42         1\n",
       "2            2  편하게, 잔잔하게 들을 수 있는 곡.- 2017-08-28 07:09:34        17\n",
       "3            3  크리스마스 분위기에 흠뻑 취하고 싶을때 2019-12-05 15:15:18        33\n",
       "4            4               추억의 노래 ㅋ 2011-10-25 13:54:56         9"
      ]
     },
     "execution_count": 21,
     "metadata": {},
     "output_type": "execute_result"
    }
   ],
   "source": [
    "# SQL에 집어넣을 컬럼만 가지고 새 df 생성 \n",
    "playlist_df = train_df[['playlist_id','plylst_title','updt_date','like_cnt']]\n",
    "\n",
    "# 컬럼명 변경\n",
    "playlist_df.columns = ['playlist_id','playlist_title','update_date','like_cnt']\n",
    "playlist_df.head(5)"
   ]
  },
  {
   "cell_type": "code",
   "execution_count": 22,
   "id": "fd461876",
   "metadata": {
    "ExecuteTime": {
     "end_time": "2021-10-10T11:44:56.692980Z",
     "start_time": "2021-10-10T11:44:52.562974Z"
    }
   },
   "outputs": [],
   "source": [
    "# 테이블 생성 및 데이터 insert\n",
    "insert_data(playlist_df,'playlist',conn)"
   ]
  },
  {
   "cell_type": "markdown",
   "id": "d4a46a56",
   "metadata": {},
   "source": [
    "## 태그 테이블 insert"
   ]
  },
  {
   "cell_type": "code",
   "execution_count": 23,
   "id": "10b5cf15",
   "metadata": {
    "ExecuteTime": {
     "end_time": "2021-10-10T11:44:56.708890Z",
     "start_time": "2021-10-10T11:44:56.694890Z"
    }
   },
   "outputs": [],
   "source": [
    "# train 데이터에 들어있는 tag들을 추출\n",
    "tags = train_df['tags'].tolist()\n",
    "\n",
    "# 1차원 리스트로 변경\n",
    "tags = chain.from_iterable(tags)"
   ]
  },
  {
   "cell_type": "code",
   "execution_count": 24,
   "id": "2c7ec340",
   "metadata": {
    "ExecuteTime": {
     "end_time": "2021-10-10T11:44:56.801974Z",
     "start_time": "2021-10-10T11:44:56.710890Z"
    }
   },
   "outputs": [],
   "source": [
    "# 중복태그 제거\n",
    "unique_tags = list(set(tags))"
   ]
  },
  {
   "cell_type": "code",
   "execution_count": 25,
   "id": "2dc13288",
   "metadata": {
    "ExecuteTime": {
     "end_time": "2021-10-10T11:44:56.849922Z",
     "start_time": "2021-10-10T11:44:56.803890Z"
    }
   },
   "outputs": [
    {
     "data": {
      "text/html": [
       "<div>\n",
       "<style scoped>\n",
       "    .dataframe tbody tr th:only-of-type {\n",
       "        vertical-align: middle;\n",
       "    }\n",
       "\n",
       "    .dataframe tbody tr th {\n",
       "        vertical-align: top;\n",
       "    }\n",
       "\n",
       "    .dataframe thead th {\n",
       "        text-align: right;\n",
       "    }\n",
       "</style>\n",
       "<table border=\"1\" class=\"dataframe\">\n",
       "  <thead>\n",
       "    <tr style=\"text-align: right;\">\n",
       "      <th></th>\n",
       "      <th>tag_id</th>\n",
       "      <th>tag</th>\n",
       "    </tr>\n",
       "  </thead>\n",
       "  <tbody>\n",
       "    <tr>\n",
       "      <th>0</th>\n",
       "      <td>0</td>\n",
       "      <td>걸그룹히트곡</td>\n",
       "    </tr>\n",
       "    <tr>\n",
       "      <th>1</th>\n",
       "      <td>1</td>\n",
       "      <td></td>\n",
       "    </tr>\n",
       "    <tr>\n",
       "      <th>2</th>\n",
       "      <td>2</td>\n",
       "      <td>붐바야</td>\n",
       "    </tr>\n",
       "    <tr>\n",
       "      <th>3</th>\n",
       "      <td>3</td>\n",
       "      <td>잔잔한힙합</td>\n",
       "    </tr>\n",
       "    <tr>\n",
       "      <th>4</th>\n",
       "      <td>4</td>\n",
       "      <td>2026년</td>\n",
       "    </tr>\n",
       "  </tbody>\n",
       "</table>\n",
       "</div>"
      ],
      "text/plain": [
       "   tag_id     tag\n",
       "0       0  걸그룹히트곡\n",
       "1       1        \n",
       "2       2     붐바야\n",
       "3       3   잔잔한힙합\n",
       "4       4   2026년"
      ]
     },
     "execution_count": 25,
     "metadata": {},
     "output_type": "execute_result"
    }
   ],
   "source": [
    "# 태그별 id 붙여서 dataframe 생성\n",
    "tags_df = pd.DataFrame(zip(range(len(unique_tags)),unique_tags),columns=['tag_id','tag'])\n",
    "tags_df.head(5)"
   ]
  },
  {
   "cell_type": "code",
   "execution_count": 26,
   "id": "e30f719e",
   "metadata": {
    "ExecuteTime": {
     "end_time": "2021-10-10T11:44:57.464075Z",
     "start_time": "2021-10-10T11:44:56.851890Z"
    }
   },
   "outputs": [],
   "source": [
    "# 테이블 생성 및 데이터 insert\n",
    "insert_data(tags_df,'tag',conn)"
   ]
  },
  {
   "cell_type": "markdown",
   "id": "8358355a",
   "metadata": {},
   "source": [
    "## 플레이리스트 태그 관계 테이블 insert"
   ]
  },
  {
   "cell_type": "code",
   "execution_count": 27,
   "id": "cb41e47a",
   "metadata": {
    "ExecuteTime": {
     "end_time": "2021-10-10T11:44:57.494058Z",
     "start_time": "2021-10-10T11:44:57.465960Z"
    }
   },
   "outputs": [],
   "source": [
    "# 태그id와 태그명 간 변환 할수있게 dictionary 생성\n",
    "\n",
    "id_to_tag_dict = dict(zip(range(len(unique_tags)),unique_tags))\n",
    "tag_to_id_dict = dict(zip(unique_tags,range(len(unique_tags))))"
   ]
  },
  {
   "cell_type": "code",
   "execution_count": 28,
   "id": "ca9de032",
   "metadata": {
    "ExecuteTime": {
     "end_time": "2021-10-10T11:44:57.716961Z",
     "start_time": "2021-10-10T11:44:57.498961Z"
    }
   },
   "outputs": [],
   "source": [
    "# tag들만 추출 (2차원, 중복포함)\n",
    "tags = train_df['tags'].tolist()\n",
    "\n",
    "# tag id와 playlist id가 쌍(tuple)으로 들어있는 list 생성\n",
    "tag_id_pid_list = []\n",
    "\n",
    "# 추가\n",
    "for tags,playlist in zip(tags,range(len(train_df))):\n",
    "    for tag in tags:\n",
    "        tag_id_pid_list.append((tag_to_id_dict[tag],playlist))"
   ]
  },
  {
   "cell_type": "code",
   "execution_count": 29,
   "id": "ba677d56",
   "metadata": {
    "ExecuteTime": {
     "end_time": "2021-10-10T11:44:57.971068Z",
     "start_time": "2021-10-10T11:44:57.717962Z"
    }
   },
   "outputs": [
    {
     "data": {
      "text/html": [
       "<div>\n",
       "<style scoped>\n",
       "    .dataframe tbody tr th:only-of-type {\n",
       "        vertical-align: middle;\n",
       "    }\n",
       "\n",
       "    .dataframe tbody tr th {\n",
       "        vertical-align: top;\n",
       "    }\n",
       "\n",
       "    .dataframe thead th {\n",
       "        text-align: right;\n",
       "    }\n",
       "</style>\n",
       "<table border=\"1\" class=\"dataframe\">\n",
       "  <thead>\n",
       "    <tr style=\"text-align: right;\">\n",
       "      <th></th>\n",
       "      <th>tag_id</th>\n",
       "      <th>playlist_id</th>\n",
       "    </tr>\n",
       "  </thead>\n",
       "  <tbody>\n",
       "    <tr>\n",
       "      <th>0</th>\n",
       "      <td>3357</td>\n",
       "      <td>0</td>\n",
       "    </tr>\n",
       "    <tr>\n",
       "      <th>1</th>\n",
       "      <td>2898</td>\n",
       "      <td>1</td>\n",
       "    </tr>\n",
       "    <tr>\n",
       "      <th>2</th>\n",
       "      <td>7934</td>\n",
       "      <td>1</td>\n",
       "    </tr>\n",
       "    <tr>\n",
       "      <th>3</th>\n",
       "      <td>21996</td>\n",
       "      <td>2</td>\n",
       "    </tr>\n",
       "    <tr>\n",
       "      <th>4</th>\n",
       "      <td>1768</td>\n",
       "      <td>2</td>\n",
       "    </tr>\n",
       "  </tbody>\n",
       "</table>\n",
       "</div>"
      ],
      "text/plain": [
       "   tag_id  playlist_id\n",
       "0    3357            0\n",
       "1    2898            1\n",
       "2    7934            1\n",
       "3   21996            2\n",
       "4    1768            2"
      ]
     },
     "execution_count": 29,
     "metadata": {},
     "output_type": "execute_result"
    }
   ],
   "source": [
    "# 생성된 리스트를 가지고 dataframe 만들기\n",
    "tag_playlist_df = pd.DataFrame(tag_id_pid_list)\n",
    "tag_playlist_df.columns = ['tag_id','playlist_id']\n",
    "tag_playlist_df.head(5)"
   ]
  },
  {
   "cell_type": "code",
   "execution_count": 30,
   "id": "78a2a69a",
   "metadata": {
    "ExecuteTime": {
     "end_time": "2021-10-10T11:45:36.930771Z",
     "start_time": "2021-10-10T11:44:57.972974Z"
    }
   },
   "outputs": [],
   "source": [
    "insert_data(tag_playlist_df,'playlist_tag',conn)"
   ]
  },
  {
   "cell_type": "markdown",
   "id": "8cb178c0",
   "metadata": {},
   "source": [
    "## 가수 정보 테이블"
   ]
  },
  {
   "cell_type": "code",
   "execution_count": 31,
   "id": "944d106e",
   "metadata": {
    "ExecuteTime": {
     "end_time": "2021-10-10T11:45:36.946771Z",
     "start_time": "2021-10-10T11:45:36.933840Z"
    }
   },
   "outputs": [
    {
     "data": {
      "text/html": [
       "<div>\n",
       "<style scoped>\n",
       "    .dataframe tbody tr th:only-of-type {\n",
       "        vertical-align: middle;\n",
       "    }\n",
       "\n",
       "    .dataframe tbody tr th {\n",
       "        vertical-align: top;\n",
       "    }\n",
       "\n",
       "    .dataframe thead th {\n",
       "        text-align: right;\n",
       "    }\n",
       "</style>\n",
       "<table border=\"1\" class=\"dataframe\">\n",
       "  <thead>\n",
       "    <tr style=\"text-align: right;\">\n",
       "      <th></th>\n",
       "      <th>artist_id</th>\n",
       "      <th>artist_name</th>\n",
       "      <th>artist_main_genre</th>\n",
       "    </tr>\n",
       "  </thead>\n",
       "  <tbody>\n",
       "    <tr>\n",
       "      <th>0</th>\n",
       "      <td>0</td>\n",
       "      <td>unknown</td>\n",
       "      <td>GN1100</td>\n",
       "    </tr>\n",
       "    <tr>\n",
       "      <th>1</th>\n",
       "      <td>1</td>\n",
       "      <td>A.R.D.I.</td>\n",
       "      <td>GN1100</td>\n",
       "    </tr>\n",
       "    <tr>\n",
       "      <th>2</th>\n",
       "      <td>2</td>\n",
       "      <td>Al Kasha</td>\n",
       "      <td>GN1500</td>\n",
       "    </tr>\n",
       "    <tr>\n",
       "      <th>3</th>\n",
       "      <td>3</td>\n",
       "      <td>Benny Benassi</td>\n",
       "      <td>GN1100</td>\n",
       "    </tr>\n",
       "    <tr>\n",
       "      <th>4</th>\n",
       "      <td>4</td>\n",
       "      <td>Black Pata</td>\n",
       "      <td>GN1100</td>\n",
       "    </tr>\n",
       "  </tbody>\n",
       "</table>\n",
       "</div>"
      ],
      "text/plain": [
       "   artist_id     artist_name artist_main_genre\n",
       "0          0         unknown            GN1100\n",
       "1          1        A.R.D.I.            GN1100\n",
       "2          2        Al Kasha            GN1500\n",
       "3          3   Benny Benassi            GN1100\n",
       "4          4      Black Pata            GN1100"
      ]
     },
     "execution_count": 31,
     "metadata": {},
     "output_type": "execute_result"
    }
   ],
   "source": [
    "artist_df.head(5)"
   ]
  },
  {
   "cell_type": "code",
   "execution_count": 32,
   "id": "6e782333",
   "metadata": {
    "ExecuteTime": {
     "end_time": "2021-10-10T11:45:39.999992Z",
     "start_time": "2021-10-10T11:45:36.948774Z"
    }
   },
   "outputs": [],
   "source": [
    "insert_data(artist_df,'artist',conn)"
   ]
  },
  {
   "cell_type": "markdown",
   "id": "bb7bd852",
   "metadata": {},
   "source": [
    "## 노래 테이블"
   ]
  },
  {
   "cell_type": "markdown",
   "id": "a4610ecb",
   "metadata": {},
   "source": [
    "### 모든 노래 id에 대해서 추가된 횟수를 0으로 초기화 한 다음에 Counter의 값을 넣어줌"
   ]
  },
  {
   "cell_type": "code",
   "execution_count": 33,
   "id": "15bc04ce",
   "metadata": {
    "ExecuteTime": {
     "end_time": "2021-10-10T11:45:42.271097Z",
     "start_time": "2021-10-10T11:45:40.001988Z"
    }
   },
   "outputs": [],
   "source": [
    "added_song_list = list(chain.from_iterable(train_df['songs'].tolist()))\n",
    "added_song_count = dict(Counter(added_song_list))\n",
    "added_song_cnt = {}\n",
    "\n",
    "for i in range(len(song_df)):\n",
    "    added_song_cnt[i] = 0\n",
    "for k,v in added_song_count.items():\n",
    "    added_song_cnt[k] = v"
   ]
  },
  {
   "cell_type": "code",
   "execution_count": 34,
   "id": "370a800a",
   "metadata": {
    "ExecuteTime": {
     "end_time": "2021-10-10T11:45:43.042004Z",
     "start_time": "2021-10-10T11:45:42.272988Z"
    }
   },
   "outputs": [
    {
     "data": {
      "text/html": [
       "<div>\n",
       "<style scoped>\n",
       "    .dataframe tbody tr th:only-of-type {\n",
       "        vertical-align: middle;\n",
       "    }\n",
       "\n",
       "    .dataframe tbody tr th {\n",
       "        vertical-align: top;\n",
       "    }\n",
       "\n",
       "    .dataframe thead th {\n",
       "        text-align: right;\n",
       "    }\n",
       "</style>\n",
       "<table border=\"1\" class=\"dataframe\">\n",
       "  <thead>\n",
       "    <tr style=\"text-align: right;\">\n",
       "      <th></th>\n",
       "      <th>song_id</th>\n",
       "      <th>issue_date</th>\n",
       "      <th>album_name</th>\n",
       "      <th>album_id</th>\n",
       "      <th>song_name</th>\n",
       "      <th>added_cnt</th>\n",
       "      <th>thumb_url</th>\n",
       "    </tr>\n",
       "  </thead>\n",
       "  <tbody>\n",
       "    <tr>\n",
       "      <th>0</th>\n",
       "      <td>0</td>\n",
       "      <td>20140512</td>\n",
       "      <td>불후의 명곡 - 7080 추억의 얄개시대 팝송베스트</td>\n",
       "      <td>2255639</td>\n",
       "      <td>Feelings</td>\n",
       "      <td>2</td>\n",
       "      <td></td>\n",
       "    </tr>\n",
       "    <tr>\n",
       "      <th>1</th>\n",
       "      <td>1</td>\n",
       "      <td>20080421</td>\n",
       "      <td>Bach : Partitas Nos. 2, 3 &amp; 4</td>\n",
       "      <td>376431</td>\n",
       "      <td>Bach : Partita No. 4 In D Major, BWV 828 - II....</td>\n",
       "      <td>0</td>\n",
       "      <td></td>\n",
       "    </tr>\n",
       "    <tr>\n",
       "      <th>2</th>\n",
       "      <td>2</td>\n",
       "      <td>20180518</td>\n",
       "      <td>Hit</td>\n",
       "      <td>4698747</td>\n",
       "      <td>Solsbury Hill (Remastered 2002)</td>\n",
       "      <td>0</td>\n",
       "      <td></td>\n",
       "    </tr>\n",
       "    <tr>\n",
       "      <th>3</th>\n",
       "      <td>3</td>\n",
       "      <td>20151016</td>\n",
       "      <td>Feeling Right (Everything Is Nice) (Feat. Popc...</td>\n",
       "      <td>2644882</td>\n",
       "      <td>Feeling Right (Everything Is Nice) (Feat. Popc...</td>\n",
       "      <td>8</td>\n",
       "      <td></td>\n",
       "    </tr>\n",
       "    <tr>\n",
       "      <th>4</th>\n",
       "      <td>4</td>\n",
       "      <td>20110824</td>\n",
       "      <td>그남자 그여자</td>\n",
       "      <td>2008470</td>\n",
       "      <td>그남자 그여자</td>\n",
       "      <td>2</td>\n",
       "      <td></td>\n",
       "    </tr>\n",
       "  </tbody>\n",
       "</table>\n",
       "</div>"
      ],
      "text/plain": [
       "   song_id issue_date                                         album_name  \\\n",
       "0        0   20140512                       불후의 명곡 - 7080 추억의 얄개시대 팝송베스트   \n",
       "1        1   20080421                      Bach : Partitas Nos. 2, 3 & 4   \n",
       "2        2   20180518                                                Hit   \n",
       "3        3   20151016  Feeling Right (Everything Is Nice) (Feat. Popc...   \n",
       "4        4   20110824                                            그남자 그여자   \n",
       "\n",
       "   album_id                                          song_name  added_cnt  \\\n",
       "0   2255639                                           Feelings          2   \n",
       "1    376431  Bach : Partita No. 4 In D Major, BWV 828 - II....          0   \n",
       "2   4698747                    Solsbury Hill (Remastered 2002)          0   \n",
       "3   2644882  Feeling Right (Everything Is Nice) (Feat. Popc...          8   \n",
       "4   2008470                                            그남자 그여자          2   \n",
       "\n",
       "  thumb_url  \n",
       "0            \n",
       "1            \n",
       "2            \n",
       "3            \n",
       "4            "
      ]
     },
     "execution_count": 34,
     "metadata": {},
     "output_type": "execute_result"
    }
   ],
   "source": [
    "# 노래당 플레이리스트에 추가된 횟수 추가\n",
    "song_df['added_cnt'] = song_df['id'].map(lambda x : added_song_cnt[x])\n",
    "\n",
    "# 썸네일 url은 비워둔 상태로\n",
    "song_df['thumb_url'] = ''\n",
    "\n",
    "# 필요한 컬럼만 가지고 새로운 dataframe 생성\n",
    "song_df_for_table = song_df[['id','issue_date','album_name','album_id','song_name','added_cnt','thumb_url']]\n",
    "\n",
    "# 컬럼명 변경\n",
    "song_df_for_table.columns = ['song_id','issue_date','album_name','album_id','song_name','added_cnt','thumb_url']\n",
    "song_df_for_table.head(5)"
   ]
  },
  {
   "cell_type": "code",
   "execution_count": 36,
   "id": "eb07957b",
   "metadata": {
    "ExecuteTime": {
     "end_time": "2021-10-10T11:50:32.147881Z",
     "start_time": "2021-10-10T11:49:49.905086Z"
    }
   },
   "outputs": [],
   "source": [
    "insert_data(song_df_for_table,'song',conn)"
   ]
  },
  {
   "cell_type": "markdown",
   "id": "c03cc315",
   "metadata": {},
   "source": [
    "## 플레이리스트 노래 관계 테이블"
   ]
  },
  {
   "cell_type": "code",
   "execution_count": 37,
   "id": "6e9fd12d",
   "metadata": {
    "ExecuteTime": {
     "end_time": "2021-10-10T11:50:45.943379Z",
     "start_time": "2021-10-10T11:50:45.919380Z"
    }
   },
   "outputs": [
    {
     "data": {
      "text/html": [
       "<div>\n",
       "<style scoped>\n",
       "    .dataframe tbody tr th:only-of-type {\n",
       "        vertical-align: middle;\n",
       "    }\n",
       "\n",
       "    .dataframe tbody tr th {\n",
       "        vertical-align: top;\n",
       "    }\n",
       "\n",
       "    .dataframe thead th {\n",
       "        text-align: right;\n",
       "    }\n",
       "</style>\n",
       "<table border=\"1\" class=\"dataframe\">\n",
       "  <thead>\n",
       "    <tr style=\"text-align: right;\">\n",
       "      <th></th>\n",
       "      <th>tags</th>\n",
       "      <th>id</th>\n",
       "      <th>plylst_title</th>\n",
       "      <th>songs</th>\n",
       "      <th>like_cnt</th>\n",
       "      <th>updt_date</th>\n",
       "      <th>playlist_id</th>\n",
       "    </tr>\n",
       "  </thead>\n",
       "  <tbody>\n",
       "    <tr>\n",
       "      <th>0</th>\n",
       "      <td>[락]</td>\n",
       "      <td>61281</td>\n",
       "      <td>여행같은 음악</td>\n",
       "      <td>[525514, 129701, 383374, 562083, 297861, 13954...</td>\n",
       "      <td>71</td>\n",
       "      <td>2013-12-19 18:36:19</td>\n",
       "      <td>0</td>\n",
       "    </tr>\n",
       "    <tr>\n",
       "      <th>1</th>\n",
       "      <td>[추억, 회상]</td>\n",
       "      <td>10532</td>\n",
       "      <td>요즘 너 말야</td>\n",
       "      <td>[432406, 675945, 497066, 120377, 389529, 24427...</td>\n",
       "      <td>1</td>\n",
       "      <td>2014-12-02 16:19:42</td>\n",
       "      <td>1</td>\n",
       "    </tr>\n",
       "    <tr>\n",
       "      <th>2</th>\n",
       "      <td>[까페, 잔잔한]</td>\n",
       "      <td>76951</td>\n",
       "      <td>편하게, 잔잔하게 들을 수 있는 곡.-</td>\n",
       "      <td>[83116, 276692, 166267, 186301, 354465, 256598...</td>\n",
       "      <td>17</td>\n",
       "      <td>2017-08-28 07:09:34</td>\n",
       "      <td>2</td>\n",
       "    </tr>\n",
       "    <tr>\n",
       "      <th>3</th>\n",
       "      <td>[연말, 눈오는날, 캐럴, 분위기, 따듯한, 크리스마스캐럴, 겨울노래, 크리스마스,...</td>\n",
       "      <td>147456</td>\n",
       "      <td>크리스마스 분위기에 흠뻑 취하고 싶을때</td>\n",
       "      <td>[394031, 195524, 540149, 287984, 440773, 10033...</td>\n",
       "      <td>33</td>\n",
       "      <td>2019-12-05 15:15:18</td>\n",
       "      <td>3</td>\n",
       "    </tr>\n",
       "    <tr>\n",
       "      <th>4</th>\n",
       "      <td>[댄스]</td>\n",
       "      <td>27616</td>\n",
       "      <td>추억의 노래 ㅋ</td>\n",
       "      <td>[159327, 553610, 5130, 645103, 294435, 100657,...</td>\n",
       "      <td>9</td>\n",
       "      <td>2011-10-25 13:54:56</td>\n",
       "      <td>4</td>\n",
       "    </tr>\n",
       "  </tbody>\n",
       "</table>\n",
       "</div>"
      ],
      "text/plain": [
       "                                                tags      id  \\\n",
       "0                                                [락]   61281   \n",
       "1                                           [추억, 회상]   10532   \n",
       "2                                          [까페, 잔잔한]   76951   \n",
       "3  [연말, 눈오는날, 캐럴, 분위기, 따듯한, 크리스마스캐럴, 겨울노래, 크리스마스,...  147456   \n",
       "4                                               [댄스]   27616   \n",
       "\n",
       "            plylst_title                                              songs  \\\n",
       "0                여행같은 음악  [525514, 129701, 383374, 562083, 297861, 13954...   \n",
       "1                요즘 너 말야  [432406, 675945, 497066, 120377, 389529, 24427...   \n",
       "2  편하게, 잔잔하게 들을 수 있는 곡.-  [83116, 276692, 166267, 186301, 354465, 256598...   \n",
       "3  크리스마스 분위기에 흠뻑 취하고 싶을때  [394031, 195524, 540149, 287984, 440773, 10033...   \n",
       "4               추억의 노래 ㅋ  [159327, 553610, 5130, 645103, 294435, 100657,...   \n",
       "\n",
       "   like_cnt           updt_date  playlist_id  \n",
       "0        71 2013-12-19 18:36:19            0  \n",
       "1         1 2014-12-02 16:19:42            1  \n",
       "2        17 2017-08-28 07:09:34            2  \n",
       "3        33 2019-12-05 15:15:18            3  \n",
       "4         9 2011-10-25 13:54:56            4  "
      ]
     },
     "execution_count": 37,
     "metadata": {},
     "output_type": "execute_result"
    }
   ],
   "source": [
    "train_df.head(5)"
   ]
  },
  {
   "cell_type": "code",
   "execution_count": 38,
   "id": "054e621a",
   "metadata": {
    "ExecuteTime": {
     "end_time": "2021-10-10T11:51:06.278902Z",
     "start_time": "2021-10-10T11:51:02.213902Z"
    }
   },
   "outputs": [
    {
     "data": {
      "text/html": [
       "<div>\n",
       "<style scoped>\n",
       "    .dataframe tbody tr th:only-of-type {\n",
       "        vertical-align: middle;\n",
       "    }\n",
       "\n",
       "    .dataframe tbody tr th {\n",
       "        vertical-align: top;\n",
       "    }\n",
       "\n",
       "    .dataframe thead th {\n",
       "        text-align: right;\n",
       "    }\n",
       "</style>\n",
       "<table border=\"1\" class=\"dataframe\">\n",
       "  <thead>\n",
       "    <tr style=\"text-align: right;\">\n",
       "      <th></th>\n",
       "      <th>playlist_id</th>\n",
       "      <th>song_id</th>\n",
       "    </tr>\n",
       "  </thead>\n",
       "  <tbody>\n",
       "    <tr>\n",
       "      <th>0</th>\n",
       "      <td>0</td>\n",
       "      <td>525514</td>\n",
       "    </tr>\n",
       "    <tr>\n",
       "      <th>1</th>\n",
       "      <td>0</td>\n",
       "      <td>129701</td>\n",
       "    </tr>\n",
       "    <tr>\n",
       "      <th>2</th>\n",
       "      <td>0</td>\n",
       "      <td>383374</td>\n",
       "    </tr>\n",
       "    <tr>\n",
       "      <th>3</th>\n",
       "      <td>0</td>\n",
       "      <td>562083</td>\n",
       "    </tr>\n",
       "    <tr>\n",
       "      <th>4</th>\n",
       "      <td>0</td>\n",
       "      <td>297861</td>\n",
       "    </tr>\n",
       "  </tbody>\n",
       "</table>\n",
       "</div>"
      ],
      "text/plain": [
       "   playlist_id  song_id\n",
       "0            0   525514\n",
       "1            0   129701\n",
       "2            0   383374\n",
       "3            0   562083\n",
       "4            0   297861"
      ]
     },
     "execution_count": 38,
     "metadata": {},
     "output_type": "execute_result"
    }
   ],
   "source": [
    "# 노래 컬럼만 추출\n",
    "songs_list = train_df['songs'].tolist()\n",
    "\n",
    "# 플레이리스트 id와 노래들을 쌍(tuple)으로 갖는 list 생성\n",
    "id_song_list = []\n",
    "\n",
    "# 반복횟수와 playlist_id가 일치해서 enumerate 씀\n",
    "for id,songs in enumerate(songs_list):\n",
    "    for song in songs:\n",
    "        id_song_list.append((id,song))\n",
    "\n",
    "# 데이터 프레임 생성\n",
    "song_playlist_df = pd.DataFrame(id_song_list,columns=['playlist_id','song_id'])\n",
    "song_playlist_df.head(5)"
   ]
  },
  {
   "cell_type": "code",
   "execution_count": 39,
   "id": "dac56c56",
   "metadata": {
    "ExecuteTime": {
     "end_time": "2021-10-10T12:38:54.004253Z",
     "start_time": "2021-10-10T11:51:33.894280Z"
    }
   },
   "outputs": [],
   "source": [
    "insert_data(song_playlist_df,'playlist_song',conn)"
   ]
  },
  {
   "cell_type": "markdown",
   "id": "c05f55c0",
   "metadata": {},
   "source": [
    "## 대장르 테이블"
   ]
  },
  {
   "cell_type": "code",
   "execution_count": 40,
   "id": "961df767",
   "metadata": {
    "ExecuteTime": {
     "end_time": "2021-10-10T12:48:13.579550Z",
     "start_time": "2021-10-10T12:48:13.521528Z"
    }
   },
   "outputs": [
    {
     "data": {
      "text/html": [
       "<div>\n",
       "<style scoped>\n",
       "    .dataframe tbody tr th:only-of-type {\n",
       "        vertical-align: middle;\n",
       "    }\n",
       "\n",
       "    .dataframe tbody tr th {\n",
       "        vertical-align: top;\n",
       "    }\n",
       "\n",
       "    .dataframe thead th {\n",
       "        text-align: right;\n",
       "    }\n",
       "</style>\n",
       "<table border=\"1\" class=\"dataframe\">\n",
       "  <thead>\n",
       "    <tr style=\"text-align: right;\">\n",
       "      <th></th>\n",
       "      <th>genre_big_code</th>\n",
       "      <th>genre_name</th>\n",
       "      <th>genre_big_id</th>\n",
       "    </tr>\n",
       "  </thead>\n",
       "  <tbody>\n",
       "    <tr>\n",
       "      <th>0</th>\n",
       "      <td>GN0100</td>\n",
       "      <td>발라드</td>\n",
       "      <td>0</td>\n",
       "    </tr>\n",
       "    <tr>\n",
       "      <th>1</th>\n",
       "      <td>GN0200</td>\n",
       "      <td>댄스</td>\n",
       "      <td>1</td>\n",
       "    </tr>\n",
       "    <tr>\n",
       "      <th>2</th>\n",
       "      <td>GN0300</td>\n",
       "      <td>랩/힙합</td>\n",
       "      <td>2</td>\n",
       "    </tr>\n",
       "    <tr>\n",
       "      <th>3</th>\n",
       "      <td>GN0400</td>\n",
       "      <td>R&amp;B/Soul</td>\n",
       "      <td>3</td>\n",
       "    </tr>\n",
       "    <tr>\n",
       "      <th>4</th>\n",
       "      <td>GN0500</td>\n",
       "      <td>인디음악</td>\n",
       "      <td>4</td>\n",
       "    </tr>\n",
       "  </tbody>\n",
       "</table>\n",
       "</div>"
      ],
      "text/plain": [
       "  genre_big_code genre_name  genre_big_id\n",
       "0         GN0100        발라드             0\n",
       "1         GN0200         댄스             1\n",
       "2         GN0300       랩/힙합             2\n",
       "3         GN0400   R&B/Soul             3\n",
       "4         GN0500       인디음악             4"
      ]
     },
     "execution_count": 40,
     "metadata": {},
     "output_type": "execute_result"
    }
   ],
   "source": [
    "genre_dict['GN9000'] = '기타장르'\n",
    "\n",
    "genre_big = {}\n",
    "\n",
    "# 모든 장르 딕셔너리를 돌면서\n",
    "for k,v in genre_dict.items():\n",
    "    \n",
    "    # 맨 뒤 두자리가 00이면 대장류로 분류\n",
    "    if k[-2:] == '00':\n",
    "        \n",
    "        # 맨앞 네자리를 키로 하는 대장류 딕셔너리 값 추가\n",
    "        genre_big[k[:4]] = v\n",
    "\n",
    "genre_big_list = []\n",
    "\n",
    "for id,name in genre_big.items():\n",
    "    genre_big_list.append((id+'00',name))\n",
    "    \n",
    "genre_big_df = pd.DataFrame(genre_big_list,columns=['genre_big_code','genre_name'])\n",
    "genre_big_df['genre_big_id'] = genre_big_df.index\n",
    "genre_big_df.head()"
   ]
  },
  {
   "cell_type": "code",
   "execution_count": 41,
   "id": "02236e1d",
   "metadata": {
    "ExecuteTime": {
     "end_time": "2021-10-10T12:48:38.044726Z",
     "start_time": "2021-10-10T12:48:37.885741Z"
    }
   },
   "outputs": [],
   "source": [
    "insert_data(genre_big_df,'genre_big',conn)"
   ]
  },
  {
   "cell_type": "markdown",
   "id": "674af1d0",
   "metadata": {},
   "source": [
    "## 대장르 노래 관계 테이블"
   ]
  },
  {
   "cell_type": "code",
   "execution_count": 42,
   "id": "b2142f5f",
   "metadata": {
    "ExecuteTime": {
     "end_time": "2021-10-10T12:48:56.683504Z",
     "start_time": "2021-10-10T12:48:56.675503Z"
    }
   },
   "outputs": [],
   "source": [
    "genre_code_to_genre_id = dict(zip(genre_big_df.genre_big_code,genre_big_df.genre_big_id))"
   ]
  },
  {
   "cell_type": "code",
   "execution_count": 43,
   "id": "3cb2ce75",
   "metadata": {
    "ExecuteTime": {
     "end_time": "2021-10-10T12:49:14.877390Z",
     "start_time": "2021-10-10T12:49:14.266508Z"
    }
   },
   "outputs": [
    {
     "data": {
      "text/html": [
       "<div>\n",
       "<style scoped>\n",
       "    .dataframe tbody tr th:only-of-type {\n",
       "        vertical-align: middle;\n",
       "    }\n",
       "\n",
       "    .dataframe tbody tr th {\n",
       "        vertical-align: top;\n",
       "    }\n",
       "\n",
       "    .dataframe thead th {\n",
       "        text-align: right;\n",
       "    }\n",
       "</style>\n",
       "<table border=\"1\" class=\"dataframe\">\n",
       "  <thead>\n",
       "    <tr style=\"text-align: right;\">\n",
       "      <th></th>\n",
       "      <th>song_id</th>\n",
       "      <th>genre_big_id</th>\n",
       "    </tr>\n",
       "  </thead>\n",
       "  <tbody>\n",
       "    <tr>\n",
       "      <th>0</th>\n",
       "      <td>0</td>\n",
       "      <td>8</td>\n",
       "    </tr>\n",
       "    <tr>\n",
       "      <th>1</th>\n",
       "      <td>1</td>\n",
       "      <td>15</td>\n",
       "    </tr>\n",
       "    <tr>\n",
       "      <th>2</th>\n",
       "      <td>2</td>\n",
       "      <td>8</td>\n",
       "    </tr>\n",
       "    <tr>\n",
       "      <th>3</th>\n",
       "      <td>3</td>\n",
       "      <td>10</td>\n",
       "    </tr>\n",
       "    <tr>\n",
       "      <th>4</th>\n",
       "      <td>4</td>\n",
       "      <td>17</td>\n",
       "    </tr>\n",
       "  </tbody>\n",
       "</table>\n",
       "</div>"
      ],
      "text/plain": [
       "   song_id  genre_big_id\n",
       "0        0             8\n",
       "1        1            15\n",
       "2        2             8\n",
       "3        3            10\n",
       "4        4            17"
      ]
     },
     "execution_count": 43,
     "metadata": {},
     "output_type": "execute_result"
    }
   ],
   "source": [
    "big_genre = song_df['song_gn_gnr_basket'].tolist()\n",
    "\n",
    "song_id_genre_big_list = []\n",
    "\n",
    "for song_id,genre_codes in enumerate(big_genre):\n",
    "    for code in genre_codes:\n",
    "        song_id_genre_big_list.append((song_id,genre_code_to_genre_id[code]))\n",
    "\n",
    "song_id_genre_big_df = pd.DataFrame(song_id_genre_big_list,columns=['song_id','genre_big_id'])\n",
    "song_id_genre_big_df.head(5)"
   ]
  },
  {
   "cell_type": "code",
   "execution_count": 44,
   "id": "4a81c247",
   "metadata": {
    "ExecuteTime": {
     "end_time": "2021-10-10T12:50:42.203270Z",
     "start_time": "2021-10-10T12:50:21.642640Z"
    }
   },
   "outputs": [],
   "source": [
    "insert_data(song_id_genre_big_df,'genre_big_song',conn)"
   ]
  },
  {
   "cell_type": "markdown",
   "id": "dd14673b",
   "metadata": {
    "ExecuteTime": {
     "end_time": "2021-10-10T12:51:11.636187Z",
     "start_time": "2021-10-10T12:51:01.151915Z"
    }
   },
   "source": [
    "## 세부장르 테이블"
   ]
  },
  {
   "cell_type": "code",
   "execution_count": 46,
   "id": "ed89b3e5",
   "metadata": {
    "ExecuteTime": {
     "end_time": "2021-10-10T12:51:53.730937Z",
     "start_time": "2021-10-10T12:51:53.709277Z"
    }
   },
   "outputs": [],
   "source": [
    "genre_detail_dict = {}\n",
    "\n",
    "# 모든 딕셔너리를 돌면서\n",
    "for k,v in genre_dict.items():\n",
    "    \n",
    "    # 맨뒤 두자리가 00이 아니면 대장류가 아닌거임!\n",
    "    if k[-2:] != '00':\n",
    "        \n",
    "        # 그럴떈 아까만든 대장르 딕셔너리의 대장류 이름을 추가해서 이름을 수정해서 다시 넣어줌\n",
    "        new_value = genre_big[k[:4]]+'_'+v\n",
    "        genre_detail_dict[k] = new_value"
   ]
  },
  {
   "cell_type": "code",
   "execution_count": 49,
   "id": "3523b77f",
   "metadata": {
    "ExecuteTime": {
     "end_time": "2021-10-10T12:53:10.180657Z",
     "start_time": "2021-10-10T12:53:10.168658Z"
    }
   },
   "outputs": [
    {
     "data": {
      "text/html": [
       "<div>\n",
       "<style scoped>\n",
       "    .dataframe tbody tr th:only-of-type {\n",
       "        vertical-align: middle;\n",
       "    }\n",
       "\n",
       "    .dataframe tbody tr th {\n",
       "        vertical-align: top;\n",
       "    }\n",
       "\n",
       "    .dataframe thead th {\n",
       "        text-align: right;\n",
       "    }\n",
       "</style>\n",
       "<table border=\"1\" class=\"dataframe\">\n",
       "  <thead>\n",
       "    <tr style=\"text-align: right;\">\n",
       "      <th></th>\n",
       "      <th>genre_detail_code</th>\n",
       "      <th>genre_name</th>\n",
       "      <th>genre_detail_id</th>\n",
       "    </tr>\n",
       "  </thead>\n",
       "  <tbody>\n",
       "    <tr>\n",
       "      <th>0</th>\n",
       "      <td>GN0101</td>\n",
       "      <td>발라드_세부장르전체</td>\n",
       "      <td>0</td>\n",
       "    </tr>\n",
       "    <tr>\n",
       "      <th>1</th>\n",
       "      <td>GN0102</td>\n",
       "      <td>발라드_'80</td>\n",
       "      <td>1</td>\n",
       "    </tr>\n",
       "    <tr>\n",
       "      <th>2</th>\n",
       "      <td>GN0103</td>\n",
       "      <td>발라드_'90</td>\n",
       "      <td>2</td>\n",
       "    </tr>\n",
       "    <tr>\n",
       "      <th>3</th>\n",
       "      <td>GN0104</td>\n",
       "      <td>발라드_'00</td>\n",
       "      <td>3</td>\n",
       "    </tr>\n",
       "    <tr>\n",
       "      <th>4</th>\n",
       "      <td>GN0105</td>\n",
       "      <td>발라드_'10-</td>\n",
       "      <td>4</td>\n",
       "    </tr>\n",
       "  </tbody>\n",
       "</table>\n",
       "</div>"
      ],
      "text/plain": [
       "  genre_detail_code  genre_name  genre_detail_id\n",
       "0            GN0101  발라드_세부장르전체                0\n",
       "1            GN0102     발라드_'80                1\n",
       "2            GN0103     발라드_'90                2\n",
       "3            GN0104     발라드_'00                3\n",
       "4            GN0105    발라드_'10-                4"
      ]
     },
     "execution_count": 49,
     "metadata": {},
     "output_type": "execute_result"
    }
   ],
   "source": [
    "genre_detail_list = []\n",
    "\n",
    "for k,v in genre_detail_dict.items():\n",
    "    genre_detail_list.append((k,v))\n",
    "\n",
    "\n",
    "genre_detail_df = pd.DataFrame(genre_detail_list,columns=['genre_detail_code','genre_name'])\n",
    "genre_detail_df['genre_detail_id'] = genre_detail_df.index\n",
    "genre_detail_df.head(5)"
   ]
  },
  {
   "cell_type": "code",
   "execution_count": 50,
   "id": "90422d3b",
   "metadata": {
    "ExecuteTime": {
     "end_time": "2021-10-10T12:53:28.864386Z",
     "start_time": "2021-10-10T12:53:28.834299Z"
    }
   },
   "outputs": [],
   "source": [
    "insert_data(genre_detail_df,'genre_detail',conn)"
   ]
  },
  {
   "cell_type": "markdown",
   "id": "905beb15",
   "metadata": {},
   "source": [
    "## 세부장르 노래 관계 테이블"
   ]
  },
  {
   "cell_type": "code",
   "execution_count": 52,
   "id": "48a96842",
   "metadata": {
    "ExecuteTime": {
     "end_time": "2021-10-10T12:54:20.022870Z",
     "start_time": "2021-10-10T12:54:20.005894Z"
    }
   },
   "outputs": [],
   "source": [
    "detail_genre_code_to_genre_id = dict(zip(genre_detail_df.genre_detail_code,genre_detail_df.genre_detail_id))"
   ]
  },
  {
   "cell_type": "code",
   "execution_count": 54,
   "id": "84900ab9",
   "metadata": {
    "ExecuteTime": {
     "end_time": "2021-10-10T12:54:54.950785Z",
     "start_time": "2021-10-10T12:54:53.910984Z"
    }
   },
   "outputs": [
    {
     "data": {
      "text/html": [
       "<div>\n",
       "<style scoped>\n",
       "    .dataframe tbody tr th:only-of-type {\n",
       "        vertical-align: middle;\n",
       "    }\n",
       "\n",
       "    .dataframe tbody tr th {\n",
       "        vertical-align: top;\n",
       "    }\n",
       "\n",
       "    .dataframe thead th {\n",
       "        text-align: right;\n",
       "    }\n",
       "</style>\n",
       "<table border=\"1\" class=\"dataframe\">\n",
       "  <thead>\n",
       "    <tr style=\"text-align: right;\">\n",
       "      <th></th>\n",
       "      <th>song_id</th>\n",
       "      <th>genre_detail_id</th>\n",
       "    </tr>\n",
       "  </thead>\n",
       "  <tbody>\n",
       "    <tr>\n",
       "      <th>0</th>\n",
       "      <td>0</td>\n",
       "      <td>48</td>\n",
       "    </tr>\n",
       "    <tr>\n",
       "      <th>1</th>\n",
       "      <td>1</td>\n",
       "      <td>113</td>\n",
       "    </tr>\n",
       "    <tr>\n",
       "      <th>2</th>\n",
       "      <td>1</td>\n",
       "      <td>118</td>\n",
       "    </tr>\n",
       "    <tr>\n",
       "      <th>3</th>\n",
       "      <td>2</td>\n",
       "      <td>48</td>\n",
       "    </tr>\n",
       "    <tr>\n",
       "      <th>4</th>\n",
       "      <td>3</td>\n",
       "      <td>71</td>\n",
       "    </tr>\n",
       "  </tbody>\n",
       "</table>\n",
       "</div>"
      ],
      "text/plain": [
       "   song_id  genre_detail_id\n",
       "0        0               48\n",
       "1        1              113\n",
       "2        1              118\n",
       "3        2               48\n",
       "4        3               71"
      ]
     },
     "execution_count": 54,
     "metadata": {},
     "output_type": "execute_result"
    }
   ],
   "source": [
    "detail_genre = song_df['song_gn_dtl_gnr_basket'].tolist()\n",
    "\n",
    "song_id_genre_detail_list = []\n",
    "\n",
    "for song_id,genre_codes in enumerate(detail_genre):\n",
    "    for code in genre_codes:\n",
    "        song_id_genre_detail_list.append((song_id,detail_genre_code_to_genre_id[code]))\n",
    "\n",
    "song_id_genre_detail_df = pd.DataFrame(song_id_genre_detail_list,columns=['song_id','genre_detail_id'])\n",
    "song_id_genre_detail_df.head(5)"
   ]
  },
  {
   "cell_type": "code",
   "execution_count": 55,
   "id": "f8ed889e",
   "metadata": {
    "ExecuteTime": {
     "end_time": "2021-10-10T12:56:12.915012Z",
     "start_time": "2021-10-10T12:55:27.866159Z"
    }
   },
   "outputs": [],
   "source": [
    "insert_data(song_id_genre_detail_df,'genre_detail_song',conn)"
   ]
  }
 ],
 "metadata": {
  "kernelspec": {
   "display_name": "Python 3 (ipykernel)",
   "language": "python",
   "name": "python3"
  },
  "language_info": {
   "codemirror_mode": {
    "name": "ipython",
    "version": 3
   },
   "file_extension": ".py",
   "mimetype": "text/x-python",
   "name": "python",
   "nbconvert_exporter": "python",
   "pygments_lexer": "ipython3",
   "version": "3.9.6"
  },
  "toc": {
   "base_numbering": 1,
   "nav_menu": {},
   "number_sections": true,
   "sideBar": true,
   "skip_h1_title": false,
   "title_cell": "Table of Contents",
   "title_sidebar": "Contents",
   "toc_cell": false,
   "toc_position": {},
   "toc_section_display": true,
   "toc_window_display": false
  },
  "varInspector": {
   "cols": {
    "lenName": 16,
    "lenType": 16,
    "lenVar": 40
   },
   "kernels_config": {
    "python": {
     "delete_cmd_postfix": "",
     "delete_cmd_prefix": "del ",
     "library": "var_list.py",
     "varRefreshCmd": "print(var_dic_list())"
    },
    "r": {
     "delete_cmd_postfix": ") ",
     "delete_cmd_prefix": "rm(",
     "library": "var_list.r",
     "varRefreshCmd": "cat(var_dic_list()) "
    }
   },
   "types_to_exclude": [
    "module",
    "function",
    "builtin_function_or_method",
    "instance",
    "_Feature"
   ],
   "window_display": false
  }
 },
 "nbformat": 4,
 "nbformat_minor": 5
}
