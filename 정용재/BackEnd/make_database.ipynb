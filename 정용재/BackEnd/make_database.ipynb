{
 "cells": [
  {
   "cell_type": "markdown",
   "id": "0a4ec545",
   "metadata": {},
   "source": [
    "# 사용하는 라이브러리 import"
   ]
  },
  {
   "cell_type": "code",
   "execution_count": 22,
   "id": "8a7224c9",
   "metadata": {
    "ExecuteTime": {
     "end_time": "2021-10-04T05:29:21.957355Z",
     "start_time": "2021-10-04T05:29:21.944044Z"
    }
   },
   "outputs": [],
   "source": [
    "import mysql.connector\n",
    "import pandas as pd\n",
    "from mysql.connector import errorcode\n",
    "from __future__ import print_function\n",
    "from datetime import date, datetime, timedelta\n",
    "import json"
   ]
  },
  {
   "cell_type": "markdown",
   "id": "879f681a",
   "metadata": {},
   "source": [
    "# mysql 연결"
   ]
  },
  {
   "cell_type": "code",
   "execution_count": 2,
   "id": "f5ce75bf",
   "metadata": {
    "ExecuteTime": {
     "end_time": "2021-10-04T05:19:18.917540Z",
     "start_time": "2021-10-04T05:19:18.903389Z"
    }
   },
   "outputs": [],
   "source": [
    "host = \"127.0.0.1\"\n",
    "user=\"root\"\n",
    "passwd=\"wilfriedzaha11!\""
   ]
  },
  {
   "cell_type": "code",
   "execution_count": 3,
   "id": "c8f5db71",
   "metadata": {
    "ExecuteTime": {
     "end_time": "2021-10-04T05:19:18.964133Z",
     "start_time": "2021-10-04T05:19:18.918873Z"
    }
   },
   "outputs": [],
   "source": [
    "try:\n",
    "    connection = mysql.connector.connect(\n",
    "        host=host,\n",
    "        user=user,\n",
    "        passwd=passwd\n",
    "    )\n",
    "    \n",
    "except mysql.connector.Error as err:\n",
    "    if err.errno == errorcode.ER_ACCESS_DENIED_ERROR:\n",
    "        print(\"Something is wrong with your user name or password\")\n",
    "    elif err.errno == errorcode.ER_BAD_DB_ERROR:\n",
    "        print(\"Database does not exist\")\n",
    "    else:\n",
    "        print(err)\n"
   ]
  },
  {
   "cell_type": "code",
   "execution_count": 4,
   "id": "65b95420",
   "metadata": {
    "ExecuteTime": {
     "end_time": "2021-10-04T05:19:18.979272Z",
     "start_time": "2021-10-04T05:19:18.965223Z"
    }
   },
   "outputs": [
    {
     "data": {
      "text/plain": [
       "'8.0.26'"
      ]
     },
     "execution_count": 4,
     "metadata": {},
     "output_type": "execute_result"
    }
   ],
   "source": [
    "connection.get_server_info()"
   ]
  },
  {
   "cell_type": "markdown",
   "id": "a2f0c0dc",
   "metadata": {},
   "source": [
    "# 데이터불러오기"
   ]
  },
  {
   "cell_type": "code",
   "execution_count": 5,
   "id": "081e86e7",
   "metadata": {
    "ExecuteTime": {
     "end_time": "2021-10-04T05:19:26.151905Z",
     "start_time": "2021-10-04T05:19:18.980365Z"
    }
   },
   "outputs": [],
   "source": [
    "with open('data/train.json',encoding='utf-8-sig') as f:\n",
    "    train_dict = json.load(f)\n",
    "    \n",
    "with open('data/song_meta.json',encoding='utf-8-sig') as f:\n",
    "    song_dict = json.load(f)\n",
    "    \n",
    "with open('data/genre_gn_all.json',encoding='utf-8-sig') as f:\n",
    "    genre_dict = json.load(f)\n",
    "    \n",
    "train_df = pd.DataFrame.from_dict(train_dict)\n",
    "song_df = pd.DataFrame.from_dict(song_dict)"
   ]
  },
  {
   "cell_type": "markdown",
   "id": "1428185e",
   "metadata": {},
   "source": [
    "# 데이터베이스 생성"
   ]
  },
  {
   "cell_type": "code",
   "execution_count": 6,
   "id": "26bdb8aa",
   "metadata": {
    "ExecuteTime": {
     "end_time": "2021-10-04T05:19:26.167909Z",
     "start_time": "2021-10-04T05:19:26.153916Z"
    }
   },
   "outputs": [],
   "source": [
    "# 데이터베이스 진입을 위한 cursor 생성\n",
    "cursor = connection.cursor()\n",
    "DB_NAME = 'melondb'\n",
    "TABLES = {}"
   ]
  },
  {
   "cell_type": "markdown",
   "id": "54edbbb6",
   "metadata": {},
   "source": [
    "## 데이터 베이스를 새로 생성하는 함수"
   ]
  },
  {
   "cell_type": "code",
   "execution_count": 7,
   "id": "cf05dde4",
   "metadata": {
    "ExecuteTime": {
     "end_time": "2021-10-04T05:19:26.183342Z",
     "start_time": "2021-10-04T05:19:26.169171Z"
    }
   },
   "outputs": [],
   "source": [
    "def create_database(cursor,DB_NAME):\n",
    "    try:\n",
    "        cursor.execute(\n",
    "            \"CREATE DATABASE {} DEFAULT CHARACTER SET 'utf8'\".format(DB_NAME)\n",
    "        )\n",
    "    except mysql.connector.Error as err:\n",
    "        print(\"데이터베이스를 생성하는데 실패했습니다.: {}\".format(err))"
   ]
  },
  {
   "cell_type": "code",
   "execution_count": 8,
   "id": "c035ca61",
   "metadata": {
    "ExecuteTime": {
     "end_time": "2021-10-04T05:19:26.198953Z",
     "start_time": "2021-10-04T05:19:26.183845Z"
    }
   },
   "outputs": [],
   "source": [
    "# USE melondb를 한번 실행해보고\n",
    "\n",
    "try:\n",
    "    cursor.execute(\"USE {}\".format(DB_NAME))\n",
    "    \n",
    "\n",
    "# 안되면 만들던지 아니면 종료    \n",
    "except mysql.connector.Error as err:\n",
    "    print(\"{} 데이터베이스는 존재하지 않습니다.\".format(DB_NAME))\n",
    "    if err.errno == errorcode.ER_BAD_DB_ERROR:\n",
    "        create_database(cursor,DB_NAME)\n",
    "        print(\"{} 데이터베이스가 성공적으로 생성되었습니다.\".format(DB_NAME))\n",
    "        connection.database = DB_NAME\n",
    "    else:\n",
    "        print(err)\n",
    "        exit(1)"
   ]
  },
  {
   "cell_type": "markdown",
   "id": "1f4da3ac",
   "metadata": {},
   "source": [
    "# 플레이리스트, 태그 테이블"
   ]
  },
  {
   "cell_type": "markdown",
   "id": "8bd48c99",
   "metadata": {},
   "source": [
    "## 플레이리스트 테이블 정의"
   ]
  },
  {
   "cell_type": "code",
   "execution_count": 9,
   "id": "144b9352",
   "metadata": {
    "ExecuteTime": {
     "end_time": "2021-10-04T05:19:26.215149Z",
     "start_time": "2021-10-04T05:19:26.199995Z"
    }
   },
   "outputs": [],
   "source": [
    "TABLES['Playlist'] = (\n",
    "    \"CREATE TABLE `Playlist` (\"\n",
    "    \"  `playlist_id` int,\"\n",
    "    \"  `playlist_title` varchar(255) NOT NULL,\"\n",
    "    \"  `update_date` date NOT NULL,\"\n",
    "    \"  `like_cnt` int NOT NULL,\"\n",
    "    \"  PRIMARY KEY (`playlist_id`)\"\n",
    "    \")\")"
   ]
  },
  {
   "cell_type": "markdown",
   "id": "1ffea352",
   "metadata": {},
   "source": [
    "## 태그 테이블 정의"
   ]
  },
  {
   "cell_type": "code",
   "execution_count": 10,
   "id": "35dbc004",
   "metadata": {
    "ExecuteTime": {
     "end_time": "2021-10-04T05:19:26.229888Z",
     "start_time": "2021-10-04T05:19:26.216665Z"
    }
   },
   "outputs": [],
   "source": [
    "TABLES['Tag'] = (\n",
    "    \"CREATE TABLE `Tag` (\"\n",
    "    \"  `tag_id` int,\"\n",
    "    \"  `tag` varchar(255) NOT NULL,\"\n",
    "    \"  PRIMARY KEY (`tag_id`)\"\n",
    "    \")\")"
   ]
  },
  {
   "cell_type": "markdown",
   "id": "401900b0",
   "metadata": {},
   "source": [
    "## 플레이리스트,태그 관계 테이블 정의"
   ]
  },
  {
   "cell_type": "code",
   "execution_count": 11,
   "id": "b160d9ec",
   "metadata": {
    "ExecuteTime": {
     "end_time": "2021-10-04T05:19:26.245244Z",
     "start_time": "2021-10-04T05:19:26.232071Z"
    }
   },
   "outputs": [],
   "source": [
    "TABLES['Playlist_Tag'] = (\n",
    "    \"CREATE TABLE `Playlist_Tag` (\"\n",
    "    \"  `tag_id` int NOT NULL,\"\n",
    "    \"  `playlist_id` int NOT NULL,\"\n",
    "    \" CONSTRAINT FOREIGN KEY (`tag_id`)\"\n",
    "    \"  REFERENCES `Tag` (`tag_id`) ON DELETE CASCADE,\"\n",
    "    \" CONSTRAINT FOREIGN KEY (`playlist_id`)\"\n",
    "    \"  REFERENCES `Playlist` (`playlist_id`) ON DELETE CASCADE\"\n",
    "    \")\")"
   ]
  },
  {
   "cell_type": "markdown",
   "id": "ea3ea695",
   "metadata": {},
   "source": [
    "# 유저 테이블"
   ]
  },
  {
   "cell_type": "markdown",
   "id": "69de6bad",
   "metadata": {},
   "source": [
    "## 유저 테이블 정의"
   ]
  },
  {
   "cell_type": "code",
   "execution_count": 12,
   "id": "6c84a0e0",
   "metadata": {
    "ExecuteTime": {
     "end_time": "2021-10-04T05:19:26.260645Z",
     "start_time": "2021-10-04T05:19:26.246515Z"
    }
   },
   "outputs": [],
   "source": [
    "TABLES['User'] = (\n",
    "    \"CREATE TABLE `User` (\"\n",
    "    \"  `user_id` int NOT NULL,\"\n",
    "    \"  `user_name` varchar(255) NOT NULL,\"\n",
    "    \"  `playlist_id` int NOT NULL,\"\n",
    "    \"  PRIMARY KEY (`user_id`),\"\n",
    "    \" CONSTRAINT `playlist_fk1` FOREIGN KEY (`playlist_id`)\"\n",
    "    \"  REFERENCES `Playlist` (`playlist_id`) ON DELETE CASCADE\"\n",
    "    \")\")"
   ]
  },
  {
   "cell_type": "markdown",
   "id": "1490d982",
   "metadata": {},
   "source": [
    "# 노래,장르 테이블"
   ]
  },
  {
   "cell_type": "markdown",
   "id": "87ea5a93",
   "metadata": {},
   "source": [
    "## 노래 테이블 정의"
   ]
  },
  {
   "cell_type": "code",
   "execution_count": 13,
   "id": "f1a6328b",
   "metadata": {
    "ExecuteTime": {
     "end_time": "2021-10-04T05:19:26.275989Z",
     "start_time": "2021-10-04T05:19:26.261927Z"
    }
   },
   "outputs": [],
   "source": [
    "TABLES['Song'] = (\n",
    "    \"CREATE TABLE `Song` (\"\n",
    "    \"  `song_id` int NOT NULL,\"\n",
    "    \"  `song_name` varchar(255) NOT NULL,\"\n",
    "    \"  `issue_date` date NOT NULL,\"\n",
    "    \"  `album_name` varchar(255) NOT NULL,\"\n",
    "    \"  `album_id` int NOT NULL,\"\n",
    "    \"  `added_cnt` int NOT NULL,\"\n",
    "    \"  `thumb_url` varchar(255),\"\n",
    "    \"  PRIMARY KEY (`song_id`)\"      \n",
    "    \")\")"
   ]
  },
  {
   "cell_type": "markdown",
   "id": "776f2cc9",
   "metadata": {},
   "source": [
    "## 플레이리스트,노래 관계 테이블 정의"
   ]
  },
  {
   "cell_type": "code",
   "execution_count": 14,
   "id": "61df5933",
   "metadata": {
    "ExecuteTime": {
     "end_time": "2021-10-04T05:19:26.291784Z",
     "start_time": "2021-10-04T05:19:26.277932Z"
    }
   },
   "outputs": [],
   "source": [
    "TABLES['Playlist_Song'] = (\n",
    "    \"CREATE TABLE `Playlist_Song` (\"\n",
    "    \"  `song_id` int NOT NULL,\"\n",
    "    \"  `playlist_id` int NOT NULL,\"\n",
    "    \" CONSTRAINT FOREIGN KEY (`song_id`)\"\n",
    "    \"  REFERENCES `Song` (`song_id`) ON DELETE CASCADE,\"\n",
    "    \" CONSTRAINT FOREIGN KEY (`playlist_id`)\"\n",
    "    \"  REFERENCES `Playlist` (`playlist_id`) ON DELETE CASCADE\"\n",
    "    \")\")"
   ]
  },
  {
   "cell_type": "markdown",
   "id": "121b7872",
   "metadata": {},
   "source": [
    "## 대장르 테이블 정의"
   ]
  },
  {
   "cell_type": "code",
   "execution_count": 15,
   "id": "b2b7f105",
   "metadata": {
    "ExecuteTime": {
     "end_time": "2021-10-04T05:19:26.307068Z",
     "start_time": "2021-10-04T05:19:26.293377Z"
    }
   },
   "outputs": [],
   "source": [
    "TABLES['Genre_Big'] = (\n",
    "    \"CREATE TABLE `Genre_Big` (\"\n",
    "    \"  `genre_b_id` int NOT NULL,\"\n",
    "    \"  `genre_b_name` varchar(255) NOT NULL,\"\n",
    "    \"  PRIMARY KEY (`genre_b_id`)\"   \n",
    "    \")\")"
   ]
  },
  {
   "cell_type": "markdown",
   "id": "a9c2b0de",
   "metadata": {},
   "source": [
    "## 대장르,노래 관계 테이블 정의"
   ]
  },
  {
   "cell_type": "code",
   "execution_count": 16,
   "id": "c4a7e75a",
   "metadata": {
    "ExecuteTime": {
     "end_time": "2021-10-04T05:19:26.322551Z",
     "start_time": "2021-10-04T05:19:26.307068Z"
    }
   },
   "outputs": [],
   "source": [
    "TABLES['Song_Genre_Big'] = (\n",
    "    \"CREATE TABLE `Song_Genre_Big` (\"\n",
    "    \"  `song_id` int NOT NULL,\"\n",
    "    \"  `genre_b_id` int NOT NULL,\"\n",
    "    \" CONSTRAINT FOREIGN KEY (`song_id`)\"\n",
    "    \"  REFERENCES `Song` (`song_id`) ON DELETE CASCADE,\"\n",
    "    \" CONSTRAINT FOREIGN KEY (`genre_b_id`)\"\n",
    "    \"  REFERENCES `Genre_Big` (`genre_b_id`) ON DELETE CASCADE\"\n",
    "    \")\")"
   ]
  },
  {
   "cell_type": "markdown",
   "id": "4b7982a6",
   "metadata": {},
   "source": [
    "## 세부장르 테이블 정의"
   ]
  },
  {
   "cell_type": "code",
   "execution_count": 17,
   "id": "3b04c46c",
   "metadata": {
    "ExecuteTime": {
     "end_time": "2021-10-04T05:19:26.338330Z",
     "start_time": "2021-10-04T05:19:26.323819Z"
    }
   },
   "outputs": [],
   "source": [
    "TABLES['Genre_Detail'] = (\n",
    "    \"CREATE TABLE `Genre_Detail` (\"\n",
    "    \"  `genre_d_id` int NOT NULL,\"\n",
    "    \"  `genre_d_name` varchar(255) NOT NULL,\"\n",
    "    \"  PRIMARY KEY (`genre_d_id`)\"   \n",
    "    \")\")"
   ]
  },
  {
   "cell_type": "markdown",
   "id": "1018d43c",
   "metadata": {},
   "source": [
    "## 세부장르,노래 관계 테이블 정의"
   ]
  },
  {
   "cell_type": "code",
   "execution_count": 18,
   "id": "82a6e767",
   "metadata": {
    "ExecuteTime": {
     "end_time": "2021-10-04T05:19:26.353265Z",
     "start_time": "2021-10-04T05:19:26.339512Z"
    }
   },
   "outputs": [],
   "source": [
    "TABLES['Song_Genre_Detail'] = (\n",
    "    \"CREATE TABLE `Song_Genre_Detail` (\"\n",
    "    \"  `song_id` int NOT NULL,\"\n",
    "    \"  `genre_d_id` int NOT NULL,\"\n",
    "    \" CONSTRAINT FOREIGN KEY (`song_id`)\"\n",
    "    \"  REFERENCES `Song` (`song_id`) ON DELETE CASCADE,\"\n",
    "    \" CONSTRAINT FOREIGN KEY (`genre_d_id`)\"\n",
    "    \"  REFERENCES `Genre_Detail` (`genre_d_id`) ON DELETE CASCADE\"\n",
    "    \")\")"
   ]
  },
  {
   "cell_type": "markdown",
   "id": "ddc35690",
   "metadata": {},
   "source": [
    "# 아티스트 테이블"
   ]
  },
  {
   "cell_type": "markdown",
   "id": "f52fed20",
   "metadata": {},
   "source": [
    "## 아티스트 테이블 정의"
   ]
  },
  {
   "cell_type": "code",
   "execution_count": 19,
   "id": "1bba2284",
   "metadata": {
    "ExecuteTime": {
     "end_time": "2021-10-04T05:19:26.368979Z",
     "start_time": "2021-10-04T05:19:26.354560Z"
    }
   },
   "outputs": [],
   "source": [
    "TABLES['Artist'] = (\n",
    "    \"CREATE TABLE `Artist` (\"\n",
    "    \"  `artist_id` int NOT NULL,\"\n",
    "    \"  `artist_name` varchar(255) NOT NULL,\"\n",
    "    \"  PRIMARY KEY (`artist_id`)\"   \n",
    "    \")\")"
   ]
  },
  {
   "cell_type": "markdown",
   "id": "752e4476",
   "metadata": {},
   "source": [
    "## 아티스트,노래 관계 테이블 정의"
   ]
  },
  {
   "cell_type": "code",
   "execution_count": 20,
   "id": "0742fa73",
   "metadata": {
    "ExecuteTime": {
     "end_time": "2021-10-04T05:19:26.385067Z",
     "start_time": "2021-10-04T05:19:26.369964Z"
    }
   },
   "outputs": [],
   "source": [
    "TABLES['Artist_Song'] = (\n",
    "    \"CREATE TABLE `Artist_Song` (\"\n",
    "    \"  `artist_id` int NOT NULL,\"\n",
    "    \"  `song_id` int NOT NULL,\"\n",
    "    \" CONSTRAINT FOREIGN KEY (`song_id`)\"\n",
    "    \"  REFERENCES `Song` (`song_id`) ON DELETE CASCADE,\"\n",
    "    \" CONSTRAINT FOREIGN KEY (`artist_id`)\"\n",
    "    \"  REFERENCES `Artist` (`artist_id`) ON DELETE CASCADE\"\n",
    "    \")\")"
   ]
  },
  {
   "cell_type": "markdown",
   "id": "df1ffb42",
   "metadata": {},
   "source": [
    "# MySQL DB에 테이블 생성"
   ]
  },
  {
   "cell_type": "code",
   "execution_count": 21,
   "id": "94532060",
   "metadata": {
    "ExecuteTime": {
     "end_time": "2021-10-04T05:19:26.618958Z",
     "start_time": "2021-10-04T05:19:26.386115Z"
    }
   },
   "outputs": [
    {
     "name": "stdout",
     "output_type": "stream",
     "text": [
      "Playlist 테이블 생성....already exists.\n",
      "Tag 테이블 생성....already exists.\n",
      "Playlist_Tag 테이블 생성....already exists.\n",
      "User 테이블 생성....OK\n",
      "Song 테이블 생성....already exists.\n",
      "Playlist_Song 테이블 생성....already exists.\n",
      "Genre_Big 테이블 생성....already exists.\n",
      "Song_Genre_Big 테이블 생성....already exists.\n",
      "Genre_Detail 테이블 생성....OK\n",
      "Song_Genre_Detail 테이블 생성....OK\n",
      "Artist 테이블 생성....OK\n",
      "Artist_Song 테이블 생성....OK\n"
     ]
    }
   ],
   "source": [
    "for table_name in TABLES:\n",
    "    table_description = TABLES[table_name]\n",
    "    try:\n",
    "        print('{} 테이블 생성....'.format(table_name),end='')\n",
    "        cursor.execute(table_description)\n",
    "    except mysql.connector.Error as err:\n",
    "        if err.errno == errorcode.ER_TABLE_EXISTS_ERROR:\n",
    "            print(\"already exists.\")\n",
    "        else:\n",
    "            print(err.msg)\n",
    "    else:\n",
    "        print(\"OK\")\n",
    "        \n",
    "#cursor.close()\n",
    "#connection.close()"
   ]
  },
  {
   "cell_type": "markdown",
   "id": "4aed949b",
   "metadata": {},
   "source": [
    "# 데이터 insert"
   ]
  },
  {
   "cell_type": "code",
   "execution_count": null,
   "id": "23e034e7",
   "metadata": {},
   "outputs": [],
   "source": []
  }
 ],
 "metadata": {
  "kernelspec": {
   "display_name": "Python 3 (ipykernel)",
   "language": "python",
   "name": "python3"
  },
  "language_info": {
   "codemirror_mode": {
    "name": "ipython",
    "version": 3
   },
   "file_extension": ".py",
   "mimetype": "text/x-python",
   "name": "python",
   "nbconvert_exporter": "python",
   "pygments_lexer": "ipython3",
   "version": "3.9.6"
  },
  "toc": {
   "base_numbering": 1,
   "nav_menu": {},
   "number_sections": true,
   "sideBar": true,
   "skip_h1_title": false,
   "title_cell": "Table of Contents",
   "title_sidebar": "Contents",
   "toc_cell": false,
   "toc_position": {},
   "toc_section_display": true,
   "toc_window_display": false
  },
  "varInspector": {
   "cols": {
    "lenName": 16,
    "lenType": 16,
    "lenVar": 40
   },
   "kernels_config": {
    "python": {
     "delete_cmd_postfix": "",
     "delete_cmd_prefix": "del ",
     "library": "var_list.py",
     "varRefreshCmd": "print(var_dic_list())"
    },
    "r": {
     "delete_cmd_postfix": ") ",
     "delete_cmd_prefix": "rm(",
     "library": "var_list.r",
     "varRefreshCmd": "cat(var_dic_list()) "
    }
   },
   "types_to_exclude": [
    "module",
    "function",
    "builtin_function_or_method",
    "instance",
    "_Feature"
   ],
   "window_display": false
  }
 },
 "nbformat": 4,
 "nbformat_minor": 5
}
