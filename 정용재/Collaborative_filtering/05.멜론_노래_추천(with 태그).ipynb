{
 "cells": [
  {
   "cell_type": "code",
   "execution_count": 10,
   "id": "a8d018fc",
   "metadata": {
    "ExecuteTime": {
     "end_time": "2021-09-02T08:32:55.739459Z",
     "start_time": "2021-09-02T08:32:55.736460Z"
    }
   },
   "outputs": [],
   "source": [
    "import os\n",
    "import json\n",
    "import numpy as np\n",
    "import pandas as pd\n",
    "import scipy.sparse as spr"
   ]
  },
  {
   "cell_type": "markdown",
   "id": "14b83835",
   "metadata": {},
   "source": [
    "목차\n",
    "\n",
    "- 1. 데이터 처리 (불러오기,추가,수정,변환)\n",
    "- 2. 플레이리스트로 추천 (협업필터링)"
   ]
  },
  {
   "cell_type": "markdown",
   "id": "1cc6b113",
   "metadata": {},
   "source": [
    "# 데이터 처리"
   ]
  },
  {
   "cell_type": "markdown",
   "id": "df07c61b",
   "metadata": {},
   "source": [
    "## train,song,genre data 불러오기"
   ]
  },
  {
   "cell_type": "code",
   "execution_count": 11,
   "id": "c1a6d168",
   "metadata": {
    "ExecuteTime": {
     "end_time": "2021-09-02T08:33:04.864459Z",
     "start_time": "2021-09-02T08:32:55.740459Z"
    }
   },
   "outputs": [],
   "source": [
    "with open('data/train.json',encoding='utf-8-sig') as f:\n",
    "    train_dict = json.load(f)\n",
    "    \n",
    "with open('data/song_meta.json',encoding='utf-8-sig') as f:\n",
    "    song_dict = json.load(f)\n",
    "    \n",
    "with open('data/genre_gn_all.json',encoding='utf-8-sig') as f:\n",
    "    genre_dict = json.load(f)\n",
    "    \n",
    "train_df = pd.DataFrame.from_dict(train_dict)\n",
    "song_df = pd.DataFrame.from_dict(song_dict)"
   ]
  },
  {
   "cell_type": "markdown",
   "id": "6745796d",
   "metadata": {},
   "source": [
    "## train_df 전처리"
   ]
  },
  {
   "cell_type": "code",
   "execution_count": 12,
   "id": "f7fea94b",
   "metadata": {
    "ExecuteTime": {
     "end_time": "2021-09-02T08:33:04.879460Z",
     "start_time": "2021-09-02T08:33:04.865460Z"
    }
   },
   "outputs": [
    {
     "data": {
      "text/html": [
       "<div>\n",
       "<style scoped>\n",
       "    .dataframe tbody tr th:only-of-type {\n",
       "        vertical-align: middle;\n",
       "    }\n",
       "\n",
       "    .dataframe tbody tr th {\n",
       "        vertical-align: top;\n",
       "    }\n",
       "\n",
       "    .dataframe thead th {\n",
       "        text-align: right;\n",
       "    }\n",
       "</style>\n",
       "<table border=\"1\" class=\"dataframe\">\n",
       "  <thead>\n",
       "    <tr style=\"text-align: right;\">\n",
       "      <th></th>\n",
       "      <th>tags</th>\n",
       "      <th>id</th>\n",
       "      <th>plylst_title</th>\n",
       "      <th>songs</th>\n",
       "      <th>like_cnt</th>\n",
       "      <th>updt_date</th>\n",
       "    </tr>\n",
       "  </thead>\n",
       "  <tbody>\n",
       "    <tr>\n",
       "      <th>0</th>\n",
       "      <td>[락]</td>\n",
       "      <td>61281</td>\n",
       "      <td>여행같은 음악</td>\n",
       "      <td>[525514, 129701, 383374, 562083, 297861, 13954...</td>\n",
       "      <td>71</td>\n",
       "      <td>2013-12-19 18:36:19.000</td>\n",
       "    </tr>\n",
       "    <tr>\n",
       "      <th>1</th>\n",
       "      <td>[추억, 회상]</td>\n",
       "      <td>10532</td>\n",
       "      <td>요즘 너 말야</td>\n",
       "      <td>[432406, 675945, 497066, 120377, 389529, 24427...</td>\n",
       "      <td>1</td>\n",
       "      <td>2014-12-02 16:19:42.000</td>\n",
       "    </tr>\n",
       "    <tr>\n",
       "      <th>2</th>\n",
       "      <td>[까페, 잔잔한]</td>\n",
       "      <td>76951</td>\n",
       "      <td>편하게, 잔잔하게 들을 수 있는 곡.-</td>\n",
       "      <td>[83116, 276692, 166267, 186301, 354465, 256598...</td>\n",
       "      <td>17</td>\n",
       "      <td>2017-08-28 07:09:34.000</td>\n",
       "    </tr>\n",
       "  </tbody>\n",
       "</table>\n",
       "</div>"
      ],
      "text/plain": [
       "        tags     id           plylst_title  \\\n",
       "0        [락]  61281                여행같은 음악   \n",
       "1   [추억, 회상]  10532                요즘 너 말야   \n",
       "2  [까페, 잔잔한]  76951  편하게, 잔잔하게 들을 수 있는 곡.-   \n",
       "\n",
       "                                               songs  like_cnt  \\\n",
       "0  [525514, 129701, 383374, 562083, 297861, 13954...        71   \n",
       "1  [432406, 675945, 497066, 120377, 389529, 24427...         1   \n",
       "2  [83116, 276692, 166267, 186301, 354465, 256598...        17   \n",
       "\n",
       "                 updt_date  \n",
       "0  2013-12-19 18:36:19.000  \n",
       "1  2014-12-02 16:19:42.000  \n",
       "2  2017-08-28 07:09:34.000  "
      ]
     },
     "execution_count": 12,
     "metadata": {},
     "output_type": "execute_result"
    }
   ],
   "source": [
    "train_df.head(3)"
   ]
  },
  {
   "cell_type": "markdown",
   "id": "loaded-humidity",
   "metadata": {},
   "source": [
    "### train_df 에 포함된 태그들 (중복포함,중복제거)"
   ]
  },
  {
   "cell_type": "code",
   "execution_count": 13,
   "id": "52671332",
   "metadata": {
    "ExecuteTime": {
     "end_time": "2021-09-02T08:33:04.969460Z",
     "start_time": "2021-09-02T08:33:04.880461Z"
    }
   },
   "outputs": [],
   "source": [
    "# 플레이리스트 곡수 컬럼 추가\n",
    "train_df['tags_cnt'] = train_df['tags'].map(lambda x : len(x))\n",
    "\n",
    "# 플레이리스트 태그수 컬럼 추가\n",
    "train_df['songs_cnt'] = train_df['songs'].map(lambda x : len(x))"
   ]
  },
  {
   "cell_type": "markdown",
   "id": "editorial-trunk",
   "metadata": {},
   "source": [
    "### train_df 에 포함된 곡들 (중복포함,중복제거)"
   ]
  },
  {
   "cell_type": "code",
   "execution_count": 14,
   "id": "c65ffd66",
   "metadata": {
    "ExecuteTime": {
     "end_time": "2021-09-02T08:33:05.434459Z",
     "start_time": "2021-09-02T08:33:04.970460Z"
    }
   },
   "outputs": [],
   "source": [
    "from itertools import chain\n",
    "\n",
    "# 플레이리스트 포함된 노래 중복포함\n",
    "songs_duplicate = chain.from_iterable(train_df['songs'].tolist())\n",
    "\n",
    "# 플레이리스트 포함된 노래 중복제거\n",
    "songs_unique = list(set(songs_duplicate))"
   ]
  },
  {
   "cell_type": "markdown",
   "id": "sticky-projection",
   "metadata": {},
   "source": [
    "### train_df 에 포함된 태그들 (중복포함,중복제거)"
   ]
  },
  {
   "cell_type": "code",
   "execution_count": 15,
   "id": "2cd96416",
   "metadata": {
    "ExecuteTime": {
     "end_time": "2021-09-02T08:33:05.509460Z",
     "start_time": "2021-09-02T08:33:05.435460Z"
    }
   },
   "outputs": [],
   "source": [
    "# 플레이리스트 포함된 태그 중복포함\n",
    "tags_duplicate = list(chain.from_iterable(train_df['tags'].tolist()))\n",
    "\n",
    "# 플레이리스트 포함된 태그 중복제거\n",
    "tags_unique = list(set(tags_duplicate))"
   ]
  },
  {
   "cell_type": "markdown",
   "id": "liberal-fairy",
   "metadata": {},
   "source": [
    "### tag에 새로운 id부여, new_tags_id 컬럼 생성"
   ]
  },
  {
   "cell_type": "code",
   "execution_count": 16,
   "id": "hidden-palmer",
   "metadata": {
    "ExecuteTime": {
     "end_time": "2021-09-02T08:33:05.674444Z",
     "start_time": "2021-09-02T08:33:05.510460Z"
    }
   },
   "outputs": [],
   "source": [
    "# { 태그 : 새로운id } 딕셔너리\n",
    "tag_to_id = dict(zip(tags_unique,range(0,len(tags_unique))))\n",
    "\n",
    "# { 새로운id : 태그 } 딕셔너리\n",
    "id_to_tag = dict(zip(range(0,len(tags_unique)),tags_unique))\n",
    "\n",
    "train_df['new_tags_id'] = train_df['tags'].map(lambda x : [tag_to_id[v] for v in x])"
   ]
  },
  {
   "cell_type": "markdown",
   "id": "higher-lincoln",
   "metadata": {},
   "source": [
    "### songs에 새로운 id부여, new_songs_id 컬럼 생성"
   ]
  },
  {
   "cell_type": "code",
   "execution_count": 17,
   "id": "constant-fluid",
   "metadata": {
    "ExecuteTime": {
     "end_time": "2021-09-02T08:33:07.220998Z",
     "start_time": "2021-09-02T08:33:05.675447Z"
    }
   },
   "outputs": [],
   "source": [
    "# { 노래 : 새로운id } 딕셔너리\n",
    "song_to_id = dict(zip(songs_unique,range(0,len(songs_unique))))\n",
    "\n",
    "# { 새로운id : 태그 } 딕셔너리\n",
    "id_to_song = dict(zip(range(0,len(songs_unique)),songs_unique))\n",
    "\n",
    "train_df['new_songs_id'] = train_df['songs'].map(lambda x : [song_to_id[v] for v in x])"
   ]
  },
  {
   "cell_type": "code",
   "execution_count": 18,
   "id": "1dda23c7",
   "metadata": {
    "ExecuteTime": {
     "end_time": "2021-09-02T08:33:07.235999Z",
     "start_time": "2021-09-02T08:33:07.222999Z"
    }
   },
   "outputs": [
    {
     "data": {
      "text/html": [
       "<div>\n",
       "<style scoped>\n",
       "    .dataframe tbody tr th:only-of-type {\n",
       "        vertical-align: middle;\n",
       "    }\n",
       "\n",
       "    .dataframe tbody tr th {\n",
       "        vertical-align: top;\n",
       "    }\n",
       "\n",
       "    .dataframe thead th {\n",
       "        text-align: right;\n",
       "    }\n",
       "</style>\n",
       "<table border=\"1\" class=\"dataframe\">\n",
       "  <thead>\n",
       "    <tr style=\"text-align: right;\">\n",
       "      <th></th>\n",
       "      <th>tags</th>\n",
       "      <th>id</th>\n",
       "      <th>plylst_title</th>\n",
       "      <th>songs</th>\n",
       "      <th>like_cnt</th>\n",
       "      <th>updt_date</th>\n",
       "      <th>tags_cnt</th>\n",
       "      <th>songs_cnt</th>\n",
       "      <th>new_tags_id</th>\n",
       "      <th>new_songs_id</th>\n",
       "    </tr>\n",
       "  </thead>\n",
       "  <tbody>\n",
       "    <tr>\n",
       "      <th>0</th>\n",
       "      <td>[락]</td>\n",
       "      <td>61281</td>\n",
       "      <td>여행같은 음악</td>\n",
       "      <td>[525514, 129701, 383374, 562083, 297861, 13954...</td>\n",
       "      <td>71</td>\n",
       "      <td>2013-12-19 18:36:19.000</td>\n",
       "      <td>1</td>\n",
       "      <td>19</td>\n",
       "      <td>[8539]</td>\n",
       "      <td>[456704, 112732, 333158, 488440, 258853, 12127...</td>\n",
       "    </tr>\n",
       "    <tr>\n",
       "      <th>1</th>\n",
       "      <td>[추억, 회상]</td>\n",
       "      <td>10532</td>\n",
       "      <td>요즘 너 말야</td>\n",
       "      <td>[432406, 675945, 497066, 120377, 389529, 24427...</td>\n",
       "      <td>1</td>\n",
       "      <td>2014-12-02 16:19:42.000</td>\n",
       "      <td>2</td>\n",
       "      <td>42</td>\n",
       "      <td>[15322, 24598]</td>\n",
       "      <td>[375894, 587314, 431997, 104605, 338568, 21226...</td>\n",
       "    </tr>\n",
       "    <tr>\n",
       "      <th>2</th>\n",
       "      <td>[까페, 잔잔한]</td>\n",
       "      <td>76951</td>\n",
       "      <td>편하게, 잔잔하게 들을 수 있는 곡.-</td>\n",
       "      <td>[83116, 276692, 166267, 186301, 354465, 256598...</td>\n",
       "      <td>17</td>\n",
       "      <td>2017-08-28 07:09:34.000</td>\n",
       "      <td>2</td>\n",
       "      <td>28</td>\n",
       "      <td>[27567, 2605]</td>\n",
       "      <td>[72132, 240434, 144495, 161861, 307991, 222934...</td>\n",
       "    </tr>\n",
       "  </tbody>\n",
       "</table>\n",
       "</div>"
      ],
      "text/plain": [
       "        tags     id           plylst_title  \\\n",
       "0        [락]  61281                여행같은 음악   \n",
       "1   [추억, 회상]  10532                요즘 너 말야   \n",
       "2  [까페, 잔잔한]  76951  편하게, 잔잔하게 들을 수 있는 곡.-   \n",
       "\n",
       "                                               songs  like_cnt  \\\n",
       "0  [525514, 129701, 383374, 562083, 297861, 13954...        71   \n",
       "1  [432406, 675945, 497066, 120377, 389529, 24427...         1   \n",
       "2  [83116, 276692, 166267, 186301, 354465, 256598...        17   \n",
       "\n",
       "                 updt_date  tags_cnt  songs_cnt     new_tags_id  \\\n",
       "0  2013-12-19 18:36:19.000         1         19          [8539]   \n",
       "1  2014-12-02 16:19:42.000         2         42  [15322, 24598]   \n",
       "2  2017-08-28 07:09:34.000         2         28   [27567, 2605]   \n",
       "\n",
       "                                        new_songs_id  \n",
       "0  [456704, 112732, 333158, 488440, 258853, 12127...  \n",
       "1  [375894, 587314, 431997, 104605, 338568, 21226...  \n",
       "2  [72132, 240434, 144495, 161861, 307991, 222934...  "
      ]
     },
     "execution_count": 18,
     "metadata": {},
     "output_type": "execute_result"
    }
   ],
   "source": [
    "train_df.head(3)"
   ]
  },
  {
   "cell_type": "code",
   "execution_count": 19,
   "id": "bc8355d9",
   "metadata": {
    "ExecuteTime": {
     "end_time": "2021-09-02T08:33:07.310997Z",
     "start_time": "2021-09-02T08:33:07.237999Z"
    }
   },
   "outputs": [
    {
     "data": {
      "text/html": [
       "<div>\n",
       "<style scoped>\n",
       "    .dataframe tbody tr th:only-of-type {\n",
       "        vertical-align: middle;\n",
       "    }\n",
       "\n",
       "    .dataframe tbody tr th {\n",
       "        vertical-align: top;\n",
       "    }\n",
       "\n",
       "    .dataframe thead th {\n",
       "        text-align: right;\n",
       "    }\n",
       "</style>\n",
       "<table border=\"1\" class=\"dataframe\">\n",
       "  <thead>\n",
       "    <tr style=\"text-align: right;\">\n",
       "      <th></th>\n",
       "      <th>id</th>\n",
       "      <th>plylst_title</th>\n",
       "      <th>tags</th>\n",
       "      <th>new_tags_id</th>\n",
       "      <th>songs</th>\n",
       "      <th>new_songs_id</th>\n",
       "      <th>tags_cnt</th>\n",
       "      <th>songs_cnt</th>\n",
       "      <th>like_cnt</th>\n",
       "      <th>updt_date</th>\n",
       "    </tr>\n",
       "  </thead>\n",
       "  <tbody>\n",
       "    <tr>\n",
       "      <th>0</th>\n",
       "      <td>61281</td>\n",
       "      <td>여행같은 음악</td>\n",
       "      <td>[락]</td>\n",
       "      <td>[8539]</td>\n",
       "      <td>[525514, 129701, 383374, 562083, 297861, 13954...</td>\n",
       "      <td>[456704, 112732, 333158, 488440, 258853, 12127...</td>\n",
       "      <td>1</td>\n",
       "      <td>19</td>\n",
       "      <td>71</td>\n",
       "      <td>2013-12-19 18:36:19.000</td>\n",
       "    </tr>\n",
       "    <tr>\n",
       "      <th>1</th>\n",
       "      <td>10532</td>\n",
       "      <td>요즘 너 말야</td>\n",
       "      <td>[추억, 회상]</td>\n",
       "      <td>[15322, 24598]</td>\n",
       "      <td>[432406, 675945, 497066, 120377, 389529, 24427...</td>\n",
       "      <td>[375894, 587314, 431997, 104605, 338568, 21226...</td>\n",
       "      <td>2</td>\n",
       "      <td>42</td>\n",
       "      <td>1</td>\n",
       "      <td>2014-12-02 16:19:42.000</td>\n",
       "    </tr>\n",
       "    <tr>\n",
       "      <th>2</th>\n",
       "      <td>76951</td>\n",
       "      <td>편하게, 잔잔하게 들을 수 있는 곡.-</td>\n",
       "      <td>[까페, 잔잔한]</td>\n",
       "      <td>[27567, 2605]</td>\n",
       "      <td>[83116, 276692, 166267, 186301, 354465, 256598...</td>\n",
       "      <td>[72132, 240434, 144495, 161861, 307991, 222934...</td>\n",
       "      <td>2</td>\n",
       "      <td>28</td>\n",
       "      <td>17</td>\n",
       "      <td>2017-08-28 07:09:34.000</td>\n",
       "    </tr>\n",
       "  </tbody>\n",
       "</table>\n",
       "</div>"
      ],
      "text/plain": [
       "      id           plylst_title       tags     new_tags_id  \\\n",
       "0  61281                여행같은 음악        [락]          [8539]   \n",
       "1  10532                요즘 너 말야   [추억, 회상]  [15322, 24598]   \n",
       "2  76951  편하게, 잔잔하게 들을 수 있는 곡.-  [까페, 잔잔한]   [27567, 2605]   \n",
       "\n",
       "                                               songs  \\\n",
       "0  [525514, 129701, 383374, 562083, 297861, 13954...   \n",
       "1  [432406, 675945, 497066, 120377, 389529, 24427...   \n",
       "2  [83116, 276692, 166267, 186301, 354465, 256598...   \n",
       "\n",
       "                                        new_songs_id  tags_cnt  songs_cnt  \\\n",
       "0  [456704, 112732, 333158, 488440, 258853, 12127...         1         19   \n",
       "1  [375894, 587314, 431997, 104605, 338568, 21226...         2         42   \n",
       "2  [72132, 240434, 144495, 161861, 307991, 222934...         2         28   \n",
       "\n",
       "   like_cnt                updt_date  \n",
       "0        71  2013-12-19 18:36:19.000  \n",
       "1         1  2014-12-02 16:19:42.000  \n",
       "2        17  2017-08-28 07:09:34.000  "
      ]
     },
     "execution_count": 19,
     "metadata": {},
     "output_type": "execute_result"
    }
   ],
   "source": [
    "train_df = train_df[['id','plylst_title','tags','new_tags_id','songs','new_songs_id','tags_cnt','songs_cnt','like_cnt','updt_date']]\n",
    "train_df.head(3)"
   ]
  },
  {
   "cell_type": "code",
   "execution_count": 20,
   "id": "north-being",
   "metadata": {
    "ExecuteTime": {
     "end_time": "2021-09-02T08:33:07.325997Z",
     "start_time": "2021-09-02T08:33:07.311999Z"
    }
   },
   "outputs": [
    {
     "data": {
      "text/html": [
       "<div>\n",
       "<style scoped>\n",
       "    .dataframe tbody tr th:only-of-type {\n",
       "        vertical-align: middle;\n",
       "    }\n",
       "\n",
       "    .dataframe tbody tr th {\n",
       "        vertical-align: top;\n",
       "    }\n",
       "\n",
       "    .dataframe thead th {\n",
       "        text-align: right;\n",
       "    }\n",
       "</style>\n",
       "<table border=\"1\" class=\"dataframe\">\n",
       "  <thead>\n",
       "    <tr style=\"text-align: right;\">\n",
       "      <th></th>\n",
       "      <th>플리_id</th>\n",
       "      <th>플리제목</th>\n",
       "      <th>태그</th>\n",
       "      <th>새태그_id</th>\n",
       "      <th>노래_id</th>\n",
       "      <th>새노래_id</th>\n",
       "      <th>태그수</th>\n",
       "      <th>노래수</th>\n",
       "      <th>좋아요수</th>\n",
       "      <th>갱신일</th>\n",
       "    </tr>\n",
       "  </thead>\n",
       "  <tbody>\n",
       "    <tr>\n",
       "      <th>0</th>\n",
       "      <td>61281</td>\n",
       "      <td>여행같은 음악</td>\n",
       "      <td>[락]</td>\n",
       "      <td>[8539]</td>\n",
       "      <td>[525514, 129701, 383374, 562083, 297861, 13954...</td>\n",
       "      <td>[456704, 112732, 333158, 488440, 258853, 12127...</td>\n",
       "      <td>1</td>\n",
       "      <td>19</td>\n",
       "      <td>71</td>\n",
       "      <td>2013-12-19 18:36:19.000</td>\n",
       "    </tr>\n",
       "    <tr>\n",
       "      <th>1</th>\n",
       "      <td>10532</td>\n",
       "      <td>요즘 너 말야</td>\n",
       "      <td>[추억, 회상]</td>\n",
       "      <td>[15322, 24598]</td>\n",
       "      <td>[432406, 675945, 497066, 120377, 389529, 24427...</td>\n",
       "      <td>[375894, 587314, 431997, 104605, 338568, 21226...</td>\n",
       "      <td>2</td>\n",
       "      <td>42</td>\n",
       "      <td>1</td>\n",
       "      <td>2014-12-02 16:19:42.000</td>\n",
       "    </tr>\n",
       "    <tr>\n",
       "      <th>2</th>\n",
       "      <td>76951</td>\n",
       "      <td>편하게, 잔잔하게 들을 수 있는 곡.-</td>\n",
       "      <td>[까페, 잔잔한]</td>\n",
       "      <td>[27567, 2605]</td>\n",
       "      <td>[83116, 276692, 166267, 186301, 354465, 256598...</td>\n",
       "      <td>[72132, 240434, 144495, 161861, 307991, 222934...</td>\n",
       "      <td>2</td>\n",
       "      <td>28</td>\n",
       "      <td>17</td>\n",
       "      <td>2017-08-28 07:09:34.000</td>\n",
       "    </tr>\n",
       "  </tbody>\n",
       "</table>\n",
       "</div>"
      ],
      "text/plain": [
       "   플리_id                   플리제목         태그          새태그_id  \\\n",
       "0  61281                여행같은 음악        [락]          [8539]   \n",
       "1  10532                요즘 너 말야   [추억, 회상]  [15322, 24598]   \n",
       "2  76951  편하게, 잔잔하게 들을 수 있는 곡.-  [까페, 잔잔한]   [27567, 2605]   \n",
       "\n",
       "                                               노래_id  \\\n",
       "0  [525514, 129701, 383374, 562083, 297861, 13954...   \n",
       "1  [432406, 675945, 497066, 120377, 389529, 24427...   \n",
       "2  [83116, 276692, 166267, 186301, 354465, 256598...   \n",
       "\n",
       "                                              새노래_id  태그수  노래수  좋아요수  \\\n",
       "0  [456704, 112732, 333158, 488440, 258853, 12127...    1   19    71   \n",
       "1  [375894, 587314, 431997, 104605, 338568, 21226...    2   42     1   \n",
       "2  [72132, 240434, 144495, 161861, 307991, 222934...    2   28    17   \n",
       "\n",
       "                       갱신일  \n",
       "0  2013-12-19 18:36:19.000  \n",
       "1  2014-12-02 16:19:42.000  \n",
       "2  2017-08-28 07:09:34.000  "
      ]
     },
     "execution_count": 20,
     "metadata": {},
     "output_type": "execute_result"
    }
   ],
   "source": [
    "train_df.columns = ['플리_id','플리제목','태그','새태그_id','노래_id','새노래_id','태그수','노래수','좋아요수','갱신일']\n",
    "train_df.head(3)"
   ]
  },
  {
   "cell_type": "markdown",
   "id": "cdd4042e",
   "metadata": {},
   "source": [
    "### 변수 정리"
   ]
  },
  {
   "cell_type": "markdown",
   "id": "c9a8becf",
   "metadata": {},
   "source": [
    "<현재>\n",
    "\n",
    "- tags_duplicate : 태그 중복 포함 리스트\n",
    "- tags_unique : 태그 중복 제거 리스트\n",
    "- songs_duplicate : 노래 중복 포함 리스트\n",
    "- songs_unique : 노래 중복 제거 리스트\n",
    " \n",
    "- tag_to_id : { 태그 : 새로운id } 딕셔너리\n",
    "- id_to_tag : { 새로운id : 태그 } 딕셔너리\n",
    "- song_to_id : { 노래 : 새로운id } 딕셔너리\n",
    "- id_to_song : { 새로운id : 노래 } 딕셔너리"
   ]
  },
  {
   "cell_type": "markdown",
   "id": "cf01461c",
   "metadata": {},
   "source": [
    "# 태그로 노래를 추천해보자"
   ]
  },
  {
   "cell_type": "markdown",
   "id": "anonymous-victory",
   "metadata": {},
   "source": [
    "## 태그 출몰횟수 구하기"
   ]
  },
  {
   "cell_type": "code",
   "execution_count": 21,
   "id": "4a89b524",
   "metadata": {
    "ExecuteTime": {
     "end_time": "2021-09-02T08:37:02.990930Z",
     "start_time": "2021-09-02T08:37:02.965563Z"
    }
   },
   "outputs": [],
   "source": [
    "tag_id_duplicate = list(chain.from_iterable(train_df['새태그_id'].tolist()))\n",
    "tag_id_unique = list(id_to_tag.keys())"
   ]
  },
  {
   "cell_type": "code",
   "execution_count": 22,
   "id": "9929cea7",
   "metadata": {
    "ExecuteTime": {
     "end_time": "2021-09-02T08:37:12.939498Z",
     "start_time": "2021-09-02T08:37:12.911498Z"
    }
   },
   "outputs": [],
   "source": [
    "# 각 태그가 몇번 출몰 했는지 세어 놓은 딕셔너리\n",
    "\n",
    "from collections import Counter\n",
    "\n",
    "tag_count = dict(Counter(tag_id_duplicate))\n",
    "\n",
    "tag_count = {i:tag_count[i] for i in range(len(tag_count))}"
   ]
  },
  {
   "cell_type": "code",
   "execution_count": 25,
   "id": "cce22c4e",
   "metadata": {
    "ExecuteTime": {
     "end_time": "2021-09-02T08:39:00.896425Z",
     "start_time": "2021-09-02T08:39:00.884425Z"
    }
   },
   "outputs": [],
   "source": [
    "# 태그_id에 달린 노래id들을 넣을 딕셔너리 초기화\n",
    "tag_id_to_song_ids_dict = {i:[] for i in range(len(tag_id_unique))}"
   ]
  },
  {
   "cell_type": "code",
   "execution_count": 26,
   "id": "brown-remains",
   "metadata": {
    "ExecuteTime": {
     "end_time": "2021-09-02T08:39:04.901525Z",
     "start_time": "2021-09-02T08:39:04.497525Z"
    }
   },
   "outputs": [],
   "source": [
    "# 태그_id에 달린 장르id들을 list로 넣어주기\n",
    "for tag_ids , song_ids in zip(train_df['새태그_id'].tolist(),train_df['새노래_id'].tolist()):\n",
    "    for tag_id in tag_ids:\n",
    "        tag_id_to_song_ids_dict[tag_id].extend(song_ids)"
   ]
  },
  {
   "cell_type": "code",
   "execution_count": 29,
   "id": "3896fc5e",
   "metadata": {
    "ExecuteTime": {
     "end_time": "2021-09-02T08:42:59.067009Z",
     "start_time": "2021-09-02T08:42:55.167451Z"
    }
   },
   "outputs": [],
   "source": [
    "for i in range(len(tag_id_to_song_ids_dict)):\n",
    "    song_count = Counter(tag_id_to_song_ids_dict[i])\n",
    "    song_count_sorted = sorted(song_count.items(),key=(lambda x:x[1]),reverse=True)\n",
    "\n",
    "    temp_list = []\n",
    "    \n",
    "    if len(song_count_sorted) > 9:\n",
    "        for k,v in song_count_sorted[:10]:\n",
    "            temp_list.append((k,v))\n",
    "    else:\n",
    "        for k,v in song_count_sorted:\n",
    "            temp_list.append((k,v))\n",
    "            \n",
    "    tag_id_to_song_ids_dict[i] = temp_list"
   ]
  },
  {
   "cell_type": "code",
   "execution_count": 30,
   "id": "f9f4bc38",
   "metadata": {
    "ExecuteTime": {
     "end_time": "2021-09-02T08:43:22.091454Z",
     "start_time": "2021-09-02T08:43:22.074444Z"
    }
   },
   "outputs": [],
   "source": [
    "# 포함된 노래의 개수를 가지고 있는 list\n",
    "song_len = [len(v) for v in  tag_id_to_song_ids_dict.values()]"
   ]
  },
  {
   "cell_type": "code",
   "execution_count": 31,
   "id": "abc1cc5e",
   "metadata": {
    "ExecuteTime": {
     "end_time": "2021-09-02T08:44:25.994170Z",
     "start_time": "2021-09-02T08:44:25.984171Z"
    }
   },
   "outputs": [
    {
     "data": {
      "text/plain": [
       "290304"
      ]
     },
     "execution_count": 31,
     "metadata": {},
     "output_type": "execute_result"
    }
   ],
   "source": [
    "#  태그별 장르포함 횟수만큼 반복  * 2번 태그는 7번 나왔으니 2를 7번 찍기\n",
    "row = np.repeat(range(len( tag_id_to_song_ids_dict)),song_len)\n",
    "len(row)"
   ]
  },
  {
   "cell_type": "code",
   "execution_count": 32,
   "id": "eba392f7",
   "metadata": {
    "ExecuteTime": {
     "end_time": "2021-09-02T08:44:37.495225Z",
     "start_time": "2021-09-02T08:44:37.451913Z"
    }
   },
   "outputs": [
    {
     "data": {
      "text/plain": [
       "290304"
      ]
     },
     "execution_count": 32,
     "metadata": {},
     "output_type": "execute_result"
    }
   ],
   "source": [
    "col =  [song[0] for k,v in tag_id_to_song_ids_dict.items() for song in v]\n",
    "len(col)"
   ]
  },
  {
   "cell_type": "code",
   "execution_count": 33,
   "id": "72124ccb",
   "metadata": {
    "ExecuteTime": {
     "end_time": "2021-09-02T08:44:41.215593Z",
     "start_time": "2021-09-02T08:44:41.201767Z"
    }
   },
   "outputs": [
    {
     "data": {
      "text/plain": [
       "290304"
      ]
     },
     "execution_count": 33,
     "metadata": {},
     "output_type": "execute_result"
    }
   ],
   "source": [
    "# 태그 마다 달린 노래의 총길이 만큼 1찍기\n",
    "dat = np.repeat(1, sum(song_len))\n",
    "len(dat)"
   ]
  },
  {
   "cell_type": "code",
   "execution_count": 34,
   "id": "45757f66",
   "metadata": {
    "ExecuteTime": {
     "end_time": "2021-09-02T08:44:52.513424Z",
     "start_time": "2021-09-02T08:44:52.462410Z"
    }
   },
   "outputs": [],
   "source": [
    "train_tags_A = spr.csr_matrix((dat, (row, col)), shape=(train_df['태그수'].sum(), len(song_to_id)))\n",
    "\n",
    "train_tags_A_T = train_tags_A.T.tocsr()"
   ]
  },
  {
   "cell_type": "code",
   "execution_count": 35,
   "id": "6e2f54d1",
   "metadata": {
    "ExecuteTime": {
     "end_time": "2021-09-02T08:45:18.415407Z",
     "start_time": "2021-09-02T08:45:18.408406Z"
    }
   },
   "outputs": [],
   "source": [
    "def recom_genres(tag):\n",
    "\n",
    "\n",
    "    my_song_ids = tag_id_to_song_ids_dict[tag_to_id[tag]]\n",
    "    \n",
    "    # 내가 뽑은 장르 id 만 1인 1차원 희소행렬\n",
    "\n",
    "    p = np.zeros((len(song_to_id),1))\n",
    "\n",
    "    for id,count in my_song_ids:\n",
    "        p[id]=1\n",
    "        \n",
    "    # 희소행렬과 dot 연산을 통해 각 태그와 겹치는 장르들의 갯수를 추출\n",
    "    val = train_tags_A.dot(p).reshape(-1)\n",
    "    \n",
    "    cand_gen = train_tags_A_T.dot(val)\n",
    "    \n",
    "    # 1차원으로 바꿔서 중복된 장르를 가진 태그 상위 150개 도출\n",
    "    cand_gen_idx = cand_gen.reshape(-1).argsort()[-150:][::-1]\n",
    "\n",
    "    # 비슷한 장르 10개 도출\n",
    "    cand_gen_idx = cand_gen_idx[:10]\n",
    "\n",
    "    cand_gen_idx\n",
    "    \n",
    "    # 원래 노래 id값으로 복원\n",
    "    result_ids = [id_to_song[i] for i in cand_gen_idx]\n",
    "    \n",
    "    \n",
    "    #result_songs = [(id_to_song[i]) for i in result_ids]\n",
    "    \n",
    "    return result_ids"
   ]
  },
  {
   "cell_type": "code",
   "execution_count": 36,
   "id": "77afa2bf",
   "metadata": {
    "ExecuteTime": {
     "end_time": "2021-09-02T08:45:22.182669Z",
     "start_time": "2021-09-02T08:45:22.153670Z"
    }
   },
   "outputs": [],
   "source": [
    "song_ids = recom_genres('백예린')"
   ]
  },
  {
   "cell_type": "code",
   "execution_count": 37,
   "id": "6b3ba4e8",
   "metadata": {
    "ExecuteTime": {
     "end_time": "2021-09-02T08:45:25.888669Z",
     "start_time": "2021-09-02T08:45:25.859669Z"
    }
   },
   "outputs": [
    {
     "data": {
      "text/html": [
       "<div>\n",
       "<style scoped>\n",
       "    .dataframe tbody tr th:only-of-type {\n",
       "        vertical-align: middle;\n",
       "    }\n",
       "\n",
       "    .dataframe tbody tr th {\n",
       "        vertical-align: top;\n",
       "    }\n",
       "\n",
       "    .dataframe thead th {\n",
       "        text-align: right;\n",
       "    }\n",
       "</style>\n",
       "<table border=\"1\" class=\"dataframe\">\n",
       "  <thead>\n",
       "    <tr style=\"text-align: right;\">\n",
       "      <th></th>\n",
       "      <th>song_gn_dtl_gnr_basket</th>\n",
       "      <th>issue_date</th>\n",
       "      <th>album_name</th>\n",
       "      <th>album_id</th>\n",
       "      <th>artist_id_basket</th>\n",
       "      <th>song_name</th>\n",
       "      <th>song_gn_gnr_basket</th>\n",
       "      <th>artist_name_basket</th>\n",
       "      <th>id</th>\n",
       "    </tr>\n",
       "  </thead>\n",
       "  <tbody>\n",
       "    <tr>\n",
       "      <th>27469</th>\n",
       "      <td>[GN0401, GN0403]</td>\n",
       "      <td>20160620</td>\n",
       "      <td>Bye bye my blue</td>\n",
       "      <td>2692170</td>\n",
       "      <td>[698776]</td>\n",
       "      <td>Bye bye my blue</td>\n",
       "      <td>[GN0400]</td>\n",
       "      <td>[백예린]</td>\n",
       "      <td>27469</td>\n",
       "    </tr>\n",
       "    <tr>\n",
       "      <th>446812</th>\n",
       "      <td>[GN0401, GN0403]</td>\n",
       "      <td>20151130</td>\n",
       "      <td>FRANK</td>\n",
       "      <td>2653573</td>\n",
       "      <td>[698776]</td>\n",
       "      <td>우주를 건너</td>\n",
       "      <td>[GN0400]</td>\n",
       "      <td>[백예린]</td>\n",
       "      <td>446812</td>\n",
       "    </tr>\n",
       "    <tr>\n",
       "      <th>342835</th>\n",
       "      <td>[GN0401, GN0403]</td>\n",
       "      <td>20160620</td>\n",
       "      <td>Bye bye my blue</td>\n",
       "      <td>2692170</td>\n",
       "      <td>[698776]</td>\n",
       "      <td>그의 바다</td>\n",
       "      <td>[GN0400]</td>\n",
       "      <td>[백예린]</td>\n",
       "      <td>342835</td>\n",
       "    </tr>\n",
       "    <tr>\n",
       "      <th>300553</th>\n",
       "      <td>[GN0401, GN0402]</td>\n",
       "      <td>20190318</td>\n",
       "      <td>Our love is great</td>\n",
       "      <td>10262378</td>\n",
       "      <td>[698776]</td>\n",
       "      <td>그건 아마 우리의 잘못은 아닐 거야</td>\n",
       "      <td>[GN0400]</td>\n",
       "      <td>[백예린]</td>\n",
       "      <td>300553</td>\n",
       "    </tr>\n",
       "    <tr>\n",
       "      <th>144663</th>\n",
       "      <td>[GN0105, GN0101]</td>\n",
       "      <td>20170324</td>\n",
       "      <td>밤편지</td>\n",
       "      <td>10047890</td>\n",
       "      <td>[261143]</td>\n",
       "      <td>밤편지</td>\n",
       "      <td>[GN0100]</td>\n",
       "      <td>[아이유]</td>\n",
       "      <td>144663</td>\n",
       "    </tr>\n",
       "    <tr>\n",
       "      <th>285104</th>\n",
       "      <td>[GN0105, GN0101]</td>\n",
       "      <td>20160620</td>\n",
       "      <td>Bye bye my blue</td>\n",
       "      <td>2692170</td>\n",
       "      <td>[698776]</td>\n",
       "      <td>Zero</td>\n",
       "      <td>[GN0100]</td>\n",
       "      <td>[백예린]</td>\n",
       "      <td>285104</td>\n",
       "    </tr>\n",
       "    <tr>\n",
       "      <th>357367</th>\n",
       "      <td>[GN0401, GN0403]</td>\n",
       "      <td>20160621</td>\n",
       "      <td>비</td>\n",
       "      <td>2692501</td>\n",
       "      <td>[752425]</td>\n",
       "      <td>비</td>\n",
       "      <td>[GN0400]</td>\n",
       "      <td>[폴킴]</td>\n",
       "      <td>357367</td>\n",
       "    </tr>\n",
       "    <tr>\n",
       "      <th>505036</th>\n",
       "      <td>[GN0401, GN0403, GN0402]</td>\n",
       "      <td>20160324</td>\n",
       "      <td>130 mood : TRBL</td>\n",
       "      <td>2674623</td>\n",
       "      <td>[880630]</td>\n",
       "      <td>D (half moon) (Feat. 개코)</td>\n",
       "      <td>[GN0400]</td>\n",
       "      <td>[DEAN]</td>\n",
       "      <td>505036</td>\n",
       "    </tr>\n",
       "    <tr>\n",
       "      <th>141459</th>\n",
       "      <td>[GN0105, GN0101]</td>\n",
       "      <td>20161207</td>\n",
       "      <td>Love you on Christmas</td>\n",
       "      <td>10021255</td>\n",
       "      <td>[698776]</td>\n",
       "      <td>November song</td>\n",
       "      <td>[GN0100]</td>\n",
       "      <td>[백예린]</td>\n",
       "      <td>141459</td>\n",
       "    </tr>\n",
       "    <tr>\n",
       "      <th>419602</th>\n",
       "      <td>[GN0401, GN0402]</td>\n",
       "      <td>20191210</td>\n",
       "      <td>Every letter I sent you.</td>\n",
       "      <td>10362776</td>\n",
       "      <td>[698776]</td>\n",
       "      <td>Square (2017)</td>\n",
       "      <td>[GN0400]</td>\n",
       "      <td>[백예린]</td>\n",
       "      <td>419602</td>\n",
       "    </tr>\n",
       "  </tbody>\n",
       "</table>\n",
       "</div>"
      ],
      "text/plain": [
       "          song_gn_dtl_gnr_basket issue_date                album_name  \\\n",
       "27469           [GN0401, GN0403]   20160620           Bye bye my blue   \n",
       "446812          [GN0401, GN0403]   20151130                     FRANK   \n",
       "342835          [GN0401, GN0403]   20160620           Bye bye my blue   \n",
       "300553          [GN0401, GN0402]   20190318         Our love is great   \n",
       "144663          [GN0105, GN0101]   20170324                       밤편지   \n",
       "285104          [GN0105, GN0101]   20160620           Bye bye my blue   \n",
       "357367          [GN0401, GN0403]   20160621                         비   \n",
       "505036  [GN0401, GN0403, GN0402]   20160324           130 mood : TRBL   \n",
       "141459          [GN0105, GN0101]   20161207     Love you on Christmas   \n",
       "419602          [GN0401, GN0402]   20191210  Every letter I sent you.   \n",
       "\n",
       "        album_id artist_id_basket                 song_name  \\\n",
       "27469    2692170         [698776]           Bye bye my blue   \n",
       "446812   2653573         [698776]                    우주를 건너   \n",
       "342835   2692170         [698776]                     그의 바다   \n",
       "300553  10262378         [698776]       그건 아마 우리의 잘못은 아닐 거야   \n",
       "144663  10047890         [261143]                       밤편지   \n",
       "285104   2692170         [698776]                      Zero   \n",
       "357367   2692501         [752425]                         비   \n",
       "505036   2674623         [880630]  D (half moon) (Feat. 개코)   \n",
       "141459  10021255         [698776]             November song   \n",
       "419602  10362776         [698776]             Square (2017)   \n",
       "\n",
       "       song_gn_gnr_basket artist_name_basket      id  \n",
       "27469            [GN0400]              [백예린]   27469  \n",
       "446812           [GN0400]              [백예린]  446812  \n",
       "342835           [GN0400]              [백예린]  342835  \n",
       "300553           [GN0400]              [백예린]  300553  \n",
       "144663           [GN0100]              [아이유]  144663  \n",
       "285104           [GN0100]              [백예린]  285104  \n",
       "357367           [GN0400]               [폴킴]  357367  \n",
       "505036           [GN0400]             [DEAN]  505036  \n",
       "141459           [GN0100]              [백예린]  141459  \n",
       "419602           [GN0400]              [백예린]  419602  "
      ]
     },
     "execution_count": 37,
     "metadata": {},
     "output_type": "execute_result"
    }
   ],
   "source": [
    "song_df.loc[song_ids]"
   ]
  }
 ],
 "metadata": {
  "kernelspec": {
   "display_name": "Python 3",
   "language": "python",
   "name": "python3"
  },
  "language_info": {
   "codemirror_mode": {
    "name": "ipython",
    "version": 3
   },
   "file_extension": ".py",
   "mimetype": "text/x-python",
   "name": "python",
   "nbconvert_exporter": "python",
   "pygments_lexer": "ipython3",
   "version": "3.9.1"
  },
  "toc": {
   "base_numbering": 1,
   "nav_menu": {},
   "number_sections": true,
   "sideBar": true,
   "skip_h1_title": false,
   "title_cell": "Table of Contents",
   "title_sidebar": "Contents",
   "toc_cell": false,
   "toc_position": {},
   "toc_section_display": true,
   "toc_window_display": true
  },
  "varInspector": {
   "cols": {
    "lenName": 16,
    "lenType": 16,
    "lenVar": 40
   },
   "kernels_config": {
    "python": {
     "delete_cmd_postfix": "",
     "delete_cmd_prefix": "del ",
     "library": "var_list.py",
     "varRefreshCmd": "print(var_dic_list())"
    },
    "r": {
     "delete_cmd_postfix": ") ",
     "delete_cmd_prefix": "rm(",
     "library": "var_list.r",
     "varRefreshCmd": "cat(var_dic_list()) "
    }
   },
   "types_to_exclude": [
    "module",
    "function",
    "builtin_function_or_method",
    "instance",
    "_Feature"
   ],
   "window_display": false
  }
 },
 "nbformat": 4,
 "nbformat_minor": 5
}
