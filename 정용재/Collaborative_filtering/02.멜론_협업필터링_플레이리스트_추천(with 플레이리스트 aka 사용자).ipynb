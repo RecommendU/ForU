{
 "cells": [
  {
   "cell_type": "code",
   "execution_count": 2,
   "id": "a8d018fc",
   "metadata": {
    "ExecuteTime": {
     "end_time": "2021-08-30T12:18:52.917554Z",
     "start_time": "2021-08-30T12:18:52.616554Z"
    }
   },
   "outputs": [],
   "source": [
    "import os\n",
    "import json\n",
    "import numpy as np\n",
    "import pandas as pd\n",
    "import scipy.sparse as spr"
   ]
  },
  {
   "cell_type": "markdown",
   "id": "14b83835",
   "metadata": {},
   "source": [
    "목차\n",
    "\n",
    "- 1. 데이터 처리 (불러오기,추가,수정,변환)\n",
    "- 2. 플레이리스트로 추천 (협업필터링)"
   ]
  },
  {
   "cell_type": "markdown",
   "id": "1cc6b113",
   "metadata": {},
   "source": [
    "# 데이터 처리"
   ]
  },
  {
   "cell_type": "markdown",
   "id": "df07c61b",
   "metadata": {},
   "source": [
    "## 불러오기"
   ]
  },
  {
   "cell_type": "code",
   "execution_count": 3,
   "id": "c1a6d168",
   "metadata": {
    "ExecuteTime": {
     "end_time": "2021-08-30T12:19:00.927594Z",
     "start_time": "2021-08-30T12:18:52.918555Z"
    }
   },
   "outputs": [],
   "source": [
    "with open('data/train.json',encoding='utf-8-sig') as f:\n",
    "    train_dict = json.load(f)\n",
    "    \n",
    "with open('data/song_meta.json',encoding='utf-8-sig') as f:\n",
    "    song_dict = json.load(f)\n",
    "    \n",
    "with open('data/genre_gn_all.json',encoding='utf-8-sig') as f:\n",
    "    genre_dict = json.load(f)\n",
    "    \n",
    "train_df = pd.DataFrame.from_dict(train_dict)\n",
    "song_df = pd.DataFrame.from_dict(song_dict)"
   ]
  },
  {
   "cell_type": "markdown",
   "id": "6745796d",
   "metadata": {},
   "source": [
    "## train_df 전처리"
   ]
  },
  {
   "cell_type": "markdown",
   "id": "94250eb5",
   "metadata": {},
   "source": [
    "### 일반 전처리\n",
    "- num_songs,num_tags = '중복제거한 노래 태그 개수'"
   ]
  },
  {
   "cell_type": "code",
   "execution_count": 4,
   "id": "f7fea94b",
   "metadata": {
    "ExecuteTime": {
     "end_time": "2021-08-30T12:19:00.957598Z",
     "start_time": "2021-08-30T12:19:00.928599Z"
    }
   },
   "outputs": [
    {
     "data": {
      "text/html": [
       "<div>\n",
       "<style scoped>\n",
       "    .dataframe tbody tr th:only-of-type {\n",
       "        vertical-align: middle;\n",
       "    }\n",
       "\n",
       "    .dataframe tbody tr th {\n",
       "        vertical-align: top;\n",
       "    }\n",
       "\n",
       "    .dataframe thead th {\n",
       "        text-align: right;\n",
       "    }\n",
       "</style>\n",
       "<table border=\"1\" class=\"dataframe\">\n",
       "  <thead>\n",
       "    <tr style=\"text-align: right;\">\n",
       "      <th></th>\n",
       "      <th>tags</th>\n",
       "      <th>id</th>\n",
       "      <th>plylst_title</th>\n",
       "      <th>songs</th>\n",
       "      <th>like_cnt</th>\n",
       "      <th>updt_date</th>\n",
       "    </tr>\n",
       "  </thead>\n",
       "  <tbody>\n",
       "    <tr>\n",
       "      <th>0</th>\n",
       "      <td>[락]</td>\n",
       "      <td>61281</td>\n",
       "      <td>여행같은 음악</td>\n",
       "      <td>[525514, 129701, 383374, 562083, 297861, 13954...</td>\n",
       "      <td>71</td>\n",
       "      <td>2013-12-19 18:36:19.000</td>\n",
       "    </tr>\n",
       "    <tr>\n",
       "      <th>1</th>\n",
       "      <td>[추억, 회상]</td>\n",
       "      <td>10532</td>\n",
       "      <td>요즘 너 말야</td>\n",
       "      <td>[432406, 675945, 497066, 120377, 389529, 24427...</td>\n",
       "      <td>1</td>\n",
       "      <td>2014-12-02 16:19:42.000</td>\n",
       "    </tr>\n",
       "    <tr>\n",
       "      <th>2</th>\n",
       "      <td>[까페, 잔잔한]</td>\n",
       "      <td>76951</td>\n",
       "      <td>편하게, 잔잔하게 들을 수 있는 곡.-</td>\n",
       "      <td>[83116, 276692, 166267, 186301, 354465, 256598...</td>\n",
       "      <td>17</td>\n",
       "      <td>2017-08-28 07:09:34.000</td>\n",
       "    </tr>\n",
       "  </tbody>\n",
       "</table>\n",
       "</div>"
      ],
      "text/plain": [
       "        tags     id           plylst_title  \\\n",
       "0        [락]  61281                여행같은 음악   \n",
       "1   [추억, 회상]  10532                요즘 너 말야   \n",
       "2  [까페, 잔잔한]  76951  편하게, 잔잔하게 들을 수 있는 곡.-   \n",
       "\n",
       "                                               songs  like_cnt  \\\n",
       "0  [525514, 129701, 383374, 562083, 297861, 13954...        71   \n",
       "1  [432406, 675945, 497066, 120377, 389529, 24427...         1   \n",
       "2  [83116, 276692, 166267, 186301, 354465, 256598...        17   \n",
       "\n",
       "                 updt_date  \n",
       "0  2013-12-19 18:36:19.000  \n",
       "1  2014-12-02 16:19:42.000  \n",
       "2  2017-08-28 07:09:34.000  "
      ]
     },
     "execution_count": 4,
     "metadata": {},
     "output_type": "execute_result"
    }
   ],
   "source": [
    "train_df.head(3)"
   ]
  },
  {
   "cell_type": "code",
   "execution_count": 5,
   "id": "52671332",
   "metadata": {
    "ExecuteTime": {
     "end_time": "2021-08-30T12:19:01.047598Z",
     "start_time": "2021-08-30T12:19:00.958601Z"
    }
   },
   "outputs": [],
   "source": [
    "train_df['tags_cnt'] = train_df['tags'].map(lambda x : len(x))\n",
    "train_df['songs_cnt'] = train_df['songs'].map(lambda x : len(x))"
   ]
  },
  {
   "cell_type": "code",
   "execution_count": 6,
   "id": "c65ffd66",
   "metadata": {
    "ExecuteTime": {
     "end_time": "2021-08-30T12:19:01.497607Z",
     "start_time": "2021-08-30T12:19:01.048601Z"
    }
   },
   "outputs": [],
   "source": [
    "def list_merger(x):\n",
    "    temp_list.extend(x)\n",
    "\n",
    "temp_list = []\n",
    "\n",
    "train_df['songs'].map(list_merger)\n",
    "\n",
    "unique_songs = list(set(temp_list))\n",
    "\n",
    "num_songs = len(unique_songs)"
   ]
  },
  {
   "cell_type": "code",
   "execution_count": 7,
   "id": "2cd96416",
   "metadata": {
    "ExecuteTime": {
     "end_time": "2021-08-30T12:19:01.602653Z",
     "start_time": "2021-08-30T12:19:01.498608Z"
    }
   },
   "outputs": [],
   "source": [
    "temp_list = []\n",
    "                \n",
    "train_df['tags'].map(list_merger)\n",
    "                    \n",
    "unique_tags = list(set(temp_list))\n",
    "                \n",
    "num_tags = len(unique_tags)"
   ]
  },
  {
   "cell_type": "code",
   "execution_count": 8,
   "id": "415a920e",
   "metadata": {
    "ExecuteTime": {
     "end_time": "2021-08-30T12:19:01.617676Z",
     "start_time": "2021-08-30T12:19:01.603657Z"
    }
   },
   "outputs": [
    {
     "data": {
      "text/plain": [
       "615142"
      ]
     },
     "execution_count": 8,
     "metadata": {},
     "output_type": "execute_result"
    }
   ],
   "source": [
    "num_songs"
   ]
  },
  {
   "cell_type": "code",
   "execution_count": 9,
   "id": "c5f84ede",
   "metadata": {
    "ExecuteTime": {
     "end_time": "2021-08-30T12:19:01.632677Z",
     "start_time": "2021-08-30T12:19:01.618678Z"
    }
   },
   "outputs": [
    {
     "data": {
      "text/plain": [
       "29160"
      ]
     },
     "execution_count": 9,
     "metadata": {},
     "output_type": "execute_result"
    }
   ],
   "source": [
    "num_tags"
   ]
  },
  {
   "cell_type": "code",
   "execution_count": 10,
   "id": "auburn-passion",
   "metadata": {
    "ExecuteTime": {
     "end_time": "2021-08-30T12:19:01.662679Z",
     "start_time": "2021-08-30T12:19:01.658676Z"
    }
   },
   "outputs": [
    {
     "data": {
      "text/plain": [
       "115071"
      ]
     },
     "execution_count": 10,
     "metadata": {},
     "output_type": "execute_result"
    }
   ],
   "source": [
    "num_train = len(train_df)\n",
    "num_train"
   ]
  },
  {
   "cell_type": "markdown",
   "id": "6af49d01",
   "metadata": {},
   "source": [
    "### tag에 id부여"
   ]
  },
  {
   "cell_type": "code",
   "execution_count": 11,
   "id": "886d0d92",
   "metadata": {
    "ExecuteTime": {
     "end_time": "2021-08-30T12:19:01.677677Z",
     "start_time": "2021-08-30T12:19:01.663678Z"
    }
   },
   "outputs": [
    {
     "data": {
      "text/html": [
       "<div>\n",
       "<style scoped>\n",
       "    .dataframe tbody tr th:only-of-type {\n",
       "        vertical-align: middle;\n",
       "    }\n",
       "\n",
       "    .dataframe tbody tr th {\n",
       "        vertical-align: top;\n",
       "    }\n",
       "\n",
       "    .dataframe thead th {\n",
       "        text-align: right;\n",
       "    }\n",
       "</style>\n",
       "<table border=\"1\" class=\"dataframe\">\n",
       "  <thead>\n",
       "    <tr style=\"text-align: right;\">\n",
       "      <th></th>\n",
       "      <th>tags</th>\n",
       "      <th>id</th>\n",
       "      <th>plylst_title</th>\n",
       "      <th>songs</th>\n",
       "      <th>like_cnt</th>\n",
       "      <th>updt_date</th>\n",
       "      <th>tags_cnt</th>\n",
       "      <th>songs_cnt</th>\n",
       "    </tr>\n",
       "  </thead>\n",
       "  <tbody>\n",
       "    <tr>\n",
       "      <th>0</th>\n",
       "      <td>[락]</td>\n",
       "      <td>61281</td>\n",
       "      <td>여행같은 음악</td>\n",
       "      <td>[525514, 129701, 383374, 562083, 297861, 13954...</td>\n",
       "      <td>71</td>\n",
       "      <td>2013-12-19 18:36:19.000</td>\n",
       "      <td>1</td>\n",
       "      <td>19</td>\n",
       "    </tr>\n",
       "    <tr>\n",
       "      <th>1</th>\n",
       "      <td>[추억, 회상]</td>\n",
       "      <td>10532</td>\n",
       "      <td>요즘 너 말야</td>\n",
       "      <td>[432406, 675945, 497066, 120377, 389529, 24427...</td>\n",
       "      <td>1</td>\n",
       "      <td>2014-12-02 16:19:42.000</td>\n",
       "      <td>2</td>\n",
       "      <td>42</td>\n",
       "    </tr>\n",
       "    <tr>\n",
       "      <th>2</th>\n",
       "      <td>[까페, 잔잔한]</td>\n",
       "      <td>76951</td>\n",
       "      <td>편하게, 잔잔하게 들을 수 있는 곡.-</td>\n",
       "      <td>[83116, 276692, 166267, 186301, 354465, 256598...</td>\n",
       "      <td>17</td>\n",
       "      <td>2017-08-28 07:09:34.000</td>\n",
       "      <td>2</td>\n",
       "      <td>28</td>\n",
       "    </tr>\n",
       "  </tbody>\n",
       "</table>\n",
       "</div>"
      ],
      "text/plain": [
       "        tags     id           plylst_title  \\\n",
       "0        [락]  61281                여행같은 음악   \n",
       "1   [추억, 회상]  10532                요즘 너 말야   \n",
       "2  [까페, 잔잔한]  76951  편하게, 잔잔하게 들을 수 있는 곡.-   \n",
       "\n",
       "                                               songs  like_cnt  \\\n",
       "0  [525514, 129701, 383374, 562083, 297861, 13954...        71   \n",
       "1  [432406, 675945, 497066, 120377, 389529, 24427...         1   \n",
       "2  [83116, 276692, 166267, 186301, 354465, 256598...        17   \n",
       "\n",
       "                 updt_date  tags_cnt  songs_cnt  \n",
       "0  2013-12-19 18:36:19.000         1         19  \n",
       "1  2014-12-02 16:19:42.000         2         42  \n",
       "2  2017-08-28 07:09:34.000         2         28  "
      ]
     },
     "execution_count": 11,
     "metadata": {},
     "output_type": "execute_result"
    }
   ],
   "source": [
    "train_df.head(3)"
   ]
  },
  {
   "cell_type": "code",
   "execution_count": 12,
   "id": "f2dd4fe2",
   "metadata": {
    "ExecuteTime": {
     "end_time": "2021-08-30T12:19:01.828676Z",
     "start_time": "2021-08-30T12:19:01.678678Z"
    }
   },
   "outputs": [],
   "source": [
    "# { 태그 : 새로운id } 딕셔너리\n",
    "tag_to_id = {}\n",
    "\n",
    "\n",
    "# { 새로운id : 태그 } 딕셔너리\n",
    "id_to_tag = {}\n",
    "\n",
    "# enumerate 반복 횟수를 이용해서 새로운 id 부여\n",
    "for i,v in enumerate(unique_tags):\n",
    "    id_to_tag[i] = v\n",
    "\n",
    "# id_to_tag의 키 밸류를 반전해서 tag_to_id를 만듦\n",
    "tag_to_id = {v:k for k,v in id_to_tag.items()}\n",
    "\n",
    "\n",
    "# tags를 id로 변환해서 새로운 column을 생성\n",
    "def tag_id_trans(x):\n",
    "    \n",
    "    temp_list = []\n",
    "    \n",
    "    for tag in x:\n",
    "        temp_list.append(tag_to_id[tag])\n",
    "    \n",
    "    return temp_list\n",
    "\n",
    "train_df['tags_id'] = train_df['tags'].map(tag_id_trans)"
   ]
  },
  {
   "cell_type": "code",
   "execution_count": 13,
   "id": "abef6cda",
   "metadata": {
    "ExecuteTime": {
     "end_time": "2021-08-30T12:19:01.843677Z",
     "start_time": "2021-08-30T12:19:01.829677Z"
    }
   },
   "outputs": [
    {
     "data": {
      "text/html": [
       "<div>\n",
       "<style scoped>\n",
       "    .dataframe tbody tr th:only-of-type {\n",
       "        vertical-align: middle;\n",
       "    }\n",
       "\n",
       "    .dataframe tbody tr th {\n",
       "        vertical-align: top;\n",
       "    }\n",
       "\n",
       "    .dataframe thead th {\n",
       "        text-align: right;\n",
       "    }\n",
       "</style>\n",
       "<table border=\"1\" class=\"dataframe\">\n",
       "  <thead>\n",
       "    <tr style=\"text-align: right;\">\n",
       "      <th></th>\n",
       "      <th>tags</th>\n",
       "      <th>id</th>\n",
       "      <th>plylst_title</th>\n",
       "      <th>songs</th>\n",
       "      <th>like_cnt</th>\n",
       "      <th>updt_date</th>\n",
       "      <th>tags_cnt</th>\n",
       "      <th>songs_cnt</th>\n",
       "      <th>tags_id</th>\n",
       "    </tr>\n",
       "  </thead>\n",
       "  <tbody>\n",
       "    <tr>\n",
       "      <th>0</th>\n",
       "      <td>[락]</td>\n",
       "      <td>61281</td>\n",
       "      <td>여행같은 음악</td>\n",
       "      <td>[525514, 129701, 383374, 562083, 297861, 13954...</td>\n",
       "      <td>71</td>\n",
       "      <td>2013-12-19 18:36:19.000</td>\n",
       "      <td>1</td>\n",
       "      <td>19</td>\n",
       "      <td>[3414]</td>\n",
       "    </tr>\n",
       "    <tr>\n",
       "      <th>1</th>\n",
       "      <td>[추억, 회상]</td>\n",
       "      <td>10532</td>\n",
       "      <td>요즘 너 말야</td>\n",
       "      <td>[432406, 675945, 497066, 120377, 389529, 24427...</td>\n",
       "      <td>1</td>\n",
       "      <td>2014-12-02 16:19:42.000</td>\n",
       "      <td>2</td>\n",
       "      <td>42</td>\n",
       "      <td>[19972, 24204]</td>\n",
       "    </tr>\n",
       "    <tr>\n",
       "      <th>2</th>\n",
       "      <td>[까페, 잔잔한]</td>\n",
       "      <td>76951</td>\n",
       "      <td>편하게, 잔잔하게 들을 수 있는 곡.-</td>\n",
       "      <td>[83116, 276692, 166267, 186301, 354465, 256598...</td>\n",
       "      <td>17</td>\n",
       "      <td>2017-08-28 07:09:34.000</td>\n",
       "      <td>2</td>\n",
       "      <td>28</td>\n",
       "      <td>[16897, 28271]</td>\n",
       "    </tr>\n",
       "    <tr>\n",
       "      <th>3</th>\n",
       "      <td>[연말, 눈오는날, 캐럴, 분위기, 따듯한, 크리스마스캐럴, 겨울노래, 크리스마스,...</td>\n",
       "      <td>147456</td>\n",
       "      <td>크리스마스 분위기에 흠뻑 취하고 싶을때</td>\n",
       "      <td>[394031, 195524, 540149, 287984, 440773, 10033...</td>\n",
       "      <td>33</td>\n",
       "      <td>2019-12-05 15:15:18.000</td>\n",
       "      <td>10</td>\n",
       "      <td>38</td>\n",
       "      <td>[19393, 8057, 11477, 18537, 26347, 19928, 7702...</td>\n",
       "    </tr>\n",
       "    <tr>\n",
       "      <th>4</th>\n",
       "      <td>[댄스]</td>\n",
       "      <td>27616</td>\n",
       "      <td>추억의 노래 ㅋ</td>\n",
       "      <td>[159327, 553610, 5130, 645103, 294435, 100657,...</td>\n",
       "      <td>9</td>\n",
       "      <td>2011-10-25 13:54:56.000</td>\n",
       "      <td>1</td>\n",
       "      <td>53</td>\n",
       "      <td>[14306]</td>\n",
       "    </tr>\n",
       "  </tbody>\n",
       "</table>\n",
       "</div>"
      ],
      "text/plain": [
       "                                                tags      id  \\\n",
       "0                                                [락]   61281   \n",
       "1                                           [추억, 회상]   10532   \n",
       "2                                          [까페, 잔잔한]   76951   \n",
       "3  [연말, 눈오는날, 캐럴, 분위기, 따듯한, 크리스마스캐럴, 겨울노래, 크리스마스,...  147456   \n",
       "4                                               [댄스]   27616   \n",
       "\n",
       "            plylst_title                                              songs  \\\n",
       "0                여행같은 음악  [525514, 129701, 383374, 562083, 297861, 13954...   \n",
       "1                요즘 너 말야  [432406, 675945, 497066, 120377, 389529, 24427...   \n",
       "2  편하게, 잔잔하게 들을 수 있는 곡.-  [83116, 276692, 166267, 186301, 354465, 256598...   \n",
       "3  크리스마스 분위기에 흠뻑 취하고 싶을때  [394031, 195524, 540149, 287984, 440773, 10033...   \n",
       "4               추억의 노래 ㅋ  [159327, 553610, 5130, 645103, 294435, 100657,...   \n",
       "\n",
       "   like_cnt                updt_date  tags_cnt  songs_cnt  \\\n",
       "0        71  2013-12-19 18:36:19.000         1         19   \n",
       "1         1  2014-12-02 16:19:42.000         2         42   \n",
       "2        17  2017-08-28 07:09:34.000         2         28   \n",
       "3        33  2019-12-05 15:15:18.000        10         38   \n",
       "4         9  2011-10-25 13:54:56.000         1         53   \n",
       "\n",
       "                                             tags_id  \n",
       "0                                             [3414]  \n",
       "1                                     [19972, 24204]  \n",
       "2                                     [16897, 28271]  \n",
       "3  [19393, 8057, 11477, 18537, 26347, 19928, 7702...  \n",
       "4                                            [14306]  "
      ]
     },
     "execution_count": 13,
     "metadata": {},
     "output_type": "execute_result"
    }
   ],
   "source": [
    "train_df.head()"
   ]
  },
  {
   "cell_type": "markdown",
   "id": "b6dca795",
   "metadata": {},
   "source": [
    "### 플레이리스트 속 노래들(songs)에게 새로운 id 부여"
   ]
  },
  {
   "cell_type": "code",
   "execution_count": 14,
   "id": "446a9953",
   "metadata": {
    "ExecuteTime": {
     "end_time": "2021-08-30T12:19:03.328691Z",
     "start_time": "2021-08-30T12:19:01.844677Z"
    }
   },
   "outputs": [],
   "source": [
    "# { 노래id : 새로운id } 딕셔너리\n",
    "song_to_id = {}\n",
    "\n",
    "\n",
    "# { 새로운id : 노래id } 딕셔너리\n",
    "id_to_song = {}\n",
    "\n",
    "# enumerate 반복 횟수를 이용해서 새로운 id 부여\n",
    "for i,v in enumerate(unique_songs):\n",
    "    id_to_song[i] = v\n",
    "\n",
    "# id_to_tag의 키 밸류를 반전해서 tag_to_id를 만듦\n",
    "song_to_id = {v:k for k,v in id_to_song.items()}\n",
    "\n",
    "\n",
    "# tags를 id로 변환해서 새로운 column을 생성\n",
    "def song_id_trans(x):\n",
    "    \n",
    "    temp_list = []\n",
    "    \n",
    "    for song in x:\n",
    "        temp_list.append(song_to_id[song])\n",
    "    \n",
    "    return temp_list\n",
    "\n",
    "train_df['new_songs_id'] = train_df['songs'].map(song_id_trans)"
   ]
  },
  {
   "cell_type": "code",
   "execution_count": 15,
   "id": "1dda23c7",
   "metadata": {
    "ExecuteTime": {
     "end_time": "2021-08-30T12:19:03.343692Z",
     "start_time": "2021-08-30T12:19:03.329692Z"
    }
   },
   "outputs": [
    {
     "data": {
      "text/html": [
       "<div>\n",
       "<style scoped>\n",
       "    .dataframe tbody tr th:only-of-type {\n",
       "        vertical-align: middle;\n",
       "    }\n",
       "\n",
       "    .dataframe tbody tr th {\n",
       "        vertical-align: top;\n",
       "    }\n",
       "\n",
       "    .dataframe thead th {\n",
       "        text-align: right;\n",
       "    }\n",
       "</style>\n",
       "<table border=\"1\" class=\"dataframe\">\n",
       "  <thead>\n",
       "    <tr style=\"text-align: right;\">\n",
       "      <th></th>\n",
       "      <th>tags</th>\n",
       "      <th>id</th>\n",
       "      <th>plylst_title</th>\n",
       "      <th>songs</th>\n",
       "      <th>like_cnt</th>\n",
       "      <th>updt_date</th>\n",
       "      <th>tags_cnt</th>\n",
       "      <th>songs_cnt</th>\n",
       "      <th>tags_id</th>\n",
       "      <th>new_songs_id</th>\n",
       "    </tr>\n",
       "  </thead>\n",
       "  <tbody>\n",
       "    <tr>\n",
       "      <th>0</th>\n",
       "      <td>[락]</td>\n",
       "      <td>61281</td>\n",
       "      <td>여행같은 음악</td>\n",
       "      <td>[525514, 129701, 383374, 562083, 297861, 13954...</td>\n",
       "      <td>71</td>\n",
       "      <td>2013-12-19 18:36:19.000</td>\n",
       "      <td>1</td>\n",
       "      <td>19</td>\n",
       "      <td>[3414]</td>\n",
       "      <td>[456704, 112732, 333158, 488440, 258853, 12127...</td>\n",
       "    </tr>\n",
       "    <tr>\n",
       "      <th>1</th>\n",
       "      <td>[추억, 회상]</td>\n",
       "      <td>10532</td>\n",
       "      <td>요즘 너 말야</td>\n",
       "      <td>[432406, 675945, 497066, 120377, 389529, 24427...</td>\n",
       "      <td>1</td>\n",
       "      <td>2014-12-02 16:19:42.000</td>\n",
       "      <td>2</td>\n",
       "      <td>42</td>\n",
       "      <td>[19972, 24204]</td>\n",
       "      <td>[375894, 587314, 431997, 104605, 338568, 21226...</td>\n",
       "    </tr>\n",
       "    <tr>\n",
       "      <th>2</th>\n",
       "      <td>[까페, 잔잔한]</td>\n",
       "      <td>76951</td>\n",
       "      <td>편하게, 잔잔하게 들을 수 있는 곡.-</td>\n",
       "      <td>[83116, 276692, 166267, 186301, 354465, 256598...</td>\n",
       "      <td>17</td>\n",
       "      <td>2017-08-28 07:09:34.000</td>\n",
       "      <td>2</td>\n",
       "      <td>28</td>\n",
       "      <td>[16897, 28271]</td>\n",
       "      <td>[72132, 240434, 144495, 161861, 307991, 222934...</td>\n",
       "    </tr>\n",
       "  </tbody>\n",
       "</table>\n",
       "</div>"
      ],
      "text/plain": [
       "        tags     id           plylst_title  \\\n",
       "0        [락]  61281                여행같은 음악   \n",
       "1   [추억, 회상]  10532                요즘 너 말야   \n",
       "2  [까페, 잔잔한]  76951  편하게, 잔잔하게 들을 수 있는 곡.-   \n",
       "\n",
       "                                               songs  like_cnt  \\\n",
       "0  [525514, 129701, 383374, 562083, 297861, 13954...        71   \n",
       "1  [432406, 675945, 497066, 120377, 389529, 24427...         1   \n",
       "2  [83116, 276692, 166267, 186301, 354465, 256598...        17   \n",
       "\n",
       "                 updt_date  tags_cnt  songs_cnt         tags_id  \\\n",
       "0  2013-12-19 18:36:19.000         1         19          [3414]   \n",
       "1  2014-12-02 16:19:42.000         2         42  [19972, 24204]   \n",
       "2  2017-08-28 07:09:34.000         2         28  [16897, 28271]   \n",
       "\n",
       "                                        new_songs_id  \n",
       "0  [456704, 112732, 333158, 488440, 258853, 12127...  \n",
       "1  [375894, 587314, 431997, 104605, 338568, 21226...  \n",
       "2  [72132, 240434, 144495, 161861, 307991, 222934...  "
      ]
     },
     "execution_count": 15,
     "metadata": {},
     "output_type": "execute_result"
    }
   ],
   "source": [
    "train_df.head(3)"
   ]
  },
  {
   "cell_type": "markdown",
   "id": "e90b0a4d",
   "metadata": {},
   "source": [
    "### 플레이리스트 새로운 id 부여"
   ]
  },
  {
   "cell_type": "code",
   "execution_count": 16,
   "id": "02cd7854",
   "metadata": {
    "ExecuteTime": {
     "end_time": "2021-08-30T12:19:03.358691Z",
     "start_time": "2021-08-30T12:19:03.344692Z"
    }
   },
   "outputs": [],
   "source": [
    "train_df['new_plyst_id'] = train_df.index"
   ]
  },
  {
   "cell_type": "code",
   "execution_count": 17,
   "id": "d56ab21f",
   "metadata": {
    "ExecuteTime": {
     "end_time": "2021-08-30T12:19:04.243753Z",
     "start_time": "2021-08-30T12:19:03.359694Z"
    }
   },
   "outputs": [],
   "source": [
    "id_to_playlist = {}\n",
    "\n",
    "playlist_to_id = {}\n",
    "\n",
    "def mk_dict(x):\n",
    "    \n",
    "    id_to_playlist[x['new_plyst_id']] = x['id']\n",
    "\n",
    "train_df.loc[:,['id','new_plyst_id']].apply(mk_dict,axis=1)\n",
    "\n",
    "playlist_to_id = {v:k for k,v in id_to_playlist.items()}"
   ]
  },
  {
   "cell_type": "code",
   "execution_count": 18,
   "id": "eb9d50cd",
   "metadata": {
    "ExecuteTime": {
     "end_time": "2021-08-30T12:19:04.288755Z",
     "start_time": "2021-08-30T12:19:04.244754Z"
    }
   },
   "outputs": [
    {
     "data": {
      "text/html": [
       "<div>\n",
       "<style scoped>\n",
       "    .dataframe tbody tr th:only-of-type {\n",
       "        vertical-align: middle;\n",
       "    }\n",
       "\n",
       "    .dataframe tbody tr th {\n",
       "        vertical-align: top;\n",
       "    }\n",
       "\n",
       "    .dataframe thead th {\n",
       "        text-align: right;\n",
       "    }\n",
       "</style>\n",
       "<table border=\"1\" class=\"dataframe\">\n",
       "  <thead>\n",
       "    <tr style=\"text-align: right;\">\n",
       "      <th></th>\n",
       "      <th>tags</th>\n",
       "      <th>tags_id</th>\n",
       "      <th>id</th>\n",
       "      <th>new_plyst_id</th>\n",
       "      <th>plylst_title</th>\n",
       "      <th>songs</th>\n",
       "      <th>new_songs_id</th>\n",
       "      <th>tags_cnt</th>\n",
       "      <th>songs_cnt</th>\n",
       "      <th>like_cnt</th>\n",
       "      <th>updt_date</th>\n",
       "    </tr>\n",
       "  </thead>\n",
       "  <tbody>\n",
       "    <tr>\n",
       "      <th>0</th>\n",
       "      <td>[락]</td>\n",
       "      <td>[3414]</td>\n",
       "      <td>61281</td>\n",
       "      <td>0</td>\n",
       "      <td>여행같은 음악</td>\n",
       "      <td>[525514, 129701, 383374, 562083, 297861, 13954...</td>\n",
       "      <td>[456704, 112732, 333158, 488440, 258853, 12127...</td>\n",
       "      <td>1</td>\n",
       "      <td>19</td>\n",
       "      <td>71</td>\n",
       "      <td>2013-12-19 18:36:19.000</td>\n",
       "    </tr>\n",
       "    <tr>\n",
       "      <th>1</th>\n",
       "      <td>[추억, 회상]</td>\n",
       "      <td>[19972, 24204]</td>\n",
       "      <td>10532</td>\n",
       "      <td>1</td>\n",
       "      <td>요즘 너 말야</td>\n",
       "      <td>[432406, 675945, 497066, 120377, 389529, 24427...</td>\n",
       "      <td>[375894, 587314, 431997, 104605, 338568, 21226...</td>\n",
       "      <td>2</td>\n",
       "      <td>42</td>\n",
       "      <td>1</td>\n",
       "      <td>2014-12-02 16:19:42.000</td>\n",
       "    </tr>\n",
       "    <tr>\n",
       "      <th>2</th>\n",
       "      <td>[까페, 잔잔한]</td>\n",
       "      <td>[16897, 28271]</td>\n",
       "      <td>76951</td>\n",
       "      <td>2</td>\n",
       "      <td>편하게, 잔잔하게 들을 수 있는 곡.-</td>\n",
       "      <td>[83116, 276692, 166267, 186301, 354465, 256598...</td>\n",
       "      <td>[72132, 240434, 144495, 161861, 307991, 222934...</td>\n",
       "      <td>2</td>\n",
       "      <td>28</td>\n",
       "      <td>17</td>\n",
       "      <td>2017-08-28 07:09:34.000</td>\n",
       "    </tr>\n",
       "  </tbody>\n",
       "</table>\n",
       "</div>"
      ],
      "text/plain": [
       "        tags         tags_id     id  new_plyst_id           plylst_title  \\\n",
       "0        [락]          [3414]  61281             0                여행같은 음악   \n",
       "1   [추억, 회상]  [19972, 24204]  10532             1                요즘 너 말야   \n",
       "2  [까페, 잔잔한]  [16897, 28271]  76951             2  편하게, 잔잔하게 들을 수 있는 곡.-   \n",
       "\n",
       "                                               songs  \\\n",
       "0  [525514, 129701, 383374, 562083, 297861, 13954...   \n",
       "1  [432406, 675945, 497066, 120377, 389529, 24427...   \n",
       "2  [83116, 276692, 166267, 186301, 354465, 256598...   \n",
       "\n",
       "                                        new_songs_id  tags_cnt  songs_cnt  \\\n",
       "0  [456704, 112732, 333158, 488440, 258853, 12127...         1         19   \n",
       "1  [375894, 587314, 431997, 104605, 338568, 21226...         2         42   \n",
       "2  [72132, 240434, 144495, 161861, 307991, 222934...         2         28   \n",
       "\n",
       "   like_cnt                updt_date  \n",
       "0        71  2013-12-19 18:36:19.000  \n",
       "1         1  2014-12-02 16:19:42.000  \n",
       "2        17  2017-08-28 07:09:34.000  "
      ]
     },
     "execution_count": 18,
     "metadata": {},
     "output_type": "execute_result"
    }
   ],
   "source": [
    "train_df = train_df[['tags','tags_id','id','new_plyst_id','plylst_title','songs','new_songs_id','tags_cnt','songs_cnt','like_cnt','updt_date']]\n",
    "train_df.head(3)"
   ]
  },
  {
   "cell_type": "code",
   "execution_count": 19,
   "id": "bc8355d9",
   "metadata": {
    "ExecuteTime": {
     "end_time": "2021-08-30T12:19:04.303754Z",
     "start_time": "2021-08-30T12:19:04.289756Z"
    }
   },
   "outputs": [
    {
     "data": {
      "text/html": [
       "<div>\n",
       "<style scoped>\n",
       "    .dataframe tbody tr th:only-of-type {\n",
       "        vertical-align: middle;\n",
       "    }\n",
       "\n",
       "    .dataframe tbody tr th {\n",
       "        vertical-align: top;\n",
       "    }\n",
       "\n",
       "    .dataframe thead th {\n",
       "        text-align: right;\n",
       "    }\n",
       "</style>\n",
       "<table border=\"1\" class=\"dataframe\">\n",
       "  <thead>\n",
       "    <tr style=\"text-align: right;\">\n",
       "      <th></th>\n",
       "      <th>태그</th>\n",
       "      <th>태그_id</th>\n",
       "      <th>플리_id</th>\n",
       "      <th>새플리_id</th>\n",
       "      <th>플리제목</th>\n",
       "      <th>노래_id</th>\n",
       "      <th>새노래_id</th>\n",
       "      <th>태그수</th>\n",
       "      <th>노래수</th>\n",
       "      <th>좋아요수</th>\n",
       "      <th>갱신일</th>\n",
       "    </tr>\n",
       "  </thead>\n",
       "  <tbody>\n",
       "    <tr>\n",
       "      <th>0</th>\n",
       "      <td>[락]</td>\n",
       "      <td>[3414]</td>\n",
       "      <td>61281</td>\n",
       "      <td>0</td>\n",
       "      <td>여행같은 음악</td>\n",
       "      <td>[525514, 129701, 383374, 562083, 297861, 13954...</td>\n",
       "      <td>[456704, 112732, 333158, 488440, 258853, 12127...</td>\n",
       "      <td>1</td>\n",
       "      <td>19</td>\n",
       "      <td>71</td>\n",
       "      <td>2013-12-19 18:36:19.000</td>\n",
       "    </tr>\n",
       "    <tr>\n",
       "      <th>1</th>\n",
       "      <td>[추억, 회상]</td>\n",
       "      <td>[19972, 24204]</td>\n",
       "      <td>10532</td>\n",
       "      <td>1</td>\n",
       "      <td>요즘 너 말야</td>\n",
       "      <td>[432406, 675945, 497066, 120377, 389529, 24427...</td>\n",
       "      <td>[375894, 587314, 431997, 104605, 338568, 21226...</td>\n",
       "      <td>2</td>\n",
       "      <td>42</td>\n",
       "      <td>1</td>\n",
       "      <td>2014-12-02 16:19:42.000</td>\n",
       "    </tr>\n",
       "    <tr>\n",
       "      <th>2</th>\n",
       "      <td>[까페, 잔잔한]</td>\n",
       "      <td>[16897, 28271]</td>\n",
       "      <td>76951</td>\n",
       "      <td>2</td>\n",
       "      <td>편하게, 잔잔하게 들을 수 있는 곡.-</td>\n",
       "      <td>[83116, 276692, 166267, 186301, 354465, 256598...</td>\n",
       "      <td>[72132, 240434, 144495, 161861, 307991, 222934...</td>\n",
       "      <td>2</td>\n",
       "      <td>28</td>\n",
       "      <td>17</td>\n",
       "      <td>2017-08-28 07:09:34.000</td>\n",
       "    </tr>\n",
       "  </tbody>\n",
       "</table>\n",
       "</div>"
      ],
      "text/plain": [
       "          태그           태그_id  플리_id  새플리_id                   플리제목  \\\n",
       "0        [락]          [3414]  61281       0                여행같은 음악   \n",
       "1   [추억, 회상]  [19972, 24204]  10532       1                요즘 너 말야   \n",
       "2  [까페, 잔잔한]  [16897, 28271]  76951       2  편하게, 잔잔하게 들을 수 있는 곡.-   \n",
       "\n",
       "                                               노래_id  \\\n",
       "0  [525514, 129701, 383374, 562083, 297861, 13954...   \n",
       "1  [432406, 675945, 497066, 120377, 389529, 24427...   \n",
       "2  [83116, 276692, 166267, 186301, 354465, 256598...   \n",
       "\n",
       "                                              새노래_id  태그수  노래수  좋아요수  \\\n",
       "0  [456704, 112732, 333158, 488440, 258853, 12127...    1   19    71   \n",
       "1  [375894, 587314, 431997, 104605, 338568, 21226...    2   42     1   \n",
       "2  [72132, 240434, 144495, 161861, 307991, 222934...    2   28    17   \n",
       "\n",
       "                       갱신일  \n",
       "0  2013-12-19 18:36:19.000  \n",
       "1  2014-12-02 16:19:42.000  \n",
       "2  2017-08-28 07:09:34.000  "
      ]
     },
     "execution_count": 19,
     "metadata": {},
     "output_type": "execute_result"
    }
   ],
   "source": [
    "train_df.columns = ['태그','태그_id','플리_id','새플리_id','플리제목','노래_id','새노래_id','태그수','노래수','좋아요수','갱신일']\n",
    "train_df.head(3)"
   ]
  },
  {
   "cell_type": "markdown",
   "id": "cdd4042e",
   "metadata": {},
   "source": [
    "### 변수 정리"
   ]
  },
  {
   "cell_type": "markdown",
   "id": "a40736f3",
   "metadata": {},
   "source": [
    "- num_songs : 중복 제거된 총 노래수 615142\n",
    "- num_tags : 중복 제거된 총 태그수 29160\n",
    "- num_train : 데이터의 총 갯수 115071\n",
    " \n",
    "- tag_to_id : { 태그 : 새로운id } 딕셔너리\n",
    "- id_to_tag : { 새로운id : 태그 } 딕셔너리\n",
    "- song_to_id : { 노래 : 새로운id } 딕셔너리\n",
    "- id_to_song : { 새로운id : 노래 } 딕셔너리\n",
    "- playlist_to_id { 플리id : 새로운id } 딕셔너리 \n",
    "- id_to_playlist { 새로운id : 플리id } 딕셔너리 "
   ]
  },
  {
   "cell_type": "markdown",
   "id": "1810f48c",
   "metadata": {},
   "source": [
    "# 나와 겹치는 플레이리스트를 이용해서 추천 (협업필터링)"
   ]
  },
  {
   "cell_type": "markdown",
   "id": "cathedral-bloom",
   "metadata": {},
   "source": [
    "## 희소행렬 만들기\n",
    "\n",
    "- index는 새노래_id이고  column은 새플리_id인 sparse matrix 만들것임!"
   ]
  },
  {
   "cell_type": "code",
   "execution_count": 20,
   "id": "boring-fleet",
   "metadata": {
    "ExecuteTime": {
     "end_time": "2021-08-30T12:19:04.333771Z",
     "start_time": "2021-08-30T12:19:04.304755Z"
    }
   },
   "outputs": [
    {
     "data": {
      "text/html": [
       "<div>\n",
       "<style scoped>\n",
       "    .dataframe tbody tr th:only-of-type {\n",
       "        vertical-align: middle;\n",
       "    }\n",
       "\n",
       "    .dataframe tbody tr th {\n",
       "        vertical-align: top;\n",
       "    }\n",
       "\n",
       "    .dataframe thead th {\n",
       "        text-align: right;\n",
       "    }\n",
       "</style>\n",
       "<table border=\"1\" class=\"dataframe\">\n",
       "  <thead>\n",
       "    <tr style=\"text-align: right;\">\n",
       "      <th></th>\n",
       "      <th>새플리_id</th>\n",
       "      <th>플리_id</th>\n",
       "      <th>새노래_id</th>\n",
       "      <th>노래_id</th>\n",
       "      <th>노래수</th>\n",
       "    </tr>\n",
       "  </thead>\n",
       "  <tbody>\n",
       "    <tr>\n",
       "      <th>0</th>\n",
       "      <td>0</td>\n",
       "      <td>61281</td>\n",
       "      <td>[456704, 112732, 333158, 488440, 258853, 12127...</td>\n",
       "      <td>[525514, 129701, 383374, 562083, 297861, 13954...</td>\n",
       "      <td>19</td>\n",
       "    </tr>\n",
       "    <tr>\n",
       "      <th>1</th>\n",
       "      <td>1</td>\n",
       "      <td>10532</td>\n",
       "      <td>[375894, 587314, 431997, 104605, 338568, 21226...</td>\n",
       "      <td>[432406, 675945, 497066, 120377, 389529, 24427...</td>\n",
       "      <td>42</td>\n",
       "    </tr>\n",
       "    <tr>\n",
       "      <th>2</th>\n",
       "      <td>2</td>\n",
       "      <td>76951</td>\n",
       "      <td>[72132, 240434, 144495, 161861, 307991, 222934...</td>\n",
       "      <td>[83116, 276692, 166267, 186301, 354465, 256598...</td>\n",
       "      <td>28</td>\n",
       "    </tr>\n",
       "  </tbody>\n",
       "</table>\n",
       "</div>"
      ],
      "text/plain": [
       "   새플리_id  플리_id                                             새노래_id  \\\n",
       "0       0  61281  [456704, 112732, 333158, 488440, 258853, 12127...   \n",
       "1       1  10532  [375894, 587314, 431997, 104605, 338568, 21226...   \n",
       "2       2  76951  [72132, 240434, 144495, 161861, 307991, 222934...   \n",
       "\n",
       "                                               노래_id  노래수  \n",
       "0  [525514, 129701, 383374, 562083, 297861, 13954...   19  \n",
       "1  [432406, 675945, 497066, 120377, 389529, 24427...   42  \n",
       "2  [83116, 276692, 166267, 186301, 354465, 256598...   28  "
      ]
     },
     "execution_count": 20,
     "metadata": {},
     "output_type": "execute_result"
    }
   ],
   "source": [
    "train_use = train_df[['새플리_id','플리_id','새노래_id','노래_id','노래수']]\n",
    "train_use.head(3)"
   ]
  },
  {
   "cell_type": "code",
   "execution_count": 21,
   "id": "focused-palmer",
   "metadata": {
    "ExecuteTime": {
     "end_time": "2021-08-30T12:19:04.618769Z",
     "start_time": "2021-08-30T12:19:04.334771Z"
    }
   },
   "outputs": [],
   "source": [
    "#  플레이리스트 별 포함 횟수만큼 반복  * 0번 노래는 19번 나왔으니 0을 19번 찍기\n",
    "row = np.repeat(range(len(train_use)),train_use['노래수'])\n",
    "\n",
    "# 플레이 리스트에서 노래 id 를 하나씩 뽑아서 넣어주기\n",
    "col =  [song for songs in train_use['새노래_id'] for song in songs]\n",
    "\n",
    "# 나온 노래의 숫자 만큼 1찍기\n",
    "dat = np.repeat(1, train_use['노래수'].sum())"
   ]
  },
  {
   "cell_type": "code",
   "execution_count": 22,
   "id": "emotional-asthma",
   "metadata": {
    "ExecuteTime": {
     "end_time": "2021-08-30T12:19:04.633769Z",
     "start_time": "2021-08-30T12:19:04.619769Z"
    }
   },
   "outputs": [
    {
     "data": {
      "text/plain": [
       "pandas.core.series.Series"
      ]
     },
     "execution_count": 22,
     "metadata": {},
     "output_type": "execute_result"
    }
   ],
   "source": [
    "type(train_use['노래수'])"
   ]
  },
  {
   "cell_type": "code",
   "execution_count": 23,
   "id": "modified-flexibility",
   "metadata": {
    "ExecuteTime": {
     "end_time": "2021-08-30T12:19:05.533770Z",
     "start_time": "2021-08-30T12:19:04.634770Z"
    }
   },
   "outputs": [],
   "source": [
    "# 세가지를 합해서 sparse csr 매트릭스 생성 , 어떤 플레이리스트에 노래가 있으면 1 없으면 0이 되는 식\n",
    "\n",
    "# 행이 새노래id, 열이 플리id   (638336 행 115071열)\n",
    "train_songs_A = spr.csr_matrix((dat, (row, col)), shape=(num_train, num_songs))\n",
    "\n",
    "# 행이 플리id , 열이 새노래id (115071 행 638336열)\n",
    "train_songs_A_T = train_songs_A.T.tocsr()"
   ]
  },
  {
   "cell_type": "code",
   "execution_count": 36,
   "id": "thick-change",
   "metadata": {
    "ExecuteTime": {
     "end_time": "2021-08-30T06:25:14.262017Z",
     "start_time": "2021-08-30T06:25:14.250018Z"
    }
   },
   "outputs": [
    {
     "data": {
      "text/plain": [
       "{1, 2, 3, 4}"
      ]
     },
     "execution_count": 36,
     "metadata": {},
     "output_type": "execute_result"
    }
   ],
   "source": [
    "a= []\n",
    "b =[1,2,3,4]\n",
    "\n",
    "set(b) - set(a)"
   ]
  },
  {
   "cell_type": "code",
   "execution_count": 23,
   "id": "documentary-correlation",
   "metadata": {
    "ExecuteTime": {
     "end_time": "2021-08-30T05:39:33.466687Z",
     "start_time": "2021-08-30T05:39:33.452688Z"
    }
   },
   "outputs": [],
   "source": [
    "# 오래 걸림 주의!!!\n",
    "#pd.DataFrame.sparse.from_spmatrix(train_songs_A).head(3)"
   ]
  },
  {
   "cell_type": "code",
   "execution_count": 24,
   "id": "forced-repository",
   "metadata": {
    "ExecuteTime": {
     "end_time": "2021-08-30T05:39:33.482159Z",
     "start_time": "2021-08-30T05:39:33.467688Z"
    }
   },
   "outputs": [],
   "source": [
    "# 오래 걸림 주의!! \n",
    "#pd.DataFrame.sparse.from_spmatrix(train_songs_A_T).head(3)"
   ]
  },
  {
   "cell_type": "markdown",
   "id": "broke-accounting",
   "metadata": {},
   "source": [
    "## 노래를 골라서 하나의 플레이리스트를 만들어보자"
   ]
  },
  {
   "cell_type": "code",
   "execution_count": 25,
   "id": "recorded-equation",
   "metadata": {
    "ExecuteTime": {
     "end_time": "2021-08-30T05:39:40.172159Z",
     "start_time": "2021-08-30T05:39:33.483159Z"
    },
    "code_folding": []
   },
   "outputs": [
    {
     "data": {
      "text/html": [
       "<div>\n",
       "<style scoped>\n",
       "    .dataframe tbody tr th:only-of-type {\n",
       "        vertical-align: middle;\n",
       "    }\n",
       "\n",
       "    .dataframe tbody tr th {\n",
       "        vertical-align: top;\n",
       "    }\n",
       "\n",
       "    .dataframe thead th {\n",
       "        text-align: right;\n",
       "    }\n",
       "</style>\n",
       "<table border=\"1\" class=\"dataframe\">\n",
       "  <thead>\n",
       "    <tr style=\"text-align: right;\">\n",
       "      <th></th>\n",
       "      <th>song_gn_dtl_gnr_basket</th>\n",
       "      <th>issue_date</th>\n",
       "      <th>album_name</th>\n",
       "      <th>album_id</th>\n",
       "      <th>artist_id_basket</th>\n",
       "      <th>song_name</th>\n",
       "      <th>song_gn_gnr_basket</th>\n",
       "      <th>artist_name_basket</th>\n",
       "      <th>id</th>\n",
       "    </tr>\n",
       "  </thead>\n",
       "  <tbody>\n",
       "    <tr>\n",
       "      <th>0</th>\n",
       "      <td>[GN0901]</td>\n",
       "      <td>20140512</td>\n",
       "      <td>불후의 명곡 - 7080 추억의 얄개시대 팝송베스트</td>\n",
       "      <td>2255639</td>\n",
       "      <td>[2727]</td>\n",
       "      <td>Feelings</td>\n",
       "      <td>[GN0900]</td>\n",
       "      <td>[Various Artists]</td>\n",
       "      <td>0</td>\n",
       "    </tr>\n",
       "    <tr>\n",
       "      <th>1</th>\n",
       "      <td>[GN1601, GN1606]</td>\n",
       "      <td>20080421</td>\n",
       "      <td>Bach : Partitas Nos. 2, 3 &amp; 4</td>\n",
       "      <td>376431</td>\n",
       "      <td>[29966]</td>\n",
       "      <td>Bach : Partita No. 4 In D Major, BWV 828 - II....</td>\n",
       "      <td>[GN1600]</td>\n",
       "      <td>[Murray Perahia]</td>\n",
       "      <td>1</td>\n",
       "    </tr>\n",
       "    <tr>\n",
       "      <th>2</th>\n",
       "      <td>[GN0901]</td>\n",
       "      <td>20180518</td>\n",
       "      <td>Hit</td>\n",
       "      <td>4698747</td>\n",
       "      <td>[3361]</td>\n",
       "      <td>Solsbury Hill (Remastered 2002)</td>\n",
       "      <td>[GN0900]</td>\n",
       "      <td>[Peter Gabriel]</td>\n",
       "      <td>2</td>\n",
       "    </tr>\n",
       "  </tbody>\n",
       "</table>\n",
       "</div>"
      ],
      "text/plain": [
       "  song_gn_dtl_gnr_basket issue_date                     album_name  album_id  \\\n",
       "0               [GN0901]   20140512   불후의 명곡 - 7080 추억의 얄개시대 팝송베스트   2255639   \n",
       "1       [GN1601, GN1606]   20080421  Bach : Partitas Nos. 2, 3 & 4    376431   \n",
       "2               [GN0901]   20180518                            Hit   4698747   \n",
       "\n",
       "  artist_id_basket                                          song_name  \\\n",
       "0           [2727]                                           Feelings   \n",
       "1          [29966]  Bach : Partita No. 4 In D Major, BWV 828 - II....   \n",
       "2           [3361]                    Solsbury Hill (Remastered 2002)   \n",
       "\n",
       "  song_gn_gnr_basket artist_name_basket  id  \n",
       "0           [GN0900]  [Various Artists]   0  \n",
       "1           [GN1600]   [Murray Perahia]   1  \n",
       "2           [GN0900]    [Peter Gabriel]   2  "
      ]
     },
     "execution_count": 25,
     "metadata": {},
     "output_type": "execute_result"
    }
   ],
   "source": [
    "# 노래 검색용\n",
    "\n",
    "with open('data/song_meta.json',encoding='utf-8') as f:\n",
    "    song_meta = json.load(f)\n",
    "    \n",
    "song_meta_df = pd.DataFrame.from_dict(song_meta)\n",
    "song_meta_df.head(3)"
   ]
  },
  {
   "cell_type": "code",
   "execution_count": 26,
   "id": "standing-version",
   "metadata": {
    "ExecuteTime": {
     "end_time": "2021-08-30T05:39:40.247161Z",
     "start_time": "2021-08-30T05:39:40.173159Z"
    }
   },
   "outputs": [
    {
     "data": {
      "text/html": [
       "<div>\n",
       "<style scoped>\n",
       "    .dataframe tbody tr th:only-of-type {\n",
       "        vertical-align: middle;\n",
       "    }\n",
       "\n",
       "    .dataframe tbody tr th {\n",
       "        vertical-align: top;\n",
       "    }\n",
       "\n",
       "    .dataframe thead th {\n",
       "        text-align: right;\n",
       "    }\n",
       "</style>\n",
       "<table border=\"1\" class=\"dataframe\">\n",
       "  <thead>\n",
       "    <tr style=\"text-align: right;\">\n",
       "      <th></th>\n",
       "      <th>song_gn_dtl_gnr_basket</th>\n",
       "      <th>issue_date</th>\n",
       "      <th>album_name</th>\n",
       "      <th>album_id</th>\n",
       "      <th>artist_id_basket</th>\n",
       "      <th>song_name</th>\n",
       "      <th>song_gn_gnr_basket</th>\n",
       "      <th>artist_name_basket</th>\n",
       "      <th>id</th>\n",
       "    </tr>\n",
       "  </thead>\n",
       "  <tbody>\n",
       "    <tr>\n",
       "      <th>487439</th>\n",
       "      <td>[GN0401, GN0403]</td>\n",
       "      <td>20191212</td>\n",
       "      <td>Serenade</td>\n",
       "      <td>10364036</td>\n",
       "      <td>[184910]</td>\n",
       "      <td>도망가자 (Run With Me)</td>\n",
       "      <td>[GN0400]</td>\n",
       "      <td>[선우정아]</td>\n",
       "      <td>487439</td>\n",
       "    </tr>\n",
       "  </tbody>\n",
       "</table>\n",
       "</div>"
      ],
      "text/plain": [
       "       song_gn_dtl_gnr_basket issue_date album_name  album_id  \\\n",
       "487439       [GN0401, GN0403]   20191212   Serenade  10364036   \n",
       "\n",
       "       artist_id_basket           song_name song_gn_gnr_basket  \\\n",
       "487439         [184910]  도망가자 (Run With Me)           [GN0400]   \n",
       "\n",
       "       artist_name_basket      id  \n",
       "487439             [선우정아]  487439  "
      ]
     },
     "execution_count": 26,
     "metadata": {},
     "output_type": "execute_result"
    }
   ],
   "source": [
    "song_meta_df[song_meta_df['song_name'] == '도망가자 (Run With Me)']"
   ]
  },
  {
   "cell_type": "code",
   "execution_count": 27,
   "id": "manual-auditor",
   "metadata": {
    "ExecuteTime": {
     "end_time": "2021-08-30T05:39:40.262159Z",
     "start_time": "2021-08-30T05:39:40.250159Z"
    }
   },
   "outputs": [
    {
     "data": {
      "text/plain": [
       "[23775, 61192, 225374, 343065, 388390, 423584, 433070, 469727, 503214, 531542]"
      ]
     },
     "execution_count": 27,
     "metadata": {},
     "output_type": "execute_result"
    }
   ],
   "source": [
    "my_playlist = [446812,579156,70549,498312,259414,540535,611737,394686,27469,487439]\n",
    "\n",
    "my_playlist = sorted(my_playlist)\n",
    "\n",
    "my_playlist_new_id = []\n",
    "\n",
    "for song in my_playlist:\n",
    "    my_playlist_new_id.append(song_to_id[song])\n",
    "    \n",
    "my_playlist_new_id"
   ]
  },
  {
   "cell_type": "code",
   "execution_count": 28,
   "id": "tired-china",
   "metadata": {
    "ExecuteTime": {
     "end_time": "2021-08-30T05:39:40.307191Z",
     "start_time": "2021-08-30T05:39:40.264161Z"
    },
    "scrolled": true
   },
   "outputs": [
    {
     "data": {
      "text/html": [
       "<div>\n",
       "<style scoped>\n",
       "    .dataframe tbody tr th:only-of-type {\n",
       "        vertical-align: middle;\n",
       "    }\n",
       "\n",
       "    .dataframe tbody tr th {\n",
       "        vertical-align: top;\n",
       "    }\n",
       "\n",
       "    .dataframe thead th {\n",
       "        text-align: right;\n",
       "    }\n",
       "</style>\n",
       "<table border=\"1\" class=\"dataframe\">\n",
       "  <thead>\n",
       "    <tr style=\"text-align: right;\">\n",
       "      <th></th>\n",
       "      <th>song_gn_dtl_gnr_basket</th>\n",
       "      <th>issue_date</th>\n",
       "      <th>album_name</th>\n",
       "      <th>album_id</th>\n",
       "      <th>artist_id_basket</th>\n",
       "      <th>song_name</th>\n",
       "      <th>song_gn_gnr_basket</th>\n",
       "      <th>artist_name_basket</th>\n",
       "      <th>id</th>\n",
       "    </tr>\n",
       "  </thead>\n",
       "  <tbody>\n",
       "    <tr>\n",
       "      <th>27469</th>\n",
       "      <td>[GN0401, GN0403]</td>\n",
       "      <td>20160620</td>\n",
       "      <td>Bye bye my blue</td>\n",
       "      <td>2692170</td>\n",
       "      <td>[698776]</td>\n",
       "      <td>Bye bye my blue</td>\n",
       "      <td>[GN0400]</td>\n",
       "      <td>[백예린]</td>\n",
       "      <td>27469</td>\n",
       "    </tr>\n",
       "    <tr>\n",
       "      <th>70549</th>\n",
       "      <td>[GN0105, GN0101]</td>\n",
       "      <td>20190517</td>\n",
       "      <td>너에게 못했던 내 마지막 말은</td>\n",
       "      <td>10286309</td>\n",
       "      <td>[236815]</td>\n",
       "      <td>너에게 못했던 내 마지막 말은</td>\n",
       "      <td>[GN0100]</td>\n",
       "      <td>[다비치]</td>\n",
       "      <td>70549</td>\n",
       "    </tr>\n",
       "    <tr>\n",
       "      <th>259414</th>\n",
       "      <td>[GN2601, GN2603, GN2602]</td>\n",
       "      <td>20070607</td>\n",
       "      <td>Love Child Of The Century</td>\n",
       "      <td>352347</td>\n",
       "      <td>[107725]</td>\n",
       "      <td>Lover Boy</td>\n",
       "      <td>[GN2600]</td>\n",
       "      <td>[클래지콰이]</td>\n",
       "      <td>259414</td>\n",
       "    </tr>\n",
       "    <tr>\n",
       "      <th>394686</th>\n",
       "      <td>[GN0105, GN0101]</td>\n",
       "      <td>20190903</td>\n",
       "      <td>사미서울</td>\n",
       "      <td>10324556</td>\n",
       "      <td>[449861]</td>\n",
       "      <td>사미서울</td>\n",
       "      <td>[GN0100]</td>\n",
       "      <td>[드레인 (Drain)]</td>\n",
       "      <td>394686</td>\n",
       "    </tr>\n",
       "    <tr>\n",
       "      <th>446812</th>\n",
       "      <td>[GN0401, GN0403]</td>\n",
       "      <td>20151130</td>\n",
       "      <td>FRANK</td>\n",
       "      <td>2653573</td>\n",
       "      <td>[698776]</td>\n",
       "      <td>우주를 건너</td>\n",
       "      <td>[GN0400]</td>\n",
       "      <td>[백예린]</td>\n",
       "      <td>446812</td>\n",
       "    </tr>\n",
       "    <tr>\n",
       "      <th>487439</th>\n",
       "      <td>[GN0401, GN0403]</td>\n",
       "      <td>20191212</td>\n",
       "      <td>Serenade</td>\n",
       "      <td>10364036</td>\n",
       "      <td>[184910]</td>\n",
       "      <td>도망가자 (Run With Me)</td>\n",
       "      <td>[GN0400]</td>\n",
       "      <td>[선우정아]</td>\n",
       "      <td>487439</td>\n",
       "    </tr>\n",
       "    <tr>\n",
       "      <th>498312</th>\n",
       "      <td>[GN0601, GN0606]</td>\n",
       "      <td>20190321</td>\n",
       "      <td>장범준 3집</td>\n",
       "      <td>10264375</td>\n",
       "      <td>[648551]</td>\n",
       "      <td>당신과는 천천히</td>\n",
       "      <td>[GN0600]</td>\n",
       "      <td>[장범준]</td>\n",
       "      <td>498312</td>\n",
       "    </tr>\n",
       "    <tr>\n",
       "      <th>540535</th>\n",
       "      <td>[GN2601, GN2603]</td>\n",
       "      <td>20040514</td>\n",
       "      <td>Instant Pig</td>\n",
       "      <td>34671</td>\n",
       "      <td>[107725]</td>\n",
       "      <td>Gentle Rain</td>\n",
       "      <td>[GN2600]</td>\n",
       "      <td>[클래지콰이]</td>\n",
       "      <td>540535</td>\n",
       "    </tr>\n",
       "    <tr>\n",
       "      <th>579156</th>\n",
       "      <td>[GN0501, GN0601, GN0503, GN0606, GN0509]</td>\n",
       "      <td>20150604</td>\n",
       "      <td>AUTHENTIC</td>\n",
       "      <td>2322140</td>\n",
       "      <td>[516149]</td>\n",
       "      <td>Island Island</td>\n",
       "      <td>[GN0500, GN0600]</td>\n",
       "      <td>[Bye Bye Badman]</td>\n",
       "      <td>579156</td>\n",
       "    </tr>\n",
       "    <tr>\n",
       "      <th>611737</th>\n",
       "      <td>[GN0105, GN2505, GN2501, GN0101, GN2503]</td>\n",
       "      <td>20161101</td>\n",
       "      <td>11:11</td>\n",
       "      <td>10011815</td>\n",
       "      <td>[236797]</td>\n",
       "      <td>11:11</td>\n",
       "      <td>[GN2500, GN0100]</td>\n",
       "      <td>[태연 (TAEYEON)]</td>\n",
       "      <td>611737</td>\n",
       "    </tr>\n",
       "  </tbody>\n",
       "</table>\n",
       "</div>"
      ],
      "text/plain": [
       "                          song_gn_dtl_gnr_basket issue_date  \\\n",
       "27469                           [GN0401, GN0403]   20160620   \n",
       "70549                           [GN0105, GN0101]   20190517   \n",
       "259414                  [GN2601, GN2603, GN2602]   20070607   \n",
       "394686                          [GN0105, GN0101]   20190903   \n",
       "446812                          [GN0401, GN0403]   20151130   \n",
       "487439                          [GN0401, GN0403]   20191212   \n",
       "498312                          [GN0601, GN0606]   20190321   \n",
       "540535                          [GN2601, GN2603]   20040514   \n",
       "579156  [GN0501, GN0601, GN0503, GN0606, GN0509]   20150604   \n",
       "611737  [GN0105, GN2505, GN2501, GN0101, GN2503]   20161101   \n",
       "\n",
       "                       album_name  album_id artist_id_basket  \\\n",
       "27469             Bye bye my blue   2692170         [698776]   \n",
       "70549            너에게 못했던 내 마지막 말은  10286309         [236815]   \n",
       "259414  Love Child Of The Century    352347         [107725]   \n",
       "394686                       사미서울  10324556         [449861]   \n",
       "446812                      FRANK   2653573         [698776]   \n",
       "487439                   Serenade  10364036         [184910]   \n",
       "498312                     장범준 3집  10264375         [648551]   \n",
       "540535                Instant Pig     34671         [107725]   \n",
       "579156                  AUTHENTIC   2322140         [516149]   \n",
       "611737                      11:11  10011815         [236797]   \n",
       "\n",
       "                 song_name song_gn_gnr_basket artist_name_basket      id  \n",
       "27469      Bye bye my blue           [GN0400]              [백예린]   27469  \n",
       "70549     너에게 못했던 내 마지막 말은           [GN0100]              [다비치]   70549  \n",
       "259414           Lover Boy           [GN2600]            [클래지콰이]  259414  \n",
       "394686                사미서울           [GN0100]      [드레인 (Drain)]  394686  \n",
       "446812              우주를 건너           [GN0400]              [백예린]  446812  \n",
       "487439  도망가자 (Run With Me)           [GN0400]             [선우정아]  487439  \n",
       "498312            당신과는 천천히           [GN0600]              [장범준]  498312  \n",
       "540535         Gentle Rain           [GN2600]            [클래지콰이]  540535  \n",
       "579156       Island Island   [GN0500, GN0600]   [Bye Bye Badman]  579156  \n",
       "611737               11:11   [GN2500, GN0100]     [태연 (TAEYEON)]  611737  "
      ]
     },
     "execution_count": 28,
     "metadata": {},
     "output_type": "execute_result"
    }
   ],
   "source": [
    "song_meta_df.query(f\"id == {my_playlist}\")"
   ]
  },
  {
   "cell_type": "markdown",
   "id": "vocal-discharge",
   "metadata": {},
   "source": [
    "## 내가 만든 플레이리스트 협업필터링"
   ]
  },
  {
   "cell_type": "code",
   "execution_count": 29,
   "id": "sufficient-sierra",
   "metadata": {
    "ExecuteTime": {
     "end_time": "2021-08-30T05:39:40.337222Z",
     "start_time": "2021-08-30T05:39:40.308192Z"
    }
   },
   "outputs": [],
   "source": [
    "# 노래의 갯수만큼 0을 가진 1차원 numpy행렬 선언\n",
    "p = np.zeros((num_songs,1))\n",
    "\n",
    "# 내가 포함한 노래의 index에서만 1로 바꿈\n",
    "for music in my_playlist_new_id:\n",
    "    p[music]=1\n",
    "\n",
    "# 희소행렬과 dot 연산을 통해 각 플레이리스트 겹치는 노래들의 갯수를 추출\n",
    "val = train_songs_A.dot(p).reshape(-1)"
   ]
  },
  {
   "cell_type": "code",
   "execution_count": 30,
   "id": "impressed-anderson",
   "metadata": {
    "ExecuteTime": {
     "end_time": "2021-08-30T05:39:40.367232Z",
     "start_time": "2021-08-30T05:39:40.338221Z"
    }
   },
   "outputs": [],
   "source": [
    "# 그 플레이리스트에 들어있는 노래들을 추출\n",
    "cand_song = train_songs_A_T.dot(val)"
   ]
  },
  {
   "cell_type": "code",
   "execution_count": 31,
   "id": "sharing-grave",
   "metadata": {
    "ExecuteTime": {
     "end_time": "2021-08-30T05:39:40.382232Z",
     "start_time": "2021-08-30T05:39:40.368233Z"
    }
   },
   "outputs": [
    {
     "data": {
      "text/plain": [
       "(array([[1, 1, 1],\n",
       "        [0, 0, 1],\n",
       "        [0, 1, 1]]),\n",
       " array([2, 0, 1]))"
      ]
     },
     "execution_count": 31,
     "metadata": {},
     "output_type": "execute_result"
    }
   ],
   "source": [
    "a = np.array([[1,1,1,0,0,1,0,1,1]]).reshape(3,3)\n",
    "b = np.array([1,1,0])\n",
    "a , a.dot(b)"
   ]
  },
  {
   "cell_type": "code",
   "execution_count": 32,
   "id": "documented-debate",
   "metadata": {
    "ExecuteTime": {
     "end_time": "2021-08-30T05:39:40.397233Z",
     "start_time": "2021-08-30T05:39:40.383233Z"
    }
   },
   "outputs": [
    {
     "name": "stdout",
     "output_type": "stream",
     "text": [
      "[[1 0 0]\n",
      " [1 0 1]\n",
      " [1 1 1]]\n"
     ]
    },
    {
     "data": {
      "text/plain": [
       "array([2, 3, 3])"
      ]
     },
     "execution_count": 32,
     "metadata": {},
     "output_type": "execute_result"
    }
   ],
   "source": [
    "print(a.T) # 노래 플리\n",
    "\n",
    "a.T.dot(a.dot(b))"
   ]
  },
  {
   "cell_type": "code",
   "execution_count": 33,
   "id": "formed-overall",
   "metadata": {
    "ExecuteTime": {
     "end_time": "2021-08-30T05:39:40.457249Z",
     "start_time": "2021-08-30T05:39:40.398233Z"
    }
   },
   "outputs": [
    {
     "data": {
      "text/html": [
       "<div>\n",
       "<style scoped>\n",
       "    .dataframe tbody tr th:only-of-type {\n",
       "        vertical-align: middle;\n",
       "    }\n",
       "\n",
       "    .dataframe tbody tr th {\n",
       "        vertical-align: top;\n",
       "    }\n",
       "\n",
       "    .dataframe thead th {\n",
       "        text-align: right;\n",
       "    }\n",
       "</style>\n",
       "<table border=\"1\" class=\"dataframe\">\n",
       "  <thead>\n",
       "    <tr style=\"text-align: right;\">\n",
       "      <th></th>\n",
       "      <th>song_gn_dtl_gnr_basket</th>\n",
       "      <th>issue_date</th>\n",
       "      <th>album_name</th>\n",
       "      <th>album_id</th>\n",
       "      <th>artist_id_basket</th>\n",
       "      <th>song_name</th>\n",
       "      <th>song_gn_gnr_basket</th>\n",
       "      <th>artist_name_basket</th>\n",
       "      <th>id</th>\n",
       "    </tr>\n",
       "  </thead>\n",
       "  <tbody>\n",
       "    <tr>\n",
       "      <th>7070</th>\n",
       "      <td>[GN0805, GN0509, GN0502, GN0801, GN0501]</td>\n",
       "      <td>20170613</td>\n",
       "      <td>남이 될 수 있을까</td>\n",
       "      <td>10070846</td>\n",
       "      <td>[792022, 714975]</td>\n",
       "      <td>남이 될 수 있을까</td>\n",
       "      <td>[GN0500, GN0800]</td>\n",
       "      <td>[볼빨간사춘기, 스무살]</td>\n",
       "      <td>7070</td>\n",
       "    </tr>\n",
       "    <tr>\n",
       "      <th>15318</th>\n",
       "      <td>[GN0105, GN0101]</td>\n",
       "      <td>20171218</td>\n",
       "      <td>With Winter</td>\n",
       "      <td>10120289</td>\n",
       "      <td>[726168]</td>\n",
       "      <td>With Winter</td>\n",
       "      <td>[GN0100]</td>\n",
       "      <td>[민은서밴드]</td>\n",
       "      <td>15318</td>\n",
       "    </tr>\n",
       "    <tr>\n",
       "      <th>19811</th>\n",
       "      <td>[GN0105, GN0101]</td>\n",
       "      <td>20191012</td>\n",
       "      <td>새 사랑</td>\n",
       "      <td>10337665</td>\n",
       "      <td>[722098]</td>\n",
       "      <td>새 사랑</td>\n",
       "      <td>[GN0100]</td>\n",
       "      <td>[송하예]</td>\n",
       "      <td>19811</td>\n",
       "    </tr>\n",
       "    <tr>\n",
       "      <th>31344</th>\n",
       "      <td>[GN0105, GN0101]</td>\n",
       "      <td>20191201</td>\n",
       "      <td>헤어진 우리가 지켜야 할 것들</td>\n",
       "      <td>10359196</td>\n",
       "      <td>[735094, 695994]</td>\n",
       "      <td>헤어진 우리가 지켜야 할 것들</td>\n",
       "      <td>[GN0100]</td>\n",
       "      <td>[김나영, 양다일]</td>\n",
       "      <td>31344</td>\n",
       "    </tr>\n",
       "    <tr>\n",
       "      <th>37748</th>\n",
       "      <td>[GN0105, GN1501, GN0101, GN1504]</td>\n",
       "      <td>20160531</td>\n",
       "      <td>또 오해영 OST Part.5</td>\n",
       "      <td>2687963</td>\n",
       "      <td>[792091]</td>\n",
       "      <td>너였다면</td>\n",
       "      <td>[GN1500, GN0100]</td>\n",
       "      <td>[정승환]</td>\n",
       "      <td>37748</td>\n",
       "    </tr>\n",
       "    <tr>\n",
       "      <th>41912</th>\n",
       "      <td>[GN2503, GN2501, GN0101, GN2505]</td>\n",
       "      <td>20190324</td>\n",
       "      <td>사계 (Four Seasons)</td>\n",
       "      <td>10265079</td>\n",
       "      <td>[236797]</td>\n",
       "      <td>사계 (Four Seasons)</td>\n",
       "      <td>[GN2500, GN0100]</td>\n",
       "      <td>[태연 (TAEYEON)]</td>\n",
       "      <td>41912</td>\n",
       "    </tr>\n",
       "    <tr>\n",
       "      <th>42155</th>\n",
       "      <td>[GN0105, GN0101]</td>\n",
       "      <td>20171211</td>\n",
       "      <td>벙어리</td>\n",
       "      <td>10118270</td>\n",
       "      <td>[2018151]</td>\n",
       "      <td>벙어리</td>\n",
       "      <td>[GN0100]</td>\n",
       "      <td>[홍아]</td>\n",
       "      <td>42155</td>\n",
       "    </tr>\n",
       "    <tr>\n",
       "      <th>64052</th>\n",
       "      <td>[GN0805, GN0501, GN0502, GN0801, GN0509]</td>\n",
       "      <td>20160829</td>\n",
       "      <td>Full Album RED PLANET</td>\n",
       "      <td>2707131</td>\n",
       "      <td>[792022]</td>\n",
       "      <td>우주를 줄게</td>\n",
       "      <td>[GN0500, GN0800]</td>\n",
       "      <td>[볼빨간사춘기]</td>\n",
       "      <td>64052</td>\n",
       "    </tr>\n",
       "    <tr>\n",
       "      <th>65622</th>\n",
       "      <td>[GN0105, GN0101]</td>\n",
       "      <td>20190620</td>\n",
       "      <td>포장마차</td>\n",
       "      <td>10298014</td>\n",
       "      <td>[1865473]</td>\n",
       "      <td>포장마차</td>\n",
       "      <td>[GN0100]</td>\n",
       "      <td>[황인욱]</td>\n",
       "      <td>65622</td>\n",
       "    </tr>\n",
       "    <tr>\n",
       "      <th>68348</th>\n",
       "      <td>[GN0105, GN0101]</td>\n",
       "      <td>20180306</td>\n",
       "      <td>그리운 기다림..</td>\n",
       "      <td>10144499</td>\n",
       "      <td>[1134286]</td>\n",
       "      <td>손편지 (Vocal 태인)</td>\n",
       "      <td>[GN0100]</td>\n",
       "      <td>[아재]</td>\n",
       "      <td>68348</td>\n",
       "    </tr>\n",
       "    <tr>\n",
       "      <th>77509</th>\n",
       "      <td>[GN0105, GN0101]</td>\n",
       "      <td>20190901</td>\n",
       "      <td>다시 만날까 봐</td>\n",
       "      <td>10324004</td>\n",
       "      <td>[108794]</td>\n",
       "      <td>다시 만날까 봐</td>\n",
       "      <td>[GN0100]</td>\n",
       "      <td>[V.O.S]</td>\n",
       "      <td>77509</td>\n",
       "    </tr>\n",
       "    <tr>\n",
       "      <th>105140</th>\n",
       "      <td>[GN0101]</td>\n",
       "      <td>20170126</td>\n",
       "      <td>함께 걷던 길</td>\n",
       "      <td>10033418</td>\n",
       "      <td>[1134286]</td>\n",
       "      <td>함께 걷던 길 (With 선진)</td>\n",
       "      <td>[GN0100]</td>\n",
       "      <td>[아재]</td>\n",
       "      <td>105140</td>\n",
       "    </tr>\n",
       "    <tr>\n",
       "      <th>108004</th>\n",
       "      <td>[GN0105, GN0101]</td>\n",
       "      <td>20180612</td>\n",
       "      <td>언능언능</td>\n",
       "      <td>10174919</td>\n",
       "      <td>[2018151]</td>\n",
       "      <td>언능언능</td>\n",
       "      <td>[GN0100]</td>\n",
       "      <td>[홍아]</td>\n",
       "      <td>108004</td>\n",
       "    </tr>\n",
       "    <tr>\n",
       "      <th>112282</th>\n",
       "      <td>[GN0105, GN0101]</td>\n",
       "      <td>20190218</td>\n",
       "      <td>어때</td>\n",
       "      <td>10251910</td>\n",
       "      <td>[523900]</td>\n",
       "      <td>어때</td>\n",
       "      <td>[GN0100]</td>\n",
       "      <td>[김제훈]</td>\n",
       "      <td>112282</td>\n",
       "    </tr>\n",
       "    <tr>\n",
       "      <th>116573</th>\n",
       "      <td>[GN0501, GN0601, GN0503, GN0606, GN0509]</td>\n",
       "      <td>20111123</td>\n",
       "      <td>Lo9ve3r4s</td>\n",
       "      <td>2038488</td>\n",
       "      <td>[242988]</td>\n",
       "      <td>안아줘</td>\n",
       "      <td>[GN0500, GN0600]</td>\n",
       "      <td>[정준일]</td>\n",
       "      <td>116573</td>\n",
       "    </tr>\n",
       "    <tr>\n",
       "      <th>133484</th>\n",
       "      <td>[GN0201]</td>\n",
       "      <td>20160406</td>\n",
       "      <td>Oh Beautiful</td>\n",
       "      <td>2677693</td>\n",
       "      <td>[523900]</td>\n",
       "      <td>Oh Beautiful</td>\n",
       "      <td>[GN0200]</td>\n",
       "      <td>[김제훈]</td>\n",
       "      <td>133484</td>\n",
       "    </tr>\n",
       "    <tr>\n",
       "      <th>144663</th>\n",
       "      <td>[GN0105, GN0101]</td>\n",
       "      <td>20170324</td>\n",
       "      <td>밤편지</td>\n",
       "      <td>10047890</td>\n",
       "      <td>[261143]</td>\n",
       "      <td>밤편지</td>\n",
       "      <td>[GN0100]</td>\n",
       "      <td>[아이유]</td>\n",
       "      <td>144663</td>\n",
       "    </tr>\n",
       "    <tr>\n",
       "      <th>154649</th>\n",
       "      <td>[GN0509, GN0501, GN0101, GN0506, GN0105]</td>\n",
       "      <td>20191210</td>\n",
       "      <td>미지</td>\n",
       "      <td>10362798</td>\n",
       "      <td>[681456]</td>\n",
       "      <td>미지</td>\n",
       "      <td>[GN0500, GN0100]</td>\n",
       "      <td>[스웨덴세탁소]</td>\n",
       "      <td>154649</td>\n",
       "    </tr>\n",
       "    <tr>\n",
       "      <th>154858</th>\n",
       "      <td>[GN0105, GN1501, GN0101, GN1504]</td>\n",
       "      <td>20190812</td>\n",
       "      <td>호텔 델루나 OST Part.10</td>\n",
       "      <td>10317137</td>\n",
       "      <td>[752425]</td>\n",
       "      <td>안녕</td>\n",
       "      <td>[GN1500, GN0100]</td>\n",
       "      <td>[폴킴]</td>\n",
       "      <td>154858</td>\n",
       "    </tr>\n",
       "    <tr>\n",
       "      <th>157055</th>\n",
       "      <td>[GN0105, GN0101]</td>\n",
       "      <td>20180130</td>\n",
       "      <td>Alone</td>\n",
       "      <td>10133997</td>\n",
       "      <td>[1134286]</td>\n",
       "      <td>ALONE (Vocal 김제훈)</td>\n",
       "      <td>[GN0100]</td>\n",
       "      <td>[아재]</td>\n",
       "      <td>157055</td>\n",
       "    </tr>\n",
       "  </tbody>\n",
       "</table>\n",
       "</div>"
      ],
      "text/plain": [
       "                          song_gn_dtl_gnr_basket issue_date  \\\n",
       "7070    [GN0805, GN0509, GN0502, GN0801, GN0501]   20170613   \n",
       "15318                           [GN0105, GN0101]   20171218   \n",
       "19811                           [GN0105, GN0101]   20191012   \n",
       "31344                           [GN0105, GN0101]   20191201   \n",
       "37748           [GN0105, GN1501, GN0101, GN1504]   20160531   \n",
       "41912           [GN2503, GN2501, GN0101, GN2505]   20190324   \n",
       "42155                           [GN0105, GN0101]   20171211   \n",
       "64052   [GN0805, GN0501, GN0502, GN0801, GN0509]   20160829   \n",
       "65622                           [GN0105, GN0101]   20190620   \n",
       "68348                           [GN0105, GN0101]   20180306   \n",
       "77509                           [GN0105, GN0101]   20190901   \n",
       "105140                                  [GN0101]   20170126   \n",
       "108004                          [GN0105, GN0101]   20180612   \n",
       "112282                          [GN0105, GN0101]   20190218   \n",
       "116573  [GN0501, GN0601, GN0503, GN0606, GN0509]   20111123   \n",
       "133484                                  [GN0201]   20160406   \n",
       "144663                          [GN0105, GN0101]   20170324   \n",
       "154649  [GN0509, GN0501, GN0101, GN0506, GN0105]   20191210   \n",
       "154858          [GN0105, GN1501, GN0101, GN1504]   20190812   \n",
       "157055                          [GN0105, GN0101]   20180130   \n",
       "\n",
       "                   album_name  album_id  artist_id_basket          song_name  \\\n",
       "7070               남이 될 수 있을까  10070846  [792022, 714975]         남이 될 수 있을까   \n",
       "15318             With Winter  10120289          [726168]        With Winter   \n",
       "19811                    새 사랑  10337665          [722098]               새 사랑   \n",
       "31344        헤어진 우리가 지켜야 할 것들  10359196  [735094, 695994]   헤어진 우리가 지켜야 할 것들   \n",
       "37748        또 오해영 OST Part.5   2687963          [792091]               너였다면   \n",
       "41912       사계 (Four Seasons)  10265079          [236797]  사계 (Four Seasons)   \n",
       "42155                     벙어리  10118270         [2018151]                벙어리   \n",
       "64052   Full Album RED PLANET   2707131          [792022]             우주를 줄게   \n",
       "65622                    포장마차  10298014         [1865473]               포장마차   \n",
       "68348               그리운 기다림..  10144499         [1134286]     손편지 (Vocal 태인)   \n",
       "77509                다시 만날까 봐  10324004          [108794]           다시 만날까 봐   \n",
       "105140                함께 걷던 길  10033418         [1134286]  함께 걷던 길 (With 선진)   \n",
       "108004                   언능언능  10174919         [2018151]               언능언능   \n",
       "112282                     어때  10251910          [523900]                 어때   \n",
       "116573              Lo9ve3r4s   2038488          [242988]                안아줘   \n",
       "133484           Oh Beautiful   2677693          [523900]       Oh Beautiful   \n",
       "144663                    밤편지  10047890          [261143]                밤편지   \n",
       "154649                     미지  10362798          [681456]                 미지   \n",
       "154858     호텔 델루나 OST Part.10  10317137          [752425]                 안녕   \n",
       "157055                  Alone  10133997         [1134286]  ALONE (Vocal 김제훈)   \n",
       "\n",
       "       song_gn_gnr_basket artist_name_basket      id  \n",
       "7070     [GN0500, GN0800]      [볼빨간사춘기, 스무살]    7070  \n",
       "15318            [GN0100]            [민은서밴드]   15318  \n",
       "19811            [GN0100]              [송하예]   19811  \n",
       "31344            [GN0100]         [김나영, 양다일]   31344  \n",
       "37748    [GN1500, GN0100]              [정승환]   37748  \n",
       "41912    [GN2500, GN0100]     [태연 (TAEYEON)]   41912  \n",
       "42155            [GN0100]               [홍아]   42155  \n",
       "64052    [GN0500, GN0800]           [볼빨간사춘기]   64052  \n",
       "65622            [GN0100]              [황인욱]   65622  \n",
       "68348            [GN0100]               [아재]   68348  \n",
       "77509            [GN0100]            [V.O.S]   77509  \n",
       "105140           [GN0100]               [아재]  105140  \n",
       "108004           [GN0100]               [홍아]  108004  \n",
       "112282           [GN0100]              [김제훈]  112282  \n",
       "116573   [GN0500, GN0600]              [정준일]  116573  \n",
       "133484           [GN0200]              [김제훈]  133484  \n",
       "144663           [GN0100]              [아이유]  144663  \n",
       "154649   [GN0500, GN0100]           [스웨덴세탁소]  154649  \n",
       "154858   [GN1500, GN0100]               [폴킴]  154858  \n",
       "157055           [GN0100]               [아재]  157055  "
      ]
     },
     "execution_count": 33,
     "metadata": {},
     "output_type": "execute_result"
    }
   ],
   "source": [
    "# 1차원으로 바꿔서 중복된 노래를 가진 플레이리스트 상위 150개 도출\n",
    "cand_song_idx = cand_song.reshape(-1).argsort()[-150:][::-1]\n",
    "playlists = cand_song_idx.copy()\n",
    "\n",
    "songs_already = my_playlist_new_id\n",
    "\n",
    "# 이미 테스트 데이터가 갖고있는 노래 빼고 100개 도출\n",
    "cand_song_idx = cand_song_idx[np.isin(cand_song_idx, songs_already) == False][:100]\n",
    "\n",
    "# 원래 노래 id값으로 복원\n",
    "rec_song_idx = [id_to_song[i] for i in cand_song_idx]\n",
    "\n",
    "collabo_result = song_meta_df.query(f\"id == {rec_song_idx}\")\n",
    "\n",
    "collabo_result.head(20)"
   ]
  }
 ],
 "metadata": {
  "kernelspec": {
   "display_name": "Python 3",
   "language": "python",
   "name": "python3"
  },
  "language_info": {
   "codemirror_mode": {
    "name": "ipython",
    "version": 3
   },
   "file_extension": ".py",
   "mimetype": "text/x-python",
   "name": "python",
   "nbconvert_exporter": "python",
   "pygments_lexer": "ipython3",
   "version": "3.9.1"
  },
  "toc": {
   "base_numbering": 1,
   "nav_menu": {},
   "number_sections": true,
   "sideBar": true,
   "skip_h1_title": false,
   "title_cell": "Table of Contents",
   "title_sidebar": "Contents",
   "toc_cell": false,
   "toc_position": {},
   "toc_section_display": true,
   "toc_window_display": false
  },
  "varInspector": {
   "cols": {
    "lenName": 16,
    "lenType": 16,
    "lenVar": 40
   },
   "kernels_config": {
    "python": {
     "delete_cmd_postfix": "",
     "delete_cmd_prefix": "del ",
     "library": "var_list.py",
     "varRefreshCmd": "print(var_dic_list())"
    },
    "r": {
     "delete_cmd_postfix": ") ",
     "delete_cmd_prefix": "rm(",
     "library": "var_list.r",
     "varRefreshCmd": "cat(var_dic_list()) "
    }
   },
   "types_to_exclude": [
    "module",
    "function",
    "builtin_function_or_method",
    "instance",
    "_Feature"
   ],
   "window_display": false
  }
 },
 "nbformat": 4,
 "nbformat_minor": 5
}
