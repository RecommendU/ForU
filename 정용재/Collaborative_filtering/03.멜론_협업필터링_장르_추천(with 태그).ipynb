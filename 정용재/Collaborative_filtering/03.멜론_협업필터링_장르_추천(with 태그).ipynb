{
 "cells": [
  {
   "cell_type": "code",
   "execution_count": 1,
   "id": "a8d018fc",
   "metadata": {
    "ExecuteTime": {
     "end_time": "2021-08-30T12:29:56.683661Z",
     "start_time": "2021-08-30T12:29:56.341662Z"
    }
   },
   "outputs": [],
   "source": [
    "import os\n",
    "import json\n",
    "import numpy as np\n",
    "import pandas as pd\n",
    "import scipy.sparse as spr"
   ]
  },
  {
   "cell_type": "markdown",
   "id": "14b83835",
   "metadata": {},
   "source": [
    "목차\n",
    "\n",
    "- 1. 데이터 처리 (불러오기,추가,수정,변환)\n",
    "- 2. 플레이리스트로 추천 (협업필터링)"
   ]
  },
  {
   "cell_type": "markdown",
   "id": "1cc6b113",
   "metadata": {},
   "source": [
    "# 데이터 처리"
   ]
  },
  {
   "cell_type": "markdown",
   "id": "df07c61b",
   "metadata": {},
   "source": [
    "## train data 불러오기"
   ]
  },
  {
   "cell_type": "code",
   "execution_count": 2,
   "id": "c1a6d168",
   "metadata": {
    "ExecuteTime": {
     "end_time": "2021-08-30T12:30:04.588723Z",
     "start_time": "2021-08-30T12:29:56.684663Z"
    }
   },
   "outputs": [],
   "source": [
    "with open('data/train.json',encoding='utf-8-sig') as f:\n",
    "    train_dict = json.load(f)\n",
    "    \n",
    "with open('data/song_meta.json',encoding='utf-8-sig') as f:\n",
    "    song_dict = json.load(f)\n",
    "    \n",
    "with open('data/genre_gn_all.json',encoding='utf-8-sig') as f:\n",
    "    genre_dict = json.load(f)\n",
    "    \n",
    "train_df = pd.DataFrame.from_dict(train_dict)\n",
    "song_df = pd.DataFrame.from_dict(song_dict)"
   ]
  },
  {
   "cell_type": "markdown",
   "id": "6745796d",
   "metadata": {},
   "source": [
    "## train_df 전처리"
   ]
  },
  {
   "cell_type": "markdown",
   "id": "94250eb5",
   "metadata": {},
   "source": [
    "### 일반 전처리\n",
    "- num_songs,num_tags = '중복제거한 노래 태그 개수'"
   ]
  },
  {
   "cell_type": "code",
   "execution_count": 3,
   "id": "f7fea94b",
   "metadata": {
    "ExecuteTime": {
     "end_time": "2021-08-30T12:30:04.618724Z",
     "start_time": "2021-08-30T12:30:04.589724Z"
    }
   },
   "outputs": [
    {
     "data": {
      "text/html": [
       "<div>\n",
       "<style scoped>\n",
       "    .dataframe tbody tr th:only-of-type {\n",
       "        vertical-align: middle;\n",
       "    }\n",
       "\n",
       "    .dataframe tbody tr th {\n",
       "        vertical-align: top;\n",
       "    }\n",
       "\n",
       "    .dataframe thead th {\n",
       "        text-align: right;\n",
       "    }\n",
       "</style>\n",
       "<table border=\"1\" class=\"dataframe\">\n",
       "  <thead>\n",
       "    <tr style=\"text-align: right;\">\n",
       "      <th></th>\n",
       "      <th>tags</th>\n",
       "      <th>id</th>\n",
       "      <th>plylst_title</th>\n",
       "      <th>songs</th>\n",
       "      <th>like_cnt</th>\n",
       "      <th>updt_date</th>\n",
       "    </tr>\n",
       "  </thead>\n",
       "  <tbody>\n",
       "    <tr>\n",
       "      <th>0</th>\n",
       "      <td>[락]</td>\n",
       "      <td>61281</td>\n",
       "      <td>여행같은 음악</td>\n",
       "      <td>[525514, 129701, 383374, 562083, 297861, 13954...</td>\n",
       "      <td>71</td>\n",
       "      <td>2013-12-19 18:36:19.000</td>\n",
       "    </tr>\n",
       "    <tr>\n",
       "      <th>1</th>\n",
       "      <td>[추억, 회상]</td>\n",
       "      <td>10532</td>\n",
       "      <td>요즘 너 말야</td>\n",
       "      <td>[432406, 675945, 497066, 120377, 389529, 24427...</td>\n",
       "      <td>1</td>\n",
       "      <td>2014-12-02 16:19:42.000</td>\n",
       "    </tr>\n",
       "    <tr>\n",
       "      <th>2</th>\n",
       "      <td>[까페, 잔잔한]</td>\n",
       "      <td>76951</td>\n",
       "      <td>편하게, 잔잔하게 들을 수 있는 곡.-</td>\n",
       "      <td>[83116, 276692, 166267, 186301, 354465, 256598...</td>\n",
       "      <td>17</td>\n",
       "      <td>2017-08-28 07:09:34.000</td>\n",
       "    </tr>\n",
       "  </tbody>\n",
       "</table>\n",
       "</div>"
      ],
      "text/plain": [
       "        tags     id           plylst_title  \\\n",
       "0        [락]  61281                여행같은 음악   \n",
       "1   [추억, 회상]  10532                요즘 너 말야   \n",
       "2  [까페, 잔잔한]  76951  편하게, 잔잔하게 들을 수 있는 곡.-   \n",
       "\n",
       "                                               songs  like_cnt  \\\n",
       "0  [525514, 129701, 383374, 562083, 297861, 13954...        71   \n",
       "1  [432406, 675945, 497066, 120377, 389529, 24427...         1   \n",
       "2  [83116, 276692, 166267, 186301, 354465, 256598...        17   \n",
       "\n",
       "                 updt_date  \n",
       "0  2013-12-19 18:36:19.000  \n",
       "1  2014-12-02 16:19:42.000  \n",
       "2  2017-08-28 07:09:34.000  "
      ]
     },
     "execution_count": 3,
     "metadata": {},
     "output_type": "execute_result"
    }
   ],
   "source": [
    "train_df.head(3)"
   ]
  },
  {
   "cell_type": "code",
   "execution_count": 4,
   "id": "52671332",
   "metadata": {
    "ExecuteTime": {
     "end_time": "2021-08-30T12:30:04.710724Z",
     "start_time": "2021-08-30T12:30:04.619723Z"
    }
   },
   "outputs": [],
   "source": [
    "train_df['tags_cnt'] = train_df['tags'].map(lambda x : len(x))\n",
    "train_df['songs_cnt'] = train_df['songs'].map(lambda x : len(x))"
   ]
  },
  {
   "cell_type": "code",
   "execution_count": 5,
   "id": "c65ffd66",
   "metadata": {
    "ExecuteTime": {
     "end_time": "2021-08-30T12:30:05.173370Z",
     "start_time": "2021-08-30T12:30:04.712724Z"
    }
   },
   "outputs": [],
   "source": [
    "def list_merger(x):\n",
    "    temp_list.extend(x)\n",
    "\n",
    "temp_list = []\n",
    "\n",
    "train_df['songs'].map(list_merger)\n",
    "\n",
    "unique_songs = list(set(temp_list))\n",
    "\n",
    "num_songs = len(unique_songs)"
   ]
  },
  {
   "cell_type": "code",
   "execution_count": 6,
   "id": "2cd96416",
   "metadata": {
    "ExecuteTime": {
     "end_time": "2021-08-30T12:30:05.278369Z",
     "start_time": "2021-08-30T12:30:05.174372Z"
    }
   },
   "outputs": [],
   "source": [
    "temp_list = []\n",
    "                \n",
    "train_df['tags'].map(list_merger)\n",
    "                    \n",
    "unique_tags = list(set(temp_list))\n",
    "                \n",
    "num_tags = len(unique_tags)"
   ]
  },
  {
   "cell_type": "code",
   "execution_count": 7,
   "id": "415a920e",
   "metadata": {
    "ExecuteTime": {
     "end_time": "2021-08-30T12:30:05.293369Z",
     "start_time": "2021-08-30T12:30:05.279371Z"
    }
   },
   "outputs": [
    {
     "data": {
      "text/plain": [
       "615142"
      ]
     },
     "execution_count": 7,
     "metadata": {},
     "output_type": "execute_result"
    }
   ],
   "source": [
    "num_songs"
   ]
  },
  {
   "cell_type": "code",
   "execution_count": 8,
   "id": "c5f84ede",
   "metadata": {
    "ExecuteTime": {
     "end_time": "2021-08-30T12:30:05.308370Z",
     "start_time": "2021-08-30T12:30:05.294373Z"
    }
   },
   "outputs": [
    {
     "data": {
      "text/plain": [
       "29160"
      ]
     },
     "execution_count": 8,
     "metadata": {},
     "output_type": "execute_result"
    }
   ],
   "source": [
    "num_tags"
   ]
  },
  {
   "cell_type": "code",
   "execution_count": 9,
   "id": "auburn-passion",
   "metadata": {
    "ExecuteTime": {
     "end_time": "2021-08-30T12:30:05.338370Z",
     "start_time": "2021-08-30T12:30:05.333369Z"
    }
   },
   "outputs": [
    {
     "data": {
      "text/plain": [
       "115071"
      ]
     },
     "execution_count": 9,
     "metadata": {},
     "output_type": "execute_result"
    }
   ],
   "source": [
    "num_train = len(train_df)\n",
    "num_train"
   ]
  },
  {
   "cell_type": "markdown",
   "id": "6af49d01",
   "metadata": {},
   "source": [
    "### tag에 id부여"
   ]
  },
  {
   "cell_type": "code",
   "execution_count": 10,
   "id": "886d0d92",
   "metadata": {
    "ExecuteTime": {
     "end_time": "2021-08-30T12:30:05.353369Z",
     "start_time": "2021-08-30T12:30:05.339370Z"
    }
   },
   "outputs": [
    {
     "data": {
      "text/html": [
       "<div>\n",
       "<style scoped>\n",
       "    .dataframe tbody tr th:only-of-type {\n",
       "        vertical-align: middle;\n",
       "    }\n",
       "\n",
       "    .dataframe tbody tr th {\n",
       "        vertical-align: top;\n",
       "    }\n",
       "\n",
       "    .dataframe thead th {\n",
       "        text-align: right;\n",
       "    }\n",
       "</style>\n",
       "<table border=\"1\" class=\"dataframe\">\n",
       "  <thead>\n",
       "    <tr style=\"text-align: right;\">\n",
       "      <th></th>\n",
       "      <th>tags</th>\n",
       "      <th>id</th>\n",
       "      <th>plylst_title</th>\n",
       "      <th>songs</th>\n",
       "      <th>like_cnt</th>\n",
       "      <th>updt_date</th>\n",
       "      <th>tags_cnt</th>\n",
       "      <th>songs_cnt</th>\n",
       "    </tr>\n",
       "  </thead>\n",
       "  <tbody>\n",
       "    <tr>\n",
       "      <th>0</th>\n",
       "      <td>[락]</td>\n",
       "      <td>61281</td>\n",
       "      <td>여행같은 음악</td>\n",
       "      <td>[525514, 129701, 383374, 562083, 297861, 13954...</td>\n",
       "      <td>71</td>\n",
       "      <td>2013-12-19 18:36:19.000</td>\n",
       "      <td>1</td>\n",
       "      <td>19</td>\n",
       "    </tr>\n",
       "    <tr>\n",
       "      <th>1</th>\n",
       "      <td>[추억, 회상]</td>\n",
       "      <td>10532</td>\n",
       "      <td>요즘 너 말야</td>\n",
       "      <td>[432406, 675945, 497066, 120377, 389529, 24427...</td>\n",
       "      <td>1</td>\n",
       "      <td>2014-12-02 16:19:42.000</td>\n",
       "      <td>2</td>\n",
       "      <td>42</td>\n",
       "    </tr>\n",
       "    <tr>\n",
       "      <th>2</th>\n",
       "      <td>[까페, 잔잔한]</td>\n",
       "      <td>76951</td>\n",
       "      <td>편하게, 잔잔하게 들을 수 있는 곡.-</td>\n",
       "      <td>[83116, 276692, 166267, 186301, 354465, 256598...</td>\n",
       "      <td>17</td>\n",
       "      <td>2017-08-28 07:09:34.000</td>\n",
       "      <td>2</td>\n",
       "      <td>28</td>\n",
       "    </tr>\n",
       "  </tbody>\n",
       "</table>\n",
       "</div>"
      ],
      "text/plain": [
       "        tags     id           plylst_title  \\\n",
       "0        [락]  61281                여행같은 음악   \n",
       "1   [추억, 회상]  10532                요즘 너 말야   \n",
       "2  [까페, 잔잔한]  76951  편하게, 잔잔하게 들을 수 있는 곡.-   \n",
       "\n",
       "                                               songs  like_cnt  \\\n",
       "0  [525514, 129701, 383374, 562083, 297861, 13954...        71   \n",
       "1  [432406, 675945, 497066, 120377, 389529, 24427...         1   \n",
       "2  [83116, 276692, 166267, 186301, 354465, 256598...        17   \n",
       "\n",
       "                 updt_date  tags_cnt  songs_cnt  \n",
       "0  2013-12-19 18:36:19.000         1         19  \n",
       "1  2014-12-02 16:19:42.000         2         42  \n",
       "2  2017-08-28 07:09:34.000         2         28  "
      ]
     },
     "execution_count": 10,
     "metadata": {},
     "output_type": "execute_result"
    }
   ],
   "source": [
    "train_df.head(3)"
   ]
  },
  {
   "cell_type": "code",
   "execution_count": 11,
   "id": "f2dd4fe2",
   "metadata": {
    "ExecuteTime": {
     "end_time": "2021-08-30T12:30:05.503416Z",
     "start_time": "2021-08-30T12:30:05.354370Z"
    }
   },
   "outputs": [],
   "source": [
    "# { 태그 : 새로운id } 딕셔너리\n",
    "tag_to_id = {}\n",
    "\n",
    "\n",
    "# { 새로운id : 태그 } 딕셔너리\n",
    "id_to_tag = {}\n",
    "\n",
    "# enumerate 반복 횟수를 이용해서 새로운 id 부여\n",
    "for i,v in enumerate(unique_tags):\n",
    "    id_to_tag[i] = v\n",
    "\n",
    "# id_to_tag의 키 밸류를 반전해서 tag_to_id를 만듦\n",
    "tag_to_id = {v:k for k,v in id_to_tag.items()}\n",
    "\n",
    "\n",
    "# tags를 id로 변환해서 새로운 column을 생성\n",
    "def tag_id_trans(x):\n",
    "    \n",
    "    temp_list = []\n",
    "    \n",
    "    for tag in x:\n",
    "        temp_list.append(tag_to_id[tag])\n",
    "    \n",
    "    return temp_list\n",
    "\n",
    "train_df['tags_id'] = train_df['tags'].map(tag_id_trans)"
   ]
  },
  {
   "cell_type": "code",
   "execution_count": 12,
   "id": "abef6cda",
   "metadata": {
    "ExecuteTime": {
     "end_time": "2021-08-30T12:30:05.518421Z",
     "start_time": "2021-08-30T12:30:05.504421Z"
    }
   },
   "outputs": [
    {
     "data": {
      "text/html": [
       "<div>\n",
       "<style scoped>\n",
       "    .dataframe tbody tr th:only-of-type {\n",
       "        vertical-align: middle;\n",
       "    }\n",
       "\n",
       "    .dataframe tbody tr th {\n",
       "        vertical-align: top;\n",
       "    }\n",
       "\n",
       "    .dataframe thead th {\n",
       "        text-align: right;\n",
       "    }\n",
       "</style>\n",
       "<table border=\"1\" class=\"dataframe\">\n",
       "  <thead>\n",
       "    <tr style=\"text-align: right;\">\n",
       "      <th></th>\n",
       "      <th>tags</th>\n",
       "      <th>id</th>\n",
       "      <th>plylst_title</th>\n",
       "      <th>songs</th>\n",
       "      <th>like_cnt</th>\n",
       "      <th>updt_date</th>\n",
       "      <th>tags_cnt</th>\n",
       "      <th>songs_cnt</th>\n",
       "      <th>tags_id</th>\n",
       "    </tr>\n",
       "  </thead>\n",
       "  <tbody>\n",
       "    <tr>\n",
       "      <th>0</th>\n",
       "      <td>[락]</td>\n",
       "      <td>61281</td>\n",
       "      <td>여행같은 음악</td>\n",
       "      <td>[525514, 129701, 383374, 562083, 297861, 13954...</td>\n",
       "      <td>71</td>\n",
       "      <td>2013-12-19 18:36:19.000</td>\n",
       "      <td>1</td>\n",
       "      <td>19</td>\n",
       "      <td>[10435]</td>\n",
       "    </tr>\n",
       "    <tr>\n",
       "      <th>1</th>\n",
       "      <td>[추억, 회상]</td>\n",
       "      <td>10532</td>\n",
       "      <td>요즘 너 말야</td>\n",
       "      <td>[432406, 675945, 497066, 120377, 389529, 24427...</td>\n",
       "      <td>1</td>\n",
       "      <td>2014-12-02 16:19:42.000</td>\n",
       "      <td>2</td>\n",
       "      <td>42</td>\n",
       "      <td>[24175, 21538]</td>\n",
       "    </tr>\n",
       "    <tr>\n",
       "      <th>2</th>\n",
       "      <td>[까페, 잔잔한]</td>\n",
       "      <td>76951</td>\n",
       "      <td>편하게, 잔잔하게 들을 수 있는 곡.-</td>\n",
       "      <td>[83116, 276692, 166267, 186301, 354465, 256598...</td>\n",
       "      <td>17</td>\n",
       "      <td>2017-08-28 07:09:34.000</td>\n",
       "      <td>2</td>\n",
       "      <td>28</td>\n",
       "      <td>[18902, 21687]</td>\n",
       "    </tr>\n",
       "    <tr>\n",
       "      <th>3</th>\n",
       "      <td>[연말, 눈오는날, 캐럴, 분위기, 따듯한, 크리스마스캐럴, 겨울노래, 크리스마스,...</td>\n",
       "      <td>147456</td>\n",
       "      <td>크리스마스 분위기에 흠뻑 취하고 싶을때</td>\n",
       "      <td>[394031, 195524, 540149, 287984, 440773, 10033...</td>\n",
       "      <td>33</td>\n",
       "      <td>2019-12-05 15:15:18.000</td>\n",
       "      <td>10</td>\n",
       "      <td>38</td>\n",
       "      <td>[12841, 17422, 20755, 7557, 25854, 8719, 20482...</td>\n",
       "    </tr>\n",
       "    <tr>\n",
       "      <th>4</th>\n",
       "      <td>[댄스]</td>\n",
       "      <td>27616</td>\n",
       "      <td>추억의 노래 ㅋ</td>\n",
       "      <td>[159327, 553610, 5130, 645103, 294435, 100657,...</td>\n",
       "      <td>9</td>\n",
       "      <td>2011-10-25 13:54:56.000</td>\n",
       "      <td>1</td>\n",
       "      <td>53</td>\n",
       "      <td>[14916]</td>\n",
       "    </tr>\n",
       "  </tbody>\n",
       "</table>\n",
       "</div>"
      ],
      "text/plain": [
       "                                                tags      id  \\\n",
       "0                                                [락]   61281   \n",
       "1                                           [추억, 회상]   10532   \n",
       "2                                          [까페, 잔잔한]   76951   \n",
       "3  [연말, 눈오는날, 캐럴, 분위기, 따듯한, 크리스마스캐럴, 겨울노래, 크리스마스,...  147456   \n",
       "4                                               [댄스]   27616   \n",
       "\n",
       "            plylst_title                                              songs  \\\n",
       "0                여행같은 음악  [525514, 129701, 383374, 562083, 297861, 13954...   \n",
       "1                요즘 너 말야  [432406, 675945, 497066, 120377, 389529, 24427...   \n",
       "2  편하게, 잔잔하게 들을 수 있는 곡.-  [83116, 276692, 166267, 186301, 354465, 256598...   \n",
       "3  크리스마스 분위기에 흠뻑 취하고 싶을때  [394031, 195524, 540149, 287984, 440773, 10033...   \n",
       "4               추억의 노래 ㅋ  [159327, 553610, 5130, 645103, 294435, 100657,...   \n",
       "\n",
       "   like_cnt                updt_date  tags_cnt  songs_cnt  \\\n",
       "0        71  2013-12-19 18:36:19.000         1         19   \n",
       "1         1  2014-12-02 16:19:42.000         2         42   \n",
       "2        17  2017-08-28 07:09:34.000         2         28   \n",
       "3        33  2019-12-05 15:15:18.000        10         38   \n",
       "4         9  2011-10-25 13:54:56.000         1         53   \n",
       "\n",
       "                                             tags_id  \n",
       "0                                            [10435]  \n",
       "1                                     [24175, 21538]  \n",
       "2                                     [18902, 21687]  \n",
       "3  [12841, 17422, 20755, 7557, 25854, 8719, 20482...  \n",
       "4                                            [14916]  "
      ]
     },
     "execution_count": 12,
     "metadata": {},
     "output_type": "execute_result"
    }
   ],
   "source": [
    "train_df.head()"
   ]
  },
  {
   "cell_type": "markdown",
   "id": "b6dca795",
   "metadata": {},
   "source": [
    "### 플레이리스트 속 노래들(songs)에게 새로운 id 부여"
   ]
  },
  {
   "cell_type": "code",
   "execution_count": 13,
   "id": "446a9953",
   "metadata": {
    "ExecuteTime": {
     "end_time": "2021-08-30T12:30:07.033446Z",
     "start_time": "2021-08-30T12:30:05.519421Z"
    }
   },
   "outputs": [],
   "source": [
    "# { 노래id : 새로운id } 딕셔너리\n",
    "song_to_id = {}\n",
    "\n",
    "\n",
    "# { 새로운id : 노래id } 딕셔너리\n",
    "id_to_song = {}\n",
    "\n",
    "# enumerate 반복 횟수를 이용해서 새로운 id 부여\n",
    "for i,v in enumerate(unique_songs):\n",
    "    id_to_song[i] = v\n",
    "\n",
    "# id_to_tag의 키 밸류를 반전해서 tag_to_id를 만듦\n",
    "song_to_id = {v:k for k,v in id_to_song.items()}\n",
    "\n",
    "\n",
    "# tags를 id로 변환해서 새로운 column을 생성\n",
    "def song_id_trans(x):\n",
    "    \n",
    "    temp_list = []\n",
    "    \n",
    "    for song in x:\n",
    "        temp_list.append(song_to_id[song])\n",
    "    \n",
    "    return temp_list\n",
    "\n",
    "train_df['new_songs_id'] = train_df['songs'].map(song_id_trans)"
   ]
  },
  {
   "cell_type": "code",
   "execution_count": 14,
   "id": "1dda23c7",
   "metadata": {
    "ExecuteTime": {
     "end_time": "2021-08-30T12:30:07.048451Z",
     "start_time": "2021-08-30T12:30:07.034450Z"
    }
   },
   "outputs": [
    {
     "data": {
      "text/html": [
       "<div>\n",
       "<style scoped>\n",
       "    .dataframe tbody tr th:only-of-type {\n",
       "        vertical-align: middle;\n",
       "    }\n",
       "\n",
       "    .dataframe tbody tr th {\n",
       "        vertical-align: top;\n",
       "    }\n",
       "\n",
       "    .dataframe thead th {\n",
       "        text-align: right;\n",
       "    }\n",
       "</style>\n",
       "<table border=\"1\" class=\"dataframe\">\n",
       "  <thead>\n",
       "    <tr style=\"text-align: right;\">\n",
       "      <th></th>\n",
       "      <th>tags</th>\n",
       "      <th>id</th>\n",
       "      <th>plylst_title</th>\n",
       "      <th>songs</th>\n",
       "      <th>like_cnt</th>\n",
       "      <th>updt_date</th>\n",
       "      <th>tags_cnt</th>\n",
       "      <th>songs_cnt</th>\n",
       "      <th>tags_id</th>\n",
       "      <th>new_songs_id</th>\n",
       "    </tr>\n",
       "  </thead>\n",
       "  <tbody>\n",
       "    <tr>\n",
       "      <th>0</th>\n",
       "      <td>[락]</td>\n",
       "      <td>61281</td>\n",
       "      <td>여행같은 음악</td>\n",
       "      <td>[525514, 129701, 383374, 562083, 297861, 13954...</td>\n",
       "      <td>71</td>\n",
       "      <td>2013-12-19 18:36:19.000</td>\n",
       "      <td>1</td>\n",
       "      <td>19</td>\n",
       "      <td>[10435]</td>\n",
       "      <td>[456704, 112732, 333158, 488440, 258853, 12127...</td>\n",
       "    </tr>\n",
       "    <tr>\n",
       "      <th>1</th>\n",
       "      <td>[추억, 회상]</td>\n",
       "      <td>10532</td>\n",
       "      <td>요즘 너 말야</td>\n",
       "      <td>[432406, 675945, 497066, 120377, 389529, 24427...</td>\n",
       "      <td>1</td>\n",
       "      <td>2014-12-02 16:19:42.000</td>\n",
       "      <td>2</td>\n",
       "      <td>42</td>\n",
       "      <td>[24175, 21538]</td>\n",
       "      <td>[375894, 587314, 431997, 104605, 338568, 21226...</td>\n",
       "    </tr>\n",
       "    <tr>\n",
       "      <th>2</th>\n",
       "      <td>[까페, 잔잔한]</td>\n",
       "      <td>76951</td>\n",
       "      <td>편하게, 잔잔하게 들을 수 있는 곡.-</td>\n",
       "      <td>[83116, 276692, 166267, 186301, 354465, 256598...</td>\n",
       "      <td>17</td>\n",
       "      <td>2017-08-28 07:09:34.000</td>\n",
       "      <td>2</td>\n",
       "      <td>28</td>\n",
       "      <td>[18902, 21687]</td>\n",
       "      <td>[72132, 240434, 144495, 161861, 307991, 222934...</td>\n",
       "    </tr>\n",
       "  </tbody>\n",
       "</table>\n",
       "</div>"
      ],
      "text/plain": [
       "        tags     id           plylst_title  \\\n",
       "0        [락]  61281                여행같은 음악   \n",
       "1   [추억, 회상]  10532                요즘 너 말야   \n",
       "2  [까페, 잔잔한]  76951  편하게, 잔잔하게 들을 수 있는 곡.-   \n",
       "\n",
       "                                               songs  like_cnt  \\\n",
       "0  [525514, 129701, 383374, 562083, 297861, 13954...        71   \n",
       "1  [432406, 675945, 497066, 120377, 389529, 24427...         1   \n",
       "2  [83116, 276692, 166267, 186301, 354465, 256598...        17   \n",
       "\n",
       "                 updt_date  tags_cnt  songs_cnt         tags_id  \\\n",
       "0  2013-12-19 18:36:19.000         1         19         [10435]   \n",
       "1  2014-12-02 16:19:42.000         2         42  [24175, 21538]   \n",
       "2  2017-08-28 07:09:34.000         2         28  [18902, 21687]   \n",
       "\n",
       "                                        new_songs_id  \n",
       "0  [456704, 112732, 333158, 488440, 258853, 12127...  \n",
       "1  [375894, 587314, 431997, 104605, 338568, 21226...  \n",
       "2  [72132, 240434, 144495, 161861, 307991, 222934...  "
      ]
     },
     "execution_count": 14,
     "metadata": {},
     "output_type": "execute_result"
    }
   ],
   "source": [
    "train_df.head(3)"
   ]
  },
  {
   "cell_type": "markdown",
   "id": "e90b0a4d",
   "metadata": {},
   "source": [
    "### 플레이리스트 새로운 id 부여"
   ]
  },
  {
   "cell_type": "code",
   "execution_count": 15,
   "id": "02cd7854",
   "metadata": {
    "ExecuteTime": {
     "end_time": "2021-08-30T12:30:07.063450Z",
     "start_time": "2021-08-30T12:30:07.049452Z"
    }
   },
   "outputs": [],
   "source": [
    "train_df['new_plyst_id'] = train_df.index"
   ]
  },
  {
   "cell_type": "code",
   "execution_count": 16,
   "id": "d56ab21f",
   "metadata": {
    "ExecuteTime": {
     "end_time": "2021-08-30T12:30:07.948298Z",
     "start_time": "2021-08-30T12:30:07.064452Z"
    }
   },
   "outputs": [],
   "source": [
    "id_to_playlist = {}\n",
    "\n",
    "playlist_to_id = {}\n",
    "\n",
    "def mk_dict(x):\n",
    "    \n",
    "    id_to_playlist[x['new_plyst_id']] = x['id']\n",
    "\n",
    "train_df.loc[:,['id','new_plyst_id']].apply(mk_dict,axis=1)\n",
    "\n",
    "playlist_to_id = {v:k for k,v in id_to_playlist.items()}"
   ]
  },
  {
   "cell_type": "code",
   "execution_count": 17,
   "id": "eb9d50cd",
   "metadata": {
    "ExecuteTime": {
     "end_time": "2021-08-30T12:30:07.993305Z",
     "start_time": "2021-08-30T12:30:07.949303Z"
    }
   },
   "outputs": [
    {
     "data": {
      "text/html": [
       "<div>\n",
       "<style scoped>\n",
       "    .dataframe tbody tr th:only-of-type {\n",
       "        vertical-align: middle;\n",
       "    }\n",
       "\n",
       "    .dataframe tbody tr th {\n",
       "        vertical-align: top;\n",
       "    }\n",
       "\n",
       "    .dataframe thead th {\n",
       "        text-align: right;\n",
       "    }\n",
       "</style>\n",
       "<table border=\"1\" class=\"dataframe\">\n",
       "  <thead>\n",
       "    <tr style=\"text-align: right;\">\n",
       "      <th></th>\n",
       "      <th>tags</th>\n",
       "      <th>tags_id</th>\n",
       "      <th>id</th>\n",
       "      <th>new_plyst_id</th>\n",
       "      <th>plylst_title</th>\n",
       "      <th>songs</th>\n",
       "      <th>new_songs_id</th>\n",
       "      <th>tags_cnt</th>\n",
       "      <th>songs_cnt</th>\n",
       "      <th>like_cnt</th>\n",
       "      <th>updt_date</th>\n",
       "    </tr>\n",
       "  </thead>\n",
       "  <tbody>\n",
       "    <tr>\n",
       "      <th>0</th>\n",
       "      <td>[락]</td>\n",
       "      <td>[10435]</td>\n",
       "      <td>61281</td>\n",
       "      <td>0</td>\n",
       "      <td>여행같은 음악</td>\n",
       "      <td>[525514, 129701, 383374, 562083, 297861, 13954...</td>\n",
       "      <td>[456704, 112732, 333158, 488440, 258853, 12127...</td>\n",
       "      <td>1</td>\n",
       "      <td>19</td>\n",
       "      <td>71</td>\n",
       "      <td>2013-12-19 18:36:19.000</td>\n",
       "    </tr>\n",
       "    <tr>\n",
       "      <th>1</th>\n",
       "      <td>[추억, 회상]</td>\n",
       "      <td>[24175, 21538]</td>\n",
       "      <td>10532</td>\n",
       "      <td>1</td>\n",
       "      <td>요즘 너 말야</td>\n",
       "      <td>[432406, 675945, 497066, 120377, 389529, 24427...</td>\n",
       "      <td>[375894, 587314, 431997, 104605, 338568, 21226...</td>\n",
       "      <td>2</td>\n",
       "      <td>42</td>\n",
       "      <td>1</td>\n",
       "      <td>2014-12-02 16:19:42.000</td>\n",
       "    </tr>\n",
       "    <tr>\n",
       "      <th>2</th>\n",
       "      <td>[까페, 잔잔한]</td>\n",
       "      <td>[18902, 21687]</td>\n",
       "      <td>76951</td>\n",
       "      <td>2</td>\n",
       "      <td>편하게, 잔잔하게 들을 수 있는 곡.-</td>\n",
       "      <td>[83116, 276692, 166267, 186301, 354465, 256598...</td>\n",
       "      <td>[72132, 240434, 144495, 161861, 307991, 222934...</td>\n",
       "      <td>2</td>\n",
       "      <td>28</td>\n",
       "      <td>17</td>\n",
       "      <td>2017-08-28 07:09:34.000</td>\n",
       "    </tr>\n",
       "  </tbody>\n",
       "</table>\n",
       "</div>"
      ],
      "text/plain": [
       "        tags         tags_id     id  new_plyst_id           plylst_title  \\\n",
       "0        [락]         [10435]  61281             0                여행같은 음악   \n",
       "1   [추억, 회상]  [24175, 21538]  10532             1                요즘 너 말야   \n",
       "2  [까페, 잔잔한]  [18902, 21687]  76951             2  편하게, 잔잔하게 들을 수 있는 곡.-   \n",
       "\n",
       "                                               songs  \\\n",
       "0  [525514, 129701, 383374, 562083, 297861, 13954...   \n",
       "1  [432406, 675945, 497066, 120377, 389529, 24427...   \n",
       "2  [83116, 276692, 166267, 186301, 354465, 256598...   \n",
       "\n",
       "                                        new_songs_id  tags_cnt  songs_cnt  \\\n",
       "0  [456704, 112732, 333158, 488440, 258853, 12127...         1         19   \n",
       "1  [375894, 587314, 431997, 104605, 338568, 21226...         2         42   \n",
       "2  [72132, 240434, 144495, 161861, 307991, 222934...         2         28   \n",
       "\n",
       "   like_cnt                updt_date  \n",
       "0        71  2013-12-19 18:36:19.000  \n",
       "1         1  2014-12-02 16:19:42.000  \n",
       "2        17  2017-08-28 07:09:34.000  "
      ]
     },
     "execution_count": 17,
     "metadata": {},
     "output_type": "execute_result"
    }
   ],
   "source": [
    "train_df = train_df[['tags','tags_id','id','new_plyst_id','plylst_title','songs','new_songs_id','tags_cnt','songs_cnt','like_cnt','updt_date']]\n",
    "train_df.head(3)"
   ]
  },
  {
   "cell_type": "code",
   "execution_count": 18,
   "id": "bc8355d9",
   "metadata": {
    "ExecuteTime": {
     "end_time": "2021-08-30T12:30:08.008304Z",
     "start_time": "2021-08-30T12:30:07.994303Z"
    }
   },
   "outputs": [
    {
     "data": {
      "text/html": [
       "<div>\n",
       "<style scoped>\n",
       "    .dataframe tbody tr th:only-of-type {\n",
       "        vertical-align: middle;\n",
       "    }\n",
       "\n",
       "    .dataframe tbody tr th {\n",
       "        vertical-align: top;\n",
       "    }\n",
       "\n",
       "    .dataframe thead th {\n",
       "        text-align: right;\n",
       "    }\n",
       "</style>\n",
       "<table border=\"1\" class=\"dataframe\">\n",
       "  <thead>\n",
       "    <tr style=\"text-align: right;\">\n",
       "      <th></th>\n",
       "      <th>태그</th>\n",
       "      <th>태그_id</th>\n",
       "      <th>플리_id</th>\n",
       "      <th>새플리_id</th>\n",
       "      <th>플리제목</th>\n",
       "      <th>노래_id</th>\n",
       "      <th>새노래_id</th>\n",
       "      <th>태그수</th>\n",
       "      <th>노래수</th>\n",
       "      <th>좋아요수</th>\n",
       "      <th>갱신일</th>\n",
       "    </tr>\n",
       "  </thead>\n",
       "  <tbody>\n",
       "    <tr>\n",
       "      <th>0</th>\n",
       "      <td>[락]</td>\n",
       "      <td>[10435]</td>\n",
       "      <td>61281</td>\n",
       "      <td>0</td>\n",
       "      <td>여행같은 음악</td>\n",
       "      <td>[525514, 129701, 383374, 562083, 297861, 13954...</td>\n",
       "      <td>[456704, 112732, 333158, 488440, 258853, 12127...</td>\n",
       "      <td>1</td>\n",
       "      <td>19</td>\n",
       "      <td>71</td>\n",
       "      <td>2013-12-19 18:36:19.000</td>\n",
       "    </tr>\n",
       "    <tr>\n",
       "      <th>1</th>\n",
       "      <td>[추억, 회상]</td>\n",
       "      <td>[24175, 21538]</td>\n",
       "      <td>10532</td>\n",
       "      <td>1</td>\n",
       "      <td>요즘 너 말야</td>\n",
       "      <td>[432406, 675945, 497066, 120377, 389529, 24427...</td>\n",
       "      <td>[375894, 587314, 431997, 104605, 338568, 21226...</td>\n",
       "      <td>2</td>\n",
       "      <td>42</td>\n",
       "      <td>1</td>\n",
       "      <td>2014-12-02 16:19:42.000</td>\n",
       "    </tr>\n",
       "    <tr>\n",
       "      <th>2</th>\n",
       "      <td>[까페, 잔잔한]</td>\n",
       "      <td>[18902, 21687]</td>\n",
       "      <td>76951</td>\n",
       "      <td>2</td>\n",
       "      <td>편하게, 잔잔하게 들을 수 있는 곡.-</td>\n",
       "      <td>[83116, 276692, 166267, 186301, 354465, 256598...</td>\n",
       "      <td>[72132, 240434, 144495, 161861, 307991, 222934...</td>\n",
       "      <td>2</td>\n",
       "      <td>28</td>\n",
       "      <td>17</td>\n",
       "      <td>2017-08-28 07:09:34.000</td>\n",
       "    </tr>\n",
       "  </tbody>\n",
       "</table>\n",
       "</div>"
      ],
      "text/plain": [
       "          태그           태그_id  플리_id  새플리_id                   플리제목  \\\n",
       "0        [락]         [10435]  61281       0                여행같은 음악   \n",
       "1   [추억, 회상]  [24175, 21538]  10532       1                요즘 너 말야   \n",
       "2  [까페, 잔잔한]  [18902, 21687]  76951       2  편하게, 잔잔하게 들을 수 있는 곡.-   \n",
       "\n",
       "                                               노래_id  \\\n",
       "0  [525514, 129701, 383374, 562083, 297861, 13954...   \n",
       "1  [432406, 675945, 497066, 120377, 389529, 24427...   \n",
       "2  [83116, 276692, 166267, 186301, 354465, 256598...   \n",
       "\n",
       "                                              새노래_id  태그수  노래수  좋아요수  \\\n",
       "0  [456704, 112732, 333158, 488440, 258853, 12127...    1   19    71   \n",
       "1  [375894, 587314, 431997, 104605, 338568, 21226...    2   42     1   \n",
       "2  [72132, 240434, 144495, 161861, 307991, 222934...    2   28    17   \n",
       "\n",
       "                       갱신일  \n",
       "0  2013-12-19 18:36:19.000  \n",
       "1  2014-12-02 16:19:42.000  \n",
       "2  2017-08-28 07:09:34.000  "
      ]
     },
     "execution_count": 18,
     "metadata": {},
     "output_type": "execute_result"
    }
   ],
   "source": [
    "train_df.columns = ['태그','태그_id','플리_id','새플리_id','플리제목','노래_id','새노래_id','태그수','노래수','좋아요수','갱신일']\n",
    "train_df.head(3)"
   ]
  },
  {
   "cell_type": "markdown",
   "id": "cdd4042e",
   "metadata": {},
   "source": [
    "### 변수 정리"
   ]
  },
  {
   "cell_type": "markdown",
   "id": "a40736f3",
   "metadata": {},
   "source": [
    "<현재>\n",
    "\n",
    "- num_songs : 중복 제거된 총 노래수 615142\n",
    "- num_tags : 중복 제거된 총 태그수 29160\n",
    "- num_train : 데이터의 총 갯수 115071\n",
    " \n",
    "- tag_to_id : { 태그 : 새로운id } 딕셔너리\n",
    "- id_to_tag : { 새로운id : 태그 } 딕셔너리\n",
    "- song_to_id : { 노래 : 새로운id } 딕셔너리\n",
    "- id_to_song : { 새로운id : 노래 } 딕셔너리\n",
    "- playlist_to_id { 플리id : 새로운id } 딕셔너리 \n",
    "- id_to_playlist { 새로운id : 플리id } 딕셔너리 \n",
    "\n",
    "<이후>\n",
    "- code_to_genre {장르코드: 장르} 딕셔너리\n",
    "- genre_to_code {장르 : 장르코드} 딕셔너리\n",
    "- gcode_to_id  {장르코드 : 장르_id} 딕셔너리\n",
    "- id_to_gcode  {장르_id : 장르코드} 딕셔너리"
   ]
  },
  {
   "cell_type": "markdown",
   "id": "floppy-reviewer",
   "metadata": {},
   "source": [
    "# 장르와 코드로 협업필터링 추천해보자"
   ]
  },
  {
   "cell_type": "markdown",
   "id": "western-contrast",
   "metadata": {},
   "source": [
    "## genre 앞의 네글자로 대장르만 가져오기"
   ]
  },
  {
   "cell_type": "code",
   "execution_count": 19,
   "id": "electrical-virgin",
   "metadata": {
    "ExecuteTime": {
     "end_time": "2021-08-30T12:30:08.023302Z",
     "start_time": "2021-08-30T12:30:08.009303Z"
    }
   },
   "outputs": [
    {
     "data": {
      "text/plain": [
       "{'GN01': '발라드',\n",
       " 'GN02': '댄스',\n",
       " 'GN03': '랩/힙합',\n",
       " 'GN04': 'R&B/Soul',\n",
       " 'GN05': '인디음악',\n",
       " 'GN06': '록/메탈',\n",
       " 'GN07': '성인가요',\n",
       " 'GN08': '포크/블루스',\n",
       " 'GN09': 'POP',\n",
       " 'GN10': '록/메탈',\n",
       " 'GN11': '일렉트로니카',\n",
       " 'GN12': '랩/힙합',\n",
       " 'GN13': 'R&B/Soul',\n",
       " 'GN14': '포크/블루스/컨트리',\n",
       " 'GN15': 'OST',\n",
       " 'GN16': '클래식',\n",
       " 'GN17': '재즈',\n",
       " 'GN18': '뉴에이지',\n",
       " 'GN19': 'J-POP',\n",
       " 'GN20': '월드뮤직',\n",
       " 'GN21': 'CCM',\n",
       " 'GN22': '어린이/태교',\n",
       " 'GN23': '종교음악',\n",
       " 'GN24': '국악',\n",
       " 'GN25': '아이돌',\n",
       " 'GN26': '일렉트로니카',\n",
       " 'GN27': 'EDM',\n",
       " 'GN28': '뮤직테라피',\n",
       " 'GN29': '뮤지컬',\n",
       " 'GN30': '크리스마스'}"
      ]
     },
     "execution_count": 19,
     "metadata": {},
     "output_type": "execute_result"
    }
   ],
   "source": [
    "genre_big = {}\n",
    "\n",
    "# 모든 장르 딕셔너리를 돌면서\n",
    "for k,v in genre_dict.items():\n",
    "    \n",
    "    # 맨 뒤 두자리가 00이면 대장류로 분류\n",
    "    if k[-2:] == '00':\n",
    "        \n",
    "        # 맨앞 네자리를 키로 하는 대장류 딕셔너리 값 추가\n",
    "        genre_big[k[:4]] = v\n",
    "\n",
    "# 찍어보기\n",
    "genre_big"
   ]
  },
  {
   "cell_type": "markdown",
   "id": "inappropriate-morrison",
   "metadata": {},
   "source": [
    "## 세부장르에 대분류 장르의 이름 넣기"
   ]
  },
  {
   "cell_type": "code",
   "execution_count": 20,
   "id": "passing-forestry",
   "metadata": {
    "ExecuteTime": {
     "end_time": "2021-08-30T12:30:08.038305Z",
     "start_time": "2021-08-30T12:30:08.024303Z"
    }
   },
   "outputs": [
    {
     "data": {
      "text/plain": [
       "{'GN0100': '발라드',\n",
       " 'GN0101': '발라드_세부장르전체',\n",
       " 'GN0102': \"발라드_'80\",\n",
       " 'GN0103': \"발라드_'90\",\n",
       " 'GN0104': \"발라드_'00\",\n",
       " 'GN0105': \"발라드_'10-\",\n",
       " 'GN0200': '댄스',\n",
       " 'GN0201': '댄스_세부장르전체',\n",
       " 'GN0202': \"댄스_'80\",\n",
       " 'GN0203': \"댄스_'90\",\n",
       " 'GN0204': \"댄스_'00\",\n",
       " 'GN0205': \"댄스_'10-\",\n",
       " 'GN0300': '랩/힙합',\n",
       " 'GN0301': '랩/힙합_세부장르전체',\n",
       " 'GN0302': '랩/힙합_랩 스타일',\n",
       " 'GN0303': '랩/힙합_보컬 스타일',\n",
       " 'GN0304': '랩/힙합_언더그라운드 힙합',\n",
       " 'GN0305': '랩/힙합_시대별',\n",
       " 'GN0400': 'R&B/Soul',\n",
       " 'GN0401': 'R&B/Soul_세부장르전체',\n",
       " 'GN0402': 'R&B/Soul_어반',\n",
       " 'GN0403': 'R&B/Soul_R&B',\n",
       " 'GN0500': '인디음악',\n",
       " 'GN0501': '인디음악_세부장르전체',\n",
       " 'GN0502': '인디음악_포크',\n",
       " 'GN0503': '인디음악_록',\n",
       " 'GN0504': '인디음악_일렉',\n",
       " 'GN0505': '인디음악_힙합',\n",
       " 'GN0506': '인디음악_발라드',\n",
       " 'GN0507': \"인디음악_'90\",\n",
       " 'GN0508': \"인디음악_'00\",\n",
       " 'GN0509': \"인디음악_'10-\",\n",
       " 'GN0600': '록/메탈',\n",
       " 'GN0601': '록/메탈_세부장르전체',\n",
       " 'GN0602': \"록/메탈_'70\",\n",
       " 'GN0603': \"록/메탈_'80\",\n",
       " 'GN0604': \"록/메탈_'90\",\n",
       " 'GN0605': \"록/메탈_'00\",\n",
       " 'GN0606': \"록/메탈_'10-\",\n",
       " 'GN0700': '성인가요',\n",
       " 'GN0701': '성인가요_세부장르전체',\n",
       " 'GN0702': '성인가요_신세대트로트',\n",
       " 'GN0703': '성인가요_전설의트로트',\n",
       " 'GN0704': '성인가요_뽕짝트로트',\n",
       " 'GN0705': '성인가요_트로트메들리',\n",
       " 'GN0706': \"성인가요_트로트'60-'70\",\n",
       " 'GN0707': \"성인가요_트로트'80-'90\",\n",
       " 'GN0708': \"성인가요_트로트'00-\",\n",
       " 'GN0709': \"성인가요_성인가요'80-'90\",\n",
       " 'GN0710': \"성인가요_성인가요'00-\",\n",
       " 'GN0800': '포크/블루스',\n",
       " 'GN0801': '포크/블루스_세부장르전체',\n",
       " 'GN0802': \"포크/블루스_'60-'70\",\n",
       " 'GN0803': \"포크/블루스_'80-'90\",\n",
       " 'GN0804': \"포크/블루스_'00\",\n",
       " 'GN0805': \"포크/블루스_'10-\",\n",
       " 'GN0900': 'POP',\n",
       " 'GN0901': 'POP_세부장르전체',\n",
       " 'GN0902': 'POP_얼터너티브팝',\n",
       " 'GN0903': 'POP_올디스',\n",
       " 'GN0904': 'POP_월드팝',\n",
       " 'GN0905': \"POP_'60-'70\",\n",
       " 'GN0906': \"POP_'80-'90\",\n",
       " 'GN0907': \"POP_'00\",\n",
       " 'GN0908': \"POP_'10-\",\n",
       " 'GN1000': '록/메탈',\n",
       " 'GN1001': '록/메탈_세부장르전체',\n",
       " 'GN1002': '록/메탈_모던록',\n",
       " 'GN1003': '록/메탈_얼터너티브록',\n",
       " 'GN1004': '록/메탈_프로그레시브/아트록',\n",
       " 'GN1005': '록/메탈_하드록',\n",
       " 'GN1006': '록/메탈_헤비메탈',\n",
       " 'GN1007': '록/메탈_뉴메탈/하드코어',\n",
       " 'GN1008': '록/메탈_포스트록',\n",
       " 'GN1009': \"록/메탈_'60\",\n",
       " 'GN1010': \"록/메탈_'70\",\n",
       " 'GN1011': \"록/메탈_'80\",\n",
       " 'GN1012': \"록/메탈_'90\",\n",
       " 'GN1013': \"록/메탈_'00\",\n",
       " 'GN1014': \"록/메탈_'10-\",\n",
       " 'GN1100': '일렉트로니카',\n",
       " 'GN1101': '일렉트로니카_세부장르전체',\n",
       " 'GN1102': '일렉트로니카_일렉트로니카',\n",
       " 'GN1103': '일렉트로니카_하우스',\n",
       " 'GN1104': '일렉트로니카_클럽뮤직',\n",
       " 'GN1105': '일렉트로니카_일렉트로닉팝',\n",
       " 'GN1106': \"일렉트로니카_'80\",\n",
       " 'GN1107': \"일렉트로니카_'90\",\n",
       " 'GN1108': \"일렉트로니카_'00\",\n",
       " 'GN1109': \"일렉트로니카_'10-\",\n",
       " 'GN1200': '랩/힙합',\n",
       " 'GN1201': '랩/힙합_세부장르전체',\n",
       " 'GN1202': '랩/힙합_팝랩',\n",
       " 'GN1203': '랩/힙합_얼터너티브힙합',\n",
       " 'GN1204': '랩/힙합_갱스터/하드코어랩',\n",
       " 'GN1205': '랩/힙합_East&West',\n",
       " 'GN1206': \"랩/힙합_'80\",\n",
       " 'GN1207': \"랩/힙합_'90\",\n",
       " 'GN1208': \"랩/힙합_'00\",\n",
       " 'GN1209': \"랩/힙합_'10-\",\n",
       " 'GN1300': 'R&B/Soul',\n",
       " 'GN1301': 'R&B/Soul_세부장르전체',\n",
       " 'GN1302': 'R&B/Soul_컨템포러리 R&B',\n",
       " 'GN1303': 'R&B/Soul_소울',\n",
       " 'GN1304': 'R&B/Soul_어반',\n",
       " 'GN1305': \"R&B/Soul_'60-'70\",\n",
       " 'GN1306': \"R&B/Soul_'80-'90\",\n",
       " 'GN1307': \"R&B/Soul_'00\",\n",
       " 'GN1308': \"R&B/Soul_'10-\",\n",
       " 'GN1400': '포크/블루스/컨트리',\n",
       " 'GN1401': '포크/블루스/컨트리_세부장르전체',\n",
       " 'GN1402': '포크/블루스/컨트리_포크',\n",
       " 'GN1403': '포크/블루스/컨트리_블루스',\n",
       " 'GN1404': '포크/블루스/컨트리_컨트리',\n",
       " 'GN1405': \"포크/블루스/컨트리_'60-'70\",\n",
       " 'GN1406': \"포크/블루스/컨트리_'80-'90\",\n",
       " 'GN1407': \"포크/블루스/컨트리_'00-\",\n",
       " 'GN1500': 'OST',\n",
       " 'GN1501': 'OST_세부장르전체',\n",
       " 'GN1502': 'OST_국내영화',\n",
       " 'GN1503': 'OST_국외영화',\n",
       " 'GN1504': 'OST_국내드라마',\n",
       " 'GN1505': 'OST_국외드라마',\n",
       " 'GN1506': 'OST_애니메이션/게임',\n",
       " 'GN1507': 'OST_국내뮤지컬',\n",
       " 'GN1508': 'OST_국외뮤지컬',\n",
       " 'GN1509': 'OST_애니메이션/웹툰',\n",
       " 'GN1510': 'OST_게임',\n",
       " 'GN1600': '클래식',\n",
       " 'GN1601': '클래식_세부장르전체',\n",
       " 'GN1602': '클래식_관현악',\n",
       " 'GN1603': '클래식_교향곡',\n",
       " 'GN1604': '클래식_실내악',\n",
       " 'GN1605': '클래식_협주곡',\n",
       " 'GN1606': '클래식_독주곡',\n",
       " 'GN1607': '클래식_오페라',\n",
       " 'GN1608': '클래식_크로스오버',\n",
       " 'GN1609': '클래식_현대음악',\n",
       " 'GN1610': '클래식_성악/합창곡',\n",
       " 'GN1611': '클래식_발레/무용',\n",
       " 'GN1612': '클래식_지휘/연주자',\n",
       " 'GN1613': '클래식_컴필레이션',\n",
       " 'GN1614': '클래식_교향/관현악',\n",
       " 'GN1615': '클래식_오페라/성악',\n",
       " 'GN1700': '재즈',\n",
       " 'GN1701': '재즈_세부장르전체',\n",
       " 'GN1702': '재즈_보컬재즈',\n",
       " 'GN1703': '재즈_애시드/퓨전/팝',\n",
       " 'GN1704': '재즈_Bop',\n",
       " 'GN1705': '재즈_보사노바',\n",
       " 'GN1706': '재즈_J-Jazz',\n",
       " 'GN1707': '재즈_라틴재즈',\n",
       " 'GN1708': '재즈_빅밴드/스윙',\n",
       " 'GN1709': '재즈_악기별',\n",
       " 'GN1710': '재즈_컴필레이션',\n",
       " 'GN1800': '뉴에이지',\n",
       " 'GN1801': '뉴에이지_세부장르전체',\n",
       " 'GN1802': '뉴에이지_이지리스닝',\n",
       " 'GN1803': '뉴에이지_J-Newage',\n",
       " 'GN1804': '뉴에이지_기능성음악',\n",
       " 'GN1805': '뉴에이지_기타',\n",
       " 'GN1806': '뉴에이지_피아노',\n",
       " 'GN1807': '뉴에이지_컴필레이션',\n",
       " 'GN1900': 'J-POP',\n",
       " 'GN1901': 'J-POP_세부장르전체',\n",
       " 'GN1902': 'J-POP_POP',\n",
       " 'GN1903': 'J-POP_록',\n",
       " 'GN1904': 'J-POP_일렉트로니카',\n",
       " 'GN1905': 'J-POP_랩/힙합',\n",
       " 'GN1906': 'J-POP_R&B/Soul',\n",
       " 'GN1907': 'J-POP_시부야케이',\n",
       " 'GN1908': 'J-POP_뉴에이지',\n",
       " 'GN1909': 'J-POP_재즈',\n",
       " 'GN1910': 'J-POP_힙합/R&B',\n",
       " 'GN1911': \"J-POP_'80-'90\",\n",
       " 'GN1912': \"J-POP_'00-'10\",\n",
       " 'GN2000': '월드뮤직',\n",
       " 'GN2001': '월드뮤직_세부장르전체',\n",
       " 'GN2002': '월드뮤직_샹송/프렌치팝',\n",
       " 'GN2003': '월드뮤직_칸초네/이탈리안팝',\n",
       " 'GN2004': '월드뮤직_중국음악',\n",
       " 'GN2005': '월드뮤직_켈틱/아이리시',\n",
       " 'GN2006': '월드뮤직_브라질',\n",
       " 'GN2007': '월드뮤직_탱고/플라멩코',\n",
       " 'GN2008': '월드뮤직_라틴',\n",
       " 'GN2009': '월드뮤직_레게',\n",
       " 'GN2010': '월드뮤직_파두',\n",
       " 'GN2100': 'CCM',\n",
       " 'GN2101': 'CCM_세부장르전체',\n",
       " 'GN2102': 'CCM_국내CCM',\n",
       " 'GN2103': 'CCM_국외CCM',\n",
       " 'GN2104': 'CCM_워십',\n",
       " 'GN2105': 'CCM_찬송가',\n",
       " 'GN2106': 'CCM_성가',\n",
       " 'GN2107': 'CCM_연주곡',\n",
       " 'GN2108': 'CCM_어린이',\n",
       " 'GN2109': 'CCM_성경',\n",
       " 'GN2110': 'CCM_NEW',\n",
       " 'GN2200': '어린이/태교',\n",
       " 'GN2201': '어린이/태교_유아동요',\n",
       " 'GN2202': '어린이/태교_창작동요',\n",
       " 'GN2203': '어린이/태교_영어동요',\n",
       " 'GN2204': '어린이/태교_영어동요',\n",
       " 'GN2205': '어린이/태교_영어동요',\n",
       " 'GN2206': '어린이/태교_영어동화',\n",
       " 'GN2207': '어린이/태교_만화',\n",
       " 'GN2208': '어린이/태교_자장가',\n",
       " 'GN2209': '어린이/태교_태교동화',\n",
       " 'GN2210': '어린이/태교_태교',\n",
       " 'GN2211': '어린이/태교_릴렉싱&힐링',\n",
       " 'GN2212': '어린이/태교_명작동화',\n",
       " 'GN2213': '어린이/태교_교과서동요',\n",
       " 'GN2214': '어린이/태교_전래동요',\n",
       " 'GN2215': '어린이/태교_창작동화',\n",
       " 'GN2216': '어린이/태교_어린이클래식',\n",
       " 'GN2300': '종교음악',\n",
       " 'GN2301': '종교음악_가톨릭',\n",
       " 'GN2302': '종교음악_불교',\n",
       " 'GN2400': '국악',\n",
       " 'GN2401': '국악_세부장르전체',\n",
       " 'GN2402': '국악_크로스오버',\n",
       " 'GN2403': '국악_국악가요',\n",
       " 'GN2404': '국악_민요',\n",
       " 'GN2405': '국악_판소리/단가',\n",
       " 'GN2406': '국악_풍물/사물놀이',\n",
       " 'GN2500': '아이돌',\n",
       " 'GN2501': '아이돌_세부장르전체',\n",
       " 'GN2502': '아이돌_남자 아이돌',\n",
       " 'GN2503': '아이돌_여자 아이돌',\n",
       " 'GN2504': '아이돌_랩/힙합',\n",
       " 'GN2505': '아이돌_발라드',\n",
       " 'GN2506': '아이돌_댄스',\n",
       " 'GN2600': '일렉트로니카',\n",
       " 'GN2601': '일렉트로니카_세부장르전체',\n",
       " 'GN2602': '일렉트로니카_댄스 스타일',\n",
       " 'GN2603': '일렉트로니카_팝 스타일',\n",
       " 'GN2604': '일렉트로니카_시대별',\n",
       " 'GN2700': 'EDM',\n",
       " 'GN2701': 'EDM_세부장르전체',\n",
       " 'GN2702': 'EDM_하우스',\n",
       " 'GN2703': 'EDM_클럽',\n",
       " 'GN2704': 'EDM_DJ',\n",
       " 'GN2800': '뮤직테라피',\n",
       " 'GN2801': '뮤직테라피_세부장르전체',\n",
       " 'GN2802': '뮤직테라피_ASMR/자연',\n",
       " 'GN2803': '뮤직테라피_힐링/명상/요가',\n",
       " 'GN2804': '뮤직테라피_집중력',\n",
       " 'GN2805': '뮤직테라피_숙면유도',\n",
       " 'GN2806': '뮤직테라피_반려동물',\n",
       " 'GN2900': '뮤지컬',\n",
       " 'GN2901': '뮤지컬_세부장르전체',\n",
       " 'GN2902': '뮤지컬_국내뮤지컬',\n",
       " 'GN2903': '뮤지컬_국외뮤지컬',\n",
       " 'GN3000': '크리스마스'}"
      ]
     },
     "execution_count": 20,
     "metadata": {},
     "output_type": "execute_result"
    }
   ],
   "source": [
    "code_to_genre = {}\n",
    "\n",
    "# 모든 딕셔너리를 돌면서\n",
    "for k,v in genre_dict.items():\n",
    "    \n",
    "    # 맨뒤 두자리가 00이 아니면 대장류가 아닌거임!\n",
    "    if k[-2:] != '00':\n",
    "        \n",
    "        # 그럴떈 아까만든 대장르 딕셔너리의 대장류 이름을 추가해서 이름을 수정해서 다시 넣어줌\n",
    "        new_value = genre_big[k[:4]]+'_'+v\n",
    "        code_to_genre[k] = new_value\n",
    "        \n",
    "    # 아니면 그대로\n",
    "    else:\n",
    "        code_to_genre[k] = v\n",
    "\n",
    "# 찍어보기\n",
    "code_to_genre"
   ]
  },
  {
   "cell_type": "markdown",
   "id": "rocky-asthma",
   "metadata": {},
   "source": [
    "## 장르 딕셔너리 키 밸류 바꾸기 -> 나중에 장르 이름으로 코드 찾을 거기 때문임!"
   ]
  },
  {
   "cell_type": "code",
   "execution_count": 21,
   "id": "sunset-elder",
   "metadata": {
    "ExecuteTime": {
     "end_time": "2021-08-30T12:30:08.053302Z",
     "start_time": "2021-08-30T12:30:08.039304Z"
    }
   },
   "outputs": [
    {
     "data": {
      "text/plain": [
       "{'발라드': 'GN0100',\n",
       " '발라드_세부장르전체': 'GN0101',\n",
       " \"발라드_'80\": 'GN0102',\n",
       " \"발라드_'90\": 'GN0103',\n",
       " \"발라드_'00\": 'GN0104',\n",
       " \"발라드_'10-\": 'GN0105',\n",
       " '댄스': 'GN0200',\n",
       " '댄스_세부장르전체': 'GN0201',\n",
       " \"댄스_'80\": 'GN0202',\n",
       " \"댄스_'90\": 'GN0203',\n",
       " \"댄스_'00\": 'GN0204',\n",
       " \"댄스_'10-\": 'GN0205',\n",
       " '랩/힙합': 'GN1200',\n",
       " '랩/힙합_세부장르전체': 'GN1201',\n",
       " '랩/힙합_랩 스타일': 'GN0302',\n",
       " '랩/힙합_보컬 스타일': 'GN0303',\n",
       " '랩/힙합_언더그라운드 힙합': 'GN0304',\n",
       " '랩/힙합_시대별': 'GN0305',\n",
       " 'R&B/Soul': 'GN1300',\n",
       " 'R&B/Soul_세부장르전체': 'GN1301',\n",
       " 'R&B/Soul_어반': 'GN1304',\n",
       " 'R&B/Soul_R&B': 'GN0403',\n",
       " '인디음악': 'GN0500',\n",
       " '인디음악_세부장르전체': 'GN0501',\n",
       " '인디음악_포크': 'GN0502',\n",
       " '인디음악_록': 'GN0503',\n",
       " '인디음악_일렉': 'GN0504',\n",
       " '인디음악_힙합': 'GN0505',\n",
       " '인디음악_발라드': 'GN0506',\n",
       " \"인디음악_'90\": 'GN0507',\n",
       " \"인디음악_'00\": 'GN0508',\n",
       " \"인디음악_'10-\": 'GN0509',\n",
       " '록/메탈': 'GN1000',\n",
       " '록/메탈_세부장르전체': 'GN1001',\n",
       " \"록/메탈_'70\": 'GN1010',\n",
       " \"록/메탈_'80\": 'GN1011',\n",
       " \"록/메탈_'90\": 'GN1012',\n",
       " \"록/메탈_'00\": 'GN1013',\n",
       " \"록/메탈_'10-\": 'GN1014',\n",
       " '성인가요': 'GN0700',\n",
       " '성인가요_세부장르전체': 'GN0701',\n",
       " '성인가요_신세대트로트': 'GN0702',\n",
       " '성인가요_전설의트로트': 'GN0703',\n",
       " '성인가요_뽕짝트로트': 'GN0704',\n",
       " '성인가요_트로트메들리': 'GN0705',\n",
       " \"성인가요_트로트'60-'70\": 'GN0706',\n",
       " \"성인가요_트로트'80-'90\": 'GN0707',\n",
       " \"성인가요_트로트'00-\": 'GN0708',\n",
       " \"성인가요_성인가요'80-'90\": 'GN0709',\n",
       " \"성인가요_성인가요'00-\": 'GN0710',\n",
       " '포크/블루스': 'GN0800',\n",
       " '포크/블루스_세부장르전체': 'GN0801',\n",
       " \"포크/블루스_'60-'70\": 'GN0802',\n",
       " \"포크/블루스_'80-'90\": 'GN0803',\n",
       " \"포크/블루스_'00\": 'GN0804',\n",
       " \"포크/블루스_'10-\": 'GN0805',\n",
       " 'POP': 'GN0900',\n",
       " 'POP_세부장르전체': 'GN0901',\n",
       " 'POP_얼터너티브팝': 'GN0902',\n",
       " 'POP_올디스': 'GN0903',\n",
       " 'POP_월드팝': 'GN0904',\n",
       " \"POP_'60-'70\": 'GN0905',\n",
       " \"POP_'80-'90\": 'GN0906',\n",
       " \"POP_'00\": 'GN0907',\n",
       " \"POP_'10-\": 'GN0908',\n",
       " '록/메탈_모던록': 'GN1002',\n",
       " '록/메탈_얼터너티브록': 'GN1003',\n",
       " '록/메탈_프로그레시브/아트록': 'GN1004',\n",
       " '록/메탈_하드록': 'GN1005',\n",
       " '록/메탈_헤비메탈': 'GN1006',\n",
       " '록/메탈_뉴메탈/하드코어': 'GN1007',\n",
       " '록/메탈_포스트록': 'GN1008',\n",
       " \"록/메탈_'60\": 'GN1009',\n",
       " '일렉트로니카': 'GN2600',\n",
       " '일렉트로니카_세부장르전체': 'GN2601',\n",
       " '일렉트로니카_일렉트로니카': 'GN1102',\n",
       " '일렉트로니카_하우스': 'GN1103',\n",
       " '일렉트로니카_클럽뮤직': 'GN1104',\n",
       " '일렉트로니카_일렉트로닉팝': 'GN1105',\n",
       " \"일렉트로니카_'80\": 'GN1106',\n",
       " \"일렉트로니카_'90\": 'GN1107',\n",
       " \"일렉트로니카_'00\": 'GN1108',\n",
       " \"일렉트로니카_'10-\": 'GN1109',\n",
       " '랩/힙합_팝랩': 'GN1202',\n",
       " '랩/힙합_얼터너티브힙합': 'GN1203',\n",
       " '랩/힙합_갱스터/하드코어랩': 'GN1204',\n",
       " '랩/힙합_East&West': 'GN1205',\n",
       " \"랩/힙합_'80\": 'GN1206',\n",
       " \"랩/힙합_'90\": 'GN1207',\n",
       " \"랩/힙합_'00\": 'GN1208',\n",
       " \"랩/힙합_'10-\": 'GN1209',\n",
       " 'R&B/Soul_컨템포러리 R&B': 'GN1302',\n",
       " 'R&B/Soul_소울': 'GN1303',\n",
       " \"R&B/Soul_'60-'70\": 'GN1305',\n",
       " \"R&B/Soul_'80-'90\": 'GN1306',\n",
       " \"R&B/Soul_'00\": 'GN1307',\n",
       " \"R&B/Soul_'10-\": 'GN1308',\n",
       " '포크/블루스/컨트리': 'GN1400',\n",
       " '포크/블루스/컨트리_세부장르전체': 'GN1401',\n",
       " '포크/블루스/컨트리_포크': 'GN1402',\n",
       " '포크/블루스/컨트리_블루스': 'GN1403',\n",
       " '포크/블루스/컨트리_컨트리': 'GN1404',\n",
       " \"포크/블루스/컨트리_'60-'70\": 'GN1405',\n",
       " \"포크/블루스/컨트리_'80-'90\": 'GN1406',\n",
       " \"포크/블루스/컨트리_'00-\": 'GN1407',\n",
       " 'OST': 'GN1500',\n",
       " 'OST_세부장르전체': 'GN1501',\n",
       " 'OST_국내영화': 'GN1502',\n",
       " 'OST_국외영화': 'GN1503',\n",
       " 'OST_국내드라마': 'GN1504',\n",
       " 'OST_국외드라마': 'GN1505',\n",
       " 'OST_애니메이션/게임': 'GN1506',\n",
       " 'OST_국내뮤지컬': 'GN1507',\n",
       " 'OST_국외뮤지컬': 'GN1508',\n",
       " 'OST_애니메이션/웹툰': 'GN1509',\n",
       " 'OST_게임': 'GN1510',\n",
       " '클래식': 'GN1600',\n",
       " '클래식_세부장르전체': 'GN1601',\n",
       " '클래식_관현악': 'GN1602',\n",
       " '클래식_교향곡': 'GN1603',\n",
       " '클래식_실내악': 'GN1604',\n",
       " '클래식_협주곡': 'GN1605',\n",
       " '클래식_독주곡': 'GN1606',\n",
       " '클래식_오페라': 'GN1607',\n",
       " '클래식_크로스오버': 'GN1608',\n",
       " '클래식_현대음악': 'GN1609',\n",
       " '클래식_성악/합창곡': 'GN1610',\n",
       " '클래식_발레/무용': 'GN1611',\n",
       " '클래식_지휘/연주자': 'GN1612',\n",
       " '클래식_컴필레이션': 'GN1613',\n",
       " '클래식_교향/관현악': 'GN1614',\n",
       " '클래식_오페라/성악': 'GN1615',\n",
       " '재즈': 'GN1700',\n",
       " '재즈_세부장르전체': 'GN1701',\n",
       " '재즈_보컬재즈': 'GN1702',\n",
       " '재즈_애시드/퓨전/팝': 'GN1703',\n",
       " '재즈_Bop': 'GN1704',\n",
       " '재즈_보사노바': 'GN1705',\n",
       " '재즈_J-Jazz': 'GN1706',\n",
       " '재즈_라틴재즈': 'GN1707',\n",
       " '재즈_빅밴드/스윙': 'GN1708',\n",
       " '재즈_악기별': 'GN1709',\n",
       " '재즈_컴필레이션': 'GN1710',\n",
       " '뉴에이지': 'GN1800',\n",
       " '뉴에이지_세부장르전체': 'GN1801',\n",
       " '뉴에이지_이지리스닝': 'GN1802',\n",
       " '뉴에이지_J-Newage': 'GN1803',\n",
       " '뉴에이지_기능성음악': 'GN1804',\n",
       " '뉴에이지_기타': 'GN1805',\n",
       " '뉴에이지_피아노': 'GN1806',\n",
       " '뉴에이지_컴필레이션': 'GN1807',\n",
       " 'J-POP': 'GN1900',\n",
       " 'J-POP_세부장르전체': 'GN1901',\n",
       " 'J-POP_POP': 'GN1902',\n",
       " 'J-POP_록': 'GN1903',\n",
       " 'J-POP_일렉트로니카': 'GN1904',\n",
       " 'J-POP_랩/힙합': 'GN1905',\n",
       " 'J-POP_R&B/Soul': 'GN1906',\n",
       " 'J-POP_시부야케이': 'GN1907',\n",
       " 'J-POP_뉴에이지': 'GN1908',\n",
       " 'J-POP_재즈': 'GN1909',\n",
       " 'J-POP_힙합/R&B': 'GN1910',\n",
       " \"J-POP_'80-'90\": 'GN1911',\n",
       " \"J-POP_'00-'10\": 'GN1912',\n",
       " '월드뮤직': 'GN2000',\n",
       " '월드뮤직_세부장르전체': 'GN2001',\n",
       " '월드뮤직_샹송/프렌치팝': 'GN2002',\n",
       " '월드뮤직_칸초네/이탈리안팝': 'GN2003',\n",
       " '월드뮤직_중국음악': 'GN2004',\n",
       " '월드뮤직_켈틱/아이리시': 'GN2005',\n",
       " '월드뮤직_브라질': 'GN2006',\n",
       " '월드뮤직_탱고/플라멩코': 'GN2007',\n",
       " '월드뮤직_라틴': 'GN2008',\n",
       " '월드뮤직_레게': 'GN2009',\n",
       " '월드뮤직_파두': 'GN2010',\n",
       " 'CCM': 'GN2100',\n",
       " 'CCM_세부장르전체': 'GN2101',\n",
       " 'CCM_국내CCM': 'GN2102',\n",
       " 'CCM_국외CCM': 'GN2103',\n",
       " 'CCM_워십': 'GN2104',\n",
       " 'CCM_찬송가': 'GN2105',\n",
       " 'CCM_성가': 'GN2106',\n",
       " 'CCM_연주곡': 'GN2107',\n",
       " 'CCM_어린이': 'GN2108',\n",
       " 'CCM_성경': 'GN2109',\n",
       " 'CCM_NEW': 'GN2110',\n",
       " '어린이/태교': 'GN2200',\n",
       " '어린이/태교_유아동요': 'GN2201',\n",
       " '어린이/태교_창작동요': 'GN2202',\n",
       " '어린이/태교_영어동요': 'GN2205',\n",
       " '어린이/태교_영어동화': 'GN2206',\n",
       " '어린이/태교_만화': 'GN2207',\n",
       " '어린이/태교_자장가': 'GN2208',\n",
       " '어린이/태교_태교동화': 'GN2209',\n",
       " '어린이/태교_태교': 'GN2210',\n",
       " '어린이/태교_릴렉싱&힐링': 'GN2211',\n",
       " '어린이/태교_명작동화': 'GN2212',\n",
       " '어린이/태교_교과서동요': 'GN2213',\n",
       " '어린이/태교_전래동요': 'GN2214',\n",
       " '어린이/태교_창작동화': 'GN2215',\n",
       " '어린이/태교_어린이클래식': 'GN2216',\n",
       " '종교음악': 'GN2300',\n",
       " '종교음악_가톨릭': 'GN2301',\n",
       " '종교음악_불교': 'GN2302',\n",
       " '국악': 'GN2400',\n",
       " '국악_세부장르전체': 'GN2401',\n",
       " '국악_크로스오버': 'GN2402',\n",
       " '국악_국악가요': 'GN2403',\n",
       " '국악_민요': 'GN2404',\n",
       " '국악_판소리/단가': 'GN2405',\n",
       " '국악_풍물/사물놀이': 'GN2406',\n",
       " '아이돌': 'GN2500',\n",
       " '아이돌_세부장르전체': 'GN2501',\n",
       " '아이돌_남자 아이돌': 'GN2502',\n",
       " '아이돌_여자 아이돌': 'GN2503',\n",
       " '아이돌_랩/힙합': 'GN2504',\n",
       " '아이돌_발라드': 'GN2505',\n",
       " '아이돌_댄스': 'GN2506',\n",
       " '일렉트로니카_댄스 스타일': 'GN2602',\n",
       " '일렉트로니카_팝 스타일': 'GN2603',\n",
       " '일렉트로니카_시대별': 'GN2604',\n",
       " 'EDM': 'GN2700',\n",
       " 'EDM_세부장르전체': 'GN2701',\n",
       " 'EDM_하우스': 'GN2702',\n",
       " 'EDM_클럽': 'GN2703',\n",
       " 'EDM_DJ': 'GN2704',\n",
       " '뮤직테라피': 'GN2800',\n",
       " '뮤직테라피_세부장르전체': 'GN2801',\n",
       " '뮤직테라피_ASMR/자연': 'GN2802',\n",
       " '뮤직테라피_힐링/명상/요가': 'GN2803',\n",
       " '뮤직테라피_집중력': 'GN2804',\n",
       " '뮤직테라피_숙면유도': 'GN2805',\n",
       " '뮤직테라피_반려동물': 'GN2806',\n",
       " '뮤지컬': 'GN2900',\n",
       " '뮤지컬_세부장르전체': 'GN2901',\n",
       " '뮤지컬_국내뮤지컬': 'GN2902',\n",
       " '뮤지컬_국외뮤지컬': 'GN2903',\n",
       " '크리스마스': 'GN3000'}"
      ]
     },
     "execution_count": 21,
     "metadata": {},
     "output_type": "execute_result"
    }
   ],
   "source": [
    "genre_to_code = {v:k for k,v in code_to_genre.items()}\n",
    "# 찍어보기\n",
    "genre_to_code "
   ]
  },
  {
   "cell_type": "markdown",
   "id": "legitimate-parent",
   "metadata": {},
   "source": [
    "## Train과 장르 합치기\n",
    "- 플레이리스트 안에 들어있는 노래의 장르를 중복제거 해서 컬럼에 추가\n",
    "- 35초 정도 걸렸음"
   ]
  },
  {
   "cell_type": "code",
   "execution_count": 22,
   "id": "amazing-production",
   "metadata": {
    "ExecuteTime": {
     "end_time": "2021-08-30T12:30:37.423302Z",
     "start_time": "2021-08-30T12:30:08.054304Z"
    }
   },
   "outputs": [
    {
     "data": {
      "text/html": [
       "<div>\n",
       "<style scoped>\n",
       "    .dataframe tbody tr th:only-of-type {\n",
       "        vertical-align: middle;\n",
       "    }\n",
       "\n",
       "    .dataframe tbody tr th {\n",
       "        vertical-align: top;\n",
       "    }\n",
       "\n",
       "    .dataframe thead th {\n",
       "        text-align: right;\n",
       "    }\n",
       "</style>\n",
       "<table border=\"1\" class=\"dataframe\">\n",
       "  <thead>\n",
       "    <tr style=\"text-align: right;\">\n",
       "      <th></th>\n",
       "      <th>태그</th>\n",
       "      <th>태그_id</th>\n",
       "      <th>플리_id</th>\n",
       "      <th>새플리_id</th>\n",
       "      <th>플리제목</th>\n",
       "      <th>노래_id</th>\n",
       "      <th>새노래_id</th>\n",
       "      <th>태그수</th>\n",
       "      <th>노래수</th>\n",
       "      <th>좋아요수</th>\n",
       "      <th>갱신일</th>\n",
       "      <th>장르</th>\n",
       "    </tr>\n",
       "  </thead>\n",
       "  <tbody>\n",
       "    <tr>\n",
       "      <th>0</th>\n",
       "      <td>[락]</td>\n",
       "      <td>[10435]</td>\n",
       "      <td>61281</td>\n",
       "      <td>0</td>\n",
       "      <td>여행같은 음악</td>\n",
       "      <td>[525514, 129701, 383374, 562083, 297861, 13954...</td>\n",
       "      <td>[456704, 112732, 333158, 488440, 258853, 12127...</td>\n",
       "      <td>1</td>\n",
       "      <td>19</td>\n",
       "      <td>71</td>\n",
       "      <td>2013-12-19 18:36:19.000</td>\n",
       "      <td>[GN0901, GN1001, GN1003, GN1901, GN1401, GN110...</td>\n",
       "    </tr>\n",
       "    <tr>\n",
       "      <th>1</th>\n",
       "      <td>[추억, 회상]</td>\n",
       "      <td>[24175, 21538]</td>\n",
       "      <td>10532</td>\n",
       "      <td>1</td>\n",
       "      <td>요즘 너 말야</td>\n",
       "      <td>[432406, 675945, 497066, 120377, 389529, 24427...</td>\n",
       "      <td>[375894, 587314, 431997, 104605, 338568, 21226...</td>\n",
       "      <td>2</td>\n",
       "      <td>42</td>\n",
       "      <td>1</td>\n",
       "      <td>2014-12-02 16:19:42.000</td>\n",
       "      <td>[GN1504, GN0103, GN0509, GN0601, GN0605, GN180...</td>\n",
       "    </tr>\n",
       "    <tr>\n",
       "      <th>2</th>\n",
       "      <td>[까페, 잔잔한]</td>\n",
       "      <td>[18902, 21687]</td>\n",
       "      <td>76951</td>\n",
       "      <td>2</td>\n",
       "      <td>편하게, 잔잔하게 들을 수 있는 곡.-</td>\n",
       "      <td>[83116, 276692, 166267, 186301, 354465, 256598...</td>\n",
       "      <td>[72132, 240434, 144495, 161861, 307991, 222934...</td>\n",
       "      <td>2</td>\n",
       "      <td>28</td>\n",
       "      <td>17</td>\n",
       "      <td>2017-08-28 07:09:34.000</td>\n",
       "      <td>[GN0504, GN0509, GN0601, GN0303, GN1703, GN050...</td>\n",
       "    </tr>\n",
       "  </tbody>\n",
       "</table>\n",
       "</div>"
      ],
      "text/plain": [
       "          태그           태그_id  플리_id  새플리_id                   플리제목  \\\n",
       "0        [락]         [10435]  61281       0                여행같은 음악   \n",
       "1   [추억, 회상]  [24175, 21538]  10532       1                요즘 너 말야   \n",
       "2  [까페, 잔잔한]  [18902, 21687]  76951       2  편하게, 잔잔하게 들을 수 있는 곡.-   \n",
       "\n",
       "                                               노래_id  \\\n",
       "0  [525514, 129701, 383374, 562083, 297861, 13954...   \n",
       "1  [432406, 675945, 497066, 120377, 389529, 24427...   \n",
       "2  [83116, 276692, 166267, 186301, 354465, 256598...   \n",
       "\n",
       "                                              새노래_id  태그수  노래수  좋아요수  \\\n",
       "0  [456704, 112732, 333158, 488440, 258853, 12127...    1   19    71   \n",
       "1  [375894, 587314, 431997, 104605, 338568, 21226...    2   42     1   \n",
       "2  [72132, 240434, 144495, 161861, 307991, 222934...    2   28    17   \n",
       "\n",
       "                       갱신일                                                 장르  \n",
       "0  2013-12-19 18:36:19.000  [GN0901, GN1001, GN1003, GN1901, GN1401, GN110...  \n",
       "1  2014-12-02 16:19:42.000  [GN1504, GN0103, GN0509, GN0601, GN0605, GN180...  \n",
       "2  2017-08-28 07:09:34.000  [GN0504, GN0509, GN0601, GN0303, GN1703, GN050...  "
      ]
     },
     "execution_count": 22,
     "metadata": {},
     "output_type": "execute_result"
    }
   ],
   "source": [
    "def code_gen(x):\n",
    "    \n",
    "    # 모든 장르를 담을 리스트\n",
    "    temp_list = []\n",
    "       \n",
    "    # 플레이리스트에 들어있는 장르를 extend로 싸그리 모아줌\n",
    "    # song노래의 id는 index와 같다는 점을 참고!\n",
    "    for id in x:\n",
    "        temp_list.extend(song_df.loc[id,'song_gn_dtl_gnr_basket'])\n",
    "        \n",
    "    # 중복제거\n",
    "    temp_list = list(set(temp_list))\n",
    "    \n",
    "    return temp_list\n",
    "\n",
    "train_df['장르'] = train_df['노래_id'].map(code_gen)\n",
    "train_df.head(3)"
   ]
  },
  {
   "cell_type": "markdown",
   "id": "terminal-finnish",
   "metadata": {},
   "source": [
    "## 새로운 장르 코드 생성"
   ]
  },
  {
   "cell_type": "code",
   "execution_count": 47,
   "id": "higher-abraham",
   "metadata": {
    "ExecuteTime": {
     "end_time": "2021-08-30T12:34:58.048041Z",
     "start_time": "2021-08-30T12:34:57.814044Z"
    }
   },
   "outputs": [],
   "source": [
    "gcode_unique = []\n",
    "gcode_to_id = {}\n",
    "id_to_gcode = {}\n",
    "\n",
    "def g_unique(x):\n",
    "    global gcode_unique\n",
    "    \n",
    "    gcode_unique.extend(x)\n",
    "\n",
    "train_df['장르'].map(g_unique)    \n",
    "\n",
    "# 장르 중복제거 해서 정렬\n",
    "gcode_unique = sorted(list(set(gcode_unique)))"
   ]
  },
  {
   "cell_type": "code",
   "execution_count": 24,
   "id": "reflected-harassment",
   "metadata": {
    "ExecuteTime": {
     "end_time": "2021-08-30T12:30:37.693302Z",
     "start_time": "2021-08-30T12:30:37.679303Z"
    }
   },
   "outputs": [
    {
     "data": {
      "text/plain": [
       "{0: 'GN0101',\n",
       " 1: 'GN0102',\n",
       " 2: 'GN0103',\n",
       " 3: 'GN0104',\n",
       " 4: 'GN0105',\n",
       " 5: 'GN0201',\n",
       " 6: 'GN0202',\n",
       " 7: 'GN0203',\n",
       " 8: 'GN0204',\n",
       " 9: 'GN0205',\n",
       " 10: 'GN0301',\n",
       " 11: 'GN0302',\n",
       " 12: 'GN0303',\n",
       " 13: 'GN0304',\n",
       " 14: 'GN0401',\n",
       " 15: 'GN0402',\n",
       " 16: 'GN0403',\n",
       " 17: 'GN0501',\n",
       " 18: 'GN0502',\n",
       " 19: 'GN0503',\n",
       " 20: 'GN0504',\n",
       " 21: 'GN0505',\n",
       " 22: 'GN0506',\n",
       " 23: 'GN0507',\n",
       " 24: 'GN0508',\n",
       " 25: 'GN0509',\n",
       " 26: 'GN0601',\n",
       " 27: 'GN0602',\n",
       " 28: 'GN0603',\n",
       " 29: 'GN0604',\n",
       " 30: 'GN0605',\n",
       " 31: 'GN0606',\n",
       " 32: 'GN0701',\n",
       " 33: 'GN0702',\n",
       " 34: 'GN0703',\n",
       " 35: 'GN0704',\n",
       " 36: 'GN0705',\n",
       " 37: 'GN0706',\n",
       " 38: 'GN0707',\n",
       " 39: 'GN0708',\n",
       " 40: 'GN0709',\n",
       " 41: 'GN0710',\n",
       " 42: 'GN0801',\n",
       " 43: 'GN0802',\n",
       " 44: 'GN0803',\n",
       " 45: 'GN0804',\n",
       " 46: 'GN0805',\n",
       " 47: 'GN0901',\n",
       " 48: 'GN0902',\n",
       " 49: 'GN0903',\n",
       " 50: 'GN0904',\n",
       " 51: 'GN0905',\n",
       " 52: 'GN0906',\n",
       " 53: 'GN0907',\n",
       " 54: 'GN0908',\n",
       " 55: 'GN1001',\n",
       " 56: 'GN1002',\n",
       " 57: 'GN1003',\n",
       " 58: 'GN1004',\n",
       " 59: 'GN1005',\n",
       " 60: 'GN1006',\n",
       " 61: 'GN1007',\n",
       " 62: 'GN1008',\n",
       " 63: 'GN1009',\n",
       " 64: 'GN1010',\n",
       " 65: 'GN1011',\n",
       " 66: 'GN1012',\n",
       " 67: 'GN1013',\n",
       " 68: 'GN1014',\n",
       " 69: 'GN1101',\n",
       " 70: 'GN1102',\n",
       " 71: 'GN1103',\n",
       " 72: 'GN1104',\n",
       " 73: 'GN1105',\n",
       " 74: 'GN1106',\n",
       " 75: 'GN1107',\n",
       " 76: 'GN1108',\n",
       " 77: 'GN1109',\n",
       " 78: 'GN1201',\n",
       " 79: 'GN1202',\n",
       " 80: 'GN1203',\n",
       " 81: 'GN1204',\n",
       " 82: 'GN1205',\n",
       " 83: 'GN1206',\n",
       " 84: 'GN1207',\n",
       " 85: 'GN1208',\n",
       " 86: 'GN1209',\n",
       " 87: 'GN1301',\n",
       " 88: 'GN1302',\n",
       " 89: 'GN1303',\n",
       " 90: 'GN1304',\n",
       " 91: 'GN1305',\n",
       " 92: 'GN1306',\n",
       " 93: 'GN1307',\n",
       " 94: 'GN1308',\n",
       " 95: 'GN1401',\n",
       " 96: 'GN1402',\n",
       " 97: 'GN1403',\n",
       " 98: 'GN1404',\n",
       " 99: 'GN1405',\n",
       " 100: 'GN1406',\n",
       " 101: 'GN1407',\n",
       " 102: 'GN1501',\n",
       " 103: 'GN1502',\n",
       " 104: 'GN1503',\n",
       " 105: 'GN1504',\n",
       " 106: 'GN1505',\n",
       " 107: 'GN1506',\n",
       " 108: 'GN1507',\n",
       " 109: 'GN1508',\n",
       " 110: 'GN1509',\n",
       " 111: 'GN1510',\n",
       " 112: 'GN1601',\n",
       " 113: 'GN1602',\n",
       " 114: 'GN1603',\n",
       " 115: 'GN1604',\n",
       " 116: 'GN1605',\n",
       " 117: 'GN1606',\n",
       " 118: 'GN1607',\n",
       " 119: 'GN1608',\n",
       " 120: 'GN1609',\n",
       " 121: 'GN1610',\n",
       " 122: 'GN1611',\n",
       " 123: 'GN1613',\n",
       " 124: 'GN1614',\n",
       " 125: 'GN1615',\n",
       " 126: 'GN1701',\n",
       " 127: 'GN1702',\n",
       " 128: 'GN1703',\n",
       " 129: 'GN1704',\n",
       " 130: 'GN1705',\n",
       " 131: 'GN1706',\n",
       " 132: 'GN1707',\n",
       " 133: 'GN1708',\n",
       " 134: 'GN1710',\n",
       " 135: 'GN1801',\n",
       " 136: 'GN1802',\n",
       " 137: 'GN1803',\n",
       " 138: 'GN1804',\n",
       " 139: 'GN1805',\n",
       " 140: 'GN1806',\n",
       " 141: 'GN1807',\n",
       " 142: 'GN1901',\n",
       " 143: 'GN1902',\n",
       " 144: 'GN1903',\n",
       " 145: 'GN1904',\n",
       " 146: 'GN1905',\n",
       " 147: 'GN1906',\n",
       " 148: 'GN1907',\n",
       " 149: 'GN1908',\n",
       " 150: 'GN1909',\n",
       " 151: 'GN1910',\n",
       " 152: 'GN1911',\n",
       " 153: 'GN1912',\n",
       " 154: 'GN2001',\n",
       " 155: 'GN2002',\n",
       " 156: 'GN2003',\n",
       " 157: 'GN2004',\n",
       " 158: 'GN2005',\n",
       " 159: 'GN2006',\n",
       " 160: 'GN2007',\n",
       " 161: 'GN2008',\n",
       " 162: 'GN2009',\n",
       " 163: 'GN2010',\n",
       " 164: 'GN2101',\n",
       " 165: 'GN2102',\n",
       " 166: 'GN2103',\n",
       " 167: 'GN2104',\n",
       " 168: 'GN2105',\n",
       " 169: 'GN2106',\n",
       " 170: 'GN2107',\n",
       " 171: 'GN2108',\n",
       " 172: 'GN2109',\n",
       " 173: 'GN2201',\n",
       " 174: 'GN2202',\n",
       " 175: 'GN2203',\n",
       " 176: 'GN2204',\n",
       " 177: 'GN2205',\n",
       " 178: 'GN2206',\n",
       " 179: 'GN2207',\n",
       " 180: 'GN2208',\n",
       " 181: 'GN2209',\n",
       " 182: 'GN2210',\n",
       " 183: 'GN2211',\n",
       " 184: 'GN2212',\n",
       " 185: 'GN2213',\n",
       " 186: 'GN2214',\n",
       " 187: 'GN2215',\n",
       " 188: 'GN2216',\n",
       " 189: 'GN2301',\n",
       " 190: 'GN2302',\n",
       " 191: 'GN2401',\n",
       " 192: 'GN2402',\n",
       " 193: 'GN2403',\n",
       " 194: 'GN2404',\n",
       " 195: 'GN2405',\n",
       " 196: 'GN2406',\n",
       " 197: 'GN2501',\n",
       " 198: 'GN2502',\n",
       " 199: 'GN2503',\n",
       " 200: 'GN2504',\n",
       " 201: 'GN2505',\n",
       " 202: 'GN2506',\n",
       " 203: 'GN2601',\n",
       " 204: 'GN2602',\n",
       " 205: 'GN2603',\n",
       " 206: 'GN2701',\n",
       " 207: 'GN2702',\n",
       " 208: 'GN2703',\n",
       " 209: 'GN2704',\n",
       " 210: 'GN2801',\n",
       " 211: 'GN2802',\n",
       " 212: 'GN2803',\n",
       " 213: 'GN2804',\n",
       " 214: 'GN2805',\n",
       " 215: 'GN2806',\n",
       " 216: 'GN2901',\n",
       " 217: 'GN2902',\n",
       " 218: 'GN2903'}"
      ]
     },
     "execution_count": 24,
     "metadata": {},
     "output_type": "execute_result"
    }
   ],
   "source": [
    "# id : gcode 딕셔너리 생성\n",
    "for i,v in enumerate(gcode_unique):\n",
    "    id_to_gcode[i] = v\n",
    "    \n",
    "id_to_gcode"
   ]
  },
  {
   "cell_type": "code",
   "execution_count": 25,
   "id": "progressive-symbol",
   "metadata": {
    "ExecuteTime": {
     "end_time": "2021-08-30T12:30:37.708303Z",
     "start_time": "2021-08-30T12:30:37.694303Z"
    }
   },
   "outputs": [
    {
     "data": {
      "text/plain": [
       "{'GN0101': 0,\n",
       " 'GN0102': 1,\n",
       " 'GN0103': 2,\n",
       " 'GN0104': 3,\n",
       " 'GN0105': 4,\n",
       " 'GN0201': 5,\n",
       " 'GN0202': 6,\n",
       " 'GN0203': 7,\n",
       " 'GN0204': 8,\n",
       " 'GN0205': 9,\n",
       " 'GN0301': 10,\n",
       " 'GN0302': 11,\n",
       " 'GN0303': 12,\n",
       " 'GN0304': 13,\n",
       " 'GN0401': 14,\n",
       " 'GN0402': 15,\n",
       " 'GN0403': 16,\n",
       " 'GN0501': 17,\n",
       " 'GN0502': 18,\n",
       " 'GN0503': 19,\n",
       " 'GN0504': 20,\n",
       " 'GN0505': 21,\n",
       " 'GN0506': 22,\n",
       " 'GN0507': 23,\n",
       " 'GN0508': 24,\n",
       " 'GN0509': 25,\n",
       " 'GN0601': 26,\n",
       " 'GN0602': 27,\n",
       " 'GN0603': 28,\n",
       " 'GN0604': 29,\n",
       " 'GN0605': 30,\n",
       " 'GN0606': 31,\n",
       " 'GN0701': 32,\n",
       " 'GN0702': 33,\n",
       " 'GN0703': 34,\n",
       " 'GN0704': 35,\n",
       " 'GN0705': 36,\n",
       " 'GN0706': 37,\n",
       " 'GN0707': 38,\n",
       " 'GN0708': 39,\n",
       " 'GN0709': 40,\n",
       " 'GN0710': 41,\n",
       " 'GN0801': 42,\n",
       " 'GN0802': 43,\n",
       " 'GN0803': 44,\n",
       " 'GN0804': 45,\n",
       " 'GN0805': 46,\n",
       " 'GN0901': 47,\n",
       " 'GN0902': 48,\n",
       " 'GN0903': 49,\n",
       " 'GN0904': 50,\n",
       " 'GN0905': 51,\n",
       " 'GN0906': 52,\n",
       " 'GN0907': 53,\n",
       " 'GN0908': 54,\n",
       " 'GN1001': 55,\n",
       " 'GN1002': 56,\n",
       " 'GN1003': 57,\n",
       " 'GN1004': 58,\n",
       " 'GN1005': 59,\n",
       " 'GN1006': 60,\n",
       " 'GN1007': 61,\n",
       " 'GN1008': 62,\n",
       " 'GN1009': 63,\n",
       " 'GN1010': 64,\n",
       " 'GN1011': 65,\n",
       " 'GN1012': 66,\n",
       " 'GN1013': 67,\n",
       " 'GN1014': 68,\n",
       " 'GN1101': 69,\n",
       " 'GN1102': 70,\n",
       " 'GN1103': 71,\n",
       " 'GN1104': 72,\n",
       " 'GN1105': 73,\n",
       " 'GN1106': 74,\n",
       " 'GN1107': 75,\n",
       " 'GN1108': 76,\n",
       " 'GN1109': 77,\n",
       " 'GN1201': 78,\n",
       " 'GN1202': 79,\n",
       " 'GN1203': 80,\n",
       " 'GN1204': 81,\n",
       " 'GN1205': 82,\n",
       " 'GN1206': 83,\n",
       " 'GN1207': 84,\n",
       " 'GN1208': 85,\n",
       " 'GN1209': 86,\n",
       " 'GN1301': 87,\n",
       " 'GN1302': 88,\n",
       " 'GN1303': 89,\n",
       " 'GN1304': 90,\n",
       " 'GN1305': 91,\n",
       " 'GN1306': 92,\n",
       " 'GN1307': 93,\n",
       " 'GN1308': 94,\n",
       " 'GN1401': 95,\n",
       " 'GN1402': 96,\n",
       " 'GN1403': 97,\n",
       " 'GN1404': 98,\n",
       " 'GN1405': 99,\n",
       " 'GN1406': 100,\n",
       " 'GN1407': 101,\n",
       " 'GN1501': 102,\n",
       " 'GN1502': 103,\n",
       " 'GN1503': 104,\n",
       " 'GN1504': 105,\n",
       " 'GN1505': 106,\n",
       " 'GN1506': 107,\n",
       " 'GN1507': 108,\n",
       " 'GN1508': 109,\n",
       " 'GN1509': 110,\n",
       " 'GN1510': 111,\n",
       " 'GN1601': 112,\n",
       " 'GN1602': 113,\n",
       " 'GN1603': 114,\n",
       " 'GN1604': 115,\n",
       " 'GN1605': 116,\n",
       " 'GN1606': 117,\n",
       " 'GN1607': 118,\n",
       " 'GN1608': 119,\n",
       " 'GN1609': 120,\n",
       " 'GN1610': 121,\n",
       " 'GN1611': 122,\n",
       " 'GN1613': 123,\n",
       " 'GN1614': 124,\n",
       " 'GN1615': 125,\n",
       " 'GN1701': 126,\n",
       " 'GN1702': 127,\n",
       " 'GN1703': 128,\n",
       " 'GN1704': 129,\n",
       " 'GN1705': 130,\n",
       " 'GN1706': 131,\n",
       " 'GN1707': 132,\n",
       " 'GN1708': 133,\n",
       " 'GN1710': 134,\n",
       " 'GN1801': 135,\n",
       " 'GN1802': 136,\n",
       " 'GN1803': 137,\n",
       " 'GN1804': 138,\n",
       " 'GN1805': 139,\n",
       " 'GN1806': 140,\n",
       " 'GN1807': 141,\n",
       " 'GN1901': 142,\n",
       " 'GN1902': 143,\n",
       " 'GN1903': 144,\n",
       " 'GN1904': 145,\n",
       " 'GN1905': 146,\n",
       " 'GN1906': 147,\n",
       " 'GN1907': 148,\n",
       " 'GN1908': 149,\n",
       " 'GN1909': 150,\n",
       " 'GN1910': 151,\n",
       " 'GN1911': 152,\n",
       " 'GN1912': 153,\n",
       " 'GN2001': 154,\n",
       " 'GN2002': 155,\n",
       " 'GN2003': 156,\n",
       " 'GN2004': 157,\n",
       " 'GN2005': 158,\n",
       " 'GN2006': 159,\n",
       " 'GN2007': 160,\n",
       " 'GN2008': 161,\n",
       " 'GN2009': 162,\n",
       " 'GN2010': 163,\n",
       " 'GN2101': 164,\n",
       " 'GN2102': 165,\n",
       " 'GN2103': 166,\n",
       " 'GN2104': 167,\n",
       " 'GN2105': 168,\n",
       " 'GN2106': 169,\n",
       " 'GN2107': 170,\n",
       " 'GN2108': 171,\n",
       " 'GN2109': 172,\n",
       " 'GN2201': 173,\n",
       " 'GN2202': 174,\n",
       " 'GN2203': 175,\n",
       " 'GN2204': 176,\n",
       " 'GN2205': 177,\n",
       " 'GN2206': 178,\n",
       " 'GN2207': 179,\n",
       " 'GN2208': 180,\n",
       " 'GN2209': 181,\n",
       " 'GN2210': 182,\n",
       " 'GN2211': 183,\n",
       " 'GN2212': 184,\n",
       " 'GN2213': 185,\n",
       " 'GN2214': 186,\n",
       " 'GN2215': 187,\n",
       " 'GN2216': 188,\n",
       " 'GN2301': 189,\n",
       " 'GN2302': 190,\n",
       " 'GN2401': 191,\n",
       " 'GN2402': 192,\n",
       " 'GN2403': 193,\n",
       " 'GN2404': 194,\n",
       " 'GN2405': 195,\n",
       " 'GN2406': 196,\n",
       " 'GN2501': 197,\n",
       " 'GN2502': 198,\n",
       " 'GN2503': 199,\n",
       " 'GN2504': 200,\n",
       " 'GN2505': 201,\n",
       " 'GN2506': 202,\n",
       " 'GN2601': 203,\n",
       " 'GN2602': 204,\n",
       " 'GN2603': 205,\n",
       " 'GN2701': 206,\n",
       " 'GN2702': 207,\n",
       " 'GN2703': 208,\n",
       " 'GN2704': 209,\n",
       " 'GN2801': 210,\n",
       " 'GN2802': 211,\n",
       " 'GN2803': 212,\n",
       " 'GN2804': 213,\n",
       " 'GN2805': 214,\n",
       " 'GN2806': 215,\n",
       " 'GN2901': 216,\n",
       " 'GN2902': 217,\n",
       " 'GN2903': 218}"
      ]
     },
     "execution_count": 25,
     "metadata": {},
     "output_type": "execute_result"
    }
   ],
   "source": [
    "gcode_to_id = {v:k for k,v in id_to_gcode.items()}\n",
    "\n",
    "gcode_to_id"
   ]
  },
  {
   "cell_type": "code",
   "execution_count": 26,
   "id": "studied-going",
   "metadata": {
    "ExecuteTime": {
     "end_time": "2021-08-30T12:30:38.008302Z",
     "start_time": "2021-08-30T12:30:37.709304Z"
    }
   },
   "outputs": [
    {
     "data": {
      "text/html": [
       "<div>\n",
       "<style scoped>\n",
       "    .dataframe tbody tr th:only-of-type {\n",
       "        vertical-align: middle;\n",
       "    }\n",
       "\n",
       "    .dataframe tbody tr th {\n",
       "        vertical-align: top;\n",
       "    }\n",
       "\n",
       "    .dataframe thead th {\n",
       "        text-align: right;\n",
       "    }\n",
       "</style>\n",
       "<table border=\"1\" class=\"dataframe\">\n",
       "  <thead>\n",
       "    <tr style=\"text-align: right;\">\n",
       "      <th></th>\n",
       "      <th>태그</th>\n",
       "      <th>태그_id</th>\n",
       "      <th>플리_id</th>\n",
       "      <th>새플리_id</th>\n",
       "      <th>플리제목</th>\n",
       "      <th>노래_id</th>\n",
       "      <th>새노래_id</th>\n",
       "      <th>태그수</th>\n",
       "      <th>노래수</th>\n",
       "      <th>좋아요수</th>\n",
       "      <th>갱신일</th>\n",
       "      <th>장르</th>\n",
       "      <th>장르_id</th>\n",
       "    </tr>\n",
       "  </thead>\n",
       "  <tbody>\n",
       "    <tr>\n",
       "      <th>0</th>\n",
       "      <td>[락]</td>\n",
       "      <td>[10435]</td>\n",
       "      <td>61281</td>\n",
       "      <td>0</td>\n",
       "      <td>여행같은 음악</td>\n",
       "      <td>[525514, 129701, 383374, 562083, 297861, 13954...</td>\n",
       "      <td>[456704, 112732, 333158, 488440, 258853, 12127...</td>\n",
       "      <td>1</td>\n",
       "      <td>19</td>\n",
       "      <td>71</td>\n",
       "      <td>2013-12-19 18:36:19.000</td>\n",
       "      <td>[GN0901, GN1001, GN1003, GN1901, GN1401, GN110...</td>\n",
       "      <td>[47, 55, 57, 142, 95, 69, 59, 66, 90, 88, 145,...</td>\n",
       "    </tr>\n",
       "    <tr>\n",
       "      <th>1</th>\n",
       "      <td>[추억, 회상]</td>\n",
       "      <td>[24175, 21538]</td>\n",
       "      <td>10532</td>\n",
       "      <td>1</td>\n",
       "      <td>요즘 너 말야</td>\n",
       "      <td>[432406, 675945, 497066, 120377, 389529, 24427...</td>\n",
       "      <td>[375894, 587314, 431997, 104605, 338568, 21226...</td>\n",
       "      <td>2</td>\n",
       "      <td>42</td>\n",
       "      <td>1</td>\n",
       "      <td>2014-12-02 16:19:42.000</td>\n",
       "      <td>[GN1504, GN0103, GN0509, GN0601, GN0605, GN180...</td>\n",
       "      <td>[105, 2, 25, 26, 30, 137, 133, 4, 112, 47, 17,...</td>\n",
       "    </tr>\n",
       "    <tr>\n",
       "      <th>2</th>\n",
       "      <td>[까페, 잔잔한]</td>\n",
       "      <td>[18902, 21687]</td>\n",
       "      <td>76951</td>\n",
       "      <td>2</td>\n",
       "      <td>편하게, 잔잔하게 들을 수 있는 곡.-</td>\n",
       "      <td>[83116, 276692, 166267, 186301, 354465, 256598...</td>\n",
       "      <td>[72132, 240434, 144495, 161861, 307991, 222934...</td>\n",
       "      <td>2</td>\n",
       "      <td>28</td>\n",
       "      <td>17</td>\n",
       "      <td>2017-08-28 07:09:34.000</td>\n",
       "      <td>[GN0504, GN0509, GN0601, GN0303, GN1703, GN050...</td>\n",
       "      <td>[20, 25, 26, 12, 128, 17, 14, 16, 18, 0, 205, ...</td>\n",
       "    </tr>\n",
       "  </tbody>\n",
       "</table>\n",
       "</div>"
      ],
      "text/plain": [
       "          태그           태그_id  플리_id  새플리_id                   플리제목  \\\n",
       "0        [락]         [10435]  61281       0                여행같은 음악   \n",
       "1   [추억, 회상]  [24175, 21538]  10532       1                요즘 너 말야   \n",
       "2  [까페, 잔잔한]  [18902, 21687]  76951       2  편하게, 잔잔하게 들을 수 있는 곡.-   \n",
       "\n",
       "                                               노래_id  \\\n",
       "0  [525514, 129701, 383374, 562083, 297861, 13954...   \n",
       "1  [432406, 675945, 497066, 120377, 389529, 24427...   \n",
       "2  [83116, 276692, 166267, 186301, 354465, 256598...   \n",
       "\n",
       "                                              새노래_id  태그수  노래수  좋아요수  \\\n",
       "0  [456704, 112732, 333158, 488440, 258853, 12127...    1   19    71   \n",
       "1  [375894, 587314, 431997, 104605, 338568, 21226...    2   42     1   \n",
       "2  [72132, 240434, 144495, 161861, 307991, 222934...    2   28    17   \n",
       "\n",
       "                       갱신일                                                 장르  \\\n",
       "0  2013-12-19 18:36:19.000  [GN0901, GN1001, GN1003, GN1901, GN1401, GN110...   \n",
       "1  2014-12-02 16:19:42.000  [GN1504, GN0103, GN0509, GN0601, GN0605, GN180...   \n",
       "2  2017-08-28 07:09:34.000  [GN0504, GN0509, GN0601, GN0303, GN1703, GN050...   \n",
       "\n",
       "                                               장르_id  \n",
       "0  [47, 55, 57, 142, 95, 69, 59, 66, 90, 88, 145,...  \n",
       "1  [105, 2, 25, 26, 30, 137, 133, 4, 112, 47, 17,...  \n",
       "2  [20, 25, 26, 12, 128, 17, 14, 16, 18, 0, 205, ...  "
      ]
     },
     "execution_count": 26,
     "metadata": {},
     "output_type": "execute_result"
    }
   ],
   "source": [
    "# 장르_id 칼럼을 생성\n",
    "\n",
    "def c_to_id(x):\n",
    "    \n",
    "    temp_list = []\n",
    "    \n",
    "    for code in x:\n",
    "        temp_list.append(gcode_to_id[code])\n",
    "        \n",
    "    return temp_list\n",
    "\n",
    "\n",
    "train_df['장르_id'] = train_df['장르'].map(c_to_id)\n",
    "\n",
    "train_df.head(3)"
   ]
  },
  {
   "cell_type": "markdown",
   "id": "sitting-bosnia",
   "metadata": {},
   "source": [
    "## 태그_id 하나당 어떤 장르가 포함되었는지 araboja\n",
    "\n",
    "- 각 태그가 몇번 출몰 했는지 알아야 함"
   ]
  },
  {
   "cell_type": "markdown",
   "id": "recovered-victor",
   "metadata": {},
   "source": [
    "### 태그 출몰 횟수 구하기"
   ]
  },
  {
   "cell_type": "code",
   "execution_count": 27,
   "id": "armed-framing",
   "metadata": {
    "ExecuteTime": {
     "end_time": "2021-08-30T12:30:38.053321Z",
     "start_time": "2021-08-30T12:30:38.011303Z"
    }
   },
   "outputs": [],
   "source": [
    "# 중복을 제거한 tag 리스트\n",
    "\n",
    "tag_all = []\n",
    "\n",
    "def collect_tag(x):\n",
    "    global tag_all\n",
    "    \n",
    "    tag_all.extend(x)\n",
    "    \n",
    "train_df['태그_id'].map(collect_tag)\n",
    "\n",
    "tag_unique = list(set(tag_all))"
   ]
  },
  {
   "cell_type": "code",
   "execution_count": 28,
   "id": "minute-tooth",
   "metadata": {
    "ExecuteTime": {
     "end_time": "2021-08-30T12:30:38.098321Z",
     "start_time": "2021-08-30T12:30:38.055322Z"
    }
   },
   "outputs": [],
   "source": [
    "# 각 태그가 몇번 출몰 했는지 세어 놓은 딕셔너리\n",
    "\n",
    "from collections import Counter\n",
    "\n",
    "tag_count = dict(Counter(tag_all))\n",
    "\n",
    "tag_count = {i:tag_count[i] for i in range(len(tag_count))}"
   ]
  },
  {
   "cell_type": "code",
   "execution_count": 29,
   "id": "passing-complaint",
   "metadata": {
    "ExecuteTime": {
     "end_time": "2021-08-30T12:30:38.113321Z",
     "start_time": "2021-08-30T12:30:38.099323Z"
    }
   },
   "outputs": [
    {
     "data": {
      "text/plain": [
       "476331"
      ]
     },
     "execution_count": 29,
     "metadata": {},
     "output_type": "execute_result"
    }
   ],
   "source": [
    "sum(list(tag_count.values()))"
   ]
  },
  {
   "cell_type": "code",
   "execution_count": 30,
   "id": "mobile-empty",
   "metadata": {
    "ExecuteTime": {
     "end_time": "2021-08-30T12:30:38.128321Z",
     "start_time": "2021-08-30T12:30:38.114322Z"
    }
   },
   "outputs": [],
   "source": [
    "# 태그_id에 달린 장르id들을 넣을 딕셔너리 초기화\n",
    "tid_gid_dict = {i:[] for i in range(len(tag_unique))}"
   ]
  },
  {
   "cell_type": "code",
   "execution_count": 31,
   "id": "balanced-school",
   "metadata": {
    "ExecuteTime": {
     "end_time": "2021-08-30T12:30:38.143323Z",
     "start_time": "2021-08-30T12:30:38.129321Z"
    }
   },
   "outputs": [
    {
     "data": {
      "text/html": [
       "<div>\n",
       "<style scoped>\n",
       "    .dataframe tbody tr th:only-of-type {\n",
       "        vertical-align: middle;\n",
       "    }\n",
       "\n",
       "    .dataframe tbody tr th {\n",
       "        vertical-align: top;\n",
       "    }\n",
       "\n",
       "    .dataframe thead th {\n",
       "        text-align: right;\n",
       "    }\n",
       "</style>\n",
       "<table border=\"1\" class=\"dataframe\">\n",
       "  <thead>\n",
       "    <tr style=\"text-align: right;\">\n",
       "      <th></th>\n",
       "      <th>태그</th>\n",
       "      <th>태그_id</th>\n",
       "      <th>플리_id</th>\n",
       "      <th>새플리_id</th>\n",
       "      <th>플리제목</th>\n",
       "      <th>노래_id</th>\n",
       "      <th>새노래_id</th>\n",
       "      <th>태그수</th>\n",
       "      <th>노래수</th>\n",
       "      <th>좋아요수</th>\n",
       "      <th>갱신일</th>\n",
       "      <th>장르</th>\n",
       "      <th>장르_id</th>\n",
       "    </tr>\n",
       "  </thead>\n",
       "  <tbody>\n",
       "    <tr>\n",
       "      <th>0</th>\n",
       "      <td>[락]</td>\n",
       "      <td>[10435]</td>\n",
       "      <td>61281</td>\n",
       "      <td>0</td>\n",
       "      <td>여행같은 음악</td>\n",
       "      <td>[525514, 129701, 383374, 562083, 297861, 13954...</td>\n",
       "      <td>[456704, 112732, 333158, 488440, 258853, 12127...</td>\n",
       "      <td>1</td>\n",
       "      <td>19</td>\n",
       "      <td>71</td>\n",
       "      <td>2013-12-19 18:36:19.000</td>\n",
       "      <td>[GN0901, GN1001, GN1003, GN1901, GN1401, GN110...</td>\n",
       "      <td>[47, 55, 57, 142, 95, 69, 59, 66, 90, 88, 145,...</td>\n",
       "    </tr>\n",
       "    <tr>\n",
       "      <th>1</th>\n",
       "      <td>[추억, 회상]</td>\n",
       "      <td>[24175, 21538]</td>\n",
       "      <td>10532</td>\n",
       "      <td>1</td>\n",
       "      <td>요즘 너 말야</td>\n",
       "      <td>[432406, 675945, 497066, 120377, 389529, 24427...</td>\n",
       "      <td>[375894, 587314, 431997, 104605, 338568, 21226...</td>\n",
       "      <td>2</td>\n",
       "      <td>42</td>\n",
       "      <td>1</td>\n",
       "      <td>2014-12-02 16:19:42.000</td>\n",
       "      <td>[GN1504, GN0103, GN0509, GN0601, GN0605, GN180...</td>\n",
       "      <td>[105, 2, 25, 26, 30, 137, 133, 4, 112, 47, 17,...</td>\n",
       "    </tr>\n",
       "    <tr>\n",
       "      <th>2</th>\n",
       "      <td>[까페, 잔잔한]</td>\n",
       "      <td>[18902, 21687]</td>\n",
       "      <td>76951</td>\n",
       "      <td>2</td>\n",
       "      <td>편하게, 잔잔하게 들을 수 있는 곡.-</td>\n",
       "      <td>[83116, 276692, 166267, 186301, 354465, 256598...</td>\n",
       "      <td>[72132, 240434, 144495, 161861, 307991, 222934...</td>\n",
       "      <td>2</td>\n",
       "      <td>28</td>\n",
       "      <td>17</td>\n",
       "      <td>2017-08-28 07:09:34.000</td>\n",
       "      <td>[GN0504, GN0509, GN0601, GN0303, GN1703, GN050...</td>\n",
       "      <td>[20, 25, 26, 12, 128, 17, 14, 16, 18, 0, 205, ...</td>\n",
       "    </tr>\n",
       "  </tbody>\n",
       "</table>\n",
       "</div>"
      ],
      "text/plain": [
       "          태그           태그_id  플리_id  새플리_id                   플리제목  \\\n",
       "0        [락]         [10435]  61281       0                여행같은 음악   \n",
       "1   [추억, 회상]  [24175, 21538]  10532       1                요즘 너 말야   \n",
       "2  [까페, 잔잔한]  [18902, 21687]  76951       2  편하게, 잔잔하게 들을 수 있는 곡.-   \n",
       "\n",
       "                                               노래_id  \\\n",
       "0  [525514, 129701, 383374, 562083, 297861, 13954...   \n",
       "1  [432406, 675945, 497066, 120377, 389529, 24427...   \n",
       "2  [83116, 276692, 166267, 186301, 354465, 256598...   \n",
       "\n",
       "                                              새노래_id  태그수  노래수  좋아요수  \\\n",
       "0  [456704, 112732, 333158, 488440, 258853, 12127...    1   19    71   \n",
       "1  [375894, 587314, 431997, 104605, 338568, 21226...    2   42     1   \n",
       "2  [72132, 240434, 144495, 161861, 307991, 222934...    2   28    17   \n",
       "\n",
       "                       갱신일                                                 장르  \\\n",
       "0  2013-12-19 18:36:19.000  [GN0901, GN1001, GN1003, GN1901, GN1401, GN110...   \n",
       "1  2014-12-02 16:19:42.000  [GN1504, GN0103, GN0509, GN0601, GN0605, GN180...   \n",
       "2  2017-08-28 07:09:34.000  [GN0504, GN0509, GN0601, GN0303, GN1703, GN050...   \n",
       "\n",
       "                                               장르_id  \n",
       "0  [47, 55, 57, 142, 95, 69, 59, 66, 90, 88, 145,...  \n",
       "1  [105, 2, 25, 26, 30, 137, 133, 4, 112, 47, 17,...  \n",
       "2  [20, 25, 26, 12, 128, 17, 14, 16, 18, 0, 205, ...  "
      ]
     },
     "execution_count": 31,
     "metadata": {},
     "output_type": "execute_result"
    }
   ],
   "source": [
    "train_df.head(3)"
   ]
  },
  {
   "cell_type": "code",
   "execution_count": 32,
   "id": "major-workstation",
   "metadata": {
    "ExecuteTime": {
     "end_time": "2021-08-30T12:30:39.973322Z",
     "start_time": "2021-08-30T12:30:38.144322Z"
    }
   },
   "outputs": [
    {
     "data": {
      "text/plain": [
       "0         None\n",
       "1         None\n",
       "2         None\n",
       "3         None\n",
       "4         None\n",
       "          ... \n",
       "115066    None\n",
       "115067    None\n",
       "115068    None\n",
       "115069    None\n",
       "115070    None\n",
       "Length: 115071, dtype: object"
      ]
     },
     "execution_count": 32,
     "metadata": {},
     "output_type": "execute_result"
    }
   ],
   "source": [
    "# 태그_id에 달린 장르id들을 list로 넣어주기\n",
    "\n",
    "def tagid_genre(x):\n",
    "    \n",
    "    global tid_gid_dict\n",
    "    \n",
    "    for i in x['태그_id']:\n",
    "        tid_gid_dict[i].extend(x['장르_id'])\n",
    "\n",
    "train_df[['태그_id','장르_id']].apply(tagid_genre,axis=1)"
   ]
  },
  {
   "cell_type": "code",
   "execution_count": 33,
   "id": "north-tuning",
   "metadata": {
    "ExecuteTime": {
     "end_time": "2021-08-30T12:30:39.988321Z",
     "start_time": "2021-08-30T12:30:39.974322Z"
    }
   },
   "outputs": [],
   "source": [
    "# 포함된 장르의 개수를 가지고 있는 list\n",
    "genre_len = [len(v) for v in tid_gid_dict.values()]"
   ]
  },
  {
   "cell_type": "code",
   "execution_count": 34,
   "id": "federal-netherlands",
   "metadata": {
    "ExecuteTime": {
     "end_time": "2021-08-30T12:30:40.033328Z",
     "start_time": "2021-08-30T12:30:39.989324Z"
    }
   },
   "outputs": [
    {
     "data": {
      "text/plain": [
       "8677916"
      ]
     },
     "execution_count": 34,
     "metadata": {},
     "output_type": "execute_result"
    }
   ],
   "source": [
    "#  태그별 장르포함 횟수만큼 반복  * 2번 태그는 7번 나왔으니 2를 7번 찍기\n",
    "row = np.repeat(range(len(tid_gid_dict)),genre_len)\n",
    "len(row)"
   ]
  },
  {
   "cell_type": "code",
   "execution_count": 35,
   "id": "frozen-malawi",
   "metadata": {
    "ExecuteTime": {
     "end_time": "2021-08-30T12:30:40.228334Z",
     "start_time": "2021-08-30T12:30:40.034336Z"
    }
   },
   "outputs": [
    {
     "data": {
      "text/plain": [
       "8677916"
      ]
     },
     "execution_count": 35,
     "metadata": {},
     "output_type": "execute_result"
    }
   ],
   "source": [
    "# 장르를 하나씩 뽑아서 넣어주기\n",
    "col =  [genre for k,v in tid_gid_dict.items() for genre in v]\n",
    "len(col)"
   ]
  },
  {
   "cell_type": "code",
   "execution_count": 37,
   "id": "literary-dictionary",
   "metadata": {
    "ExecuteTime": {
     "end_time": "2021-08-30T12:30:40.273336Z",
     "start_time": "2021-08-30T12:30:40.244335Z"
    }
   },
   "outputs": [
    {
     "data": {
      "text/plain": [
       "8677916"
      ]
     },
     "execution_count": 37,
     "metadata": {},
     "output_type": "execute_result"
    }
   ],
   "source": [
    "# 태그 마다 달린 장르의 총길이 만큼 1찍기\n",
    "dat = np.repeat(1, sum(genre_len))\n",
    "len(dat)"
   ]
  },
  {
   "cell_type": "code",
   "execution_count": 38,
   "id": "third-wildlife",
   "metadata": {
    "ExecuteTime": {
     "end_time": "2021-08-30T12:30:41.113387Z",
     "start_time": "2021-08-30T12:30:40.274335Z"
    }
   },
   "outputs": [],
   "source": [
    "train_tags_A = spr.csr_matrix((dat, (row, col)), shape=(train_df['태그수'].sum(), len(gcode_to_id)))\n",
    "\n",
    "train_tags_A_T = train_tags_A.T.tocsr()"
   ]
  },
  {
   "cell_type": "code",
   "execution_count": 39,
   "id": "scenic-romance",
   "metadata": {
    "ExecuteTime": {
     "end_time": "2021-08-30T12:30:41.128391Z",
     "start_time": "2021-08-30T12:30:41.114392Z"
    }
   },
   "outputs": [
    {
     "data": {
      "text/plain": [
       "array([[0, 0, 0, ..., 0, 0, 0],\n",
       "       [0, 0, 0, ..., 0, 0, 0],\n",
       "       [1, 0, 1, ..., 0, 0, 0],\n",
       "       ...,\n",
       "       [0, 0, 0, ..., 0, 0, 0],\n",
       "       [0, 0, 0, ..., 0, 0, 0],\n",
       "       [0, 0, 0, ..., 0, 0, 0]], dtype=int32)"
      ]
     },
     "execution_count": 39,
     "metadata": {},
     "output_type": "execute_result"
    }
   ],
   "source": [
    "train_tags_A.toarray().reshape(train_df['태그수'].sum(), len(gcode_to_id))"
   ]
  },
  {
   "cell_type": "markdown",
   "id": "shared-posting",
   "metadata": {},
   "source": [
    "# 내가 고른 장르와 연관된 장르를 뽑자@!@"
   ]
  },
  {
   "cell_type": "markdown",
   "id": "earned-receiver",
   "metadata": {},
   "source": [
    "## 나의 장르 리스트 만들기"
   ]
  },
  {
   "cell_type": "code",
   "execution_count": 40,
   "id": "applicable-somerset",
   "metadata": {
    "ExecuteTime": {
     "end_time": "2021-08-30T12:30:41.158392Z",
     "start_time": "2021-08-30T12:30:41.129393Z"
    }
   },
   "outputs": [
    {
     "data": {
      "text/plain": [
       "[22]"
      ]
     },
     "execution_count": 40,
     "metadata": {},
     "output_type": "execute_result"
    }
   ],
   "source": [
    "my_genres = ['인디음악_발라드']\n",
    "\n",
    "my_genre_code = [genre_to_code[g] for g in my_genres]\n",
    "\n",
    "my_genre_ids = [gcode_to_id[c] for c in my_genre_code]\n",
    "\n",
    "my_genre_ids"
   ]
  },
  {
   "cell_type": "code",
   "execution_count": 41,
   "id": "olive-leone",
   "metadata": {
    "ExecuteTime": {
     "end_time": "2021-08-30T12:30:41.173391Z",
     "start_time": "2021-08-30T12:30:41.160393Z"
    }
   },
   "outputs": [],
   "source": [
    "# 내가 뽑은 장르 id 만 1인 1차원 희소행렬\n",
    "\n",
    "p = np.zeros((len(gcode_to_id),1))\n",
    "\n",
    "for id in my_genre_ids:\n",
    "    p[id]=1"
   ]
  },
  {
   "cell_type": "code",
   "execution_count": 42,
   "id": "developed-belly",
   "metadata": {
    "ExecuteTime": {
     "end_time": "2021-08-30T12:30:41.188345Z",
     "start_time": "2021-08-30T12:30:41.174392Z"
    }
   },
   "outputs": [],
   "source": [
    "import collections\n",
    "\n",
    "# 희소행렬과 dot 연산을 통해 각 태그와 겹치는 장르들의 갯수를 추출\n",
    "val = train_tags_A.dot(p).reshape(-1)"
   ]
  },
  {
   "cell_type": "code",
   "execution_count": 43,
   "id": "satellite-costs",
   "metadata": {
    "ExecuteTime": {
     "end_time": "2021-08-30T12:30:41.203147Z",
     "start_time": "2021-08-30T12:30:41.189346Z"
    }
   },
   "outputs": [],
   "source": [
    "# 그 태그에 들어있는 장르들을 추출\n",
    "cand_gen = train_tags_A_T.dot(val)"
   ]
  },
  {
   "cell_type": "code",
   "execution_count": 44,
   "id": "institutional-mortgage",
   "metadata": {
    "ExecuteTime": {
     "end_time": "2021-08-30T12:30:41.218164Z",
     "start_time": "2021-08-30T12:30:41.204149Z"
    }
   },
   "outputs": [
    {
     "data": {
      "text/plain": [
       "array([  0, 102,  17,   4,  14,  25,  26,  16,  42, 105], dtype=int64)"
      ]
     },
     "execution_count": 44,
     "metadata": {},
     "output_type": "execute_result"
    }
   ],
   "source": [
    "# 1차원으로 바꿔서 중복된 장르를 가진 태그 상위 150개 도출\n",
    "cand_gen_idx = cand_gen.reshape(-1).argsort()[-150:][::-1]\n",
    "\n",
    "# 비슷한 장르 10개 도출\n",
    "cand_gen_idx = cand_gen_idx[:10]\n",
    "\n",
    "cand_gen_idx"
   ]
  },
  {
   "cell_type": "code",
   "execution_count": 45,
   "id": "psychological-wilderness",
   "metadata": {
    "ExecuteTime": {
     "end_time": "2021-08-30T12:30:41.233181Z",
     "start_time": "2021-08-30T12:30:41.219164Z"
    }
   },
   "outputs": [],
   "source": [
    "# 원래 노래 id값으로 복원\n",
    "result_ids = [id_to_gcode[i] for i in cand_gen_idx]\n",
    "result_genres = [code_to_genre[i] for i in result_ids]"
   ]
  },
  {
   "cell_type": "code",
   "execution_count": 46,
   "id": "environmental-marina",
   "metadata": {
    "ExecuteTime": {
     "end_time": "2021-08-30T12:30:41.248349Z",
     "start_time": "2021-08-30T12:30:41.234181Z"
    }
   },
   "outputs": [
    {
     "data": {
      "text/plain": [
       "['발라드_세부장르전체',\n",
       " 'OST_세부장르전체',\n",
       " '인디음악_세부장르전체',\n",
       " \"발라드_'10-\",\n",
       " 'R&B/Soul_세부장르전체',\n",
       " \"인디음악_'10-\",\n",
       " '록/메탈_세부장르전체',\n",
       " 'R&B/Soul_R&B',\n",
       " '포크/블루스_세부장르전체',\n",
       " 'OST_국내드라마']"
      ]
     },
     "execution_count": 46,
     "metadata": {},
     "output_type": "execute_result"
    }
   ],
   "source": [
    "result_genres"
   ]
  }
 ],
 "metadata": {
  "kernelspec": {
   "display_name": "Python 3",
   "language": "python",
   "name": "python3"
  },
  "language_info": {
   "codemirror_mode": {
    "name": "ipython",
    "version": 3
   },
   "file_extension": ".py",
   "mimetype": "text/x-python",
   "name": "python",
   "nbconvert_exporter": "python",
   "pygments_lexer": "ipython3",
   "version": "3.9.1"
  },
  "toc": {
   "base_numbering": 1,
   "nav_menu": {},
   "number_sections": true,
   "sideBar": true,
   "skip_h1_title": false,
   "title_cell": "Table of Contents",
   "title_sidebar": "Contents",
   "toc_cell": false,
   "toc_position": {},
   "toc_section_display": true,
   "toc_window_display": false
  },
  "varInspector": {
   "cols": {
    "lenName": 16,
    "lenType": 16,
    "lenVar": 40
   },
   "kernels_config": {
    "python": {
     "delete_cmd_postfix": "",
     "delete_cmd_prefix": "del ",
     "library": "var_list.py",
     "varRefreshCmd": "print(var_dic_list())"
    },
    "r": {
     "delete_cmd_postfix": ") ",
     "delete_cmd_prefix": "rm(",
     "library": "var_list.r",
     "varRefreshCmd": "cat(var_dic_list()) "
    }
   },
   "types_to_exclude": [
    "module",
    "function",
    "builtin_function_or_method",
    "instance",
    "_Feature"
   ],
   "window_display": false
  }
 },
 "nbformat": 4,
 "nbformat_minor": 5
}
