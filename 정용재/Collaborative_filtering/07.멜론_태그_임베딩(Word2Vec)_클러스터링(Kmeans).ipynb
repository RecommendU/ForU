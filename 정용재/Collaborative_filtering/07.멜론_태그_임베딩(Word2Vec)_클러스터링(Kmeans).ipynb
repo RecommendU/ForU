{
 "cells": [
  {
   "cell_type": "code",
   "execution_count": 1,
   "id": "c5bfe0a3",
   "metadata": {
    "ExecuteTime": {
     "end_time": "2021-09-08T08:04:47.342105Z",
     "start_time": "2021-09-08T08:04:45.560412Z"
    }
   },
   "outputs": [],
   "source": [
    "import os\n",
    "import json\n",
    "import numpy as np\n",
    "import pandas as pd\n",
    "from gensim import corpora\n",
    "from gensim.models import Word2Vec"
   ]
  },
  {
   "cell_type": "code",
   "execution_count": 2,
   "id": "31d7a997",
   "metadata": {
    "ExecuteTime": {
     "end_time": "2021-09-08T08:04:49.309077Z",
     "start_time": "2021-09-08T08:04:47.344678Z"
    }
   },
   "outputs": [],
   "source": [
    "with open('data/train.json',encoding='utf-8-sig') as f:\n",
    "    train_dict = json.load(f)\n",
    "    \n",
    "train_df = pd.DataFrame.from_dict(train_dict)"
   ]
  },
  {
   "cell_type": "markdown",
   "id": "622ede6c",
   "metadata": {},
   "source": [
    "# tag 전처리"
   ]
  },
  {
   "cell_type": "code",
   "execution_count": 3,
   "id": "781e3e08",
   "metadata": {
    "ExecuteTime": {
     "end_time": "2021-09-08T08:04:49.787246Z",
     "start_time": "2021-09-08T08:04:49.310461Z"
    }
   },
   "outputs": [],
   "source": [
    "from itertools import chain\n",
    "from collections import defaultdict\n",
    "import pprint\n",
    "\n",
    "# train dataframe tag 컬럼의 모든 tag들 (중복포함)\n",
    "tags_all = train_df['tags'].tolist()\n",
    "\n",
    "# 태그의 빈도수를 가진 dict, Counter 써도 됨\n",
    "tags_frequency = defaultdict(int)\n",
    "\n",
    "# 특정 tag가 나올 때마다 1더하기\n",
    "for tags in tags_all:\n",
    "    for tag in tags:\n",
    "        tags_frequency[tag] += 1\n",
    "\n",
    "# tag 중에 빈도수가 1번 이상 나오고, 플레이리스트 당 tag가 1개 이상인 것들만 포함\n",
    "tags_more_than_one = [[tag for tag in tags if tags_frequency[tag] > 1 ] for tags in tags_all if len(tags) > 1]"
   ]
  },
  {
   "cell_type": "code",
   "execution_count": 4,
   "id": "ba761a53",
   "metadata": {
    "ExecuteTime": {
     "end_time": "2021-09-08T08:04:49.802454Z",
     "start_time": "2021-09-08T08:04:49.789248Z"
    }
   },
   "outputs": [
    {
     "data": {
      "text/plain": [
       "87829"
      ]
     },
     "execution_count": 4,
     "metadata": {},
     "output_type": "execute_result"
    }
   ],
   "source": [
    "# 전처리 후 태그들의 갯수\n",
    "len(tags_more_than_one)"
   ]
  },
  {
   "cell_type": "markdown",
   "id": "8da47cc6",
   "metadata": {},
   "source": [
    "# tag 딕셔너리 만들기 "
   ]
  },
  {
   "cell_type": "code",
   "execution_count": 5,
   "id": "515c98eb",
   "metadata": {
    "ExecuteTime": {
     "end_time": "2021-09-08T08:04:50.619305Z",
     "start_time": "2021-09-08T08:04:49.803759Z"
    }
   },
   "outputs": [],
   "source": [
    "# 전처리한 tag들을 가지고 gensim corpora 딕셔너리 만들기\n",
    "tag_unique_dict = corpora.Dictionary(tags_more_than_one)"
   ]
  },
  {
   "cell_type": "code",
   "execution_count": 6,
   "id": "970de7dd",
   "metadata": {
    "ExecuteTime": {
     "end_time": "2021-09-08T08:04:50.634810Z",
     "start_time": "2021-09-08T08:04:50.620654Z"
    }
   },
   "outputs": [],
   "source": [
    "# gensim 딕셔너리의 token2id 함수를 이용해서 {태그:id} 딕셔너리 만들기\n",
    "tags_to_id = tag_unique_dict.token2id"
   ]
  },
  {
   "cell_type": "code",
   "execution_count": 7,
   "id": "bed622dc",
   "metadata": {
    "ExecuteTime": {
     "end_time": "2021-09-08T08:04:50.650170Z",
     "start_time": "2021-09-08T08:04:50.636223Z"
    }
   },
   "outputs": [],
   "source": [
    "# 위 딕셔너리 key, value 반전해서 {id:태그} 딕셔너리 만들기\n",
    "id_to_tags = {v:k for k,v in tags_to_id.items()}"
   ]
  },
  {
   "cell_type": "markdown",
   "id": "439500b2",
   "metadata": {},
   "source": [
    "# Word2Vec 모델 생성"
   ]
  },
  {
   "cell_type": "code",
   "execution_count": 8,
   "id": "465f8c0f",
   "metadata": {
    "ExecuteTime": {
     "end_time": "2021-09-08T08:04:53.684305Z",
     "start_time": "2021-09-08T08:04:50.651485Z"
    }
   },
   "outputs": [],
   "source": [
    "# 벡터 크기 100으로 해서 window=4 주고 Word2Vec 학습\n",
    "w2v_model = Word2Vec(sentences=tags_more_than_one,vector_size=100,window=4,min_count=1,workers=4,sg=1)"
   ]
  },
  {
   "cell_type": "code",
   "execution_count": 9,
   "id": "165cf6c7",
   "metadata": {
    "ExecuteTime": {
     "end_time": "2021-09-08T08:04:53.715815Z",
     "start_time": "2021-09-08T08:04:53.685815Z"
    }
   },
   "outputs": [],
   "source": [
    "# w2v 모델 저장\n",
    "w2v_model.save('./models/w2v_model')"
   ]
  },
  {
   "cell_type": "code",
   "execution_count": 10,
   "id": "9e81acf4",
   "metadata": {
    "ExecuteTime": {
     "end_time": "2021-09-08T08:04:53.886723Z",
     "start_time": "2021-09-08T08:04:53.720822Z"
    }
   },
   "outputs": [],
   "source": [
    "# w2v 모델 불러오기\n",
    "w2v_model = Word2Vec.load('./models/w2v_model')"
   ]
  },
  {
   "cell_type": "code",
   "execution_count": 11,
   "id": "409ebd99",
   "metadata": {
    "ExecuteTime": {
     "end_time": "2021-09-08T08:04:53.902794Z",
     "start_time": "2021-09-08T08:04:53.887841Z"
    }
   },
   "outputs": [
    {
     "data": {
      "text/plain": [
       "[('록', 0.9223761558532715),\n",
       " ('메탈', 0.8095712065696716),\n",
       " ('밴드', 0.7833627462387085),\n",
       " ('참이슬', 0.7639904618263245),\n",
       " ('JRock', 0.7564314603805542),\n",
       " ('얼터너티브', 0.7556256651878357),\n",
       " ('Rock', 0.7513983845710754),\n",
       " ('모던록', 0.7481400370597839),\n",
       " ('모던락', 0.7478722929954529),\n",
       " ('헤비메탈', 0.7462851405143738)]"
      ]
     },
     "execution_count": 11,
     "metadata": {},
     "output_type": "execute_result"
    }
   ],
   "source": [
    "# 락과 관련된 태그 10개\n",
    "sims = w2v_model.wv.most_similar('락', topn=10)\n",
    "sims"
   ]
  },
  {
   "cell_type": "markdown",
   "id": "9fb35f97",
   "metadata": {},
   "source": [
    "# Word2Vec 모델 활용"
   ]
  },
  {
   "cell_type": "markdown",
   "id": "21b62f2e",
   "metadata": {},
   "source": [
    "## 준비물"
   ]
  },
  {
   "cell_type": "code",
   "execution_count": 12,
   "id": "af4ed960",
   "metadata": {
    "ExecuteTime": {
     "end_time": "2021-09-08T08:04:53.918477Z",
     "start_time": "2021-09-08T08:04:53.904317Z"
    }
   },
   "outputs": [],
   "source": [
    "# word2vec {태그:id} 딕셔너리 만들기\n",
    "tag_to_index = w2v_model.wv.key_to_index"
   ]
  },
  {
   "cell_type": "code",
   "execution_count": 13,
   "id": "111e0d1d",
   "metadata": {
    "ExecuteTime": {
     "end_time": "2021-09-08T08:04:53.934177Z",
     "start_time": "2021-09-08T08:04:53.919908Z"
    }
   },
   "outputs": [],
   "source": [
    "# word2vec key만 뽑기\n",
    "index_to_key = w2v_model.wv.index_to_key"
   ]
  },
  {
   "cell_type": "code",
   "execution_count": 14,
   "id": "4369101b",
   "metadata": {
    "ExecuteTime": {
     "end_time": "2021-09-08T08:04:53.980926Z",
     "start_time": "2021-09-08T08:04:53.936245Z"
    }
   },
   "outputs": [],
   "source": [
    "# word2vec 에서 나온 모든 벡터를 list에 담기\n",
    "\n",
    "vectors = []\n",
    "\n",
    "for i in range(len(w2v_model.wv)):\n",
    "    vectors.append(w2v_model.wv[i])"
   ]
  },
  {
   "cell_type": "code",
   "execution_count": 15,
   "id": "eb3649c4",
   "metadata": {
    "ExecuteTime": {
     "end_time": "2021-09-08T08:04:53.996500Z",
     "start_time": "2021-09-08T08:04:53.982534Z"
    }
   },
   "outputs": [],
   "source": [
    "# word2vec {id:태그} 딕셔너리 만들기\n",
    "index_to_key_dict = dict(zip(range(len(index_to_key)),index_to_key))"
   ]
  },
  {
   "cell_type": "markdown",
   "id": "7d3675f0",
   "metadata": {},
   "source": [
    "## 시각화"
   ]
  },
  {
   "cell_type": "code",
   "execution_count": 16,
   "id": "dc64e0be",
   "metadata": {
    "ExecuteTime": {
     "end_time": "2021-09-08T08:04:55.177794Z",
     "start_time": "2021-09-08T08:04:53.997510Z"
    }
   },
   "outputs": [],
   "source": [
    "# 시각화용 파일 저장\n",
    "from gensim.models import KeyedVectors\n",
    "\n",
    "w2v_model.wv.save_word2vec_format('tag_w2v')"
   ]
  },
  {
   "cell_type": "code",
   "execution_count": 17,
   "id": "fe957110",
   "metadata": {
    "ExecuteTime": {
     "end_time": "2021-09-08T08:04:57.788102Z",
     "start_time": "2021-09-08T08:04:55.178692Z"
    }
   },
   "outputs": [
    {
     "name": "stderr",
     "output_type": "stream",
     "text": [
      "2021-09-08 17:04:56,048 - word2vec2tensor - INFO - running C:\\Users\\mkitL\\AppData\\Local\\Programs\\Python\\Python39\\lib\\site-packages\\gensim\\scripts\\word2vec2tensor.py -i tag_w2v -o tag_wv2\n",
      "2021-09-08 17:04:56,048 - keyedvectors - INFO - loading projection weights from tag_w2v\n",
      "2021-09-08 17:04:57,007 - utils - INFO - KeyedVectors lifecycle event {'msg': 'loaded (11701, 100) matrix of type float32 from tag_w2v', 'binary': False, 'encoding': 'utf8', 'datetime': '2021-09-08T17:04:56.933923', 'gensim': '4.0.1', 'python': '3.9.6 (tags/v3.9.6:db3ff76, Jun 28 2021, 15:26:21) [MSC v.1929 64 bit (AMD64)]', 'platform': 'Windows-10-10.0.19042-SP0', 'event': 'load_word2vec_format'}\n",
      "2021-09-08 17:04:57,705 - word2vec2tensor - INFO - 2D tensor file saved to tag_wv2_tensor.tsv\n",
      "2021-09-08 17:04:57,705 - word2vec2tensor - INFO - Tensor metadata file saved to tag_wv2_metadata.tsv\n",
      "2021-09-08 17:04:57,706 - word2vec2tensor - INFO - finished running word2vec2tensor.py\n"
     ]
    }
   ],
   "source": [
    "# 시각화용 파일 변환\n",
    "!python -m gensim.scripts.word2vec2tensor -i tag_w2v -o tag_wv2"
   ]
  },
  {
   "cell_type": "markdown",
   "id": "b7db6efc",
   "metadata": {},
   "source": [
    "## 군집화"
   ]
  },
  {
   "cell_type": "markdown",
   "id": "d223dd69",
   "metadata": {},
   "source": [
    "### 최적 클러스터 갯수 찾기"
   ]
  },
  {
   "cell_type": "code",
   "execution_count": 18,
   "id": "67023bcf",
   "metadata": {
    "ExecuteTime": {
     "end_time": "2021-09-08T08:05:49.207457Z",
     "start_time": "2021-09-08T08:04:57.789612Z"
    }
   },
   "outputs": [
    {
     "data": {
      "image/png": "[encoded data removed]",
      "text/plain": [
       "<Figure size 432x288 with 1 Axes>"
      ]
     },
     "metadata": {
      "needs_background": "light"
     },
     "output_type": "display_data"
    }
   ],
   "source": [
    "from sklearn.cluster import KMeans\n",
    "import matplotlib.pyplot as plt \n",
    "def elbow(x):\n",
    "    sse = []\n",
    "    for i in range(40,50):\n",
    "        km = KMeans(n_clusters=i, init = 'k-means++' , random_state=123)\n",
    "        km.fit(x)\n",
    "        sse.append(km.inertia_)\n",
    "    plt.plot(range(40,50),sse,marker='o')\n",
    "    plt.xlabel('Num_cluster')\n",
    "    plt.ylabel('SSE')\n",
    "    plt.show()\n",
    "    \n",
    "elbow(vectors)"
   ]
  },
  {
   "cell_type": "markdown",
   "id": "aead2cc1",
   "metadata": {},
   "source": [
    "### 최적 클러스터 갯수를 통해 훈련 및 예측"
   ]
  },
  {
   "cell_type": "code",
   "execution_count": null,
   "id": "75a0a383",
   "metadata": {
    "ExecuteTime": {
     "start_time": "2021-09-08T08:04:45.596Z"
    }
   },
   "outputs": [],
   "source": [
    "km = KMeans(n_clusters=100, init = 'k-means++' , random_state=123)\n",
    "prediction = km.fit_predict(vectors)"
   ]
  },
  {
   "cell_type": "code",
   "execution_count": null,
   "id": "47f1db29",
   "metadata": {
    "ExecuteTime": {
     "start_time": "2021-09-08T08:04:45.599Z"
    }
   },
   "outputs": [],
   "source": [
    "# {id:예측내용}의 딕셔너리 만들기\n",
    "id_prediction = dict(zip(range(len(prediction)),prediction))"
   ]
  },
  {
   "cell_type": "code",
   "execution_count": null,
   "id": "664e13fb",
   "metadata": {
    "ExecuteTime": {
     "start_time": "2021-09-08T08:04:45.600Z"
    }
   },
   "outputs": [],
   "source": [
    "# {태그:예측내용}의 딕셔너리 만들기\n",
    "tag_prediction = {index_to_key_dict[k]:v for k,v in id_prediction.items()}\n",
    "tag_prediction"
   ]
  },
  {
   "cell_type": "code",
   "execution_count": null,
   "id": "92fbf9a4",
   "metadata": {
    "ExecuteTime": {
     "start_time": "2021-09-08T08:04:45.602Z"
    }
   },
   "outputs": [],
   "source": [
    "# 클러스터 id를 넣으면 클러스터 내의 태그들을 반환 해주는 함수\n",
    "def cluster_id_to_items(cluster_id):\n",
    "    global tag_prediction\n",
    "    tag_list = []\n",
    "    for k,v in tag_prediction.items():\n",
    "        if v == cluster_id:\n",
    "            tag_list.append(k)\n",
    "            \n",
    "    return tag_list"
   ]
  },
  {
   "cell_type": "code",
   "execution_count": null,
   "id": "87b119c5",
   "metadata": {
    "ExecuteTime": {
     "start_time": "2021-09-08T08:04:45.604Z"
    }
   },
   "outputs": [],
   "source": [
    "cluster_id_to_items(23)"
   ]
  },
  {
   "cell_type": "code",
   "execution_count": null,
   "id": "7f6522f3",
   "metadata": {},
   "outputs": [],
   "source": []
  }
 ],
 "metadata": {
  "kernelspec": {
   "display_name": "Python 3 (ipykernel)",
   "language": "python",
   "name": "python3"
  },
  "language_info": {
   "codemirror_mode": {
    "name": "ipython",
    "version": 3
   },
   "file_extension": ".py",
   "mimetype": "text/x-python",
   "name": "python",
   "nbconvert_exporter": "python",
   "pygments_lexer": "ipython3",
   "version": "3.9.6"
  },
  "toc": {
   "base_numbering": 1,
   "nav_menu": {},
   "number_sections": true,
   "sideBar": true,
   "skip_h1_title": false,
   "title_cell": "Table of Contents",
   "title_sidebar": "Contents",
   "toc_cell": false,
   "toc_position": {},
   "toc_section_display": true,
   "toc_window_display": false
  }
 },
 "nbformat": 4,
 "nbformat_minor": 5
}
