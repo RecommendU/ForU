{
 "cells": [
  {
   "cell_type": "code",
   "execution_count": 1,
   "id": "a8d018fc",
   "metadata": {
    "ExecuteTime": {
     "end_time": "2021-08-31T07:16:38.161076Z",
     "start_time": "2021-08-31T07:16:37.812077Z"
    }
   },
   "outputs": [],
   "source": [
    "import os\n",
    "import json\n",
    "import numpy as np\n",
    "import pandas as pd\n",
    "import scipy.sparse as spr"
   ]
  },
  {
   "cell_type": "markdown",
   "id": "14b83835",
   "metadata": {},
   "source": [
    "목차\n",
    "\n",
    "- 1. 데이터 처리 (불러오기,추가,수정,변환)\n",
    "- 2. 플레이리스트로 추천 (협업필터링)"
   ]
  },
  {
   "cell_type": "markdown",
   "id": "1cc6b113",
   "metadata": {},
   "source": [
    "# 데이터 처리"
   ]
  },
  {
   "cell_type": "markdown",
   "id": "df07c61b",
   "metadata": {},
   "source": [
    "## train data 불러오기"
   ]
  },
  {
   "cell_type": "code",
   "execution_count": 2,
   "id": "c1a6d168",
   "metadata": {
    "ExecuteTime": {
     "end_time": "2021-08-31T07:16:46.097075Z",
     "start_time": "2021-08-31T07:16:38.162078Z"
    }
   },
   "outputs": [],
   "source": [
    "with open('data/train.json',encoding='utf-8-sig') as f:\n",
    "    train_dict = json.load(f)\n",
    "    \n",
    "with open('data/song_meta.json',encoding='utf-8-sig') as f:\n",
    "    song_dict = json.load(f)\n",
    "    \n",
    "with open('data/genre_gn_all.json',encoding='utf-8-sig') as f:\n",
    "    genre_dict = json.load(f)\n",
    "    \n",
    "train_df = pd.DataFrame.from_dict(train_dict)\n",
    "song_df = pd.DataFrame.from_dict(song_dict)"
   ]
  },
  {
   "cell_type": "markdown",
   "id": "6745796d",
   "metadata": {},
   "source": [
    "## train_df 전처리"
   ]
  },
  {
   "cell_type": "markdown",
   "id": "94250eb5",
   "metadata": {},
   "source": [
    "### 일반 전처리\n",
    "- num_songs,num_tags = '중복제거한 노래 태그 개수'"
   ]
  },
  {
   "cell_type": "code",
   "execution_count": 3,
   "id": "f7fea94b",
   "metadata": {
    "ExecuteTime": {
     "end_time": "2021-08-31T07:16:46.127075Z",
     "start_time": "2021-08-31T07:16:46.099076Z"
    }
   },
   "outputs": [
    {
     "data": {
      "text/html": [
       "<div>\n",
       "<style scoped>\n",
       "    .dataframe tbody tr th:only-of-type {\n",
       "        vertical-align: middle;\n",
       "    }\n",
       "\n",
       "    .dataframe tbody tr th {\n",
       "        vertical-align: top;\n",
       "    }\n",
       "\n",
       "    .dataframe thead th {\n",
       "        text-align: right;\n",
       "    }\n",
       "</style>\n",
       "<table border=\"1\" class=\"dataframe\">\n",
       "  <thead>\n",
       "    <tr style=\"text-align: right;\">\n",
       "      <th></th>\n",
       "      <th>tags</th>\n",
       "      <th>id</th>\n",
       "      <th>plylst_title</th>\n",
       "      <th>songs</th>\n",
       "      <th>like_cnt</th>\n",
       "      <th>updt_date</th>\n",
       "    </tr>\n",
       "  </thead>\n",
       "  <tbody>\n",
       "    <tr>\n",
       "      <th>0</th>\n",
       "      <td>[락]</td>\n",
       "      <td>61281</td>\n",
       "      <td>여행같은 음악</td>\n",
       "      <td>[525514, 129701, 383374, 562083, 297861, 13954...</td>\n",
       "      <td>71</td>\n",
       "      <td>2013-12-19 18:36:19.000</td>\n",
       "    </tr>\n",
       "    <tr>\n",
       "      <th>1</th>\n",
       "      <td>[추억, 회상]</td>\n",
       "      <td>10532</td>\n",
       "      <td>요즘 너 말야</td>\n",
       "      <td>[432406, 675945, 497066, 120377, 389529, 24427...</td>\n",
       "      <td>1</td>\n",
       "      <td>2014-12-02 16:19:42.000</td>\n",
       "    </tr>\n",
       "    <tr>\n",
       "      <th>2</th>\n",
       "      <td>[까페, 잔잔한]</td>\n",
       "      <td>76951</td>\n",
       "      <td>편하게, 잔잔하게 들을 수 있는 곡.-</td>\n",
       "      <td>[83116, 276692, 166267, 186301, 354465, 256598...</td>\n",
       "      <td>17</td>\n",
       "      <td>2017-08-28 07:09:34.000</td>\n",
       "    </tr>\n",
       "  </tbody>\n",
       "</table>\n",
       "</div>"
      ],
      "text/plain": [
       "        tags     id           plylst_title  \\\n",
       "0        [락]  61281                여행같은 음악   \n",
       "1   [추억, 회상]  10532                요즘 너 말야   \n",
       "2  [까페, 잔잔한]  76951  편하게, 잔잔하게 들을 수 있는 곡.-   \n",
       "\n",
       "                                               songs  like_cnt  \\\n",
       "0  [525514, 129701, 383374, 562083, 297861, 13954...        71   \n",
       "1  [432406, 675945, 497066, 120377, 389529, 24427...         1   \n",
       "2  [83116, 276692, 166267, 186301, 354465, 256598...        17   \n",
       "\n",
       "                 updt_date  \n",
       "0  2013-12-19 18:36:19.000  \n",
       "1  2014-12-02 16:19:42.000  \n",
       "2  2017-08-28 07:09:34.000  "
      ]
     },
     "execution_count": 3,
     "metadata": {},
     "output_type": "execute_result"
    }
   ],
   "source": [
    "train_df.head(3)"
   ]
  },
  {
   "cell_type": "code",
   "execution_count": 4,
   "id": "52671332",
   "metadata": {
    "ExecuteTime": {
     "end_time": "2021-08-31T07:16:46.217076Z",
     "start_time": "2021-08-31T07:16:46.129076Z"
    }
   },
   "outputs": [],
   "source": [
    "train_df['tags_cnt'] = train_df['tags'].map(lambda x : len(x))\n",
    "train_df['songs_cnt'] = train_df['songs'].map(lambda x : len(x))"
   ]
  },
  {
   "cell_type": "code",
   "execution_count": 5,
   "id": "c65ffd66",
   "metadata": {
    "ExecuteTime": {
     "end_time": "2021-08-31T07:16:46.652102Z",
     "start_time": "2021-08-31T07:16:46.218077Z"
    }
   },
   "outputs": [],
   "source": [
    "def list_merger(x):\n",
    "    temp_list.extend(x)\n",
    "\n",
    "temp_list = []\n",
    "\n",
    "train_df['songs'].map(list_merger)\n",
    "\n",
    "unique_songs = list(set(temp_list))\n",
    "\n",
    "num_songs = len(unique_songs)"
   ]
  },
  {
   "cell_type": "code",
   "execution_count": 6,
   "id": "2cd96416",
   "metadata": {
    "ExecuteTime": {
     "end_time": "2021-08-31T07:16:46.757104Z",
     "start_time": "2021-08-31T07:16:46.653102Z"
    }
   },
   "outputs": [],
   "source": [
    "temp_list = []\n",
    "                \n",
    "train_df['tags'].map(list_merger)\n",
    "                    \n",
    "unique_tags = list(set(temp_list))\n",
    "                \n",
    "num_tags = len(unique_tags)"
   ]
  },
  {
   "cell_type": "code",
   "execution_count": 7,
   "id": "415a920e",
   "metadata": {
    "ExecuteTime": {
     "end_time": "2021-08-31T07:16:46.772102Z",
     "start_time": "2021-08-31T07:16:46.758103Z"
    }
   },
   "outputs": [
    {
     "data": {
      "text/plain": [
       "615142"
      ]
     },
     "execution_count": 7,
     "metadata": {},
     "output_type": "execute_result"
    }
   ],
   "source": [
    "num_songs"
   ]
  },
  {
   "cell_type": "code",
   "execution_count": 8,
   "id": "c5f84ede",
   "metadata": {
    "ExecuteTime": {
     "end_time": "2021-08-31T07:16:46.787103Z",
     "start_time": "2021-08-31T07:16:46.773103Z"
    }
   },
   "outputs": [
    {
     "data": {
      "text/plain": [
       "29160"
      ]
     },
     "execution_count": 8,
     "metadata": {},
     "output_type": "execute_result"
    }
   ],
   "source": [
    "num_tags"
   ]
  },
  {
   "cell_type": "code",
   "execution_count": 9,
   "id": "auburn-passion",
   "metadata": {
    "ExecuteTime": {
     "end_time": "2021-08-31T07:16:46.817102Z",
     "start_time": "2021-08-31T07:16:46.811103Z"
    }
   },
   "outputs": [
    {
     "data": {
      "text/plain": [
       "115071"
      ]
     },
     "execution_count": 9,
     "metadata": {},
     "output_type": "execute_result"
    }
   ],
   "source": [
    "num_train = len(train_df)\n",
    "num_train"
   ]
  },
  {
   "cell_type": "markdown",
   "id": "6af49d01",
   "metadata": {},
   "source": [
    "### tag에 id부여"
   ]
  },
  {
   "cell_type": "code",
   "execution_count": 10,
   "id": "886d0d92",
   "metadata": {
    "ExecuteTime": {
     "end_time": "2021-08-31T07:16:46.847102Z",
     "start_time": "2021-08-31T07:16:46.818103Z"
    }
   },
   "outputs": [
    {
     "data": {
      "text/html": [
       "<div>\n",
       "<style scoped>\n",
       "    .dataframe tbody tr th:only-of-type {\n",
       "        vertical-align: middle;\n",
       "    }\n",
       "\n",
       "    .dataframe tbody tr th {\n",
       "        vertical-align: top;\n",
       "    }\n",
       "\n",
       "    .dataframe thead th {\n",
       "        text-align: right;\n",
       "    }\n",
       "</style>\n",
       "<table border=\"1\" class=\"dataframe\">\n",
       "  <thead>\n",
       "    <tr style=\"text-align: right;\">\n",
       "      <th></th>\n",
       "      <th>tags</th>\n",
       "      <th>id</th>\n",
       "      <th>plylst_title</th>\n",
       "      <th>songs</th>\n",
       "      <th>like_cnt</th>\n",
       "      <th>updt_date</th>\n",
       "      <th>tags_cnt</th>\n",
       "      <th>songs_cnt</th>\n",
       "    </tr>\n",
       "  </thead>\n",
       "  <tbody>\n",
       "    <tr>\n",
       "      <th>0</th>\n",
       "      <td>[락]</td>\n",
       "      <td>61281</td>\n",
       "      <td>여행같은 음악</td>\n",
       "      <td>[525514, 129701, 383374, 562083, 297861, 13954...</td>\n",
       "      <td>71</td>\n",
       "      <td>2013-12-19 18:36:19.000</td>\n",
       "      <td>1</td>\n",
       "      <td>19</td>\n",
       "    </tr>\n",
       "    <tr>\n",
       "      <th>1</th>\n",
       "      <td>[추억, 회상]</td>\n",
       "      <td>10532</td>\n",
       "      <td>요즘 너 말야</td>\n",
       "      <td>[432406, 675945, 497066, 120377, 389529, 24427...</td>\n",
       "      <td>1</td>\n",
       "      <td>2014-12-02 16:19:42.000</td>\n",
       "      <td>2</td>\n",
       "      <td>42</td>\n",
       "    </tr>\n",
       "    <tr>\n",
       "      <th>2</th>\n",
       "      <td>[까페, 잔잔한]</td>\n",
       "      <td>76951</td>\n",
       "      <td>편하게, 잔잔하게 들을 수 있는 곡.-</td>\n",
       "      <td>[83116, 276692, 166267, 186301, 354465, 256598...</td>\n",
       "      <td>17</td>\n",
       "      <td>2017-08-28 07:09:34.000</td>\n",
       "      <td>2</td>\n",
       "      <td>28</td>\n",
       "    </tr>\n",
       "    <tr>\n",
       "      <th>3</th>\n",
       "      <td>[연말, 눈오는날, 캐럴, 분위기, 따듯한, 크리스마스캐럴, 겨울노래, 크리스마스,...</td>\n",
       "      <td>147456</td>\n",
       "      <td>크리스마스 분위기에 흠뻑 취하고 싶을때</td>\n",
       "      <td>[394031, 195524, 540149, 287984, 440773, 10033...</td>\n",
       "      <td>33</td>\n",
       "      <td>2019-12-05 15:15:18.000</td>\n",
       "      <td>10</td>\n",
       "      <td>38</td>\n",
       "    </tr>\n",
       "    <tr>\n",
       "      <th>4</th>\n",
       "      <td>[댄스]</td>\n",
       "      <td>27616</td>\n",
       "      <td>추억의 노래 ㅋ</td>\n",
       "      <td>[159327, 553610, 5130, 645103, 294435, 100657,...</td>\n",
       "      <td>9</td>\n",
       "      <td>2011-10-25 13:54:56.000</td>\n",
       "      <td>1</td>\n",
       "      <td>53</td>\n",
       "    </tr>\n",
       "    <tr>\n",
       "      <th>...</th>\n",
       "      <td>...</td>\n",
       "      <td>...</td>\n",
       "      <td>...</td>\n",
       "      <td>...</td>\n",
       "      <td>...</td>\n",
       "      <td>...</td>\n",
       "      <td>...</td>\n",
       "      <td>...</td>\n",
       "    </tr>\n",
       "    <tr>\n",
       "      <th>115066</th>\n",
       "      <td>[록메탈, 밴드사운드, 록, 락메탈, 메탈, 락, extreme]</td>\n",
       "      <td>120325</td>\n",
       "      <td>METAL E'SM #2</td>\n",
       "      <td>[429629, 441511, 612106, 516359, 691768, 38714...</td>\n",
       "      <td>3</td>\n",
       "      <td>2020-04-17 04:31:11.000</td>\n",
       "      <td>7</td>\n",
       "      <td>12</td>\n",
       "    </tr>\n",
       "    <tr>\n",
       "      <th>115067</th>\n",
       "      <td>[일렉]</td>\n",
       "      <td>106976</td>\n",
       "      <td>빠른 리스너를 위한 따끈따끈한 최신 인기 EDM 모음!</td>\n",
       "      <td>[321330, 216057, 534472, 240306, 331098, 23288...</td>\n",
       "      <td>13</td>\n",
       "      <td>2015-12-24 17:23:19.000</td>\n",
       "      <td>1</td>\n",
       "      <td>11</td>\n",
       "    </tr>\n",
       "    <tr>\n",
       "      <th>115068</th>\n",
       "      <td>[담시, 가족, 눈물, 그리움, 주인공, 나의_이야기, 사랑, 친구]</td>\n",
       "      <td>11343</td>\n",
       "      <td>#1. 눈물이 앞을 가리는 나의_이야기</td>\n",
       "      <td>[50512, 249024, 250608, 371171, 229942, 694943...</td>\n",
       "      <td>4</td>\n",
       "      <td>2019-08-16 20:59:22.000</td>\n",
       "      <td>8</td>\n",
       "      <td>11</td>\n",
       "    </tr>\n",
       "    <tr>\n",
       "      <th>115069</th>\n",
       "      <td>[잔잔한, 버스, 퇴근버스, Pop, 풍경, 퇴근길]</td>\n",
       "      <td>131982</td>\n",
       "      <td>퇴근 버스에서 편히 들으면서 하루를 마무리하기에 좋은 POP</td>\n",
       "      <td>[533534, 608114, 343608, 417140, 609009, 30217...</td>\n",
       "      <td>4</td>\n",
       "      <td>2019-10-25 23:40:42.000</td>\n",
       "      <td>6</td>\n",
       "      <td>55</td>\n",
       "    </tr>\n",
       "    <tr>\n",
       "      <th>115070</th>\n",
       "      <td>[노래추천, 팝송추천, 팝송, 팝송모음]</td>\n",
       "      <td>100389</td>\n",
       "      <td>FAVORITE POPSONG!!!</td>\n",
       "      <td>[26008, 456354, 324105, 89871, 135272, 143548,...</td>\n",
       "      <td>17</td>\n",
       "      <td>2020-04-18 20:35:06.000</td>\n",
       "      <td>4</td>\n",
       "      <td>200</td>\n",
       "    </tr>\n",
       "  </tbody>\n",
       "</table>\n",
       "<p>115071 rows × 8 columns</p>\n",
       "</div>"
      ],
      "text/plain": [
       "                                                     tags      id  \\\n",
       "0                                                     [락]   61281   \n",
       "1                                                [추억, 회상]   10532   \n",
       "2                                               [까페, 잔잔한]   76951   \n",
       "3       [연말, 눈오는날, 캐럴, 분위기, 따듯한, 크리스마스캐럴, 겨울노래, 크리스마스,...  147456   \n",
       "4                                                    [댄스]   27616   \n",
       "...                                                   ...     ...   \n",
       "115066               [록메탈, 밴드사운드, 록, 락메탈, 메탈, 락, extreme]  120325   \n",
       "115067                                               [일렉]  106976   \n",
       "115068             [담시, 가족, 눈물, 그리움, 주인공, 나의_이야기, 사랑, 친구]   11343   \n",
       "115069                      [잔잔한, 버스, 퇴근버스, Pop, 풍경, 퇴근길]  131982   \n",
       "115070                             [노래추천, 팝송추천, 팝송, 팝송모음]  100389   \n",
       "\n",
       "                             plylst_title  \\\n",
       "0                                 여행같은 음악   \n",
       "1                                 요즘 너 말야   \n",
       "2                   편하게, 잔잔하게 들을 수 있는 곡.-   \n",
       "3                   크리스마스 분위기에 흠뻑 취하고 싶을때   \n",
       "4                                추억의 노래 ㅋ   \n",
       "...                                   ...   \n",
       "115066                      METAL E'SM #2   \n",
       "115067     빠른 리스너를 위한 따끈따끈한 최신 인기 EDM 모음!   \n",
       "115068              #1. 눈물이 앞을 가리는 나의_이야기   \n",
       "115069  퇴근 버스에서 편히 들으면서 하루를 마무리하기에 좋은 POP   \n",
       "115070                FAVORITE POPSONG!!!   \n",
       "\n",
       "                                                    songs  like_cnt  \\\n",
       "0       [525514, 129701, 383374, 562083, 297861, 13954...        71   \n",
       "1       [432406, 675945, 497066, 120377, 389529, 24427...         1   \n",
       "2       [83116, 276692, 166267, 186301, 354465, 256598...        17   \n",
       "3       [394031, 195524, 540149, 287984, 440773, 10033...        33   \n",
       "4       [159327, 553610, 5130, 645103, 294435, 100657,...         9   \n",
       "...                                                   ...       ...   \n",
       "115066  [429629, 441511, 612106, 516359, 691768, 38714...         3   \n",
       "115067  [321330, 216057, 534472, 240306, 331098, 23288...        13   \n",
       "115068  [50512, 249024, 250608, 371171, 229942, 694943...         4   \n",
       "115069  [533534, 608114, 343608, 417140, 609009, 30217...         4   \n",
       "115070  [26008, 456354, 324105, 89871, 135272, 143548,...        17   \n",
       "\n",
       "                      updt_date  tags_cnt  songs_cnt  \n",
       "0       2013-12-19 18:36:19.000         1         19  \n",
       "1       2014-12-02 16:19:42.000         2         42  \n",
       "2       2017-08-28 07:09:34.000         2         28  \n",
       "3       2019-12-05 15:15:18.000        10         38  \n",
       "4       2011-10-25 13:54:56.000         1         53  \n",
       "...                         ...       ...        ...  \n",
       "115066  2020-04-17 04:31:11.000         7         12  \n",
       "115067  2015-12-24 17:23:19.000         1         11  \n",
       "115068  2019-08-16 20:59:22.000         8         11  \n",
       "115069  2019-10-25 23:40:42.000         6         55  \n",
       "115070  2020-04-18 20:35:06.000         4        200  \n",
       "\n",
       "[115071 rows x 8 columns]"
      ]
     },
     "execution_count": 10,
     "metadata": {},
     "output_type": "execute_result"
    }
   ],
   "source": [
    "train_df"
   ]
  },
  {
   "cell_type": "code",
   "execution_count": 11,
   "id": "f2dd4fe2",
   "metadata": {
    "ExecuteTime": {
     "end_time": "2021-08-31T07:16:46.983102Z",
     "start_time": "2021-08-31T07:16:46.849103Z"
    }
   },
   "outputs": [],
   "source": [
    "# { 태그 : 새로운id } 딕셔너리\n",
    "tag_to_id = {}\n",
    "\n",
    "\n",
    "# { 새로운id : 태그 } 딕셔너리\n",
    "id_to_tag = {}\n",
    "\n",
    "# enumerate 반복 횟수를 이용해서 새로운 id 부여\n",
    "for i,v in enumerate(unique_tags):\n",
    "    id_to_tag[i] = v\n",
    "\n",
    "# id_to_tag의 키 밸류를 반전해서 tag_to_id를 만듦\n",
    "tag_to_id = {v:k for k,v in id_to_tag.items()}\n",
    "\n",
    "\n",
    "# tags를 id로 변환해서 새로운 column을 생성\n",
    "def tag_id_trans(x):\n",
    "    \n",
    "    temp_list = []\n",
    "    \n",
    "    for tag in x:\n",
    "        temp_list.append(tag_to_id[tag])\n",
    "    \n",
    "    return temp_list\n",
    "\n",
    "train_df['tags_id'] = train_df['tags'].map(tag_id_trans)"
   ]
  },
  {
   "cell_type": "code",
   "execution_count": 12,
   "id": "abef6cda",
   "metadata": {
    "ExecuteTime": {
     "end_time": "2021-08-31T07:16:46.998104Z",
     "start_time": "2021-08-31T07:16:46.984104Z"
    }
   },
   "outputs": [
    {
     "data": {
      "text/html": [
       "<div>\n",
       "<style scoped>\n",
       "    .dataframe tbody tr th:only-of-type {\n",
       "        vertical-align: middle;\n",
       "    }\n",
       "\n",
       "    .dataframe tbody tr th {\n",
       "        vertical-align: top;\n",
       "    }\n",
       "\n",
       "    .dataframe thead th {\n",
       "        text-align: right;\n",
       "    }\n",
       "</style>\n",
       "<table border=\"1\" class=\"dataframe\">\n",
       "  <thead>\n",
       "    <tr style=\"text-align: right;\">\n",
       "      <th></th>\n",
       "      <th>tags</th>\n",
       "      <th>id</th>\n",
       "      <th>plylst_title</th>\n",
       "      <th>songs</th>\n",
       "      <th>like_cnt</th>\n",
       "      <th>updt_date</th>\n",
       "      <th>tags_cnt</th>\n",
       "      <th>songs_cnt</th>\n",
       "      <th>tags_id</th>\n",
       "    </tr>\n",
       "  </thead>\n",
       "  <tbody>\n",
       "    <tr>\n",
       "      <th>0</th>\n",
       "      <td>[락]</td>\n",
       "      <td>61281</td>\n",
       "      <td>여행같은 음악</td>\n",
       "      <td>[525514, 129701, 383374, 562083, 297861, 13954...</td>\n",
       "      <td>71</td>\n",
       "      <td>2013-12-19 18:36:19.000</td>\n",
       "      <td>1</td>\n",
       "      <td>19</td>\n",
       "      <td>[15468]</td>\n",
       "    </tr>\n",
       "    <tr>\n",
       "      <th>1</th>\n",
       "      <td>[추억, 회상]</td>\n",
       "      <td>10532</td>\n",
       "      <td>요즘 너 말야</td>\n",
       "      <td>[432406, 675945, 497066, 120377, 389529, 24427...</td>\n",
       "      <td>1</td>\n",
       "      <td>2014-12-02 16:19:42.000</td>\n",
       "      <td>2</td>\n",
       "      <td>42</td>\n",
       "      <td>[15179, 28243]</td>\n",
       "    </tr>\n",
       "    <tr>\n",
       "      <th>2</th>\n",
       "      <td>[까페, 잔잔한]</td>\n",
       "      <td>76951</td>\n",
       "      <td>편하게, 잔잔하게 들을 수 있는 곡.-</td>\n",
       "      <td>[83116, 276692, 166267, 186301, 354465, 256598...</td>\n",
       "      <td>17</td>\n",
       "      <td>2017-08-28 07:09:34.000</td>\n",
       "      <td>2</td>\n",
       "      <td>28</td>\n",
       "      <td>[23324, 28588]</td>\n",
       "    </tr>\n",
       "    <tr>\n",
       "      <th>3</th>\n",
       "      <td>[연말, 눈오는날, 캐럴, 분위기, 따듯한, 크리스마스캐럴, 겨울노래, 크리스마스,...</td>\n",
       "      <td>147456</td>\n",
       "      <td>크리스마스 분위기에 흠뻑 취하고 싶을때</td>\n",
       "      <td>[394031, 195524, 540149, 287984, 440773, 10033...</td>\n",
       "      <td>33</td>\n",
       "      <td>2019-12-05 15:15:18.000</td>\n",
       "      <td>10</td>\n",
       "      <td>38</td>\n",
       "      <td>[5277, 18218, 23700, 7246, 18799, 8558, 7501, ...</td>\n",
       "    </tr>\n",
       "    <tr>\n",
       "      <th>4</th>\n",
       "      <td>[댄스]</td>\n",
       "      <td>27616</td>\n",
       "      <td>추억의 노래 ㅋ</td>\n",
       "      <td>[159327, 553610, 5130, 645103, 294435, 100657,...</td>\n",
       "      <td>9</td>\n",
       "      <td>2011-10-25 13:54:56.000</td>\n",
       "      <td>1</td>\n",
       "      <td>53</td>\n",
       "      <td>[23943]</td>\n",
       "    </tr>\n",
       "  </tbody>\n",
       "</table>\n",
       "</div>"
      ],
      "text/plain": [
       "                                                tags      id  \\\n",
       "0                                                [락]   61281   \n",
       "1                                           [추억, 회상]   10532   \n",
       "2                                          [까페, 잔잔한]   76951   \n",
       "3  [연말, 눈오는날, 캐럴, 분위기, 따듯한, 크리스마스캐럴, 겨울노래, 크리스마스,...  147456   \n",
       "4                                               [댄스]   27616   \n",
       "\n",
       "            plylst_title                                              songs  \\\n",
       "0                여행같은 음악  [525514, 129701, 383374, 562083, 297861, 13954...   \n",
       "1                요즘 너 말야  [432406, 675945, 497066, 120377, 389529, 24427...   \n",
       "2  편하게, 잔잔하게 들을 수 있는 곡.-  [83116, 276692, 166267, 186301, 354465, 256598...   \n",
       "3  크리스마스 분위기에 흠뻑 취하고 싶을때  [394031, 195524, 540149, 287984, 440773, 10033...   \n",
       "4               추억의 노래 ㅋ  [159327, 553610, 5130, 645103, 294435, 100657,...   \n",
       "\n",
       "   like_cnt                updt_date  tags_cnt  songs_cnt  \\\n",
       "0        71  2013-12-19 18:36:19.000         1         19   \n",
       "1         1  2014-12-02 16:19:42.000         2         42   \n",
       "2        17  2017-08-28 07:09:34.000         2         28   \n",
       "3        33  2019-12-05 15:15:18.000        10         38   \n",
       "4         9  2011-10-25 13:54:56.000         1         53   \n",
       "\n",
       "                                             tags_id  \n",
       "0                                            [15468]  \n",
       "1                                     [15179, 28243]  \n",
       "2                                     [23324, 28588]  \n",
       "3  [5277, 18218, 23700, 7246, 18799, 8558, 7501, ...  \n",
       "4                                            [23943]  "
      ]
     },
     "execution_count": 12,
     "metadata": {},
     "output_type": "execute_result"
    }
   ],
   "source": [
    "train_df.head()"
   ]
  },
  {
   "cell_type": "markdown",
   "id": "b6dca795",
   "metadata": {},
   "source": [
    "### 플레이리스트 속 노래들(songs)에게 새로운 id 부여"
   ]
  },
  {
   "cell_type": "code",
   "execution_count": 13,
   "id": "446a9953",
   "metadata": {
    "ExecuteTime": {
     "end_time": "2021-08-31T07:16:48.483126Z",
     "start_time": "2021-08-31T07:16:46.999102Z"
    }
   },
   "outputs": [],
   "source": [
    "# { 노래id : 새로운id } 딕셔너리\n",
    "song_to_id = {}\n",
    "\n",
    "\n",
    "# { 새로운id : 노래id } 딕셔너리\n",
    "id_to_song = {}\n",
    "\n",
    "# enumerate 반복 횟수를 이용해서 새로운 id 부여\n",
    "for i,v in enumerate(unique_songs):\n",
    "    id_to_song[i] = v\n",
    "\n",
    "# id_to_tag의 키 밸류를 반전해서 tag_to_id를 만듦\n",
    "song_to_id = {v:k for k,v in id_to_song.items()}\n",
    "\n",
    "\n",
    "# tags를 id로 변환해서 새로운 column을 생성\n",
    "def song_id_trans(x):\n",
    "    \n",
    "    temp_list = []\n",
    "    \n",
    "    for song in x:\n",
    "        temp_list.append(song_to_id[song])\n",
    "    \n",
    "    return temp_list\n",
    "\n",
    "train_df['new_songs_id'] = train_df['songs'].map(song_id_trans)"
   ]
  },
  {
   "cell_type": "code",
   "execution_count": 14,
   "id": "1dda23c7",
   "metadata": {
    "ExecuteTime": {
     "end_time": "2021-08-31T07:16:48.498130Z",
     "start_time": "2021-08-31T07:16:48.484131Z"
    }
   },
   "outputs": [
    {
     "data": {
      "text/html": [
       "<div>\n",
       "<style scoped>\n",
       "    .dataframe tbody tr th:only-of-type {\n",
       "        vertical-align: middle;\n",
       "    }\n",
       "\n",
       "    .dataframe tbody tr th {\n",
       "        vertical-align: top;\n",
       "    }\n",
       "\n",
       "    .dataframe thead th {\n",
       "        text-align: right;\n",
       "    }\n",
       "</style>\n",
       "<table border=\"1\" class=\"dataframe\">\n",
       "  <thead>\n",
       "    <tr style=\"text-align: right;\">\n",
       "      <th></th>\n",
       "      <th>tags</th>\n",
       "      <th>id</th>\n",
       "      <th>plylst_title</th>\n",
       "      <th>songs</th>\n",
       "      <th>like_cnt</th>\n",
       "      <th>updt_date</th>\n",
       "      <th>tags_cnt</th>\n",
       "      <th>songs_cnt</th>\n",
       "      <th>tags_id</th>\n",
       "      <th>new_songs_id</th>\n",
       "    </tr>\n",
       "  </thead>\n",
       "  <tbody>\n",
       "    <tr>\n",
       "      <th>0</th>\n",
       "      <td>[락]</td>\n",
       "      <td>61281</td>\n",
       "      <td>여행같은 음악</td>\n",
       "      <td>[525514, 129701, 383374, 562083, 297861, 13954...</td>\n",
       "      <td>71</td>\n",
       "      <td>2013-12-19 18:36:19.000</td>\n",
       "      <td>1</td>\n",
       "      <td>19</td>\n",
       "      <td>[15468]</td>\n",
       "      <td>[456704, 112732, 333158, 488440, 258853, 12127...</td>\n",
       "    </tr>\n",
       "    <tr>\n",
       "      <th>1</th>\n",
       "      <td>[추억, 회상]</td>\n",
       "      <td>10532</td>\n",
       "      <td>요즘 너 말야</td>\n",
       "      <td>[432406, 675945, 497066, 120377, 389529, 24427...</td>\n",
       "      <td>1</td>\n",
       "      <td>2014-12-02 16:19:42.000</td>\n",
       "      <td>2</td>\n",
       "      <td>42</td>\n",
       "      <td>[15179, 28243]</td>\n",
       "      <td>[375894, 587314, 431997, 104605, 338568, 21226...</td>\n",
       "    </tr>\n",
       "    <tr>\n",
       "      <th>2</th>\n",
       "      <td>[까페, 잔잔한]</td>\n",
       "      <td>76951</td>\n",
       "      <td>편하게, 잔잔하게 들을 수 있는 곡.-</td>\n",
       "      <td>[83116, 276692, 166267, 186301, 354465, 256598...</td>\n",
       "      <td>17</td>\n",
       "      <td>2017-08-28 07:09:34.000</td>\n",
       "      <td>2</td>\n",
       "      <td>28</td>\n",
       "      <td>[23324, 28588]</td>\n",
       "      <td>[72132, 240434, 144495, 161861, 307991, 222934...</td>\n",
       "    </tr>\n",
       "  </tbody>\n",
       "</table>\n",
       "</div>"
      ],
      "text/plain": [
       "        tags     id           plylst_title  \\\n",
       "0        [락]  61281                여행같은 음악   \n",
       "1   [추억, 회상]  10532                요즘 너 말야   \n",
       "2  [까페, 잔잔한]  76951  편하게, 잔잔하게 들을 수 있는 곡.-   \n",
       "\n",
       "                                               songs  like_cnt  \\\n",
       "0  [525514, 129701, 383374, 562083, 297861, 13954...        71   \n",
       "1  [432406, 675945, 497066, 120377, 389529, 24427...         1   \n",
       "2  [83116, 276692, 166267, 186301, 354465, 256598...        17   \n",
       "\n",
       "                 updt_date  tags_cnt  songs_cnt         tags_id  \\\n",
       "0  2013-12-19 18:36:19.000         1         19         [15468]   \n",
       "1  2014-12-02 16:19:42.000         2         42  [15179, 28243]   \n",
       "2  2017-08-28 07:09:34.000         2         28  [23324, 28588]   \n",
       "\n",
       "                                        new_songs_id  \n",
       "0  [456704, 112732, 333158, 488440, 258853, 12127...  \n",
       "1  [375894, 587314, 431997, 104605, 338568, 21226...  \n",
       "2  [72132, 240434, 144495, 161861, 307991, 222934...  "
      ]
     },
     "execution_count": 14,
     "metadata": {},
     "output_type": "execute_result"
    }
   ],
   "source": [
    "train_df.head(3)"
   ]
  },
  {
   "cell_type": "markdown",
   "id": "e90b0a4d",
   "metadata": {},
   "source": [
    "### 플레이리스트 새로운 id 부여"
   ]
  },
  {
   "cell_type": "code",
   "execution_count": 15,
   "id": "02cd7854",
   "metadata": {
    "ExecuteTime": {
     "end_time": "2021-08-31T07:16:48.513131Z",
     "start_time": "2021-08-31T07:16:48.499131Z"
    }
   },
   "outputs": [],
   "source": [
    "train_df['new_plyst_id'] = train_df.index"
   ]
  },
  {
   "cell_type": "code",
   "execution_count": 16,
   "id": "d56ab21f",
   "metadata": {
    "ExecuteTime": {
     "end_time": "2021-08-31T07:16:49.368129Z",
     "start_time": "2021-08-31T07:16:48.514132Z"
    }
   },
   "outputs": [],
   "source": [
    "id_to_playlist = {}\n",
    "\n",
    "playlist_to_id = {}\n",
    "\n",
    "def mk_dict(x):\n",
    "    \n",
    "    id_to_playlist[x['new_plyst_id']] = x['id']\n",
    "\n",
    "train_df.loc[:,['id','new_plyst_id']].apply(mk_dict,axis=1)\n",
    "\n",
    "playlist_to_id = {v:k for k,v in id_to_playlist.items()}"
   ]
  },
  {
   "cell_type": "code",
   "execution_count": 17,
   "id": "eb9d50cd",
   "metadata": {
    "ExecuteTime": {
     "end_time": "2021-08-31T07:16:49.398130Z",
     "start_time": "2021-08-31T07:16:49.369130Z"
    }
   },
   "outputs": [
    {
     "data": {
      "text/html": [
       "<div>\n",
       "<style scoped>\n",
       "    .dataframe tbody tr th:only-of-type {\n",
       "        vertical-align: middle;\n",
       "    }\n",
       "\n",
       "    .dataframe tbody tr th {\n",
       "        vertical-align: top;\n",
       "    }\n",
       "\n",
       "    .dataframe thead th {\n",
       "        text-align: right;\n",
       "    }\n",
       "</style>\n",
       "<table border=\"1\" class=\"dataframe\">\n",
       "  <thead>\n",
       "    <tr style=\"text-align: right;\">\n",
       "      <th></th>\n",
       "      <th>tags</th>\n",
       "      <th>tags_id</th>\n",
       "      <th>id</th>\n",
       "      <th>new_plyst_id</th>\n",
       "      <th>plylst_title</th>\n",
       "      <th>songs</th>\n",
       "      <th>new_songs_id</th>\n",
       "      <th>tags_cnt</th>\n",
       "      <th>songs_cnt</th>\n",
       "      <th>like_cnt</th>\n",
       "      <th>updt_date</th>\n",
       "    </tr>\n",
       "  </thead>\n",
       "  <tbody>\n",
       "    <tr>\n",
       "      <th>0</th>\n",
       "      <td>[락]</td>\n",
       "      <td>[15468]</td>\n",
       "      <td>61281</td>\n",
       "      <td>0</td>\n",
       "      <td>여행같은 음악</td>\n",
       "      <td>[525514, 129701, 383374, 562083, 297861, 13954...</td>\n",
       "      <td>[456704, 112732, 333158, 488440, 258853, 12127...</td>\n",
       "      <td>1</td>\n",
       "      <td>19</td>\n",
       "      <td>71</td>\n",
       "      <td>2013-12-19 18:36:19.000</td>\n",
       "    </tr>\n",
       "    <tr>\n",
       "      <th>1</th>\n",
       "      <td>[추억, 회상]</td>\n",
       "      <td>[15179, 28243]</td>\n",
       "      <td>10532</td>\n",
       "      <td>1</td>\n",
       "      <td>요즘 너 말야</td>\n",
       "      <td>[432406, 675945, 497066, 120377, 389529, 24427...</td>\n",
       "      <td>[375894, 587314, 431997, 104605, 338568, 21226...</td>\n",
       "      <td>2</td>\n",
       "      <td>42</td>\n",
       "      <td>1</td>\n",
       "      <td>2014-12-02 16:19:42.000</td>\n",
       "    </tr>\n",
       "    <tr>\n",
       "      <th>2</th>\n",
       "      <td>[까페, 잔잔한]</td>\n",
       "      <td>[23324, 28588]</td>\n",
       "      <td>76951</td>\n",
       "      <td>2</td>\n",
       "      <td>편하게, 잔잔하게 들을 수 있는 곡.-</td>\n",
       "      <td>[83116, 276692, 166267, 186301, 354465, 256598...</td>\n",
       "      <td>[72132, 240434, 144495, 161861, 307991, 222934...</td>\n",
       "      <td>2</td>\n",
       "      <td>28</td>\n",
       "      <td>17</td>\n",
       "      <td>2017-08-28 07:09:34.000</td>\n",
       "    </tr>\n",
       "  </tbody>\n",
       "</table>\n",
       "</div>"
      ],
      "text/plain": [
       "        tags         tags_id     id  new_plyst_id           plylst_title  \\\n",
       "0        [락]         [15468]  61281             0                여행같은 음악   \n",
       "1   [추억, 회상]  [15179, 28243]  10532             1                요즘 너 말야   \n",
       "2  [까페, 잔잔한]  [23324, 28588]  76951             2  편하게, 잔잔하게 들을 수 있는 곡.-   \n",
       "\n",
       "                                               songs  \\\n",
       "0  [525514, 129701, 383374, 562083, 297861, 13954...   \n",
       "1  [432406, 675945, 497066, 120377, 389529, 24427...   \n",
       "2  [83116, 276692, 166267, 186301, 354465, 256598...   \n",
       "\n",
       "                                        new_songs_id  tags_cnt  songs_cnt  \\\n",
       "0  [456704, 112732, 333158, 488440, 258853, 12127...         1         19   \n",
       "1  [375894, 587314, 431997, 104605, 338568, 21226...         2         42   \n",
       "2  [72132, 240434, 144495, 161861, 307991, 222934...         2         28   \n",
       "\n",
       "   like_cnt                updt_date  \n",
       "0        71  2013-12-19 18:36:19.000  \n",
       "1         1  2014-12-02 16:19:42.000  \n",
       "2        17  2017-08-28 07:09:34.000  "
      ]
     },
     "execution_count": 17,
     "metadata": {},
     "output_type": "execute_result"
    }
   ],
   "source": [
    "train_df = train_df[['tags','tags_id','id','new_plyst_id','plylst_title','songs','new_songs_id','tags_cnt','songs_cnt','like_cnt','updt_date']]\n",
    "train_df.head(3)"
   ]
  },
  {
   "cell_type": "code",
   "execution_count": 18,
   "id": "bc8355d9",
   "metadata": {
    "ExecuteTime": {
     "end_time": "2021-08-31T07:16:49.413132Z",
     "start_time": "2021-08-31T07:16:49.399131Z"
    }
   },
   "outputs": [
    {
     "data": {
      "text/html": [
       "<div>\n",
       "<style scoped>\n",
       "    .dataframe tbody tr th:only-of-type {\n",
       "        vertical-align: middle;\n",
       "    }\n",
       "\n",
       "    .dataframe tbody tr th {\n",
       "        vertical-align: top;\n",
       "    }\n",
       "\n",
       "    .dataframe thead th {\n",
       "        text-align: right;\n",
       "    }\n",
       "</style>\n",
       "<table border=\"1\" class=\"dataframe\">\n",
       "  <thead>\n",
       "    <tr style=\"text-align: right;\">\n",
       "      <th></th>\n",
       "      <th>태그</th>\n",
       "      <th>태그_id</th>\n",
       "      <th>플리_id</th>\n",
       "      <th>새플리_id</th>\n",
       "      <th>플리제목</th>\n",
       "      <th>노래_id</th>\n",
       "      <th>새노래_id</th>\n",
       "      <th>태그수</th>\n",
       "      <th>노래수</th>\n",
       "      <th>좋아요수</th>\n",
       "      <th>갱신일</th>\n",
       "    </tr>\n",
       "  </thead>\n",
       "  <tbody>\n",
       "    <tr>\n",
       "      <th>0</th>\n",
       "      <td>[락]</td>\n",
       "      <td>[15468]</td>\n",
       "      <td>61281</td>\n",
       "      <td>0</td>\n",
       "      <td>여행같은 음악</td>\n",
       "      <td>[525514, 129701, 383374, 562083, 297861, 13954...</td>\n",
       "      <td>[456704, 112732, 333158, 488440, 258853, 12127...</td>\n",
       "      <td>1</td>\n",
       "      <td>19</td>\n",
       "      <td>71</td>\n",
       "      <td>2013-12-19 18:36:19.000</td>\n",
       "    </tr>\n",
       "    <tr>\n",
       "      <th>1</th>\n",
       "      <td>[추억, 회상]</td>\n",
       "      <td>[15179, 28243]</td>\n",
       "      <td>10532</td>\n",
       "      <td>1</td>\n",
       "      <td>요즘 너 말야</td>\n",
       "      <td>[432406, 675945, 497066, 120377, 389529, 24427...</td>\n",
       "      <td>[375894, 587314, 431997, 104605, 338568, 21226...</td>\n",
       "      <td>2</td>\n",
       "      <td>42</td>\n",
       "      <td>1</td>\n",
       "      <td>2014-12-02 16:19:42.000</td>\n",
       "    </tr>\n",
       "    <tr>\n",
       "      <th>2</th>\n",
       "      <td>[까페, 잔잔한]</td>\n",
       "      <td>[23324, 28588]</td>\n",
       "      <td>76951</td>\n",
       "      <td>2</td>\n",
       "      <td>편하게, 잔잔하게 들을 수 있는 곡.-</td>\n",
       "      <td>[83116, 276692, 166267, 186301, 354465, 256598...</td>\n",
       "      <td>[72132, 240434, 144495, 161861, 307991, 222934...</td>\n",
       "      <td>2</td>\n",
       "      <td>28</td>\n",
       "      <td>17</td>\n",
       "      <td>2017-08-28 07:09:34.000</td>\n",
       "    </tr>\n",
       "  </tbody>\n",
       "</table>\n",
       "</div>"
      ],
      "text/plain": [
       "          태그           태그_id  플리_id  새플리_id                   플리제목  \\\n",
       "0        [락]         [15468]  61281       0                여행같은 음악   \n",
       "1   [추억, 회상]  [15179, 28243]  10532       1                요즘 너 말야   \n",
       "2  [까페, 잔잔한]  [23324, 28588]  76951       2  편하게, 잔잔하게 들을 수 있는 곡.-   \n",
       "\n",
       "                                               노래_id  \\\n",
       "0  [525514, 129701, 383374, 562083, 297861, 13954...   \n",
       "1  [432406, 675945, 497066, 120377, 389529, 24427...   \n",
       "2  [83116, 276692, 166267, 186301, 354465, 256598...   \n",
       "\n",
       "                                              새노래_id  태그수  노래수  좋아요수  \\\n",
       "0  [456704, 112732, 333158, 488440, 258853, 12127...    1   19    71   \n",
       "1  [375894, 587314, 431997, 104605, 338568, 21226...    2   42     1   \n",
       "2  [72132, 240434, 144495, 161861, 307991, 222934...    2   28    17   \n",
       "\n",
       "                       갱신일  \n",
       "0  2013-12-19 18:36:19.000  \n",
       "1  2014-12-02 16:19:42.000  \n",
       "2  2017-08-28 07:09:34.000  "
      ]
     },
     "execution_count": 18,
     "metadata": {},
     "output_type": "execute_result"
    }
   ],
   "source": [
    "train_df.columns = ['태그','태그_id','플리_id','새플리_id','플리제목','노래_id','새노래_id','태그수','노래수','좋아요수','갱신일']\n",
    "train_df.head(3)"
   ]
  },
  {
   "cell_type": "markdown",
   "id": "cdd4042e",
   "metadata": {},
   "source": [
    "### 변수 정리"
   ]
  },
  {
   "cell_type": "markdown",
   "id": "a40736f3",
   "metadata": {},
   "source": [
    "<현재>\n",
    "\n",
    "- num_songs : 중복 제거된 총 노래수 615142\n",
    "- num_tags : 중복 제거된 총 태그수 29160\n",
    "- num_train : 데이터의 총 갯수 115071\n",
    " \n",
    "- tag_to_id : { 태그 : 새로운id } 딕셔너리\n",
    "- id_to_tag : { 새로운id : 태그 } 딕셔너리\n",
    "- song_to_id : { 노래 : 새로운id } 딕셔너리\n",
    "- id_to_song : { 새로운id : 노래 } 딕셔너리\n",
    "- playlist_to_id { 플리id : 새로운id } 딕셔너리 \n",
    "- id_to_playlist { 새로운id : 플리id } 딕셔너리 "
   ]
  },
  {
   "cell_type": "markdown",
   "id": "nervous-mission",
   "metadata": {},
   "source": [
    "# Song_meta에 태그를 넣어 주겠습니다"
   ]
  },
  {
   "cell_type": "code",
   "execution_count": 19,
   "id": "descending-investor",
   "metadata": {
    "ExecuteTime": {
     "end_time": "2021-08-31T07:16:50.133129Z",
     "start_time": "2021-08-31T07:16:49.414132Z"
    }
   },
   "outputs": [],
   "source": [
    "# 노래id에 달린 태그id를 넣을 딕셔너리 초기화\n",
    "sid_tid_dict = {i:[] for i in range(num_songs)}"
   ]
  },
  {
   "cell_type": "code",
   "execution_count": 20,
   "id": "precise-father",
   "metadata": {
    "ExecuteTime": {
     "end_time": "2021-08-31T07:17:04.547942Z",
     "start_time": "2021-08-31T07:16:50.134131Z"
    }
   },
   "outputs": [
    {
     "data": {
      "text/plain": [
       "0         None\n",
       "1         None\n",
       "2         None\n",
       "3         None\n",
       "4         None\n",
       "          ... \n",
       "115066    None\n",
       "115067    None\n",
       "115068    None\n",
       "115069    None\n",
       "115070    None\n",
       "Length: 115071, dtype: object"
      ]
     },
     "execution_count": 20,
     "metadata": {},
     "output_type": "execute_result"
    }
   ],
   "source": [
    "# 태그_id에 달린 장르id들을 list로 넣어주기\n",
    "\n",
    "def songid_multi_tags(x):\n",
    "    \n",
    "    global sid_tid_dict\n",
    "    \n",
    "    for i in x['새노래_id']:\n",
    "        sid_tid_dict[i].extend(x['태그_id'])\n",
    "\n",
    "train_df[['태그_id','새노래_id']].apply(songid_multi_tags,axis=1)"
   ]
  },
  {
   "cell_type": "code",
   "execution_count": 21,
   "id": "specialized-marijuana",
   "metadata": {
    "ExecuteTime": {
     "end_time": "2021-08-31T07:17:06.287941Z",
     "start_time": "2021-08-31T07:17:04.548944Z"
    }
   },
   "outputs": [],
   "source": [
    "# 노래id에 달린 태그를 넣은 딕셔너리\n",
    "sid_tag_dict = {id_to_song[k]:[id_to_tag[v_l]for v_l in v]  for k,v in sid_tid_dict.items()}"
   ]
  },
  {
   "cell_type": "code",
   "execution_count": 22,
   "id": "broadband-canon",
   "metadata": {
    "ExecuteTime": {
     "end_time": "2021-08-31T07:17:09.512941Z",
     "start_time": "2021-08-31T07:17:06.288941Z"
    }
   },
   "outputs": [],
   "source": [
    "# 노래 데이터 프레임에 추가\n",
    "\n",
    "def tag_maker(x):\n",
    "    \n",
    "    if x in sid_tag_dict.keys():\n",
    "        return list(set(sid_tag_dict[x]))[0:3]\n",
    "    else:\n",
    "        return []\n",
    "    \n",
    "def tid_maker(x):\n",
    "    \n",
    "    if x in sid_tid_dict.keys():\n",
    "        return list(set(sid_tid_dict[x]))[0:3]\n",
    "    else:\n",
    "        return []\n",
    "\n",
    "song_df['태그모음'] = song_df['id'].map(tag_maker)\n",
    "song_df['태그_id모음'] = song_df['id'].map(tid_maker)"
   ]
  },
  {
   "cell_type": "code",
   "execution_count": 23,
   "id": "residential-replacement",
   "metadata": {
    "ExecuteTime": {
     "end_time": "2021-08-31T07:17:09.527941Z",
     "start_time": "2021-08-31T07:17:09.513942Z"
    }
   },
   "outputs": [
    {
     "data": {
      "text/html": [
       "<div>\n",
       "<style scoped>\n",
       "    .dataframe tbody tr th:only-of-type {\n",
       "        vertical-align: middle;\n",
       "    }\n",
       "\n",
       "    .dataframe tbody tr th {\n",
       "        vertical-align: top;\n",
       "    }\n",
       "\n",
       "    .dataframe thead th {\n",
       "        text-align: right;\n",
       "    }\n",
       "</style>\n",
       "<table border=\"1\" class=\"dataframe\">\n",
       "  <thead>\n",
       "    <tr style=\"text-align: right;\">\n",
       "      <th></th>\n",
       "      <th>song_gn_dtl_gnr_basket</th>\n",
       "      <th>issue_date</th>\n",
       "      <th>album_name</th>\n",
       "      <th>album_id</th>\n",
       "      <th>artist_id_basket</th>\n",
       "      <th>song_name</th>\n",
       "      <th>song_gn_gnr_basket</th>\n",
       "      <th>artist_name_basket</th>\n",
       "      <th>id</th>\n",
       "      <th>태그모음</th>\n",
       "      <th>태그_id모음</th>\n",
       "    </tr>\n",
       "  </thead>\n",
       "  <tbody>\n",
       "    <tr>\n",
       "      <th>0</th>\n",
       "      <td>[GN0901]</td>\n",
       "      <td>20140512</td>\n",
       "      <td>불후의 명곡 - 7080 추억의 얄개시대 팝송베스트</td>\n",
       "      <td>2255639</td>\n",
       "      <td>[2727]</td>\n",
       "      <td>Feelings</td>\n",
       "      <td>[GN0900]</td>\n",
       "      <td>[Various Artists]</td>\n",
       "      <td>0</td>\n",
       "      <td>[비오는날, 드라이브, 회상]</td>\n",
       "      <td>[22520, 15179, 14195]</td>\n",
       "    </tr>\n",
       "    <tr>\n",
       "      <th>1</th>\n",
       "      <td>[GN1601, GN1606]</td>\n",
       "      <td>20080421</td>\n",
       "      <td>Bach : Partitas Nos. 2, 3 &amp; 4</td>\n",
       "      <td>376431</td>\n",
       "      <td>[29966]</td>\n",
       "      <td>Bach : Partita No. 4 In D Major, BWV 828 - II....</td>\n",
       "      <td>[GN1600]</td>\n",
       "      <td>[Murray Perahia]</td>\n",
       "      <td>1</td>\n",
       "      <td>[]</td>\n",
       "      <td>[2308, 9212, 4621]</td>\n",
       "    </tr>\n",
       "    <tr>\n",
       "      <th>2</th>\n",
       "      <td>[GN0901]</td>\n",
       "      <td>20180518</td>\n",
       "      <td>Hit</td>\n",
       "      <td>4698747</td>\n",
       "      <td>[3361]</td>\n",
       "      <td>Solsbury Hill (Remastered 2002)</td>\n",
       "      <td>[GN0900]</td>\n",
       "      <td>[Peter Gabriel]</td>\n",
       "      <td>2</td>\n",
       "      <td>[]</td>\n",
       "      <td>[12367]</td>\n",
       "    </tr>\n",
       "  </tbody>\n",
       "</table>\n",
       "</div>"
      ],
      "text/plain": [
       "  song_gn_dtl_gnr_basket issue_date                     album_name  album_id  \\\n",
       "0               [GN0901]   20140512   불후의 명곡 - 7080 추억의 얄개시대 팝송베스트   2255639   \n",
       "1       [GN1601, GN1606]   20080421  Bach : Partitas Nos. 2, 3 & 4    376431   \n",
       "2               [GN0901]   20180518                            Hit   4698747   \n",
       "\n",
       "  artist_id_basket                                          song_name  \\\n",
       "0           [2727]                                           Feelings   \n",
       "1          [29966]  Bach : Partita No. 4 In D Major, BWV 828 - II....   \n",
       "2           [3361]                    Solsbury Hill (Remastered 2002)   \n",
       "\n",
       "  song_gn_gnr_basket artist_name_basket  id              태그모음  \\\n",
       "0           [GN0900]  [Various Artists]   0  [비오는날, 드라이브, 회상]   \n",
       "1           [GN1600]   [Murray Perahia]   1                []   \n",
       "2           [GN0900]    [Peter Gabriel]   2                []   \n",
       "\n",
       "                 태그_id모음  \n",
       "0  [22520, 15179, 14195]  \n",
       "1     [2308, 9212, 4621]  \n",
       "2                [12367]  "
      ]
     },
     "execution_count": 23,
     "metadata": {},
     "output_type": "execute_result"
    }
   ],
   "source": [
    "song_df.head(3)"
   ]
  }
 ],
 "metadata": {
  "kernelspec": {
   "display_name": "Python 3",
   "language": "python",
   "name": "python3"
  },
  "language_info": {
   "codemirror_mode": {
    "name": "ipython",
    "version": 3
   },
   "file_extension": ".py",
   "mimetype": "text/x-python",
   "name": "python",
   "nbconvert_exporter": "python",
   "pygments_lexer": "ipython3",
   "version": "3.9.1"
  },
  "toc": {
   "base_numbering": 1,
   "nav_menu": {},
   "number_sections": true,
   "sideBar": true,
   "skip_h1_title": false,
   "title_cell": "Table of Contents",
   "title_sidebar": "Contents",
   "toc_cell": false,
   "toc_position": {},
   "toc_section_display": true,
   "toc_window_display": false
  },
  "varInspector": {
   "cols": {
    "lenName": 16,
    "lenType": 16,
    "lenVar": 40
   },
   "kernels_config": {
    "python": {
     "delete_cmd_postfix": "",
     "delete_cmd_prefix": "del ",
     "library": "var_list.py",
     "varRefreshCmd": "print(var_dic_list())"
    },
    "r": {
     "delete_cmd_postfix": ") ",
     "delete_cmd_prefix": "rm(",
     "library": "var_list.r",
     "varRefreshCmd": "cat(var_dic_list()) "
    }
   },
   "types_to_exclude": [
    "module",
    "function",
    "builtin_function_or_method",
    "instance",
    "_Feature"
   ],
   "window_display": false
  }
 },
 "nbformat": 4,
 "nbformat_minor": 5
}
