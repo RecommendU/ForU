{
 "cells": [
  {
   "cell_type": "code",
   "execution_count": 1,
   "id": "cd4a2838",
   "metadata": {
    "ExecuteTime": {
     "end_time": "2021-09-08T01:48:11.610761Z",
     "start_time": "2021-09-08T01:48:10.563448Z"
    }
   },
   "outputs": [],
   "source": [
    "import os\n",
    "import json\n",
    "import numpy as np\n",
    "import pandas as pd\n",
    "import scipy.sparse as spr"
   ]
  },
  {
   "cell_type": "code",
   "execution_count": 2,
   "id": "d952a31b",
   "metadata": {
    "ExecuteTime": {
     "end_time": "2021-09-08T01:48:13.380907Z",
     "start_time": "2021-09-08T01:48:11.615287Z"
    }
   },
   "outputs": [],
   "source": [
    "with open('data/train.json',encoding='utf-8-sig') as f:\n",
    "    train_dict = json.load(f)\n",
    "\n",
    "train_df = pd.DataFrame.from_dict(train_dict)"
   ]
  },
  {
   "cell_type": "code",
   "execution_count": 3,
   "id": "dce18a1b",
   "metadata": {
    "ExecuteTime": {
     "end_time": "2021-09-08T01:48:13.489036Z",
     "start_time": "2021-09-08T01:48:13.383649Z"
    }
   },
   "outputs": [],
   "source": [
    "from itertools import chain\n",
    "tag_all = list(chain.from_iterable(train_df['tags'].tolist()))\n",
    "tag_unique = set(tag_all)"
   ]
  },
  {
   "cell_type": "code",
   "execution_count": 4,
   "id": "220196f7",
   "metadata": {
    "ExecuteTime": {
     "end_time": "2021-09-08T01:48:13.519409Z",
     "start_time": "2021-09-08T01:48:13.493053Z"
    }
   },
   "outputs": [],
   "source": [
    "id_to_tag = dict(zip(range(len(tag_unique)),tag_unique))\n",
    "tag_to_id = {v:k for k,v in id_to_tag.items()}"
   ]
  },
  {
   "cell_type": "code",
   "execution_count": 5,
   "id": "40c1768d",
   "metadata": {
    "ExecuteTime": {
     "end_time": "2021-09-08T01:48:13.627410Z",
     "start_time": "2021-09-08T01:48:13.521367Z"
    }
   },
   "outputs": [],
   "source": [
    "from collections import Counter\n",
    "tags_count = dict(Counter(list(tag_all)))"
   ]
  },
  {
   "cell_type": "code",
   "execution_count": 6,
   "id": "079fd068",
   "metadata": {
    "ExecuteTime": {
     "end_time": "2021-09-08T01:48:13.643469Z",
     "start_time": "2021-09-08T01:48:13.629994Z"
    }
   },
   "outputs": [],
   "source": [
    "def filter_stop_tag(tags,stop_tags):\n",
    "    \n",
    "    global tag_to_id\n",
    "    global id_to_tag\n",
    "    \n",
    "    stop_sparse = np.zeros(len(tag_unique))\n",
    "    tag_sparse = np.zeros(len(tag_unique))\n",
    "    \n",
    "    stop_ids = [ tag_to_id[tag] for tag in stop_tags ]\n",
    "    for id in stop_ids:\n",
    "        stop_sparse[id] = 1\n",
    "    \n",
    "    tag_ids = [ tag_to_id[tag] for tag in tags ]\n",
    "    for id in tag_ids:\n",
    "        tag_sparse[id] = 1\n",
    "    \n",
    "    fitered_stop = []\n",
    "    \n",
    "    for w, s in zip(stop_sparse, tag_sparse):\n",
    "        fitered_stop.append(w + s)\n",
    "    \n",
    "    filtered_tag = [id_to_tag[i] for i,v in enumerate(fitered_stop) if v > 1]\n",
    "    \n",
    "    filtered_tag =  set(tags) - set(filtered_tag)\n",
    "    \n",
    "    return filtered_tag"
   ]
  },
  {
   "cell_type": "code",
   "execution_count": 7,
   "id": "4995e481",
   "metadata": {
    "ExecuteTime": {
     "end_time": "2021-09-08T01:48:13.674442Z",
     "start_time": "2021-09-08T01:48:13.646855Z"
    }
   },
   "outputs": [],
   "source": [
    "stop_tags = [k for k,v in tags_count.items() if v < 5]\n",
    "tags = ['이일우', '프로필음악', '듣고', '이거', '누군가생각날때','락']"
   ]
  },
  {
   "cell_type": "code",
   "execution_count": 8,
   "id": "41eb3bf7",
   "metadata": {
    "ExecuteTime": {
     "end_time": "2021-09-08T01:48:13.737288Z",
     "start_time": "2021-09-08T01:48:13.676481Z"
    }
   },
   "outputs": [
    {
     "data": {
      "text/plain": [
       "{'락'}"
      ]
     },
     "execution_count": 8,
     "metadata": {},
     "output_type": "execute_result"
    }
   ],
   "source": [
    "filter_stop_tag(tags,stop_tags)"
   ]
  }
 ],
 "metadata": {
  "kernelspec": {
   "display_name": "Python 3 (ipykernel)",
   "language": "python",
   "name": "python3"
  },
  "language_info": {
   "codemirror_mode": {
    "name": "ipython",
    "version": 3
   },
   "file_extension": ".py",
   "mimetype": "text/x-python",
   "name": "python",
   "nbconvert_exporter": "python",
   "pygments_lexer": "ipython3",
   "version": "3.9.6"
  },
  "toc": {
   "base_numbering": 1,
   "nav_menu": {},
   "number_sections": true,
   "sideBar": true,
   "skip_h1_title": false,
   "title_cell": "Table of Contents",
   "title_sidebar": "Contents",
   "toc_cell": false,
   "toc_position": {},
   "toc_section_display": true,
   "toc_window_display": false
  }
 },
 "nbformat": 4,
 "nbformat_minor": 5
}
