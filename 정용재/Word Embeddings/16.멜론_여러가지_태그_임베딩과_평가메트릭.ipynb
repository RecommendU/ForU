{
 "cells": [
  {
   "cell_type": "markdown",
   "id": "09383984",
   "metadata": {},
   "source": [
    "# 필요한 라이브러리 import"
   ]
  },
  {
   "cell_type": "code",
   "execution_count": 91,
   "id": "c5bfe0a3",
   "metadata": {
    "ExecuteTime": {
     "end_time": "2021-11-03T06:30:34.794645Z",
     "start_time": "2021-11-03T06:30:34.772266Z"
    }
   },
   "outputs": [],
   "source": [
    "import os\n",
    "import json\n",
    "import numpy as np\n",
    "import pandas as pd\n",
    "from gensim import corpora\n",
    "from gensim.models import Word2Vec\n",
    "from sklearn.decomposition import TruncatedSVD\n",
    "from scipy import sparse as spr\n",
    "import configparser\n",
    "import pymysql\n",
    "from itertools import chain\n",
    "from collections import defaultdict\n",
    "import hnswlib\n",
    "import warnings\n",
    "import tqdm\n",
    "import pickle\n",
    "import matplotlib.pyplot as plt\n",
    "warnings.filterwarnings(action='ignore')"
   ]
  },
  {
   "cell_type": "markdown",
   "id": "9ae8eb62",
   "metadata": {},
   "source": [
    "# 데이터 로드"
   ]
  },
  {
   "cell_type": "code",
   "execution_count": 92,
   "id": "31d7a997",
   "metadata": {
    "ExecuteTime": {
     "end_time": "2021-11-03T06:30:38.196893Z",
     "start_time": "2021-11-03T06:30:34.797693Z"
    }
   },
   "outputs": [],
   "source": [
    "with open('data/train.json',encoding='utf-8-sig') as f:\n",
    "    train_dict = json.load(f)\n",
    "    \n",
    "train_df = pd.DataFrame.from_dict(train_dict)"
   ]
  },
  {
   "cell_type": "markdown",
   "id": "7f312eb5",
   "metadata": {},
   "source": [
    "# 태그와 id를 맞추기 위한 데이터베이스 연결"
   ]
  },
  {
   "cell_type": "code",
   "execution_count": 93,
   "id": "6f4107a6",
   "metadata": {
    "ExecuteTime": {
     "end_time": "2021-11-03T06:30:38.227782Z",
     "start_time": "2021-11-03T06:30:38.199783Z"
    }
   },
   "outputs": [],
   "source": [
    "# config parser 객체 생성\n",
    "config = configparser.ConfigParser()\n",
    "\n",
    "# parser객체로 config.ini 파일 읽기\n",
    "config.read('config.ini')\n",
    "\n",
    "# 변수저장\n",
    "\n",
    "user = config['DEFAULT']['ADMIN_USER_NAME']\n",
    "passwd = config['DEFAULT']['ADMIN_PASSWORD']\n",
    "host = config['DEFAULT']['RDS_ENDPOINT']\n",
    "port = config['DEFAULT']['PORT']\n",
    "database = config['DEFAULT']['DEFAULT_DATABASE']"
   ]
  },
  {
   "cell_type": "code",
   "execution_count": 94,
   "id": "c1532a14",
   "metadata": {
    "ExecuteTime": {
     "end_time": "2021-11-03T06:30:38.352416Z",
     "start_time": "2021-11-03T06:30:38.230781Z"
    }
   },
   "outputs": [],
   "source": [
    "melon_recom_db = pymysql.connect(\n",
    "    host = host,\n",
    "    user = user,\n",
    "    password = passwd,\n",
    "    database = database,\n",
    "    port = int(port),\n",
    "    cursorclass = pymysql.cursors.DictCursor\n",
    ")"
   ]
  },
  {
   "cell_type": "code",
   "execution_count": 95,
   "id": "7646ef42",
   "metadata": {
    "ExecuteTime": {
     "end_time": "2021-11-03T06:30:38.804834Z",
     "start_time": "2021-11-03T06:30:38.354417Z"
    }
   },
   "outputs": [],
   "source": [
    "melon_cursor = melon_recom_db.cursor()\n",
    "melon_cursor.execute('select * from tag')\n",
    "tag_db_list=melon_cursor.fetchall()"
   ]
  },
  {
   "cell_type": "markdown",
   "id": "5de1509c",
   "metadata": {},
   "source": [
    "# tag 딕셔너리 만들기 "
   ]
  },
  {
   "cell_type": "code",
   "execution_count": 96,
   "id": "71a24f2c",
   "metadata": {
    "ExecuteTime": {
     "end_time": "2021-11-03T06:30:39.025189Z",
     "start_time": "2021-11-03T06:30:38.806153Z"
    }
   },
   "outputs": [],
   "source": [
    "tag_to_id = {}\n",
    "id_to_tag = {}\n",
    "\n",
    "for tag_db in tag_db_list:\n",
    "    tag_to_id[tag_db['tag']] = tag_db['tag_id']\n",
    "    \n",
    "for tag_db in tag_db_list:\n",
    "    id_to_tag[tag_db['tag_id']] = tag_db['tag']\n",
    "    \n",
    "train_df['new_tags_id'] = train_df['tags'].map(lambda x : [tag_to_id[v] for v in x])"
   ]
  },
  {
   "cell_type": "markdown",
   "id": "e83fb22c",
   "metadata": {},
   "source": [
    "# tag 전처리 빈도수로 컷"
   ]
  },
  {
   "cell_type": "code",
   "execution_count": 97,
   "id": "1e8963c5",
   "metadata": {
    "ExecuteTime": {
     "end_time": "2021-11-03T06:30:39.183399Z",
     "start_time": "2021-11-03T06:30:39.028175Z"
    }
   },
   "outputs": [],
   "source": [
    "# train dataframe tag 컬럼의 모든 tag들 (중복포함)\n",
    "tags_all = train_df['tags'].tolist()\n",
    "\n",
    "# 태그의 빈도수를 가진 dict, Counter 써도 됨\n",
    "tags_frequency = defaultdict(int)\n",
    "\n",
    "# 특정 tag가 나올 때마다 1더하기\n",
    "for tags in tags_all:\n",
    "    for tag in tags:\n",
    "        tags_frequency[tag] += 1"
   ]
  },
  {
   "cell_type": "code",
   "execution_count": 98,
   "id": "04c26c2d",
   "metadata": {
    "ExecuteTime": {
     "end_time": "2021-11-03T06:30:39.215385Z",
     "start_time": "2021-11-03T06:30:39.184385Z"
    }
   },
   "outputs": [],
   "source": [
    "tag_freq = pd.DataFrame().from_dict(tags_frequency,orient=\"index\")"
   ]
  },
  {
   "cell_type": "code",
   "execution_count": 99,
   "id": "0e514bd5",
   "metadata": {
    "ExecuteTime": {
     "end_time": "2021-11-03T06:30:39.247384Z",
     "start_time": "2021-11-03T06:30:39.218386Z"
    }
   },
   "outputs": [
    {
     "data": {
      "text/html": [
       "<div>\n",
       "<style scoped>\n",
       "    .dataframe tbody tr th:only-of-type {\n",
       "        vertical-align: middle;\n",
       "    }\n",
       "\n",
       "    .dataframe tbody tr th {\n",
       "        vertical-align: top;\n",
       "    }\n",
       "\n",
       "    .dataframe thead th {\n",
       "        text-align: right;\n",
       "    }\n",
       "</style>\n",
       "<table border=\"1\" class=\"dataframe\">\n",
       "  <thead>\n",
       "    <tr style=\"text-align: right;\">\n",
       "      <th></th>\n",
       "      <th>빈도</th>\n",
       "    </tr>\n",
       "  </thead>\n",
       "  <tbody>\n",
       "    <tr>\n",
       "      <th>락</th>\n",
       "      <td>4007</td>\n",
       "    </tr>\n",
       "    <tr>\n",
       "      <th>추억</th>\n",
       "      <td>6520</td>\n",
       "    </tr>\n",
       "    <tr>\n",
       "      <th>회상</th>\n",
       "      <td>4579</td>\n",
       "    </tr>\n",
       "    <tr>\n",
       "      <th>까페</th>\n",
       "      <td>2856</td>\n",
       "    </tr>\n",
       "    <tr>\n",
       "      <th>잔잔한</th>\n",
       "      <td>10218</td>\n",
       "    </tr>\n",
       "  </tbody>\n",
       "</table>\n",
       "</div>"
      ],
      "text/plain": [
       "        빈도\n",
       "락     4007\n",
       "추억    6520\n",
       "회상    4579\n",
       "까페    2856\n",
       "잔잔한  10218"
      ]
     },
     "execution_count": 99,
     "metadata": {},
     "output_type": "execute_result"
    }
   ],
   "source": [
    "tag_freq.columns=['빈도']\n",
    "tag_freq.head()"
   ]
  },
  {
   "cell_type": "code",
   "execution_count": 100,
   "id": "081461eb",
   "metadata": {
    "ExecuteTime": {
     "end_time": "2021-11-03T06:30:39.295398Z",
     "start_time": "2021-11-03T06:30:39.249386Z"
    }
   },
   "outputs": [
    {
     "data": {
      "text/html": [
       "<div>\n",
       "<style scoped>\n",
       "    .dataframe tbody tr th:only-of-type {\n",
       "        vertical-align: middle;\n",
       "    }\n",
       "\n",
       "    .dataframe tbody tr th {\n",
       "        vertical-align: top;\n",
       "    }\n",
       "\n",
       "    .dataframe thead th {\n",
       "        text-align: right;\n",
       "    }\n",
       "</style>\n",
       "<table border=\"1\" class=\"dataframe\">\n",
       "  <thead>\n",
       "    <tr style=\"text-align: right;\">\n",
       "      <th></th>\n",
       "      <th>빈도</th>\n",
       "    </tr>\n",
       "  </thead>\n",
       "  <tbody>\n",
       "    <tr>\n",
       "      <th>count</th>\n",
       "      <td>29160.000000</td>\n",
       "    </tr>\n",
       "    <tr>\n",
       "      <th>mean</th>\n",
       "      <td>16.335082</td>\n",
       "    </tr>\n",
       "    <tr>\n",
       "      <th>std</th>\n",
       "      <td>247.011075</td>\n",
       "    </tr>\n",
       "    <tr>\n",
       "      <th>min</th>\n",
       "      <td>1.000000</td>\n",
       "    </tr>\n",
       "    <tr>\n",
       "      <th>25%</th>\n",
       "      <td>1.000000</td>\n",
       "    </tr>\n",
       "    <tr>\n",
       "      <th>50%</th>\n",
       "      <td>1.000000</td>\n",
       "    </tr>\n",
       "    <tr>\n",
       "      <th>75%</th>\n",
       "      <td>3.000000</td>\n",
       "    </tr>\n",
       "    <tr>\n",
       "      <th>max</th>\n",
       "      <td>16465.000000</td>\n",
       "    </tr>\n",
       "  </tbody>\n",
       "</table>\n",
       "</div>"
      ],
      "text/plain": [
       "                 빈도\n",
       "count  29160.000000\n",
       "mean      16.335082\n",
       "std      247.011075\n",
       "min        1.000000\n",
       "25%        1.000000\n",
       "50%        1.000000\n",
       "75%        3.000000\n",
       "max    16465.000000"
      ]
     },
     "execution_count": 100,
     "metadata": {},
     "output_type": "execute_result"
    }
   ],
   "source": [
    "tag_freq.describe()"
   ]
  },
  {
   "cell_type": "code",
   "execution_count": 137,
   "id": "781e3e08",
   "metadata": {
    "ExecuteTime": {
     "end_time": "2021-11-03T06:54:20.954572Z",
     "start_time": "2021-11-03T06:54:20.802473Z"
    }
   },
   "outputs": [],
   "source": [
    "# tag 중에 빈도수가 1번 이상 나오고, 플레이리스트 당 tag가 1개 이상인 것들만 포함\n",
    "tags_more_than_one = [[tag for tag in tags if tags_frequency[tag] > 16 ] for tags in tags_all if len(tags) > 1]"
   ]
  },
  {
   "cell_type": "code",
   "execution_count": 145,
   "id": "5a6998ea",
   "metadata": {
    "ExecuteTime": {
     "end_time": "2021-11-03T06:55:56.825128Z",
     "start_time": "2021-11-03T06:55:56.668528Z"
    }
   },
   "outputs": [],
   "source": [
    "def filter_func(x):\n",
    "    temp = []\n",
    "    for tag in x:\n",
    "        if tags_frequency[tag] > 16:\n",
    "            temp.append(tag)\n",
    "        else:\n",
    "            pass\n",
    "    return temp\n",
    "            \n",
    "\n",
    "train_df['tag_mto'] = train_df['tags'].map(filter_func)"
   ]
  },
  {
   "cell_type": "code",
   "execution_count": 151,
   "id": "2c1c7387",
   "metadata": {
    "ExecuteTime": {
     "end_time": "2021-11-03T06:58:26.128842Z",
     "start_time": "2021-11-03T06:58:25.980840Z"
    }
   },
   "outputs": [
    {
     "data": {
      "text/html": [
       "<div>\n",
       "<style scoped>\n",
       "    .dataframe tbody tr th:only-of-type {\n",
       "        vertical-align: middle;\n",
       "    }\n",
       "\n",
       "    .dataframe tbody tr th {\n",
       "        vertical-align: top;\n",
       "    }\n",
       "\n",
       "    .dataframe thead th {\n",
       "        text-align: right;\n",
       "    }\n",
       "</style>\n",
       "<table border=\"1\" class=\"dataframe\">\n",
       "  <thead>\n",
       "    <tr style=\"text-align: right;\">\n",
       "      <th></th>\n",
       "      <th>tags</th>\n",
       "      <th>id</th>\n",
       "      <th>plylst_title</th>\n",
       "      <th>songs</th>\n",
       "      <th>like_cnt</th>\n",
       "      <th>updt_date</th>\n",
       "      <th>new_tags_id</th>\n",
       "      <th>tag_mto</th>\n",
       "      <th>new_tags_mto_id</th>\n",
       "    </tr>\n",
       "  </thead>\n",
       "  <tbody>\n",
       "    <tr>\n",
       "      <th>0</th>\n",
       "      <td>[락]</td>\n",
       "      <td>61281</td>\n",
       "      <td>여행같은 음악</td>\n",
       "      <td>[525514, 129701, 383374, 562083, 297861, 13954...</td>\n",
       "      <td>71</td>\n",
       "      <td>2013-12-19 18:36:19.000</td>\n",
       "      <td>[25304]</td>\n",
       "      <td>[락]</td>\n",
       "      <td>[25304]</td>\n",
       "    </tr>\n",
       "    <tr>\n",
       "      <th>1</th>\n",
       "      <td>[추억, 회상]</td>\n",
       "      <td>10532</td>\n",
       "      <td>요즘 너 말야</td>\n",
       "      <td>[432406, 675945, 497066, 120377, 389529, 24427...</td>\n",
       "      <td>1</td>\n",
       "      <td>2014-12-02 16:19:42.000</td>\n",
       "      <td>[17676, 152]</td>\n",
       "      <td>[추억, 회상]</td>\n",
       "      <td>[17676, 152]</td>\n",
       "    </tr>\n",
       "    <tr>\n",
       "      <th>2</th>\n",
       "      <td>[까페, 잔잔한]</td>\n",
       "      <td>76951</td>\n",
       "      <td>편하게, 잔잔하게 들을 수 있는 곡.-</td>\n",
       "      <td>[83116, 276692, 166267, 186301, 354465, 256598...</td>\n",
       "      <td>17</td>\n",
       "      <td>2017-08-28 07:09:34.000</td>\n",
       "      <td>[21656, 26271]</td>\n",
       "      <td>[까페, 잔잔한]</td>\n",
       "      <td>[21656, 26271]</td>\n",
       "    </tr>\n",
       "    <tr>\n",
       "      <th>3</th>\n",
       "      <td>[연말, 눈오는날, 캐럴, 분위기, 따듯한, 크리스마스캐럴, 겨울노래, 크리스마스,...</td>\n",
       "      <td>147456</td>\n",
       "      <td>크리스마스 분위기에 흠뻑 취하고 싶을때</td>\n",
       "      <td>[394031, 195524, 540149, 287984, 440773, 10033...</td>\n",
       "      <td>33</td>\n",
       "      <td>2019-12-05 15:15:18.000</td>\n",
       "      <td>[19772, 22488, 10907, 19970, 8380, 16144, 2196...</td>\n",
       "      <td>[연말, 눈오는날, 캐럴, 분위기, 따듯한, 겨울노래, 크리스마스, 겨울왕국]</td>\n",
       "      <td>[19772, 22488, 10907, 19970, 8380, 21963, 170,...</td>\n",
       "    </tr>\n",
       "    <tr>\n",
       "      <th>4</th>\n",
       "      <td>[댄스]</td>\n",
       "      <td>27616</td>\n",
       "      <td>추억의 노래 ㅋ</td>\n",
       "      <td>[159327, 553610, 5130, 645103, 294435, 100657,...</td>\n",
       "      <td>9</td>\n",
       "      <td>2011-10-25 13:54:56.000</td>\n",
       "      <td>[13941]</td>\n",
       "      <td>[댄스]</td>\n",
       "      <td>[13941]</td>\n",
       "    </tr>\n",
       "  </tbody>\n",
       "</table>\n",
       "</div>"
      ],
      "text/plain": [
       "                                                tags      id  \\\n",
       "0                                                [락]   61281   \n",
       "1                                           [추억, 회상]   10532   \n",
       "2                                          [까페, 잔잔한]   76951   \n",
       "3  [연말, 눈오는날, 캐럴, 분위기, 따듯한, 크리스마스캐럴, 겨울노래, 크리스마스,...  147456   \n",
       "4                                               [댄스]   27616   \n",
       "\n",
       "            plylst_title                                              songs  \\\n",
       "0                여행같은 음악  [525514, 129701, 383374, 562083, 297861, 13954...   \n",
       "1                요즘 너 말야  [432406, 675945, 497066, 120377, 389529, 24427...   \n",
       "2  편하게, 잔잔하게 들을 수 있는 곡.-  [83116, 276692, 166267, 186301, 354465, 256598...   \n",
       "3  크리스마스 분위기에 흠뻑 취하고 싶을때  [394031, 195524, 540149, 287984, 440773, 10033...   \n",
       "4               추억의 노래 ㅋ  [159327, 553610, 5130, 645103, 294435, 100657,...   \n",
       "\n",
       "   like_cnt                updt_date  \\\n",
       "0        71  2013-12-19 18:36:19.000   \n",
       "1         1  2014-12-02 16:19:42.000   \n",
       "2        17  2017-08-28 07:09:34.000   \n",
       "3        33  2019-12-05 15:15:18.000   \n",
       "4         9  2011-10-25 13:54:56.000   \n",
       "\n",
       "                                         new_tags_id  \\\n",
       "0                                            [25304]   \n",
       "1                                       [17676, 152]   \n",
       "2                                     [21656, 26271]   \n",
       "3  [19772, 22488, 10907, 19970, 8380, 16144, 2196...   \n",
       "4                                            [13941]   \n",
       "\n",
       "                                       tag_mto  \\\n",
       "0                                          [락]   \n",
       "1                                     [추억, 회상]   \n",
       "2                                    [까페, 잔잔한]   \n",
       "3  [연말, 눈오는날, 캐럴, 분위기, 따듯한, 겨울노래, 크리스마스, 겨울왕국]   \n",
       "4                                         [댄스]   \n",
       "\n",
       "                                     new_tags_mto_id  \n",
       "0                                            [25304]  \n",
       "1                                       [17676, 152]  \n",
       "2                                     [21656, 26271]  \n",
       "3  [19772, 22488, 10907, 19970, 8380, 21963, 170,...  \n",
       "4                                            [13941]  "
      ]
     },
     "execution_count": 151,
     "metadata": {},
     "output_type": "execute_result"
    }
   ],
   "source": [
    "train_df['new_tags_mto_id'] = train_df['tag_mto'].map(lambda x : [tag_to_id[v] for v in x])\n",
    "train_df.head(5)"
   ]
  },
  {
   "cell_type": "markdown",
   "id": "200e6f76",
   "metadata": {},
   "source": [
    "# Vectorization with w2v"
   ]
  },
  {
   "cell_type": "code",
   "execution_count": 147,
   "id": "4e450d7f",
   "metadata": {
    "ExecuteTime": {
     "end_time": "2021-11-03T06:56:06.366614Z",
     "start_time": "2021-11-03T06:56:04.678894Z"
    }
   },
   "outputs": [],
   "source": [
    "# 벡터 크기 100으로 해서 window=4 주고 Word2Vec 학습\n",
    "w2v_model = Word2Vec(sentences=train_df['tag_mto'].tolist(),vector_size=100,window=100,min_count=1,workers=4,sg=1)"
   ]
  },
  {
   "cell_type": "code",
   "execution_count": 148,
   "id": "cc85aef1",
   "metadata": {
    "ExecuteTime": {
     "end_time": "2021-11-03T06:56:10.096390Z",
     "start_time": "2021-11-03T06:56:10.083364Z"
    }
   },
   "outputs": [],
   "source": [
    "Word2Vec.save(w2v_model,'./models/w2v_model')"
   ]
  },
  {
   "cell_type": "code",
   "execution_count": 149,
   "id": "9e81acf4",
   "metadata": {
    "ExecuteTime": {
     "end_time": "2021-11-03T06:56:13.783599Z",
     "start_time": "2021-11-03T06:56:13.757578Z"
    }
   },
   "outputs": [],
   "source": [
    "# w2v 모델 불러오기\n",
    "w2v_model = Word2Vec.load('./models/w2v_model')"
   ]
  },
  {
   "cell_type": "code",
   "execution_count": 150,
   "id": "409ebd99",
   "metadata": {
    "ExecuteTime": {
     "end_time": "2021-11-03T06:56:17.458102Z",
     "start_time": "2021-11-03T06:56:17.445098Z"
    }
   },
   "outputs": [
    {
     "data": {
      "text/plain": [
       "[('Crush', 0.8776894807815552),\n",
       " ('딘', 0.8688459992408752),\n",
       " ('지코', 0.8574314117431641),\n",
       " ('DEAN', 0.8524003028869629),\n",
       " ('자이언티', 0.8500043153762817),\n",
       " ('크러쉬', 0.8491696715354919),\n",
       " ('헤이즈', 0.8478885889053345),\n",
       " ('넉살', 0.8439952731132507),\n",
       " ('폴킴', 0.8380653858184814),\n",
       " ('주관적', 0.835231363773346)]"
      ]
     },
     "execution_count": 150,
     "metadata": {},
     "output_type": "execute_result"
    }
   ],
   "source": [
    "# 락과 관련된 태그 10개\n",
    "sims = w2v_model.wv.most_similar(['백예린'], topn=10)\n",
    "sims"
   ]
  },
  {
   "cell_type": "markdown",
   "id": "887a222b",
   "metadata": {},
   "source": [
    "# Vectorization with SVD"
   ]
  },
  {
   "cell_type": "markdown",
   "id": "ecc4df4b",
   "metadata": {},
   "source": [
    "## 희소행렬생성 태그,음악 행렬"
   ]
  },
  {
   "cell_type": "code",
   "execution_count": 13,
   "id": "8b90317f",
   "metadata": {
    "ExecuteTime": {
     "end_time": "2021-11-03T04:29:51.912963Z",
     "start_time": "2021-11-03T04:29:51.356879Z"
    }
   },
   "outputs": [],
   "source": [
    "A = spr.load_npz('./data/tag_song_csr.npz')"
   ]
  },
  {
   "cell_type": "code",
   "execution_count": 14,
   "id": "194afbb5",
   "metadata": {
    "ExecuteTime": {
     "end_time": "2021-11-03T04:29:51.974964Z",
     "start_time": "2021-11-03T04:29:51.914875Z"
    }
   },
   "outputs": [],
   "source": [
    "A = A.astype(float)"
   ]
  },
  {
   "cell_type": "code",
   "execution_count": 15,
   "id": "8b5ba5b3",
   "metadata": {
    "ExecuteTime": {
     "end_time": "2021-11-03T04:29:51.990981Z",
     "start_time": "2021-11-03T04:29:51.976876Z"
    }
   },
   "outputs": [
    {
     "data": {
      "text/plain": [
       "(29160, 707989)"
      ]
     },
     "execution_count": 15,
     "metadata": {},
     "output_type": "execute_result"
    }
   ],
   "source": [
    "A.shape"
   ]
  },
  {
   "cell_type": "code",
   "execution_count": 153,
   "id": "a9ada042",
   "metadata": {
    "ExecuteTime": {
     "end_time": "2021-11-03T06:59:40.814595Z",
     "start_time": "2021-11-03T06:59:38.107678Z"
    }
   },
   "outputs": [],
   "source": [
    "from itertools import repeat\n",
    "\n",
    "row = []\n",
    "col = []\n",
    "dat = []\n",
    "\n",
    "for tags,song_id in zip(train_df['new_tags_mto_id'],train_df['songs']):\n",
    "    for tag in tags:\n",
    "        row.extend(list(repeat(tag,len(song_id))))\n",
    "        col.extend(song_id)\n",
    "        dat.extend(list(repeat(1,len(song_id))))"
   ]
  },
  {
   "cell_type": "code",
   "execution_count": 154,
   "id": "887d40e4",
   "metadata": {
    "ExecuteTime": {
     "end_time": "2021-11-03T07:00:13.629935Z",
     "start_time": "2021-11-03T07:00:07.683888Z"
    }
   },
   "outputs": [],
   "source": [
    "A = spr.csr_matrix((dat, (row, col)), shape=(29160, 707989))"
   ]
  },
  {
   "cell_type": "code",
   "execution_count": 156,
   "id": "267019a6",
   "metadata": {
    "ExecuteTime": {
     "end_time": "2021-11-03T07:00:52.725461Z",
     "start_time": "2021-11-03T07:00:52.678922Z"
    }
   },
   "outputs": [],
   "source": [
    "A = A.astype(float)"
   ]
  },
  {
   "cell_type": "markdown",
   "id": "a727ebe5",
   "metadata": {},
   "source": [
    "## SVD 만들기"
   ]
  },
  {
   "cell_type": "code",
   "execution_count": 157,
   "id": "5b681ab7",
   "metadata": {
    "ExecuteTime": {
     "end_time": "2021-11-03T07:01:36.348537Z",
     "start_time": "2021-11-03T07:01:09.715429Z"
    }
   },
   "outputs": [],
   "source": [
    "u,s,vt = spr.linalg.svds(A,k=100)"
   ]
  },
  {
   "cell_type": "code",
   "execution_count": 158,
   "id": "5acf6a1b",
   "metadata": {
    "ExecuteTime": {
     "end_time": "2021-11-03T07:01:55.314865Z",
     "start_time": "2021-11-03T07:01:55.302867Z"
    }
   },
   "outputs": [],
   "source": [
    "svd_vectors = u"
   ]
  },
  {
   "cell_type": "code",
   "execution_count": 159,
   "id": "6b4c9aa9",
   "metadata": {
    "ExecuteTime": {
     "end_time": "2021-11-03T07:02:15.677881Z",
     "start_time": "2021-11-03T07:02:15.647878Z"
    }
   },
   "outputs": [
    {
     "data": {
      "text/plain": [
       "(29160, 100)"
      ]
     },
     "execution_count": 159,
     "metadata": {},
     "output_type": "execute_result"
    }
   ],
   "source": [
    "svd_vectors.shape"
   ]
  },
  {
   "cell_type": "code",
   "execution_count": 160,
   "id": "3869cc23",
   "metadata": {
    "ExecuteTime": {
     "end_time": "2021-11-03T07:02:33.737435Z",
     "start_time": "2021-11-03T07:02:33.722722Z"
    }
   },
   "outputs": [],
   "source": [
    "data_len,dim = svd_vectors.shape"
   ]
  },
  {
   "cell_type": "code",
   "execution_count": 161,
   "id": "72ef74dd",
   "metadata": {
    "ExecuteTime": {
     "end_time": "2021-11-03T07:02:52.637614Z",
     "start_time": "2021-11-03T07:02:52.623613Z"
    }
   },
   "outputs": [],
   "source": [
    "p = hnswlib.Index(space='cosine', dim=dim)  "
   ]
  },
  {
   "cell_type": "code",
   "execution_count": 162,
   "id": "cc43e5d5",
   "metadata": {
    "ExecuteTime": {
     "end_time": "2021-11-03T07:03:11.392341Z",
     "start_time": "2021-11-03T07:03:11.363302Z"
    }
   },
   "outputs": [],
   "source": [
    "p.init_index(max_elements=data_len, ef_construction=100, M=100)"
   ]
  },
  {
   "cell_type": "code",
   "execution_count": 163,
   "id": "c595a560",
   "metadata": {
    "ExecuteTime": {
     "end_time": "2021-11-03T07:03:48.585369Z",
     "start_time": "2021-11-03T07:03:28.991145Z"
    }
   },
   "outputs": [],
   "source": [
    "p.add_items(svd_vectors,np.arange(data_len))"
   ]
  },
  {
   "cell_type": "code",
   "execution_count": 164,
   "id": "c35ccee7",
   "metadata": {
    "ExecuteTime": {
     "end_time": "2021-11-03T07:04:06.280329Z",
     "start_time": "2021-11-03T07:04:06.192333Z"
    }
   },
   "outputs": [],
   "source": [
    "#pickle.dump(p,'./data/svd_knn_model.pickle')\n",
    "with open('./data/svd_knn_model.pickle', 'wb') as f:\n",
    "    pickle.dump(p,f)"
   ]
  },
  {
   "cell_type": "markdown",
   "id": "a8841d15",
   "metadata": {
    "ExecuteTime": {
     "end_time": "2021-11-03T04:30:13.479464Z",
     "start_time": "2021-11-03T04:30:13.372444Z"
    }
   },
   "source": [
    "with open('./data/svd_knn_model.pickle', 'rb') as f:\n",
    "    p = pickle.load(f)"
   ]
  },
  {
   "cell_type": "code",
   "execution_count": 21,
   "id": "9883ad60",
   "metadata": {
    "ExecuteTime": {
     "end_time": "2021-11-03T04:30:13.495444Z",
     "start_time": "2021-11-03T04:30:13.481443Z"
    }
   },
   "outputs": [
    {
     "data": {
      "text/plain": [
       "(3113, 10095)"
      ]
     },
     "execution_count": 21,
     "metadata": {},
     "output_type": "execute_result"
    }
   ],
   "source": [
    "tag_to_id['백예린'] , tag_to_id['아이유']"
   ]
  },
  {
   "cell_type": "code",
   "execution_count": 165,
   "id": "ec3fc94d",
   "metadata": {
    "ExecuteTime": {
     "end_time": "2021-11-03T07:04:25.150992Z",
     "start_time": "2021-11-03T07:04:25.139989Z"
    }
   },
   "outputs": [
    {
     "data": {
      "text/plain": [
       "array([-1.18716269e-02,  8.52625424e-03, -2.90227060e-03, -1.60118010e-02,\n",
       "        3.19737582e-03,  1.74909994e-02, -4.37572772e-03, -6.04426009e-03,\n",
       "       -6.76970216e-03, -2.86884851e-03,  3.66130285e-03, -2.59979279e-03,\n",
       "        9.70578285e-03, -2.39198710e-03,  1.05910212e-02,  3.51443472e-03,\n",
       "       -1.03440406e-04, -1.26130641e-02,  2.82887292e-03,  1.06785371e-02,\n",
       "        6.55941492e-03, -1.80890384e-03, -4.04610329e-03,  2.60053013e-03,\n",
       "        1.19107603e-03,  1.10479948e-03,  3.01075158e-03,  2.98518575e-03,\n",
       "       -1.47336950e-04, -2.22012590e-03,  1.91433071e-03, -8.74203348e-03,\n",
       "       -3.40751100e-03, -2.58391611e-03,  1.07083377e-02, -2.50993529e-03,\n",
       "        6.37875185e-03, -4.22030118e-03,  4.27163367e-03,  1.55716935e-03,\n",
       "       -6.59646890e-04,  1.76368120e-04, -5.92747226e-03, -3.13774583e-03,\n",
       "        9.29140454e-04, -4.16523053e-03,  1.76529584e-03,  5.00906698e-04,\n",
       "        4.55927277e-03, -6.24603202e-04, -4.29213230e-03,  2.86331909e-03,\n",
       "        2.21578242e-03, -1.19693931e-03, -1.95890004e-04, -3.50168160e-03,\n",
       "        4.87246614e-04, -2.75434047e-03, -2.27836025e-03, -1.36556352e-03,\n",
       "       -1.34955083e-03, -4.51755655e-03, -2.12983053e-03, -9.30176119e-04,\n",
       "       -5.28362073e-04, -1.63098529e-03,  6.42091806e-04, -9.16758897e-04,\n",
       "       -1.09269346e-04, -9.31820962e-04,  2.49589719e-03,  2.09219720e-04,\n",
       "        2.45257760e-03, -1.03603163e-03,  3.29881016e-03,  1.64449847e-04,\n",
       "        3.07957381e-04, -1.10121144e-03,  4.44082647e-05, -4.63101371e-04,\n",
       "       -1.64896543e-03,  1.38322676e-03, -1.28195116e-04, -3.29903639e-03,\n",
       "        1.19098658e-03, -8.31358054e-04, -4.20842630e-04,  1.43396215e-03,\n",
       "        2.17741889e-03, -1.50770073e-04,  8.63754982e-04,  1.38059825e-03,\n",
       "        1.10856963e-03,  9.19407101e-04, -2.29793404e-04, -1.18299951e-03,\n",
       "       -1.00247036e-03, -3.88562703e-04,  7.93898058e-04, -5.48883265e-04])"
      ]
     },
     "execution_count": 165,
     "metadata": {},
     "output_type": "execute_result"
    }
   ],
   "source": [
    "svd_vectors[3113]"
   ]
  },
  {
   "cell_type": "raw",
   "id": "7d55aa6b",
   "metadata": {
    "ExecuteTime": {
     "end_time": "2021-11-03T04:30:13.527443Z",
     "start_time": "2021-11-03T04:30:13.512444Z"
    }
   },
   "source": [
    "labels, distances = p.knn_query((svd_vectors[3113] + svd_vectors[10095])/2, k = 11)\n",
    "print(labels, distances)"
   ]
  },
  {
   "cell_type": "code",
   "execution_count": 167,
   "id": "c68629e6",
   "metadata": {
    "ExecuteTime": {
     "end_time": "2021-11-03T07:05:28.114653Z",
     "start_time": "2021-11-03T07:05:28.100642Z"
    }
   },
   "outputs": [
    {
     "name": "stdout",
     "output_type": "stream",
     "text": [
      "[[ 3113 25025 12585 25071 18914  1895 25923 13182  5641 22457 14498]] [[-2.3841858e-07  3.4221452e-01  3.7780726e-01  4.0097880e-01\n",
      "   4.0919149e-01  4.2138457e-01  4.3166775e-01  4.3826419e-01\n",
      "   4.5196521e-01  4.5440799e-01  4.6365178e-01]]\n"
     ]
    }
   ],
   "source": [
    "labels, distances = p.knn_query(svd_vectors[3113], k = 11)\n",
    "print(labels, distances)"
   ]
  },
  {
   "cell_type": "code",
   "execution_count": 168,
   "id": "cb0f050a",
   "metadata": {
    "ExecuteTime": {
     "end_time": "2021-11-03T07:05:49.997736Z",
     "start_time": "2021-11-03T07:05:49.972732Z"
    }
   },
   "outputs": [
    {
     "data": {
      "text/plain": [
       "['음색깡패', '고막여친', '조용한음악', '여자솔로', '여성보컬', '자이언티', '국내', '여자가수', '여자보컬', '그루비한']"
      ]
     },
     "execution_count": 168,
     "metadata": {},
     "output_type": "execute_result"
    }
   ],
   "source": [
    "#id_to_tag[24585]\n",
    "\n",
    "[id_to_tag[x] for x in labels[0][1:]]"
   ]
  },
  {
   "cell_type": "code",
   "execution_count": 169,
   "id": "2e21103e",
   "metadata": {
    "ExecuteTime": {
     "end_time": "2021-11-03T07:07:48.915061Z",
     "start_time": "2021-11-03T07:07:48.855141Z"
    }
   },
   "outputs": [],
   "source": [
    "train_df['tag_cnt'] = train_df['tags'].map(len)"
   ]
  },
  {
   "cell_type": "code",
   "execution_count": 175,
   "id": "b55b85a9",
   "metadata": {
    "ExecuteTime": {
     "end_time": "2021-11-03T07:10:36.700483Z",
     "start_time": "2021-11-03T07:10:36.642485Z"
    }
   },
   "outputs": [],
   "source": [
    "origin_tags = train_df[train_df['tag_cnt']>9]['tag_mto'].tolist()\n",
    "\n",
    "train_tags = []\n",
    "test_tags = []\n",
    "\n",
    "for tags in origin_tags:\n",
    "\n",
    "    train_tags.append(tags[:5])\n",
    "    test_tags.append(tags[5:])"
   ]
  },
  {
   "cell_type": "code",
   "execution_count": 176,
   "id": "67ef6150",
   "metadata": {
    "ExecuteTime": {
     "end_time": "2021-11-03T07:10:54.486155Z",
     "start_time": "2021-11-03T07:10:54.442157Z"
    }
   },
   "outputs": [
    {
     "data": {
      "text/html": [
       "<div>\n",
       "<style scoped>\n",
       "    .dataframe tbody tr th:only-of-type {\n",
       "        vertical-align: middle;\n",
       "    }\n",
       "\n",
       "    .dataframe tbody tr th {\n",
       "        vertical-align: top;\n",
       "    }\n",
       "\n",
       "    .dataframe thead th {\n",
       "        text-align: right;\n",
       "    }\n",
       "</style>\n",
       "<table border=\"1\" class=\"dataframe\">\n",
       "  <thead>\n",
       "    <tr style=\"text-align: right;\">\n",
       "      <th></th>\n",
       "      <th>태그원본</th>\n",
       "      <th>예측용태그</th>\n",
       "      <th>검증용태그</th>\n",
       "      <th>w2v_예측결과</th>\n",
       "      <th>svd_예측결과</th>\n",
       "      <th>w2v_히트</th>\n",
       "      <th>svd_히트</th>\n",
       "    </tr>\n",
       "  </thead>\n",
       "  <tbody>\n",
       "    <tr>\n",
       "      <th>0</th>\n",
       "      <td>[연말, 눈오는날, 캐럴, 분위기, 따듯한, 겨울노래, 크리스마스, 겨울왕국]</td>\n",
       "      <td>NaN</td>\n",
       "      <td>NaN</td>\n",
       "      <td>NaN</td>\n",
       "      <td>NaN</td>\n",
       "      <td>NaN</td>\n",
       "      <td>NaN</td>\n",
       "    </tr>\n",
       "    <tr>\n",
       "      <th>1</th>\n",
       "      <td>[운동, 드라이브, Pop, 트로피컬하우스, 힐링, 기분전환, 2017, 팝, 트렌...</td>\n",
       "      <td>NaN</td>\n",
       "      <td>NaN</td>\n",
       "      <td>NaN</td>\n",
       "      <td>NaN</td>\n",
       "      <td>NaN</td>\n",
       "      <td>NaN</td>\n",
       "    </tr>\n",
       "    <tr>\n",
       "      <th>2</th>\n",
       "      <td>[새해, 여행, 기분전환]</td>\n",
       "      <td>NaN</td>\n",
       "      <td>NaN</td>\n",
       "      <td>NaN</td>\n",
       "      <td>NaN</td>\n",
       "      <td>NaN</td>\n",
       "      <td>NaN</td>\n",
       "    </tr>\n",
       "    <tr>\n",
       "      <th>3</th>\n",
       "      <td>[여름, 일렉트로니카, 매장음악, 취향저격, 댄스, 드라이브, 여행, 기분전환, 일...</td>\n",
       "      <td>NaN</td>\n",
       "      <td>NaN</td>\n",
       "      <td>NaN</td>\n",
       "      <td>NaN</td>\n",
       "      <td>NaN</td>\n",
       "      <td>NaN</td>\n",
       "    </tr>\n",
       "    <tr>\n",
       "      <th>4</th>\n",
       "      <td>[헬스, 스포츠, 피트니스, 운동, 다이어트, 런닝, 필라테스, 산책, 요가]</td>\n",
       "      <td>NaN</td>\n",
       "      <td>NaN</td>\n",
       "      <td>NaN</td>\n",
       "      <td>NaN</td>\n",
       "      <td>NaN</td>\n",
       "      <td>NaN</td>\n",
       "    </tr>\n",
       "  </tbody>\n",
       "</table>\n",
       "</div>"
      ],
      "text/plain": [
       "                                                태그원본 예측용태그 검증용태그 w2v_예측결과  \\\n",
       "0        [연말, 눈오는날, 캐럴, 분위기, 따듯한, 겨울노래, 크리스마스, 겨울왕국]   NaN   NaN      NaN   \n",
       "1  [운동, 드라이브, Pop, 트로피컬하우스, 힐링, 기분전환, 2017, 팝, 트렌...   NaN   NaN      NaN   \n",
       "2                                     [새해, 여행, 기분전환]   NaN   NaN      NaN   \n",
       "3  [여름, 일렉트로니카, 매장음악, 취향저격, 댄스, 드라이브, 여행, 기분전환, 일...   NaN   NaN      NaN   \n",
       "4        [헬스, 스포츠, 피트니스, 운동, 다이어트, 런닝, 필라테스, 산책, 요가]   NaN   NaN      NaN   \n",
       "\n",
       "  svd_예측결과 w2v_히트 svd_히트  \n",
       "0      NaN    NaN    NaN  \n",
       "1      NaN    NaN    NaN  \n",
       "2      NaN    NaN    NaN  \n",
       "3      NaN    NaN    NaN  \n",
       "4      NaN    NaN    NaN  "
      ]
     },
     "execution_count": 176,
     "metadata": {},
     "output_type": "execute_result"
    }
   ],
   "source": [
    "cal_tag_hit_df = pd.DataFrame(columns=['태그원본','예측용태그','검증용태그','w2v_예측결과','svd_예측결과','w2v_히트','svd_히트'])\n",
    "cal_tag_hit_df['태그원본'] = origin_tags\n",
    "cal_tag_hit_df.head()"
   ]
  },
  {
   "cell_type": "code",
   "execution_count": 177,
   "id": "61b3440b",
   "metadata": {
    "ExecuteTime": {
     "end_time": "2021-11-03T07:11:14.149247Z",
     "start_time": "2021-11-03T07:11:14.088246Z"
    }
   },
   "outputs": [
    {
     "data": {
      "text/html": [
       "<div>\n",
       "<style scoped>\n",
       "    .dataframe tbody tr th:only-of-type {\n",
       "        vertical-align: middle;\n",
       "    }\n",
       "\n",
       "    .dataframe tbody tr th {\n",
       "        vertical-align: top;\n",
       "    }\n",
       "\n",
       "    .dataframe thead th {\n",
       "        text-align: right;\n",
       "    }\n",
       "</style>\n",
       "<table border=\"1\" class=\"dataframe\">\n",
       "  <thead>\n",
       "    <tr style=\"text-align: right;\">\n",
       "      <th></th>\n",
       "      <th>태그원본</th>\n",
       "      <th>예측용태그</th>\n",
       "      <th>검증용태그</th>\n",
       "      <th>w2v_예측결과</th>\n",
       "      <th>svd_예측결과</th>\n",
       "      <th>w2v_히트</th>\n",
       "      <th>svd_히트</th>\n",
       "    </tr>\n",
       "  </thead>\n",
       "  <tbody>\n",
       "    <tr>\n",
       "      <th>0</th>\n",
       "      <td>[연말, 눈오는날, 캐럴, 분위기, 따듯한, 겨울노래, 크리스마스, 겨울왕국]</td>\n",
       "      <td>[연말, 눈오는날, 캐럴, 분위기, 따듯한]</td>\n",
       "      <td>[겨울노래, 크리스마스, 겨울왕국]</td>\n",
       "      <td>NaN</td>\n",
       "      <td>NaN</td>\n",
       "      <td>NaN</td>\n",
       "      <td>NaN</td>\n",
       "    </tr>\n",
       "    <tr>\n",
       "      <th>1</th>\n",
       "      <td>[운동, 드라이브, Pop, 트로피컬하우스, 힐링, 기분전환, 2017, 팝, 트렌...</td>\n",
       "      <td>[운동, 드라이브, Pop, 트로피컬하우스, 힐링]</td>\n",
       "      <td>[기분전환, 2017, 팝, 트렌드, 일렉]</td>\n",
       "      <td>NaN</td>\n",
       "      <td>NaN</td>\n",
       "      <td>NaN</td>\n",
       "      <td>NaN</td>\n",
       "    </tr>\n",
       "    <tr>\n",
       "      <th>2</th>\n",
       "      <td>[새해, 여행, 기분전환]</td>\n",
       "      <td>[새해, 여행, 기분전환]</td>\n",
       "      <td>[]</td>\n",
       "      <td>NaN</td>\n",
       "      <td>NaN</td>\n",
       "      <td>NaN</td>\n",
       "      <td>NaN</td>\n",
       "    </tr>\n",
       "    <tr>\n",
       "      <th>3</th>\n",
       "      <td>[여름, 일렉트로니카, 매장음악, 취향저격, 댄스, 드라이브, 여행, 기분전환, 일...</td>\n",
       "      <td>[여름, 일렉트로니카, 매장음악, 취향저격, 댄스]</td>\n",
       "      <td>[드라이브, 여행, 기분전환, 일렉, 신나는]</td>\n",
       "      <td>NaN</td>\n",
       "      <td>NaN</td>\n",
       "      <td>NaN</td>\n",
       "      <td>NaN</td>\n",
       "    </tr>\n",
       "    <tr>\n",
       "      <th>4</th>\n",
       "      <td>[헬스, 스포츠, 피트니스, 운동, 다이어트, 런닝, 필라테스, 산책, 요가]</td>\n",
       "      <td>[헬스, 스포츠, 피트니스, 운동, 다이어트]</td>\n",
       "      <td>[런닝, 필라테스, 산책, 요가]</td>\n",
       "      <td>NaN</td>\n",
       "      <td>NaN</td>\n",
       "      <td>NaN</td>\n",
       "      <td>NaN</td>\n",
       "    </tr>\n",
       "    <tr>\n",
       "      <th>...</th>\n",
       "      <td>...</td>\n",
       "      <td>...</td>\n",
       "      <td>...</td>\n",
       "      <td>...</td>\n",
       "      <td>...</td>\n",
       "      <td>...</td>\n",
       "      <td>...</td>\n",
       "    </tr>\n",
       "    <tr>\n",
       "      <th>12570</th>\n",
       "      <td>[출근길, 노동요, 연주곡, 카페, 매장, 모닝콜, 휴식, 피아노, 쌀쌀한, 아침]</td>\n",
       "      <td>[출근길, 노동요, 연주곡, 카페, 매장]</td>\n",
       "      <td>[모닝콜, 휴식, 피아노, 쌀쌀한, 아침]</td>\n",
       "      <td>NaN</td>\n",
       "      <td>NaN</td>\n",
       "      <td>NaN</td>\n",
       "      <td>NaN</td>\n",
       "    </tr>\n",
       "    <tr>\n",
       "      <th>12571</th>\n",
       "      <td>[감성, 잔잔한, 취향저격, 팝송음악, Pop, 휴식, 팝송, 기분전환, 힐링, 신나는]</td>\n",
       "      <td>[감성, 잔잔한, 취향저격, 팝송음악, Pop]</td>\n",
       "      <td>[휴식, 팝송, 기분전환, 힐링, 신나는]</td>\n",
       "      <td>NaN</td>\n",
       "      <td>NaN</td>\n",
       "      <td>NaN</td>\n",
       "      <td>NaN</td>\n",
       "    </tr>\n",
       "    <tr>\n",
       "      <th>12572</th>\n",
       "      <td>[감성, 발라드, 드라이브, 댄스, 추억, 이별노래, 기분전환, 추천노래, 옛날노래]</td>\n",
       "      <td>[감성, 발라드, 드라이브, 댄스, 추억]</td>\n",
       "      <td>[이별노래, 기분전환, 추천노래, 옛날노래]</td>\n",
       "      <td>NaN</td>\n",
       "      <td>NaN</td>\n",
       "      <td>NaN</td>\n",
       "      <td>NaN</td>\n",
       "    </tr>\n",
       "    <tr>\n",
       "      <th>12573</th>\n",
       "      <td>[클럽, 홍대, 운동, 열정, EDM, 20대, 라운지, 느낌, 일렉]</td>\n",
       "      <td>[클럽, 홍대, 운동, 열정, EDM]</td>\n",
       "      <td>[20대, 라운지, 느낌, 일렉]</td>\n",
       "      <td>NaN</td>\n",
       "      <td>NaN</td>\n",
       "      <td>NaN</td>\n",
       "      <td>NaN</td>\n",
       "    </tr>\n",
       "    <tr>\n",
       "      <th>12574</th>\n",
       "      <td>[일렉트로니카, 운동, 에너지, 드라이브, EDM, 기분전환, 파티, 기분업, 하우...</td>\n",
       "      <td>[일렉트로니카, 운동, 에너지, 드라이브, EDM]</td>\n",
       "      <td>[기분전환, 파티, 기분업, 하우스, 신나는]</td>\n",
       "      <td>NaN</td>\n",
       "      <td>NaN</td>\n",
       "      <td>NaN</td>\n",
       "      <td>NaN</td>\n",
       "    </tr>\n",
       "  </tbody>\n",
       "</table>\n",
       "<p>12575 rows × 7 columns</p>\n",
       "</div>"
      ],
      "text/plain": [
       "                                                    태그원본  \\\n",
       "0            [연말, 눈오는날, 캐럴, 분위기, 따듯한, 겨울노래, 크리스마스, 겨울왕국]   \n",
       "1      [운동, 드라이브, Pop, 트로피컬하우스, 힐링, 기분전환, 2017, 팝, 트렌...   \n",
       "2                                         [새해, 여행, 기분전환]   \n",
       "3      [여름, 일렉트로니카, 매장음악, 취향저격, 댄스, 드라이브, 여행, 기분전환, 일...   \n",
       "4            [헬스, 스포츠, 피트니스, 운동, 다이어트, 런닝, 필라테스, 산책, 요가]   \n",
       "...                                                  ...   \n",
       "12570     [출근길, 노동요, 연주곡, 카페, 매장, 모닝콜, 휴식, 피아노, 쌀쌀한, 아침]   \n",
       "12571  [감성, 잔잔한, 취향저격, 팝송음악, Pop, 휴식, 팝송, 기분전환, 힐링, 신나는]   \n",
       "12572    [감성, 발라드, 드라이브, 댄스, 추억, 이별노래, 기분전환, 추천노래, 옛날노래]   \n",
       "12573            [클럽, 홍대, 운동, 열정, EDM, 20대, 라운지, 느낌, 일렉]   \n",
       "12574  [일렉트로니카, 운동, 에너지, 드라이브, EDM, 기분전환, 파티, 기분업, 하우...   \n",
       "\n",
       "                              예측용태그                      검증용태그 w2v_예측결과  \\\n",
       "0          [연말, 눈오는날, 캐럴, 분위기, 따듯한]        [겨울노래, 크리스마스, 겨울왕국]      NaN   \n",
       "1      [운동, 드라이브, Pop, 트로피컬하우스, 힐링]   [기분전환, 2017, 팝, 트렌드, 일렉]      NaN   \n",
       "2                    [새해, 여행, 기분전환]                         []      NaN   \n",
       "3      [여름, 일렉트로니카, 매장음악, 취향저격, 댄스]  [드라이브, 여행, 기분전환, 일렉, 신나는]      NaN   \n",
       "4         [헬스, 스포츠, 피트니스, 운동, 다이어트]         [런닝, 필라테스, 산책, 요가]      NaN   \n",
       "...                             ...                        ...      ...   \n",
       "12570       [출근길, 노동요, 연주곡, 카페, 매장]    [모닝콜, 휴식, 피아노, 쌀쌀한, 아침]      NaN   \n",
       "12571    [감성, 잔잔한, 취향저격, 팝송음악, Pop]    [휴식, 팝송, 기분전환, 힐링, 신나는]      NaN   \n",
       "12572       [감성, 발라드, 드라이브, 댄스, 추억]   [이별노래, 기분전환, 추천노래, 옛날노래]      NaN   \n",
       "12573         [클럽, 홍대, 운동, 열정, EDM]         [20대, 라운지, 느낌, 일렉]      NaN   \n",
       "12574  [일렉트로니카, 운동, 에너지, 드라이브, EDM]  [기분전환, 파티, 기분업, 하우스, 신나는]      NaN   \n",
       "\n",
       "      svd_예측결과 w2v_히트 svd_히트  \n",
       "0          NaN    NaN    NaN  \n",
       "1          NaN    NaN    NaN  \n",
       "2          NaN    NaN    NaN  \n",
       "3          NaN    NaN    NaN  \n",
       "4          NaN    NaN    NaN  \n",
       "...        ...    ...    ...  \n",
       "12570      NaN    NaN    NaN  \n",
       "12571      NaN    NaN    NaN  \n",
       "12572      NaN    NaN    NaN  \n",
       "12573      NaN    NaN    NaN  \n",
       "12574      NaN    NaN    NaN  \n",
       "\n",
       "[12575 rows x 7 columns]"
      ]
     },
     "execution_count": 177,
     "metadata": {},
     "output_type": "execute_result"
    }
   ],
   "source": [
    "cal_tag_hit_df['예측용태그'] = train_tags\n",
    "cal_tag_hit_df['검증용태그'] = test_tags\n",
    "cal_tag_hit_df"
   ]
  },
  {
   "cell_type": "code",
   "execution_count": 178,
   "id": "d40cef51",
   "metadata": {
    "ExecuteTime": {
     "end_time": "2021-11-03T07:11:33.811878Z",
     "start_time": "2021-11-03T07:11:33.797880Z"
    }
   },
   "outputs": [],
   "source": [
    "def tag_wv2(x):\n",
    "    sims = w2v_model.wv.most_similar(x, topn=10)\n",
    "    return [x[0] for x in sims]"
   ]
  },
  {
   "cell_type": "code",
   "execution_count": 179,
   "id": "916f3ade",
   "metadata": {
    "ExecuteTime": {
     "end_time": "2021-11-03T07:11:50.683933Z",
     "start_time": "2021-11-03T07:11:50.562235Z"
    }
   },
   "outputs": [
    {
     "ename": "ValueError",
     "evalue": "cannot compute similarity with no input",
     "output_type": "error",
     "traceback": [
      "\u001b[1;31m---------------------------------------------------------------------------\u001b[0m",
      "\u001b[1;31mValueError\u001b[0m                                Traceback (most recent call last)",
      "\u001b[1;32m~\\AppData\\Local\\Temp/ipykernel_10064/1061158346.py\u001b[0m in \u001b[0;36m<module>\u001b[1;34m\u001b[0m\n\u001b[1;32m----> 1\u001b[1;33m \u001b[0mcal_tag_hit_df\u001b[0m\u001b[1;33m[\u001b[0m\u001b[1;34m'w2v_예측결과'\u001b[0m\u001b[1;33m]\u001b[0m \u001b[1;33m=\u001b[0m \u001b[0mcal_tag_hit_df\u001b[0m\u001b[1;33m[\u001b[0m\u001b[1;34m'예측용태그'\u001b[0m\u001b[1;33m]\u001b[0m\u001b[1;33m.\u001b[0m\u001b[0mmap\u001b[0m\u001b[1;33m(\u001b[0m\u001b[0mtag_wv2\u001b[0m\u001b[1;33m)\u001b[0m\u001b[1;33m\u001b[0m\u001b[1;33m\u001b[0m\u001b[0m\n\u001b[0m\u001b[0;32m      2\u001b[0m \u001b[0mcal_tag_hit_df\u001b[0m\u001b[1;33m.\u001b[0m\u001b[0mhead\u001b[0m\u001b[1;33m(\u001b[0m\u001b[1;33m)\u001b[0m\u001b[1;33m\u001b[0m\u001b[1;33m\u001b[0m\u001b[0m\n",
      "\u001b[1;32mc:\\users\\mkitl\\appdata\\local\\programs\\python\\python39\\lib\\site-packages\\pandas\\core\\series.py\u001b[0m in \u001b[0;36mmap\u001b[1;34m(self, arg, na_action)\u001b[0m\n\u001b[0;32m   4159\u001b[0m         \u001b[0mdtype\u001b[0m\u001b[1;33m:\u001b[0m \u001b[0mobject\u001b[0m\u001b[1;33m\u001b[0m\u001b[1;33m\u001b[0m\u001b[0m\n\u001b[0;32m   4160\u001b[0m         \"\"\"\n\u001b[1;32m-> 4161\u001b[1;33m         \u001b[0mnew_values\u001b[0m \u001b[1;33m=\u001b[0m \u001b[0msuper\u001b[0m\u001b[1;33m(\u001b[0m\u001b[1;33m)\u001b[0m\u001b[1;33m.\u001b[0m\u001b[0m_map_values\u001b[0m\u001b[1;33m(\u001b[0m\u001b[0marg\u001b[0m\u001b[1;33m,\u001b[0m \u001b[0mna_action\u001b[0m\u001b[1;33m=\u001b[0m\u001b[0mna_action\u001b[0m\u001b[1;33m)\u001b[0m\u001b[1;33m\u001b[0m\u001b[1;33m\u001b[0m\u001b[0m\n\u001b[0m\u001b[0;32m   4162\u001b[0m         return self._constructor(new_values, index=self.index).__finalize__(\n\u001b[0;32m   4163\u001b[0m             \u001b[0mself\u001b[0m\u001b[1;33m,\u001b[0m \u001b[0mmethod\u001b[0m\u001b[1;33m=\u001b[0m\u001b[1;34m\"map\"\u001b[0m\u001b[1;33m\u001b[0m\u001b[1;33m\u001b[0m\u001b[0m\n",
      "\u001b[1;32mc:\\users\\mkitl\\appdata\\local\\programs\\python\\python39\\lib\\site-packages\\pandas\\core\\base.py\u001b[0m in \u001b[0;36m_map_values\u001b[1;34m(self, mapper, na_action)\u001b[0m\n\u001b[0;32m    868\u001b[0m \u001b[1;33m\u001b[0m\u001b[0m\n\u001b[0;32m    869\u001b[0m         \u001b[1;31m# mapper is a function\u001b[0m\u001b[1;33m\u001b[0m\u001b[1;33m\u001b[0m\u001b[1;33m\u001b[0m\u001b[0m\n\u001b[1;32m--> 870\u001b[1;33m         \u001b[0mnew_values\u001b[0m \u001b[1;33m=\u001b[0m \u001b[0mmap_f\u001b[0m\u001b[1;33m(\u001b[0m\u001b[0mvalues\u001b[0m\u001b[1;33m,\u001b[0m \u001b[0mmapper\u001b[0m\u001b[1;33m)\u001b[0m\u001b[1;33m\u001b[0m\u001b[1;33m\u001b[0m\u001b[0m\n\u001b[0m\u001b[0;32m    871\u001b[0m \u001b[1;33m\u001b[0m\u001b[0m\n\u001b[0;32m    872\u001b[0m         \u001b[1;32mreturn\u001b[0m \u001b[0mnew_values\u001b[0m\u001b[1;33m\u001b[0m\u001b[1;33m\u001b[0m\u001b[0m\n",
      "\u001b[1;32mc:\\users\\mkitl\\appdata\\local\\programs\\python\\python39\\lib\\site-packages\\pandas\\_libs\\lib.pyx\u001b[0m in \u001b[0;36mpandas._libs.lib.map_infer\u001b[1;34m()\u001b[0m\n",
      "\u001b[1;32m~\\AppData\\Local\\Temp/ipykernel_10064/4252911658.py\u001b[0m in \u001b[0;36mtag_wv2\u001b[1;34m(x)\u001b[0m\n\u001b[0;32m      1\u001b[0m \u001b[1;32mdef\u001b[0m \u001b[0mtag_wv2\u001b[0m\u001b[1;33m(\u001b[0m\u001b[0mx\u001b[0m\u001b[1;33m)\u001b[0m\u001b[1;33m:\u001b[0m\u001b[1;33m\u001b[0m\u001b[1;33m\u001b[0m\u001b[0m\n\u001b[1;32m----> 2\u001b[1;33m     \u001b[0msims\u001b[0m \u001b[1;33m=\u001b[0m \u001b[0mw2v_model\u001b[0m\u001b[1;33m.\u001b[0m\u001b[0mwv\u001b[0m\u001b[1;33m.\u001b[0m\u001b[0mmost_similar\u001b[0m\u001b[1;33m(\u001b[0m\u001b[0mx\u001b[0m\u001b[1;33m,\u001b[0m \u001b[0mtopn\u001b[0m\u001b[1;33m=\u001b[0m\u001b[1;36m10\u001b[0m\u001b[1;33m)\u001b[0m\u001b[1;33m\u001b[0m\u001b[1;33m\u001b[0m\u001b[0m\n\u001b[0m\u001b[0;32m      3\u001b[0m     \u001b[1;32mreturn\u001b[0m \u001b[1;33m[\u001b[0m\u001b[0mx\u001b[0m\u001b[1;33m[\u001b[0m\u001b[1;36m0\u001b[0m\u001b[1;33m]\u001b[0m \u001b[1;32mfor\u001b[0m \u001b[0mx\u001b[0m \u001b[1;32min\u001b[0m \u001b[0msims\u001b[0m\u001b[1;33m]\u001b[0m\u001b[1;33m\u001b[0m\u001b[1;33m\u001b[0m\u001b[0m\n",
      "\u001b[1;32mc:\\users\\mkitl\\appdata\\local\\programs\\python\\python39\\lib\\site-packages\\gensim\\models\\keyedvectors.py\u001b[0m in \u001b[0;36mmost_similar\u001b[1;34m(self, positive, negative, topn, clip_start, clip_end, restrict_vocab, indexer)\u001b[0m\n\u001b[0;32m    764\u001b[0m                     \u001b[0mall_keys\u001b[0m\u001b[1;33m.\u001b[0m\u001b[0madd\u001b[0m\u001b[1;33m(\u001b[0m\u001b[0mself\u001b[0m\u001b[1;33m.\u001b[0m\u001b[0mget_index\u001b[0m\u001b[1;33m(\u001b[0m\u001b[0mkey\u001b[0m\u001b[1;33m)\u001b[0m\u001b[1;33m)\u001b[0m\u001b[1;33m\u001b[0m\u001b[1;33m\u001b[0m\u001b[0m\n\u001b[0;32m    765\u001b[0m         \u001b[1;32mif\u001b[0m \u001b[1;32mnot\u001b[0m \u001b[0mmean\u001b[0m\u001b[1;33m:\u001b[0m\u001b[1;33m\u001b[0m\u001b[1;33m\u001b[0m\u001b[0m\n\u001b[1;32m--> 766\u001b[1;33m             \u001b[1;32mraise\u001b[0m \u001b[0mValueError\u001b[0m\u001b[1;33m(\u001b[0m\u001b[1;34m\"cannot compute similarity with no input\"\u001b[0m\u001b[1;33m)\u001b[0m\u001b[1;33m\u001b[0m\u001b[1;33m\u001b[0m\u001b[0m\n\u001b[0m\u001b[0;32m    767\u001b[0m         \u001b[0mmean\u001b[0m \u001b[1;33m=\u001b[0m \u001b[0mmatutils\u001b[0m\u001b[1;33m.\u001b[0m\u001b[0munitvec\u001b[0m\u001b[1;33m(\u001b[0m\u001b[0marray\u001b[0m\u001b[1;33m(\u001b[0m\u001b[0mmean\u001b[0m\u001b[1;33m)\u001b[0m\u001b[1;33m.\u001b[0m\u001b[0mmean\u001b[0m\u001b[1;33m(\u001b[0m\u001b[0maxis\u001b[0m\u001b[1;33m=\u001b[0m\u001b[1;36m0\u001b[0m\u001b[1;33m)\u001b[0m\u001b[1;33m)\u001b[0m\u001b[1;33m.\u001b[0m\u001b[0mastype\u001b[0m\u001b[1;33m(\u001b[0m\u001b[0mREAL\u001b[0m\u001b[1;33m)\u001b[0m\u001b[1;33m\u001b[0m\u001b[1;33m\u001b[0m\u001b[0m\n\u001b[0;32m    768\u001b[0m \u001b[1;33m\u001b[0m\u001b[0m\n",
      "\u001b[1;31mValueError\u001b[0m: cannot compute similarity with no input"
     ]
    }
   ],
   "source": [
    "cal_tag_hit_df['w2v_예측결과'] = cal_tag_hit_df['예측용태그'].map(tag_wv2)\n",
    "cal_tag_hit_df.head()"
   ]
  },
  {
   "cell_type": "code",
   "execution_count": 63,
   "id": "6e4f89cc",
   "metadata": {
    "ExecuteTime": {
     "end_time": "2021-11-03T04:35:28.109610Z",
     "start_time": "2021-11-03T04:35:28.097612Z"
    }
   },
   "outputs": [],
   "source": [
    "def tag_svd(x):\n",
    "    target_ids = [tag_to_id[t] for t in x]\n",
    "    \n",
    "    vectors = np.zeros((100,1))\n",
    "    \n",
    "    for id in target_ids:\n",
    "        vectors = vectors+svd_vectors[id]\n",
    "    \n",
    "    labels, distances = p.knn_query(vectors/len(target_ids), k = 11)\n",
    "    \n",
    "    ids = [l for l in labels[0][1:]]\n",
    "    \n",
    "    return [id_to_tag[tag] for tag in ids]"
   ]
  },
  {
   "cell_type": "code",
   "execution_count": 64,
   "id": "8229231a",
   "metadata": {
    "ExecuteTime": {
     "end_time": "2021-11-03T04:35:55.447643Z",
     "start_time": "2021-11-03T04:35:28.111612Z"
    }
   },
   "outputs": [
    {
     "data": {
      "text/html": [
       "<div>\n",
       "<style scoped>\n",
       "    .dataframe tbody tr th:only-of-type {\n",
       "        vertical-align: middle;\n",
       "    }\n",
       "\n",
       "    .dataframe tbody tr th {\n",
       "        vertical-align: top;\n",
       "    }\n",
       "\n",
       "    .dataframe thead th {\n",
       "        text-align: right;\n",
       "    }\n",
       "</style>\n",
       "<table border=\"1\" class=\"dataframe\">\n",
       "  <thead>\n",
       "    <tr style=\"text-align: right;\">\n",
       "      <th></th>\n",
       "      <th>태그원본</th>\n",
       "      <th>예측용태그</th>\n",
       "      <th>검증용태그</th>\n",
       "      <th>w2v_예측결과</th>\n",
       "      <th>svd_예측결과</th>\n",
       "      <th>w2v_히트</th>\n",
       "      <th>svd_히트</th>\n",
       "    </tr>\n",
       "  </thead>\n",
       "  <tbody>\n",
       "    <tr>\n",
       "      <th>0</th>\n",
       "      <td>[연말, 눈오는날, 캐럴, 분위기, 따듯한, 크리스마스캐럴, 겨울노래, 크리스마스,...</td>\n",
       "      <td>[연말, 눈오는날, 캐럴, 분위기, 따듯한]</td>\n",
       "      <td>[크리스마스캐럴, 겨울노래, 크리스마스, 겨울왕국, 크리스마스송]</td>\n",
       "      <td>[추운날, 춥다, 12월, 훈훈한, 찬바람, 한겨울, 추위, 겨울감성, 첫눈, 추운날씨]</td>\n",
       "      <td>[혼술남녀, 하석진, 여름밤바다, 멜팅, 레전드째즈보컬, 브라스팝, 블라디보스톡, ...</td>\n",
       "      <td>NaN</td>\n",
       "      <td>NaN</td>\n",
       "    </tr>\n",
       "    <tr>\n",
       "      <th>1</th>\n",
       "      <td>[운동, 드라이브, Pop, 트로피컬하우스, 힐링, 기분전환, 2017, 팝, 트렌...</td>\n",
       "      <td>[운동, 드라이브, Pop, 트로피컬하우스, 힐링]</td>\n",
       "      <td>[기분전환, 2017, 팝, 트렌드, 일렉]</td>\n",
       "      <td>[YOLO, 팝송을, 팝송음악, 미디엄템포, popmusic, 신나고, 팝뮤직, 카...</td>\n",
       "      <td>[김래원, 이광수, 편안히잠잘수있는클래식, 머리가맑아지는클래식, 우리아이피아노클래식...</td>\n",
       "      <td>NaN</td>\n",
       "      <td>NaN</td>\n",
       "    </tr>\n",
       "    <tr>\n",
       "      <th>2</th>\n",
       "      <td>[새해, 여행, 프로필음악, 카카오톡, 기분전환, 소원, 프로필, 소망, 다짐, 카톡]</td>\n",
       "      <td>[새해, 여행, 프로필음악, 카카오톡, 기분전환]</td>\n",
       "      <td>[소원, 프로필, 소망, 다짐, 카톡]</td>\n",
       "      <td>[기분좋게, 프로필, 가볍게들을수있는곡, 최신음악, 발걸음, 흥얼흥얼, 연초, 즐거...</td>\n",
       "      <td>[비행기, 프로여행러, 아프리카청춘이다, 동남아, 아이슬란드, 출국, 즉흥, 유럽,...</td>\n",
       "      <td>NaN</td>\n",
       "      <td>NaN</td>\n",
       "    </tr>\n",
       "    <tr>\n",
       "      <th>3</th>\n",
       "      <td>[여름, 일렉트로니카, 매장음악, 취향저격, 댄스, 드라이브, 여행, 기분전환, 일...</td>\n",
       "      <td>[여름, 일렉트로니카, 매장음악, 취향저격, 댄스]</td>\n",
       "      <td>[드라이브, 여행, 기분전환, 일렉, 신나는]</td>\n",
       "      <td>[취항저격, YOLO, 해외일렉트로니카, 미디엄템포, 놀자, 트로피컬, 신나고, 매...</td>\n",
       "      <td>[딥하우스, 하우스, 일렉트로팝, 내적런웨이, 감각적비트, deephouse, 패피...</td>\n",
       "      <td>NaN</td>\n",
       "      <td>NaN</td>\n",
       "    </tr>\n",
       "    <tr>\n",
       "      <th>4</th>\n",
       "      <td>[헬스, 스포츠, 피트니스, 운동, 다이어트, 런닝, 레깅스, 필라테스, 산책, 요가]</td>\n",
       "      <td>[헬스, 스포츠, 피트니스, 운동, 다이어트]</td>\n",
       "      <td>[런닝, 레깅스, 필라테스, 산책, 요가]</td>\n",
       "      <td>[런닝, 조깅, 달리기, 유산소, 웨이트, 몸매, 홈트, 헬스장, 휘트니스, 살빼기...</td>\n",
       "      <td>[헬스, 다이어트, 런닝, 런닝머신, 헬스장, 운동, 운동할때듣는음악, 버닝, 달리...</td>\n",
       "      <td>NaN</td>\n",
       "      <td>NaN</td>\n",
       "    </tr>\n",
       "  </tbody>\n",
       "</table>\n",
       "</div>"
      ],
      "text/plain": [
       "                                                태그원본  \\\n",
       "0  [연말, 눈오는날, 캐럴, 분위기, 따듯한, 크리스마스캐럴, 겨울노래, 크리스마스,...   \n",
       "1  [운동, 드라이브, Pop, 트로피컬하우스, 힐링, 기분전환, 2017, 팝, 트렌...   \n",
       "2   [새해, 여행, 프로필음악, 카카오톡, 기분전환, 소원, 프로필, 소망, 다짐, 카톡]   \n",
       "3  [여름, 일렉트로니카, 매장음악, 취향저격, 댄스, 드라이브, 여행, 기분전환, 일...   \n",
       "4   [헬스, 스포츠, 피트니스, 운동, 다이어트, 런닝, 레깅스, 필라테스, 산책, 요가]   \n",
       "\n",
       "                          예측용태그                                 검증용태그  \\\n",
       "0      [연말, 눈오는날, 캐럴, 분위기, 따듯한]  [크리스마스캐럴, 겨울노래, 크리스마스, 겨울왕국, 크리스마스송]   \n",
       "1  [운동, 드라이브, Pop, 트로피컬하우스, 힐링]              [기분전환, 2017, 팝, 트렌드, 일렉]   \n",
       "2   [새해, 여행, 프로필음악, 카카오톡, 기분전환]                 [소원, 프로필, 소망, 다짐, 카톡]   \n",
       "3  [여름, 일렉트로니카, 매장음악, 취향저격, 댄스]             [드라이브, 여행, 기분전환, 일렉, 신나는]   \n",
       "4     [헬스, 스포츠, 피트니스, 운동, 다이어트]               [런닝, 레깅스, 필라테스, 산책, 요가]   \n",
       "\n",
       "                                            w2v_예측결과  \\\n",
       "0  [추운날, 춥다, 12월, 훈훈한, 찬바람, 한겨울, 추위, 겨울감성, 첫눈, 추운날씨]   \n",
       "1  [YOLO, 팝송을, 팝송음악, 미디엄템포, popmusic, 신나고, 팝뮤직, 카...   \n",
       "2  [기분좋게, 프로필, 가볍게들을수있는곡, 최신음악, 발걸음, 흥얼흥얼, 연초, 즐거...   \n",
       "3  [취항저격, YOLO, 해외일렉트로니카, 미디엄템포, 놀자, 트로피컬, 신나고, 매...   \n",
       "4  [런닝, 조깅, 달리기, 유산소, 웨이트, 몸매, 홈트, 헬스장, 휘트니스, 살빼기...   \n",
       "\n",
       "                                            svd_예측결과 w2v_히트 svd_히트  \n",
       "0  [혼술남녀, 하석진, 여름밤바다, 멜팅, 레전드째즈보컬, 브라스팝, 블라디보스톡, ...    NaN    NaN  \n",
       "1  [김래원, 이광수, 편안히잠잘수있는클래식, 머리가맑아지는클래식, 우리아이피아노클래식...    NaN    NaN  \n",
       "2  [비행기, 프로여행러, 아프리카청춘이다, 동남아, 아이슬란드, 출국, 즉흥, 유럽,...    NaN    NaN  \n",
       "3  [딥하우스, 하우스, 일렉트로팝, 내적런웨이, 감각적비트, deephouse, 패피...    NaN    NaN  \n",
       "4  [헬스, 다이어트, 런닝, 런닝머신, 헬스장, 운동, 운동할때듣는음악, 버닝, 달리...    NaN    NaN  "
      ]
     },
     "execution_count": 64,
     "metadata": {},
     "output_type": "execute_result"
    }
   ],
   "source": [
    "cal_tag_hit_df['svd_예측결과'] = cal_tag_hit_df['예측용태그'].map(tag_svd)\n",
    "cal_tag_hit_df.head()"
   ]
  },
  {
   "cell_type": "code",
   "execution_count": 65,
   "id": "6650697c",
   "metadata": {
    "ExecuteTime": {
     "end_time": "2021-11-03T04:35:55.463646Z",
     "start_time": "2021-11-03T04:35:55.449644Z"
    }
   },
   "outputs": [],
   "source": [
    "val_tag = cal_tag_hit_df['검증용태그'].tolist()\n",
    "w2v_tag = cal_tag_hit_df['w2v_예측결과'].tolist()\n",
    "svd_tag = cal_tag_hit_df['svd_예측결과'].tolist()"
   ]
  },
  {
   "cell_type": "code",
   "execution_count": 66,
   "id": "5ed70d52",
   "metadata": {
    "ExecuteTime": {
     "end_time": "2021-11-03T04:35:55.511644Z",
     "start_time": "2021-11-03T04:35:55.467646Z"
    }
   },
   "outputs": [
    {
     "data": {
      "text/plain": [
       "[0, 0, 1, 0, 1]"
      ]
     },
     "execution_count": 66,
     "metadata": {},
     "output_type": "execute_result"
    }
   ],
   "source": [
    "w2v_hit = []\n",
    "\n",
    "for val,w2v in zip(val_tag,w2v_tag):\n",
    "    if len(val) == len(set(val)-set(w2v)):\n",
    "        w2v_hit.append(0)\n",
    "    else:\n",
    "        w2v_hit.append(1)\n",
    "        \n",
    "w2v_hit[:5]"
   ]
  },
  {
   "cell_type": "code",
   "execution_count": 67,
   "id": "e26fd484",
   "metadata": {
    "ExecuteTime": {
     "end_time": "2021-11-03T04:35:55.653662Z",
     "start_time": "2021-11-03T04:35:55.513645Z"
    }
   },
   "outputs": [
    {
     "data": {
      "text/plain": [
       "[0, 0, 0, 0, 1]"
      ]
     },
     "execution_count": 67,
     "metadata": {},
     "output_type": "execute_result"
    }
   ],
   "source": [
    "svd_hit = []\n",
    "\n",
    "for val,svd in zip(val_tag,svd_tag):\n",
    "    if len(val) == len(set(val)-set(svd)):\n",
    "        svd_hit.append(0)\n",
    "    else:\n",
    "        svd_hit.append(1)\n",
    "             \n",
    "svd_hit[:5]"
   ]
  },
  {
   "cell_type": "code",
   "execution_count": 68,
   "id": "dfa5139c",
   "metadata": {
    "ExecuteTime": {
     "end_time": "2021-11-03T04:35:55.669647Z",
     "start_time": "2021-11-03T04:35:55.655645Z"
    }
   },
   "outputs": [],
   "source": [
    "sum(w2v_hit)\n",
    "\n",
    "cal_tag_hit_df['w2v_히트'] = w2v_hit"
   ]
  },
  {
   "cell_type": "code",
   "execution_count": 69,
   "id": "aab3e3ee",
   "metadata": {
    "ExecuteTime": {
     "end_time": "2021-11-03T04:35:55.781642Z",
     "start_time": "2021-11-03T04:35:55.672644Z"
    }
   },
   "outputs": [],
   "source": [
    "sum(svd_hit)\n",
    "\n",
    "cal_tag_hit_df['svd_히트'] = svd_hit"
   ]
  },
  {
   "cell_type": "code",
   "execution_count": 70,
   "id": "6d4c82a5",
   "metadata": {
    "ExecuteTime": {
     "end_time": "2021-11-03T04:35:55.813643Z",
     "start_time": "2021-11-03T04:35:55.784642Z"
    }
   },
   "outputs": [
    {
     "data": {
      "text/html": [
       "<div>\n",
       "<style scoped>\n",
       "    .dataframe tbody tr th:only-of-type {\n",
       "        vertical-align: middle;\n",
       "    }\n",
       "\n",
       "    .dataframe tbody tr th {\n",
       "        vertical-align: top;\n",
       "    }\n",
       "\n",
       "    .dataframe thead th {\n",
       "        text-align: right;\n",
       "    }\n",
       "</style>\n",
       "<table border=\"1\" class=\"dataframe\">\n",
       "  <thead>\n",
       "    <tr style=\"text-align: right;\">\n",
       "      <th></th>\n",
       "      <th>태그원본</th>\n",
       "      <th>예측용태그</th>\n",
       "      <th>검증용태그</th>\n",
       "      <th>w2v_예측결과</th>\n",
       "      <th>svd_예측결과</th>\n",
       "      <th>w2v_히트</th>\n",
       "      <th>svd_히트</th>\n",
       "    </tr>\n",
       "  </thead>\n",
       "  <tbody>\n",
       "    <tr>\n",
       "      <th>0</th>\n",
       "      <td>[연말, 눈오는날, 캐럴, 분위기, 따듯한, 크리스마스캐럴, 겨울노래, 크리스마스,...</td>\n",
       "      <td>[연말, 눈오는날, 캐럴, 분위기, 따듯한]</td>\n",
       "      <td>[크리스마스캐럴, 겨울노래, 크리스마스, 겨울왕국, 크리스마스송]</td>\n",
       "      <td>[추운날, 춥다, 12월, 훈훈한, 찬바람, 한겨울, 추위, 겨울감성, 첫눈, 추운날씨]</td>\n",
       "      <td>[혼술남녀, 하석진, 여름밤바다, 멜팅, 레전드째즈보컬, 브라스팝, 블라디보스톡, ...</td>\n",
       "      <td>0</td>\n",
       "      <td>0</td>\n",
       "    </tr>\n",
       "    <tr>\n",
       "      <th>1</th>\n",
       "      <td>[운동, 드라이브, Pop, 트로피컬하우스, 힐링, 기분전환, 2017, 팝, 트렌...</td>\n",
       "      <td>[운동, 드라이브, Pop, 트로피컬하우스, 힐링]</td>\n",
       "      <td>[기분전환, 2017, 팝, 트렌드, 일렉]</td>\n",
       "      <td>[YOLO, 팝송을, 팝송음악, 미디엄템포, popmusic, 신나고, 팝뮤직, 카...</td>\n",
       "      <td>[김래원, 이광수, 편안히잠잘수있는클래식, 머리가맑아지는클래식, 우리아이피아노클래식...</td>\n",
       "      <td>0</td>\n",
       "      <td>0</td>\n",
       "    </tr>\n",
       "    <tr>\n",
       "      <th>2</th>\n",
       "      <td>[새해, 여행, 프로필음악, 카카오톡, 기분전환, 소원, 프로필, 소망, 다짐, 카톡]</td>\n",
       "      <td>[새해, 여행, 프로필음악, 카카오톡, 기분전환]</td>\n",
       "      <td>[소원, 프로필, 소망, 다짐, 카톡]</td>\n",
       "      <td>[기분좋게, 프로필, 가볍게들을수있는곡, 최신음악, 발걸음, 흥얼흥얼, 연초, 즐거...</td>\n",
       "      <td>[비행기, 프로여행러, 아프리카청춘이다, 동남아, 아이슬란드, 출국, 즉흥, 유럽,...</td>\n",
       "      <td>1</td>\n",
       "      <td>0</td>\n",
       "    </tr>\n",
       "    <tr>\n",
       "      <th>3</th>\n",
       "      <td>[여름, 일렉트로니카, 매장음악, 취향저격, 댄스, 드라이브, 여행, 기분전환, 일...</td>\n",
       "      <td>[여름, 일렉트로니카, 매장음악, 취향저격, 댄스]</td>\n",
       "      <td>[드라이브, 여행, 기분전환, 일렉, 신나는]</td>\n",
       "      <td>[취항저격, YOLO, 해외일렉트로니카, 미디엄템포, 놀자, 트로피컬, 신나고, 매...</td>\n",
       "      <td>[딥하우스, 하우스, 일렉트로팝, 내적런웨이, 감각적비트, deephouse, 패피...</td>\n",
       "      <td>0</td>\n",
       "      <td>0</td>\n",
       "    </tr>\n",
       "    <tr>\n",
       "      <th>4</th>\n",
       "      <td>[헬스, 스포츠, 피트니스, 운동, 다이어트, 런닝, 레깅스, 필라테스, 산책, 요가]</td>\n",
       "      <td>[헬스, 스포츠, 피트니스, 운동, 다이어트]</td>\n",
       "      <td>[런닝, 레깅스, 필라테스, 산책, 요가]</td>\n",
       "      <td>[런닝, 조깅, 달리기, 유산소, 웨이트, 몸매, 홈트, 헬스장, 휘트니스, 살빼기...</td>\n",
       "      <td>[헬스, 다이어트, 런닝, 런닝머신, 헬스장, 운동, 운동할때듣는음악, 버닝, 달리...</td>\n",
       "      <td>1</td>\n",
       "      <td>1</td>\n",
       "    </tr>\n",
       "  </tbody>\n",
       "</table>\n",
       "</div>"
      ],
      "text/plain": [
       "                                                태그원본  \\\n",
       "0  [연말, 눈오는날, 캐럴, 분위기, 따듯한, 크리스마스캐럴, 겨울노래, 크리스마스,...   \n",
       "1  [운동, 드라이브, Pop, 트로피컬하우스, 힐링, 기분전환, 2017, 팝, 트렌...   \n",
       "2   [새해, 여행, 프로필음악, 카카오톡, 기분전환, 소원, 프로필, 소망, 다짐, 카톡]   \n",
       "3  [여름, 일렉트로니카, 매장음악, 취향저격, 댄스, 드라이브, 여행, 기분전환, 일...   \n",
       "4   [헬스, 스포츠, 피트니스, 운동, 다이어트, 런닝, 레깅스, 필라테스, 산책, 요가]   \n",
       "\n",
       "                          예측용태그                                 검증용태그  \\\n",
       "0      [연말, 눈오는날, 캐럴, 분위기, 따듯한]  [크리스마스캐럴, 겨울노래, 크리스마스, 겨울왕국, 크리스마스송]   \n",
       "1  [운동, 드라이브, Pop, 트로피컬하우스, 힐링]              [기분전환, 2017, 팝, 트렌드, 일렉]   \n",
       "2   [새해, 여행, 프로필음악, 카카오톡, 기분전환]                 [소원, 프로필, 소망, 다짐, 카톡]   \n",
       "3  [여름, 일렉트로니카, 매장음악, 취향저격, 댄스]             [드라이브, 여행, 기분전환, 일렉, 신나는]   \n",
       "4     [헬스, 스포츠, 피트니스, 운동, 다이어트]               [런닝, 레깅스, 필라테스, 산책, 요가]   \n",
       "\n",
       "                                            w2v_예측결과  \\\n",
       "0  [추운날, 춥다, 12월, 훈훈한, 찬바람, 한겨울, 추위, 겨울감성, 첫눈, 추운날씨]   \n",
       "1  [YOLO, 팝송을, 팝송음악, 미디엄템포, popmusic, 신나고, 팝뮤직, 카...   \n",
       "2  [기분좋게, 프로필, 가볍게들을수있는곡, 최신음악, 발걸음, 흥얼흥얼, 연초, 즐거...   \n",
       "3  [취항저격, YOLO, 해외일렉트로니카, 미디엄템포, 놀자, 트로피컬, 신나고, 매...   \n",
       "4  [런닝, 조깅, 달리기, 유산소, 웨이트, 몸매, 홈트, 헬스장, 휘트니스, 살빼기...   \n",
       "\n",
       "                                            svd_예측결과  w2v_히트  svd_히트  \n",
       "0  [혼술남녀, 하석진, 여름밤바다, 멜팅, 레전드째즈보컬, 브라스팝, 블라디보스톡, ...       0       0  \n",
       "1  [김래원, 이광수, 편안히잠잘수있는클래식, 머리가맑아지는클래식, 우리아이피아노클래식...       0       0  \n",
       "2  [비행기, 프로여행러, 아프리카청춘이다, 동남아, 아이슬란드, 출국, 즉흥, 유럽,...       1       0  \n",
       "3  [딥하우스, 하우스, 일렉트로팝, 내적런웨이, 감각적비트, deephouse, 패피...       0       0  \n",
       "4  [헬스, 다이어트, 런닝, 런닝머신, 헬스장, 운동, 운동할때듣는음악, 버닝, 달리...       1       1  "
      ]
     },
     "execution_count": 70,
     "metadata": {},
     "output_type": "execute_result"
    }
   ],
   "source": [
    "cal_tag_hit_df.head()"
   ]
  },
  {
   "cell_type": "code",
   "execution_count": 71,
   "id": "a1c5c942",
   "metadata": {
    "ExecuteTime": {
     "end_time": "2021-11-03T04:35:55.829641Z",
     "start_time": "2021-11-03T04:35:55.816645Z"
    }
   },
   "outputs": [
    {
     "data": {
      "text/plain": [
       "0.24795228628230617"
      ]
     },
     "execution_count": 71,
     "metadata": {},
     "output_type": "execute_result"
    }
   ],
   "source": [
    "sum(w2v_hit)/len(w2v_hit)"
   ]
  },
  {
   "cell_type": "code",
   "execution_count": 72,
   "id": "00521a2e",
   "metadata": {
    "ExecuteTime": {
     "end_time": "2021-11-03T04:35:55.845644Z",
     "start_time": "2021-11-03T04:35:55.831642Z"
    }
   },
   "outputs": [
    {
     "data": {
      "text/plain": [
       "0.10298210735586481"
      ]
     },
     "execution_count": 72,
     "metadata": {},
     "output_type": "execute_result"
    }
   ],
   "source": [
    "sum(svd_hit)/len(svd_hit)"
   ]
  }
 ],
 "metadata": {
  "kernelspec": {
   "display_name": "Python 3 (ipykernel)",
   "language": "python",
   "name": "python3"
  },
  "language_info": {
   "codemirror_mode": {
    "name": "ipython",
    "version": 3
   },
   "file_extension": ".py",
   "mimetype": "text/x-python",
   "name": "python",
   "nbconvert_exporter": "python",
   "pygments_lexer": "ipython3",
   "version": "3.9.6"
  },
  "toc": {
   "base_numbering": 1,
   "nav_menu": {},
   "number_sections": true,
   "sideBar": true,
   "skip_h1_title": false,
   "title_cell": "Table of Contents",
   "title_sidebar": "Contents",
   "toc_cell": false,
   "toc_position": {},
   "toc_section_display": true,
   "toc_window_display": false
  },
  "varInspector": {
   "cols": {
    "lenName": 16,
    "lenType": 16,
    "lenVar": 40
   },
   "kernels_config": {
    "python": {
     "delete_cmd_postfix": "",
     "delete_cmd_prefix": "del ",
     "library": "var_list.py",
     "varRefreshCmd": "print(var_dic_list())"
    },
    "r": {
     "delete_cmd_postfix": ") ",
     "delete_cmd_prefix": "rm(",
     "library": "var_list.r",
     "varRefreshCmd": "cat(var_dic_list()) "
    }
   },
   "types_to_exclude": [
    "module",
    "function",
    "builtin_function_or_method",
    "instance",
    "_Feature"
   ],
   "window_display": false
  }
 },
 "nbformat": 4,
 "nbformat_minor": 5
}
