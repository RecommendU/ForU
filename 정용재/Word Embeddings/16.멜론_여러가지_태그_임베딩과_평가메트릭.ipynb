{
 "cells": [
  {
   "cell_type": "markdown",
   "id": "09383984",
   "metadata": {},
   "source": [
    "# 필요한 라이브러리 import"
   ]
  },
  {
   "cell_type": "code",
   "execution_count": 183,
   "id": "c5bfe0a3",
   "metadata": {
    "ExecuteTime": {
     "end_time": "2021-11-04T05:29:34.011769Z",
     "start_time": "2021-11-04T05:29:34.002769Z"
    }
   },
   "outputs": [],
   "source": [
    "import os\n",
    "import json\n",
    "import numpy as np\n",
    "import pandas as pd\n",
    "from gensim import corpora\n",
    "from gensim.models import Word2Vec\n",
    "from sklearn.decomposition import TruncatedSVD\n",
    "from scipy import sparse as spr\n",
    "import configparser\n",
    "import pymysql\n",
    "from itertools import chain\n",
    "from collections import defaultdict,Counter\n",
    "import hnswlib\n",
    "import warnings\n",
    "import tqdm\n",
    "import pickle\n",
    "import matplotlib.pyplot as plt\n",
    "from implicit.als import AlternatingLeastSquares\n",
    "from sklearn.decomposition import NMF\n",
    "from itertools import repeat\n",
    "from sklearn.preprocessing import MinMaxScaler\n",
    "warnings.filterwarnings(action='ignore')"
   ]
  },
  {
   "cell_type": "markdown",
   "id": "9ae8eb62",
   "metadata": {},
   "source": [
    "# 데이터 로드"
   ]
  },
  {
   "cell_type": "code",
   "execution_count": 107,
   "id": "alike-angola",
   "metadata": {
    "ExecuteTime": {
     "end_time": "2021-11-04T03:05:16.491893Z",
     "start_time": "2021-11-04T03:05:09.377887Z"
    }
   },
   "outputs": [],
   "source": [
    "with open('./data/song_meta.json',encoding='utf-8-sig') as f:\n",
    "    song_dict = json.load(f)\n",
    "    \n",
    "song_df = pd.DataFrame.from_dict(song_dict)"
   ]
  },
  {
   "cell_type": "code",
   "execution_count": 108,
   "id": "unique-electric",
   "metadata": {
    "ExecuteTime": {
     "end_time": "2021-11-04T03:05:46.327845Z",
     "start_time": "2021-11-04T03:05:46.306847Z"
    }
   },
   "outputs": [],
   "source": [
    "with open('./data/genre_gn_all.json',encoding='utf-8-sig') as f:\n",
    "    genre_dict = json.load(f)"
   ]
  },
  {
   "cell_type": "code",
   "execution_count": 3,
   "id": "31d7a997",
   "metadata": {
    "ExecuteTime": {
     "end_time": "2021-11-04T00:51:22.208050Z",
     "start_time": "2021-11-04T00:51:20.664053Z"
    }
   },
   "outputs": [],
   "source": [
    "with open('data/train.json',encoding='utf-8-sig') as f:\n",
    "    train_dict = json.load(f)\n",
    "    \n",
    "train_df = pd.DataFrame.from_dict(train_dict)"
   ]
  },
  {
   "cell_type": "code",
   "execution_count": 96,
   "id": "cellular-finance",
   "metadata": {
    "ExecuteTime": {
     "end_time": "2021-11-04T02:24:07.111563Z",
     "start_time": "2021-11-04T02:24:07.092565Z"
    }
   },
   "outputs": [
    {
     "data": {
      "text/html": [
       "<div>\n",
       "<style scoped>\n",
       "    .dataframe tbody tr th:only-of-type {\n",
       "        vertical-align: middle;\n",
       "    }\n",
       "\n",
       "    .dataframe tbody tr th {\n",
       "        vertical-align: top;\n",
       "    }\n",
       "\n",
       "    .dataframe thead th {\n",
       "        text-align: right;\n",
       "    }\n",
       "</style>\n",
       "<table border=\"1\" class=\"dataframe\">\n",
       "  <thead>\n",
       "    <tr style=\"text-align: right;\">\n",
       "      <th></th>\n",
       "      <th>태그</th>\n",
       "      <th>플리아이디</th>\n",
       "      <th>플리제목</th>\n",
       "      <th>노래들</th>\n",
       "      <th>좋아요수</th>\n",
       "      <th>변경일자</th>\n",
       "      <th>절삭태그</th>\n",
       "      <th>절삭태그아이디</th>\n",
       "      <th>태그수</th>\n",
       "    </tr>\n",
       "  </thead>\n",
       "  <tbody>\n",
       "    <tr>\n",
       "      <th>0</th>\n",
       "      <td>[락]</td>\n",
       "      <td>61281</td>\n",
       "      <td>여행같은 음악</td>\n",
       "      <td>[525514, 129701, 383374, 562083, 297861, 13954...</td>\n",
       "      <td>71</td>\n",
       "      <td>2013-12-19 18:36:19.000</td>\n",
       "      <td>[락]</td>\n",
       "      <td>[25304]</td>\n",
       "      <td>1</td>\n",
       "    </tr>\n",
       "    <tr>\n",
       "      <th>1</th>\n",
       "      <td>[추억, 회상]</td>\n",
       "      <td>10532</td>\n",
       "      <td>요즘 너 말야</td>\n",
       "      <td>[432406, 675945, 497066, 120377, 389529, 24427...</td>\n",
       "      <td>1</td>\n",
       "      <td>2014-12-02 16:19:42.000</td>\n",
       "      <td>[추억, 회상]</td>\n",
       "      <td>[17676, 152]</td>\n",
       "      <td>2</td>\n",
       "    </tr>\n",
       "    <tr>\n",
       "      <th>2</th>\n",
       "      <td>[까페, 잔잔한]</td>\n",
       "      <td>76951</td>\n",
       "      <td>편하게, 잔잔하게 들을 수 있는 곡.-</td>\n",
       "      <td>[83116, 276692, 166267, 186301, 354465, 256598...</td>\n",
       "      <td>17</td>\n",
       "      <td>2017-08-28 07:09:34.000</td>\n",
       "      <td>[까페, 잔잔한]</td>\n",
       "      <td>[21656, 26271]</td>\n",
       "      <td>2</td>\n",
       "    </tr>\n",
       "    <tr>\n",
       "      <th>3</th>\n",
       "      <td>[연말, 눈오는날, 캐럴, 분위기, 따듯한, 크리스마스캐럴, 겨울노래, 크리스마스,...</td>\n",
       "      <td>147456</td>\n",
       "      <td>크리스마스 분위기에 흠뻑 취하고 싶을때</td>\n",
       "      <td>[394031, 195524, 540149, 287984, 440773, 10033...</td>\n",
       "      <td>33</td>\n",
       "      <td>2019-12-05 15:15:18.000</td>\n",
       "      <td>[연말, 눈오는날, 캐럴, 분위기, 따듯한, 겨울노래, 크리스마스, 겨울왕국]</td>\n",
       "      <td>[19772, 22488, 10907, 19970, 8380, 21963, 170,...</td>\n",
       "      <td>8</td>\n",
       "    </tr>\n",
       "    <tr>\n",
       "      <th>4</th>\n",
       "      <td>[댄스]</td>\n",
       "      <td>27616</td>\n",
       "      <td>추억의 노래 ㅋ</td>\n",
       "      <td>[159327, 553610, 5130, 645103, 294435, 100657,...</td>\n",
       "      <td>9</td>\n",
       "      <td>2011-10-25 13:54:56.000</td>\n",
       "      <td>[댄스]</td>\n",
       "      <td>[13941]</td>\n",
       "      <td>1</td>\n",
       "    </tr>\n",
       "  </tbody>\n",
       "</table>\n",
       "</div>"
      ],
      "text/plain": [
       "                                                  태그   플리아이디  \\\n",
       "0                                                [락]   61281   \n",
       "1                                           [추억, 회상]   10532   \n",
       "2                                          [까페, 잔잔한]   76951   \n",
       "3  [연말, 눈오는날, 캐럴, 분위기, 따듯한, 크리스마스캐럴, 겨울노래, 크리스마스,...  147456   \n",
       "4                                               [댄스]   27616   \n",
       "\n",
       "                    플리제목                                                노래들  \\\n",
       "0                여행같은 음악  [525514, 129701, 383374, 562083, 297861, 13954...   \n",
       "1                요즘 너 말야  [432406, 675945, 497066, 120377, 389529, 24427...   \n",
       "2  편하게, 잔잔하게 들을 수 있는 곡.-  [83116, 276692, 166267, 186301, 354465, 256598...   \n",
       "3  크리스마스 분위기에 흠뻑 취하고 싶을때  [394031, 195524, 540149, 287984, 440773, 10033...   \n",
       "4               추억의 노래 ㅋ  [159327, 553610, 5130, 645103, 294435, 100657,...   \n",
       "\n",
       "   좋아요수                     변경일자                                         절삭태그  \\\n",
       "0    71  2013-12-19 18:36:19.000                                          [락]   \n",
       "1     1  2014-12-02 16:19:42.000                                     [추억, 회상]   \n",
       "2    17  2017-08-28 07:09:34.000                                    [까페, 잔잔한]   \n",
       "3    33  2019-12-05 15:15:18.000  [연말, 눈오는날, 캐럴, 분위기, 따듯한, 겨울노래, 크리스마스, 겨울왕국]   \n",
       "4     9  2011-10-25 13:54:56.000                                         [댄스]   \n",
       "\n",
       "                                             절삭태그아이디  태그수  \n",
       "0                                            [25304]    1  \n",
       "1                                       [17676, 152]    2  \n",
       "2                                     [21656, 26271]    2  \n",
       "3  [19772, 22488, 10907, 19970, 8380, 21963, 170,...    8  \n",
       "4                                            [13941]    1  "
      ]
     },
     "execution_count": 96,
     "metadata": {},
     "output_type": "execute_result"
    }
   ],
   "source": [
    "train_df.head()"
   ]
  },
  {
   "cell_type": "markdown",
   "id": "7f312eb5",
   "metadata": {},
   "source": [
    "# 태그-id간 동기화를 위한 데이터베이스 연결"
   ]
  },
  {
   "cell_type": "code",
   "execution_count": 4,
   "id": "6f4107a6",
   "metadata": {
    "ExecuteTime": {
     "end_time": "2021-11-04T00:51:23.708121Z",
     "start_time": "2021-11-04T00:51:23.694097Z"
    }
   },
   "outputs": [],
   "source": [
    "# config parser 객체 생성\n",
    "config = configparser.ConfigParser()\n",
    "\n",
    "# parser객체로 config.ini 파일 읽기\n",
    "config.read('config.ini')\n",
    "\n",
    "# 변수저장\n",
    "\n",
    "user = config['DEFAULT']['ADMIN_USER_NAME']\n",
    "passwd = config['DEFAULT']['ADMIN_PASSWORD']\n",
    "host = config['DEFAULT']['RDS_ENDPOINT']\n",
    "port = config['DEFAULT']['PORT']\n",
    "database = config['DEFAULT']['DEFAULT_DATABASE']"
   ]
  },
  {
   "cell_type": "code",
   "execution_count": 5,
   "id": "c1532a14",
   "metadata": {
    "ExecuteTime": {
     "end_time": "2021-11-04T00:51:25.193120Z",
     "start_time": "2021-11-04T00:51:25.164122Z"
    }
   },
   "outputs": [],
   "source": [
    "melon_recom_db = pymysql.connect(\n",
    "    host = host,\n",
    "    user = user,\n",
    "    password = passwd,\n",
    "    database = database,\n",
    "    port = int(port),\n",
    "    cursorclass = pymysql.cursors.DictCursor\n",
    ")"
   ]
  },
  {
   "cell_type": "code",
   "execution_count": 6,
   "id": "7646ef42",
   "metadata": {
    "ExecuteTime": {
     "end_time": "2021-11-04T00:51:28.092980Z",
     "start_time": "2021-11-04T00:51:27.882929Z"
    }
   },
   "outputs": [],
   "source": [
    "melon_cursor = melon_recom_db.cursor()\n",
    "melon_cursor.execute('select * from tag')\n",
    "tag_db_list=melon_cursor.fetchall()"
   ]
  },
  {
   "cell_type": "markdown",
   "id": "5de1509c",
   "metadata": {},
   "source": [
    "# tag 딕셔너리 만들기 "
   ]
  },
  {
   "cell_type": "code",
   "execution_count": 7,
   "id": "71a24f2c",
   "metadata": {
    "ExecuteTime": {
     "end_time": "2021-11-04T00:51:57.044270Z",
     "start_time": "2021-11-04T00:51:57.023270Z"
    }
   },
   "outputs": [],
   "source": [
    "tag_to_id = {}\n",
    "id_to_tag = {}\n",
    "\n",
    "for tag_db in tag_db_list:\n",
    "    tag_to_id[tag_db['tag']] = tag_db['tag_id']\n",
    "    \n",
    "for tag_db in tag_db_list:\n",
    "    id_to_tag[tag_db['tag_id']] = tag_db['tag']"
   ]
  },
  {
   "cell_type": "markdown",
   "id": "e83fb22c",
   "metadata": {},
   "source": [
    "# tag 전처리 빈도수로 컷"
   ]
  },
  {
   "cell_type": "code",
   "execution_count": 8,
   "id": "1e8963c5",
   "metadata": {
    "ExecuteTime": {
     "end_time": "2021-11-04T00:52:02.007518Z",
     "start_time": "2021-11-04T00:52:01.889516Z"
    }
   },
   "outputs": [],
   "source": [
    "# train dataframe tag 컬럼의 모든 tag들 (중복포함)\n",
    "tags_all = train_df['tags'].tolist()\n",
    "\n",
    "# 태그의 빈도수를 가진 dict, Counter 써도 됨\n",
    "tags_frequency = defaultdict(int)\n",
    "\n",
    "# 특정 tag가 나올 때마다 1더하기\n",
    "for tags in tags_all:\n",
    "    for tag in tags:\n",
    "        tags_frequency[tag] += 1"
   ]
  },
  {
   "cell_type": "code",
   "execution_count": 9,
   "id": "04c26c2d",
   "metadata": {
    "ExecuteTime": {
     "end_time": "2021-11-04T00:52:12.956223Z",
     "start_time": "2021-11-04T00:52:12.935223Z"
    }
   },
   "outputs": [],
   "source": [
    "tag_freq = pd.DataFrame().from_dict(tags_frequency,orient=\"index\")"
   ]
  },
  {
   "cell_type": "code",
   "execution_count": 10,
   "id": "0e514bd5",
   "metadata": {
    "ExecuteTime": {
     "end_time": "2021-11-04T00:52:14.681103Z",
     "start_time": "2021-11-04T00:52:14.667221Z"
    }
   },
   "outputs": [],
   "source": [
    "tag_freq.columns=['빈도']"
   ]
  },
  {
   "cell_type": "code",
   "execution_count": 11,
   "id": "081461eb",
   "metadata": {
    "ExecuteTime": {
     "end_time": "2021-11-04T00:52:19.717846Z",
     "start_time": "2021-11-04T00:52:19.691847Z"
    }
   },
   "outputs": [
    {
     "data": {
      "text/html": [
       "<div>\n",
       "<style scoped>\n",
       "    .dataframe tbody tr th:only-of-type {\n",
       "        vertical-align: middle;\n",
       "    }\n",
       "\n",
       "    .dataframe tbody tr th {\n",
       "        vertical-align: top;\n",
       "    }\n",
       "\n",
       "    .dataframe thead th {\n",
       "        text-align: right;\n",
       "    }\n",
       "</style>\n",
       "<table border=\"1\" class=\"dataframe\">\n",
       "  <thead>\n",
       "    <tr style=\"text-align: right;\">\n",
       "      <th></th>\n",
       "      <th>count</th>\n",
       "      <th>mean</th>\n",
       "      <th>std</th>\n",
       "      <th>min</th>\n",
       "      <th>25%</th>\n",
       "      <th>50%</th>\n",
       "      <th>75%</th>\n",
       "      <th>max</th>\n",
       "    </tr>\n",
       "  </thead>\n",
       "  <tbody>\n",
       "    <tr>\n",
       "      <th>빈도</th>\n",
       "      <td>29160.0</td>\n",
       "      <td>16.335082</td>\n",
       "      <td>247.011075</td>\n",
       "      <td>1.0</td>\n",
       "      <td>1.0</td>\n",
       "      <td>1.0</td>\n",
       "      <td>3.0</td>\n",
       "      <td>16465.0</td>\n",
       "    </tr>\n",
       "  </tbody>\n",
       "</table>\n",
       "</div>"
      ],
      "text/plain": [
       "      count       mean         std  min  25%  50%  75%      max\n",
       "빈도  29160.0  16.335082  247.011075  1.0  1.0  1.0  3.0  16465.0"
      ]
     },
     "execution_count": 11,
     "metadata": {},
     "output_type": "execute_result"
    }
   ],
   "source": [
    "tag_freq.describe().T"
   ]
  },
  {
   "cell_type": "code",
   "execution_count": 12,
   "id": "5a6998ea",
   "metadata": {
    "ExecuteTime": {
     "end_time": "2021-11-04T00:52:33.455917Z",
     "start_time": "2021-11-04T00:52:33.203917Z"
    }
   },
   "outputs": [],
   "source": [
    "def filter_func(x):\n",
    "    temp = []\n",
    "    for tag in x:\n",
    "        if tags_frequency[tag] > 20:\n",
    "            temp.append(tag)\n",
    "        else:\n",
    "            pass\n",
    "    return temp\n",
    "            \n",
    "\n",
    "train_df['tag_cut'] = train_df['tags'].map(filter_func)"
   ]
  },
  {
   "cell_type": "code",
   "execution_count": 13,
   "id": "2c1c7387",
   "metadata": {
    "ExecuteTime": {
     "end_time": "2021-11-04T00:52:42.638693Z",
     "start_time": "2021-11-04T00:52:42.553691Z"
    }
   },
   "outputs": [
    {
     "data": {
      "text/html": [
       "<div>\n",
       "<style scoped>\n",
       "    .dataframe tbody tr th:only-of-type {\n",
       "        vertical-align: middle;\n",
       "    }\n",
       "\n",
       "    .dataframe tbody tr th {\n",
       "        vertical-align: top;\n",
       "    }\n",
       "\n",
       "    .dataframe thead th {\n",
       "        text-align: right;\n",
       "    }\n",
       "</style>\n",
       "<table border=\"1\" class=\"dataframe\">\n",
       "  <thead>\n",
       "    <tr style=\"text-align: right;\">\n",
       "      <th></th>\n",
       "      <th>tags</th>\n",
       "      <th>id</th>\n",
       "      <th>plylst_title</th>\n",
       "      <th>songs</th>\n",
       "      <th>like_cnt</th>\n",
       "      <th>updt_date</th>\n",
       "      <th>tag_cut</th>\n",
       "      <th>new_tags_cut_id</th>\n",
       "    </tr>\n",
       "  </thead>\n",
       "  <tbody>\n",
       "    <tr>\n",
       "      <th>0</th>\n",
       "      <td>[락]</td>\n",
       "      <td>61281</td>\n",
       "      <td>여행같은 음악</td>\n",
       "      <td>[525514, 129701, 383374, 562083, 297861, 13954...</td>\n",
       "      <td>71</td>\n",
       "      <td>2013-12-19 18:36:19.000</td>\n",
       "      <td>[락]</td>\n",
       "      <td>[25304]</td>\n",
       "    </tr>\n",
       "  </tbody>\n",
       "</table>\n",
       "</div>"
      ],
      "text/plain": [
       "  tags     id plylst_title                                              songs  \\\n",
       "0  [락]  61281      여행같은 음악  [525514, 129701, 383374, 562083, 297861, 13954...   \n",
       "\n",
       "   like_cnt                updt_date tag_cut new_tags_cut_id  \n",
       "0        71  2013-12-19 18:36:19.000     [락]         [25304]  "
      ]
     },
     "execution_count": 13,
     "metadata": {},
     "output_type": "execute_result"
    }
   ],
   "source": [
    "train_df['new_tags_cut_id'] = train_df['tag_cut'].map(lambda x : [tag_to_id[v] for v in x])\n",
    "train_df.head(1)"
   ]
  },
  {
   "cell_type": "markdown",
   "id": "ignored-upper",
   "metadata": {},
   "source": [
    "## 컬럼명 한글화"
   ]
  },
  {
   "cell_type": "code",
   "execution_count": 14,
   "id": "afraid-television",
   "metadata": {
    "ExecuteTime": {
     "end_time": "2021-11-04T00:52:54.904683Z",
     "start_time": "2021-11-04T00:52:54.891682Z"
    }
   },
   "outputs": [],
   "source": [
    "train_df.columns=['태그','플리아이디','플리제목','노래들','좋아요수','변경일자','절삭태그','절삭태그아이디']"
   ]
  },
  {
   "cell_type": "code",
   "execution_count": 16,
   "id": "demonstrated-israeli",
   "metadata": {
    "ExecuteTime": {
     "end_time": "2021-11-04T00:53:33.905115Z",
     "start_time": "2021-11-04T00:53:33.873769Z"
    }
   },
   "outputs": [],
   "source": [
    "train_df['태그수'] = train_df['절삭태그'].map(len)"
   ]
  },
  {
   "cell_type": "code",
   "execution_count": 17,
   "id": "transsexual-laptop",
   "metadata": {
    "ExecuteTime": {
     "end_time": "2021-11-04T00:53:35.660189Z",
     "start_time": "2021-11-04T00:53:35.646191Z"
    }
   },
   "outputs": [
    {
     "data": {
      "text/html": [
       "<div>\n",
       "<style scoped>\n",
       "    .dataframe tbody tr th:only-of-type {\n",
       "        vertical-align: middle;\n",
       "    }\n",
       "\n",
       "    .dataframe tbody tr th {\n",
       "        vertical-align: top;\n",
       "    }\n",
       "\n",
       "    .dataframe thead th {\n",
       "        text-align: right;\n",
       "    }\n",
       "</style>\n",
       "<table border=\"1\" class=\"dataframe\">\n",
       "  <thead>\n",
       "    <tr style=\"text-align: right;\">\n",
       "      <th></th>\n",
       "      <th>태그</th>\n",
       "      <th>플리아이디</th>\n",
       "      <th>플리제목</th>\n",
       "      <th>노래들</th>\n",
       "      <th>좋아요수</th>\n",
       "      <th>변경일자</th>\n",
       "      <th>절삭태그</th>\n",
       "      <th>절삭태그아이디</th>\n",
       "      <th>태그수</th>\n",
       "    </tr>\n",
       "  </thead>\n",
       "  <tbody>\n",
       "    <tr>\n",
       "      <th>0</th>\n",
       "      <td>[락]</td>\n",
       "      <td>61281</td>\n",
       "      <td>여행같은 음악</td>\n",
       "      <td>[525514, 129701, 383374, 562083, 297861, 13954...</td>\n",
       "      <td>71</td>\n",
       "      <td>2013-12-19 18:36:19.000</td>\n",
       "      <td>[락]</td>\n",
       "      <td>[25304]</td>\n",
       "      <td>1</td>\n",
       "    </tr>\n",
       "  </tbody>\n",
       "</table>\n",
       "</div>"
      ],
      "text/plain": [
       "    태그  플리아이디     플리제목                                                노래들  \\\n",
       "0  [락]  61281  여행같은 음악  [525514, 129701, 383374, 562083, 297861, 13954...   \n",
       "\n",
       "   좋아요수                     변경일자 절삭태그  절삭태그아이디  태그수  \n",
       "0    71  2013-12-19 18:36:19.000  [락]  [25304]    1  "
      ]
     },
     "execution_count": 17,
     "metadata": {},
     "output_type": "execute_result"
    }
   ],
   "source": [
    "train_df.head(1)"
   ]
  },
  {
   "cell_type": "markdown",
   "id": "affected-murray",
   "metadata": {},
   "source": [
    "# Train Test Split"
   ]
  },
  {
   "cell_type": "code",
   "execution_count": 242,
   "id": "disabled-forum",
   "metadata": {
    "ExecuteTime": {
     "end_time": "2021-11-04T06:26:19.055791Z",
     "start_time": "2021-11-04T06:26:19.006779Z"
    }
   },
   "outputs": [],
   "source": [
    "# 태그가 10개인거 부터 train에 쓸거임\n",
    "origin_tags = train_df[train_df['태그수']>9]['절삭태그'].tolist()\n",
    "\n",
    "train_tags = []\n",
    "test_tags = []\n",
    "\n",
    "# 태그는 많아봐야 3개 사분위수 75% -> 3개\n",
    "for tags in origin_tags:\n",
    "\n",
    "    train_tags.append(tags[:2])\n",
    "    test_tags.append(tags[2:])"
   ]
  },
  {
   "cell_type": "code",
   "execution_count": 243,
   "id": "comparative-migration",
   "metadata": {
    "ExecuteTime": {
     "end_time": "2021-11-04T06:26:26.511010Z",
     "start_time": "2021-11-04T06:26:26.481756Z"
    }
   },
   "outputs": [],
   "source": [
    "cal_tag_hit_df = pd.DataFrame(columns=['태그원본','예측용태그','검증용태그','als_예측결과','svd_예측결과','als_히트','svd_히트'])\n",
    "cal_tag_hit_df['태그원본'] = origin_tags"
   ]
  },
  {
   "cell_type": "code",
   "execution_count": 244,
   "id": "ancient-proposition",
   "metadata": {
    "ExecuteTime": {
     "end_time": "2021-11-04T06:26:33.906063Z",
     "start_time": "2021-11-04T06:26:33.877044Z"
    }
   },
   "outputs": [
    {
     "data": {
      "text/html": [
       "<div>\n",
       "<style scoped>\n",
       "    .dataframe tbody tr th:only-of-type {\n",
       "        vertical-align: middle;\n",
       "    }\n",
       "\n",
       "    .dataframe tbody tr th {\n",
       "        vertical-align: top;\n",
       "    }\n",
       "\n",
       "    .dataframe thead th {\n",
       "        text-align: right;\n",
       "    }\n",
       "</style>\n",
       "<table border=\"1\" class=\"dataframe\">\n",
       "  <thead>\n",
       "    <tr style=\"text-align: right;\">\n",
       "      <th></th>\n",
       "      <th>태그원본</th>\n",
       "      <th>예측용태그</th>\n",
       "      <th>검증용태그</th>\n",
       "      <th>als_예측결과</th>\n",
       "      <th>svd_예측결과</th>\n",
       "      <th>als_히트</th>\n",
       "      <th>svd_히트</th>\n",
       "    </tr>\n",
       "  </thead>\n",
       "  <tbody>\n",
       "    <tr>\n",
       "      <th>0</th>\n",
       "      <td>[운동, 드라이브, Pop, 트로피컬하우스, 힐링, 기분전환, 2017, 팝, 트렌...</td>\n",
       "      <td>[운동, 드라이브]</td>\n",
       "      <td>[Pop, 트로피컬하우스, 힐링, 기분전환, 2017, 팝, 트렌드, 일렉]</td>\n",
       "      <td>NaN</td>\n",
       "      <td>NaN</td>\n",
       "      <td>NaN</td>\n",
       "      <td>NaN</td>\n",
       "    </tr>\n",
       "    <tr>\n",
       "      <th>1</th>\n",
       "      <td>[여름, 일렉트로니카, 매장음악, 취향저격, 댄스, 드라이브, 여행, 기분전환, 일...</td>\n",
       "      <td>[여름, 일렉트로니카]</td>\n",
       "      <td>[매장음악, 취향저격, 댄스, 드라이브, 여행, 기분전환, 일렉, 신나는]</td>\n",
       "      <td>NaN</td>\n",
       "      <td>NaN</td>\n",
       "      <td>NaN</td>\n",
       "      <td>NaN</td>\n",
       "    </tr>\n",
       "    <tr>\n",
       "      <th>2</th>\n",
       "      <td>[잔잔한, 감성, 새벽, 우울, 발라드, 알앤비, 기분전환, 사랑, 이별, 인디]</td>\n",
       "      <td>[잔잔한, 감성]</td>\n",
       "      <td>[새벽, 우울, 발라드, 알앤비, 기분전환, 사랑, 이별, 인디]</td>\n",
       "      <td>NaN</td>\n",
       "      <td>NaN</td>\n",
       "      <td>NaN</td>\n",
       "      <td>NaN</td>\n",
       "    </tr>\n",
       "    <tr>\n",
       "      <th>3</th>\n",
       "      <td>[휴식, 새벽, 펍, 매장, 드라이브, 그루브, 라운지, 기분전환, 퇴근길, 세련된]</td>\n",
       "      <td>[휴식, 새벽]</td>\n",
       "      <td>[펍, 매장, 드라이브, 그루브, 라운지, 기분전환, 퇴근길, 세련된]</td>\n",
       "      <td>NaN</td>\n",
       "      <td>NaN</td>\n",
       "      <td>NaN</td>\n",
       "      <td>NaN</td>\n",
       "    </tr>\n",
       "    <tr>\n",
       "      <th>4</th>\n",
       "      <td>[잠, 매장, 매장음악, 카페, 잔잔한, 추억, 일상, 추위, 자장가, 새벽]</td>\n",
       "      <td>[잠, 매장]</td>\n",
       "      <td>[매장음악, 카페, 잔잔한, 추억, 일상, 추위, 자장가, 새벽]</td>\n",
       "      <td>NaN</td>\n",
       "      <td>NaN</td>\n",
       "      <td>NaN</td>\n",
       "      <td>NaN</td>\n",
       "    </tr>\n",
       "  </tbody>\n",
       "</table>\n",
       "</div>"
      ],
      "text/plain": [
       "                                                태그원본         예측용태그  \\\n",
       "0  [운동, 드라이브, Pop, 트로피컬하우스, 힐링, 기분전환, 2017, 팝, 트렌...    [운동, 드라이브]   \n",
       "1  [여름, 일렉트로니카, 매장음악, 취향저격, 댄스, 드라이브, 여행, 기분전환, 일...  [여름, 일렉트로니카]   \n",
       "2      [잔잔한, 감성, 새벽, 우울, 발라드, 알앤비, 기분전환, 사랑, 이별, 인디]     [잔잔한, 감성]   \n",
       "3    [휴식, 새벽, 펍, 매장, 드라이브, 그루브, 라운지, 기분전환, 퇴근길, 세련된]      [휴식, 새벽]   \n",
       "4        [잠, 매장, 매장음악, 카페, 잔잔한, 추억, 일상, 추위, 자장가, 새벽]       [잠, 매장]   \n",
       "\n",
       "                                        검증용태그 als_예측결과 svd_예측결과 als_히트 svd_히트  \n",
       "0  [Pop, 트로피컬하우스, 힐링, 기분전환, 2017, 팝, 트렌드, 일렉]      NaN      NaN    NaN    NaN  \n",
       "1   [매장음악, 취향저격, 댄스, 드라이브, 여행, 기분전환, 일렉, 신나는]      NaN      NaN    NaN    NaN  \n",
       "2        [새벽, 우울, 발라드, 알앤비, 기분전환, 사랑, 이별, 인디]      NaN      NaN    NaN    NaN  \n",
       "3     [펍, 매장, 드라이브, 그루브, 라운지, 기분전환, 퇴근길, 세련된]      NaN      NaN    NaN    NaN  \n",
       "4        [매장음악, 카페, 잔잔한, 추억, 일상, 추위, 자장가, 새벽]      NaN      NaN    NaN    NaN  "
      ]
     },
     "execution_count": 244,
     "metadata": {},
     "output_type": "execute_result"
    }
   ],
   "source": [
    "cal_tag_hit_df['예측용태그'] = train_tags\n",
    "cal_tag_hit_df['검증용태그'] = test_tags\n",
    "cal_tag_hit_df.head()"
   ]
  },
  {
   "cell_type": "markdown",
   "id": "ecc4df4b",
   "metadata": {},
   "source": [
    "# 희소행렬생성 태그,음악 행렬"
   ]
  },
  {
   "cell_type": "code",
   "execution_count": 105,
   "id": "grateful-identity",
   "metadata": {
    "ExecuteTime": {
     "end_time": "2021-11-04T03:02:07.227756Z",
     "start_time": "2021-11-04T03:02:07.224756Z"
    }
   },
   "outputs": [],
   "source": [
    "song_df.colums=['세부장르','발매일','앨범명','앨범ID','가수ID','노래명','대장르','가수명','노래ID']"
   ]
  },
  {
   "cell_type": "code",
   "execution_count": 106,
   "id": "instructional-warner",
   "metadata": {
    "ExecuteTime": {
     "end_time": "2021-11-04T03:02:20.338757Z",
     "start_time": "2021-11-04T03:02:20.324756Z"
    }
   },
   "outputs": [
    {
     "data": {
      "text/html": [
       "<div>\n",
       "<style scoped>\n",
       "    .dataframe tbody tr th:only-of-type {\n",
       "        vertical-align: middle;\n",
       "    }\n",
       "\n",
       "    .dataframe tbody tr th {\n",
       "        vertical-align: top;\n",
       "    }\n",
       "\n",
       "    .dataframe thead th {\n",
       "        text-align: right;\n",
       "    }\n",
       "</style>\n",
       "<table border=\"1\" class=\"dataframe\">\n",
       "  <thead>\n",
       "    <tr style=\"text-align: right;\">\n",
       "      <th></th>\n",
       "      <th>song_gn_dtl_gnr_basket</th>\n",
       "      <th>issue_date</th>\n",
       "      <th>album_name</th>\n",
       "      <th>album_id</th>\n",
       "      <th>artist_id_basket</th>\n",
       "      <th>song_name</th>\n",
       "      <th>song_gn_gnr_basket</th>\n",
       "      <th>artist_name_basket</th>\n",
       "      <th>id</th>\n",
       "    </tr>\n",
       "  </thead>\n",
       "  <tbody>\n",
       "    <tr>\n",
       "      <th>0</th>\n",
       "      <td>[GN0901]</td>\n",
       "      <td>20140512</td>\n",
       "      <td>불후의 명곡 - 7080 추억의 얄개시대 팝송베스트</td>\n",
       "      <td>2255639</td>\n",
       "      <td>[2727]</td>\n",
       "      <td>Feelings</td>\n",
       "      <td>[GN0900]</td>\n",
       "      <td>[Various Artists]</td>\n",
       "      <td>0</td>\n",
       "    </tr>\n",
       "    <tr>\n",
       "      <th>1</th>\n",
       "      <td>[GN1601, GN1606]</td>\n",
       "      <td>20080421</td>\n",
       "      <td>Bach : Partitas Nos. 2, 3 &amp; 4</td>\n",
       "      <td>376431</td>\n",
       "      <td>[29966]</td>\n",
       "      <td>Bach : Partita No. 4 In D Major, BWV 828 - II....</td>\n",
       "      <td>[GN1600]</td>\n",
       "      <td>[Murray Perahia]</td>\n",
       "      <td>1</td>\n",
       "    </tr>\n",
       "    <tr>\n",
       "      <th>2</th>\n",
       "      <td>[GN0901]</td>\n",
       "      <td>20180518</td>\n",
       "      <td>Hit</td>\n",
       "      <td>4698747</td>\n",
       "      <td>[3361]</td>\n",
       "      <td>Solsbury Hill (Remastered 2002)</td>\n",
       "      <td>[GN0900]</td>\n",
       "      <td>[Peter Gabriel]</td>\n",
       "      <td>2</td>\n",
       "    </tr>\n",
       "    <tr>\n",
       "      <th>3</th>\n",
       "      <td>[GN1102, GN1101]</td>\n",
       "      <td>20151016</td>\n",
       "      <td>Feeling Right (Everything Is Nice) (Feat. Popc...</td>\n",
       "      <td>2644882</td>\n",
       "      <td>[838543]</td>\n",
       "      <td>Feeling Right (Everything Is Nice) (Feat. Popc...</td>\n",
       "      <td>[GN1100]</td>\n",
       "      <td>[Matoma]</td>\n",
       "      <td>3</td>\n",
       "    </tr>\n",
       "    <tr>\n",
       "      <th>4</th>\n",
       "      <td>[GN1802, GN1801]</td>\n",
       "      <td>20110824</td>\n",
       "      <td>그남자 그여자</td>\n",
       "      <td>2008470</td>\n",
       "      <td>[560160]</td>\n",
       "      <td>그남자 그여자</td>\n",
       "      <td>[GN1800]</td>\n",
       "      <td>[Jude Law]</td>\n",
       "      <td>4</td>\n",
       "    </tr>\n",
       "  </tbody>\n",
       "</table>\n",
       "</div>"
      ],
      "text/plain": [
       "  song_gn_dtl_gnr_basket issue_date  \\\n",
       "0               [GN0901]   20140512   \n",
       "1       [GN1601, GN1606]   20080421   \n",
       "2               [GN0901]   20180518   \n",
       "3       [GN1102, GN1101]   20151016   \n",
       "4       [GN1802, GN1801]   20110824   \n",
       "\n",
       "                                          album_name  album_id  \\\n",
       "0                       불후의 명곡 - 7080 추억의 얄개시대 팝송베스트   2255639   \n",
       "1                      Bach : Partitas Nos. 2, 3 & 4    376431   \n",
       "2                                                Hit   4698747   \n",
       "3  Feeling Right (Everything Is Nice) (Feat. Popc...   2644882   \n",
       "4                                            그남자 그여자   2008470   \n",
       "\n",
       "  artist_id_basket                                          song_name  \\\n",
       "0           [2727]                                           Feelings   \n",
       "1          [29966]  Bach : Partita No. 4 In D Major, BWV 828 - II....   \n",
       "2           [3361]                    Solsbury Hill (Remastered 2002)   \n",
       "3         [838543]  Feeling Right (Everything Is Nice) (Feat. Popc...   \n",
       "4         [560160]                                            그남자 그여자   \n",
       "\n",
       "  song_gn_gnr_basket artist_name_basket  id  \n",
       "0           [GN0900]  [Various Artists]   0  \n",
       "1           [GN1600]   [Murray Perahia]   1  \n",
       "2           [GN0900]    [Peter Gabriel]   2  \n",
       "3           [GN1100]           [Matoma]   3  \n",
       "4           [GN1800]         [Jude Law]   4  "
      ]
     },
     "execution_count": 106,
     "metadata": {},
     "output_type": "execute_result"
    }
   ],
   "source": [
    "song_df.head()"
   ]
  },
  {
   "cell_type": "code",
   "execution_count": 111,
   "id": "listed-monthly",
   "metadata": {
    "ExecuteTime": {
     "end_time": "2021-11-04T03:07:08.193416Z",
     "start_time": "2021-11-04T03:07:08.179418Z"
    }
   },
   "outputs": [],
   "source": [
    "genre_dict['GN9000'] = '기타장르'\n",
    "\n",
    "genre_big = {}\n",
    "\n",
    "# 모든 장르 딕셔너리를 돌면서\n",
    "for k,v in genre_dict.items():\n",
    "    \n",
    "    # 맨 뒤 두자리가 00이면 대장류로 분류\n",
    "    if k[-2:] == '00':\n",
    "        \n",
    "        # 맨앞 네자리를 키로 하는 대장류 딕셔너리 값 추가\n",
    "        genre_big[k[:4]] = v\n",
    "\n",
    "genre_detail_dict = {}\n",
    "\n",
    "# 모든 딕셔너리를 돌면서\n",
    "for k,v in genre_dict.items():\n",
    "    \n",
    "    # 맨뒤 두자리가 00이 아니면 대장류가 아닌거임!\n",
    "    if k[-2:] != '00':\n",
    "        \n",
    "        # 그럴떈 아까만든 대장르 딕셔너리의 대장류 이름을 추가해서 이름을 수정해서 다시 넣어줌\n",
    "        new_value = genre_big[k[:4]]+'_'+v\n",
    "        genre_detail_dict[k] = new_value"
   ]
  },
  {
   "cell_type": "code",
   "execution_count": 112,
   "id": "classical-emergency",
   "metadata": {
    "ExecuteTime": {
     "end_time": "2021-11-04T03:07:22.734428Z",
     "start_time": "2021-11-04T03:07:22.718429Z"
    }
   },
   "outputs": [
    {
     "data": {
      "text/plain": [
       "'POP_세부장르전체'"
      ]
     },
     "execution_count": 112,
     "metadata": {},
     "output_type": "execute_result"
    }
   ],
   "source": [
    "genre_detail_dict['GN0901']"
   ]
  },
  {
   "cell_type": "code",
   "execution_count": 132,
   "id": "flexible-tumor",
   "metadata": {
    "ExecuteTime": {
     "end_time": "2021-11-04T03:55:44.062613Z",
     "start_time": "2021-11-04T03:55:44.048614Z"
    }
   },
   "outputs": [],
   "source": [
    "genre_detail_id_to_code = {}\n",
    "\n",
    "for i,v in enumerate(list(genre_detail_dict.keys())):\n",
    "    genre_detail_id_to_code[i] = v"
   ]
  },
  {
   "cell_type": "code",
   "execution_count": 133,
   "id": "violent-technician",
   "metadata": {
    "ExecuteTime": {
     "end_time": "2021-11-04T03:55:54.323102Z",
     "start_time": "2021-11-04T03:55:54.309100Z"
    }
   },
   "outputs": [],
   "source": [
    "genre_detail_code_to_id = {}\n",
    "\n",
    "for i,v in enumerate(list(genre_detail_dict.keys())):\n",
    "    genre_detail_code_to_id[v] = i"
   ]
  },
  {
   "cell_type": "code",
   "execution_count": 134,
   "id": "disciplinary-parish",
   "metadata": {
    "ExecuteTime": {
     "end_time": "2021-11-04T03:56:10.037923Z",
     "start_time": "2021-11-04T03:56:06.978396Z"
    }
   },
   "outputs": [
    {
     "data": {
      "text/plain": [
       "[113, 118]"
      ]
     },
     "execution_count": 134,
     "metadata": {},
     "output_type": "execute_result"
    }
   ],
   "source": [
    "song_genre_detail_dict = defaultdict(list)\n",
    "\n",
    "for codes,id in zip(song_df['song_gn_dtl_gnr_basket'].tolist(),song_df['id'].tolist()):\n",
    "    for code in codes:\n",
    "        song_genre_detail_dict[id].append(genre_detail_code_to_id[code])"
   ]
  },
  {
   "cell_type": "code",
   "execution_count": 156,
   "id": "material-agenda",
   "metadata": {
    "ExecuteTime": {
     "end_time": "2021-11-04T04:25:51.550078Z",
     "start_time": "2021-11-04T04:25:48.814078Z"
    }
   },
   "outputs": [
    {
     "data": {
      "text/html": [
       "<div>\n",
       "<style scoped>\n",
       "    .dataframe tbody tr th:only-of-type {\n",
       "        vertical-align: middle;\n",
       "    }\n",
       "\n",
       "    .dataframe tbody tr th {\n",
       "        vertical-align: top;\n",
       "    }\n",
       "\n",
       "    .dataframe thead th {\n",
       "        text-align: right;\n",
       "    }\n",
       "</style>\n",
       "<table border=\"1\" class=\"dataframe\">\n",
       "  <thead>\n",
       "    <tr style=\"text-align: right;\">\n",
       "      <th></th>\n",
       "      <th>태그</th>\n",
       "      <th>플리아이디</th>\n",
       "      <th>플리제목</th>\n",
       "      <th>노래들</th>\n",
       "      <th>좋아요수</th>\n",
       "      <th>변경일자</th>\n",
       "      <th>절삭태그</th>\n",
       "      <th>절삭태그아이디</th>\n",
       "      <th>태그수</th>\n",
       "      <th>세부장르</th>\n",
       "    </tr>\n",
       "  </thead>\n",
       "  <tbody>\n",
       "    <tr>\n",
       "      <th>0</th>\n",
       "      <td>[락]</td>\n",
       "      <td>61281</td>\n",
       "      <td>여행같은 음악</td>\n",
       "      <td>[525514, 129701, 383374, 562083, 297861, 13954...</td>\n",
       "      <td>71</td>\n",
       "      <td>2013-12-19 18:36:19.000</td>\n",
       "      <td>[락]</td>\n",
       "      <td>[25304]</td>\n",
       "      <td>1</td>\n",
       "      <td>[97, 96, 48, 49, 56, 67, 60, 56, 68, 48, 49, 5...</td>\n",
       "    </tr>\n",
       "  </tbody>\n",
       "</table>\n",
       "</div>"
      ],
      "text/plain": [
       "    태그  플리아이디     플리제목                                                노래들  \\\n",
       "0  [락]  61281  여행같은 음악  [525514, 129701, 383374, 562083, 297861, 13954...   \n",
       "\n",
       "   좋아요수                     변경일자 절삭태그  절삭태그아이디  태그수  \\\n",
       "0    71  2013-12-19 18:36:19.000  [락]  [25304]    1   \n",
       "\n",
       "                                                세부장르  \n",
       "0  [97, 96, 48, 49, 56, 67, 60, 56, 68, 48, 49, 5...  "
      ]
     },
     "execution_count": 156,
     "metadata": {},
     "output_type": "execute_result"
    }
   ],
   "source": [
    "def fetcher(x):\n",
    "    temp = []\n",
    "    for song in x:\n",
    "        genre_ids = song_genre_detail_dict[song]\n",
    "        for id in genre_ids:\n",
    "            temp.append(id)\n",
    "        \n",
    "    return temp\n",
    "\n",
    "train_df['세부장르'] = train_df['노래들'].map(fetcher)\n",
    "train_df.head(1)"
   ]
  },
  {
   "cell_type": "code",
   "execution_count": 217,
   "id": "regulated-native",
   "metadata": {
    "ExecuteTime": {
     "end_time": "2021-11-04T06:06:25.764499Z",
     "start_time": "2021-11-04T06:06:25.065499Z"
    }
   },
   "outputs": [],
   "source": [
    "genre_id_merge = defaultdict(list)\n",
    "\n",
    "for ids,genres in zip(train_df['절삭태그아이디'].tolist(),train_df['세부장르'].tolist()):\n",
    "    for id in ids:\n",
    "        genre_id_merge[id].extend(genres)"
   ]
  },
  {
   "cell_type": "code",
   "execution_count": 218,
   "id": "incredible-hartford",
   "metadata": {
    "ExecuteTime": {
     "end_time": "2021-11-04T06:06:43.331601Z",
     "start_time": "2021-11-04T06:06:41.307585Z"
    }
   },
   "outputs": [],
   "source": [
    "for k,v in genre_id_merge.items():\n",
    "    genre_id_merge[k] = dict(Counter(v))"
   ]
  },
  {
   "cell_type": "code",
   "execution_count": 219,
   "id": "invisible-ferry",
   "metadata": {
    "ExecuteTime": {
     "end_time": "2021-11-04T06:06:54.327681Z",
     "start_time": "2021-11-04T06:06:53.068628Z"
    }
   },
   "outputs": [],
   "source": [
    "for k,value_dict in genre_id_merge.items():\n",
    "    sum_val = sum(value_dict.values())\n",
    "    for key,value in value_dict.items():\n",
    "        value_dict[key] = np.round(((value/sum_val)*100),3)"
   ]
  },
  {
   "cell_type": "code",
   "execution_count": 223,
   "id": "romance-program",
   "metadata": {
    "ExecuteTime": {
     "end_time": "2021-11-04T06:08:56.755684Z",
     "start_time": "2021-11-04T06:08:56.736683Z"
    }
   },
   "outputs": [
    {
     "data": {
      "text/plain": [
       "{97: 0.866,\n",
       " 96: 1.624,\n",
       " 48: 5.193,\n",
       " 49: 2.605,\n",
       " 56: 14.977,\n",
       " 67: 1.959,\n",
       " 60: 0.674,\n",
       " 68: 5.89,\n",
       " 58: 1.735,\n",
       " 91: 0.257,\n",
       " 88: 0.848,\n",
       " 89: 0.592,\n",
       " 51: 0.033,\n",
       " 156: 0.787,\n",
       " 148: 0.064,\n",
       " 145: 0.817,\n",
       " 71: 0.322,\n",
       " 70: 0.765,\n",
       " 27: 7.689,\n",
       " 31: 3.454,\n",
       " 0: 2.962,\n",
       " 32: 3.268,\n",
       " 9: 0.288,\n",
       " 5: 0.686,\n",
       " 33: 0.062,\n",
       " 4: 1.088,\n",
       " 202: 0.458,\n",
       " 201: 0.759,\n",
       " 206: 0.316,\n",
       " 203: 0.295,\n",
       " 207: 0.473,\n",
       " 209: 0.368,\n",
       " 208: 0.08,\n",
       " 103: 1.392,\n",
       " 106: 0.428,\n",
       " 7: 0.079,\n",
       " 8: 0.188,\n",
       " 18: 5.318,\n",
       " 20: 3.974,\n",
       " 26: 3.292,\n",
       " 61: 1.539,\n",
       " 73: 0.249,\n",
       " 72: 0.118,\n",
       " 214: 0.108,\n",
       " 105: 0.53,\n",
       " 94: 0.138,\n",
       " 79: 0.423,\n",
       " 62: 1.407,\n",
       " 146: 0.153,\n",
       " 128: 0.738,\n",
       " 132: 0.02,\n",
       " 147: 0.515,\n",
       " 133: 0.115,\n",
       " 25: 1.863,\n",
       " 66: 0.447,\n",
       " 57: 0.434,\n",
       " 69: 0.323,\n",
       " 63: 0.243,\n",
       " 90: 0.138,\n",
       " 100: 0.134,\n",
       " 15: 0.622,\n",
       " 17: 0.398,\n",
       " 16: 0.139,\n",
       " 47: 0.692,\n",
       " 19: 0.779,\n",
       " 43: 1.221,\n",
       " 204: 0.045,\n",
       " 10: 0.689,\n",
       " 55: 0.109,\n",
       " 3: 0.933,\n",
       " 129: 0.268,\n",
       " 80: 0.14,\n",
       " 205: 0.111,\n",
       " 12: 0.438,\n",
       " 11: 0.08,\n",
       " 93: 0.032,\n",
       " 2: 0.229,\n",
       " 30: 0.564,\n",
       " 24: 0.132,\n",
       " 104: 0.159,\n",
       " 111: 0.069,\n",
       " 108: 0.094,\n",
       " 155: 0.016,\n",
       " 65: 0.417,\n",
       " 77: 0.09,\n",
       " 46: 0.294,\n",
       " 154: 0.034,\n",
       " 149: 0.026,\n",
       " 169: 0.019,\n",
       " 167: 0.039,\n",
       " 130: 0.171,\n",
       " 143: 0.062,\n",
       " 139: 0.028,\n",
       " 138: 0.162,\n",
       " 82: 0.075,\n",
       " 86: 0.104,\n",
       " 81: 0.044,\n",
       " 183: 0.028,\n",
       " 54: 0.124,\n",
       " 53: 0.094,\n",
       " 107: 0.02,\n",
       " 99: 0.182,\n",
       " 120: 0.036,\n",
       " 113: 0.085,\n",
       " 151: 0.058,\n",
       " 50: 0.065,\n",
       " 158: 0.041,\n",
       " 157: 0.191,\n",
       " 110: 0.012,\n",
       " 223: 0.012,\n",
       " 221: 0.015,\n",
       " 64: 0.137,\n",
       " 59: 0.316,\n",
       " 29: 0.065,\n",
       " 98: 0.579,\n",
       " 142: 0.019,\n",
       " 140: 0.032,\n",
       " 118: 0.021,\n",
       " 137: 0.041,\n",
       " 135: 0.004,\n",
       " 74: 0.107,\n",
       " 83: 0.053,\n",
       " 1: 0.043,\n",
       " 127: 0.011,\n",
       " 122: 0.009,\n",
       " 160: 0.023,\n",
       " 21: 0.266,\n",
       " 162: 0.012,\n",
       " 134: 0.028,\n",
       " 52: 0.028,\n",
       " 101: 0.068,\n",
       " 125: 0.016,\n",
       " 119: 0.003,\n",
       " 153: 0.012,\n",
       " 131: 0.019,\n",
       " 102: 0.095,\n",
       " 76: 0.023,\n",
       " 45: 0.096,\n",
       " 87: 0.045,\n",
       " 95: 0.026,\n",
       " 13: 0.077,\n",
       " 22: 0.077,\n",
       " 23: 0.214,\n",
       " 114: 0.009,\n",
       " 126: 0.007,\n",
       " 163: 0.008,\n",
       " 41: 0.009,\n",
       " 196: 0.012,\n",
       " 195: 0.018,\n",
       " 213: 0.027,\n",
       " 116: 0.006,\n",
       " 85: 0.009,\n",
       " 35: 0.011,\n",
       " 78: 0.038,\n",
       " 28: 0.023,\n",
       " 164: 0.017,\n",
       " 165: 0.006,\n",
       " 39: 0.001,\n",
       " 144: 0.011,\n",
       " 112: 0.028,\n",
       " 37: 0.0,\n",
       " 159: 0.004,\n",
       " 117: 0.003,\n",
       " 197: 0.004,\n",
       " 150: 0.008,\n",
       " 92: 0.01,\n",
       " 168: 0.008,\n",
       " 166: 0.001,\n",
       " 40: 0.008,\n",
       " 44: 0.006,\n",
       " 171: 0.0,\n",
       " 152: 0.001,\n",
       " 178: 0.005,\n",
       " 42: 0.002,\n",
       " 109: 0.003,\n",
       " 222: 0.003,\n",
       " 211: 0.025,\n",
       " 84: 0.003,\n",
       " 212: 0.02,\n",
       " 141: 0.002,\n",
       " 75: 0.005,\n",
       " 161: 0.002,\n",
       " 173: 0.001,\n",
       " 34: 0.005,\n",
       " 172: 0.0,\n",
       " 179: 0.002,\n",
       " 170: 0.001,\n",
       " 38: 0.001,\n",
       " 115: 0.002,\n",
       " 6: 0.002,\n",
       " 192: 0.001,\n",
       " 220: 0.0,\n",
       " 215: 0.0}"
      ]
     },
     "execution_count": 223,
     "metadata": {},
     "output_type": "execute_result"
    }
   ],
   "source": [
    "genre_id_merge[25304]"
   ]
  },
  {
   "cell_type": "code",
   "execution_count": 224,
   "id": "a9ada042",
   "metadata": {
    "ExecuteTime": {
     "end_time": "2021-11-04T06:10:14.497719Z",
     "start_time": "2021-11-04T06:10:14.453720Z"
    }
   },
   "outputs": [],
   "source": [
    "row = []\n",
    "col = []\n",
    "dat = []\n",
    "\n",
    "for k,v in genre_id_merge.items():\n",
    "    for vk,vv in v.items():\n",
    "        row.append(k)\n",
    "        col.append(vk)\n",
    "        dat.append(vv)"
   ]
  },
  {
   "cell_type": "code",
   "execution_count": 225,
   "id": "asian-duncan",
   "metadata": {
    "ExecuteTime": {
     "end_time": "2021-11-04T06:10:38.817519Z",
     "start_time": "2021-11-04T06:10:38.806518Z"
    }
   },
   "outputs": [
    {
     "data": {
      "text/plain": [
       "1532"
      ]
     },
     "execution_count": 225,
     "metadata": {},
     "output_type": "execute_result"
    }
   ],
   "source": [
    "len(genre_id_merge)"
   ]
  },
  {
   "cell_type": "code",
   "execution_count": 227,
   "id": "tamil-correlation",
   "metadata": {
    "ExecuteTime": {
     "end_time": "2021-11-04T06:12:43.256613Z",
     "start_time": "2021-11-04T06:12:43.206615Z"
    }
   },
   "outputs": [
    {
     "data": {
      "text/plain": [
       "1532"
      ]
     },
     "execution_count": 227,
     "metadata": {},
     "output_type": "execute_result"
    }
   ],
   "source": [
    "len(set(list(chain.from_iterable(train_df['절삭태그'].tolist()))))"
   ]
  },
  {
   "cell_type": "code",
   "execution_count": 228,
   "id": "887d40e4",
   "metadata": {
    "ExecuteTime": {
     "end_time": "2021-11-04T06:12:59.000283Z",
     "start_time": "2021-11-04T06:12:58.907438Z"
    }
   },
   "outputs": [],
   "source": [
    "A = spr.csr_matrix((dat, (row, col)), shape=(29160, 224))"
   ]
  },
  {
   "cell_type": "code",
   "execution_count": 264,
   "id": "virgin-outside",
   "metadata": {
    "ExecuteTime": {
     "end_time": "2021-11-04T07:49:29.317210Z",
     "start_time": "2021-11-04T07:49:29.219211Z"
    }
   },
   "outputs": [],
   "source": [
    "spr.save_npz('./data/tag_genred_csr.npz',A)"
   ]
  },
  {
   "cell_type": "code",
   "execution_count": 229,
   "id": "267019a6",
   "metadata": {
    "ExecuteTime": {
     "end_time": "2021-11-04T06:13:06.471286Z",
     "start_time": "2021-11-04T06:13:06.457288Z"
    }
   },
   "outputs": [],
   "source": [
    "A = A.astype(float)"
   ]
  },
  {
   "cell_type": "markdown",
   "id": "200e6f76",
   "metadata": {},
   "source": [
    "# Vectorization with als"
   ]
  },
  {
   "cell_type": "code",
   "execution_count": 52,
   "id": "4e450d7f",
   "metadata": {
    "ExecuteTime": {
     "end_time": "2021-11-04T01:38:40.044381Z",
     "start_time": "2021-11-04T01:38:40.040382Z"
    }
   },
   "outputs": [],
   "source": [
    "als = AlternatingLeastSquares(factors=100,num_threads=6,iterations=50)"
   ]
  },
  {
   "cell_type": "code",
   "execution_count": 53,
   "id": "employed-optimum",
   "metadata": {
    "ExecuteTime": {
     "end_time": "2021-11-04T01:51:28.427461Z",
     "start_time": "2021-11-04T01:38:48.550400Z"
    }
   },
   "outputs": [
    {
     "data": {
      "application/vnd.jupyter.widget-view+json": {
       "model_id": "54c887988f974694bdd4823f57d024b7",
       "version_major": 2,
       "version_minor": 0
      },
      "text/plain": [
       "  0%|          | 0/50 [00:00<?, ?it/s]"
      ]
     },
     "metadata": {},
     "output_type": "display_data"
    }
   ],
   "source": [
    "als.fit(A*40)"
   ]
  },
  {
   "cell_type": "code",
   "execution_count": 54,
   "id": "scenic-slovak",
   "metadata": {
    "ExecuteTime": {
     "end_time": "2021-11-04T01:51:43.280426Z",
     "start_time": "2021-11-04T01:51:37.120163Z"
    }
   },
   "outputs": [],
   "source": [
    "with open('./tag_als_model.pickle','wb') as f:\n",
    "    pickle.dump(als, f)"
   ]
  },
  {
   "cell_type": "code",
   "execution_count": 55,
   "id": "cc85aef1",
   "metadata": {
    "ExecuteTime": {
     "end_time": "2021-11-04T01:51:52.192429Z",
     "start_time": "2021-11-04T01:51:52.088428Z"
    }
   },
   "outputs": [],
   "source": [
    "with open('./tag_als_model.pickle','rb') as f:\n",
    "    als_model = pickle.load(f)"
   ]
  },
  {
   "cell_type": "code",
   "execution_count": 56,
   "id": "409ebd99",
   "metadata": {
    "ExecuteTime": {
     "end_time": "2021-11-04T01:52:33.843358Z",
     "start_time": "2021-11-04T01:52:33.834358Z"
    }
   },
   "outputs": [],
   "source": [
    "# 락과 관련된 태그 10개\n",
    "\n",
    "tag_vectors = als_model.item_factors"
   ]
  },
  {
   "cell_type": "code",
   "execution_count": 57,
   "id": "chubby-asbestos",
   "metadata": {
    "ExecuteTime": {
     "end_time": "2021-11-04T01:52:42.460109Z",
     "start_time": "2021-11-04T01:52:42.447110Z"
    }
   },
   "outputs": [],
   "source": [
    "data_len,dim = tag_vectors.shape"
   ]
  },
  {
   "cell_type": "code",
   "execution_count": 58,
   "id": "trained-stanford",
   "metadata": {
    "ExecuteTime": {
     "end_time": "2021-11-04T01:52:51.091113Z",
     "start_time": "2021-11-04T01:52:51.078144Z"
    }
   },
   "outputs": [],
   "source": [
    "als_p = hnswlib.Index(space='cosine', dim=dim)  "
   ]
  },
  {
   "cell_type": "code",
   "execution_count": 59,
   "id": "public-chester",
   "metadata": {
    "ExecuteTime": {
     "end_time": "2021-11-04T01:52:59.675158Z",
     "start_time": "2021-11-04T01:52:59.663161Z"
    }
   },
   "outputs": [],
   "source": [
    "als_p.init_index(max_elements=data_len, ef_construction=100, M=100)"
   ]
  },
  {
   "cell_type": "code",
   "execution_count": 60,
   "id": "baking-cleaner",
   "metadata": {
    "ExecuteTime": {
     "end_time": "2021-11-04T01:54:17.008158Z",
     "start_time": "2021-11-04T01:53:08.392175Z"
    }
   },
   "outputs": [],
   "source": [
    "als_p.add_items(tag_vectors,np.arange(data_len))"
   ]
  },
  {
   "cell_type": "code",
   "execution_count": 61,
   "id": "adopted-begin",
   "metadata": {
    "ExecuteTime": {
     "end_time": "2021-11-04T01:54:25.617057Z",
     "start_time": "2021-11-04T01:54:25.603058Z"
    }
   },
   "outputs": [
    {
     "name": "stdout",
     "output_type": "stream",
     "text": [
      "[[28611 27884 27634 28010 29043 28065 28004 27909 28151 28850 28143]] [[0.3833024  0.4172771  0.49452704 0.5098832  0.531496   0.5356837\n",
      "  0.54083335 0.5550363  0.56858957 0.57836306 0.58445144]]\n"
     ]
    }
   ],
   "source": [
    "labels, distances = als_p.knn_query(tag_vectors[3113], k = 11)\n",
    "print(labels, distances)"
   ]
  },
  {
   "cell_type": "code",
   "execution_count": 62,
   "id": "graphic-composition",
   "metadata": {
    "ExecuteTime": {
     "end_time": "2021-11-04T01:54:34.455017Z",
     "start_time": "2021-11-04T01:54:34.441017Z"
    }
   },
   "outputs": [
    {
     "data": {
      "text/plain": [
       "['좋아',\n",
       " '위너',\n",
       " '임영웅',\n",
       " '몽환적인노래',\n",
       " '아이돌탐구생활',\n",
       " '방탄소년단명곡',\n",
       " 'TVN',\n",
       " '고요한',\n",
       " '감미로움',\n",
       " '내적댄스유발']"
      ]
     },
     "execution_count": 62,
     "metadata": {},
     "output_type": "execute_result"
    }
   ],
   "source": [
    "[id_to_tag[x] for x in labels[0][1:]]"
   ]
  },
  {
   "cell_type": "markdown",
   "id": "887a222b",
   "metadata": {},
   "source": [
    "# Vectorization with SVD"
   ]
  },
  {
   "cell_type": "markdown",
   "id": "a727ebe5",
   "metadata": {},
   "source": [
    "## SVD 만들기"
   ]
  },
  {
   "cell_type": "code",
   "execution_count": 230,
   "id": "5b681ab7",
   "metadata": {
    "ExecuteTime": {
     "end_time": "2021-11-04T06:13:14.061301Z",
     "start_time": "2021-11-04T06:13:13.912302Z"
    }
   },
   "outputs": [],
   "source": [
    "u,s,vt = spr.linalg.svds(A,k=100)"
   ]
  },
  {
   "cell_type": "code",
   "execution_count": 231,
   "id": "5acf6a1b",
   "metadata": {
    "ExecuteTime": {
     "end_time": "2021-11-04T06:13:21.487214Z",
     "start_time": "2021-11-04T06:13:21.473303Z"
    }
   },
   "outputs": [],
   "source": [
    "svd_vectors = u"
   ]
  },
  {
   "cell_type": "code",
   "execution_count": 232,
   "id": "6b4c9aa9",
   "metadata": {
    "ExecuteTime": {
     "end_time": "2021-11-04T06:13:28.957213Z",
     "start_time": "2021-11-04T06:13:28.944215Z"
    }
   },
   "outputs": [
    {
     "data": {
      "text/plain": [
       "(29160, 100)"
      ]
     },
     "execution_count": 232,
     "metadata": {},
     "output_type": "execute_result"
    }
   ],
   "source": [
    "svd_vectors.shape"
   ]
  },
  {
   "cell_type": "code",
   "execution_count": 233,
   "id": "3869cc23",
   "metadata": {
    "ExecuteTime": {
     "end_time": "2021-11-04T06:13:36.382316Z",
     "start_time": "2021-11-04T06:13:36.368283Z"
    }
   },
   "outputs": [],
   "source": [
    "data_len,dim = svd_vectors.shape"
   ]
  },
  {
   "cell_type": "code",
   "execution_count": 234,
   "id": "72ef74dd",
   "metadata": {
    "ExecuteTime": {
     "end_time": "2021-11-04T06:13:43.794854Z",
     "start_time": "2021-11-04T06:13:43.778343Z"
    }
   },
   "outputs": [],
   "source": [
    "svd_p = hnswlib.Index(space='cosine', dim=dim)  "
   ]
  },
  {
   "cell_type": "code",
   "execution_count": 235,
   "id": "cc43e5d5",
   "metadata": {
    "ExecuteTime": {
     "end_time": "2021-11-04T06:13:51.143853Z",
     "start_time": "2021-11-04T06:13:51.129856Z"
    }
   },
   "outputs": [],
   "source": [
    "svd_p.init_index(max_elements=data_len, ef_construction=100, M=100)"
   ]
  },
  {
   "cell_type": "code",
   "execution_count": 236,
   "id": "c595a560",
   "metadata": {
    "ExecuteTime": {
     "end_time": "2021-11-04T06:15:03.547853Z",
     "start_time": "2021-11-04T06:13:58.509854Z"
    }
   },
   "outputs": [],
   "source": [
    "svd_p.add_items(svd_vectors,np.arange(data_len))"
   ]
  },
  {
   "cell_type": "code",
   "execution_count": 252,
   "id": "c35ccee7",
   "metadata": {
    "ExecuteTime": {
     "end_time": "2021-11-04T06:29:45.504444Z",
     "start_time": "2021-11-04T06:29:45.260362Z"
    }
   },
   "outputs": [],
   "source": [
    "#pickle.dump(p,'./data/svd_knn_model.pickle')\n",
    "with open('./data/svd_knn_model.pickle', 'wb') as f:\n",
    "    pickle.dump(svd_p,f)"
   ]
  },
  {
   "cell_type": "code",
   "execution_count": 253,
   "id": "inclusive-cause",
   "metadata": {
    "ExecuteTime": {
     "end_time": "2021-11-04T06:30:17.790411Z",
     "start_time": "2021-11-04T06:30:17.736907Z"
    }
   },
   "outputs": [],
   "source": [
    "with open('./data/svd_tag_vectors.pickle', 'wb') as f:\n",
    "    pickle.dump(svd_vectors,f)"
   ]
  },
  {
   "cell_type": "code",
   "execution_count": 73,
   "id": "injured-sample",
   "metadata": {
    "ExecuteTime": {
     "end_time": "2021-11-04T01:59:29.481053Z",
     "start_time": "2021-11-04T01:59:29.446054Z"
    }
   },
   "outputs": [],
   "source": [
    "with open('./data/svd_knn_model.pickle', 'rb') as f:\n",
    "    svd_p = pickle.load(f)"
   ]
  },
  {
   "cell_type": "markdown",
   "id": "a8841d15",
   "metadata": {
    "ExecuteTime": {
     "end_time": "2021-11-03T04:30:13.479464Z",
     "start_time": "2021-11-03T04:30:13.372444Z"
    }
   },
   "source": [
    "with open('./data/svd_knn_model.pickle', 'rb') as f:\n",
    "    p = pickle.load(f)"
   ]
  },
  {
   "cell_type": "code",
   "execution_count": 147,
   "id": "9883ad60",
   "metadata": {
    "ExecuteTime": {
     "end_time": "2021-11-04T04:15:32.370085Z",
     "start_time": "2021-11-04T04:15:32.365085Z"
    }
   },
   "outputs": [
    {
     "data": {
      "text/plain": [
       "(3113, 10095)"
      ]
     },
     "execution_count": 147,
     "metadata": {},
     "output_type": "execute_result"
    }
   ],
   "source": [
    "tag_to_id['백예린'] , tag_to_id['아이유']"
   ]
  },
  {
   "cell_type": "code",
   "execution_count": 239,
   "id": "c68629e6",
   "metadata": {
    "ExecuteTime": {
     "end_time": "2021-11-04T06:25:13.127448Z",
     "start_time": "2021-11-04T06:25:13.121449Z"
    }
   },
   "outputs": [
    {
     "name": "stdout",
     "output_type": "stream",
     "text": [
      "[[ 3113  3308  6735  1611 26010 10767  1715 25523 26257 17420 12817]] [[-1.1920929e-07  3.2853001e-01  3.3607537e-01  3.9810312e-01\n",
      "   4.0170991e-01  4.1195774e-01  4.2504132e-01  4.2938858e-01\n",
      "   4.5882237e-01  4.8292696e-01  4.8351216e-01]]\n"
     ]
    }
   ],
   "source": [
    "labels, distances = svd_p.knn_query(svd_vectors[3113], k = 11)\n",
    "print(labels, distances)"
   ]
  },
  {
   "cell_type": "code",
   "execution_count": 240,
   "id": "cb0f050a",
   "metadata": {
    "ExecuteTime": {
     "end_time": "2021-11-04T06:25:20.612488Z",
     "start_time": "2021-11-04T06:25:20.598478Z"
    }
   },
   "outputs": [
    {
     "data": {
      "text/plain": [
       "['국내RnB', 'RnB소울', '가을노래', '겨울밤', '국내알앤비', 'R', '그냥', '폴킴', '겨울감성', '꿀성대']"
      ]
     },
     "execution_count": 240,
     "metadata": {},
     "output_type": "execute_result"
    }
   ],
   "source": [
    "#id_to_tag[24585]\n",
    "\n",
    "[id_to_tag[x] for x in labels[0][1:]]"
   ]
  },
  {
   "cell_type": "code",
   "execution_count": 241,
   "id": "designing-landscape",
   "metadata": {
    "ExecuteTime": {
     "end_time": "2021-11-04T06:26:03.281005Z",
     "start_time": "2021-11-04T06:26:03.259007Z"
    }
   },
   "outputs": [
    {
     "data": {
      "text/html": [
       "<div>\n",
       "<style scoped>\n",
       "    .dataframe tbody tr th:only-of-type {\n",
       "        vertical-align: middle;\n",
       "    }\n",
       "\n",
       "    .dataframe tbody tr th {\n",
       "        vertical-align: top;\n",
       "    }\n",
       "\n",
       "    .dataframe thead th {\n",
       "        text-align: right;\n",
       "    }\n",
       "</style>\n",
       "<table border=\"1\" class=\"dataframe\">\n",
       "  <thead>\n",
       "    <tr style=\"text-align: right;\">\n",
       "      <th></th>\n",
       "      <th>태그원본</th>\n",
       "      <th>예측용태그</th>\n",
       "      <th>검증용태그</th>\n",
       "      <th>als_예측결과</th>\n",
       "      <th>svd_예측결과</th>\n",
       "      <th>als_히트</th>\n",
       "      <th>svd_히트</th>\n",
       "    </tr>\n",
       "  </thead>\n",
       "  <tbody>\n",
       "    <tr>\n",
       "      <th>0</th>\n",
       "      <td>[운동, 드라이브, Pop, 트로피컬하우스, 힐링, 기분전환, 2017, 팝, 트렌...</td>\n",
       "      <td>[운동, 드라이브]</td>\n",
       "      <td>[Pop, 트로피컬하우스, 힐링, 기분전환, 2017, 팝, 트렌드, 일렉]</td>\n",
       "      <td>[임영웅, 에너지, 질주, 트랩, 아이돌그룹, 노동요, 아이돌탐구생활, 자연, 아이...</td>\n",
       "      <td>[헝가리, 명상_음악, 저기압, 블루지한, 세엑스왜안와, 힙합라운지, 싱스트리트_존...</td>\n",
       "      <td>0</td>\n",
       "      <td>0</td>\n",
       "    </tr>\n",
       "    <tr>\n",
       "      <th>1</th>\n",
       "      <td>[여름, 일렉트로니카, 매장음악, 취향저격, 댄스, 드라이브, 여행, 기분전환, 일...</td>\n",
       "      <td>[여름, 일렉트로니카]</td>\n",
       "      <td>[매장음악, 취향저격, 댄스, 드라이브, 여행, 기분전환, 일렉, 신나는]</td>\n",
       "      <td>[방탄소년단명곡, 아이돌탐구생활, 매장음악, 에너지, 장르, 힙스터, 임영웅, 위너...</td>\n",
       "      <td>[여신, 치카치카, 장기휴식, Latin, blueming, 세탁, 찬송, 박효신추...</td>\n",
       "      <td>1</td>\n",
       "      <td>0</td>\n",
       "    </tr>\n",
       "    <tr>\n",
       "      <th>2</th>\n",
       "      <td>[잔잔한, 감성, 새벽, 우울, 발라드, 알앤비, 기분전환, 사랑, 이별, 인디]</td>\n",
       "      <td>[잔잔한, 감성]</td>\n",
       "      <td>[새벽, 우울, 발라드, 알앤비, 기분전환, 사랑, 이별, 인디]</td>\n",
       "      <td>[임영웅, 좋아, 감미로움, 과거, 아이돌탐구생활, 고요한, 아이돌그룹, 괜찮아, ...</td>\n",
       "      <td>[쟁글팝, 멜론티켓, 타이가, 옛날팝송, 내려놓기, 2019년기대주, 아레나록, 매...</td>\n",
       "      <td>0</td>\n",
       "      <td>0</td>\n",
       "    </tr>\n",
       "    <tr>\n",
       "      <th>3</th>\n",
       "      <td>[휴식, 새벽, 펍, 매장, 드라이브, 그루브, 라운지, 기분전환, 퇴근길, 세련된]</td>\n",
       "      <td>[휴식, 새벽]</td>\n",
       "      <td>[펍, 매장, 드라이브, 그루브, 라운지, 기분전환, 퇴근길, 세련된]</td>\n",
       "      <td>[좋아, 감미로움, 아이돌탐구생활, 아이돌그룹, 괜찮아, 마무리, 가사로듣는, 장르...</td>\n",
       "      <td>[결정의순간, 맛있는노래, 치카치카, 만화카페, 코다라인내한, 선데이, 찬송, 텔레...</td>\n",
       "      <td>0</td>\n",
       "      <td>0</td>\n",
       "    </tr>\n",
       "    <tr>\n",
       "      <th>4</th>\n",
       "      <td>[잠, 매장, 매장음악, 카페, 잔잔한, 추억, 일상, 추위, 자장가, 새벽]</td>\n",
       "      <td>[잠, 매장]</td>\n",
       "      <td>[매장음악, 카페, 잔잔한, 추억, 일상, 추위, 자장가, 새벽]</td>\n",
       "      <td>[고요한, 졸릴때, 세련된, 매장음악, 마무리, 아이돌그룹, 좋아, 질주, 밤에듣기...</td>\n",
       "      <td>[seapunk, 심야드라이브, 모즈다이브, 기상후, 조장혁, 여자가수만, 윤석철트...</td>\n",
       "      <td>1</td>\n",
       "      <td>0</td>\n",
       "    </tr>\n",
       "  </tbody>\n",
       "</table>\n",
       "</div>"
      ],
      "text/plain": [
       "                                                태그원본         예측용태그  \\\n",
       "0  [운동, 드라이브, Pop, 트로피컬하우스, 힐링, 기분전환, 2017, 팝, 트렌...    [운동, 드라이브]   \n",
       "1  [여름, 일렉트로니카, 매장음악, 취향저격, 댄스, 드라이브, 여행, 기분전환, 일...  [여름, 일렉트로니카]   \n",
       "2      [잔잔한, 감성, 새벽, 우울, 발라드, 알앤비, 기분전환, 사랑, 이별, 인디]     [잔잔한, 감성]   \n",
       "3    [휴식, 새벽, 펍, 매장, 드라이브, 그루브, 라운지, 기분전환, 퇴근길, 세련된]      [휴식, 새벽]   \n",
       "4        [잠, 매장, 매장음악, 카페, 잔잔한, 추억, 일상, 추위, 자장가, 새벽]       [잠, 매장]   \n",
       "\n",
       "                                        검증용태그  \\\n",
       "0  [Pop, 트로피컬하우스, 힐링, 기분전환, 2017, 팝, 트렌드, 일렉]   \n",
       "1   [매장음악, 취향저격, 댄스, 드라이브, 여행, 기분전환, 일렉, 신나는]   \n",
       "2        [새벽, 우울, 발라드, 알앤비, 기분전환, 사랑, 이별, 인디]   \n",
       "3     [펍, 매장, 드라이브, 그루브, 라운지, 기분전환, 퇴근길, 세련된]   \n",
       "4        [매장음악, 카페, 잔잔한, 추억, 일상, 추위, 자장가, 새벽]   \n",
       "\n",
       "                                            als_예측결과  \\\n",
       "0  [임영웅, 에너지, 질주, 트랩, 아이돌그룹, 노동요, 아이돌탐구생활, 자연, 아이...   \n",
       "1  [방탄소년단명곡, 아이돌탐구생활, 매장음악, 에너지, 장르, 힙스터, 임영웅, 위너...   \n",
       "2  [임영웅, 좋아, 감미로움, 과거, 아이돌탐구생활, 고요한, 아이돌그룹, 괜찮아, ...   \n",
       "3  [좋아, 감미로움, 아이돌탐구생활, 아이돌그룹, 괜찮아, 마무리, 가사로듣는, 장르...   \n",
       "4  [고요한, 졸릴때, 세련된, 매장음악, 마무리, 아이돌그룹, 좋아, 질주, 밤에듣기...   \n",
       "\n",
       "                                            svd_예측결과  als_히트  svd_히트  \n",
       "0  [헝가리, 명상_음악, 저기압, 블루지한, 세엑스왜안와, 힙합라운지, 싱스트리트_존...       0       0  \n",
       "1  [여신, 치카치카, 장기휴식, Latin, blueming, 세탁, 찬송, 박효신추...       1       0  \n",
       "2  [쟁글팝, 멜론티켓, 타이가, 옛날팝송, 내려놓기, 2019년기대주, 아레나록, 매...       0       0  \n",
       "3  [결정의순간, 맛있는노래, 치카치카, 만화카페, 코다라인내한, 선데이, 찬송, 텔레...       0       0  \n",
       "4  [seapunk, 심야드라이브, 모즈다이브, 기상후, 조장혁, 여자가수만, 윤석철트...       1       0  "
      ]
     },
     "execution_count": 241,
     "metadata": {},
     "output_type": "execute_result"
    }
   ],
   "source": [
    "cal_tag_hit_df.head()"
   ]
  },
  {
   "cell_type": "code",
   "execution_count": 259,
   "id": "6e4f89cc",
   "metadata": {
    "ExecuteTime": {
     "end_time": "2021-11-04T07:15:52.513622Z",
     "start_time": "2021-11-04T07:15:52.495623Z"
    }
   },
   "outputs": [],
   "source": [
    "def tag_svd(x):\n",
    "    target_ids = [tag_to_id[t] for t in x]\n",
    "    \n",
    "    vectors = np.zeros((100,1))\n",
    "    \n",
    "    for id in target_ids:\n",
    "        vectors = vectors+svd_vectors[id]\n",
    "    \n",
    "    labels, distances = svd_p.knn_query(vectors/len(target_ids), k = 12)\n",
    "    \n",
    "    ids = [l for l in labels[0][2:]]\n",
    "    \n",
    "    return [id_to_tag[tag] for tag in ids]"
   ]
  },
  {
   "cell_type": "code",
   "execution_count": 260,
   "id": "8229231a",
   "metadata": {
    "ExecuteTime": {
     "end_time": "2021-11-04T07:16:10.144654Z",
     "start_time": "2021-11-04T07:15:59.969654Z"
    }
   },
   "outputs": [
    {
     "data": {
      "text/html": [
       "<div>\n",
       "<style scoped>\n",
       "    .dataframe tbody tr th:only-of-type {\n",
       "        vertical-align: middle;\n",
       "    }\n",
       "\n",
       "    .dataframe tbody tr th {\n",
       "        vertical-align: top;\n",
       "    }\n",
       "\n",
       "    .dataframe thead th {\n",
       "        text-align: right;\n",
       "    }\n",
       "</style>\n",
       "<table border=\"1\" class=\"dataframe\">\n",
       "  <thead>\n",
       "    <tr style=\"text-align: right;\">\n",
       "      <th></th>\n",
       "      <th>태그원본</th>\n",
       "      <th>예측용태그</th>\n",
       "      <th>검증용태그</th>\n",
       "      <th>als_예측결과</th>\n",
       "      <th>svd_예측결과</th>\n",
       "      <th>als_히트</th>\n",
       "      <th>svd_히트</th>\n",
       "    </tr>\n",
       "  </thead>\n",
       "  <tbody>\n",
       "    <tr>\n",
       "      <th>0</th>\n",
       "      <td>[운동, 드라이브, Pop, 트로피컬하우스, 힐링, 기분전환, 2017, 팝, 트렌...</td>\n",
       "      <td>[운동, 드라이브]</td>\n",
       "      <td>[Pop, 트로피컬하우스, 힐링, 기분전환, 2017, 팝, 트렌드, 일렉]</td>\n",
       "      <td>NaN</td>\n",
       "      <td>[운동할때, 드라이브, 여름, 신나는음악, 신나는, 흥, 헬스, 신나는노래, 다이어...</td>\n",
       "      <td>NaN</td>\n",
       "      <td>0</td>\n",
       "    </tr>\n",
       "    <tr>\n",
       "      <th>1</th>\n",
       "      <td>[여름, 일렉트로니카, 매장음악, 취향저격, 댄스, 드라이브, 여행, 기분전환, 일...</td>\n",
       "      <td>[여름, 일렉트로니카]</td>\n",
       "      <td>[매장음악, 취향저격, 댄스, 드라이브, 여행, 기분전환, 일렉, 신나는]</td>\n",
       "      <td>NaN</td>\n",
       "      <td>[일렉트로닉팝, ElectronicPop, electronica, tropical,...</td>\n",
       "      <td>NaN</td>\n",
       "      <td>0</td>\n",
       "    </tr>\n",
       "    <tr>\n",
       "      <th>2</th>\n",
       "      <td>[잔잔한, 감성, 새벽, 우울, 발라드, 알앤비, 기분전환, 사랑, 이별, 인디]</td>\n",
       "      <td>[잔잔한, 감성]</td>\n",
       "      <td>[새벽, 우울, 발라드, 알앤비, 기분전환, 사랑, 이별, 인디]</td>\n",
       "      <td>NaN</td>\n",
       "      <td>[쓸쓸, 밤, 새벽감성, 새벽, 우울, 카페, 가을, 휴식, 혼자, 따뜻한]</td>\n",
       "      <td>NaN</td>\n",
       "      <td>1</td>\n",
       "    </tr>\n",
       "    <tr>\n",
       "      <th>3</th>\n",
       "      <td>[휴식, 새벽, 펍, 매장, 드라이브, 그루브, 라운지, 기분전환, 퇴근길, 세련된]</td>\n",
       "      <td>[휴식, 새벽]</td>\n",
       "      <td>[펍, 매장, 드라이브, 그루브, 라운지, 기분전환, 퇴근길, 세련된]</td>\n",
       "      <td>NaN</td>\n",
       "      <td>[휴식, 잔잔한, 힐링, 가을, 비오는날, 산책, 사랑, 까페, 잠안올때, 설렘]</td>\n",
       "      <td>NaN</td>\n",
       "      <td>0</td>\n",
       "    </tr>\n",
       "    <tr>\n",
       "      <th>4</th>\n",
       "      <td>[잠, 매장, 매장음악, 카페, 잔잔한, 추억, 일상, 추위, 자장가, 새벽]</td>\n",
       "      <td>[잠, 매장]</td>\n",
       "      <td>[매장음악, 카페, 잔잔한, 추억, 일상, 추위, 자장가, 새벽]</td>\n",
       "      <td>NaN</td>\n",
       "      <td>[카페, 일상, 날씨, 잠안올때, 휴식, 생각, 잔잔한, 봄날, 편안한, 주말]</td>\n",
       "      <td>NaN</td>\n",
       "      <td>1</td>\n",
       "    </tr>\n",
       "  </tbody>\n",
       "</table>\n",
       "</div>"
      ],
      "text/plain": [
       "                                                태그원본         예측용태그  \\\n",
       "0  [운동, 드라이브, Pop, 트로피컬하우스, 힐링, 기분전환, 2017, 팝, 트렌...    [운동, 드라이브]   \n",
       "1  [여름, 일렉트로니카, 매장음악, 취향저격, 댄스, 드라이브, 여행, 기분전환, 일...  [여름, 일렉트로니카]   \n",
       "2      [잔잔한, 감성, 새벽, 우울, 발라드, 알앤비, 기분전환, 사랑, 이별, 인디]     [잔잔한, 감성]   \n",
       "3    [휴식, 새벽, 펍, 매장, 드라이브, 그루브, 라운지, 기분전환, 퇴근길, 세련된]      [휴식, 새벽]   \n",
       "4        [잠, 매장, 매장음악, 카페, 잔잔한, 추억, 일상, 추위, 자장가, 새벽]       [잠, 매장]   \n",
       "\n",
       "                                        검증용태그 als_예측결과  \\\n",
       "0  [Pop, 트로피컬하우스, 힐링, 기분전환, 2017, 팝, 트렌드, 일렉]      NaN   \n",
       "1   [매장음악, 취향저격, 댄스, 드라이브, 여행, 기분전환, 일렉, 신나는]      NaN   \n",
       "2        [새벽, 우울, 발라드, 알앤비, 기분전환, 사랑, 이별, 인디]      NaN   \n",
       "3     [펍, 매장, 드라이브, 그루브, 라운지, 기분전환, 퇴근길, 세련된]      NaN   \n",
       "4        [매장음악, 카페, 잔잔한, 추억, 일상, 추위, 자장가, 새벽]      NaN   \n",
       "\n",
       "                                            svd_예측결과 als_히트  svd_히트  \n",
       "0  [운동할때, 드라이브, 여름, 신나는음악, 신나는, 흥, 헬스, 신나는노래, 다이어...    NaN       0  \n",
       "1  [일렉트로닉팝, ElectronicPop, electronica, tropical,...    NaN       0  \n",
       "2         [쓸쓸, 밤, 새벽감성, 새벽, 우울, 카페, 가을, 휴식, 혼자, 따뜻한]    NaN       1  \n",
       "3      [휴식, 잔잔한, 힐링, 가을, 비오는날, 산책, 사랑, 까페, 잠안올때, 설렘]    NaN       0  \n",
       "4       [카페, 일상, 날씨, 잠안올때, 휴식, 생각, 잔잔한, 봄날, 편안한, 주말]    NaN       1  "
      ]
     },
     "execution_count": 260,
     "metadata": {},
     "output_type": "execute_result"
    }
   ],
   "source": [
    "cal_tag_hit_df['svd_예측결과'] = cal_tag_hit_df['예측용태그'].map(tag_svd)\n",
    "cal_tag_hit_df.head()"
   ]
  },
  {
   "cell_type": "code",
   "execution_count": 261,
   "id": "6650697c",
   "metadata": {
    "ExecuteTime": {
     "end_time": "2021-11-04T07:16:41.540833Z",
     "start_time": "2021-11-04T07:16:41.535830Z"
    }
   },
   "outputs": [],
   "source": [
    "val_tag = cal_tag_hit_df['검증용태그'].tolist()\n",
    "svd_tag = cal_tag_hit_df['svd_예측결과'].tolist()"
   ]
  },
  {
   "cell_type": "code",
   "execution_count": 262,
   "id": "e26fd484",
   "metadata": {
    "ExecuteTime": {
     "end_time": "2021-11-04T07:16:48.967275Z",
     "start_time": "2021-11-04T07:16:48.938259Z"
    }
   },
   "outputs": [
    {
     "data": {
      "text/plain": [
       "[0, 0, 1, 0, 1]"
      ]
     },
     "execution_count": 262,
     "metadata": {},
     "output_type": "execute_result"
    }
   ],
   "source": [
    "svd_hit = []\n",
    "\n",
    "for val,svd in zip(val_tag,svd_tag):\n",
    "    if len(val) == len(set(val)-set(svd)):\n",
    "        svd_hit.append(0)\n",
    "    else:\n",
    "        svd_hit.append(1)\n",
    "             \n",
    "svd_hit[:5]"
   ]
  },
  {
   "cell_type": "code",
   "execution_count": 249,
   "id": "aab3e3ee",
   "metadata": {
    "ExecuteTime": {
     "end_time": "2021-11-04T06:28:23.574927Z",
     "start_time": "2021-11-04T06:28:23.560925Z"
    }
   },
   "outputs": [],
   "source": [
    "sum(svd_hit)\n",
    "\n",
    "cal_tag_hit_df['svd_히트'] = svd_hit"
   ]
  },
  {
   "cell_type": "code",
   "execution_count": 250,
   "id": "6d4c82a5",
   "metadata": {
    "ExecuteTime": {
     "end_time": "2021-11-04T06:28:30.999960Z",
     "start_time": "2021-11-04T06:28:30.985958Z"
    }
   },
   "outputs": [
    {
     "data": {
      "text/html": [
       "<div>\n",
       "<style scoped>\n",
       "    .dataframe tbody tr th:only-of-type {\n",
       "        vertical-align: middle;\n",
       "    }\n",
       "\n",
       "    .dataframe tbody tr th {\n",
       "        vertical-align: top;\n",
       "    }\n",
       "\n",
       "    .dataframe thead th {\n",
       "        text-align: right;\n",
       "    }\n",
       "</style>\n",
       "<table border=\"1\" class=\"dataframe\">\n",
       "  <thead>\n",
       "    <tr style=\"text-align: right;\">\n",
       "      <th></th>\n",
       "      <th>태그원본</th>\n",
       "      <th>예측용태그</th>\n",
       "      <th>검증용태그</th>\n",
       "      <th>als_예측결과</th>\n",
       "      <th>svd_예측결과</th>\n",
       "      <th>als_히트</th>\n",
       "      <th>svd_히트</th>\n",
       "    </tr>\n",
       "  </thead>\n",
       "  <tbody>\n",
       "    <tr>\n",
       "      <th>0</th>\n",
       "      <td>[운동, 드라이브, Pop, 트로피컬하우스, 힐링, 기분전환, 2017, 팝, 트렌...</td>\n",
       "      <td>[운동, 드라이브]</td>\n",
       "      <td>[Pop, 트로피컬하우스, 힐링, 기분전환, 2017, 팝, 트렌드, 일렉]</td>\n",
       "      <td>NaN</td>\n",
       "      <td>[스트레스, 운동할때, 드라이브, 여름, 신나는음악, 신나는, 흥, 헬스, 신나는노...</td>\n",
       "      <td>NaN</td>\n",
       "      <td>0</td>\n",
       "    </tr>\n",
       "    <tr>\n",
       "      <th>1</th>\n",
       "      <td>[여름, 일렉트로니카, 매장음악, 취향저격, 댄스, 드라이브, 여행, 기분전환, 일...</td>\n",
       "      <td>[여름, 일렉트로니카]</td>\n",
       "      <td>[매장음악, 취향저격, 댄스, 드라이브, 여행, 기분전환, 일렉, 신나는]</td>\n",
       "      <td>NaN</td>\n",
       "      <td>[일렉트로닉, 일렉트로닉팝, ElectronicPop, electronica, tr...</td>\n",
       "      <td>NaN</td>\n",
       "      <td>0</td>\n",
       "    </tr>\n",
       "    <tr>\n",
       "      <th>2</th>\n",
       "      <td>[잔잔한, 감성, 새벽, 우울, 발라드, 알앤비, 기분전환, 사랑, 이별, 인디]</td>\n",
       "      <td>[잔잔한, 감성]</td>\n",
       "      <td>[새벽, 우울, 발라드, 알앤비, 기분전환, 사랑, 이별, 인디]</td>\n",
       "      <td>NaN</td>\n",
       "      <td>[감성, 쓸쓸, 밤, 새벽감성, 새벽, 우울, 카페, 가을, 휴식, 혼자]</td>\n",
       "      <td>NaN</td>\n",
       "      <td>1</td>\n",
       "    </tr>\n",
       "    <tr>\n",
       "      <th>3</th>\n",
       "      <td>[휴식, 새벽, 펍, 매장, 드라이브, 그루브, 라운지, 기분전환, 퇴근길, 세련된]</td>\n",
       "      <td>[휴식, 새벽]</td>\n",
       "      <td>[펍, 매장, 드라이브, 그루브, 라운지, 기분전환, 퇴근길, 세련된]</td>\n",
       "      <td>NaN</td>\n",
       "      <td>[밤, 휴식, 잔잔한, 힐링, 가을, 비오는날, 산책, 사랑, 까페, 잠안올때]</td>\n",
       "      <td>NaN</td>\n",
       "      <td>0</td>\n",
       "    </tr>\n",
       "    <tr>\n",
       "      <th>4</th>\n",
       "      <td>[잠, 매장, 매장음악, 카페, 잔잔한, 추억, 일상, 추위, 자장가, 새벽]</td>\n",
       "      <td>[잠, 매장]</td>\n",
       "      <td>[매장음악, 카페, 잔잔한, 추억, 일상, 추위, 자장가, 새벽]</td>\n",
       "      <td>NaN</td>\n",
       "      <td>[매장, 카페, 일상, 날씨, 잠안올때, 휴식, 생각, 잔잔한, 봄날, 편안한]</td>\n",
       "      <td>NaN</td>\n",
       "      <td>1</td>\n",
       "    </tr>\n",
       "  </tbody>\n",
       "</table>\n",
       "</div>"
      ],
      "text/plain": [
       "                                                태그원본         예측용태그  \\\n",
       "0  [운동, 드라이브, Pop, 트로피컬하우스, 힐링, 기분전환, 2017, 팝, 트렌...    [운동, 드라이브]   \n",
       "1  [여름, 일렉트로니카, 매장음악, 취향저격, 댄스, 드라이브, 여행, 기분전환, 일...  [여름, 일렉트로니카]   \n",
       "2      [잔잔한, 감성, 새벽, 우울, 발라드, 알앤비, 기분전환, 사랑, 이별, 인디]     [잔잔한, 감성]   \n",
       "3    [휴식, 새벽, 펍, 매장, 드라이브, 그루브, 라운지, 기분전환, 퇴근길, 세련된]      [휴식, 새벽]   \n",
       "4        [잠, 매장, 매장음악, 카페, 잔잔한, 추억, 일상, 추위, 자장가, 새벽]       [잠, 매장]   \n",
       "\n",
       "                                        검증용태그 als_예측결과  \\\n",
       "0  [Pop, 트로피컬하우스, 힐링, 기분전환, 2017, 팝, 트렌드, 일렉]      NaN   \n",
       "1   [매장음악, 취향저격, 댄스, 드라이브, 여행, 기분전환, 일렉, 신나는]      NaN   \n",
       "2        [새벽, 우울, 발라드, 알앤비, 기분전환, 사랑, 이별, 인디]      NaN   \n",
       "3     [펍, 매장, 드라이브, 그루브, 라운지, 기분전환, 퇴근길, 세련된]      NaN   \n",
       "4        [매장음악, 카페, 잔잔한, 추억, 일상, 추위, 자장가, 새벽]      NaN   \n",
       "\n",
       "                                            svd_예측결과 als_히트  svd_히트  \n",
       "0  [스트레스, 운동할때, 드라이브, 여름, 신나는음악, 신나는, 흥, 헬스, 신나는노...    NaN       0  \n",
       "1  [일렉트로닉, 일렉트로닉팝, ElectronicPop, electronica, tr...    NaN       0  \n",
       "2          [감성, 쓸쓸, 밤, 새벽감성, 새벽, 우울, 카페, 가을, 휴식, 혼자]    NaN       1  \n",
       "3       [밤, 휴식, 잔잔한, 힐링, 가을, 비오는날, 산책, 사랑, 까페, 잠안올때]    NaN       0  \n",
       "4       [매장, 카페, 일상, 날씨, 잠안올때, 휴식, 생각, 잔잔한, 봄날, 편안한]    NaN       1  "
      ]
     },
     "execution_count": 250,
     "metadata": {},
     "output_type": "execute_result"
    }
   ],
   "source": [
    "cal_tag_hit_df.head()"
   ]
  },
  {
   "cell_type": "code",
   "execution_count": 263,
   "id": "00521a2e",
   "metadata": {
    "ExecuteTime": {
     "end_time": "2021-11-04T07:16:56.422268Z",
     "start_time": "2021-11-04T07:16:56.409340Z"
    }
   },
   "outputs": [
    {
     "data": {
      "text/plain": [
       "0.5816278706452117"
      ]
     },
     "execution_count": 263,
     "metadata": {},
     "output_type": "execute_result"
    }
   ],
   "source": [
    "sum(svd_hit)/len(svd_hit)"
   ]
  },
  {
   "cell_type": "code",
   "execution_count": 254,
   "id": "hungarian-things",
   "metadata": {
    "ExecuteTime": {
     "end_time": "2021-11-04T06:34:06.866483Z",
     "start_time": "2021-11-04T06:34:06.823396Z"
    }
   },
   "outputs": [],
   "source": [
    "with open('./data/svd_knn_model.pickle', 'rb') as f:\n",
    "    svd_p = pickle.load(f)"
   ]
  },
  {
   "cell_type": "code",
   "execution_count": 255,
   "id": "cubic-evanescence",
   "metadata": {
    "ExecuteTime": {
     "end_time": "2021-11-04T06:34:31.759487Z",
     "start_time": "2021-11-04T06:34:31.747489Z"
    }
   },
   "outputs": [],
   "source": [
    "with open('./data/svd_tag_vectors.pickle', 'rb') as f:\n",
    "    svd_vectors = pickle.load(f)"
   ]
  },
  {
   "cell_type": "code",
   "execution_count": 257,
   "id": "immune-billion",
   "metadata": {
    "ExecuteTime": {
     "end_time": "2021-11-04T06:35:34.428834Z",
     "start_time": "2021-11-04T06:35:34.416835Z"
    }
   },
   "outputs": [],
   "source": [
    "labels,distances = svd_p.knn_query(svd_vectors[3113], k = 11)"
   ]
  },
  {
   "cell_type": "code",
   "execution_count": 258,
   "id": "wicked-assurance",
   "metadata": {
    "ExecuteTime": {
     "end_time": "2021-11-04T06:35:41.883861Z",
     "start_time": "2021-11-04T06:35:41.869862Z"
    }
   },
   "outputs": [
    {
     "data": {
      "text/plain": [
       "['국내RnB', 'RnB소울', '가을노래', '겨울밤', '국내알앤비', 'R', '그냥', '폴킴', '겨울감성', '꿀성대']"
      ]
     },
     "execution_count": 258,
     "metadata": {},
     "output_type": "execute_result"
    }
   ],
   "source": [
    "[id_to_tag[x] for x in labels[0][1:]]"
   ]
  }
 ],
 "metadata": {
  "kernelspec": {
   "display_name": "Python 3",
   "language": "python",
   "name": "python3"
  },
  "language_info": {
   "codemirror_mode": {
    "name": "ipython",
    "version": 3
   },
   "file_extension": ".py",
   "mimetype": "text/x-python",
   "name": "python",
   "nbconvert_exporter": "python",
   "pygments_lexer": "ipython3",
   "version": "3.9.1"
  },
  "toc": {
   "base_numbering": 1,
   "nav_menu": {},
   "number_sections": true,
   "sideBar": true,
   "skip_h1_title": false,
   "title_cell": "Table of Contents",
   "title_sidebar": "Contents",
   "toc_cell": false,
   "toc_position": {},
   "toc_section_display": true,
   "toc_window_display": false
  },
  "varInspector": {
   "cols": {
    "lenName": 16,
    "lenType": 16,
    "lenVar": 40
   },
   "kernels_config": {
    "python": {
     "delete_cmd_postfix": "",
     "delete_cmd_prefix": "del ",
     "library": "var_list.py",
     "varRefreshCmd": "print(var_dic_list())"
    },
    "r": {
     "delete_cmd_postfix": ") ",
     "delete_cmd_prefix": "rm(",
     "library": "var_list.r",
     "varRefreshCmd": "cat(var_dic_list()) "
    }
   },
   "types_to_exclude": [
    "module",
    "function",
    "builtin_function_or_method",
    "instance",
    "_Feature"
   ],
   "window_display": false
  }
 },
 "nbformat": 4,
 "nbformat_minor": 5
}
