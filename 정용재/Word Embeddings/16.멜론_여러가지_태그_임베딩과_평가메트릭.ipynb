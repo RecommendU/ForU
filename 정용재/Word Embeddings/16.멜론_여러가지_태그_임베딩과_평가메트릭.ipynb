{
 "cells": [
  {
   "cell_type": "markdown",
   "id": "09383984",
   "metadata": {},
   "source": [
    "# 필요한 라이브러리 import"
   ]
  },
  {
   "cell_type": "code",
   "execution_count": 1,
   "id": "c5bfe0a3",
   "metadata": {
    "ExecuteTime": {
     "end_time": "2021-11-09T07:54:41.378958Z",
     "start_time": "2021-11-09T07:54:36.768190Z"
    }
   },
   "outputs": [],
   "source": [
    "import os\n",
    "import json\n",
    "import numpy as np\n",
    "import pandas as pd\n",
    "from gensim import corpora\n",
    "from gensim.models import Word2Vec\n",
    "from sklearn.decomposition import TruncatedSVD\n",
    "from scipy import sparse as spr\n",
    "import configparser\n",
    "import pymysql\n",
    "from itertools import chain\n",
    "from collections import defaultdict,Counter\n",
    "import hnswlib\n",
    "import warnings\n",
    "import tqdm\n",
    "import pickle\n",
    "import matplotlib.pyplot as plt\n",
    "import seaborn as sns\n",
    "from implicit.als import AlternatingLeastSquares\n",
    "from sklearn.decomposition import NMF\n",
    "from itertools import repeat\n",
    "from sklearn.preprocessing import MinMaxScaler\n",
    "import random\n",
    "from scipy.stats import skew,kurtosis\n",
    "warnings.filterwarnings(action='ignore')"
   ]
  },
  {
   "cell_type": "markdown",
   "id": "9ae8eb62",
   "metadata": {},
   "source": [
    "# 데이터 로드"
   ]
  },
  {
   "cell_type": "code",
   "execution_count": 2,
   "id": "alike-angola",
   "metadata": {
    "ExecuteTime": {
     "end_time": "2021-11-09T07:54:47.200016Z",
     "start_time": "2021-11-09T07:54:41.380066Z"
    }
   },
   "outputs": [],
   "source": [
    "with open('./data/song_meta.json',encoding='utf-8-sig') as f:\n",
    "    song_dict = json.load(f)\n",
    "    \n",
    "song_df = pd.DataFrame.from_dict(song_dict)"
   ]
  },
  {
   "cell_type": "code",
   "execution_count": 3,
   "id": "unique-electric",
   "metadata": {
    "ExecuteTime": {
     "end_time": "2021-11-09T07:54:47.215915Z",
     "start_time": "2021-11-09T07:54:47.200914Z"
    }
   },
   "outputs": [],
   "source": [
    "with open('./data/genre_gn_all.json',encoding='utf-8-sig') as f:\n",
    "    genre_dict = json.load(f)"
   ]
  },
  {
   "cell_type": "code",
   "execution_count": 4,
   "id": "31d7a997",
   "metadata": {
    "ExecuteTime": {
     "end_time": "2021-11-09T07:54:48.417252Z",
     "start_time": "2021-11-09T07:54:47.217915Z"
    }
   },
   "outputs": [],
   "source": [
    "with open('data/train.json',encoding='utf-8-sig') as f:\n",
    "    train_dict = json.load(f)\n",
    "    \n",
    "train_df = pd.DataFrame.from_dict(train_dict)"
   ]
  },
  {
   "cell_type": "markdown",
   "id": "7f312eb5",
   "metadata": {},
   "source": [
    "# 태그-id간 동기화를 위한 데이터베이스 연결"
   ]
  },
  {
   "cell_type": "code",
   "execution_count": 5,
   "id": "6f4107a6",
   "metadata": {
    "ExecuteTime": {
     "end_time": "2021-11-09T07:54:48.433232Z",
     "start_time": "2021-11-09T07:54:48.418231Z"
    }
   },
   "outputs": [],
   "source": [
    "# config parser 객체 생성\n",
    "config = configparser.ConfigParser()\n",
    "\n",
    "# parser객체로 config.ini 파일 읽기\n",
    "config.read('config.ini')\n",
    "\n",
    "# 연결 config 변수저장\n",
    "\n",
    "user = config['DEFAULT']['ADMIN_USER_NAME']\n",
    "passwd = config['DEFAULT']['ADMIN_PASSWORD']\n",
    "host = config['DEFAULT']['RDS_ENDPOINT']\n",
    "port = config['DEFAULT']['PORT']\n",
    "database = config['DEFAULT']['DEFAULT_DATABASE']"
   ]
  },
  {
   "cell_type": "code",
   "execution_count": 6,
   "id": "c1532a14",
   "metadata": {
    "ExecuteTime": {
     "end_time": "2021-11-09T07:54:48.637750Z",
     "start_time": "2021-11-09T07:54:48.435231Z"
    }
   },
   "outputs": [],
   "source": [
    "# 데이터 베이스 연결\n",
    "melon_recom_db = pymysql.connect(\n",
    "    host = host,\n",
    "    user = user,\n",
    "    password = passwd,\n",
    "    database = database,\n",
    "    port = int(port),\n",
    "    cursorclass = pymysql.cursors.DictCursor\n",
    ")"
   ]
  },
  {
   "cell_type": "code",
   "execution_count": 7,
   "id": "7646ef42",
   "metadata": {
    "ExecuteTime": {
     "end_time": "2021-11-09T07:54:48.874302Z",
     "start_time": "2021-11-09T07:54:48.638646Z"
    }
   },
   "outputs": [],
   "source": [
    "# 커서 생성 후 쿼리문 수행\n",
    "melon_cursor = melon_recom_db.cursor()\n",
    "melon_cursor.execute('select tag_id,tag from tag')\n",
    "tag_db_list=melon_cursor.fetchall()"
   ]
  },
  {
   "cell_type": "markdown",
   "id": "5de1509c",
   "metadata": {},
   "source": [
    "# tag 딕셔너리 만들기 "
   ]
  },
  {
   "cell_type": "code",
   "execution_count": 8,
   "id": "71a24f2c",
   "metadata": {
    "ExecuteTime": {
     "end_time": "2021-11-09T07:54:48.890302Z",
     "start_time": "2021-11-09T07:54:48.876306Z"
    }
   },
   "outputs": [],
   "source": [
    "# tag를 id로\n",
    "tag_to_id = {}\n",
    "\n",
    "# id를 tag로\n",
    "id_to_tag = {}\n",
    "\n",
    "for tag_db in tag_db_list:\n",
    "    tag_to_id[tag_db['tag']] = tag_db['tag_id']\n",
    "    \n",
    "for tag_db in tag_db_list:\n",
    "    id_to_tag[tag_db['tag_id']] = tag_db['tag']"
   ]
  },
  {
   "cell_type": "markdown",
   "id": "e83fb22c",
   "metadata": {},
   "source": [
    "# tag 전처리 빈도수로 컷"
   ]
  },
  {
   "cell_type": "code",
   "execution_count": 9,
   "id": "1e8963c5",
   "metadata": {
    "ExecuteTime": {
     "end_time": "2021-11-09T07:54:49.015057Z",
     "start_time": "2021-11-09T07:54:48.891304Z"
    }
   },
   "outputs": [],
   "source": [
    "# train dataframe tag 컬럼의 모든 tag들 (중복포함)\n",
    "tags_all = train_df['tags'].tolist()\n",
    "\n",
    "# 태그의 빈도수를 가진 dict, Counter 써도 됨\n",
    "tags_frequency = defaultdict(int)\n",
    "\n",
    "# 특정 tag가 나올 때마다 1더하기\n",
    "for tags in tags_all:\n",
    "    for tag in tags:\n",
    "        tags_frequency[tag] += 1"
   ]
  },
  {
   "cell_type": "code",
   "execution_count": 10,
   "id": "04c26c2d",
   "metadata": {
    "ExecuteTime": {
     "end_time": "2021-11-09T07:54:49.062058Z",
     "start_time": "2021-11-09T07:54:49.017058Z"
    }
   },
   "outputs": [
    {
     "data": {
      "text/html": [
       "<div>\n",
       "<style scoped>\n",
       "    .dataframe tbody tr th:only-of-type {\n",
       "        vertical-align: middle;\n",
       "    }\n",
       "\n",
       "    .dataframe tbody tr th {\n",
       "        vertical-align: top;\n",
       "    }\n",
       "\n",
       "    .dataframe thead th {\n",
       "        text-align: right;\n",
       "    }\n",
       "</style>\n",
       "<table border=\"1\" class=\"dataframe\">\n",
       "  <thead>\n",
       "    <tr style=\"text-align: right;\">\n",
       "      <th></th>\n",
       "      <th>count</th>\n",
       "      <th>mean</th>\n",
       "      <th>std</th>\n",
       "      <th>min</th>\n",
       "      <th>25%</th>\n",
       "      <th>50%</th>\n",
       "      <th>75%</th>\n",
       "      <th>max</th>\n",
       "    </tr>\n",
       "  </thead>\n",
       "  <tbody>\n",
       "    <tr>\n",
       "      <th>빈도</th>\n",
       "      <td>29160.0</td>\n",
       "      <td>16.335082</td>\n",
       "      <td>247.011075</td>\n",
       "      <td>1.0</td>\n",
       "      <td>1.0</td>\n",
       "      <td>1.0</td>\n",
       "      <td>3.0</td>\n",
       "      <td>16465.0</td>\n",
       "    </tr>\n",
       "  </tbody>\n",
       "</table>\n",
       "</div>"
      ],
      "text/plain": [
       "      count       mean         std  min  25%  50%  75%      max\n",
       "빈도  29160.0  16.335082  247.011075  1.0  1.0  1.0  3.0  16465.0"
      ]
     },
     "execution_count": 10,
     "metadata": {},
     "output_type": "execute_result"
    }
   ],
   "source": [
    "# 태그 빈도의 분포를 알아보자\n",
    "tag_freq = pd.DataFrame().from_dict(tags_frequency,orient=\"index\")\n",
    "tag_freq.columns=['빈도']\n",
    "tag_freq.describe().T"
   ]
  },
  {
   "cell_type": "raw",
   "id": "788c9c01",
   "metadata": {
    "ExecuteTime": {
     "end_time": "2021-11-09T07:54:49.204061Z",
     "start_time": "2021-11-09T07:54:49.063074Z"
    }
   },
   "source": [
    "# 빈도수로 태그를 filter\n",
    "\n",
    "def filter_func(x):\n",
    "    temp = []\n",
    "    for tag in x:\n",
    "        if tags_frequency[tag] >=1:\n",
    "            temp.append(tag)\n",
    "        else:\n",
    "            pass\n",
    "    return temp\n",
    "            \n",
    "train_df['tags'] = train_df['tags'].map(filter_func)"
   ]
  },
  {
   "cell_type": "code",
   "execution_count": 12,
   "id": "2c1c7387",
   "metadata": {
    "ExecuteTime": {
     "end_time": "2021-11-09T07:54:49.313057Z",
     "start_time": "2021-11-09T07:54:49.205062Z"
    }
   },
   "outputs": [
    {
     "data": {
      "text/html": [
       "<div>\n",
       "<style scoped>\n",
       "    .dataframe tbody tr th:only-of-type {\n",
       "        vertical-align: middle;\n",
       "    }\n",
       "\n",
       "    .dataframe tbody tr th {\n",
       "        vertical-align: top;\n",
       "    }\n",
       "\n",
       "    .dataframe thead th {\n",
       "        text-align: right;\n",
       "    }\n",
       "</style>\n",
       "<table border=\"1\" class=\"dataframe\">\n",
       "  <thead>\n",
       "    <tr style=\"text-align: right;\">\n",
       "      <th></th>\n",
       "      <th>tags</th>\n",
       "      <th>id</th>\n",
       "      <th>plylst_title</th>\n",
       "      <th>songs</th>\n",
       "      <th>like_cnt</th>\n",
       "      <th>updt_date</th>\n",
       "      <th>tag_ids</th>\n",
       "    </tr>\n",
       "  </thead>\n",
       "  <tbody>\n",
       "    <tr>\n",
       "      <th>0</th>\n",
       "      <td>[락]</td>\n",
       "      <td>61281</td>\n",
       "      <td>여행같은 음악</td>\n",
       "      <td>[525514, 129701, 383374, 562083, 297861, 13954...</td>\n",
       "      <td>71</td>\n",
       "      <td>2013-12-19 18:36:19.000</td>\n",
       "      <td>[25304]</td>\n",
       "    </tr>\n",
       "  </tbody>\n",
       "</table>\n",
       "</div>"
      ],
      "text/plain": [
       "  tags     id plylst_title                                              songs  \\\n",
       "0  [락]  61281      여행같은 음악  [525514, 129701, 383374, 562083, 297861, 13954...   \n",
       "\n",
       "   like_cnt                updt_date  tag_ids  \n",
       "0        71  2013-12-19 18:36:19.000  [25304]  "
      ]
     },
     "execution_count": 12,
     "metadata": {},
     "output_type": "execute_result"
    }
   ],
   "source": [
    "# filter된 태그의 id만 남기기\n",
    "train_df['tag_ids'] = train_df['tags'].map(lambda x : [tag_to_id[v] for v in x])\n",
    "train_df.head(1)"
   ]
  },
  {
   "cell_type": "markdown",
   "id": "ignored-upper",
   "metadata": {},
   "source": [
    "## 컬럼명 한글화"
   ]
  },
  {
   "cell_type": "code",
   "execution_count": 13,
   "id": "afraid-television",
   "metadata": {
    "ExecuteTime": {
     "end_time": "2021-11-09T07:54:49.328072Z",
     "start_time": "2021-11-09T07:54:49.314057Z"
    }
   },
   "outputs": [],
   "source": [
    "train_df.columns=['태그','플리아이디','플리제목','노래들','좋아요수','변경일자','태그아이디']"
   ]
  },
  {
   "cell_type": "code",
   "execution_count": 14,
   "id": "demonstrated-israeli",
   "metadata": {
    "ExecuteTime": {
     "end_time": "2021-11-09T07:54:49.360058Z",
     "start_time": "2021-11-09T07:54:49.329059Z"
    }
   },
   "outputs": [],
   "source": [
    "train_df['태그수'] = train_df['태그'].map(len)"
   ]
  },
  {
   "cell_type": "code",
   "execution_count": 15,
   "id": "transsexual-laptop",
   "metadata": {
    "ExecuteTime": {
     "end_time": "2021-11-09T07:54:49.376074Z",
     "start_time": "2021-11-09T07:54:49.362059Z"
    }
   },
   "outputs": [
    {
     "data": {
      "text/html": [
       "<div>\n",
       "<style scoped>\n",
       "    .dataframe tbody tr th:only-of-type {\n",
       "        vertical-align: middle;\n",
       "    }\n",
       "\n",
       "    .dataframe tbody tr th {\n",
       "        vertical-align: top;\n",
       "    }\n",
       "\n",
       "    .dataframe thead th {\n",
       "        text-align: right;\n",
       "    }\n",
       "</style>\n",
       "<table border=\"1\" class=\"dataframe\">\n",
       "  <thead>\n",
       "    <tr style=\"text-align: right;\">\n",
       "      <th></th>\n",
       "      <th>태그</th>\n",
       "      <th>플리아이디</th>\n",
       "      <th>플리제목</th>\n",
       "      <th>노래들</th>\n",
       "      <th>좋아요수</th>\n",
       "      <th>변경일자</th>\n",
       "      <th>태그아이디</th>\n",
       "      <th>태그수</th>\n",
       "    </tr>\n",
       "  </thead>\n",
       "  <tbody>\n",
       "    <tr>\n",
       "      <th>0</th>\n",
       "      <td>[락]</td>\n",
       "      <td>61281</td>\n",
       "      <td>여행같은 음악</td>\n",
       "      <td>[525514, 129701, 383374, 562083, 297861, 13954...</td>\n",
       "      <td>71</td>\n",
       "      <td>2013-12-19 18:36:19.000</td>\n",
       "      <td>[25304]</td>\n",
       "      <td>1</td>\n",
       "    </tr>\n",
       "  </tbody>\n",
       "</table>\n",
       "</div>"
      ],
      "text/plain": [
       "    태그  플리아이디     플리제목                                                노래들  \\\n",
       "0  [락]  61281  여행같은 음악  [525514, 129701, 383374, 562083, 297861, 13954...   \n",
       "\n",
       "   좋아요수                     변경일자    태그아이디  태그수  \n",
       "0    71  2013-12-19 18:36:19.000  [25304]    1  "
      ]
     },
     "execution_count": 15,
     "metadata": {},
     "output_type": "execute_result"
    }
   ],
   "source": [
    "train_df.head(1)"
   ]
  },
  {
   "cell_type": "markdown",
   "id": "affected-murray",
   "metadata": {},
   "source": [
    "# Train Test Split"
   ]
  },
  {
   "cell_type": "code",
   "execution_count": 16,
   "id": "disabled-forum",
   "metadata": {
    "ExecuteTime": {
     "end_time": "2021-11-09T07:54:49.454059Z",
     "start_time": "2021-11-09T07:54:49.378059Z"
    }
   },
   "outputs": [],
   "source": [
    "# 태그가 10개인거 부터 train에 쓸거임\n",
    "origin_tags = train_df[train_df['태그수']>9]['태그'].tolist()\n",
    "\n",
    "train_tags = []\n",
    "test_tags = []\n",
    "\n",
    "# 태그는 많아봐야 3개 사분위수 75% -> 3개\n",
    "for tags in origin_tags:\n",
    "    tag_3p = len(tags)//3\n",
    "    train_tag = random.sample(tags, tag_3p)\n",
    "    test_tag = list(set(tags)-set(train_tag))\n",
    "    train_tags.append(train_tag)\n",
    "    test_tags.append(test_tag)"
   ]
  },
  {
   "cell_type": "code",
   "execution_count": 17,
   "id": "comparative-migration",
   "metadata": {
    "ExecuteTime": {
     "end_time": "2021-11-09T07:54:49.484058Z",
     "start_time": "2021-11-09T07:54:49.456059Z"
    }
   },
   "outputs": [],
   "source": [
    "cal_tag_hit_df = pd.DataFrame(columns=['태그원본','예측용태그','검증용태그','svd_예측결과','svd_히트'])\n",
    "cal_tag_hit_df['태그원본'] = origin_tags"
   ]
  },
  {
   "cell_type": "code",
   "execution_count": 18,
   "id": "ancient-proposition",
   "metadata": {
    "ExecuteTime": {
     "end_time": "2021-11-09T07:54:49.515060Z",
     "start_time": "2021-11-09T07:54:49.485058Z"
    }
   },
   "outputs": [
    {
     "data": {
      "text/html": [
       "<div>\n",
       "<style scoped>\n",
       "    .dataframe tbody tr th:only-of-type {\n",
       "        vertical-align: middle;\n",
       "    }\n",
       "\n",
       "    .dataframe tbody tr th {\n",
       "        vertical-align: top;\n",
       "    }\n",
       "\n",
       "    .dataframe thead th {\n",
       "        text-align: right;\n",
       "    }\n",
       "</style>\n",
       "<table border=\"1\" class=\"dataframe\">\n",
       "  <thead>\n",
       "    <tr style=\"text-align: right;\">\n",
       "      <th></th>\n",
       "      <th>태그원본</th>\n",
       "      <th>예측용태그</th>\n",
       "      <th>검증용태그</th>\n",
       "      <th>svd_예측결과</th>\n",
       "      <th>svd_히트</th>\n",
       "    </tr>\n",
       "  </thead>\n",
       "  <tbody>\n",
       "    <tr>\n",
       "      <th>0</th>\n",
       "      <td>[운동, 드라이브, Pop, 트로피컬하우스, 힐링, 기분전환, 2017, 팝, 트렌...</td>\n",
       "      <td>[힐링, Pop, 트로피컬하우스]</td>\n",
       "      <td>[트렌드, 일렉, 2017, 드라이브, 기분전환, 팝, 운동]</td>\n",
       "      <td>NaN</td>\n",
       "      <td>NaN</td>\n",
       "    </tr>\n",
       "    <tr>\n",
       "      <th>1</th>\n",
       "      <td>[여름, 일렉트로니카, 매장음악, 취향저격, 댄스, 드라이브, 여행, 기분전환, 일...</td>\n",
       "      <td>[댄스, 신나는, 드라이브]</td>\n",
       "      <td>[여름, 여행, 일렉, 기분전환, 매장음악, 일렉트로니카, 취향저격]</td>\n",
       "      <td>NaN</td>\n",
       "      <td>NaN</td>\n",
       "    </tr>\n",
       "    <tr>\n",
       "      <th>2</th>\n",
       "      <td>[잔잔한, 감성, 새벽, 우울, 발라드, 알앤비, 기분전환, 사랑, 이별, 인디]</td>\n",
       "      <td>[알앤비, 기분전환, 잔잔한]</td>\n",
       "      <td>[새벽, 감성, 인디, 이별, 우울, 사랑, 발라드]</td>\n",
       "      <td>NaN</td>\n",
       "      <td>NaN</td>\n",
       "    </tr>\n",
       "    <tr>\n",
       "      <th>3</th>\n",
       "      <td>[휴식, 새벽, 펍, 매장, 드라이브, 그루브, 라운지, 기분전환, 퇴근길, 세련된]</td>\n",
       "      <td>[퇴근길, 라운지, 새벽]</td>\n",
       "      <td>[휴식, 매장, 그루브, 드라이브, 기분전환, 세련된, 펍]</td>\n",
       "      <td>NaN</td>\n",
       "      <td>NaN</td>\n",
       "    </tr>\n",
       "    <tr>\n",
       "      <th>4</th>\n",
       "      <td>[잠, 매장, 매장음악, 카페, 잔잔한, 추억, 일상, 추위, 자장가, 새벽]</td>\n",
       "      <td>[자장가, 잠, 추위]</td>\n",
       "      <td>[일상, 새벽, 매장, 매장음악, 잔잔한, 카페, 추억]</td>\n",
       "      <td>NaN</td>\n",
       "      <td>NaN</td>\n",
       "    </tr>\n",
       "  </tbody>\n",
       "</table>\n",
       "</div>"
      ],
      "text/plain": [
       "                                                태그원본               예측용태그  \\\n",
       "0  [운동, 드라이브, Pop, 트로피컬하우스, 힐링, 기분전환, 2017, 팝, 트렌...  [힐링, Pop, 트로피컬하우스]   \n",
       "1  [여름, 일렉트로니카, 매장음악, 취향저격, 댄스, 드라이브, 여행, 기분전환, 일...     [댄스, 신나는, 드라이브]   \n",
       "2      [잔잔한, 감성, 새벽, 우울, 발라드, 알앤비, 기분전환, 사랑, 이별, 인디]    [알앤비, 기분전환, 잔잔한]   \n",
       "3    [휴식, 새벽, 펍, 매장, 드라이브, 그루브, 라운지, 기분전환, 퇴근길, 세련된]      [퇴근길, 라운지, 새벽]   \n",
       "4        [잠, 매장, 매장음악, 카페, 잔잔한, 추억, 일상, 추위, 자장가, 새벽]        [자장가, 잠, 추위]   \n",
       "\n",
       "                                    검증용태그 svd_예측결과 svd_히트  \n",
       "0      [트렌드, 일렉, 2017, 드라이브, 기분전환, 팝, 운동]      NaN    NaN  \n",
       "1  [여름, 여행, 일렉, 기분전환, 매장음악, 일렉트로니카, 취향저격]      NaN    NaN  \n",
       "2           [새벽, 감성, 인디, 이별, 우울, 사랑, 발라드]      NaN    NaN  \n",
       "3       [휴식, 매장, 그루브, 드라이브, 기분전환, 세련된, 펍]      NaN    NaN  \n",
       "4         [일상, 새벽, 매장, 매장음악, 잔잔한, 카페, 추억]      NaN    NaN  "
      ]
     },
     "execution_count": 18,
     "metadata": {},
     "output_type": "execute_result"
    }
   ],
   "source": [
    "cal_tag_hit_df['예측용태그'] = train_tags\n",
    "cal_tag_hit_df['검증용태그'] = test_tags\n",
    "cal_tag_hit_df.head()"
   ]
  },
  {
   "cell_type": "markdown",
   "id": "ecc4df4b",
   "metadata": {},
   "source": [
    "# 희소행렬생성 태그,음악 행렬"
   ]
  },
  {
   "cell_type": "code",
   "execution_count": 19,
   "id": "grateful-identity",
   "metadata": {
    "ExecuteTime": {
     "end_time": "2021-11-09T07:54:49.530059Z",
     "start_time": "2021-11-09T07:54:49.517057Z"
    }
   },
   "outputs": [],
   "source": [
    "song_df.colums=['세부장르','발매일','앨범명','앨범ID','가수ID','노래명','대장르','가수명','노래ID']"
   ]
  },
  {
   "cell_type": "code",
   "execution_count": 20,
   "id": "listed-monthly",
   "metadata": {
    "ExecuteTime": {
     "end_time": "2021-11-09T07:54:49.546078Z",
     "start_time": "2021-11-09T07:54:49.532060Z"
    }
   },
   "outputs": [],
   "source": [
    "genre_dict['GN9000'] = '기타장르'\n",
    "\n",
    "genre_big = {}\n",
    "\n",
    "# 모든 장르 딕셔너리를 돌면서\n",
    "for k,v in genre_dict.items():\n",
    "    \n",
    "    # 맨 뒤 두자리가 00이면 대장류로 분류\n",
    "    if k[-2:] == '00':\n",
    "        \n",
    "        # 맨앞 네자리를 키로 하는 대장류 딕셔너리 값 추가\n",
    "        genre_big[k[:4]] = v\n",
    "\n",
    "genre_detail_dict = {}\n",
    "\n",
    "# 모든 딕셔너리를 돌면서\n",
    "for k,v in genre_dict.items():\n",
    "    \n",
    "    # 맨뒤 두자리가 00이 아니면 대장류가 아닌거임!\n",
    "    if k[-2:] != '00':\n",
    "        \n",
    "        # 그럴떈 아까만든 대장르 딕셔너리의 대장류 이름을 추가해서 이름을 수정해서 다시 넣어줌\n",
    "        new_value = genre_big[k[:4]]+'_'+v\n",
    "        genre_detail_dict[k] = new_value"
   ]
  },
  {
   "cell_type": "code",
   "execution_count": 21,
   "id": "30dc67eb",
   "metadata": {
    "ExecuteTime": {
     "end_time": "2021-11-09T07:54:49.562058Z",
     "start_time": "2021-11-09T07:54:49.548063Z"
    }
   },
   "outputs": [],
   "source": [
    "genre_big_dict = {}\n",
    "\n",
    "for k,v in genre_big.items():\n",
    "    genre_big_dict[k+'00'] = v"
   ]
  },
  {
   "cell_type": "markdown",
   "id": "b79b2e8f",
   "metadata": {},
   "source": [
    "# 태그 임베딩"
   ]
  },
  {
   "cell_type": "markdown",
   "id": "ff6232e1",
   "metadata": {},
   "source": [
    "## 세부장르ID와 CODE간 딕셔너리 생성"
   ]
  },
  {
   "cell_type": "code",
   "execution_count": 22,
   "id": "flexible-tumor",
   "metadata": {
    "ExecuteTime": {
     "end_time": "2021-11-09T07:54:49.578073Z",
     "start_time": "2021-11-09T07:54:49.563058Z"
    }
   },
   "outputs": [],
   "source": [
    "genre_detail_id_to_code = {}\n",
    "\n",
    "for i,v in enumerate(list(genre_detail_dict.keys())):\n",
    "    genre_detail_id_to_code[i] = v"
   ]
  },
  {
   "cell_type": "code",
   "execution_count": 23,
   "id": "d7e74e5c",
   "metadata": {
    "ExecuteTime": {
     "end_time": "2021-11-09T07:54:49.594059Z",
     "start_time": "2021-11-09T07:54:49.579058Z"
    }
   },
   "outputs": [
    {
     "data": {
      "text/plain": [
       "224"
      ]
     },
     "execution_count": 23,
     "metadata": {},
     "output_type": "execute_result"
    }
   ],
   "source": [
    "len(genre_detail_id_to_code)"
   ]
  },
  {
   "cell_type": "code",
   "execution_count": 24,
   "id": "violent-technician",
   "metadata": {
    "ExecuteTime": {
     "end_time": "2021-11-09T07:54:49.609059Z",
     "start_time": "2021-11-09T07:54:49.595059Z"
    }
   },
   "outputs": [],
   "source": [
    "genre_detail_code_to_id = {}\n",
    "\n",
    "for i,v in enumerate(list(genre_detail_dict.keys())):\n",
    "    genre_detail_code_to_id[v] = i"
   ]
  },
  {
   "cell_type": "markdown",
   "id": "f4580cfc",
   "metadata": {},
   "source": [
    "## 대장르ID와 CODE간 딕셔너리 생성"
   ]
  },
  {
   "cell_type": "code",
   "execution_count": 25,
   "id": "e1ec3bb8",
   "metadata": {
    "ExecuteTime": {
     "end_time": "2021-11-09T07:54:49.625057Z",
     "start_time": "2021-11-09T07:54:49.610058Z"
    }
   },
   "outputs": [],
   "source": [
    "genre_big_id_to_code = {}\n",
    "\n",
    "for i,v in enumerate(list(genre_big_dict.keys())):\n",
    "    genre_big_id_to_code[i] = v"
   ]
  },
  {
   "cell_type": "code",
   "execution_count": 26,
   "id": "7f46b721",
   "metadata": {
    "ExecuteTime": {
     "end_time": "2021-11-09T07:54:49.640058Z",
     "start_time": "2021-11-09T07:54:49.626059Z"
    }
   },
   "outputs": [],
   "source": [
    "genre_big_code_to_id = {}\n",
    "\n",
    "for i,v in enumerate(list(genre_big_dict.keys())):\n",
    "    genre_big_code_to_id[v] = i"
   ]
  },
  {
   "cell_type": "markdown",
   "id": "455434b6",
   "metadata": {},
   "source": [
    "## 노래ID와 세부장르ID간 딕셔너리 생성"
   ]
  },
  {
   "cell_type": "code",
   "execution_count": 27,
   "id": "disciplinary-parish",
   "metadata": {
    "ExecuteTime": {
     "end_time": "2021-11-09T07:54:51.208530Z",
     "start_time": "2021-11-09T07:54:49.643073Z"
    }
   },
   "outputs": [],
   "source": [
    "# 노래의 ID를 KEY 세부장르의 ID리스트를 ITEM으로 하는 딕셔너리 생성 \n",
    "\n",
    "song_genre_detail_dict = defaultdict(list)\n",
    "\n",
    "for codes,id in zip(song_df['song_gn_dtl_gnr_basket'].tolist(),song_df['id'].tolist()):\n",
    "    for code in codes:\n",
    "        song_genre_detail_dict[id].append(genre_detail_code_to_id[code])"
   ]
  },
  {
   "cell_type": "code",
   "execution_count": 28,
   "id": "4065e794",
   "metadata": {
    "ExecuteTime": {
     "end_time": "2021-11-09T07:54:51.970212Z",
     "start_time": "2021-11-09T07:54:51.213508Z"
    }
   },
   "outputs": [],
   "source": [
    "# 노래의 ID를 KEY 대\\장르의 ID리스트를 ITEM으로 하는 딕셔너리 생성 \n",
    "\n",
    "song_genre_big_dict = defaultdict(list)\n",
    "\n",
    "for codes,id in zip(song_df['song_gn_gnr_basket'].tolist(),song_df['id'].tolist()):\n",
    "    for code in codes:\n",
    "        song_genre_big_dict[id].append(genre_big_code_to_id[code])"
   ]
  },
  {
   "cell_type": "code",
   "execution_count": 29,
   "id": "material-agenda",
   "metadata": {
    "ExecuteTime": {
     "end_time": "2021-11-09T07:54:57.112034Z",
     "start_time": "2021-11-09T07:54:51.972115Z"
    }
   },
   "outputs": [
    {
     "data": {
      "text/html": [
       "<div>\n",
       "<style scoped>\n",
       "    .dataframe tbody tr th:only-of-type {\n",
       "        vertical-align: middle;\n",
       "    }\n",
       "\n",
       "    .dataframe tbody tr th {\n",
       "        vertical-align: top;\n",
       "    }\n",
       "\n",
       "    .dataframe thead th {\n",
       "        text-align: right;\n",
       "    }\n",
       "</style>\n",
       "<table border=\"1\" class=\"dataframe\">\n",
       "  <thead>\n",
       "    <tr style=\"text-align: right;\">\n",
       "      <th></th>\n",
       "      <th>태그</th>\n",
       "      <th>플리아이디</th>\n",
       "      <th>플리제목</th>\n",
       "      <th>노래들</th>\n",
       "      <th>좋아요수</th>\n",
       "      <th>변경일자</th>\n",
       "      <th>태그아이디</th>\n",
       "      <th>태그수</th>\n",
       "      <th>세부장르</th>\n",
       "    </tr>\n",
       "  </thead>\n",
       "  <tbody>\n",
       "    <tr>\n",
       "      <th>0</th>\n",
       "      <td>[락]</td>\n",
       "      <td>61281</td>\n",
       "      <td>여행같은 음악</td>\n",
       "      <td>[525514, 129701, 383374, 562083, 297861, 13954...</td>\n",
       "      <td>71</td>\n",
       "      <td>2013-12-19 18:36:19.000</td>\n",
       "      <td>[25304]</td>\n",
       "      <td>1</td>\n",
       "      <td>[97, 96, 48, 49, 56, 67, 60, 56, 68, 48, 49, 5...</td>\n",
       "    </tr>\n",
       "  </tbody>\n",
       "</table>\n",
       "</div>"
      ],
      "text/plain": [
       "    태그  플리아이디     플리제목                                                노래들  \\\n",
       "0  [락]  61281  여행같은 음악  [525514, 129701, 383374, 562083, 297861, 13954...   \n",
       "\n",
       "   좋아요수                     변경일자    태그아이디  태그수  \\\n",
       "0    71  2013-12-19 18:36:19.000  [25304]    1   \n",
       "\n",
       "                                                세부장르  \n",
       "0  [97, 96, 48, 49, 56, 67, 60, 56, 68, 48, 49, 5...  "
      ]
     },
     "execution_count": 29,
     "metadata": {},
     "output_type": "execute_result"
    }
   ],
   "source": [
    "# 플레이리스트의 모든 노래의 세부장르를 모아서 새로운 컬럼으로 생성\n",
    "\n",
    "def fetcher(x):\n",
    "    temp = []\n",
    "    for song in x:\n",
    "        genre_ids = song_genre_detail_dict[song]\n",
    "        for id in genre_ids:\n",
    "            temp.append(id)\n",
    "    return temp\n",
    "\n",
    "train_df['세부장르'] = train_df['노래들'].map(fetcher)\n",
    "train_df.head(1)"
   ]
  },
  {
   "cell_type": "code",
   "execution_count": 30,
   "id": "4a4fcfea",
   "metadata": {
    "ExecuteTime": {
     "end_time": "2021-11-09T07:55:00.674073Z",
     "start_time": "2021-11-09T07:54:57.114033Z"
    }
   },
   "outputs": [
    {
     "data": {
      "text/html": [
       "<div>\n",
       "<style scoped>\n",
       "    .dataframe tbody tr th:only-of-type {\n",
       "        vertical-align: middle;\n",
       "    }\n",
       "\n",
       "    .dataframe tbody tr th {\n",
       "        vertical-align: top;\n",
       "    }\n",
       "\n",
       "    .dataframe thead th {\n",
       "        text-align: right;\n",
       "    }\n",
       "</style>\n",
       "<table border=\"1\" class=\"dataframe\">\n",
       "  <thead>\n",
       "    <tr style=\"text-align: right;\">\n",
       "      <th></th>\n",
       "      <th>태그</th>\n",
       "      <th>플리아이디</th>\n",
       "      <th>플리제목</th>\n",
       "      <th>노래들</th>\n",
       "      <th>좋아요수</th>\n",
       "      <th>변경일자</th>\n",
       "      <th>태그아이디</th>\n",
       "      <th>태그수</th>\n",
       "      <th>세부장르</th>\n",
       "      <th>대장르</th>\n",
       "    </tr>\n",
       "  </thead>\n",
       "  <tbody>\n",
       "    <tr>\n",
       "      <th>0</th>\n",
       "      <td>[락]</td>\n",
       "      <td>61281</td>\n",
       "      <td>여행같은 음악</td>\n",
       "      <td>[525514, 129701, 383374, 562083, 297861, 13954...</td>\n",
       "      <td>71</td>\n",
       "      <td>2013-12-19 18:36:19.000</td>\n",
       "      <td>[25304]</td>\n",
       "      <td>1</td>\n",
       "      <td>[97, 96, 48, 49, 56, 67, 60, 56, 68, 48, 49, 5...</td>\n",
       "      <td>[13, 8, 9, 9, 8, 9, 8, 9, 8, 9, 9, 8, 12, 13, ...</td>\n",
       "    </tr>\n",
       "  </tbody>\n",
       "</table>\n",
       "</div>"
      ],
      "text/plain": [
       "    태그  플리아이디     플리제목                                                노래들  \\\n",
       "0  [락]  61281  여행같은 음악  [525514, 129701, 383374, 562083, 297861, 13954...   \n",
       "\n",
       "   좋아요수                     변경일자    태그아이디  태그수  \\\n",
       "0    71  2013-12-19 18:36:19.000  [25304]    1   \n",
       "\n",
       "                                                세부장르  \\\n",
       "0  [97, 96, 48, 49, 56, 67, 60, 56, 68, 48, 49, 5...   \n",
       "\n",
       "                                                 대장르  \n",
       "0  [13, 8, 9, 9, 8, 9, 8, 9, 8, 9, 9, 8, 12, 13, ...  "
      ]
     },
     "execution_count": 30,
     "metadata": {},
     "output_type": "execute_result"
    }
   ],
   "source": [
    "# 플레이리스트의 모든 노래의 세부장르를 모아서 새로운 컬럼으로 생성\n",
    "\n",
    "def fetcher(x):\n",
    "    temp = []\n",
    "    for song in x:\n",
    "        genre_ids = song_genre_big_dict[song]\n",
    "        for id in genre_ids:\n",
    "            temp.append(id)\n",
    "    return temp\n",
    "\n",
    "train_df['대장르'] = train_df['노래들'].map(fetcher)\n",
    "train_df.head(1)"
   ]
  },
  {
   "cell_type": "markdown",
   "id": "1ab41e1a",
   "metadata": {},
   "source": [
    "## 태그ID와 세부장르ID 간 딕셔너리 생성"
   ]
  },
  {
   "cell_type": "code",
   "execution_count": 31,
   "id": "regulated-native",
   "metadata": {
    "ExecuteTime": {
     "end_time": "2021-11-09T07:55:02.118179Z",
     "start_time": "2021-11-09T07:55:00.676072Z"
    }
   },
   "outputs": [],
   "source": [
    "# {tag_Id:genre_detail_ids}\n",
    "\n",
    "tag_id_to_genre_detail_ids = defaultdict(list)\n",
    "\n",
    "for ids,genres in zip(train_df['태그아이디'].tolist(),train_df['세부장르'].tolist()):\n",
    "    for id in ids:\n",
    "        tag_id_to_genre_detail_ids[id].extend(genres)"
   ]
  },
  {
   "cell_type": "markdown",
   "id": "0c17971c",
   "metadata": {},
   "source": [
    "## 세부장르의 비율로 데이터 전환"
   ]
  },
  {
   "cell_type": "code",
   "execution_count": 32,
   "id": "incredible-hartford",
   "metadata": {
    "ExecuteTime": {
     "end_time": "2021-11-09T07:55:05.007162Z",
     "start_time": "2021-11-09T07:55:02.120071Z"
    }
   },
   "outputs": [],
   "source": [
    "# 장르의 빈도수를 카운트해서 value를 바꿈\n",
    "\n",
    "for k,v in tag_id_to_genre_detail_ids.items():\n",
    "    tag_id_to_genre_detail_ids[k] = dict(Counter(v))"
   ]
  },
  {
   "cell_type": "code",
   "execution_count": 33,
   "id": "invisible-ferry",
   "metadata": {
    "ExecuteTime": {
     "end_time": "2021-11-09T07:55:06.884043Z",
     "start_time": "2021-11-09T07:55:05.008070Z"
    }
   },
   "outputs": [],
   "source": [
    "# 딕셔너리의 빈도를 min_max_scaling하고 1을 더함 -> 0이 되는것은 싫다!\n",
    "for k,value_dict in tag_id_to_genre_detail_ids.items():\n",
    "    max_val = np.max(list(value_dict.values()))\n",
    "    min_val = np.min(list(value_dict.values()))\n",
    "    for key,value in value_dict.items():\n",
    "        value_dict[key] = np.round((value-min_val)/(max_val-min_val),3)"
   ]
  },
  {
   "cell_type": "markdown",
   "id": "a666e219",
   "metadata": {},
   "source": [
    "## 만든 딕셔너리를 이용해서 csr_matrix 생성"
   ]
  },
  {
   "cell_type": "code",
   "execution_count": 34,
   "id": "a9ada042",
   "metadata": {
    "ExecuteTime": {
     "end_time": "2021-11-09T07:55:06.963524Z",
     "start_time": "2021-11-09T07:55:06.886077Z"
    }
   },
   "outputs": [],
   "source": [
    "# 행,열,데이터 list를 생성\n",
    "row = []\n",
    "col = []\n",
    "dat = []\n",
    "\n",
    "for k,v in tag_id_to_genre_detail_ids.items():\n",
    "    for vk,vv in v.items():\n",
    "        row.append(k)\n",
    "        col.append(vk)\n",
    "        dat.append(vv)"
   ]
  },
  {
   "cell_type": "code",
   "execution_count": 35,
   "id": "887d40e4",
   "metadata": {
    "ExecuteTime": {
     "end_time": "2021-11-09T07:55:07.059428Z",
     "start_time": "2021-11-09T07:55:06.965427Z"
    }
   },
   "outputs": [],
   "source": [
    "# 29160의 태그의 가짓수, 224는 세부장르의 가짓수\n",
    "A = spr.csr_matrix((dat, (row, col)), shape=(29160, 224))"
   ]
  },
  {
   "cell_type": "code",
   "execution_count": 36,
   "id": "6811c449",
   "metadata": {
    "ExecuteTime": {
     "end_time": "2021-11-09T07:55:07.075077Z",
     "start_time": "2021-11-09T07:55:07.060468Z"
    }
   },
   "outputs": [],
   "source": [
    "# 자료형 변경\n",
    "A = A.astype(float)"
   ]
  },
  {
   "cell_type": "code",
   "execution_count": 37,
   "id": "virgin-outside",
   "metadata": {
    "ExecuteTime": {
     "end_time": "2021-11-09T07:55:07.201509Z",
     "start_time": "2021-11-09T07:55:07.077002Z"
    }
   },
   "outputs": [],
   "source": [
    "# csr_matrix를 저장\n",
    "spr.save_npz('./data/tag_genred_csr.npz',A)"
   ]
  },
  {
   "cell_type": "code",
   "execution_count": 38,
   "id": "732fb526",
   "metadata": {
    "ExecuteTime": {
     "end_time": "2021-11-09T07:55:07.216563Z",
     "start_time": "2021-11-09T07:55:07.203597Z"
    }
   },
   "outputs": [
    {
     "data": {
      "text/plain": [
       "16465"
      ]
     },
     "execution_count": 38,
     "metadata": {},
     "output_type": "execute_result"
    }
   ],
   "source": [
    "tags_frequency['기분전환']"
   ]
  },
  {
   "cell_type": "markdown",
   "id": "887a222b",
   "metadata": {},
   "source": [
    "# Vectorization with SVD"
   ]
  },
  {
   "cell_type": "markdown",
   "id": "a727ebe5",
   "metadata": {},
   "source": [
    "## 태그-장르 행렬의 SVD 행렬분해 수행 "
   ]
  },
  {
   "cell_type": "code",
   "execution_count": 39,
   "id": "5b681ab7",
   "metadata": {
    "ExecuteTime": {
     "end_time": "2021-11-09T07:55:07.548597Z",
     "start_time": "2021-11-09T07:55:07.219511Z"
    }
   },
   "outputs": [],
   "source": [
    "# svd행렬분해 100개의 sigular vector사용\n",
    "u,s,vt = spr.linalg.svds(A,k=100)\n",
    "svd_vectors = u\n",
    "data_len,dim = svd_vectors.shape"
   ]
  },
  {
   "cell_type": "markdown",
   "id": "47328986",
   "metadata": {},
   "source": [
    "## cosine유사도를 이용해서 KNN 모델 생성"
   ]
  },
  {
   "cell_type": "code",
   "execution_count": 40,
   "id": "72ef74dd",
   "metadata": {
    "ExecuteTime": {
     "end_time": "2021-11-09T07:57:02.333069Z",
     "start_time": "2021-11-09T07:55:07.549510Z"
    }
   },
   "outputs": [],
   "source": [
    "# 100차원으로 index 생성 및 초기화\n",
    "svd_p = hnswlib.Index(space='cosine', dim=dim)  \n",
    "svd_p.init_index(max_elements=data_len, ef_construction=100, M=100)\n",
    "\n",
    "# 짐재행렬 추가\n",
    "svd_p.add_items(svd_vectors,np.arange(data_len))"
   ]
  },
  {
   "cell_type": "code",
   "execution_count": 41,
   "id": "c35ccee7",
   "metadata": {
    "ExecuteTime": {
     "end_time": "2021-11-09T07:57:02.525015Z",
     "start_time": "2021-11-09T07:57:02.336013Z"
    }
   },
   "outputs": [],
   "source": [
    "#svd knn모델 저장\n",
    "with open('./data/svd_knn_model.pickle', 'wb') as f:\n",
    "    pickle.dump(svd_p,f)"
   ]
  },
  {
   "cell_type": "code",
   "execution_count": 42,
   "id": "inclusive-cause",
   "metadata": {
    "ExecuteTime": {
     "end_time": "2021-11-09T07:57:02.572429Z",
     "start_time": "2021-11-09T07:57:02.527432Z"
    }
   },
   "outputs": [],
   "source": [
    "# svd tag의 벡터들을 저장\n",
    "with open('./data/svd_tag_vectors.pickle', 'wb') as f:\n",
    "    pickle.dump(svd_vectors,f)"
   ]
  },
  {
   "cell_type": "code",
   "execution_count": 43,
   "id": "6e4f89cc",
   "metadata": {
    "ExecuteTime": {
     "end_time": "2021-11-09T07:57:02.588427Z",
     "start_time": "2021-11-09T07:57:02.578429Z"
    }
   },
   "outputs": [],
   "source": [
    "# svd_knn_model로 태그를 예측하여 예측된 결과의 list를 저장하는 함수\n",
    "\n",
    "def tag_svd(x):\n",
    "    target_ids = [tag_to_id[t] for t in x]\n",
    "    \n",
    "    vectors = np.zeros((100,1))\n",
    "    \n",
    "    for id in target_ids:\n",
    "        vectors = vectors+svd_vectors[id]\n",
    "    \n",
    "    labels, distances = svd_p.knn_query(vectors/len(target_ids), k = 10+len(x))\n",
    "\n",
    "    ids = [label for label in labels[0]]\n",
    "    \n",
    "    return list(set([id_to_tag[tag] for tag in ids])-set(x))"
   ]
  },
  {
   "cell_type": "code",
   "execution_count": 44,
   "id": "8229231a",
   "metadata": {
    "ExecuteTime": {
     "end_time": "2021-11-09T07:57:29.001945Z",
     "start_time": "2021-11-09T07:57:02.591428Z"
    }
   },
   "outputs": [
    {
     "data": {
      "text/html": [
       "<div>\n",
       "<style scoped>\n",
       "    .dataframe tbody tr th:only-of-type {\n",
       "        vertical-align: middle;\n",
       "    }\n",
       "\n",
       "    .dataframe tbody tr th {\n",
       "        vertical-align: top;\n",
       "    }\n",
       "\n",
       "    .dataframe thead th {\n",
       "        text-align: right;\n",
       "    }\n",
       "</style>\n",
       "<table border=\"1\" class=\"dataframe\">\n",
       "  <thead>\n",
       "    <tr style=\"text-align: right;\">\n",
       "      <th></th>\n",
       "      <th>태그원본</th>\n",
       "      <th>예측용태그</th>\n",
       "      <th>검증용태그</th>\n",
       "      <th>svd_예측결과</th>\n",
       "      <th>svd_히트</th>\n",
       "    </tr>\n",
       "  </thead>\n",
       "  <tbody>\n",
       "    <tr>\n",
       "      <th>0</th>\n",
       "      <td>[운동, 드라이브, Pop, 트로피컬하우스, 힐링, 기분전환, 2017, 팝, 트렌...</td>\n",
       "      <td>[힐링, Pop, 트로피컬하우스]</td>\n",
       "      <td>[트렌드, 일렉, 2017, 드라이브, 기분전환, 팝, 운동]</td>\n",
       "      <td>[EDM, 청량감, EDMFloor, 일렉트로닉팝, Electronic, elect...</td>\n",
       "      <td>NaN</td>\n",
       "    </tr>\n",
       "    <tr>\n",
       "      <th>1</th>\n",
       "      <td>[여름, 일렉트로니카, 매장음악, 취향저격, 댄스, 드라이브, 여행, 기분전환, 일...</td>\n",
       "      <td>[댄스, 신나는, 드라이브]</td>\n",
       "      <td>[여름, 여행, 일렉, 기분전환, 매장음악, 일렉트로니카, 취향저격]</td>\n",
       "      <td>[더위, 댄스음악, 바다, 기분전환, 휴가, 댄스뮤직, 여름노래, 바캉스, 여름휴가...</td>\n",
       "      <td>NaN</td>\n",
       "    </tr>\n",
       "    <tr>\n",
       "      <th>2</th>\n",
       "      <td>[잔잔한, 감성, 새벽, 우울, 발라드, 알앤비, 기분전환, 사랑, 이별, 인디]</td>\n",
       "      <td>[알앤비, 기분전환, 잔잔한]</td>\n",
       "      <td>[새벽, 감성, 인디, 이별, 우울, 사랑, 발라드]</td>\n",
       "      <td>[알엔비, 분위기있는, 슬로우잼, PBRnB, 귀르가즘, Sexy, RnB, 끈적한...</td>\n",
       "      <td>NaN</td>\n",
       "    </tr>\n",
       "    <tr>\n",
       "      <th>3</th>\n",
       "      <td>[휴식, 새벽, 펍, 매장, 드라이브, 그루브, 라운지, 기분전환, 퇴근길, 세련된]</td>\n",
       "      <td>[퇴근길, 라운지, 새벽]</td>\n",
       "      <td>[휴식, 매장, 그루브, 드라이브, 기분전환, 세련된, 펍]</td>\n",
       "      <td>[쓸쓸한, 감성, 쓸쓸함, 외로움, 우울, 공감, 혼자, 밤, 매장음악, 카페, 쓸...</td>\n",
       "      <td>NaN</td>\n",
       "    </tr>\n",
       "    <tr>\n",
       "      <th>4</th>\n",
       "      <td>[잠, 매장, 매장음악, 카페, 잔잔한, 추억, 일상, 추위, 자장가, 새벽]</td>\n",
       "      <td>[자장가, 잠, 추위]</td>\n",
       "      <td>[일상, 새벽, 매장, 매장음악, 잔잔한, 카페, 추억]</td>\n",
       "      <td>[생각, 북카페, 불면증, 피곤, 잠들기전, 침대, 집중, 감성자극, 머리를맑게해주...</td>\n",
       "      <td>NaN</td>\n",
       "    </tr>\n",
       "  </tbody>\n",
       "</table>\n",
       "</div>"
      ],
      "text/plain": [
       "                                                태그원본               예측용태그  \\\n",
       "0  [운동, 드라이브, Pop, 트로피컬하우스, 힐링, 기분전환, 2017, 팝, 트렌...  [힐링, Pop, 트로피컬하우스]   \n",
       "1  [여름, 일렉트로니카, 매장음악, 취향저격, 댄스, 드라이브, 여행, 기분전환, 일...     [댄스, 신나는, 드라이브]   \n",
       "2      [잔잔한, 감성, 새벽, 우울, 발라드, 알앤비, 기분전환, 사랑, 이별, 인디]    [알앤비, 기분전환, 잔잔한]   \n",
       "3    [휴식, 새벽, 펍, 매장, 드라이브, 그루브, 라운지, 기분전환, 퇴근길, 세련된]      [퇴근길, 라운지, 새벽]   \n",
       "4        [잠, 매장, 매장음악, 카페, 잔잔한, 추억, 일상, 추위, 자장가, 새벽]        [자장가, 잠, 추위]   \n",
       "\n",
       "                                    검증용태그  \\\n",
       "0      [트렌드, 일렉, 2017, 드라이브, 기분전환, 팝, 운동]   \n",
       "1  [여름, 여행, 일렉, 기분전환, 매장음악, 일렉트로니카, 취향저격]   \n",
       "2           [새벽, 감성, 인디, 이별, 우울, 사랑, 발라드]   \n",
       "3       [휴식, 매장, 그루브, 드라이브, 기분전환, 세련된, 펍]   \n",
       "4         [일상, 새벽, 매장, 매장음악, 잔잔한, 카페, 추억]   \n",
       "\n",
       "                                            svd_예측결과 svd_히트  \n",
       "0  [EDM, 청량감, EDMFloor, 일렉트로닉팝, Electronic, elect...    NaN  \n",
       "1  [더위, 댄스음악, 바다, 기분전환, 휴가, 댄스뮤직, 여름노래, 바캉스, 여름휴가...    NaN  \n",
       "2  [알엔비, 분위기있는, 슬로우잼, PBRnB, 귀르가즘, Sexy, RnB, 끈적한...    NaN  \n",
       "3  [쓸쓸한, 감성, 쓸쓸함, 외로움, 우울, 공감, 혼자, 밤, 매장음악, 카페, 쓸...    NaN  \n",
       "4  [생각, 북카페, 불면증, 피곤, 잠들기전, 침대, 집중, 감성자극, 머리를맑게해주...    NaN  "
      ]
     },
     "execution_count": 44,
     "metadata": {},
     "output_type": "execute_result"
    }
   ],
   "source": [
    "# 예측수행\n",
    "cal_tag_hit_df['svd_예측결과'] = cal_tag_hit_df['예측용태그'].map(tag_svd)\n",
    "cal_tag_hit_df.head()"
   ]
  },
  {
   "cell_type": "code",
   "execution_count": 45,
   "id": "6650697c",
   "metadata": {
    "ExecuteTime": {
     "end_time": "2021-11-09T07:57:29.017960Z",
     "start_time": "2021-11-09T07:57:29.004946Z"
    }
   },
   "outputs": [],
   "source": [
    "val_tag = cal_tag_hit_df['검증용태그'].tolist()\n",
    "svd_tag = cal_tag_hit_df['svd_예측결과'].tolist()"
   ]
  },
  {
   "cell_type": "code",
   "execution_count": 46,
   "id": "e26fd484",
   "metadata": {
    "ExecuteTime": {
     "end_time": "2021-11-09T07:57:29.065946Z",
     "start_time": "2021-11-09T07:57:29.019945Z"
    }
   },
   "outputs": [],
   "source": [
    "svd_hit = []\n",
    "\n",
    "for val,svd in zip(val_tag,svd_tag):\n",
    "    if len(val) == len(set(val)-set(svd)):\n",
    "        svd_hit.append(0)\n",
    "    else:\n",
    "        svd_hit.append(1)"
   ]
  },
  {
   "cell_type": "code",
   "execution_count": 47,
   "id": "aab3e3ee",
   "metadata": {
    "ExecuteTime": {
     "end_time": "2021-11-09T07:57:29.081945Z",
     "start_time": "2021-11-09T07:57:29.068951Z"
    }
   },
   "outputs": [],
   "source": [
    "cal_tag_hit_df['svd_히트'] = svd_hit"
   ]
  },
  {
   "cell_type": "code",
   "execution_count": 48,
   "id": "6d4c82a5",
   "metadata": {
    "ExecuteTime": {
     "end_time": "2021-11-09T07:57:29.145946Z",
     "start_time": "2021-11-09T07:57:29.089948Z"
    }
   },
   "outputs": [
    {
     "data": {
      "text/html": [
       "<div>\n",
       "<style scoped>\n",
       "    .dataframe tbody tr th:only-of-type {\n",
       "        vertical-align: middle;\n",
       "    }\n",
       "\n",
       "    .dataframe tbody tr th {\n",
       "        vertical-align: top;\n",
       "    }\n",
       "\n",
       "    .dataframe thead th {\n",
       "        text-align: right;\n",
       "    }\n",
       "</style>\n",
       "<table border=\"1\" class=\"dataframe\">\n",
       "  <thead>\n",
       "    <tr style=\"text-align: right;\">\n",
       "      <th></th>\n",
       "      <th>태그원본</th>\n",
       "      <th>예측용태그</th>\n",
       "      <th>검증용태그</th>\n",
       "      <th>svd_예측결과</th>\n",
       "      <th>svd_히트</th>\n",
       "    </tr>\n",
       "  </thead>\n",
       "  <tbody>\n",
       "    <tr>\n",
       "      <th>0</th>\n",
       "      <td>[운동, 드라이브, Pop, 트로피컬하우스, 힐링, 기분전환, 2017, 팝, 트렌...</td>\n",
       "      <td>[힐링, Pop, 트로피컬하우스]</td>\n",
       "      <td>[트렌드, 일렉, 2017, 드라이브, 기분전환, 팝, 운동]</td>\n",
       "      <td>[EDM, 청량감, EDMFloor, 일렉트로닉팝, Electronic, elect...</td>\n",
       "      <td>0</td>\n",
       "    </tr>\n",
       "    <tr>\n",
       "      <th>1</th>\n",
       "      <td>[여름, 일렉트로니카, 매장음악, 취향저격, 댄스, 드라이브, 여행, 기분전환, 일...</td>\n",
       "      <td>[댄스, 신나는, 드라이브]</td>\n",
       "      <td>[여름, 여행, 일렉, 기분전환, 매장음악, 일렉트로니카, 취향저격]</td>\n",
       "      <td>[더위, 댄스음악, 바다, 기분전환, 휴가, 댄스뮤직, 여름노래, 바캉스, 여름휴가...</td>\n",
       "      <td>1</td>\n",
       "    </tr>\n",
       "    <tr>\n",
       "      <th>2</th>\n",
       "      <td>[잔잔한, 감성, 새벽, 우울, 발라드, 알앤비, 기분전환, 사랑, 이별, 인디]</td>\n",
       "      <td>[알앤비, 기분전환, 잔잔한]</td>\n",
       "      <td>[새벽, 감성, 인디, 이별, 우울, 사랑, 발라드]</td>\n",
       "      <td>[알엔비, 분위기있는, 슬로우잼, PBRnB, 귀르가즘, Sexy, RnB, 끈적한...</td>\n",
       "      <td>0</td>\n",
       "    </tr>\n",
       "    <tr>\n",
       "      <th>3</th>\n",
       "      <td>[휴식, 새벽, 펍, 매장, 드라이브, 그루브, 라운지, 기분전환, 퇴근길, 세련된]</td>\n",
       "      <td>[퇴근길, 라운지, 새벽]</td>\n",
       "      <td>[휴식, 매장, 그루브, 드라이브, 기분전환, 세련된, 펍]</td>\n",
       "      <td>[쓸쓸한, 감성, 쓸쓸함, 외로움, 우울, 공감, 혼자, 밤, 매장음악, 카페, 쓸...</td>\n",
       "      <td>0</td>\n",
       "    </tr>\n",
       "    <tr>\n",
       "      <th>4</th>\n",
       "      <td>[잠, 매장, 매장음악, 카페, 잔잔한, 추억, 일상, 추위, 자장가, 새벽]</td>\n",
       "      <td>[자장가, 잠, 추위]</td>\n",
       "      <td>[일상, 새벽, 매장, 매장음악, 잔잔한, 카페, 추억]</td>\n",
       "      <td>[생각, 북카페, 불면증, 피곤, 잠들기전, 침대, 집중, 감성자극, 머리를맑게해주...</td>\n",
       "      <td>0</td>\n",
       "    </tr>\n",
       "    <tr>\n",
       "      <th>...</th>\n",
       "      <td>...</td>\n",
       "      <td>...</td>\n",
       "      <td>...</td>\n",
       "      <td>...</td>\n",
       "      <td>...</td>\n",
       "    </tr>\n",
       "    <tr>\n",
       "      <th>6896</th>\n",
       "      <td>[집중, 따스한, 노동요, 아침, 연주곡, 오후, 피아노, 찬바람, 공부, 겨울감성]</td>\n",
       "      <td>[아침, 연주곡, 피아노]</td>\n",
       "      <td>[겨울감성, 찬바람, 집중, 노동요, 따스한, 오후, 공부]</td>\n",
       "      <td>[헤드폰, 시타르, 기리보이의노래는길이보인다, 비정한세상, 부전자전, 메탈리카, 달...</td>\n",
       "      <td>0</td>\n",
       "    </tr>\n",
       "    <tr>\n",
       "      <th>6897</th>\n",
       "      <td>[휴식, 매장음악, 봄, 잔잔한, 취향저격, 커피, 센치, 위로, 감성, 기분전환]</td>\n",
       "      <td>[기분전환, 감성, 봄]</td>\n",
       "      <td>[커피, 휴식, 센치, 매장음악, 잔잔한, 위로, 취향저격]</td>\n",
       "      <td>[산책, 퇴근길, 가사, 노래, 사랑, 공감, 혼자, 우울, 카페, 쓸쓸]</td>\n",
       "      <td>0</td>\n",
       "    </tr>\n",
       "    <tr>\n",
       "      <th>6898</th>\n",
       "      <td>[출근길, 노동요, 연주곡, 카페, 매장, 모닝콜, 휴식, 피아노, 쌀쌀한, 아침]</td>\n",
       "      <td>[출근길, 연주곡, 카페]</td>\n",
       "      <td>[휴식, 매장, 쌀쌀한, 아침, 모닝콜, 노동요, 피아노]</td>\n",
       "      <td>[생각, 북카페, 월요병, 포근한, 불면증, 피곤, 잠들기전, 집중, 머리를맑게해주...</td>\n",
       "      <td>0</td>\n",
       "    </tr>\n",
       "    <tr>\n",
       "      <th>6899</th>\n",
       "      <td>[감성, 잔잔한, 취향저격, 팝송음악, Pop, 휴식, 팝송, 기분전환, 힐링, 신나는]</td>\n",
       "      <td>[잔잔한, 휴식, 감성]</td>\n",
       "      <td>[신나는, 팝송음악, 기분전환, Pop, 팝송, 취향저격, 힐링]</td>\n",
       "      <td>[새벽, 산책, 비오는날, 가을, 밤, 카페, 쓸쓸, 그리움, 겨울, 힐링]</td>\n",
       "      <td>1</td>\n",
       "    </tr>\n",
       "    <tr>\n",
       "      <th>6900</th>\n",
       "      <td>[일렉트로니카, 운동, 에너지, 드라이브, EDM, 기분전환, 파티, 기분업, 하우...</td>\n",
       "      <td>[하우스, 운동, 일렉트로니카]</td>\n",
       "      <td>[EDM, 신나는, 기분업, 드라이브, 기분전환, 에너지, 파티]</td>\n",
       "      <td>[퓨쳐하우스, 딥하우스, 일렉, 라운지바, Electronic, electronic...</td>\n",
       "      <td>0</td>\n",
       "    </tr>\n",
       "  </tbody>\n",
       "</table>\n",
       "<p>6901 rows × 5 columns</p>\n",
       "</div>"
      ],
      "text/plain": [
       "                                                   태그원본               예측용태그  \\\n",
       "0     [운동, 드라이브, Pop, 트로피컬하우스, 힐링, 기분전환, 2017, 팝, 트렌...  [힐링, Pop, 트로피컬하우스]   \n",
       "1     [여름, 일렉트로니카, 매장음악, 취향저격, 댄스, 드라이브, 여행, 기분전환, 일...     [댄스, 신나는, 드라이브]   \n",
       "2         [잔잔한, 감성, 새벽, 우울, 발라드, 알앤비, 기분전환, 사랑, 이별, 인디]    [알앤비, 기분전환, 잔잔한]   \n",
       "3       [휴식, 새벽, 펍, 매장, 드라이브, 그루브, 라운지, 기분전환, 퇴근길, 세련된]      [퇴근길, 라운지, 새벽]   \n",
       "4           [잠, 매장, 매장음악, 카페, 잔잔한, 추억, 일상, 추위, 자장가, 새벽]        [자장가, 잠, 추위]   \n",
       "...                                                 ...                 ...   \n",
       "6896    [집중, 따스한, 노동요, 아침, 연주곡, 오후, 피아노, 찬바람, 공부, 겨울감성]      [아침, 연주곡, 피아노]   \n",
       "6897     [휴식, 매장음악, 봄, 잔잔한, 취향저격, 커피, 센치, 위로, 감성, 기분전환]       [기분전환, 감성, 봄]   \n",
       "6898     [출근길, 노동요, 연주곡, 카페, 매장, 모닝콜, 휴식, 피아노, 쌀쌀한, 아침]      [출근길, 연주곡, 카페]   \n",
       "6899  [감성, 잔잔한, 취향저격, 팝송음악, Pop, 휴식, 팝송, 기분전환, 힐링, 신나는]       [잔잔한, 휴식, 감성]   \n",
       "6900  [일렉트로니카, 운동, 에너지, 드라이브, EDM, 기분전환, 파티, 기분업, 하우...   [하우스, 운동, 일렉트로니카]   \n",
       "\n",
       "                                       검증용태그  \\\n",
       "0         [트렌드, 일렉, 2017, 드라이브, 기분전환, 팝, 운동]   \n",
       "1     [여름, 여행, 일렉, 기분전환, 매장음악, 일렉트로니카, 취향저격]   \n",
       "2              [새벽, 감성, 인디, 이별, 우울, 사랑, 발라드]   \n",
       "3          [휴식, 매장, 그루브, 드라이브, 기분전환, 세련된, 펍]   \n",
       "4            [일상, 새벽, 매장, 매장음악, 잔잔한, 카페, 추억]   \n",
       "...                                      ...   \n",
       "6896       [겨울감성, 찬바람, 집중, 노동요, 따스한, 오후, 공부]   \n",
       "6897       [커피, 휴식, 센치, 매장음악, 잔잔한, 위로, 취향저격]   \n",
       "6898        [휴식, 매장, 쌀쌀한, 아침, 모닝콜, 노동요, 피아노]   \n",
       "6899    [신나는, 팝송음악, 기분전환, Pop, 팝송, 취향저격, 힐링]   \n",
       "6900    [EDM, 신나는, 기분업, 드라이브, 기분전환, 에너지, 파티]   \n",
       "\n",
       "                                               svd_예측결과  svd_히트  \n",
       "0     [EDM, 청량감, EDMFloor, 일렉트로닉팝, Electronic, elect...       0  \n",
       "1     [더위, 댄스음악, 바다, 기분전환, 휴가, 댄스뮤직, 여름노래, 바캉스, 여름휴가...       1  \n",
       "2     [알엔비, 분위기있는, 슬로우잼, PBRnB, 귀르가즘, Sexy, RnB, 끈적한...       0  \n",
       "3     [쓸쓸한, 감성, 쓸쓸함, 외로움, 우울, 공감, 혼자, 밤, 매장음악, 카페, 쓸...       0  \n",
       "4     [생각, 북카페, 불면증, 피곤, 잠들기전, 침대, 집중, 감성자극, 머리를맑게해주...       0  \n",
       "...                                                 ...     ...  \n",
       "6896  [헤드폰, 시타르, 기리보이의노래는길이보인다, 비정한세상, 부전자전, 메탈리카, 달...       0  \n",
       "6897          [산책, 퇴근길, 가사, 노래, 사랑, 공감, 혼자, 우울, 카페, 쓸쓸]       0  \n",
       "6898  [생각, 북카페, 월요병, 포근한, 불면증, 피곤, 잠들기전, 집중, 머리를맑게해주...       0  \n",
       "6899         [새벽, 산책, 비오는날, 가을, 밤, 카페, 쓸쓸, 그리움, 겨울, 힐링]       1  \n",
       "6900  [퓨쳐하우스, 딥하우스, 일렉, 라운지바, Electronic, electronic...       0  \n",
       "\n",
       "[6901 rows x 5 columns]"
      ]
     },
     "execution_count": 48,
     "metadata": {},
     "output_type": "execute_result"
    }
   ],
   "source": [
    "cal_tag_hit_df"
   ]
  },
  {
   "cell_type": "code",
   "execution_count": 49,
   "id": "00521a2e",
   "metadata": {
    "ExecuteTime": {
     "end_time": "2021-11-09T07:57:29.241959Z",
     "start_time": "2021-11-09T07:57:29.148945Z"
    }
   },
   "outputs": [
    {
     "data": {
      "text/plain": [
       "0.6044051586726561"
      ]
     },
     "execution_count": 49,
     "metadata": {},
     "output_type": "execute_result"
    }
   ],
   "source": [
    "sum(svd_hit)/len(svd_hit)"
   ]
  },
  {
   "cell_type": "code",
   "execution_count": 51,
   "id": "88dd9a7a",
   "metadata": {
    "ExecuteTime": {
     "end_time": "2021-11-09T08:10:07.504068Z",
     "start_time": "2021-11-09T08:10:07.455078Z"
    }
   },
   "outputs": [
    {
     "data": {
      "text/html": [
       "<div>\n",
       "<style scoped>\n",
       "    .dataframe tbody tr th:only-of-type {\n",
       "        vertical-align: middle;\n",
       "    }\n",
       "\n",
       "    .dataframe tbody tr th {\n",
       "        vertical-align: top;\n",
       "    }\n",
       "\n",
       "    .dataframe thead th {\n",
       "        text-align: right;\n",
       "    }\n",
       "</style>\n",
       "<table border=\"1\" class=\"dataframe\">\n",
       "  <thead>\n",
       "    <tr style=\"text-align: right;\">\n",
       "      <th></th>\n",
       "      <th>태그원본</th>\n",
       "      <th>예측용태그</th>\n",
       "      <th>검증용태그</th>\n",
       "      <th>svd_예측결과</th>\n",
       "      <th>svd_히트</th>\n",
       "    </tr>\n",
       "  </thead>\n",
       "  <tbody>\n",
       "    <tr>\n",
       "      <th>0</th>\n",
       "      <td>[운동, 드라이브, Pop, 트로피컬하우스, 힐링, 기분전환, 2017, 팝, 트렌...</td>\n",
       "      <td>[힐링, Pop, 트로피컬하우스]</td>\n",
       "      <td>[트렌드, 일렉, 2017, 드라이브, 기분전환, 팝, 운동]</td>\n",
       "      <td>[EDM, 청량감, EDMFloor, 일렉트로닉팝, Electronic, elect...</td>\n",
       "      <td>0</td>\n",
       "    </tr>\n",
       "    <tr>\n",
       "      <th>1</th>\n",
       "      <td>[여름, 일렉트로니카, 매장음악, 취향저격, 댄스, 드라이브, 여행, 기분전환, 일...</td>\n",
       "      <td>[댄스, 신나는, 드라이브]</td>\n",
       "      <td>[여름, 여행, 일렉, 기분전환, 매장음악, 일렉트로니카, 취향저격]</td>\n",
       "      <td>[더위, 댄스음악, 바다, 기분전환, 휴가, 댄스뮤직, 여름노래, 바캉스, 여름휴가...</td>\n",
       "      <td>1</td>\n",
       "    </tr>\n",
       "    <tr>\n",
       "      <th>2</th>\n",
       "      <td>[잔잔한, 감성, 새벽, 우울, 발라드, 알앤비, 기분전환, 사랑, 이별, 인디]</td>\n",
       "      <td>[알앤비, 기분전환, 잔잔한]</td>\n",
       "      <td>[새벽, 감성, 인디, 이별, 우울, 사랑, 발라드]</td>\n",
       "      <td>[알엔비, 분위기있는, 슬로우잼, PBRnB, 귀르가즘, Sexy, RnB, 끈적한...</td>\n",
       "      <td>0</td>\n",
       "    </tr>\n",
       "    <tr>\n",
       "      <th>3</th>\n",
       "      <td>[휴식, 새벽, 펍, 매장, 드라이브, 그루브, 라운지, 기분전환, 퇴근길, 세련된]</td>\n",
       "      <td>[퇴근길, 라운지, 새벽]</td>\n",
       "      <td>[휴식, 매장, 그루브, 드라이브, 기분전환, 세련된, 펍]</td>\n",
       "      <td>[쓸쓸한, 감성, 쓸쓸함, 외로움, 우울, 공감, 혼자, 밤, 매장음악, 카페, 쓸...</td>\n",
       "      <td>0</td>\n",
       "    </tr>\n",
       "    <tr>\n",
       "      <th>4</th>\n",
       "      <td>[잠, 매장, 매장음악, 카페, 잔잔한, 추억, 일상, 추위, 자장가, 새벽]</td>\n",
       "      <td>[자장가, 잠, 추위]</td>\n",
       "      <td>[일상, 새벽, 매장, 매장음악, 잔잔한, 카페, 추억]</td>\n",
       "      <td>[생각, 북카페, 불면증, 피곤, 잠들기전, 침대, 집중, 감성자극, 머리를맑게해주...</td>\n",
       "      <td>0</td>\n",
       "    </tr>\n",
       "    <tr>\n",
       "      <th>5</th>\n",
       "      <td>[파워워킹, 흥겨운, 출근길, 알앤비, 분위기, 드라이브, 그루브, 맥주, 비트, ...</td>\n",
       "      <td>[비트, 파워워킹, 알앤비]</td>\n",
       "      <td>[출근길, 분위기, 흥겨운, 맥주, 그루브, 퇴근길, 드라이브]</td>\n",
       "      <td>[알엔비, 슬로우잼, groove, PBRnB, 그루브, 귀르가즘, Sexy, Rn...</td>\n",
       "      <td>1</td>\n",
       "    </tr>\n",
       "    <tr>\n",
       "      <th>6</th>\n",
       "      <td>[연말, 저녁, 밤, 캐럴, 눈, 오후, 잠들기전, Lofi, 재즈힙합, 자장가]</td>\n",
       "      <td>[Lofi, 잠들기전, 연말]</td>\n",
       "      <td>[캐럴, 저녁, 밤, 오후, 재즈힙합, 자장가, 눈]</td>\n",
       "      <td>[주말, 인스트루멘탈, Chillhop, jazzhiphop, 로파이, 집중, 나만...</td>\n",
       "      <td>1</td>\n",
       "    </tr>\n",
       "    <tr>\n",
       "      <th>7</th>\n",
       "      <td>[비오는날, 감성, 우울한, Pop, 그루브, 위로, 기분전환, 팝송, 그냥, 팝]</td>\n",
       "      <td>[그루브, 비오는날, 그냥]</td>\n",
       "      <td>[팝송, 기분전환, 팝, Pop, 감성, 우울한, 위로]</td>\n",
       "      <td>[트렌디, 노래추천, 꿀성대, 장르불문, 맥주, 밤에, 내취향, 음색깡패, 힙한, ...</td>\n",
       "      <td>0</td>\n",
       "    </tr>\n",
       "    <tr>\n",
       "      <th>8</th>\n",
       "      <td>[휴식, 밤, 잔잔한, 새벽에, 새벽, Pop, 몽환한, 감성, 팝, Chill]</td>\n",
       "      <td>[잔잔한, Chill, 새벽에]</td>\n",
       "      <td>[휴식, 새벽, 몽환한, 팝, Pop, 밤, 감성]</td>\n",
       "      <td>[칠링, groove, 분위기, Groovy, mood, 멜랑꼴리, 밤에, Lofi...</td>\n",
       "      <td>0</td>\n",
       "    </tr>\n",
       "    <tr>\n",
       "      <th>9</th>\n",
       "      <td>[힙합, 여행, 휴식, 알앤비, 오후, 드라이브, 그루브, 힐링, 기분전환, 트렌디]</td>\n",
       "      <td>[기분전환, 그루브, 힐링]</td>\n",
       "      <td>[여행, 휴식, 트렌디, 알앤비, 드라이브, 힙합, 오후]</td>\n",
       "      <td>[여행, 혼술, 휴식, 트렌디, 리드미컬, 매장음악, 힙스터, 힙한, 음악, 느낌있는]</td>\n",
       "      <td>1</td>\n",
       "    </tr>\n",
       "    <tr>\n",
       "      <th>10</th>\n",
       "      <td>[감성, 회상, 추억, 드라이브, Pop, 여행, 기분전환, 사랑, 빌보드핫100, 팝]</td>\n",
       "      <td>[Pop, 여행, 기분전환]</td>\n",
       "      <td>[회상, 빌보드핫100, 드라이브, 팝, 감성, 사랑, 추억]</td>\n",
       "      <td>[팝송모음, 신나는, drive, 감성팝, 드라이브, popsong, 팝송, pop...</td>\n",
       "      <td>1</td>\n",
       "    </tr>\n",
       "    <tr>\n",
       "      <th>11</th>\n",
       "      <td>[힙합, 기분좋은, 연휴, 운동, 댄스, 드라이브, 가족, 비트, 스트레스, 오후]</td>\n",
       "      <td>[연휴, 기분좋은, 스트레스]</td>\n",
       "      <td>[비트, 드라이브, 댄스, 힙합, 오후, 가족, 운동]</td>\n",
       "      <td>[행복, 여행, 주말, 운전, 산책, 고속도로, 드라이브, 기분전환, 즐거운, 운동...</td>\n",
       "      <td>1</td>\n",
       "    </tr>\n",
       "    <tr>\n",
       "      <th>12</th>\n",
       "      <td>[어쿠스틱, 혼자, 발라드, 우울, 분위기, 드라이브, 조용한, 산책, 띵곡들, 인디]</td>\n",
       "      <td>[조용한, 분위기, 어쿠스틱]</td>\n",
       "      <td>[산책, 인디, 띵곡들, 드라이브, 혼자, 우울, 발라드]</td>\n",
       "      <td>[감미롭고, 홀로, 센치, 띵곡들, 감미로움, 보이스, 쓸쓸하고, 띵_곡, 혼자, ...</td>\n",
       "      <td>1</td>\n",
       "    </tr>\n",
       "    <tr>\n",
       "      <th>13</th>\n",
       "      <td>[햇살, 매장음악, 봄, 카페, 봄바람, 주말, 멜로디, 커피, 휴식, 힐링]</td>\n",
       "      <td>[멜로디, 봄, 휴식]</td>\n",
       "      <td>[주말, 커피, 봄바람, 햇살, 매장음악, 카페, 힐링]</td>\n",
       "      <td>[산책, 쓸쓸함, 가사, 띵곡들, 공감, 혼자, 우울, 잔잔한, 위로, 쓸쓸]</td>\n",
       "      <td>0</td>\n",
       "    </tr>\n",
       "    <tr>\n",
       "      <th>14</th>\n",
       "      <td>[저녁, 밤, 회상, 추억, 힐링, 설렘, 사랑, 퇴근길, 감미로운, 새벽]</td>\n",
       "      <td>[추억, 새벽, 퇴근길]</td>\n",
       "      <td>[회상, 설렘, 밤, 사랑, 저녁, 감미로운, 힐링]</td>\n",
       "      <td>[후회, 회상, 헤어짐, 외로움, 눈물, 미련, 슬픈노래, 밤, 그리움, 감성, 쓸...</td>\n",
       "      <td>1</td>\n",
       "    </tr>\n",
       "    <tr>\n",
       "      <th>15</th>\n",
       "      <td>[비오는날, 감성, 가을, 새벽, 낭만, 우울, 잔잔한, 인생, 이별, 쓸쓸함]</td>\n",
       "      <td>[잔잔한, 비오는날, 인생]</td>\n",
       "      <td>[새벽, 쓸쓸함, 가을, 이별, 감성, 우울, 낭만]</td>\n",
       "      <td>[새벽, 휴식, 우울할때, 가을, 밤, 외로울때, 사랑, 슬픔, 편지, 힐링]</td>\n",
       "      <td>1</td>\n",
       "    </tr>\n",
       "    <tr>\n",
       "      <th>16</th>\n",
       "      <td>[저녁, 매장음악, 카페, 잔잔한, 매장, 재즈, 힐링, 기분전환, 따뜻한, 편안한]</td>\n",
       "      <td>[매장, 재즈, 잔잔한]</td>\n",
       "      <td>[편안한, 따뜻한, 기분전환, 매장음악, 카페, 저녁, 힐링]</td>\n",
       "      <td>[커피, 따뜻한, 휴식, 주말, 산책, 집, 퇴근길, 흐린날, 재즈피아노, 여유, ...</td>\n",
       "      <td>1</td>\n",
       "    </tr>\n",
       "    <tr>\n",
       "      <th>17</th>\n",
       "      <td>[아침, 연주곡, 피아노, 명상, 모닝콜, 독서, 클래식, 추위, 미술관, 공부]</td>\n",
       "      <td>[클래식, 독서, 추위]</td>\n",
       "      <td>[명상, 연주곡, 아침, 모닝콜, 미술관, 피아노, 공부]</td>\n",
       "      <td>[도서관, 집중력, 공부할때, 클래식명곡, 모차르트, 집중, 아기클래식, 쇼팽, 키...</td>\n",
       "      <td>0</td>\n",
       "    </tr>\n",
       "    <tr>\n",
       "      <th>18</th>\n",
       "      <td>[봄, 주말, 댄스, 드라이브, 여행, 중독성, 기분전환, 파티, 팝, 신나는]</td>\n",
       "      <td>[댄스, 기분전환, 주말]</td>\n",
       "      <td>[여행, 신나는, 중독성, 드라이브, 팝, 봄, 파티]</td>\n",
       "      <td>[피서, 댄스음악, 히트곡, 토토가, 드라이브, 휴가, 숨듣명, 여름노래, 바캉스,...</td>\n",
       "      <td>1</td>\n",
       "    </tr>\n",
       "    <tr>\n",
       "      <th>19</th>\n",
       "      <td>[감성, 잔잔한, 여자가수, 분위기, 행복, 슬픔, 이소라, 위로, 사랑, 발라드]</td>\n",
       "      <td>[발라드, 여자가수, 잔잔한]</td>\n",
       "      <td>[행복, 분위기, 이소라, 감성, 사랑, 슬픔, 위로]</td>\n",
       "      <td>[솔로, 회상, 애절, 기억, 슬픈발라드, 눈물, 가창력, 여가수, 옛사랑, 추억,...</td>\n",
       "      <td>0</td>\n",
       "    </tr>\n",
       "    <tr>\n",
       "      <th>20</th>\n",
       "      <td>[카페, 잔잔한, 오후, 피아노, 위로, 피곤, 잠들기전, 뉴에이지, 자장가, 북카페]</td>\n",
       "      <td>[피곤, 북카페, 뉴에이지]</td>\n",
       "      <td>[잠들기전, 피아노, 오후, 잔잔한, 카페, 자장가, 위로]</td>\n",
       "      <td>[헤드폰, 기리보이의노래는길이보인다, 시타르, 부전자전, 비정한세상, 메탈리카, 달...</td>\n",
       "      <td>0</td>\n",
       "    </tr>\n",
       "    <tr>\n",
       "      <th>21</th>\n",
       "      <td>[가을감성, 매장음악, 잔잔한, 꿈, 행복, 몽환, 집, 드라이브, 바람, 산책]</td>\n",
       "      <td>[산책, 잔잔한, 행복]</td>\n",
       "      <td>[바람, 몽환, 집, 꿈, 드라이브, 매장음악, 가을감성]</td>\n",
       "      <td>[휴식, 새벽, 봄, 연인, 밤, 설렘, 편안한, 사랑, 잠안올때, 힐링]</td>\n",
       "      <td>0</td>\n",
       "    </tr>\n",
       "    <tr>\n",
       "      <th>22</th>\n",
       "      <td>[휴식, 봄, 카페, 달달한, 여유, 오후, 매장, 힐링, 기분전환, 일상]</td>\n",
       "      <td>[일상, 힐링, 휴식]</td>\n",
       "      <td>[매장, 기분전환, 봄, 달달한, 여유, 오후, 카페]</td>\n",
       "      <td>[생각, 바람, 행복, 새벽, 산책, 가을, 밤, 편안한, 잔잔한, 잠안올때]</td>\n",
       "      <td>0</td>\n",
       "    </tr>\n",
       "    <tr>\n",
       "      <th>23</th>\n",
       "      <td>[집중, 느낌있는, 여유, 회상, 추억, 설렘, 사랑, 감미롭고, 스트레스, 편안한]</td>\n",
       "      <td>[스트레스, 편안한, 느낌있는]</td>\n",
       "      <td>[회상, 감미롭고, 여유, 집중, 설렘, 추억, 사랑]</td>\n",
       "      <td>[운전, 분위기, 산책, 센치, 쉼, 드라이브, 기분전환, 커피숍, 매장음악, 띵곡...</td>\n",
       "      <td>0</td>\n",
       "    </tr>\n",
       "    <tr>\n",
       "      <th>24</th>\n",
       "      <td>[클럽, 최신, 댄스, Pop, 하우스, 파티, 인기, 일렉트로닉, 팝, 일렉]</td>\n",
       "      <td>[팝, 댄스, 일렉]</td>\n",
       "      <td>[하우스, 클럽, 인기, Pop, 최신, 파티, 일렉트로닉]</td>\n",
       "      <td>[아이돌숨은명곡, 헤드폰, 시타르, 기리보이의노래는길이보인다, 부전자전, 비정한세상...</td>\n",
       "      <td>0</td>\n",
       "    </tr>\n",
       "    <tr>\n",
       "      <th>25</th>\n",
       "      <td>[휴식, 노동요, 연주곡, 피아노, 공부, 클래식, 잠들기전, 침대, 자장가, 불면증]</td>\n",
       "      <td>[침대, 연주곡, 공부]</td>\n",
       "      <td>[클래식, 휴식, 불면증, 잠들기전, 피아노, 노동요, 자장가]</td>\n",
       "      <td>[헤드폰, 기리보이의노래는길이보인다, 시타르, 부전자전, 비정한세상, 메탈리카, 달...</td>\n",
       "      <td>0</td>\n",
       "    </tr>\n",
       "    <tr>\n",
       "      <th>26</th>\n",
       "      <td>[힙합, 매장음악, 카페, 알앤비, 감각적인, 그루브, 꿀보이스, 커피, 리드미컬,...</td>\n",
       "      <td>[커피, 그루브, 트렌디]</td>\n",
       "      <td>[알앤비, 리드미컬, 꿀보이스, 힙합, 감각적인, 매장음악, 카페]</td>\n",
       "      <td>[혼술, 추천노래, 리드미컬, 랩노래, 힙스터, 리드미컬한, 힙한, 유니크한, 유니...</td>\n",
       "      <td>1</td>\n",
       "    </tr>\n",
       "    <tr>\n",
       "      <th>27</th>\n",
       "      <td>[감성, 가을, 카페, 발라드, 한강, 오후, 매장, 드라이브, 하늘, 저녁]</td>\n",
       "      <td>[한강, 카페, 저녁]</td>\n",
       "      <td>[매장, 가을, 드라이브, 오후, 감성, 발라드, 하늘]</td>\n",
       "      <td>[주말, 겨울감성, 퇴근길, 흐린날, 가을밤, 겨울밤, 오후, 감성, 선선한, 밤새벽]</td>\n",
       "      <td>1</td>\n",
       "    </tr>\n",
       "    <tr>\n",
       "      <th>28</th>\n",
       "      <td>[저녁, 밤, 새벽, 추억, 그리움, 슬픔, 사랑, 이별, 회상, 쓸쓸하고]</td>\n",
       "      <td>[회상, 저녁, 그리움]</td>\n",
       "      <td>[새벽, 쓸쓸하고, 이별, 밤, 추억, 사랑, 슬픔]</td>\n",
       "      <td>[추위, 찬바람, 쓸쓸한, 센치, 쓸쓸함, 공감, 감성발라드, 혼자, 감성, 쓸쓸,...</td>\n",
       "      <td>0</td>\n",
       "    </tr>\n",
       "    <tr>\n",
       "      <th>29</th>\n",
       "      <td>[비오는날, 감성, 혼자, 새벽, 새벽감성, 우울, 토닥토닥, 센치, 위로, 울고싶은날]</td>\n",
       "      <td>[위로, 센치, 새벽]</td>\n",
       "      <td>[울고싶은날, 토닥토닥, 새벽감성, 혼자, 감성, 우울, 비오는날]</td>\n",
       "      <td>[감미롭고, 쓸쓸한, 쓸쓸함, 가사, 쓸쓸하고, 공감, 혼자, 우울, 조용하게, 쓸...</td>\n",
       "      <td>1</td>\n",
       "    </tr>\n",
       "  </tbody>\n",
       "</table>\n",
       "</div>"
      ],
      "text/plain": [
       "                                                 태그원본               예측용태그  \\\n",
       "0   [운동, 드라이브, Pop, 트로피컬하우스, 힐링, 기분전환, 2017, 팝, 트렌...  [힐링, Pop, 트로피컬하우스]   \n",
       "1   [여름, 일렉트로니카, 매장음악, 취향저격, 댄스, 드라이브, 여행, 기분전환, 일...     [댄스, 신나는, 드라이브]   \n",
       "2       [잔잔한, 감성, 새벽, 우울, 발라드, 알앤비, 기분전환, 사랑, 이별, 인디]    [알앤비, 기분전환, 잔잔한]   \n",
       "3     [휴식, 새벽, 펍, 매장, 드라이브, 그루브, 라운지, 기분전환, 퇴근길, 세련된]      [퇴근길, 라운지, 새벽]   \n",
       "4         [잠, 매장, 매장음악, 카페, 잔잔한, 추억, 일상, 추위, 자장가, 새벽]        [자장가, 잠, 추위]   \n",
       "5   [파워워킹, 흥겨운, 출근길, 알앤비, 분위기, 드라이브, 그루브, 맥주, 비트, ...     [비트, 파워워킹, 알앤비]   \n",
       "6       [연말, 저녁, 밤, 캐럴, 눈, 오후, 잠들기전, Lofi, 재즈힙합, 자장가]    [Lofi, 잠들기전, 연말]   \n",
       "7      [비오는날, 감성, 우울한, Pop, 그루브, 위로, 기분전환, 팝송, 그냥, 팝]     [그루브, 비오는날, 그냥]   \n",
       "8       [휴식, 밤, 잔잔한, 새벽에, 새벽, Pop, 몽환한, 감성, 팝, Chill]   [잔잔한, Chill, 새벽에]   \n",
       "9     [힙합, 여행, 휴식, 알앤비, 오후, 드라이브, 그루브, 힐링, 기분전환, 트렌디]     [기분전환, 그루브, 힐링]   \n",
       "10  [감성, 회상, 추억, 드라이브, Pop, 여행, 기분전환, 사랑, 빌보드핫100, 팝]     [Pop, 여행, 기분전환]   \n",
       "11     [힙합, 기분좋은, 연휴, 운동, 댄스, 드라이브, 가족, 비트, 스트레스, 오후]    [연휴, 기분좋은, 스트레스]   \n",
       "12   [어쿠스틱, 혼자, 발라드, 우울, 분위기, 드라이브, 조용한, 산책, 띵곡들, 인디]    [조용한, 분위기, 어쿠스틱]   \n",
       "13        [햇살, 매장음악, 봄, 카페, 봄바람, 주말, 멜로디, 커피, 휴식, 힐링]        [멜로디, 봄, 휴식]   \n",
       "14         [저녁, 밤, 회상, 추억, 힐링, 설렘, 사랑, 퇴근길, 감미로운, 새벽]       [추억, 새벽, 퇴근길]   \n",
       "15       [비오는날, 감성, 가을, 새벽, 낭만, 우울, 잔잔한, 인생, 이별, 쓸쓸함]     [잔잔한, 비오는날, 인생]   \n",
       "16    [저녁, 매장음악, 카페, 잔잔한, 매장, 재즈, 힐링, 기분전환, 따뜻한, 편안한]       [매장, 재즈, 잔잔한]   \n",
       "17      [아침, 연주곡, 피아노, 명상, 모닝콜, 독서, 클래식, 추위, 미술관, 공부]       [클래식, 독서, 추위]   \n",
       "18       [봄, 주말, 댄스, 드라이브, 여행, 중독성, 기분전환, 파티, 팝, 신나는]      [댄스, 기분전환, 주말]   \n",
       "19     [감성, 잔잔한, 여자가수, 분위기, 행복, 슬픔, 이소라, 위로, 사랑, 발라드]    [발라드, 여자가수, 잔잔한]   \n",
       "20   [카페, 잔잔한, 오후, 피아노, 위로, 피곤, 잠들기전, 뉴에이지, 자장가, 북카페]     [피곤, 북카페, 뉴에이지]   \n",
       "21      [가을감성, 매장음악, 잔잔한, 꿈, 행복, 몽환, 집, 드라이브, 바람, 산책]       [산책, 잔잔한, 행복]   \n",
       "22         [휴식, 봄, 카페, 달달한, 여유, 오후, 매장, 힐링, 기분전환, 일상]        [일상, 힐링, 휴식]   \n",
       "23    [집중, 느낌있는, 여유, 회상, 추억, 설렘, 사랑, 감미롭고, 스트레스, 편안한]   [스트레스, 편안한, 느낌있는]   \n",
       "24       [클럽, 최신, 댄스, Pop, 하우스, 파티, 인기, 일렉트로닉, 팝, 일렉]         [팝, 댄스, 일렉]   \n",
       "25   [휴식, 노동요, 연주곡, 피아노, 공부, 클래식, 잠들기전, 침대, 자장가, 불면증]       [침대, 연주곡, 공부]   \n",
       "26  [힙합, 매장음악, 카페, 알앤비, 감각적인, 그루브, 꿀보이스, 커피, 리드미컬,...      [커피, 그루브, 트렌디]   \n",
       "27        [감성, 가을, 카페, 발라드, 한강, 오후, 매장, 드라이브, 하늘, 저녁]        [한강, 카페, 저녁]   \n",
       "28         [저녁, 밤, 새벽, 추억, 그리움, 슬픔, 사랑, 이별, 회상, 쓸쓸하고]       [회상, 저녁, 그리움]   \n",
       "29  [비오는날, 감성, 혼자, 새벽, 새벽감성, 우울, 토닥토닥, 센치, 위로, 울고싶은날]        [위로, 센치, 새벽]   \n",
       "\n",
       "                                     검증용태그  \\\n",
       "0       [트렌드, 일렉, 2017, 드라이브, 기분전환, 팝, 운동]   \n",
       "1   [여름, 여행, 일렉, 기분전환, 매장음악, 일렉트로니카, 취향저격]   \n",
       "2            [새벽, 감성, 인디, 이별, 우울, 사랑, 발라드]   \n",
       "3        [휴식, 매장, 그루브, 드라이브, 기분전환, 세련된, 펍]   \n",
       "4          [일상, 새벽, 매장, 매장음악, 잔잔한, 카페, 추억]   \n",
       "5      [출근길, 분위기, 흥겨운, 맥주, 그루브, 퇴근길, 드라이브]   \n",
       "6            [캐럴, 저녁, 밤, 오후, 재즈힙합, 자장가, 눈]   \n",
       "7          [팝송, 기분전환, 팝, Pop, 감성, 우울한, 위로]   \n",
       "8             [휴식, 새벽, 몽환한, 팝, Pop, 밤, 감성]   \n",
       "9         [여행, 휴식, 트렌디, 알앤비, 드라이브, 힙합, 오후]   \n",
       "10      [회상, 빌보드핫100, 드라이브, 팝, 감성, 사랑, 추억]   \n",
       "11          [비트, 드라이브, 댄스, 힙합, 오후, 가족, 운동]   \n",
       "12        [산책, 인디, 띵곡들, 드라이브, 혼자, 우울, 발라드]   \n",
       "13         [주말, 커피, 봄바람, 햇살, 매장음악, 카페, 힐링]   \n",
       "14           [회상, 설렘, 밤, 사랑, 저녁, 감미로운, 힐링]   \n",
       "15           [새벽, 쓸쓸함, 가을, 이별, 감성, 우울, 낭만]   \n",
       "16      [편안한, 따뜻한, 기분전환, 매장음악, 카페, 저녁, 힐링]   \n",
       "17        [명상, 연주곡, 아침, 모닝콜, 미술관, 피아노, 공부]   \n",
       "18          [여행, 신나는, 중독성, 드라이브, 팝, 봄, 파티]   \n",
       "19          [행복, 분위기, 이소라, 감성, 사랑, 슬픔, 위로]   \n",
       "20       [잠들기전, 피아노, 오후, 잔잔한, 카페, 자장가, 위로]   \n",
       "21        [바람, 몽환, 집, 꿈, 드라이브, 매장음악, 가을감성]   \n",
       "22          [매장, 기분전환, 봄, 달달한, 여유, 오후, 카페]   \n",
       "23          [회상, 감미롭고, 여유, 집중, 설렘, 추억, 사랑]   \n",
       "24       [하우스, 클럽, 인기, Pop, 최신, 파티, 일렉트로닉]   \n",
       "25     [클래식, 휴식, 불면증, 잠들기전, 피아노, 노동요, 자장가]   \n",
       "26   [알앤비, 리드미컬, 꿀보이스, 힙합, 감각적인, 매장음악, 카페]   \n",
       "27         [매장, 가을, 드라이브, 오후, 감성, 발라드, 하늘]   \n",
       "28           [새벽, 쓸쓸하고, 이별, 밤, 추억, 사랑, 슬픔]   \n",
       "29   [울고싶은날, 토닥토닥, 새벽감성, 혼자, 감성, 우울, 비오는날]   \n",
       "\n",
       "                                             svd_예측결과  svd_히트  \n",
       "0   [EDM, 청량감, EDMFloor, 일렉트로닉팝, Electronic, elect...       0  \n",
       "1   [더위, 댄스음악, 바다, 기분전환, 휴가, 댄스뮤직, 여름노래, 바캉스, 여름휴가...       1  \n",
       "2   [알엔비, 분위기있는, 슬로우잼, PBRnB, 귀르가즘, Sexy, RnB, 끈적한...       0  \n",
       "3   [쓸쓸한, 감성, 쓸쓸함, 외로움, 우울, 공감, 혼자, 밤, 매장음악, 카페, 쓸...       0  \n",
       "4   [생각, 북카페, 불면증, 피곤, 잠들기전, 침대, 집중, 감성자극, 머리를맑게해주...       0  \n",
       "5   [알엔비, 슬로우잼, groove, PBRnB, 그루브, 귀르가즘, Sexy, Rn...       1  \n",
       "6   [주말, 인스트루멘탈, Chillhop, jazzhiphop, 로파이, 집중, 나만...       1  \n",
       "7   [트렌디, 노래추천, 꿀성대, 장르불문, 맥주, 밤에, 내취향, 음색깡패, 힙한, ...       0  \n",
       "8   [칠링, groove, 분위기, Groovy, mood, 멜랑꼴리, 밤에, Lofi...       0  \n",
       "9    [여행, 혼술, 휴식, 트렌디, 리드미컬, 매장음악, 힙스터, 힙한, 음악, 느낌있는]       1  \n",
       "10  [팝송모음, 신나는, drive, 감성팝, 드라이브, popsong, 팝송, pop...       1  \n",
       "11  [행복, 여행, 주말, 운전, 산책, 고속도로, 드라이브, 기분전환, 즐거운, 운동...       1  \n",
       "12  [감미롭고, 홀로, 센치, 띵곡들, 감미로움, 보이스, 쓸쓸하고, 띵_곡, 혼자, ...       1  \n",
       "13        [산책, 쓸쓸함, 가사, 띵곡들, 공감, 혼자, 우울, 잔잔한, 위로, 쓸쓸]       0  \n",
       "14  [후회, 회상, 헤어짐, 외로움, 눈물, 미련, 슬픈노래, 밤, 그리움, 감성, 쓸...       1  \n",
       "15        [새벽, 휴식, 우울할때, 가을, 밤, 외로울때, 사랑, 슬픔, 편지, 힐링]       1  \n",
       "16  [커피, 따뜻한, 휴식, 주말, 산책, 집, 퇴근길, 흐린날, 재즈피아노, 여유, ...       1  \n",
       "17  [도서관, 집중력, 공부할때, 클래식명곡, 모차르트, 집중, 아기클래식, 쇼팽, 키...       0  \n",
       "18  [피서, 댄스음악, 히트곡, 토토가, 드라이브, 휴가, 숨듣명, 여름노래, 바캉스,...       1  \n",
       "19  [솔로, 회상, 애절, 기억, 슬픈발라드, 눈물, 가창력, 여가수, 옛사랑, 추억,...       0  \n",
       "20  [헤드폰, 기리보이의노래는길이보인다, 시타르, 부전자전, 비정한세상, 메탈리카, 달...       0  \n",
       "21          [휴식, 새벽, 봄, 연인, 밤, 설렘, 편안한, 사랑, 잠안올때, 힐링]       0  \n",
       "22        [생각, 바람, 행복, 새벽, 산책, 가을, 밤, 편안한, 잔잔한, 잠안올때]       0  \n",
       "23  [운전, 분위기, 산책, 센치, 쉼, 드라이브, 기분전환, 커피숍, 매장음악, 띵곡...       0  \n",
       "24  [아이돌숨은명곡, 헤드폰, 시타르, 기리보이의노래는길이보인다, 부전자전, 비정한세상...       0  \n",
       "25  [헤드폰, 기리보이의노래는길이보인다, 시타르, 부전자전, 비정한세상, 메탈리카, 달...       0  \n",
       "26  [혼술, 추천노래, 리드미컬, 랩노래, 힙스터, 리드미컬한, 힙한, 유니크한, 유니...       1  \n",
       "27   [주말, 겨울감성, 퇴근길, 흐린날, 가을밤, 겨울밤, 오후, 감성, 선선한, 밤새벽]       1  \n",
       "28  [추위, 찬바람, 쓸쓸한, 센치, 쓸쓸함, 공감, 감성발라드, 혼자, 감성, 쓸쓸,...       0  \n",
       "29  [감미롭고, 쓸쓸한, 쓸쓸함, 가사, 쓸쓸하고, 공감, 혼자, 우울, 조용하게, 쓸...       1  "
      ]
     },
     "execution_count": 51,
     "metadata": {},
     "output_type": "execute_result"
    }
   ],
   "source": [
    "cal_tag_hit_df.head(30)"
   ]
  },
  {
   "cell_type": "markdown",
   "id": "86e95882",
   "metadata": {},
   "source": [
    "## 과연 한 태그의 장르 점유율은 어떨까?"
   ]
  },
  {
   "cell_type": "code",
   "execution_count": null,
   "id": "d6370a69",
   "metadata": {
    "ExecuteTime": {
     "end_time": "2021-11-08T23:42:38.582047Z",
     "start_time": "2021-11-08T23:42:37.457856Z"
    }
   },
   "outputs": [],
   "source": [
    "# {tag_Id:genre_detail_ids}\n",
    "\n",
    "tag_id_to_genre_detail_ids = defaultdict(list)\n",
    "\n",
    "for ids,genres in zip(train_df['태그아이디'].tolist(),train_df['세부장르'].tolist()):\n",
    "    for id in ids:\n",
    "        tag_id_to_genre_detail_ids[id].extend(genres)"
   ]
  },
  {
   "cell_type": "code",
   "execution_count": null,
   "id": "7aa22539",
   "metadata": {
    "ExecuteTime": {
     "end_time": "2021-11-08T23:42:50.705048Z",
     "start_time": "2021-11-08T23:42:48.008931Z"
    }
   },
   "outputs": [],
   "source": [
    "# 장르의 빈도수를 카운트해서 value를 바꿈\n",
    "\n",
    "for k,v in tag_id_to_genre_detail_ids.items():\n",
    "    tag_id_to_genre_detail_ids[k] = dict(Counter(v))"
   ]
  },
  {
   "cell_type": "code",
   "execution_count": null,
   "id": "16806738",
   "metadata": {
    "ExecuteTime": {
     "end_time": "2021-11-08T23:42:54.864857Z",
     "start_time": "2021-11-08T23:42:54.818932Z"
    }
   },
   "outputs": [],
   "source": [
    "tag_genre_sorted = {}\n",
    "for k,v in tag_id_to_genre_detail_ids.items():\n",
    "    tag_genre_sorted[k] = sorted(tag_id_to_genre_detail_ids[k].items(),key=lambda x : x[1],reverse=True)"
   ]
  },
  {
   "cell_type": "code",
   "execution_count": null,
   "id": "b38f3a03",
   "metadata": {
    "ExecuteTime": {
     "end_time": "2021-11-08T23:42:58.990857Z",
     "start_time": "2021-11-08T23:42:58.960931Z"
    }
   },
   "outputs": [],
   "source": [
    "genre_counts = []\n",
    "\n",
    "for k,v in tag_genre_sorted.items():\n",
    "    genre_counts.append([count for id,count in v])"
   ]
  },
  {
   "cell_type": "code",
   "execution_count": null,
   "id": "b7b20e8f",
   "metadata": {
    "ExecuteTime": {
     "end_time": "2021-11-08T23:43:03.372974Z",
     "start_time": "2021-11-08T23:43:03.229856Z"
    }
   },
   "outputs": [],
   "source": [
    "genre_skew = list(map(lambda x : skew(x),genre_counts))"
   ]
  },
  {
   "cell_type": "code",
   "execution_count": null,
   "id": "4a74e9a8",
   "metadata": {
    "ExecuteTime": {
     "end_time": "2021-11-09T03:17:31.992893Z",
     "start_time": "2021-11-09T03:17:31.832901Z"
    }
   },
   "outputs": [],
   "source": [
    "genre_kurtosis = list(map(lambda x : kurtosis(x),genre_counts))"
   ]
  },
  {
   "cell_type": "code",
   "execution_count": null,
   "id": "392e5b7c",
   "metadata": {
    "ExecuteTime": {
     "end_time": "2021-11-09T01:22:46.256875Z",
     "start_time": "2021-11-09T01:22:46.248004Z"
    }
   },
   "outputs": [],
   "source": [
    "skew(genre_counts[2])"
   ]
  },
  {
   "cell_type": "code",
   "execution_count": null,
   "id": "380d0a6a",
   "metadata": {
    "ExecuteTime": {
     "end_time": "2021-11-09T03:27:04.893782Z",
     "start_time": "2021-11-09T03:27:04.877777Z"
    }
   },
   "outputs": [],
   "source": [
    "np.median(genre_counts[2])"
   ]
  },
  {
   "cell_type": "code",
   "execution_count": null,
   "id": "37bd3ca7",
   "metadata": {
    "ExecuteTime": {
     "end_time": "2021-11-09T03:17:40.709466Z",
     "start_time": "2021-11-09T03:17:40.698449Z"
    }
   },
   "outputs": [],
   "source": [
    "max(genre_kurtosis), min(genre_kurtosis)"
   ]
  },
  {
   "cell_type": "code",
   "execution_count": null,
   "id": "b3facc80",
   "metadata": {
    "ExecuteTime": {
     "end_time": "2021-11-09T03:18:24.705581Z",
     "start_time": "2021-11-09T03:18:24.686499Z"
    }
   },
   "outputs": [],
   "source": [
    "np.median(genre_kurtosis)"
   ]
  },
  {
   "cell_type": "code",
   "execution_count": null,
   "id": "27da3fbe",
   "metadata": {
    "ExecuteTime": {
     "end_time": "2021-11-09T03:20:22.800900Z",
     "start_time": "2021-11-09T03:20:22.783912Z"
    }
   },
   "outputs": [],
   "source": [
    "genre_kurtosis.index(min(genre_kurtosis))"
   ]
  },
  {
   "cell_type": "code",
   "execution_count": null,
   "id": "c6a5e7d5",
   "metadata": {},
   "outputs": [],
   "source": [
    "genre_kurtosis"
   ]
  },
  {
   "cell_type": "code",
   "execution_count": null,
   "id": "08c4be03",
   "metadata": {
    "ExecuteTime": {
     "end_time": "2021-11-08T23:43:12.407859Z",
     "start_time": "2021-11-08T23:43:12.393856Z"
    }
   },
   "outputs": [],
   "source": [
    "len(genre_skew)"
   ]
  },
  {
   "cell_type": "code",
   "execution_count": null,
   "id": "d2fc7187",
   "metadata": {
    "ExecuteTime": {
     "end_time": "2021-11-09T03:20:59.609471Z",
     "start_time": "2021-11-09T03:20:59.481472Z"
    }
   },
   "outputs": [],
   "source": [
    "#sns.kdeplot([(x-np.mean(genre_counts[0]))/np.std(genre_counts[0]) for x in genre_counts[0]],shade=True)\n",
    "#sns.kdeplot(np.random.normal(),shade=True)\n",
    "#np.mean(genre_counts[2])\n",
    "\n",
    "#ax = sns.kdeplot(genre_counts[2],shade=False,color='crimson')\n",
    "ax = sns.distplot(genre_counts[1099],color='crimson')\n",
    "kdeline = ax.lines[0]\n",
    "mean = np.mean(genre_counts[1099])\n",
    "xs = kdeline.get_xdata()\n",
    "ys = kdeline.get_ydata()\n",
    "height = np.interp(mean,xs,ys)\n",
    "ax.vlines(mean,0,height,color='crimson',ls=':')\n",
    "ax.fill_between(xs,0,ys,facecolor='crimson',alpha=0.2)\n",
    "plt.show()\n",
    "print(f' 평균 : {mean}  왜도: {skew(genre_counts[1099])} 첨도: {kurtosis(genre_counts[1099])}')"
   ]
  },
  {
   "cell_type": "code",
   "execution_count": null,
   "id": "15f7796e",
   "metadata": {
    "ExecuteTime": {
     "end_time": "2021-11-09T03:21:32.547249Z",
     "start_time": "2021-11-09T03:21:32.533250Z"
    }
   },
   "outputs": [],
   "source": [
    "id_to_tag[1099]"
   ]
  },
  {
   "cell_type": "code",
   "execution_count": null,
   "id": "70447b92",
   "metadata": {
    "ExecuteTime": {
     "end_time": "2021-11-09T03:22:21.294950Z",
     "start_time": "2021-11-09T03:22:21.290874Z"
    }
   },
   "outputs": [],
   "source": [
    "tag_id_to_genre_big_ids[2]"
   ]
  },
  {
   "cell_type": "code",
   "execution_count": null,
   "id": "ffb2cf08",
   "metadata": {
    "ExecuteTime": {
     "end_time": "2021-11-09T02:07:16.993740Z",
     "start_time": "2021-11-09T02:07:16.408671Z"
    }
   },
   "outputs": [],
   "source": [
    "genre_counts_pie = []\n",
    "\n",
    "genre_counts_pie.extend(genre_counts[2])\n",
    "genre_counts_pie.append(np.sum(genre_counts[2][10:]))\n",
    "\n",
    "plt.pie(genre_counts_pie)\n",
    "\n",
    "plt.show()"
   ]
  },
  {
   "cell_type": "markdown",
   "id": "2918ec64",
   "metadata": {},
   "source": [
    "# 과연 한 태그의 대장르의 분포가 치우쳐져 있을까?"
   ]
  },
  {
   "cell_type": "code",
   "execution_count": null,
   "id": "352a67f0",
   "metadata": {
    "ExecuteTime": {
     "end_time": "2021-11-09T02:16:24.857531Z",
     "start_time": "2021-11-09T02:16:24.251474Z"
    }
   },
   "outputs": [],
   "source": [
    "# {tag_Id:genre_big_ids}\n",
    "\n",
    "tag_id_to_genre_big_ids = defaultdict(list)\n",
    "\n",
    "for ids,genres in zip(train_df['태그아이디'].tolist(),train_df['대장르'].tolist()):\n",
    "    for id in ids:\n",
    "        tag_id_to_genre_big_ids[id].extend(genres)"
   ]
  },
  {
   "cell_type": "code",
   "execution_count": null,
   "id": "8aea2a30",
   "metadata": {
    "ExecuteTime": {
     "end_time": "2021-11-09T02:17:18.154875Z",
     "start_time": "2021-11-09T02:17:17.112192Z"
    }
   },
   "outputs": [],
   "source": [
    "# 대장르의 빈도수를 카운트해서 value를 바꿈\n",
    "\n",
    "for k,v in tag_id_to_genre_big_ids.items():\n",
    "    tag_id_to_genre_big_ids[k] = dict(Counter(v))"
   ]
  },
  {
   "cell_type": "code",
   "execution_count": null,
   "id": "eca9ed14",
   "metadata": {
    "ExecuteTime": {
     "end_time": "2021-11-09T02:17:49.805690Z",
     "start_time": "2021-11-09T02:17:49.785701Z"
    }
   },
   "outputs": [],
   "source": [
    "tag_big_genre_sorted = {}\n",
    "for k,v in tag_id_to_genre_big_ids.items():\n",
    "    tag_big_genre_sorted[k] = sorted(tag_id_to_genre_big_ids[k].items(),key=lambda x : x[1],reverse=True)"
   ]
  },
  {
   "cell_type": "code",
   "execution_count": null,
   "id": "301d55a6",
   "metadata": {
    "ExecuteTime": {
     "end_time": "2021-11-09T02:18:08.729579Z",
     "start_time": "2021-11-09T02:18:08.714580Z"
    }
   },
   "outputs": [],
   "source": [
    "big_genre_counts = []\n",
    "\n",
    "for k,v in tag_big_genre_sorted.items():\n",
    "    big_genre_counts.append([count for id,count in v])"
   ]
  },
  {
   "cell_type": "code",
   "execution_count": null,
   "id": "70ec90f9",
   "metadata": {
    "ExecuteTime": {
     "end_time": "2021-11-09T02:19:52.000150Z",
     "start_time": "2021-11-09T02:19:51.859067Z"
    }
   },
   "outputs": [],
   "source": [
    "big_genre_counts_pie = []\n",
    "\n",
    "big_genre_counts_pie.extend(big_genre_counts[2])\n",
    "#big_genre_counts_pie.append(np.sum(big_genre_counts[2][5:]))\n",
    "\n",
    "plt.pie(big_genre_counts_pie)\n",
    "\n",
    "plt.show()"
   ]
  },
  {
   "cell_type": "markdown",
   "id": "eea0d1a2",
   "metadata": {},
   "source": [
    "# 과연 플레이리스트안의 세부장르의 분포는?"
   ]
  },
  {
   "cell_type": "code",
   "execution_count": null,
   "id": "bf5fa4b3",
   "metadata": {
    "ExecuteTime": {
     "end_time": "2021-11-09T01:49:21.656456Z",
     "start_time": "2021-11-09T01:49:21.647549Z"
    }
   },
   "outputs": [],
   "source": [
    "train_df['새플리아이디'] = train_df.index\n",
    "train_df.head(1)"
   ]
  },
  {
   "cell_type": "code",
   "execution_count": null,
   "id": "7ded5c0a",
   "metadata": {
    "ExecuteTime": {
     "end_time": "2021-11-09T01:50:08.710073Z",
     "start_time": "2021-11-09T01:50:08.408937Z"
    }
   },
   "outputs": [],
   "source": [
    "p_id_to_genre_detail_ids = defaultdict(list)\n",
    "\n",
    "for id,genres in zip(train_df['새플리아이디'].tolist(),train_df['세부장르'].tolist()):\n",
    "    p_id_to_genre_detail_ids[id].extend(genres)"
   ]
  },
  {
   "cell_type": "code",
   "execution_count": null,
   "id": "4e508bef",
   "metadata": {
    "ExecuteTime": {
     "end_time": "2021-11-09T01:51:06.892844Z",
     "start_time": "2021-11-09T01:51:06.038896Z"
    }
   },
   "outputs": [],
   "source": [
    "# 장르의 빈도수를 카운트해서 value를 바꿈\n",
    "\n",
    "for k,v in p_id_to_genre_detail_ids.items():\n",
    "    p_id_to_genre_detail_ids[k] = dict(Counter(v))"
   ]
  },
  {
   "cell_type": "code",
   "execution_count": null,
   "id": "5341aa26",
   "metadata": {
    "ExecuteTime": {
     "end_time": "2021-11-09T01:51:30.049298Z",
     "start_time": "2021-11-09T01:51:29.685664Z"
    }
   },
   "outputs": [],
   "source": [
    "p_genre_sorted = {}\n",
    "for k,v in p_id_to_genre_detail_ids.items():\n",
    "    p_genre_sorted[k] = sorted(p_id_to_genre_detail_ids[k].items(),key=lambda x : x[1],reverse=True)"
   ]
  },
  {
   "cell_type": "code",
   "execution_count": null,
   "id": "eb779d0b",
   "metadata": {
    "ExecuteTime": {
     "end_time": "2021-11-09T01:51:44.146148Z",
     "start_time": "2021-11-09T01:51:43.987156Z"
    }
   },
   "outputs": [],
   "source": [
    "p_genre_counts = []\n",
    "\n",
    "for k,v in p_genre_sorted.items():\n",
    "    p_genre_counts.append([count for id,count in v])"
   ]
  },
  {
   "cell_type": "code",
   "execution_count": null,
   "id": "13fdf478",
   "metadata": {
    "ExecuteTime": {
     "end_time": "2021-11-09T01:52:13.028217Z",
     "start_time": "2021-11-09T01:52:05.331611Z"
    }
   },
   "outputs": [],
   "source": [
    "p_genre_skew = list(map(lambda x : skew(x),p_genre_counts))"
   ]
  },
  {
   "cell_type": "code",
   "execution_count": null,
   "id": "36cfebe2",
   "metadata": {
    "ExecuteTime": {
     "end_time": "2021-11-09T01:52:25.127819Z",
     "start_time": "2021-11-09T01:52:25.112840Z"
    }
   },
   "outputs": [],
   "source": [
    "max(p_genre_skew), min(p_genre_skew)"
   ]
  },
  {
   "cell_type": "code",
   "execution_count": null,
   "id": "d65d633a",
   "metadata": {
    "ExecuteTime": {
     "end_time": "2021-11-09T01:54:22.202008Z",
     "start_time": "2021-11-09T01:54:14.809453Z"
    }
   },
   "outputs": [],
   "source": [
    "p_genre_kurtosis = list(map(lambda x : kurtosis(x),p_genre_counts))"
   ]
  },
  {
   "cell_type": "code",
   "execution_count": null,
   "id": "0bd8f0ed",
   "metadata": {
    "ExecuteTime": {
     "end_time": "2021-11-09T01:54:32.687588Z",
     "start_time": "2021-11-09T01:54:32.680509Z"
    }
   },
   "outputs": [],
   "source": [
    "max(p_genre_kurtosis), min(p_genre_kurtosis)"
   ]
  }
 ],
 "metadata": {
  "kernelspec": {
   "display_name": "Python 3 (ipykernel)",
   "language": "python",
   "name": "python3"
  },
  "language_info": {
   "codemirror_mode": {
    "name": "ipython",
    "version": 3
   },
   "file_extension": ".py",
   "mimetype": "text/x-python",
   "name": "python",
   "nbconvert_exporter": "python",
   "pygments_lexer": "ipython3",
   "version": "3.9.6"
  },
  "toc": {
   "base_numbering": 1,
   "nav_menu": {},
   "number_sections": true,
   "sideBar": true,
   "skip_h1_title": false,
   "title_cell": "Table of Contents",
   "title_sidebar": "Contents",
   "toc_cell": false,
   "toc_position": {},
   "toc_section_display": true,
   "toc_window_display": false
  },
  "varInspector": {
   "cols": {
    "lenName": 16,
    "lenType": 16,
    "lenVar": 40
   },
   "kernels_config": {
    "python": {
     "delete_cmd_postfix": "",
     "delete_cmd_prefix": "del ",
     "library": "var_list.py",
     "varRefreshCmd": "print(var_dic_list())"
    },
    "r": {
     "delete_cmd_postfix": ") ",
     "delete_cmd_prefix": "rm(",
     "library": "var_list.r",
     "varRefreshCmd": "cat(var_dic_list()) "
    }
   },
   "types_to_exclude": [
    "module",
    "function",
    "builtin_function_or_method",
    "instance",
    "_Feature"
   ],
   "window_display": false
  }
 },
 "nbformat": 4,
 "nbformat_minor": 5
}
