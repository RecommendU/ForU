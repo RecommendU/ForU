{
 "cells": [
  {
   "cell_type": "markdown",
   "id": "09383984",
   "metadata": {},
   "source": [
    "# 필요한 라이브러리 import"
   ]
  },
  {
   "cell_type": "code",
   "execution_count": 54,
   "id": "c5bfe0a3",
   "metadata": {
    "ExecuteTime": {
     "end_time": "2021-11-09T16:47:33.459148Z",
     "start_time": "2021-11-09T16:47:33.451149Z"
    }
   },
   "outputs": [],
   "source": [
    "import os\n",
    "import json\n",
    "import numpy as np\n",
    "import pandas as pd\n",
    "from scipy import sparse as spr\n",
    "import configparser\n",
    "import pymysql\n",
    "from itertools import chain\n",
    "from collections import defaultdict,Counter\n",
    "import hnswlib\n",
    "import warnings\n",
    "import pickle\n",
    "import matplotlib.pyplot as plt\n",
    "import seaborn as sns\n",
    "from sklearn.decomposition import NMF\n",
    "from itertools import repeat\n",
    "from sklearn.preprocessing import MinMaxScaler\n",
    "import random\n",
    "from scipy.stats import skew,kurtosis\n",
    "warnings.filterwarnings(action='ignore')"
   ]
  },
  {
   "cell_type": "markdown",
   "id": "9ae8eb62",
   "metadata": {},
   "source": [
    "# 데이터 로드"
   ]
  },
  {
   "cell_type": "code",
   "execution_count": 55,
   "id": "alike-angola",
   "metadata": {
    "ExecuteTime": {
     "end_time": "2021-11-09T16:47:40.047697Z",
     "start_time": "2021-11-09T16:47:33.460148Z"
    }
   },
   "outputs": [],
   "source": [
    "# 노래 데이터\n",
    "with open('./data/song_meta.json',encoding='utf-8-sig') as f:\n",
    "    song_dict = json.load(f)\n",
    "    \n",
    "song_df = pd.DataFrame.from_dict(song_dict)"
   ]
  },
  {
   "cell_type": "code",
   "execution_count": 56,
   "id": "unique-electric",
   "metadata": {
    "ExecuteTime": {
     "end_time": "2021-11-09T16:47:40.062697Z",
     "start_time": "2021-11-09T16:47:40.048700Z"
    }
   },
   "outputs": [],
   "source": [
    "#장르 데이터\n",
    "with open('./data/genre_gn_all.json',encoding='utf-8-sig') as f:\n",
    "    genre_dict = json.load(f)"
   ]
  },
  {
   "cell_type": "code",
   "execution_count": 57,
   "id": "31d7a997",
   "metadata": {
    "ExecuteTime": {
     "end_time": "2021-11-09T16:47:42.103585Z",
     "start_time": "2021-11-09T16:47:40.064697Z"
    }
   },
   "outputs": [],
   "source": [
    "# 플레이리스트 데이터\n",
    "with open('data/train.json',encoding='utf-8-sig') as f:\n",
    "    train_dict = json.load(f)\n",
    "    \n",
    "train_df = pd.DataFrame.from_dict(train_dict)"
   ]
  },
  {
   "cell_type": "markdown",
   "id": "7f312eb5",
   "metadata": {},
   "source": [
    "# 태그-id간 동기화를 위한 데이터베이스 연결"
   ]
  },
  {
   "cell_type": "markdown",
   "id": "color-bulletin",
   "metadata": {},
   "source": [
    "## 데이터베이스 연결 정보"
   ]
  },
  {
   "cell_type": "code",
   "execution_count": 58,
   "id": "6f4107a6",
   "metadata": {
    "ExecuteTime": {
     "end_time": "2021-11-09T16:47:42.118591Z",
     "start_time": "2021-11-09T16:47:42.104590Z"
    }
   },
   "outputs": [],
   "source": [
    "# config parser 객체 생성\n",
    "config = configparser.ConfigParser()\n",
    "\n",
    "# parser객체로 config.ini 파일 읽기\n",
    "config.read('config.ini')\n",
    "\n",
    "# 연결 config 변수저장\n",
    "\n",
    "user = config['DEFAULT']['ADMIN_USER_NAME']\n",
    "passwd = config['DEFAULT']['ADMIN_PASSWORD']\n",
    "host = config['DEFAULT']['RDS_ENDPOINT']\n",
    "port = config['DEFAULT']['PORT']\n",
    "database = config['DEFAULT']['DEFAULT_DATABASE']"
   ]
  },
  {
   "cell_type": "markdown",
   "id": "soviet-opposition",
   "metadata": {},
   "source": [
    "## 데이터베이스 연결 및 쿼리 실행"
   ]
  },
  {
   "cell_type": "code",
   "execution_count": 59,
   "id": "c1532a14",
   "metadata": {
    "ExecuteTime": {
     "end_time": "2021-11-09T16:47:42.358911Z",
     "start_time": "2021-11-09T16:47:42.120590Z"
    }
   },
   "outputs": [],
   "source": [
    "# 데이터 베이스 연결\n",
    "melon_recom_db = pymysql.connect(\n",
    "    host = host,\n",
    "    user = user,\n",
    "    password = passwd,\n",
    "    database = database,\n",
    "    port = int(port),\n",
    "    cursorclass = pymysql.cursors.DictCursor\n",
    ")\n",
    "\n",
    "# 커서 생성 후 쿼리문 수행\n",
    "melon_cursor = melon_recom_db.cursor()\n",
    "melon_cursor.execute('select tag_id,tag from tag')\n",
    "tag_db_list=melon_cursor.fetchall()"
   ]
  },
  {
   "cell_type": "markdown",
   "id": "5de1509c",
   "metadata": {},
   "source": [
    "## tag와 tag_id 간 딕셔너리 만들기 "
   ]
  },
  {
   "cell_type": "code",
   "execution_count": 60,
   "id": "71a24f2c",
   "metadata": {
    "ExecuteTime": {
     "end_time": "2021-11-09T16:47:42.388848Z",
     "start_time": "2021-11-09T16:47:42.359909Z"
    }
   },
   "outputs": [],
   "source": [
    "# tag를 id로\n",
    "tag_to_id = {}\n",
    "\n",
    "# id를 tag로\n",
    "id_to_tag = {}\n",
    "\n",
    "for tag_db in tag_db_list:\n",
    "    tag_to_id[tag_db['tag']] = tag_db['tag_id']\n",
    "    \n",
    "for tag_db in tag_db_list:\n",
    "    id_to_tag[tag_db['tag_id']] = tag_db['tag']"
   ]
  },
  {
   "cell_type": "markdown",
   "id": "e83fb22c",
   "metadata": {},
   "source": [
    "# 태그 전처리"
   ]
  },
  {
   "cell_type": "markdown",
   "id": "interesting-lloyd",
   "metadata": {},
   "source": [
    "## 태그 사용 빈도수 도출"
   ]
  },
  {
   "cell_type": "code",
   "execution_count": 61,
   "id": "1e8963c5",
   "metadata": {
    "ExecuteTime": {
     "end_time": "2021-11-09T16:47:42.508849Z",
     "start_time": "2021-11-09T16:47:42.389848Z"
    }
   },
   "outputs": [],
   "source": [
    "# train dataframe tag 컬럼의 모든 tag들 (중복포함)\n",
    "tags_all = train_df['tags'].tolist()\n",
    "\n",
    "# 태그의 빈도수를 가진 dict, Counter 써도 됨\n",
    "tags_frequency = defaultdict(int)\n",
    "\n",
    "# 특정 tag가 나올 때마다 1더하기\n",
    "for tags in tags_all:\n",
    "    for tag in tags:\n",
    "        tags_frequency[tag] += 1"
   ]
  },
  {
   "cell_type": "code",
   "execution_count": 62,
   "id": "04c26c2d",
   "metadata": {
    "ExecuteTime": {
     "end_time": "2021-11-09T16:47:42.538847Z",
     "start_time": "2021-11-09T16:47:42.510850Z"
    }
   },
   "outputs": [
    {
     "data": {
      "text/html": [
       "<div>\n",
       "<style scoped>\n",
       "    .dataframe tbody tr th:only-of-type {\n",
       "        vertical-align: middle;\n",
       "    }\n",
       "\n",
       "    .dataframe tbody tr th {\n",
       "        vertical-align: top;\n",
       "    }\n",
       "\n",
       "    .dataframe thead th {\n",
       "        text-align: right;\n",
       "    }\n",
       "</style>\n",
       "<table border=\"1\" class=\"dataframe\">\n",
       "  <thead>\n",
       "    <tr style=\"text-align: right;\">\n",
       "      <th></th>\n",
       "      <th>count</th>\n",
       "      <th>mean</th>\n",
       "      <th>std</th>\n",
       "      <th>min</th>\n",
       "      <th>25%</th>\n",
       "      <th>50%</th>\n",
       "      <th>75%</th>\n",
       "      <th>max</th>\n",
       "    </tr>\n",
       "  </thead>\n",
       "  <tbody>\n",
       "    <tr>\n",
       "      <th>빈도</th>\n",
       "      <td>29160.0</td>\n",
       "      <td>16.335082</td>\n",
       "      <td>247.011075</td>\n",
       "      <td>1.0</td>\n",
       "      <td>1.0</td>\n",
       "      <td>1.0</td>\n",
       "      <td>3.0</td>\n",
       "      <td>16465.0</td>\n",
       "    </tr>\n",
       "  </tbody>\n",
       "</table>\n",
       "</div>"
      ],
      "text/plain": [
       "      count       mean         std  min  25%  50%  75%      max\n",
       "빈도  29160.0  16.335082  247.011075  1.0  1.0  1.0  3.0  16465.0"
      ]
     },
     "execution_count": 62,
     "metadata": {},
     "output_type": "execute_result"
    }
   ],
   "source": [
    "# 태그 빈도의 분포를 알아보자\n",
    "tag_freq = pd.DataFrame().from_dict(tags_frequency,orient=\"index\")\n",
    "tag_freq.columns=['빈도']\n",
    "tag_freq.describe().T"
   ]
  },
  {
   "cell_type": "markdown",
   "id": "initial-seller",
   "metadata": {},
   "source": [
    "## 태그 사용 빈도 수의 평균 값을 기준으로 태그 전처리"
   ]
  },
  {
   "cell_type": "code",
   "execution_count": 63,
   "id": "still-istanbul",
   "metadata": {
    "ExecuteTime": {
     "end_time": "2021-11-09T16:47:42.673847Z",
     "start_time": "2021-11-09T16:47:42.540848Z"
    }
   },
   "outputs": [],
   "source": [
    "# 빈도수로 태그를 filter\n",
    "\n",
    "def filter_func(x):\n",
    "    temp = []\n",
    "    for tag in x:\n",
    "        if tags_frequency[tag] >=16:\n",
    "            temp.append(tag)\n",
    "        else:\n",
    "            pass\n",
    "    return temp\n",
    "            \n",
    "train_df['tags'] = train_df['tags'].map(filter_func)"
   ]
  },
  {
   "cell_type": "code",
   "execution_count": 64,
   "id": "2c1c7387",
   "metadata": {
    "ExecuteTime": {
     "end_time": "2021-11-09T16:47:42.778848Z",
     "start_time": "2021-11-09T16:47:42.674848Z"
    }
   },
   "outputs": [
    {
     "data": {
      "text/html": [
       "<div>\n",
       "<style scoped>\n",
       "    .dataframe tbody tr th:only-of-type {\n",
       "        vertical-align: middle;\n",
       "    }\n",
       "\n",
       "    .dataframe tbody tr th {\n",
       "        vertical-align: top;\n",
       "    }\n",
       "\n",
       "    .dataframe thead th {\n",
       "        text-align: right;\n",
       "    }\n",
       "</style>\n",
       "<table border=\"1\" class=\"dataframe\">\n",
       "  <thead>\n",
       "    <tr style=\"text-align: right;\">\n",
       "      <th></th>\n",
       "      <th>tags</th>\n",
       "      <th>id</th>\n",
       "      <th>plylst_title</th>\n",
       "      <th>songs</th>\n",
       "      <th>like_cnt</th>\n",
       "      <th>updt_date</th>\n",
       "      <th>tag_ids</th>\n",
       "    </tr>\n",
       "  </thead>\n",
       "  <tbody>\n",
       "    <tr>\n",
       "      <th>0</th>\n",
       "      <td>[락]</td>\n",
       "      <td>61281</td>\n",
       "      <td>여행같은 음악</td>\n",
       "      <td>[525514, 129701, 383374, 562083, 297861, 13954...</td>\n",
       "      <td>71</td>\n",
       "      <td>2013-12-19 18:36:19.000</td>\n",
       "      <td>[25304]</td>\n",
       "    </tr>\n",
       "  </tbody>\n",
       "</table>\n",
       "</div>"
      ],
      "text/plain": [
       "  tags     id plylst_title                                              songs  \\\n",
       "0  [락]  61281      여행같은 음악  [525514, 129701, 383374, 562083, 297861, 13954...   \n",
       "\n",
       "   like_cnt                updt_date  tag_ids  \n",
       "0        71  2013-12-19 18:36:19.000  [25304]  "
      ]
     },
     "execution_count": 64,
     "metadata": {},
     "output_type": "execute_result"
    }
   ],
   "source": [
    "# filter된 태그의 id만 남기기\n",
    "train_df['tag_ids'] = train_df['tags'].map(lambda x : [tag_to_id[v] for v in x])\n",
    "train_df.head(1)"
   ]
  },
  {
   "cell_type": "markdown",
   "id": "ignored-upper",
   "metadata": {},
   "source": [
    "## 컬럼명 한글화 및 플레이리스트 당 태그의 수 컬럼 생성"
   ]
  },
  {
   "cell_type": "code",
   "execution_count": 65,
   "id": "afraid-television",
   "metadata": {
    "ExecuteTime": {
     "end_time": "2021-11-09T16:47:42.823486Z",
     "start_time": "2021-11-09T16:47:42.779849Z"
    }
   },
   "outputs": [],
   "source": [
    "train_df.columns=['태그','플리아이디','플리제목','노래들','좋아요수','변경일자','태그아이디']\n",
    "train_df['태그수'] = train_df['태그'].map(len)"
   ]
  },
  {
   "cell_type": "markdown",
   "id": "affected-murray",
   "metadata": {},
   "source": [
    "# 플레이리스트의 태그로 예측에 사용 될 태그와 검증에 사용 될 태그로 나누기"
   ]
  },
  {
   "cell_type": "code",
   "execution_count": 66,
   "id": "disabled-forum",
   "metadata": {
    "ExecuteTime": {
     "end_time": "2021-11-09T16:47:43.078492Z",
     "start_time": "2021-11-09T16:47:42.824493Z"
    }
   },
   "outputs": [
    {
     "data": {
      "text/html": [
       "<div>\n",
       "<style scoped>\n",
       "    .dataframe tbody tr th:only-of-type {\n",
       "        vertical-align: middle;\n",
       "    }\n",
       "\n",
       "    .dataframe tbody tr th {\n",
       "        vertical-align: top;\n",
       "    }\n",
       "\n",
       "    .dataframe thead th {\n",
       "        text-align: right;\n",
       "    }\n",
       "</style>\n",
       "<table border=\"1\" class=\"dataframe\">\n",
       "  <thead>\n",
       "    <tr style=\"text-align: right;\">\n",
       "      <th></th>\n",
       "      <th>예측용태그</th>\n",
       "      <th>검증용태그</th>\n",
       "      <th>svd_예측결과</th>\n",
       "      <th>svd_히트</th>\n",
       "    </tr>\n",
       "  </thead>\n",
       "  <tbody>\n",
       "    <tr>\n",
       "      <th>0</th>\n",
       "      <td>[눈오는날, 따듯한]</td>\n",
       "      <td>[연말, 크리스마스, 캐럴, 겨울왕국, 분위기, 겨울노래]</td>\n",
       "      <td>NaN</td>\n",
       "      <td>NaN</td>\n",
       "    </tr>\n",
       "  </tbody>\n",
       "</table>\n",
       "</div>"
      ],
      "text/plain": [
       "         예측용태그                             검증용태그 svd_예측결과 svd_히트\n",
       "0  [눈오는날, 따듯한]  [연말, 크리스마스, 캐럴, 겨울왕국, 분위기, 겨울노래]      NaN    NaN"
      ]
     },
     "execution_count": 66,
     "metadata": {},
     "output_type": "execute_result"
    }
   ],
   "source": [
    "# 태그가 3개인거 부터 train에 쓸거임\n",
    "origin_tags = train_df[train_df['태그수']>3]['태그'].tolist()\n",
    "\n",
    "train_tags = []\n",
    "test_tags = []\n",
    "\n",
    "# 3:7비율로 나누기\n",
    "for tags in origin_tags:\n",
    "    tag_3p = len(tags)//3\n",
    "    train_tag = random.sample(tags, tag_3p)\n",
    "    test_tag = list(set(tags)-set(train_tag))\n",
    "    train_tags.append(train_tag)\n",
    "    test_tags.append(test_tag)\n",
    "    \n",
    "cal_tag_hit_df = pd.DataFrame(columns=['예측용태그','검증용태그','svd_예측결과','svd_히트'])\n",
    "\n",
    "cal_tag_hit_df['예측용태그'] = train_tags\n",
    "cal_tag_hit_df['검증용태그'] = test_tags\n",
    "cal_tag_hit_df.head(1)"
   ]
  },
  {
   "cell_type": "markdown",
   "id": "ecc4df4b",
   "metadata": {},
   "source": [
    "# 세부장르 전처리 및 플레이리스트에 세부장르 정보 넣기"
   ]
  },
  {
   "cell_type": "code",
   "execution_count": 67,
   "id": "grateful-identity",
   "metadata": {
    "ExecuteTime": {
     "end_time": "2021-11-09T16:47:43.093492Z",
     "start_time": "2021-11-09T16:47:43.079490Z"
    }
   },
   "outputs": [],
   "source": [
    "# 노래 데이터 프레임 컬럼명 한글화\n",
    "song_df.colums=['세부장르','발매일','앨범명','앨범ID','가수ID','노래명','대장르','가수명','노래ID']"
   ]
  },
  {
   "cell_type": "markdown",
   "id": "disturbed-desert",
   "metadata": {},
   "source": [
    "## 세부 장르 이름에 대장르의 이름 넣기"
   ]
  },
  {
   "cell_type": "code",
   "execution_count": 68,
   "id": "listed-monthly",
   "metadata": {
    "ExecuteTime": {
     "end_time": "2021-11-09T16:47:43.108661Z",
     "start_time": "2021-11-09T16:47:43.094491Z"
    }
   },
   "outputs": [],
   "source": [
    "genre_dict['GN9000'] = '기타장르'\n",
    "\n",
    "genre_big = {}\n",
    "\n",
    "# 모든 장르 딕셔너리를 돌면서\n",
    "for k,v in genre_dict.items():\n",
    "    \n",
    "    # 맨 뒤 두자리가 00이면 대장류로 분류\n",
    "    if k[-2:] == '00':\n",
    "        \n",
    "        # 맨앞 네자리를 키로 하는 대장류 딕셔너리 값 추가\n",
    "        genre_big[k[:4]] = v\n",
    "\n",
    "genre_detail_dict = {}\n",
    "\n",
    "# 모든 딕셔너리를 돌면서\n",
    "for k,v in genre_dict.items():\n",
    "    \n",
    "    # 맨뒤 두자리가 00이 아니면 대장류가 아닌거임!\n",
    "    if k[-2:] != '00':\n",
    "        \n",
    "        # 그럴떈 아까만든 대장르 딕셔너리의 대장류 이름을 추가해서 이름을 수정해서 다시 넣어줌\n",
    "        new_value = genre_big[k[:4]]+'_'+v\n",
    "        genre_detail_dict[k] = new_value\n",
    "        \n",
    "genre_big_dict = {}\n",
    "\n",
    "for k,v in genre_big.items():\n",
    "    genre_big_dict[k+'00'] = v"
   ]
  },
  {
   "cell_type": "markdown",
   "id": "ff6232e1",
   "metadata": {},
   "source": [
    "## 세부장르ID와 CODE간 딕셔너리 생성"
   ]
  },
  {
   "cell_type": "code",
   "execution_count": 69,
   "id": "flexible-tumor",
   "metadata": {
    "ExecuteTime": {
     "end_time": "2021-11-09T16:47:43.123662Z",
     "start_time": "2021-11-09T16:47:43.110663Z"
    }
   },
   "outputs": [],
   "source": [
    "genre_detail_id_to_code = {}\n",
    "genre_detail_code_to_id = {}\n",
    "\n",
    "for i,v in enumerate(list(genre_detail_dict.keys())):\n",
    "    genre_detail_id_to_code[i] = v\n",
    "    \n",
    "for i,v in enumerate(list(genre_detail_dict.keys())):\n",
    "    genre_detail_code_to_id[v] = i"
   ]
  },
  {
   "cell_type": "markdown",
   "id": "455434b6",
   "metadata": {},
   "source": [
    "## 노래ID와 세부장르ID간 딕셔너리 생성"
   ]
  },
  {
   "cell_type": "code",
   "execution_count": 70,
   "id": "disciplinary-parish",
   "metadata": {
    "ExecuteTime": {
     "end_time": "2021-11-09T16:47:43.738661Z",
     "start_time": "2021-11-09T16:47:43.125663Z"
    }
   },
   "outputs": [],
   "source": [
    "# 노래의 ID를 KEY 세부장르의 ID리스트를 ITEM으로 하는 딕셔너리 생성 \n",
    "\n",
    "song_genre_detail_dict = defaultdict(list)\n",
    "\n",
    "for codes,id in zip(song_df['song_gn_dtl_gnr_basket'].tolist(),song_df['id'].tolist()):\n",
    "    for code in codes:\n",
    "        song_genre_detail_dict[id].append(genre_detail_code_to_id[code])"
   ]
  },
  {
   "cell_type": "markdown",
   "id": "restricted-casting",
   "metadata": {},
   "source": [
    "## 플레이리스트 각 노래마다 달린 세부장르의 ID를 전부 플레이리스트에 추가"
   ]
  },
  {
   "cell_type": "code",
   "execution_count": 71,
   "id": "material-agenda",
   "metadata": {
    "ExecuteTime": {
     "end_time": "2021-11-09T16:47:46.168664Z",
     "start_time": "2021-11-09T16:47:43.739663Z"
    }
   },
   "outputs": [
    {
     "data": {
      "text/html": [
       "<div>\n",
       "<style scoped>\n",
       "    .dataframe tbody tr th:only-of-type {\n",
       "        vertical-align: middle;\n",
       "    }\n",
       "\n",
       "    .dataframe tbody tr th {\n",
       "        vertical-align: top;\n",
       "    }\n",
       "\n",
       "    .dataframe thead th {\n",
       "        text-align: right;\n",
       "    }\n",
       "</style>\n",
       "<table border=\"1\" class=\"dataframe\">\n",
       "  <thead>\n",
       "    <tr style=\"text-align: right;\">\n",
       "      <th></th>\n",
       "      <th>태그</th>\n",
       "      <th>플리아이디</th>\n",
       "      <th>플리제목</th>\n",
       "      <th>노래들</th>\n",
       "      <th>좋아요수</th>\n",
       "      <th>변경일자</th>\n",
       "      <th>태그아이디</th>\n",
       "      <th>태그수</th>\n",
       "      <th>세부장르</th>\n",
       "    </tr>\n",
       "  </thead>\n",
       "  <tbody>\n",
       "    <tr>\n",
       "      <th>0</th>\n",
       "      <td>[락]</td>\n",
       "      <td>61281</td>\n",
       "      <td>여행같은 음악</td>\n",
       "      <td>[525514, 129701, 383374, 562083, 297861, 13954...</td>\n",
       "      <td>71</td>\n",
       "      <td>2013-12-19 18:36:19.000</td>\n",
       "      <td>[25304]</td>\n",
       "      <td>1</td>\n",
       "      <td>[97, 96, 48, 49, 56, 67, 60, 56, 68, 48, 49, 5...</td>\n",
       "    </tr>\n",
       "  </tbody>\n",
       "</table>\n",
       "</div>"
      ],
      "text/plain": [
       "    태그  플리아이디     플리제목                                                노래들  \\\n",
       "0  [락]  61281  여행같은 음악  [525514, 129701, 383374, 562083, 297861, 13954...   \n",
       "\n",
       "   좋아요수                     변경일자    태그아이디  태그수  \\\n",
       "0    71  2013-12-19 18:36:19.000  [25304]    1   \n",
       "\n",
       "                                                세부장르  \n",
       "0  [97, 96, 48, 49, 56, 67, 60, 56, 68, 48, 49, 5...  "
      ]
     },
     "execution_count": 71,
     "metadata": {},
     "output_type": "execute_result"
    }
   ],
   "source": [
    "# 플레이리스트의 모든 노래의 세부장르를 모아서 새로운 컬럼으로 생성\n",
    "\n",
    "def fetcher(x):\n",
    "    temp = []\n",
    "    for song in x:\n",
    "        genre_ids = song_genre_detail_dict[song]\n",
    "        for id in genre_ids:\n",
    "            temp.append(id)\n",
    "    return temp\n",
    "\n",
    "train_df['세부장르'] = train_df['노래들'].map(fetcher)\n",
    "train_df.head(1)"
   ]
  },
  {
   "cell_type": "markdown",
   "id": "1ab41e1a",
   "metadata": {},
   "source": [
    "## 태그ID와 세부장르ID들 간 딕셔너리 생성"
   ]
  },
  {
   "cell_type": "code",
   "execution_count": 72,
   "id": "regulated-native",
   "metadata": {
    "ExecuteTime": {
     "end_time": "2021-11-09T16:47:46.873661Z",
     "start_time": "2021-11-09T16:47:46.169662Z"
    }
   },
   "outputs": [],
   "source": [
    "# {tag_Id:genre_detail_ids}\n",
    "\n",
    "tag_id_to_genre_detail_ids = defaultdict(list)\n",
    "\n",
    "for ids,genres in zip(train_df['태그아이디'].tolist(),train_df['세부장르'].tolist()):\n",
    "    for id in ids:\n",
    "        tag_id_to_genre_detail_ids[id].extend(genres)"
   ]
  },
  {
   "cell_type": "markdown",
   "id": "b79b2e8f",
   "metadata": {},
   "source": [
    "# 태그 임베딩"
   ]
  },
  {
   "cell_type": "markdown",
   "id": "0c17971c",
   "metadata": {},
   "source": [
    "## 세부장르의 빈도를 Min-Max Scaler로 0~1사이의 값으로 변환"
   ]
  },
  {
   "cell_type": "code",
   "execution_count": 73,
   "id": "incredible-hartford",
   "metadata": {
    "ExecuteTime": {
     "end_time": "2021-11-09T16:47:48.898661Z",
     "start_time": "2021-11-09T16:47:46.874663Z"
    }
   },
   "outputs": [],
   "source": [
    "# 장르의 빈도수를 카운트해서 value를 바꿈\n",
    "\n",
    "for k,v in tag_id_to_genre_detail_ids.items():\n",
    "    tag_id_to_genre_detail_ids[k] = dict(Counter(v))"
   ]
  },
  {
   "cell_type": "code",
   "execution_count": 74,
   "id": "cognitive-sport",
   "metadata": {
    "ExecuteTime": {
     "end_time": "2021-11-09T16:47:48.913662Z",
     "start_time": "2021-11-09T16:47:48.899662Z"
    }
   },
   "outputs": [],
   "source": [
    "for k,v in tag_id_to_genre_detail_ids.items():\n",
    "    if len(v.values()) == 0:\n",
    "        print(k)"
   ]
  },
  {
   "cell_type": "code",
   "execution_count": 75,
   "id": "invisible-ferry",
   "metadata": {
    "ExecuteTime": {
     "end_time": "2021-11-09T16:47:50.428662Z",
     "start_time": "2021-11-09T16:47:48.914663Z"
    }
   },
   "outputs": [],
   "source": [
    "# 딕셔너리의 빈도를 min_max_scaling하고 1을 더함 -> 0이 되는것은 싫다!\n",
    "for k,value_dict in tag_id_to_genre_detail_ids.items():\n",
    "    max_val = np.max(list(value_dict.values()))\n",
    "    min_val = np.min(list(value_dict.values()))\n",
    "    for key,value in value_dict.items():\n",
    "        value_dict[key] = np.round((value-min_val)/(max_val-min_val),3)"
   ]
  },
  {
   "cell_type": "markdown",
   "id": "a666e219",
   "metadata": {},
   "source": [
    "## 만든 딕셔너리를 이용해서 csr_matrix 생성"
   ]
  },
  {
   "cell_type": "code",
   "execution_count": 76,
   "id": "a9ada042",
   "metadata": {
    "ExecuteTime": {
     "end_time": "2021-11-09T16:47:50.488662Z",
     "start_time": "2021-11-09T16:47:50.429662Z"
    }
   },
   "outputs": [],
   "source": [
    "# 행,열,데이터 list를 생성\n",
    "row = []\n",
    "col = []\n",
    "dat = []\n",
    "\n",
    "for k,v in tag_id_to_genre_detail_ids.items():\n",
    "    for vk,vv in v.items():\n",
    "        row.append(k)\n",
    "        col.append(vk)\n",
    "        dat.append(vv)"
   ]
  },
  {
   "cell_type": "code",
   "execution_count": 77,
   "id": "887d40e4",
   "metadata": {
    "ExecuteTime": {
     "end_time": "2021-11-09T16:47:50.578661Z",
     "start_time": "2021-11-09T16:47:50.489662Z"
    }
   },
   "outputs": [],
   "source": [
    "# 29160의 태그의 가짓수, 224는 세부장르의 가짓수\n",
    "A = spr.csr_matrix((dat, (row, col)), shape=(29160, 224))\n",
    "\n",
    "# 행렬분해 수행을 위해 자료형 변경\n",
    "A = A.astype(float)"
   ]
  },
  {
   "cell_type": "markdown",
   "id": "887a222b",
   "metadata": {},
   "source": [
    "# SVD로 태그 임베딩"
   ]
  },
  {
   "cell_type": "markdown",
   "id": "a727ebe5",
   "metadata": {},
   "source": [
    "## 태그-세부장르 행렬의 SVD 행렬분해 수행 "
   ]
  },
  {
   "cell_type": "code",
   "execution_count": 78,
   "id": "5b681ab7",
   "metadata": {
    "ExecuteTime": {
     "end_time": "2021-11-09T16:47:51.358661Z",
     "start_time": "2021-11-09T16:47:50.579662Z"
    }
   },
   "outputs": [],
   "source": [
    "# svd행렬분해 100개의 sigular vector사용\n",
    "u,s,vt = spr.linalg.svds(A,k=223)\n",
    "svd_vectors = u\n",
    "data_len,dim = svd_vectors.shape\n",
    "\n",
    "# svd tag의 벡터들을 저장\n",
    "with open('./data/svd_tag_vectors.pickle', 'wb') as f:\n",
    "    pickle.dump(svd_vectors,f)"
   ]
  },
  {
   "cell_type": "markdown",
   "id": "47328986",
   "metadata": {},
   "source": [
    "## cosine유사도를 이용해서 KNN 모델 생성"
   ]
  },
  {
   "cell_type": "code",
   "execution_count": 79,
   "id": "72ef74dd",
   "metadata": {
    "ExecuteTime": {
     "end_time": "2021-11-09T16:48:02.108661Z",
     "start_time": "2021-11-09T16:47:51.359663Z"
    }
   },
   "outputs": [],
   "source": [
    "# 100차원으로 index 생성 및 초기화\n",
    "svd_p = hnswlib.Index(space='cosine', dim=dim)  \n",
    "svd_p.init_index(max_elements=data_len, ef_construction=1000, M=300)\n",
    "\n",
    "# 짐재행렬 추가\n",
    "svd_p.add_items(svd_vectors,np.arange(data_len))\n",
    "\n",
    "#svd knn모델 저장\n",
    "with open('./data/svd_knn_model.pickle', 'wb') as f:\n",
    "    pickle.dump(svd_p,f)"
   ]
  },
  {
   "cell_type": "markdown",
   "id": "imposed-sense",
   "metadata": {},
   "source": [
    "# 태그 예측"
   ]
  },
  {
   "cell_type": "markdown",
   "id": "hourly-spectrum",
   "metadata": {},
   "source": [
    "## 예측 수행 및 수행 결과 저장"
   ]
  },
  {
   "cell_type": "code",
   "execution_count": 80,
   "id": "6e4f89cc",
   "metadata": {
    "ExecuteTime": {
     "end_time": "2021-11-09T16:48:02.123663Z",
     "start_time": "2021-11-09T16:48:02.112664Z"
    }
   },
   "outputs": [],
   "source": [
    "# svd_knn_model로 태그를 예측하여 예측된 결과의 list를 저장하는 함수\n",
    "\n",
    "def tag_svd(x):\n",
    "    target_ids = [tag_to_id[t] for t in x]\n",
    "    \n",
    "    vectors = np.zeros((100,1))\n",
    "    \n",
    "    for id in target_ids:\n",
    "        vectors = vectors+svd_vectors[id]\n",
    "    \n",
    "    labels, distances = svd_p.knn_query(vectors/len(target_ids), k = 10+len(x))\n",
    "\n",
    "    ids = [label for label in labels[0]]\n",
    "   \n",
    "    return list(set([id_to_tag[tag] for tag in ids])-set(x))"
   ]
  },
  {
   "cell_type": "code",
   "execution_count": 81,
   "id": "8229231a",
   "metadata": {
    "ExecuteTime": {
     "end_time": "2021-11-09T16:49:47.933661Z",
     "start_time": "2021-11-09T16:48:02.126664Z"
    }
   },
   "outputs": [],
   "source": [
    "# 예측수행\n",
    "cal_tag_hit_df['svd_예측결과'] = cal_tag_hit_df['예측용태그'].map(tag_svd)"
   ]
  },
  {
   "cell_type": "markdown",
   "id": "furnished-finding",
   "metadata": {},
   "source": [
    "## 평가 지표"
   ]
  },
  {
   "cell_type": "code",
   "execution_count": 82,
   "id": "6650697c",
   "metadata": {
    "ExecuteTime": {
     "end_time": "2021-11-09T16:49:48.038661Z",
     "start_time": "2021-11-09T16:49:47.934663Z"
    }
   },
   "outputs": [],
   "source": [
    "val_tag = cal_tag_hit_df['검증용태그'].tolist()\n",
    "svd_tag = cal_tag_hit_df['svd_예측결과'].tolist()\n",
    "\n",
    "svd_hit = []\n",
    "\n",
    "for val,svd in zip(val_tag,svd_tag):\n",
    "    if len(val) == len(set(val)-set(svd)):\n",
    "        svd_hit.append(0)\n",
    "    else:\n",
    "        svd_hit.append(1)\n",
    "        \n",
    "cal_tag_hit_df['svd_히트'] = svd_hit"
   ]
  },
  {
   "cell_type": "code",
   "execution_count": 85,
   "id": "careful-salon",
   "metadata": {
    "ExecuteTime": {
     "end_time": "2021-11-09T16:59:56.336208Z",
     "start_time": "2021-11-09T16:59:56.234688Z"
    }
   },
   "outputs": [],
   "source": [
    "svd_inter = []\n",
    "\n",
    "for val,svd in zip(val_tag,svd_tag):\n",
    "    svd_inter.append(len(set(val) - (set(val)-set(svd))))\n",
    "        \n",
    "cal_tag_hit_df['svd_교집합'] = svd_inter"
   ]
  },
  {
   "cell_type": "code",
   "execution_count": 83,
   "id": "00521a2e",
   "metadata": {
    "ExecuteTime": {
     "end_time": "2021-11-09T16:49:48.053662Z",
     "start_time": "2021-11-09T16:49:48.042662Z"
    }
   },
   "outputs": [
    {
     "data": {
      "text/plain": [
       "0.4749931550606918"
      ]
     },
     "execution_count": 83,
     "metadata": {},
     "output_type": "execute_result"
    }
   ],
   "source": [
    "sum(svd_hit)/len(svd_hit)"
   ]
  },
  {
   "cell_type": "code",
   "execution_count": 86,
   "id": "88dd9a7a",
   "metadata": {
    "ExecuteTime": {
     "end_time": "2021-11-09T17:00:03.883270Z",
     "start_time": "2021-11-09T17:00:03.854271Z"
    }
   },
   "outputs": [
    {
     "data": {
      "text/html": [
       "<div>\n",
       "<style scoped>\n",
       "    .dataframe tbody tr th:only-of-type {\n",
       "        vertical-align: middle;\n",
       "    }\n",
       "\n",
       "    .dataframe tbody tr th {\n",
       "        vertical-align: top;\n",
       "    }\n",
       "\n",
       "    .dataframe thead th {\n",
       "        text-align: right;\n",
       "    }\n",
       "</style>\n",
       "<table border=\"1\" class=\"dataframe\">\n",
       "  <thead>\n",
       "    <tr style=\"text-align: right;\">\n",
       "      <th></th>\n",
       "      <th>예측용태그</th>\n",
       "      <th>검증용태그</th>\n",
       "      <th>svd_예측결과</th>\n",
       "      <th>svd_히트</th>\n",
       "      <th>svd_교집합</th>\n",
       "    </tr>\n",
       "  </thead>\n",
       "  <tbody>\n",
       "    <tr>\n",
       "      <th>0</th>\n",
       "      <td>[눈오는날, 따듯한]</td>\n",
       "      <td>[연말, 크리스마스, 캐럴, 겨울왕국, 분위기, 겨울노래]</td>\n",
       "      <td>[눈, 감성발라드, 첫눈, 크리스마스, 겨울, 잔잔한, 혼자, 추운날, Winter...</td>\n",
       "      <td>1</td>\n",
       "      <td>1</td>\n",
       "    </tr>\n",
       "    <tr>\n",
       "      <th>1</th>\n",
       "      <td>[드라이브, 기분전환, 팝]</td>\n",
       "      <td>[운동, 힐링, 트로피컬하우스, Pop, 일렉, 2017, 트렌드]</td>\n",
       "      <td>[운동, 팝송모음, 스트레스, 팝송추천, 매장음악, 추천곡, 산책, popsong,...</td>\n",
       "      <td>1</td>\n",
       "      <td>2</td>\n",
       "    </tr>\n",
       "    <tr>\n",
       "      <th>2</th>\n",
       "      <td>[고백, 사랑]</td>\n",
       "      <td>[취향저격, 이별, 짝사랑, 슬픔]</td>\n",
       "      <td>[데이트, 사랑노래, 달달한노래, 달달, 연애세포, 연인, 두근두근, 연애, 커플, 썸]</td>\n",
       "      <td>0</td>\n",
       "      <td>0</td>\n",
       "    </tr>\n",
       "    <tr>\n",
       "      <th>3</th>\n",
       "      <td>[댄스, 락]</td>\n",
       "      <td>[포크, 메탈, 일렉트로니카, 인디]</td>\n",
       "      <td>[락음악, 밴드음악, 스트레스, Rock, Coldplay, 활력, 2000_10,...</td>\n",
       "      <td>0</td>\n",
       "      <td>0</td>\n",
       "    </tr>\n",
       "    <tr>\n",
       "      <th>4</th>\n",
       "      <td>[락, 록]</td>\n",
       "      <td>[Metal, M에센셜, Rock, 메탈]</td>\n",
       "      <td>[락음악, 밴드음악, Rock, Coldplay, 2000_10, 밴드, 모던락, ...</td>\n",
       "      <td>1</td>\n",
       "      <td>1</td>\n",
       "    </tr>\n",
       "    <tr>\n",
       "      <th>5</th>\n",
       "      <td>[느낌있는, 밤, 새벽]</td>\n",
       "      <td>[감각적인, RnB, 그루브한, 힙합, 드라이브, 국내]</td>\n",
       "      <td>[추천노래, 띵곡, 매장음악, 산책, 취향저격, 잔잔한, 그루브, 분위기, 비오는날...</td>\n",
       "      <td>0</td>\n",
       "      <td>0</td>\n",
       "    </tr>\n",
       "    <tr>\n",
       "      <th>6</th>\n",
       "      <td>[질리지않는]</td>\n",
       "      <td>[나만알고싶은, 감성, Pop]</td>\n",
       "      <td>[팝송추천, 퓨처베이스, AlanWalker, 디즈니OST, popsong, 겨울왕...</td>\n",
       "      <td>0</td>\n",
       "      <td>0</td>\n",
       "    </tr>\n",
       "    <tr>\n",
       "      <th>7</th>\n",
       "      <td>[새벽감성]</td>\n",
       "      <td>[혼자, 고민, 조용히]</td>\n",
       "      <td>[비, 퇴근길, 쓸쓸한, 상처, 새벽에듣기좋은노래, 쓸쓸, 잔잔한, 울고싶을때, 밤...</td>\n",
       "      <td>0</td>\n",
       "      <td>0</td>\n",
       "    </tr>\n",
       "    <tr>\n",
       "      <th>8</th>\n",
       "      <td>[잔잔한, 편안한]</td>\n",
       "      <td>[밤, 감성, 인디, 어쿠스틱, 새벽]</td>\n",
       "      <td>[쓸쓸함, 쓸쓸하게, 센치, 산책, 힐링, 혼자, 집중, 그리움, 조용한, 여유]</td>\n",
       "      <td>0</td>\n",
       "      <td>0</td>\n",
       "    </tr>\n",
       "    <tr>\n",
       "      <th>9</th>\n",
       "      <td>[힐링]</td>\n",
       "      <td>[에너지, 여행, 인디, 드라이브]</td>\n",
       "      <td>[연주음악, 뉴에이지, 생각, 독서, 피아노, 여유로운, 책, 편안한, 연주곡, 여유]</td>\n",
       "      <td>0</td>\n",
       "      <td>0</td>\n",
       "    </tr>\n",
       "    <tr>\n",
       "      <th>10</th>\n",
       "      <td>[달달, 듀엣]</td>\n",
       "      <td>[취향저격, 피쳐링, 남녀, 사랑]</td>\n",
       "      <td>[달달한노래, 연애세포, 듀엣곡, 두근두근, 남녀, 연인, 연애, 커플, 썸, 고백]</td>\n",
       "      <td>1</td>\n",
       "      <td>1</td>\n",
       "    </tr>\n",
       "    <tr>\n",
       "      <th>11</th>\n",
       "      <td>[신나는]</td>\n",
       "      <td>[국힙, 신인, 인디, 힙합]</td>\n",
       "      <td>[운동, 여행, 헬스, 내적댄스, 시원한, 청량, 더위, 케이팝, 다이어트, 신나는노래]</td>\n",
       "      <td>0</td>\n",
       "      <td>0</td>\n",
       "    </tr>\n",
       "    <tr>\n",
       "      <th>12</th>\n",
       "      <td>[스윙, 상쾌한]</td>\n",
       "      <td>[밝은, 아침, 빅밴드, 재즈, 스윙재즈]</td>\n",
       "      <td>[재즈바, 일할때듣기좋은노래, 포근, 경쾌한, 호텔, swing, 빅밴드, 홈카페,...</td>\n",
       "      <td>1</td>\n",
       "      <td>2</td>\n",
       "    </tr>\n",
       "    <tr>\n",
       "      <th>13</th>\n",
       "      <td>[설렘]</td>\n",
       "      <td>[휴식, 힐링, 사랑]</td>\n",
       "      <td>[데이트, 밤, 사랑, 감성, 설레임, 슬픈, 달달, 비오는날, 가을, 새벽]</td>\n",
       "      <td>1</td>\n",
       "      <td>1</td>\n",
       "    </tr>\n",
       "    <tr>\n",
       "      <th>14</th>\n",
       "      <td>[신나는, 기분전환, 댄스]</td>\n",
       "      <td>[여행, 매장음악, 여름, 취향저격, 일렉트로니카, 드라이브, 일렉]</td>\n",
       "      <td>[여름휴가, 댄스뮤직, 스트레스, 댄스음악, 여름, 휴가, 더위, 바다, 숨듣명, ...</td>\n",
       "      <td>1</td>\n",
       "      <td>1</td>\n",
       "    </tr>\n",
       "    <tr>\n",
       "      <th>15</th>\n",
       "      <td>[피트니스, 런닝, 다이어트]</td>\n",
       "      <td>[운동, 헬스, 스포츠, 요가, 산책, 필라테스]</td>\n",
       "      <td>[헬스장, 운동, 붐업, 헬스, 런닝머신, 몸매, 운동할때듣는음악, 운동할때, 조깅...</td>\n",
       "      <td>1</td>\n",
       "      <td>2</td>\n",
       "    </tr>\n",
       "    <tr>\n",
       "      <th>16</th>\n",
       "      <td>[90년대, 옛날노래]</td>\n",
       "      <td>[80년대, 감성, 휴식, 추억]</td>\n",
       "      <td>[Electronic_Pop, 이상, 엔시티의나잇나잇, 나의우주, 오후만있던토요일,...</td>\n",
       "      <td>0</td>\n",
       "      <td>0</td>\n",
       "    </tr>\n",
       "    <tr>\n",
       "      <th>17</th>\n",
       "      <td>[이별]</td>\n",
       "      <td>[슬픔, 밤, 새벽]</td>\n",
       "      <td>[눈물, 헤어짐, 발라드추천, 슬픈노래, 이별노래, 애절한, 슬픔, 프로포즈, 이별...</td>\n",
       "      <td>1</td>\n",
       "      <td>1</td>\n",
       "    </tr>\n",
       "    <tr>\n",
       "      <th>18</th>\n",
       "      <td>[나른한, 휴식]</td>\n",
       "      <td>[Chillout, 주말, 편안한, 오후]</td>\n",
       "      <td>[자기전에, 침대, 독서, 모닝콜, 차분한, 북카페, 아메리카노, 포근한, 피곤, ...</td>\n",
       "      <td>0</td>\n",
       "      <td>0</td>\n",
       "    </tr>\n",
       "    <tr>\n",
       "      <th>19</th>\n",
       "      <td>[내가좋아하는음악트랙, 음악추천]</td>\n",
       "      <td>[포크, 인디추천, 노래추천, 인디]</td>\n",
       "      <td>[공감하는, 어린이찬양, 소파, princess, 힙을합합, 삼박자, star, 8...</td>\n",
       "      <td>0</td>\n",
       "      <td>0</td>\n",
       "    </tr>\n",
       "    <tr>\n",
       "      <th>20</th>\n",
       "      <td>[겨울, 슬픔]</td>\n",
       "      <td>[사랑, 추억, 매장음악, 잔잔한, 이별]</td>\n",
       "      <td>[눈물, 헤어짐, 발라드추천, 미련, 아픔, 슬픈노래, 이별노래, 남자발라드, 그리...</td>\n",
       "      <td>0</td>\n",
       "      <td>0</td>\n",
       "    </tr>\n",
       "    <tr>\n",
       "      <th>21</th>\n",
       "      <td>[여행, 감성]</td>\n",
       "      <td>[추천노래, 숨겨진, 밤, 팝]</td>\n",
       "      <td>[밤, 설렘, 퇴근, 여름, 산책, 분위기, 기분전환, 비오는날, 가을, 새벽]</td>\n",
       "      <td>1</td>\n",
       "      <td>1</td>\n",
       "    </tr>\n",
       "    <tr>\n",
       "      <th>22</th>\n",
       "      <td>[감성, 발라드, 기분전환]</td>\n",
       "      <td>[새벽, 사랑, 인디, 잔잔한, 이별, 알앤비, 우울]</td>\n",
       "      <td>[눈물, 밤, 설렘, 슬픈, 미련, 이별노래, 비오는날, 슬픔, 가을, 새벽]</td>\n",
       "      <td>1</td>\n",
       "      <td>1</td>\n",
       "    </tr>\n",
       "    <tr>\n",
       "      <th>23</th>\n",
       "      <td>[설렘, 썸, 달달한]</td>\n",
       "      <td>[사랑, 휴식, 취향저격, 연애, 힐링, 기분전환]</td>\n",
       "      <td>[데이트, 달달한노래, 연애세포, 달달, 연인, 두근두근, 달콤, 연애, 커플, 심...</td>\n",
       "      <td>1</td>\n",
       "      <td>1</td>\n",
       "    </tr>\n",
       "    <tr>\n",
       "      <th>24</th>\n",
       "      <td>[히트곡]</td>\n",
       "      <td>[노래모음, 명곡, 추억]</td>\n",
       "      <td>[댄스뮤직, 댄스, 추억, 원더걸스, 00년대, 2000년대, 수능금지곡, 숨듣명,...</td>\n",
       "      <td>1</td>\n",
       "      <td>1</td>\n",
       "    </tr>\n",
       "    <tr>\n",
       "      <th>25</th>\n",
       "      <td>[dance, 일렉트로니카]</td>\n",
       "      <td>[댄스, electronica, EDM, EDMFloor, 빌로우]</td>\n",
       "      <td>[Electronic, electronica, 프로그레시브하우스, EDM, 일렉트로...</td>\n",
       "      <td>1</td>\n",
       "      <td>3</td>\n",
       "    </tr>\n",
       "    <tr>\n",
       "      <th>26</th>\n",
       "      <td>[드라이브, 세련된, 휴식]</td>\n",
       "      <td>[라운지, 매장, 퇴근길, 그루브, 기분전환, 펍, 새벽]</td>\n",
       "      <td>[스타일리시, 감각적, 여행, 스타일리쉬, 매장음악, 기분업, 기분전환, 외출, Y...</td>\n",
       "      <td>1</td>\n",
       "      <td>1</td>\n",
       "    </tr>\n",
       "    <tr>\n",
       "      <th>27</th>\n",
       "      <td>[자기전]</td>\n",
       "      <td>[한강, 드라이브, 드라이브할때신나는노래]</td>\n",
       "      <td>[홀로, 감성발라드, 깊은밤, 센치하게, 쓸쓸하게, 띵곡의, 쓸쓸하고, 센치, 취향...</td>\n",
       "      <td>0</td>\n",
       "      <td>0</td>\n",
       "    </tr>\n",
       "    <tr>\n",
       "      <th>28</th>\n",
       "      <td>[섹시]</td>\n",
       "      <td>[비트좋은, 그루브, 분위기]</td>\n",
       "      <td>[알앤비소울, 치명적인, 알앤비힙합, 끈적, Sexy, Night, PBRnB, 퇴...</td>\n",
       "      <td>0</td>\n",
       "      <td>0</td>\n",
       "    </tr>\n",
       "    <tr>\n",
       "      <th>29</th>\n",
       "      <td>[무드, 밤]</td>\n",
       "      <td>[조용하게, 스웩, 힐링, 휴식]</td>\n",
       "      <td>[섹시한, 라떼, 와인, 술, 웨하스구름, 최신팝, 홈카페, 펍, 새벽, mood]</td>\n",
       "      <td>0</td>\n",
       "      <td>0</td>\n",
       "    </tr>\n",
       "  </tbody>\n",
       "</table>\n",
       "</div>"
      ],
      "text/plain": [
       "                 예측용태그                                   검증용태그  \\\n",
       "0          [눈오는날, 따듯한]        [연말, 크리스마스, 캐럴, 겨울왕국, 분위기, 겨울노래]   \n",
       "1      [드라이브, 기분전환, 팝]   [운동, 힐링, 트로피컬하우스, Pop, 일렉, 2017, 트렌드]   \n",
       "2             [고백, 사랑]                     [취향저격, 이별, 짝사랑, 슬픔]   \n",
       "3              [댄스, 락]                    [포크, 메탈, 일렉트로니카, 인디]   \n",
       "4               [락, 록]                 [Metal, M에센셜, Rock, 메탈]   \n",
       "5        [느낌있는, 밤, 새벽]         [감각적인, RnB, 그루브한, 힙합, 드라이브, 국내]   \n",
       "6              [질리지않는]                       [나만알고싶은, 감성, Pop]   \n",
       "7               [새벽감성]                           [혼자, 고민, 조용히]   \n",
       "8           [잔잔한, 편안한]                   [밤, 감성, 인디, 어쿠스틱, 새벽]   \n",
       "9                 [힐링]                     [에너지, 여행, 인디, 드라이브]   \n",
       "10            [달달, 듀엣]                     [취향저격, 피쳐링, 남녀, 사랑]   \n",
       "11               [신나는]                        [국힙, 신인, 인디, 힙합]   \n",
       "12           [스윙, 상쾌한]                 [밝은, 아침, 빅밴드, 재즈, 스윙재즈]   \n",
       "13                [설렘]                            [휴식, 힐링, 사랑]   \n",
       "14     [신나는, 기분전환, 댄스]  [여행, 매장음악, 여름, 취향저격, 일렉트로니카, 드라이브, 일렉]   \n",
       "15    [피트니스, 런닝, 다이어트]             [운동, 헬스, 스포츠, 요가, 산책, 필라테스]   \n",
       "16        [90년대, 옛날노래]                      [80년대, 감성, 휴식, 추억]   \n",
       "17                [이별]                             [슬픔, 밤, 새벽]   \n",
       "18           [나른한, 휴식]                 [Chillout, 주말, 편안한, 오후]   \n",
       "19  [내가좋아하는음악트랙, 음악추천]                    [포크, 인디추천, 노래추천, 인디]   \n",
       "20            [겨울, 슬픔]                 [사랑, 추억, 매장음악, 잔잔한, 이별]   \n",
       "21            [여행, 감성]                       [추천노래, 숨겨진, 밤, 팝]   \n",
       "22     [감성, 발라드, 기분전환]          [새벽, 사랑, 인디, 잔잔한, 이별, 알앤비, 우울]   \n",
       "23        [설렘, 썸, 달달한]            [사랑, 휴식, 취향저격, 연애, 힐링, 기분전환]   \n",
       "24               [히트곡]                          [노래모음, 명곡, 추억]   \n",
       "25     [dance, 일렉트로니카]   [댄스, electronica, EDM, EDMFloor, 빌로우]   \n",
       "26     [드라이브, 세련된, 휴식]        [라운지, 매장, 퇴근길, 그루브, 기분전환, 펍, 새벽]   \n",
       "27               [자기전]                 [한강, 드라이브, 드라이브할때신나는노래]   \n",
       "28                [섹시]                        [비트좋은, 그루브, 분위기]   \n",
       "29             [무드, 밤]                      [조용하게, 스웩, 힐링, 휴식]   \n",
       "\n",
       "                                             svd_예측결과  svd_히트  svd_교집합  \n",
       "0   [눈, 감성발라드, 첫눈, 크리스마스, 겨울, 잔잔한, 혼자, 추운날, Winter...       1        1  \n",
       "1   [운동, 팝송모음, 스트레스, 팝송추천, 매장음악, 추천곡, 산책, popsong,...       1        2  \n",
       "2   [데이트, 사랑노래, 달달한노래, 달달, 연애세포, 연인, 두근두근, 연애, 커플, 썸]       0        0  \n",
       "3   [락음악, 밴드음악, 스트레스, Rock, Coldplay, 활력, 2000_10,...       0        0  \n",
       "4   [락음악, 밴드음악, Rock, Coldplay, 2000_10, 밴드, 모던락, ...       1        1  \n",
       "5   [추천노래, 띵곡, 매장음악, 산책, 취향저격, 잔잔한, 그루브, 분위기, 비오는날...       0        0  \n",
       "6   [팝송추천, 퓨처베이스, AlanWalker, 디즈니OST, popsong, 겨울왕...       0        0  \n",
       "7   [비, 퇴근길, 쓸쓸한, 상처, 새벽에듣기좋은노래, 쓸쓸, 잔잔한, 울고싶을때, 밤...       0        0  \n",
       "8       [쓸쓸함, 쓸쓸하게, 센치, 산책, 힐링, 혼자, 집중, 그리움, 조용한, 여유]       0        0  \n",
       "9    [연주음악, 뉴에이지, 생각, 독서, 피아노, 여유로운, 책, 편안한, 연주곡, 여유]       0        0  \n",
       "10    [달달한노래, 연애세포, 듀엣곡, 두근두근, 남녀, 연인, 연애, 커플, 썸, 고백]       1        1  \n",
       "11  [운동, 여행, 헬스, 내적댄스, 시원한, 청량, 더위, 케이팝, 다이어트, 신나는노래]       0        0  \n",
       "12  [재즈바, 일할때듣기좋은노래, 포근, 경쾌한, 호텔, swing, 빅밴드, 홈카페,...       1        2  \n",
       "13        [데이트, 밤, 사랑, 감성, 설레임, 슬픈, 달달, 비오는날, 가을, 새벽]       1        1  \n",
       "14  [여름휴가, 댄스뮤직, 스트레스, 댄스음악, 여름, 휴가, 더위, 바다, 숨듣명, ...       1        1  \n",
       "15  [헬스장, 운동, 붐업, 헬스, 런닝머신, 몸매, 운동할때듣는음악, 운동할때, 조깅...       1        2  \n",
       "16  [Electronic_Pop, 이상, 엔시티의나잇나잇, 나의우주, 오후만있던토요일,...       0        0  \n",
       "17  [눈물, 헤어짐, 발라드추천, 슬픈노래, 이별노래, 애절한, 슬픔, 프로포즈, 이별...       1        1  \n",
       "18  [자기전에, 침대, 독서, 모닝콜, 차분한, 북카페, 아메리카노, 포근한, 피곤, ...       0        0  \n",
       "19  [공감하는, 어린이찬양, 소파, princess, 힙을합합, 삼박자, star, 8...       0        0  \n",
       "20  [눈물, 헤어짐, 발라드추천, 미련, 아픔, 슬픈노래, 이별노래, 남자발라드, 그리...       0        0  \n",
       "21       [밤, 설렘, 퇴근, 여름, 산책, 분위기, 기분전환, 비오는날, 가을, 새벽]       1        1  \n",
       "22        [눈물, 밤, 설렘, 슬픈, 미련, 이별노래, 비오는날, 슬픔, 가을, 새벽]       1        1  \n",
       "23  [데이트, 달달한노래, 연애세포, 달달, 연인, 두근두근, 달콤, 연애, 커플, 심...       1        1  \n",
       "24  [댄스뮤직, 댄스, 추억, 원더걸스, 00년대, 2000년대, 수능금지곡, 숨듣명,...       1        1  \n",
       "25  [Electronic, electronica, 프로그레시브하우스, EDM, 일렉트로...       1        3  \n",
       "26  [스타일리시, 감각적, 여행, 스타일리쉬, 매장음악, 기분업, 기분전환, 외출, Y...       1        1  \n",
       "27  [홀로, 감성발라드, 깊은밤, 센치하게, 쓸쓸하게, 띵곡의, 쓸쓸하고, 센치, 취향...       0        0  \n",
       "28  [알앤비소울, 치명적인, 알앤비힙합, 끈적, Sexy, Night, PBRnB, 퇴...       0        0  \n",
       "29     [섹시한, 라떼, 와인, 술, 웨하스구름, 최신팝, 홈카페, 펍, 새벽, mood]       0        0  "
      ]
     },
     "execution_count": 86,
     "metadata": {},
     "output_type": "execute_result"
    }
   ],
   "source": [
    "cal_tag_hit_df.head(30)"
   ]
  }
 ],
 "metadata": {
  "kernelspec": {
   "display_name": "Python 3",
   "language": "python",
   "name": "python3"
  },
  "language_info": {
   "codemirror_mode": {
    "name": "ipython",
    "version": 3
   },
   "file_extension": ".py",
   "mimetype": "text/x-python",
   "name": "python",
   "nbconvert_exporter": "python",
   "pygments_lexer": "ipython3",
   "version": "3.9.1"
  },
  "toc": {
   "base_numbering": 1,
   "nav_menu": {},
   "number_sections": true,
   "sideBar": true,
   "skip_h1_title": false,
   "title_cell": "Table of Contents",
   "title_sidebar": "Contents",
   "toc_cell": false,
   "toc_position": {},
   "toc_section_display": true,
   "toc_window_display": false
  },
  "varInspector": {
   "cols": {
    "lenName": 16,
    "lenType": 16,
    "lenVar": 40
   },
   "kernels_config": {
    "python": {
     "delete_cmd_postfix": "",
     "delete_cmd_prefix": "del ",
     "library": "var_list.py",
     "varRefreshCmd": "print(var_dic_list())"
    },
    "r": {
     "delete_cmd_postfix": ") ",
     "delete_cmd_prefix": "rm(",
     "library": "var_list.r",
     "varRefreshCmd": "cat(var_dic_list()) "
    }
   },
   "types_to_exclude": [
    "module",
    "function",
    "builtin_function_or_method",
    "instance",
    "_Feature"
   ],
   "window_display": false
  }
 },
 "nbformat": 4,
 "nbformat_minor": 5
}
