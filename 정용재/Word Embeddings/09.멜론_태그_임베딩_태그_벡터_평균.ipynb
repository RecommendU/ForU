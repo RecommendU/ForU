{
 "cells": [
  {
   "cell_type": "code",
   "execution_count": 1,
   "id": "79fa1c5a",
   "metadata": {
    "ExecuteTime": {
     "end_time": "2021-09-09T04:30:38.555951Z",
     "start_time": "2021-09-09T04:30:36.964919Z"
    }
   },
   "outputs": [],
   "source": [
    "import os\n",
    "import json\n",
    "import numpy as np\n",
    "import pandas as pd\n",
    "from gensim import corpora\n",
    "from gensim.models import Word2Vec"
   ]
  },
  {
   "cell_type": "code",
   "execution_count": 2,
   "id": "bc33d6ae",
   "metadata": {
    "ExecuteTime": {
     "end_time": "2021-09-09T04:30:45.157748Z",
     "start_time": "2021-09-09T04:30:43.076079Z"
    }
   },
   "outputs": [],
   "source": [
    "with open('data/train.json',encoding='utf-8-sig') as f:\n",
    "    train_dict = json.load(f)\n",
    "    \n",
    "train_df = pd.DataFrame.from_dict(train_dict)"
   ]
  },
  {
   "cell_type": "code",
   "execution_count": 3,
   "id": "093e1ec0",
   "metadata": {
    "ExecuteTime": {
     "end_time": "2021-09-09T04:30:59.192251Z",
     "start_time": "2021-09-09T04:30:58.697259Z"
    }
   },
   "outputs": [],
   "source": [
    "from itertools import chain\n",
    "from collections import defaultdict\n",
    "\n",
    "# train dataframe tag 컬럼의 모든 tag들 (중복포함)\n",
    "tags_all = train_df['tags'].tolist()\n",
    "\n",
    "# 태그의 빈도수를 가진 dict, Counter 써도 됨\n",
    "tags_frequency = defaultdict(int)\n",
    "\n",
    "# 특정 tag가 나올 때마다 1더하기\n",
    "for tags in tags_all:\n",
    "    for tag in tags:\n",
    "        tags_frequency[tag] += 1\n",
    "\n",
    "# tag 중에 빈도수가 1번 이상 나오고, 플레이리스트 당 tag가 1개 이상인 것들만 포함\n",
    "tags_more_than_one = [[tag for tag in tags if tags_frequency[tag] > 1 ] for tags in tags_all if len(tags) > 1]"
   ]
  },
  {
   "cell_type": "code",
   "execution_count": 4,
   "id": "46ce9171",
   "metadata": {
    "ExecuteTime": {
     "end_time": "2021-09-09T04:31:06.068584Z",
     "start_time": "2021-09-09T04:31:06.050917Z"
    }
   },
   "outputs": [
    {
     "data": {
      "text/plain": [
       "87829"
      ]
     },
     "execution_count": 4,
     "metadata": {},
     "output_type": "execute_result"
    }
   ],
   "source": [
    "# 전처리 후 태그들의 갯수\n",
    "len(tags_more_than_one)"
   ]
  },
  {
   "cell_type": "code",
   "execution_count": 5,
   "id": "4162c589",
   "metadata": {
    "ExecuteTime": {
     "end_time": "2021-09-09T04:31:13.661348Z",
     "start_time": "2021-09-09T04:31:12.725827Z"
    }
   },
   "outputs": [],
   "source": [
    "# 전처리한 tag들을 가지고 gensim corpora 딕셔너리 만들기\n",
    "tag_unique_dict = corpora.Dictionary(tags_more_than_one)"
   ]
  },
  {
   "cell_type": "code",
   "execution_count": 6,
   "id": "7f407073",
   "metadata": {
    "ExecuteTime": {
     "end_time": "2021-09-09T04:31:17.734890Z",
     "start_time": "2021-09-09T04:31:17.729626Z"
    }
   },
   "outputs": [],
   "source": [
    "# gensim 딕셔너리의 token2id 함수를 이용해서 {태그:id} 딕셔너리 만들기\n",
    "tags_to_id = tag_unique_dict.token2id"
   ]
  },
  {
   "cell_type": "code",
   "execution_count": 7,
   "id": "f473846b",
   "metadata": {
    "ExecuteTime": {
     "end_time": "2021-09-09T04:31:23.725651Z",
     "start_time": "2021-09-09T04:31:23.707090Z"
    }
   },
   "outputs": [],
   "source": [
    "# 위 딕셔너리 key, value 반전해서 {id:태그} 딕셔너리 만들기\n",
    "id_to_tags = {v:k for k,v in tags_to_id.items()}"
   ]
  },
  {
   "cell_type": "code",
   "execution_count": 8,
   "id": "5a342843",
   "metadata": {
    "ExecuteTime": {
     "end_time": "2021-09-09T04:31:33.898780Z",
     "start_time": "2021-09-09T04:31:31.254541Z"
    }
   },
   "outputs": [],
   "source": [
    "# 벡터 크기 100으로 해서 window=4 주고 Word2Vec 학습\n",
    "w2v_model = Word2Vec(sentences=tags_more_than_one,vector_size=100,window=4,min_count=1,workers=4,sg=1)"
   ]
  },
  {
   "cell_type": "code",
   "execution_count": 9,
   "id": "56649da0",
   "metadata": {
    "ExecuteTime": {
     "end_time": "2021-09-09T04:31:40.573398Z",
     "start_time": "2021-09-09T04:31:40.541577Z"
    }
   },
   "outputs": [],
   "source": [
    "# w2v 모델 저장\n",
    "w2v_model.save('./models/w2v_model')"
   ]
  },
  {
   "cell_type": "code",
   "execution_count": 10,
   "id": "53c00246",
   "metadata": {
    "ExecuteTime": {
     "end_time": "2021-09-09T04:31:47.586348Z",
     "start_time": "2021-09-09T04:31:47.456818Z"
    }
   },
   "outputs": [],
   "source": [
    "# w2v 모델 불러오기\n",
    "w2v_model = Word2Vec.load('./models/w2v_model')"
   ]
  },
  {
   "cell_type": "code",
   "execution_count": 11,
   "id": "59e4d884",
   "metadata": {
    "ExecuteTime": {
     "end_time": "2021-09-09T04:32:00.872299Z",
     "start_time": "2021-09-09T04:32:00.855291Z"
    }
   },
   "outputs": [],
   "source": [
    "# word2vec {태그:id} 딕셔너리 만들기\n",
    "tag_to_index = w2v_model.wv.key_to_index"
   ]
  },
  {
   "cell_type": "code",
   "execution_count": 12,
   "id": "ea034434",
   "metadata": {
    "ExecuteTime": {
     "end_time": "2021-09-09T04:32:06.074451Z",
     "start_time": "2021-09-09T04:32:06.055497Z"
    }
   },
   "outputs": [],
   "source": [
    "# word2vec key만 뽑기\n",
    "index_to_key = w2v_model.wv.index_to_key"
   ]
  },
  {
   "cell_type": "code",
   "execution_count": 13,
   "id": "e5aee6c2",
   "metadata": {
    "ExecuteTime": {
     "end_time": "2021-09-09T04:32:22.015108Z",
     "start_time": "2021-09-09T04:32:21.996896Z"
    }
   },
   "outputs": [],
   "source": [
    "def mean_multiple_tags(model,tags,vector_length):\n",
    "    \n",
    "    sum_vector = np.zeros(vector_length)\n",
    "    for tag in tags:\n",
    "        sum_vector = sum_vector + model.wv[tag]\n",
    "    mean_vector = sum_vector / len(tags)\n",
    "    w2v_model.wv.add_vectors('new_vector', mean_vector)\n",
    "    w2v_model.wv.fill_norms('new_vector')\n",
    "    \n",
    "    return w2v_model.wv.most_similar('new_vector')"
   ]
  },
  {
   "cell_type": "code",
   "execution_count": 16,
   "id": "9c446ddc",
   "metadata": {
    "ExecuteTime": {
     "end_time": "2021-09-09T04:39:19.192282Z",
     "start_time": "2021-09-09T04:39:19.172723Z"
    }
   },
   "outputs": [
    {
     "data": {
      "text/plain": [
       "[('감미로움', 0.8901172876358032),\n",
       " ('쓸쓸하게', 0.8873785734176636),\n",
       " ('회상하며', 0.8858362436294556),\n",
       " ('붸붸', 0.8830861449241638),\n",
       " ('보이스', 0.8813999891281128),\n",
       " ('추억을', 0.880141019821167),\n",
       " ('추억에', 0.8760725259780884),\n",
       " ('소주한잔', 0.8714550733566284),\n",
       " ('기억', 0.8705544471740723),\n",
       " ('갬성갬성', 0.8696315288543701)]"
      ]
     },
     "execution_count": 16,
     "metadata": {},
     "output_type": "execute_result"
    }
   ],
   "source": [
    "mean_multiple_tags(w2v_model,['힙합','사랑','추억','이별'],w2v_model.wv.vector_size)"
   ]
  }
 ],
 "metadata": {
  "kernelspec": {
   "display_name": "Python 3 (ipykernel)",
   "language": "python",
   "name": "python3"
  },
  "language_info": {
   "codemirror_mode": {
    "name": "ipython",
    "version": 3
   },
   "file_extension": ".py",
   "mimetype": "text/x-python",
   "name": "python",
   "nbconvert_exporter": "python",
   "pygments_lexer": "ipython3",
   "version": "3.9.6"
  },
  "toc": {
   "base_numbering": 1,
   "nav_menu": {},
   "number_sections": true,
   "sideBar": true,
   "skip_h1_title": false,
   "title_cell": "Table of Contents",
   "title_sidebar": "Contents",
   "toc_cell": false,
   "toc_position": {},
   "toc_section_display": true,
   "toc_window_display": false
  }
 },
 "nbformat": 4,
 "nbformat_minor": 5
}
