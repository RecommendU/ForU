{
 "cells": [
  {
   "cell_type": "markdown",
   "id": "09383984",
   "metadata": {},
   "source": [
    "# 필요한 라이브러리 import"
   ]
  },
  {
   "cell_type": "code",
   "execution_count": 19,
   "id": "c5bfe0a3",
   "metadata": {
    "ExecuteTime": {
     "end_time": "2021-11-09T18:22:30.988383Z",
     "start_time": "2021-11-09T18:22:30.974294Z"
    }
   },
   "outputs": [],
   "source": [
    "import os\n",
    "import json\n",
    "import numpy as np\n",
    "import pandas as pd\n",
    "from scipy import sparse as spr\n",
    "import configparser\n",
    "import pymysql\n",
    "from itertools import chain\n",
    "from collections import defaultdict,Counter\n",
    "import hnswlib\n",
    "import warnings\n",
    "import pickle\n",
    "import matplotlib.pyplot as plt\n",
    "from gensim.models import Word2Vec\n",
    "import seaborn as sns\n",
    "from sklearn.decomposition import NMF\n",
    "from itertools import repeat\n",
    "from sklearn.preprocessing import MinMaxScaler\n",
    "import random\n",
    "from scipy.stats import skew,kurtosis\n",
    "warnings.filterwarnings(action='ignore')"
   ]
  },
  {
   "cell_type": "markdown",
   "id": "9ae8eb62",
   "metadata": {},
   "source": [
    "# 데이터 로드"
   ]
  },
  {
   "cell_type": "code",
   "execution_count": 20,
   "id": "alike-angola",
   "metadata": {
    "ExecuteTime": {
     "end_time": "2021-11-09T18:22:37.963383Z",
     "start_time": "2021-11-09T18:22:30.990384Z"
    }
   },
   "outputs": [],
   "source": [
    "# 노래 데이터\n",
    "with open('./data/song_meta.json',encoding='utf-8-sig') as f:\n",
    "    song_dict = json.load(f)\n",
    "    \n",
    "song_df = pd.DataFrame.from_dict(song_dict)"
   ]
  },
  {
   "cell_type": "code",
   "execution_count": 21,
   "id": "unique-electric",
   "metadata": {
    "ExecuteTime": {
     "end_time": "2021-11-09T18:22:37.978383Z",
     "start_time": "2021-11-09T18:22:37.965383Z"
    }
   },
   "outputs": [],
   "source": [
    "#장르 데이터\n",
    "with open('./data/genre_gn_all.json',encoding='utf-8-sig') as f:\n",
    "    genre_dict = json.load(f)"
   ]
  },
  {
   "cell_type": "code",
   "execution_count": 22,
   "id": "31d7a997",
   "metadata": {
    "ExecuteTime": {
     "end_time": "2021-11-09T18:22:39.193383Z",
     "start_time": "2021-11-09T18:22:37.979385Z"
    }
   },
   "outputs": [],
   "source": [
    "# 플레이리스트 데이터\n",
    "with open('data/train.json',encoding='utf-8-sig') as f:\n",
    "    train_dict = json.load(f)\n",
    "    \n",
    "train_df = pd.DataFrame.from_dict(train_dict)"
   ]
  },
  {
   "cell_type": "markdown",
   "id": "7f312eb5",
   "metadata": {},
   "source": [
    "# 태그-id간 동기화를 위한 데이터베이스 연결"
   ]
  },
  {
   "cell_type": "markdown",
   "id": "color-bulletin",
   "metadata": {},
   "source": [
    "## 데이터베이스 연결 정보"
   ]
  },
  {
   "cell_type": "code",
   "execution_count": 23,
   "id": "6f4107a6",
   "metadata": {
    "ExecuteTime": {
     "end_time": "2021-11-09T18:22:39.208383Z",
     "start_time": "2021-11-09T18:22:39.194384Z"
    }
   },
   "outputs": [],
   "source": [
    "# config parser 객체 생성\n",
    "config = configparser.ConfigParser()\n",
    "\n",
    "# parser객체로 config.ini 파일 읽기\n",
    "config.read('config.ini')\n",
    "\n",
    "# 연결 config 변수저장\n",
    "\n",
    "user = config['DEFAULT']['ADMIN_USER_NAME']\n",
    "passwd = config['DEFAULT']['ADMIN_PASSWORD']\n",
    "host = config['DEFAULT']['RDS_ENDPOINT']\n",
    "port = config['DEFAULT']['PORT']\n",
    "database = config['DEFAULT']['DEFAULT_DATABASE']"
   ]
  },
  {
   "cell_type": "markdown",
   "id": "soviet-opposition",
   "metadata": {},
   "source": [
    "## 데이터베이스 연결 및 쿼리 실행"
   ]
  },
  {
   "cell_type": "code",
   "execution_count": 24,
   "id": "c1532a14",
   "metadata": {
    "ExecuteTime": {
     "end_time": "2021-11-09T18:22:39.418132Z",
     "start_time": "2021-11-09T18:22:39.210385Z"
    }
   },
   "outputs": [],
   "source": [
    "# 데이터 베이스 연결\n",
    "melon_recom_db = pymysql.connect(\n",
    "    host = host,\n",
    "    user = user,\n",
    "    password = passwd,\n",
    "    database = database,\n",
    "    port = int(port),\n",
    "    cursorclass = pymysql.cursors.DictCursor\n",
    ")\n",
    "\n",
    "# 커서 생성 후 쿼리문 수행\n",
    "melon_cursor = melon_recom_db.cursor()\n",
    "melon_cursor.execute('select tag_id,tag from tag')\n",
    "tag_db_list=melon_cursor.fetchall()"
   ]
  },
  {
   "cell_type": "markdown",
   "id": "5de1509c",
   "metadata": {},
   "source": [
    "## tag와 tag_id 간 딕셔너리 만들기 "
   ]
  },
  {
   "cell_type": "code",
   "execution_count": 25,
   "id": "71a24f2c",
   "metadata": {
    "ExecuteTime": {
     "end_time": "2021-11-09T18:22:39.448132Z",
     "start_time": "2021-11-09T18:22:39.419135Z"
    }
   },
   "outputs": [],
   "source": [
    "# tag를 id로\n",
    "tag_to_id = {}\n",
    "\n",
    "# id를 tag로\n",
    "id_to_tag = {}\n",
    "\n",
    "for tag_db in tag_db_list:\n",
    "    tag_to_id[tag_db['tag']] = tag_db['tag_id']\n",
    "    \n",
    "for tag_db in tag_db_list:\n",
    "    id_to_tag[tag_db['tag_id']] = tag_db['tag']"
   ]
  },
  {
   "cell_type": "markdown",
   "id": "e83fb22c",
   "metadata": {},
   "source": [
    "# 태그 전처리"
   ]
  },
  {
   "cell_type": "markdown",
   "id": "interesting-lloyd",
   "metadata": {},
   "source": [
    "## 태그 사용 빈도수 도출"
   ]
  },
  {
   "cell_type": "code",
   "execution_count": 26,
   "id": "1e8963c5",
   "metadata": {
    "ExecuteTime": {
     "end_time": "2021-11-09T18:22:39.568133Z",
     "start_time": "2021-11-09T18:22:39.449133Z"
    }
   },
   "outputs": [],
   "source": [
    "# train dataframe tag 컬럼의 모든 tag들 (중복포함)\n",
    "tags_all = train_df['tags'].tolist()\n",
    "\n",
    "# 태그의 빈도수를 가진 dict, Counter 써도 됨\n",
    "tags_frequency = defaultdict(int)\n",
    "\n",
    "# 특정 tag가 나올 때마다 1더하기\n",
    "for tags in tags_all:\n",
    "    for tag in tags:\n",
    "        tags_frequency[tag] += 1"
   ]
  },
  {
   "cell_type": "code",
   "execution_count": 27,
   "id": "04c26c2d",
   "metadata": {
    "ExecuteTime": {
     "end_time": "2021-11-09T18:22:39.598133Z",
     "start_time": "2021-11-09T18:22:39.569133Z"
    }
   },
   "outputs": [
    {
     "data": {
      "text/html": [
       "<div>\n",
       "<style scoped>\n",
       "    .dataframe tbody tr th:only-of-type {\n",
       "        vertical-align: middle;\n",
       "    }\n",
       "\n",
       "    .dataframe tbody tr th {\n",
       "        vertical-align: top;\n",
       "    }\n",
       "\n",
       "    .dataframe thead th {\n",
       "        text-align: right;\n",
       "    }\n",
       "</style>\n",
       "<table border=\"1\" class=\"dataframe\">\n",
       "  <thead>\n",
       "    <tr style=\"text-align: right;\">\n",
       "      <th></th>\n",
       "      <th>count</th>\n",
       "      <th>mean</th>\n",
       "      <th>std</th>\n",
       "      <th>min</th>\n",
       "      <th>25%</th>\n",
       "      <th>50%</th>\n",
       "      <th>75%</th>\n",
       "      <th>max</th>\n",
       "    </tr>\n",
       "  </thead>\n",
       "  <tbody>\n",
       "    <tr>\n",
       "      <th>빈도</th>\n",
       "      <td>29160.0</td>\n",
       "      <td>16.335082</td>\n",
       "      <td>247.011075</td>\n",
       "      <td>1.0</td>\n",
       "      <td>1.0</td>\n",
       "      <td>1.0</td>\n",
       "      <td>3.0</td>\n",
       "      <td>16465.0</td>\n",
       "    </tr>\n",
       "  </tbody>\n",
       "</table>\n",
       "</div>"
      ],
      "text/plain": [
       "      count       mean         std  min  25%  50%  75%      max\n",
       "빈도  29160.0  16.335082  247.011075  1.0  1.0  1.0  3.0  16465.0"
      ]
     },
     "execution_count": 27,
     "metadata": {},
     "output_type": "execute_result"
    }
   ],
   "source": [
    "# 태그 빈도의 분포를 알아보자\n",
    "tag_freq = pd.DataFrame().from_dict(tags_frequency,orient=\"index\")\n",
    "tag_freq.columns=['빈도']\n",
    "tag_freq.describe().T"
   ]
  },
  {
   "cell_type": "markdown",
   "id": "initial-seller",
   "metadata": {},
   "source": [
    "## 태그 사용 빈도 수의 평균 값을 기준으로 태그 전처리"
   ]
  },
  {
   "cell_type": "code",
   "execution_count": 28,
   "id": "exciting-taste",
   "metadata": {
    "ExecuteTime": {
     "end_time": "2021-11-09T18:22:39.718133Z",
     "start_time": "2021-11-09T18:22:39.599134Z"
    }
   },
   "outputs": [],
   "source": [
    "# 빈도수로 태그를 filter\n",
    "\n",
    "def filter_func(x):\n",
    "    temp = []\n",
    "    for tag in x:\n",
    "        if tags_frequency[tag] >=16:\n",
    "            temp.append(tag)\n",
    "        else:\n",
    "            pass\n",
    "    return temp\n",
    "            \n",
    "train_df['tags'] = train_df['tags'].map(filter_func)"
   ]
  },
  {
   "cell_type": "code",
   "execution_count": 29,
   "id": "2c1c7387",
   "metadata": {
    "ExecuteTime": {
     "end_time": "2021-11-09T18:22:39.823133Z",
     "start_time": "2021-11-09T18:22:39.719134Z"
    }
   },
   "outputs": [
    {
     "data": {
      "text/html": [
       "<div>\n",
       "<style scoped>\n",
       "    .dataframe tbody tr th:only-of-type {\n",
       "        vertical-align: middle;\n",
       "    }\n",
       "\n",
       "    .dataframe tbody tr th {\n",
       "        vertical-align: top;\n",
       "    }\n",
       "\n",
       "    .dataframe thead th {\n",
       "        text-align: right;\n",
       "    }\n",
       "</style>\n",
       "<table border=\"1\" class=\"dataframe\">\n",
       "  <thead>\n",
       "    <tr style=\"text-align: right;\">\n",
       "      <th></th>\n",
       "      <th>tags</th>\n",
       "      <th>id</th>\n",
       "      <th>plylst_title</th>\n",
       "      <th>songs</th>\n",
       "      <th>like_cnt</th>\n",
       "      <th>updt_date</th>\n",
       "      <th>tag_ids</th>\n",
       "    </tr>\n",
       "  </thead>\n",
       "  <tbody>\n",
       "    <tr>\n",
       "      <th>0</th>\n",
       "      <td>[락]</td>\n",
       "      <td>61281</td>\n",
       "      <td>여행같은 음악</td>\n",
       "      <td>[525514, 129701, 383374, 562083, 297861, 13954...</td>\n",
       "      <td>71</td>\n",
       "      <td>2013-12-19 18:36:19.000</td>\n",
       "      <td>[25304]</td>\n",
       "    </tr>\n",
       "  </tbody>\n",
       "</table>\n",
       "</div>"
      ],
      "text/plain": [
       "  tags     id plylst_title                                              songs  \\\n",
       "0  [락]  61281      여행같은 음악  [525514, 129701, 383374, 562083, 297861, 13954...   \n",
       "\n",
       "   like_cnt                updt_date  tag_ids  \n",
       "0        71  2013-12-19 18:36:19.000  [25304]  "
      ]
     },
     "execution_count": 29,
     "metadata": {},
     "output_type": "execute_result"
    }
   ],
   "source": [
    "# filter된 태그의 id만 남기기\n",
    "train_df['tag_ids'] = train_df['tags'].map(lambda x : [tag_to_id[v] for v in x])\n",
    "train_df.head(1)"
   ]
  },
  {
   "cell_type": "markdown",
   "id": "ignored-upper",
   "metadata": {},
   "source": [
    "## 컬럼명 한글화 및 플레이리스트 당 태그의 수 컬럼 생성"
   ]
  },
  {
   "cell_type": "code",
   "execution_count": 30,
   "id": "afraid-television",
   "metadata": {
    "ExecuteTime": {
     "end_time": "2021-11-09T18:22:39.867859Z",
     "start_time": "2021-11-09T18:22:39.824134Z"
    }
   },
   "outputs": [],
   "source": [
    "train_df.columns=['태그','플리아이디','플리제목','노래들','좋아요수','변경일자','태그아이디']\n",
    "train_df['태그수'] = train_df['태그'].map(len)"
   ]
  },
  {
   "cell_type": "code",
   "execution_count": 31,
   "id": "muslim-newman",
   "metadata": {
    "ExecuteTime": {
     "end_time": "2021-11-09T18:22:40.829146Z",
     "start_time": "2021-11-09T18:22:39.868859Z"
    }
   },
   "outputs": [],
   "source": [
    "model = Word2Vec(sentences=train_df['태그'].tolist(), vector_size=100, window=100, min_count=1, workers=4)"
   ]
  },
  {
   "cell_type": "code",
   "execution_count": 32,
   "id": "sacred-cooler",
   "metadata": {
    "ExecuteTime": {
     "end_time": "2021-11-09T18:22:40.844146Z",
     "start_time": "2021-11-09T18:22:40.830147Z"
    }
   },
   "outputs": [
    {
     "data": {
      "text/plain": [
       "[('감성음악', 0.8657983541488647),\n",
       " ('잔잔', 0.8438810706138611),\n",
       " ('책', 0.8295848369598389),\n",
       " ('차분한', 0.8164227604866028),\n",
       " ('편안한', 0.8150824904441833),\n",
       " ('쉼', 0.8121812343597412),\n",
       " ('차분', 0.810287594795227),\n",
       " ('나른함', 0.8088546395301819),\n",
       " ('커피한잔', 0.8081028461456299),\n",
       " ('잔잔한음악', 0.8078885674476624)]"
      ]
     },
     "execution_count": 32,
     "metadata": {},
     "output_type": "execute_result"
    }
   ],
   "source": [
    "model.wv.most_similar(['잔잔한','카페에서'], topn=10)"
   ]
  },
  {
   "cell_type": "markdown",
   "id": "affected-murray",
   "metadata": {},
   "source": [
    "# 플레이리스트의 태그로 예측에 사용 될 태그와 검증에 사용 될 태그로 나누기"
   ]
  },
  {
   "cell_type": "code",
   "execution_count": 33,
   "id": "disabled-forum",
   "metadata": {
    "ExecuteTime": {
     "end_time": "2021-11-09T18:22:41.099147Z",
     "start_time": "2021-11-09T18:22:40.845147Z"
    }
   },
   "outputs": [
    {
     "data": {
      "text/html": [
       "<div>\n",
       "<style scoped>\n",
       "    .dataframe tbody tr th:only-of-type {\n",
       "        vertical-align: middle;\n",
       "    }\n",
       "\n",
       "    .dataframe tbody tr th {\n",
       "        vertical-align: top;\n",
       "    }\n",
       "\n",
       "    .dataframe thead th {\n",
       "        text-align: right;\n",
       "    }\n",
       "</style>\n",
       "<table border=\"1\" class=\"dataframe\">\n",
       "  <thead>\n",
       "    <tr style=\"text-align: right;\">\n",
       "      <th></th>\n",
       "      <th>예측용태그</th>\n",
       "      <th>검증용태그</th>\n",
       "      <th>svd_예측결과</th>\n",
       "      <th>svd_히트</th>\n",
       "    </tr>\n",
       "  </thead>\n",
       "  <tbody>\n",
       "    <tr>\n",
       "      <th>0</th>\n",
       "      <td>[눈오는날, 따듯한]</td>\n",
       "      <td>[겨울왕국, 크리스마스, 캐럴, 분위기, 겨울노래, 연말]</td>\n",
       "      <td>NaN</td>\n",
       "      <td>NaN</td>\n",
       "    </tr>\n",
       "  </tbody>\n",
       "</table>\n",
       "</div>"
      ],
      "text/plain": [
       "         예측용태그                             검증용태그 svd_예측결과 svd_히트\n",
       "0  [눈오는날, 따듯한]  [겨울왕국, 크리스마스, 캐럴, 분위기, 겨울노래, 연말]      NaN    NaN"
      ]
     },
     "execution_count": 33,
     "metadata": {},
     "output_type": "execute_result"
    }
   ],
   "source": [
    "# 태그가 3개인거 부터 train에 쓸거임\n",
    "origin_tags = train_df[train_df['태그수']>3]['태그'].tolist()\n",
    "\n",
    "train_tags = []\n",
    "test_tags = []\n",
    "\n",
    "# 3:7비율로 나누기\n",
    "for tags in origin_tags:\n",
    "    tag_3p = len(tags)//3\n",
    "    train_tag = random.sample(tags, tag_3p)\n",
    "    test_tag = list(set(tags)-set(train_tag))\n",
    "    train_tags.append(train_tag)\n",
    "    test_tags.append(test_tag)\n",
    "    \n",
    "cal_tag_hit_df = pd.DataFrame(columns=['예측용태그','검증용태그','svd_예측결과','svd_히트'])\n",
    "\n",
    "cal_tag_hit_df['예측용태그'] = train_tags\n",
    "cal_tag_hit_df['검증용태그'] = test_tags\n",
    "cal_tag_hit_df.head(1)"
   ]
  },
  {
   "cell_type": "markdown",
   "id": "imposed-sense",
   "metadata": {},
   "source": [
    "# 태그 예측"
   ]
  },
  {
   "cell_type": "markdown",
   "id": "hourly-spectrum",
   "metadata": {},
   "source": [
    "## 예측 수행 및 수행 결과 저장"
   ]
  },
  {
   "cell_type": "code",
   "execution_count": 45,
   "id": "6e4f89cc",
   "metadata": {
    "ExecuteTime": {
     "end_time": "2021-11-09T18:25:10.353240Z",
     "start_time": "2021-11-09T18:25:10.338927Z"
    }
   },
   "outputs": [],
   "source": [
    "# svd_knn_model로 태그를 예측하여 예측된 결과의 list를 저장하는 함수\n",
    "\n",
    "def tag_w2v(x):\n",
    "    \n",
    "    results = model.wv.most_similar(x, topn=10+len(x))\n",
    "    \n",
    "    tags = [result[0] for result in results]\n",
    "\n",
    "    return list(set(tags)-set(x))"
   ]
  },
  {
   "cell_type": "code",
   "execution_count": 46,
   "id": "8229231a",
   "metadata": {
    "ExecuteTime": {
     "end_time": "2021-11-09T18:25:19.233133Z",
     "start_time": "2021-11-09T18:25:13.654279Z"
    }
   },
   "outputs": [],
   "source": [
    "# 예측수행\n",
    "cal_tag_hit_df['w2v_예측결과'] = cal_tag_hit_df['예측용태그'].map(tag_w2v)"
   ]
  },
  {
   "cell_type": "code",
   "execution_count": 47,
   "id": "answering-sensitivity",
   "metadata": {
    "ExecuteTime": {
     "end_time": "2021-11-09T18:25:22.563136Z",
     "start_time": "2021-11-09T18:25:22.549136Z"
    }
   },
   "outputs": [
    {
     "data": {
      "text/html": [
       "<div>\n",
       "<style scoped>\n",
       "    .dataframe tbody tr th:only-of-type {\n",
       "        vertical-align: middle;\n",
       "    }\n",
       "\n",
       "    .dataframe tbody tr th {\n",
       "        vertical-align: top;\n",
       "    }\n",
       "\n",
       "    .dataframe thead th {\n",
       "        text-align: right;\n",
       "    }\n",
       "</style>\n",
       "<table border=\"1\" class=\"dataframe\">\n",
       "  <thead>\n",
       "    <tr style=\"text-align: right;\">\n",
       "      <th></th>\n",
       "      <th>예측용태그</th>\n",
       "      <th>검증용태그</th>\n",
       "      <th>svd_예측결과</th>\n",
       "      <th>svd_히트</th>\n",
       "      <th>w2v_예측결과</th>\n",
       "    </tr>\n",
       "  </thead>\n",
       "  <tbody>\n",
       "    <tr>\n",
       "      <th>0</th>\n",
       "      <td>[눈오는날, 따듯한]</td>\n",
       "      <td>[겨울왕국, 크리스마스, 캐럴, 분위기, 겨울노래, 연말]</td>\n",
       "      <td>NaN</td>\n",
       "      <td>NaN</td>\n",
       "      <td>[추위, 따뜻한, 추운, 캐럴, 겨울감성, 찬바람, 첫눈, 겨울노래, 추운날, 눈,...</td>\n",
       "    </tr>\n",
       "    <tr>\n",
       "      <th>1</th>\n",
       "      <td>[팝, 트렌드, 드라이브]</td>\n",
       "      <td>[힐링, 운동, 일렉, 트로피컬하우스, Pop, 기분전환, 2017]</td>\n",
       "      <td>NaN</td>\n",
       "      <td>NaN</td>\n",
       "      <td>[팝송추천, 국외, 힙, 도입부, 스타일리쉬, 트렌디한, 유니크, 팝송, 트렌디, ...</td>\n",
       "    </tr>\n",
       "    <tr>\n",
       "      <th>2</th>\n",
       "      <td>[이별, 짝사랑]</td>\n",
       "      <td>[취향저격, 고백, 사랑, 슬픔]</td>\n",
       "      <td>NaN</td>\n",
       "      <td>NaN</td>\n",
       "      <td>[기억, 쓸쓸, 이별노래, 쓸쓸함, 헤어짐, 첫사랑, 그리움, 후회, 아픔, 보고싶...</td>\n",
       "    </tr>\n",
       "    <tr>\n",
       "      <th>3</th>\n",
       "      <td>[포크, 댄스]</td>\n",
       "      <td>[인디, 일렉트로니카, 락, 메탈]</td>\n",
       "      <td>NaN</td>\n",
       "      <td>NaN</td>\n",
       "      <td>[Folk, 숨겨진명곡, 밴드, 컨트리, 밴드음악, 최애곡, 여돌, 아이돌의숨은명곡...</td>\n",
       "    </tr>\n",
       "    <tr>\n",
       "      <th>4</th>\n",
       "      <td>[락, 메탈]</td>\n",
       "      <td>[M에센셜, 록, Rock, Metal]</td>\n",
       "      <td>NaN</td>\n",
       "      <td>NaN</td>\n",
       "      <td>[록메탈, 밴드, Metal, 브릿팝, 하드록메탈, Rock, 얼터너티브록, 얼터너...</td>\n",
       "    </tr>\n",
       "  </tbody>\n",
       "</table>\n",
       "</div>"
      ],
      "text/plain": [
       "            예측용태그                                   검증용태그 svd_예측결과 svd_히트  \\\n",
       "0     [눈오는날, 따듯한]        [겨울왕국, 크리스마스, 캐럴, 분위기, 겨울노래, 연말]      NaN    NaN   \n",
       "1  [팝, 트렌드, 드라이브]  [힐링, 운동, 일렉, 트로피컬하우스, Pop, 기분전환, 2017]      NaN    NaN   \n",
       "2       [이별, 짝사랑]                      [취향저격, 고백, 사랑, 슬픔]      NaN    NaN   \n",
       "3        [포크, 댄스]                     [인디, 일렉트로니카, 락, 메탈]      NaN    NaN   \n",
       "4         [락, 메탈]                  [M에센셜, 록, Rock, Metal]      NaN    NaN   \n",
       "\n",
       "                                            w2v_예측결과  \n",
       "0  [추위, 따뜻한, 추운, 캐럴, 겨울감성, 찬바람, 첫눈, 겨울노래, 추운날, 눈,...  \n",
       "1  [팝송추천, 국외, 힙, 도입부, 스타일리쉬, 트렌디한, 유니크, 팝송, 트렌디, ...  \n",
       "2  [기억, 쓸쓸, 이별노래, 쓸쓸함, 헤어짐, 첫사랑, 그리움, 후회, 아픔, 보고싶...  \n",
       "3  [Folk, 숨겨진명곡, 밴드, 컨트리, 밴드음악, 최애곡, 여돌, 아이돌의숨은명곡...  \n",
       "4  [록메탈, 밴드, Metal, 브릿팝, 하드록메탈, Rock, 얼터너티브록, 얼터너...  "
      ]
     },
     "execution_count": 47,
     "metadata": {},
     "output_type": "execute_result"
    }
   ],
   "source": [
    "cal_tag_hit_df.head()"
   ]
  },
  {
   "cell_type": "markdown",
   "id": "furnished-finding",
   "metadata": {},
   "source": [
    "## 평가 지표"
   ]
  },
  {
   "cell_type": "code",
   "execution_count": 48,
   "id": "6650697c",
   "metadata": {
    "ExecuteTime": {
     "end_time": "2021-11-09T18:26:15.554516Z",
     "start_time": "2021-11-09T18:26:15.470517Z"
    }
   },
   "outputs": [],
   "source": [
    "val_tag = cal_tag_hit_df['검증용태그'].tolist()\n",
    "w2v_tag = cal_tag_hit_df['w2v_예측결과'].tolist()\n",
    "\n",
    "w2v_hit = []\n",
    "\n",
    "for val,w2v in zip(val_tag,w2v_tag):\n",
    "    if len(val) == len(set(val)-set(w2v)):\n",
    "        w2v_hit.append(0)\n",
    "    else:\n",
    "        w2v_hit.append(1)\n",
    "        \n",
    "cal_tag_hit_df['w2v_히트'] = w2v_hit"
   ]
  },
  {
   "cell_type": "code",
   "execution_count": 49,
   "id": "postal-petite",
   "metadata": {
    "ExecuteTime": {
     "end_time": "2021-11-09T18:26:28.451967Z",
     "start_time": "2021-11-09T18:26:28.439968Z"
    }
   },
   "outputs": [
    {
     "data": {
      "text/html": [
       "<div>\n",
       "<style scoped>\n",
       "    .dataframe tbody tr th:only-of-type {\n",
       "        vertical-align: middle;\n",
       "    }\n",
       "\n",
       "    .dataframe tbody tr th {\n",
       "        vertical-align: top;\n",
       "    }\n",
       "\n",
       "    .dataframe thead th {\n",
       "        text-align: right;\n",
       "    }\n",
       "</style>\n",
       "<table border=\"1\" class=\"dataframe\">\n",
       "  <thead>\n",
       "    <tr style=\"text-align: right;\">\n",
       "      <th></th>\n",
       "      <th>예측용태그</th>\n",
       "      <th>검증용태그</th>\n",
       "      <th>svd_예측결과</th>\n",
       "      <th>svd_히트</th>\n",
       "      <th>w2v_예측결과</th>\n",
       "      <th>w2v_히트</th>\n",
       "    </tr>\n",
       "  </thead>\n",
       "  <tbody>\n",
       "    <tr>\n",
       "      <th>0</th>\n",
       "      <td>[눈오는날, 따듯한]</td>\n",
       "      <td>[겨울왕국, 크리스마스, 캐럴, 분위기, 겨울노래, 연말]</td>\n",
       "      <td>NaN</td>\n",
       "      <td>NaN</td>\n",
       "      <td>[추위, 따뜻한, 추운, 캐럴, 겨울감성, 찬바람, 첫눈, 겨울노래, 추운날, 눈,...</td>\n",
       "      <td>1</td>\n",
       "    </tr>\n",
       "    <tr>\n",
       "      <th>1</th>\n",
       "      <td>[팝, 트렌드, 드라이브]</td>\n",
       "      <td>[힐링, 운동, 일렉, 트로피컬하우스, Pop, 기분전환, 2017]</td>\n",
       "      <td>NaN</td>\n",
       "      <td>NaN</td>\n",
       "      <td>[팝송추천, 국외, 힙, 도입부, 스타일리쉬, 트렌디한, 유니크, 팝송, 트렌디, ...</td>\n",
       "      <td>0</td>\n",
       "    </tr>\n",
       "    <tr>\n",
       "      <th>2</th>\n",
       "      <td>[이별, 짝사랑]</td>\n",
       "      <td>[취향저격, 고백, 사랑, 슬픔]</td>\n",
       "      <td>NaN</td>\n",
       "      <td>NaN</td>\n",
       "      <td>[기억, 쓸쓸, 이별노래, 쓸쓸함, 헤어짐, 첫사랑, 그리움, 후회, 아픔, 보고싶...</td>\n",
       "      <td>0</td>\n",
       "    </tr>\n",
       "    <tr>\n",
       "      <th>3</th>\n",
       "      <td>[포크, 댄스]</td>\n",
       "      <td>[인디, 일렉트로니카, 락, 메탈]</td>\n",
       "      <td>NaN</td>\n",
       "      <td>NaN</td>\n",
       "      <td>[Folk, 숨겨진명곡, 밴드, 컨트리, 밴드음악, 최애곡, 여돌, 아이돌의숨은명곡...</td>\n",
       "      <td>0</td>\n",
       "    </tr>\n",
       "    <tr>\n",
       "      <th>4</th>\n",
       "      <td>[락, 메탈]</td>\n",
       "      <td>[M에센셜, 록, Rock, Metal]</td>\n",
       "      <td>NaN</td>\n",
       "      <td>NaN</td>\n",
       "      <td>[록메탈, 밴드, Metal, 브릿팝, 하드록메탈, Rock, 얼터너티브록, 얼터너...</td>\n",
       "      <td>1</td>\n",
       "    </tr>\n",
       "  </tbody>\n",
       "</table>\n",
       "</div>"
      ],
      "text/plain": [
       "            예측용태그                                   검증용태그 svd_예측결과 svd_히트  \\\n",
       "0     [눈오는날, 따듯한]        [겨울왕국, 크리스마스, 캐럴, 분위기, 겨울노래, 연말]      NaN    NaN   \n",
       "1  [팝, 트렌드, 드라이브]  [힐링, 운동, 일렉, 트로피컬하우스, Pop, 기분전환, 2017]      NaN    NaN   \n",
       "2       [이별, 짝사랑]                      [취향저격, 고백, 사랑, 슬픔]      NaN    NaN   \n",
       "3        [포크, 댄스]                     [인디, 일렉트로니카, 락, 메탈]      NaN    NaN   \n",
       "4         [락, 메탈]                  [M에센셜, 록, Rock, Metal]      NaN    NaN   \n",
       "\n",
       "                                            w2v_예측결과  w2v_히트  \n",
       "0  [추위, 따뜻한, 추운, 캐럴, 겨울감성, 찬바람, 첫눈, 겨울노래, 추운날, 눈,...       1  \n",
       "1  [팝송추천, 국외, 힙, 도입부, 스타일리쉬, 트렌디한, 유니크, 팝송, 트렌디, ...       0  \n",
       "2  [기억, 쓸쓸, 이별노래, 쓸쓸함, 헤어짐, 첫사랑, 그리움, 후회, 아픔, 보고싶...       0  \n",
       "3  [Folk, 숨겨진명곡, 밴드, 컨트리, 밴드음악, 최애곡, 여돌, 아이돌의숨은명곡...       0  \n",
       "4  [록메탈, 밴드, Metal, 브릿팝, 하드록메탈, Rock, 얼터너티브록, 얼터너...       1  "
      ]
     },
     "execution_count": 49,
     "metadata": {},
     "output_type": "execute_result"
    }
   ],
   "source": [
    "cal_tag_hit_df.head(5)"
   ]
  },
  {
   "cell_type": "code",
   "execution_count": 50,
   "id": "00521a2e",
   "metadata": {
    "ExecuteTime": {
     "end_time": "2021-11-09T18:26:43.064542Z",
     "start_time": "2021-11-09T18:26:43.046541Z"
    }
   },
   "outputs": [
    {
     "data": {
      "text/plain": [
       "0.33090718262298074"
      ]
     },
     "execution_count": 50,
     "metadata": {},
     "output_type": "execute_result"
    }
   ],
   "source": [
    "sum(w2v_hit)/len(w2v_hit)"
   ]
  },
  {
   "cell_type": "code",
   "execution_count": 85,
   "id": "careful-salon",
   "metadata": {
    "ExecuteTime": {
     "end_time": "2021-11-09T16:59:56.336208Z",
     "start_time": "2021-11-09T16:59:56.234688Z"
    }
   },
   "outputs": [],
   "source": [
    "svd_inter = []\n",
    "\n",
    "for val,svd in zip(val_tag,svd_tag):\n",
    "    svd_inter.append(len(set(val) - (set(val)-set(svd))))\n",
    "        \n",
    "cal_tag_hit_df['svd_교집합'] = svd_inter"
   ]
  },
  {
   "cell_type": "code",
   "execution_count": 86,
   "id": "88dd9a7a",
   "metadata": {
    "ExecuteTime": {
     "end_time": "2021-11-09T17:00:03.883270Z",
     "start_time": "2021-11-09T17:00:03.854271Z"
    }
   },
   "outputs": [
    {
     "data": {
      "text/html": [
       "<div>\n",
       "<style scoped>\n",
       "    .dataframe tbody tr th:only-of-type {\n",
       "        vertical-align: middle;\n",
       "    }\n",
       "\n",
       "    .dataframe tbody tr th {\n",
       "        vertical-align: top;\n",
       "    }\n",
       "\n",
       "    .dataframe thead th {\n",
       "        text-align: right;\n",
       "    }\n",
       "</style>\n",
       "<table border=\"1\" class=\"dataframe\">\n",
       "  <thead>\n",
       "    <tr style=\"text-align: right;\">\n",
       "      <th></th>\n",
       "      <th>예측용태그</th>\n",
       "      <th>검증용태그</th>\n",
       "      <th>svd_예측결과</th>\n",
       "      <th>svd_히트</th>\n",
       "      <th>svd_교집합</th>\n",
       "    </tr>\n",
       "  </thead>\n",
       "  <tbody>\n",
       "    <tr>\n",
       "      <th>0</th>\n",
       "      <td>[눈오는날, 따듯한]</td>\n",
       "      <td>[연말, 크리스마스, 캐럴, 겨울왕국, 분위기, 겨울노래]</td>\n",
       "      <td>[눈, 감성발라드, 첫눈, 크리스마스, 겨울, 잔잔한, 혼자, 추운날, Winter...</td>\n",
       "      <td>1</td>\n",
       "      <td>1</td>\n",
       "    </tr>\n",
       "    <tr>\n",
       "      <th>1</th>\n",
       "      <td>[드라이브, 기분전환, 팝]</td>\n",
       "      <td>[운동, 힐링, 트로피컬하우스, Pop, 일렉, 2017, 트렌드]</td>\n",
       "      <td>[운동, 팝송모음, 스트레스, 팝송추천, 매장음악, 추천곡, 산책, popsong,...</td>\n",
       "      <td>1</td>\n",
       "      <td>2</td>\n",
       "    </tr>\n",
       "    <tr>\n",
       "      <th>2</th>\n",
       "      <td>[고백, 사랑]</td>\n",
       "      <td>[취향저격, 이별, 짝사랑, 슬픔]</td>\n",
       "      <td>[데이트, 사랑노래, 달달한노래, 달달, 연애세포, 연인, 두근두근, 연애, 커플, 썸]</td>\n",
       "      <td>0</td>\n",
       "      <td>0</td>\n",
       "    </tr>\n",
       "    <tr>\n",
       "      <th>3</th>\n",
       "      <td>[댄스, 락]</td>\n",
       "      <td>[포크, 메탈, 일렉트로니카, 인디]</td>\n",
       "      <td>[락음악, 밴드음악, 스트레스, Rock, Coldplay, 활력, 2000_10,...</td>\n",
       "      <td>0</td>\n",
       "      <td>0</td>\n",
       "    </tr>\n",
       "    <tr>\n",
       "      <th>4</th>\n",
       "      <td>[락, 록]</td>\n",
       "      <td>[Metal, M에센셜, Rock, 메탈]</td>\n",
       "      <td>[락음악, 밴드음악, Rock, Coldplay, 2000_10, 밴드, 모던락, ...</td>\n",
       "      <td>1</td>\n",
       "      <td>1</td>\n",
       "    </tr>\n",
       "    <tr>\n",
       "      <th>5</th>\n",
       "      <td>[느낌있는, 밤, 새벽]</td>\n",
       "      <td>[감각적인, RnB, 그루브한, 힙합, 드라이브, 국내]</td>\n",
       "      <td>[추천노래, 띵곡, 매장음악, 산책, 취향저격, 잔잔한, 그루브, 분위기, 비오는날...</td>\n",
       "      <td>0</td>\n",
       "      <td>0</td>\n",
       "    </tr>\n",
       "    <tr>\n",
       "      <th>6</th>\n",
       "      <td>[질리지않는]</td>\n",
       "      <td>[나만알고싶은, 감성, Pop]</td>\n",
       "      <td>[팝송추천, 퓨처베이스, AlanWalker, 디즈니OST, popsong, 겨울왕...</td>\n",
       "      <td>0</td>\n",
       "      <td>0</td>\n",
       "    </tr>\n",
       "    <tr>\n",
       "      <th>7</th>\n",
       "      <td>[새벽감성]</td>\n",
       "      <td>[혼자, 고민, 조용히]</td>\n",
       "      <td>[비, 퇴근길, 쓸쓸한, 상처, 새벽에듣기좋은노래, 쓸쓸, 잔잔한, 울고싶을때, 밤...</td>\n",
       "      <td>0</td>\n",
       "      <td>0</td>\n",
       "    </tr>\n",
       "    <tr>\n",
       "      <th>8</th>\n",
       "      <td>[잔잔한, 편안한]</td>\n",
       "      <td>[밤, 감성, 인디, 어쿠스틱, 새벽]</td>\n",
       "      <td>[쓸쓸함, 쓸쓸하게, 센치, 산책, 힐링, 혼자, 집중, 그리움, 조용한, 여유]</td>\n",
       "      <td>0</td>\n",
       "      <td>0</td>\n",
       "    </tr>\n",
       "    <tr>\n",
       "      <th>9</th>\n",
       "      <td>[힐링]</td>\n",
       "      <td>[에너지, 여행, 인디, 드라이브]</td>\n",
       "      <td>[연주음악, 뉴에이지, 생각, 독서, 피아노, 여유로운, 책, 편안한, 연주곡, 여유]</td>\n",
       "      <td>0</td>\n",
       "      <td>0</td>\n",
       "    </tr>\n",
       "    <tr>\n",
       "      <th>10</th>\n",
       "      <td>[달달, 듀엣]</td>\n",
       "      <td>[취향저격, 피쳐링, 남녀, 사랑]</td>\n",
       "      <td>[달달한노래, 연애세포, 듀엣곡, 두근두근, 남녀, 연인, 연애, 커플, 썸, 고백]</td>\n",
       "      <td>1</td>\n",
       "      <td>1</td>\n",
       "    </tr>\n",
       "    <tr>\n",
       "      <th>11</th>\n",
       "      <td>[신나는]</td>\n",
       "      <td>[국힙, 신인, 인디, 힙합]</td>\n",
       "      <td>[운동, 여행, 헬스, 내적댄스, 시원한, 청량, 더위, 케이팝, 다이어트, 신나는노래]</td>\n",
       "      <td>0</td>\n",
       "      <td>0</td>\n",
       "    </tr>\n",
       "    <tr>\n",
       "      <th>12</th>\n",
       "      <td>[스윙, 상쾌한]</td>\n",
       "      <td>[밝은, 아침, 빅밴드, 재즈, 스윙재즈]</td>\n",
       "      <td>[재즈바, 일할때듣기좋은노래, 포근, 경쾌한, 호텔, swing, 빅밴드, 홈카페,...</td>\n",
       "      <td>1</td>\n",
       "      <td>2</td>\n",
       "    </tr>\n",
       "    <tr>\n",
       "      <th>13</th>\n",
       "      <td>[설렘]</td>\n",
       "      <td>[휴식, 힐링, 사랑]</td>\n",
       "      <td>[데이트, 밤, 사랑, 감성, 설레임, 슬픈, 달달, 비오는날, 가을, 새벽]</td>\n",
       "      <td>1</td>\n",
       "      <td>1</td>\n",
       "    </tr>\n",
       "    <tr>\n",
       "      <th>14</th>\n",
       "      <td>[신나는, 기분전환, 댄스]</td>\n",
       "      <td>[여행, 매장음악, 여름, 취향저격, 일렉트로니카, 드라이브, 일렉]</td>\n",
       "      <td>[여름휴가, 댄스뮤직, 스트레스, 댄스음악, 여름, 휴가, 더위, 바다, 숨듣명, ...</td>\n",
       "      <td>1</td>\n",
       "      <td>1</td>\n",
       "    </tr>\n",
       "    <tr>\n",
       "      <th>15</th>\n",
       "      <td>[피트니스, 런닝, 다이어트]</td>\n",
       "      <td>[운동, 헬스, 스포츠, 요가, 산책, 필라테스]</td>\n",
       "      <td>[헬스장, 운동, 붐업, 헬스, 런닝머신, 몸매, 운동할때듣는음악, 운동할때, 조깅...</td>\n",
       "      <td>1</td>\n",
       "      <td>2</td>\n",
       "    </tr>\n",
       "    <tr>\n",
       "      <th>16</th>\n",
       "      <td>[90년대, 옛날노래]</td>\n",
       "      <td>[80년대, 감성, 휴식, 추억]</td>\n",
       "      <td>[Electronic_Pop, 이상, 엔시티의나잇나잇, 나의우주, 오후만있던토요일,...</td>\n",
       "      <td>0</td>\n",
       "      <td>0</td>\n",
       "    </tr>\n",
       "    <tr>\n",
       "      <th>17</th>\n",
       "      <td>[이별]</td>\n",
       "      <td>[슬픔, 밤, 새벽]</td>\n",
       "      <td>[눈물, 헤어짐, 발라드추천, 슬픈노래, 이별노래, 애절한, 슬픔, 프로포즈, 이별...</td>\n",
       "      <td>1</td>\n",
       "      <td>1</td>\n",
       "    </tr>\n",
       "    <tr>\n",
       "      <th>18</th>\n",
       "      <td>[나른한, 휴식]</td>\n",
       "      <td>[Chillout, 주말, 편안한, 오후]</td>\n",
       "      <td>[자기전에, 침대, 독서, 모닝콜, 차분한, 북카페, 아메리카노, 포근한, 피곤, ...</td>\n",
       "      <td>0</td>\n",
       "      <td>0</td>\n",
       "    </tr>\n",
       "    <tr>\n",
       "      <th>19</th>\n",
       "      <td>[내가좋아하는음악트랙, 음악추천]</td>\n",
       "      <td>[포크, 인디추천, 노래추천, 인디]</td>\n",
       "      <td>[공감하는, 어린이찬양, 소파, princess, 힙을합합, 삼박자, star, 8...</td>\n",
       "      <td>0</td>\n",
       "      <td>0</td>\n",
       "    </tr>\n",
       "    <tr>\n",
       "      <th>20</th>\n",
       "      <td>[겨울, 슬픔]</td>\n",
       "      <td>[사랑, 추억, 매장음악, 잔잔한, 이별]</td>\n",
       "      <td>[눈물, 헤어짐, 발라드추천, 미련, 아픔, 슬픈노래, 이별노래, 남자발라드, 그리...</td>\n",
       "      <td>0</td>\n",
       "      <td>0</td>\n",
       "    </tr>\n",
       "    <tr>\n",
       "      <th>21</th>\n",
       "      <td>[여행, 감성]</td>\n",
       "      <td>[추천노래, 숨겨진, 밤, 팝]</td>\n",
       "      <td>[밤, 설렘, 퇴근, 여름, 산책, 분위기, 기분전환, 비오는날, 가을, 새벽]</td>\n",
       "      <td>1</td>\n",
       "      <td>1</td>\n",
       "    </tr>\n",
       "    <tr>\n",
       "      <th>22</th>\n",
       "      <td>[감성, 발라드, 기분전환]</td>\n",
       "      <td>[새벽, 사랑, 인디, 잔잔한, 이별, 알앤비, 우울]</td>\n",
       "      <td>[눈물, 밤, 설렘, 슬픈, 미련, 이별노래, 비오는날, 슬픔, 가을, 새벽]</td>\n",
       "      <td>1</td>\n",
       "      <td>1</td>\n",
       "    </tr>\n",
       "    <tr>\n",
       "      <th>23</th>\n",
       "      <td>[설렘, 썸, 달달한]</td>\n",
       "      <td>[사랑, 휴식, 취향저격, 연애, 힐링, 기분전환]</td>\n",
       "      <td>[데이트, 달달한노래, 연애세포, 달달, 연인, 두근두근, 달콤, 연애, 커플, 심...</td>\n",
       "      <td>1</td>\n",
       "      <td>1</td>\n",
       "    </tr>\n",
       "    <tr>\n",
       "      <th>24</th>\n",
       "      <td>[히트곡]</td>\n",
       "      <td>[노래모음, 명곡, 추억]</td>\n",
       "      <td>[댄스뮤직, 댄스, 추억, 원더걸스, 00년대, 2000년대, 수능금지곡, 숨듣명,...</td>\n",
       "      <td>1</td>\n",
       "      <td>1</td>\n",
       "    </tr>\n",
       "    <tr>\n",
       "      <th>25</th>\n",
       "      <td>[dance, 일렉트로니카]</td>\n",
       "      <td>[댄스, electronica, EDM, EDMFloor, 빌로우]</td>\n",
       "      <td>[Electronic, electronica, 프로그레시브하우스, EDM, 일렉트로...</td>\n",
       "      <td>1</td>\n",
       "      <td>3</td>\n",
       "    </tr>\n",
       "    <tr>\n",
       "      <th>26</th>\n",
       "      <td>[드라이브, 세련된, 휴식]</td>\n",
       "      <td>[라운지, 매장, 퇴근길, 그루브, 기분전환, 펍, 새벽]</td>\n",
       "      <td>[스타일리시, 감각적, 여행, 스타일리쉬, 매장음악, 기분업, 기분전환, 외출, Y...</td>\n",
       "      <td>1</td>\n",
       "      <td>1</td>\n",
       "    </tr>\n",
       "    <tr>\n",
       "      <th>27</th>\n",
       "      <td>[자기전]</td>\n",
       "      <td>[한강, 드라이브, 드라이브할때신나는노래]</td>\n",
       "      <td>[홀로, 감성발라드, 깊은밤, 센치하게, 쓸쓸하게, 띵곡의, 쓸쓸하고, 센치, 취향...</td>\n",
       "      <td>0</td>\n",
       "      <td>0</td>\n",
       "    </tr>\n",
       "    <tr>\n",
       "      <th>28</th>\n",
       "      <td>[섹시]</td>\n",
       "      <td>[비트좋은, 그루브, 분위기]</td>\n",
       "      <td>[알앤비소울, 치명적인, 알앤비힙합, 끈적, Sexy, Night, PBRnB, 퇴...</td>\n",
       "      <td>0</td>\n",
       "      <td>0</td>\n",
       "    </tr>\n",
       "    <tr>\n",
       "      <th>29</th>\n",
       "      <td>[무드, 밤]</td>\n",
       "      <td>[조용하게, 스웩, 힐링, 휴식]</td>\n",
       "      <td>[섹시한, 라떼, 와인, 술, 웨하스구름, 최신팝, 홈카페, 펍, 새벽, mood]</td>\n",
       "      <td>0</td>\n",
       "      <td>0</td>\n",
       "    </tr>\n",
       "  </tbody>\n",
       "</table>\n",
       "</div>"
      ],
      "text/plain": [
       "                 예측용태그                                   검증용태그  \\\n",
       "0          [눈오는날, 따듯한]        [연말, 크리스마스, 캐럴, 겨울왕국, 분위기, 겨울노래]   \n",
       "1      [드라이브, 기분전환, 팝]   [운동, 힐링, 트로피컬하우스, Pop, 일렉, 2017, 트렌드]   \n",
       "2             [고백, 사랑]                     [취향저격, 이별, 짝사랑, 슬픔]   \n",
       "3              [댄스, 락]                    [포크, 메탈, 일렉트로니카, 인디]   \n",
       "4               [락, 록]                 [Metal, M에센셜, Rock, 메탈]   \n",
       "5        [느낌있는, 밤, 새벽]         [감각적인, RnB, 그루브한, 힙합, 드라이브, 국내]   \n",
       "6              [질리지않는]                       [나만알고싶은, 감성, Pop]   \n",
       "7               [새벽감성]                           [혼자, 고민, 조용히]   \n",
       "8           [잔잔한, 편안한]                   [밤, 감성, 인디, 어쿠스틱, 새벽]   \n",
       "9                 [힐링]                     [에너지, 여행, 인디, 드라이브]   \n",
       "10            [달달, 듀엣]                     [취향저격, 피쳐링, 남녀, 사랑]   \n",
       "11               [신나는]                        [국힙, 신인, 인디, 힙합]   \n",
       "12           [스윙, 상쾌한]                 [밝은, 아침, 빅밴드, 재즈, 스윙재즈]   \n",
       "13                [설렘]                            [휴식, 힐링, 사랑]   \n",
       "14     [신나는, 기분전환, 댄스]  [여행, 매장음악, 여름, 취향저격, 일렉트로니카, 드라이브, 일렉]   \n",
       "15    [피트니스, 런닝, 다이어트]             [운동, 헬스, 스포츠, 요가, 산책, 필라테스]   \n",
       "16        [90년대, 옛날노래]                      [80년대, 감성, 휴식, 추억]   \n",
       "17                [이별]                             [슬픔, 밤, 새벽]   \n",
       "18           [나른한, 휴식]                 [Chillout, 주말, 편안한, 오후]   \n",
       "19  [내가좋아하는음악트랙, 음악추천]                    [포크, 인디추천, 노래추천, 인디]   \n",
       "20            [겨울, 슬픔]                 [사랑, 추억, 매장음악, 잔잔한, 이별]   \n",
       "21            [여행, 감성]                       [추천노래, 숨겨진, 밤, 팝]   \n",
       "22     [감성, 발라드, 기분전환]          [새벽, 사랑, 인디, 잔잔한, 이별, 알앤비, 우울]   \n",
       "23        [설렘, 썸, 달달한]            [사랑, 휴식, 취향저격, 연애, 힐링, 기분전환]   \n",
       "24               [히트곡]                          [노래모음, 명곡, 추억]   \n",
       "25     [dance, 일렉트로니카]   [댄스, electronica, EDM, EDMFloor, 빌로우]   \n",
       "26     [드라이브, 세련된, 휴식]        [라운지, 매장, 퇴근길, 그루브, 기분전환, 펍, 새벽]   \n",
       "27               [자기전]                 [한강, 드라이브, 드라이브할때신나는노래]   \n",
       "28                [섹시]                        [비트좋은, 그루브, 분위기]   \n",
       "29             [무드, 밤]                      [조용하게, 스웩, 힐링, 휴식]   \n",
       "\n",
       "                                             svd_예측결과  svd_히트  svd_교집합  \n",
       "0   [눈, 감성발라드, 첫눈, 크리스마스, 겨울, 잔잔한, 혼자, 추운날, Winter...       1        1  \n",
       "1   [운동, 팝송모음, 스트레스, 팝송추천, 매장음악, 추천곡, 산책, popsong,...       1        2  \n",
       "2   [데이트, 사랑노래, 달달한노래, 달달, 연애세포, 연인, 두근두근, 연애, 커플, 썸]       0        0  \n",
       "3   [락음악, 밴드음악, 스트레스, Rock, Coldplay, 활력, 2000_10,...       0        0  \n",
       "4   [락음악, 밴드음악, Rock, Coldplay, 2000_10, 밴드, 모던락, ...       1        1  \n",
       "5   [추천노래, 띵곡, 매장음악, 산책, 취향저격, 잔잔한, 그루브, 분위기, 비오는날...       0        0  \n",
       "6   [팝송추천, 퓨처베이스, AlanWalker, 디즈니OST, popsong, 겨울왕...       0        0  \n",
       "7   [비, 퇴근길, 쓸쓸한, 상처, 새벽에듣기좋은노래, 쓸쓸, 잔잔한, 울고싶을때, 밤...       0        0  \n",
       "8       [쓸쓸함, 쓸쓸하게, 센치, 산책, 힐링, 혼자, 집중, 그리움, 조용한, 여유]       0        0  \n",
       "9    [연주음악, 뉴에이지, 생각, 독서, 피아노, 여유로운, 책, 편안한, 연주곡, 여유]       0        0  \n",
       "10    [달달한노래, 연애세포, 듀엣곡, 두근두근, 남녀, 연인, 연애, 커플, 썸, 고백]       1        1  \n",
       "11  [운동, 여행, 헬스, 내적댄스, 시원한, 청량, 더위, 케이팝, 다이어트, 신나는노래]       0        0  \n",
       "12  [재즈바, 일할때듣기좋은노래, 포근, 경쾌한, 호텔, swing, 빅밴드, 홈카페,...       1        2  \n",
       "13        [데이트, 밤, 사랑, 감성, 설레임, 슬픈, 달달, 비오는날, 가을, 새벽]       1        1  \n",
       "14  [여름휴가, 댄스뮤직, 스트레스, 댄스음악, 여름, 휴가, 더위, 바다, 숨듣명, ...       1        1  \n",
       "15  [헬스장, 운동, 붐업, 헬스, 런닝머신, 몸매, 운동할때듣는음악, 운동할때, 조깅...       1        2  \n",
       "16  [Electronic_Pop, 이상, 엔시티의나잇나잇, 나의우주, 오후만있던토요일,...       0        0  \n",
       "17  [눈물, 헤어짐, 발라드추천, 슬픈노래, 이별노래, 애절한, 슬픔, 프로포즈, 이별...       1        1  \n",
       "18  [자기전에, 침대, 독서, 모닝콜, 차분한, 북카페, 아메리카노, 포근한, 피곤, ...       0        0  \n",
       "19  [공감하는, 어린이찬양, 소파, princess, 힙을합합, 삼박자, star, 8...       0        0  \n",
       "20  [눈물, 헤어짐, 발라드추천, 미련, 아픔, 슬픈노래, 이별노래, 남자발라드, 그리...       0        0  \n",
       "21       [밤, 설렘, 퇴근, 여름, 산책, 분위기, 기분전환, 비오는날, 가을, 새벽]       1        1  \n",
       "22        [눈물, 밤, 설렘, 슬픈, 미련, 이별노래, 비오는날, 슬픔, 가을, 새벽]       1        1  \n",
       "23  [데이트, 달달한노래, 연애세포, 달달, 연인, 두근두근, 달콤, 연애, 커플, 심...       1        1  \n",
       "24  [댄스뮤직, 댄스, 추억, 원더걸스, 00년대, 2000년대, 수능금지곡, 숨듣명,...       1        1  \n",
       "25  [Electronic, electronica, 프로그레시브하우스, EDM, 일렉트로...       1        3  \n",
       "26  [스타일리시, 감각적, 여행, 스타일리쉬, 매장음악, 기분업, 기분전환, 외출, Y...       1        1  \n",
       "27  [홀로, 감성발라드, 깊은밤, 센치하게, 쓸쓸하게, 띵곡의, 쓸쓸하고, 센치, 취향...       0        0  \n",
       "28  [알앤비소울, 치명적인, 알앤비힙합, 끈적, Sexy, Night, PBRnB, 퇴...       0        0  \n",
       "29     [섹시한, 라떼, 와인, 술, 웨하스구름, 최신팝, 홈카페, 펍, 새벽, mood]       0        0  "
      ]
     },
     "execution_count": 86,
     "metadata": {},
     "output_type": "execute_result"
    }
   ],
   "source": [
    "cal_tag_hit_df.head(30)"
   ]
  },
  {
   "cell_type": "code",
   "execution_count": null,
   "id": "graphic-violence",
   "metadata": {},
   "outputs": [],
   "source": []
  }
 ],
 "metadata": {
  "kernelspec": {
   "display_name": "Python 3",
   "language": "python",
   "name": "python3"
  },
  "language_info": {
   "codemirror_mode": {
    "name": "ipython",
    "version": 3
   },
   "file_extension": ".py",
   "mimetype": "text/x-python",
   "name": "python",
   "nbconvert_exporter": "python",
   "pygments_lexer": "ipython3",
   "version": "3.9.1"
  },
  "toc": {
   "base_numbering": 1,
   "nav_menu": {},
   "number_sections": true,
   "sideBar": true,
   "skip_h1_title": false,
   "title_cell": "Table of Contents",
   "title_sidebar": "Contents",
   "toc_cell": false,
   "toc_position": {},
   "toc_section_display": true,
   "toc_window_display": false
  },
  "varInspector": {
   "cols": {
    "lenName": 16,
    "lenType": 16,
    "lenVar": 40
   },
   "kernels_config": {
    "python": {
     "delete_cmd_postfix": "",
     "delete_cmd_prefix": "del ",
     "library": "var_list.py",
     "varRefreshCmd": "print(var_dic_list())"
    },
    "r": {
     "delete_cmd_postfix": ") ",
     "delete_cmd_prefix": "rm(",
     "library": "var_list.r",
     "varRefreshCmd": "cat(var_dic_list()) "
    }
   },
   "types_to_exclude": [
    "module",
    "function",
    "builtin_function_or_method",
    "instance",
    "_Feature"
   ],
   "window_display": false
  }
 },
 "nbformat": 4,
 "nbformat_minor": 5
}
