{
 "cells": [
  {
   "cell_type": "markdown",
   "id": "09383984",
   "metadata": {},
   "source": [
    "# 필요한 라이브러리 import"
   ]
  },
  {
   "cell_type": "code",
   "execution_count": null,
   "id": "c5bfe0a3",
   "metadata": {
    "ExecuteTime": {
     "end_time": "2021-11-09T08:42:23.883163Z",
     "start_time": "2021-11-09T08:42:20.808287Z"
    }
   },
   "outputs": [],
   "source": [
    "import os\n",
    "import json\n",
    "import numpy as np\n",
    "import pandas as pd\n",
    "from gensim import corpora\n",
    "from gensim.models import Word2Vec\n",
    "from sklearn.decomposition import TruncatedSVD\n",
    "from scipy import sparse as spr\n",
    "import configparser\n",
    "import pymysql\n",
    "from itertools import chain\n",
    "from collections import defaultdict,Counter\n",
    "import hnswlib\n",
    "import warnings\n",
    "import tqdm\n",
    "import pickle\n",
    "import matplotlib.pyplot as plt\n",
    "import seaborn as sns\n",
    "from implicit.als import AlternatingLeastSquares\n",
    "from sklearn.decomposition import NMF\n",
    "from itertools import repeat\n",
    "from sklearn.preprocessing import MinMaxScaler\n",
    "import random\n",
    "from scipy.stats import skew,kurtosis\n",
    "warnings.filterwarnings(action='ignore')"
   ]
  },
  {
   "cell_type": "markdown",
   "id": "9ae8eb62",
   "metadata": {},
   "source": [
    "# 데이터 로드"
   ]
  },
  {
   "cell_type": "code",
   "execution_count": null,
   "id": "alike-angola",
   "metadata": {
    "ExecuteTime": {
     "end_time": "2021-11-09T08:42:30.095835Z",
     "start_time": "2021-11-09T08:42:23.885144Z"
    }
   },
   "outputs": [],
   "source": [
    "with open('./data/song_meta.json',encoding='utf-8-sig') as f:\n",
    "    song_dict = json.load(f)\n",
    "    \n",
    "song_df = pd.DataFrame.from_dict(song_dict)"
   ]
  },
  {
   "cell_type": "code",
   "execution_count": null,
   "id": "unique-electric",
   "metadata": {
    "ExecuteTime": {
     "end_time": "2021-11-09T08:42:30.111759Z",
     "start_time": "2021-11-09T08:42:30.096756Z"
    }
   },
   "outputs": [],
   "source": [
    "with open('./data/genre_gn_all.json',encoding='utf-8-sig') as f:\n",
    "    genre_dict = json.load(f)"
   ]
  },
  {
   "cell_type": "code",
   "execution_count": null,
   "id": "31d7a997",
   "metadata": {
    "ExecuteTime": {
     "end_time": "2021-11-09T08:42:31.279937Z",
     "start_time": "2021-11-09T08:42:30.114762Z"
    }
   },
   "outputs": [],
   "source": [
    "with open('data/train.json',encoding='utf-8-sig') as f:\n",
    "    train_dict = json.load(f)\n",
    "    \n",
    "train_df = pd.DataFrame.from_dict(train_dict)"
   ]
  },
  {
   "cell_type": "markdown",
   "id": "7f312eb5",
   "metadata": {},
   "source": [
    "# 태그-id간 동기화를 위한 데이터베이스 연결"
   ]
  },
  {
   "cell_type": "code",
   "execution_count": null,
   "id": "6f4107a6",
   "metadata": {
    "ExecuteTime": {
     "end_time": "2021-11-09T08:42:31.295113Z",
     "start_time": "2021-11-09T08:42:31.282071Z"
    }
   },
   "outputs": [],
   "source": [
    "# config parser 객체 생성\n",
    "config = configparser.ConfigParser()\n",
    "\n",
    "# parser객체로 config.ini 파일 읽기\n",
    "config.read('config.ini')\n",
    "\n",
    "# 연결 config 변수저장\n",
    "\n",
    "user = config['DEFAULT']['ADMIN_USER_NAME']\n",
    "passwd = config['DEFAULT']['ADMIN_PASSWORD']\n",
    "host = config['DEFAULT']['RDS_ENDPOINT']\n",
    "port = config['DEFAULT']['PORT']\n",
    "database = config['DEFAULT']['DEFAULT_DATABASE']"
   ]
  },
  {
   "cell_type": "code",
   "execution_count": null,
   "id": "c1532a14",
   "metadata": {
    "ExecuteTime": {
     "end_time": "2021-11-09T08:42:31.502451Z",
     "start_time": "2021-11-09T08:42:31.297032Z"
    }
   },
   "outputs": [],
   "source": [
    "# 데이터 베이스 연결\n",
    "melon_recom_db = pymysql.connect(\n",
    "    host = host,\n",
    "    user = user,\n",
    "    password = passwd,\n",
    "    database = database,\n",
    "    port = int(port),\n",
    "    cursorclass = pymysql.cursors.DictCursor\n",
    ")"
   ]
  },
  {
   "cell_type": "code",
   "execution_count": null,
   "id": "7646ef42",
   "metadata": {
    "ExecuteTime": {
     "end_time": "2021-11-09T08:42:31.768337Z",
     "start_time": "2021-11-09T08:42:31.503454Z"
    }
   },
   "outputs": [],
   "source": [
    "# 커서 생성 후 쿼리문 수행\n",
    "melon_cursor = melon_recom_db.cursor()\n",
    "melon_cursor.execute('select tag_id,tag from tag')\n",
    "tag_db_list=melon_cursor.fetchall()"
   ]
  },
  {
   "cell_type": "markdown",
   "id": "5de1509c",
   "metadata": {},
   "source": [
    "# tag 딕셔너리 만들기 "
   ]
  },
  {
   "cell_type": "code",
   "execution_count": null,
   "id": "71a24f2c",
   "metadata": {
    "ExecuteTime": {
     "end_time": "2021-11-09T08:42:31.784233Z",
     "start_time": "2021-11-09T08:42:31.770233Z"
    }
   },
   "outputs": [],
   "source": [
    "# tag를 id로\n",
    "tag_to_id = {}\n",
    "\n",
    "# id를 tag로\n",
    "id_to_tag = {}\n",
    "\n",
    "for tag_db in tag_db_list:\n",
    "    tag_to_id[tag_db['tag']] = tag_db['tag_id']\n",
    "    \n",
    "for tag_db in tag_db_list:\n",
    "    id_to_tag[tag_db['tag_id']] = tag_db['tag']"
   ]
  },
  {
   "cell_type": "markdown",
   "id": "e83fb22c",
   "metadata": {},
   "source": [
    "# tag 전처리 빈도수로 컷"
   ]
  },
  {
   "cell_type": "code",
   "execution_count": null,
   "id": "1e8963c5",
   "metadata": {
    "ExecuteTime": {
     "end_time": "2021-11-09T08:42:31.896237Z",
     "start_time": "2021-11-09T08:42:31.785234Z"
    }
   },
   "outputs": [],
   "source": [
    "# train dataframe tag 컬럼의 모든 tag들 (중복포함)\n",
    "tags_all = train_df['tags'].tolist()\n",
    "\n",
    "# 태그의 빈도수를 가진 dict, Counter 써도 됨\n",
    "tags_frequency = defaultdict(int)\n",
    "\n",
    "# 특정 tag가 나올 때마다 1더하기\n",
    "for tags in tags_all:\n",
    "    for tag in tags:\n",
    "        tags_frequency[tag] += 1"
   ]
  },
  {
   "cell_type": "code",
   "execution_count": null,
   "id": "04c26c2d",
   "metadata": {
    "ExecuteTime": {
     "end_time": "2021-11-09T08:42:31.944236Z",
     "start_time": "2021-11-09T08:42:31.898233Z"
    }
   },
   "outputs": [],
   "source": [
    "# 태그 빈도의 분포를 알아보자\n",
    "tag_freq = pd.DataFrame().from_dict(tags_frequency,orient=\"index\")\n",
    "tag_freq.columns=['빈도']\n",
    "tag_freq.describe().T"
   ]
  },
  {
   "cell_type": "raw",
   "id": "bb2eb15e",
   "metadata": {
    "ExecuteTime": {
     "end_time": "2021-11-09T08:42:32.102249Z",
     "start_time": "2021-11-09T08:42:31.946232Z"
    }
   },
   "source": [
    "# 빈도수로 태그를 filter\n",
    "\n",
    "def filter_func(x):\n",
    "    temp = []\n",
    "    for tag in x:\n",
    "        if tags_frequency[tag] >=3:\n",
    "            temp.append(tag)\n",
    "        else:\n",
    "            pass\n",
    "    return temp\n",
    "            \n",
    "train_df['tags'] = train_df['tags'].map(filter_func)"
   ]
  },
  {
   "cell_type": "code",
   "execution_count": null,
   "id": "2c1c7387",
   "metadata": {
    "ExecuteTime": {
     "end_time": "2021-11-09T08:42:32.229336Z",
     "start_time": "2021-11-09T08:42:32.103232Z"
    }
   },
   "outputs": [],
   "source": [
    "# filter된 태그의 id만 남기기\n",
    "train_df['tag_ids'] = train_df['tags'].map(lambda x : [tag_to_id[v] for v in x])\n",
    "train_df.head(1)"
   ]
  },
  {
   "cell_type": "markdown",
   "id": "ignored-upper",
   "metadata": {},
   "source": [
    "## 컬럼명 한글화"
   ]
  },
  {
   "cell_type": "code",
   "execution_count": null,
   "id": "afraid-television",
   "metadata": {
    "ExecuteTime": {
     "end_time": "2021-11-09T08:42:32.245237Z",
     "start_time": "2021-11-09T08:42:32.231233Z"
    }
   },
   "outputs": [],
   "source": [
    "train_df.columns=['태그','플리아이디','플리제목','노래들','좋아요수','변경일자','태그아이디']"
   ]
  },
  {
   "cell_type": "code",
   "execution_count": null,
   "id": "demonstrated-israeli",
   "metadata": {
    "ExecuteTime": {
     "end_time": "2021-11-09T08:42:32.290235Z",
     "start_time": "2021-11-09T08:42:32.247234Z"
    }
   },
   "outputs": [],
   "source": [
    "train_df['태그수'] = train_df['태그'].map(len)"
   ]
  },
  {
   "cell_type": "code",
   "execution_count": null,
   "id": "transsexual-laptop",
   "metadata": {
    "ExecuteTime": {
     "end_time": "2021-11-09T08:42:32.306234Z",
     "start_time": "2021-11-09T08:42:32.292242Z"
    }
   },
   "outputs": [],
   "source": [
    "train_df.head(1)"
   ]
  },
  {
   "cell_type": "markdown",
   "id": "affected-murray",
   "metadata": {},
   "source": [
    "# Train Test Split"
   ]
  },
  {
   "cell_type": "code",
   "execution_count": null,
   "id": "disabled-forum",
   "metadata": {
    "ExecuteTime": {
     "end_time": "2021-11-09T08:42:32.416238Z",
     "start_time": "2021-11-09T08:42:32.307234Z"
    }
   },
   "outputs": [],
   "source": [
    "# 태그가 10개인거 부터 train에 쓸거임\n",
    "origin_tags = train_df[train_df['태그수']>9]['태그'].tolist()\n",
    "\n",
    "train_tags = []\n",
    "test_tags = []\n",
    "\n",
    "# 태그는 많아봐야 3개 사분위수 75% -> 3개\n",
    "for tags in origin_tags:\n",
    "    tag_3p = len(tags)//3\n",
    "    train_tag = random.sample(tags, tag_3p)\n",
    "    test_tag = list(set(tags)-set(train_tag))\n",
    "    train_tags.append(train_tag)\n",
    "    test_tags.append(test_tag)"
   ]
  },
  {
   "cell_type": "code",
   "execution_count": null,
   "id": "comparative-migration",
   "metadata": {
    "ExecuteTime": {
     "end_time": "2021-11-09T08:42:32.448235Z",
     "start_time": "2021-11-09T08:42:32.418237Z"
    }
   },
   "outputs": [],
   "source": [
    "cal_tag_hit_df = pd.DataFrame(columns=['태그원본','예측용태그','검증용태그','als_예측결과','als_히트'])\n",
    "cal_tag_hit_df['태그원본'] = origin_tags"
   ]
  },
  {
   "cell_type": "code",
   "execution_count": null,
   "id": "ancient-proposition",
   "metadata": {
    "ExecuteTime": {
     "end_time": "2021-11-09T08:42:32.480251Z",
     "start_time": "2021-11-09T08:42:32.450231Z"
    }
   },
   "outputs": [],
   "source": [
    "cal_tag_hit_df['예측용태그'] = train_tags\n",
    "cal_tag_hit_df['검증용태그'] = test_tags\n",
    "cal_tag_hit_df.head()"
   ]
  },
  {
   "cell_type": "markdown",
   "id": "ecc4df4b",
   "metadata": {},
   "source": [
    "# 희소행렬생성 태그,음악 행렬"
   ]
  },
  {
   "cell_type": "code",
   "execution_count": null,
   "id": "grateful-identity",
   "metadata": {
    "ExecuteTime": {
     "end_time": "2021-11-09T08:42:32.496233Z",
     "start_time": "2021-11-09T08:42:32.483242Z"
    }
   },
   "outputs": [],
   "source": [
    "song_df.colums=['세부장르','발매일','앨범명','앨범ID','가수ID','노래명','대장르','가수명','노래ID']"
   ]
  },
  {
   "cell_type": "code",
   "execution_count": null,
   "id": "listed-monthly",
   "metadata": {
    "ExecuteTime": {
     "end_time": "2021-11-09T08:42:32.511233Z",
     "start_time": "2021-11-09T08:42:32.498250Z"
    }
   },
   "outputs": [],
   "source": [
    "genre_dict['GN9000'] = '기타장르'\n",
    "\n",
    "genre_big = {}\n",
    "\n",
    "# 모든 장르 딕셔너리를 돌면서\n",
    "for k,v in genre_dict.items():\n",
    "    \n",
    "    # 맨 뒤 두자리가 00이면 대장류로 분류\n",
    "    if k[-2:] == '00':\n",
    "        \n",
    "        # 맨앞 네자리를 키로 하는 대장류 딕셔너리 값 추가\n",
    "        genre_big[k[:4]] = v\n",
    "\n",
    "genre_detail_dict = {}\n",
    "\n",
    "# 모든 딕셔너리를 돌면서\n",
    "for k,v in genre_dict.items():\n",
    "    \n",
    "    # 맨뒤 두자리가 00이 아니면 대장류가 아닌거임!\n",
    "    if k[-2:] != '00':\n",
    "        \n",
    "        # 그럴떈 아까만든 대장르 딕셔너리의 대장류 이름을 추가해서 이름을 수정해서 다시 넣어줌\n",
    "        new_value = genre_big[k[:4]]+'_'+v\n",
    "        genre_detail_dict[k] = new_value"
   ]
  },
  {
   "cell_type": "code",
   "execution_count": null,
   "id": "30dc67eb",
   "metadata": {
    "ExecuteTime": {
     "end_time": "2021-11-09T08:42:32.526233Z",
     "start_time": "2021-11-09T08:42:32.513234Z"
    }
   },
   "outputs": [],
   "source": [
    "genre_big_dict = {}\n",
    "\n",
    "for k,v in genre_big.items():\n",
    "    genre_big_dict[k+'00'] = v"
   ]
  },
  {
   "cell_type": "markdown",
   "id": "b79b2e8f",
   "metadata": {},
   "source": [
    "# 태그 임베딩"
   ]
  },
  {
   "cell_type": "markdown",
   "id": "f4580cfc",
   "metadata": {},
   "source": [
    "## 대장르ID와 CODE간 딕셔너리 생성"
   ]
  },
  {
   "cell_type": "code",
   "execution_count": null,
   "id": "e1ec3bb8",
   "metadata": {
    "ExecuteTime": {
     "end_time": "2021-11-09T08:42:32.542249Z",
     "start_time": "2021-11-09T08:42:32.528233Z"
    }
   },
   "outputs": [],
   "source": [
    "genre_big_id_to_code = {}\n",
    "\n",
    "for i,v in enumerate(list(genre_big_dict.keys())):\n",
    "    genre_big_id_to_code[i] = v"
   ]
  },
  {
   "cell_type": "code",
   "execution_count": null,
   "id": "7f46b721",
   "metadata": {
    "ExecuteTime": {
     "end_time": "2021-11-09T08:42:32.557259Z",
     "start_time": "2021-11-09T08:42:32.543233Z"
    }
   },
   "outputs": [],
   "source": [
    "genre_big_code_to_id = {}\n",
    "\n",
    "for i,v in enumerate(list(genre_big_dict.keys())):\n",
    "    genre_big_code_to_id[v] = i"
   ]
  },
  {
   "cell_type": "code",
   "execution_count": null,
   "id": "7b728b51",
   "metadata": {
    "ExecuteTime": {
     "end_time": "2021-11-09T08:42:33.744511Z",
     "start_time": "2021-11-09T08:42:32.559235Z"
    }
   },
   "outputs": [],
   "source": [
    "# 노래의 ID를 KEY 대\\장르의 ID리스트를 ITEM으로 하는 딕셔너리 생성 \n",
    "\n",
    "song_genre_big_dict = defaultdict(list)\n",
    "\n",
    "for codes,id in zip(song_df['song_gn_gnr_basket'].tolist(),song_df['id'].tolist()):\n",
    "    for code in codes:\n",
    "        song_genre_big_dict[id].append(genre_big_code_to_id[code])"
   ]
  },
  {
   "cell_type": "code",
   "execution_count": null,
   "id": "4a4fcfea",
   "metadata": {
    "ExecuteTime": {
     "end_time": "2021-11-09T08:42:36.817671Z",
     "start_time": "2021-11-09T08:42:33.746517Z"
    }
   },
   "outputs": [],
   "source": [
    "# 플레이리스트의 모든 노래의 세부장르를 모아서 새로운 컬럼으로 생성\n",
    "\n",
    "def fetcher(x):\n",
    "    temp = []\n",
    "    for song in x:\n",
    "        genre_ids = song_genre_big_dict[song]\n",
    "        for id in genre_ids:\n",
    "            temp.append(id)\n",
    "    return temp\n",
    "\n",
    "train_df['대장르'] = train_df['노래들'].map(fetcher)\n",
    "train_df.head(1)"
   ]
  },
  {
   "cell_type": "markdown",
   "id": "1ab41e1a",
   "metadata": {},
   "source": [
    "## 태그ID와 대장르ID 간 딕셔너리 생성"
   ]
  },
  {
   "cell_type": "code",
   "execution_count": null,
   "id": "regulated-native",
   "metadata": {
    "ExecuteTime": {
     "end_time": "2021-11-09T08:47:26.246130Z",
     "start_time": "2021-11-09T08:47:25.615614Z"
    }
   },
   "outputs": [],
   "source": [
    "# {tag_Id:genre_detail_ids}\n",
    "\n",
    "tag_id_to_genre_big_ids = defaultdict(list)\n",
    "\n",
    "for ids,genres in zip(train_df['태그아이디'].tolist(),train_df['대장르'].tolist()):\n",
    "    for id in ids:\n",
    "        tag_id_to_genre_big_ids[id].extend(genres)"
   ]
  },
  {
   "cell_type": "markdown",
   "id": "0c17971c",
   "metadata": {},
   "source": [
    "## 대장르의 비율로 데이터 전환"
   ]
  },
  {
   "cell_type": "code",
   "execution_count": null,
   "id": "incredible-hartford",
   "metadata": {
    "ExecuteTime": {
     "end_time": "2021-11-09T08:47:29.840336Z",
     "start_time": "2021-11-09T08:47:28.666261Z"
    }
   },
   "outputs": [],
   "source": [
    "# 장르의 빈도수를 카운트해서 value를 바꿈\n",
    "\n",
    "for k,v in tag_id_to_genre_big_ids.items():\n",
    "    tag_id_to_genre_big_ids[k] = dict(Counter(v))"
   ]
  },
  {
   "cell_type": "code",
   "execution_count": null,
   "id": "9061d253",
   "metadata": {
    "ExecuteTime": {
     "end_time": "2021-11-09T08:42:39.648033Z",
     "start_time": "2021-11-09T08:42:38.668190Z"
    }
   },
   "outputs": [],
   "source": [
    "# 딕셔너리의 빈도를 min_max_scaling하고 1을 더함 -> 0이 되는것은 싫다!\n",
    "for k,value_dict in tag_id_to_genre_big_ids.items():\n",
    "    try:\n",
    "        max_val = np.max(list(value_dict.values()))\n",
    "  \n",
    "    min_val = np.min(list(value_dict.values()))\n",
    "    for key,value in value_dict.items():\n",
    "        value_dict[key] = np.round((value-min_val)/(max_val-min_val),3)"
   ]
  },
  {
   "cell_type": "markdown",
   "id": "a666e219",
   "metadata": {},
   "source": [
    "## 만든 딕셔너리를 이용해서 csr_matrix 생성"
   ]
  },
  {
   "cell_type": "code",
   "execution_count": null,
   "id": "a9ada042",
   "metadata": {
    "ExecuteTime": {
     "end_time": "2021-11-09T08:42:59.293508Z",
     "start_time": "2021-11-09T08:42:59.257514Z"
    }
   },
   "outputs": [],
   "source": [
    "# 행,열,데이터 list를 생성\n",
    "row = []\n",
    "col = []\n",
    "dat = []\n",
    "\n",
    "for k,v in tag_id_to_genre_big_ids.items():\n",
    "    for vk,vv in v.items():\n",
    "        row.append(k)\n",
    "        col.append(vk)\n",
    "        dat.append(vv)"
   ]
  },
  {
   "cell_type": "code",
   "execution_count": null,
   "id": "e30bb282",
   "metadata": {
    "ExecuteTime": {
     "end_time": "2021-11-09T08:43:27.170269Z",
     "start_time": "2021-11-09T08:43:27.152243Z"
    }
   },
   "outputs": [],
   "source": [
    "len(genre_big)"
   ]
  },
  {
   "cell_type": "code",
   "execution_count": null,
   "id": "887d40e4",
   "metadata": {
    "ExecuteTime": {
     "end_time": "2021-11-09T08:43:36.056526Z",
     "start_time": "2021-11-09T08:43:36.016524Z"
    }
   },
   "outputs": [],
   "source": [
    "# 29160의 태그의 가짓수, 224는 세부장르의 가짓수\n",
    "A = spr.csr_matrix((dat, (row, col)), shape=(29160, 31))"
   ]
  },
  {
   "cell_type": "code",
   "execution_count": null,
   "id": "6811c449",
   "metadata": {
    "ExecuteTime": {
     "end_time": "2021-11-09T08:43:36.664746Z",
     "start_time": "2021-11-09T08:43:36.646627Z"
    }
   },
   "outputs": [],
   "source": [
    "# 자료형 변경\n",
    "A = A.astype(float)"
   ]
  },
  {
   "cell_type": "code",
   "execution_count": null,
   "id": "virgin-outside",
   "metadata": {
    "ExecuteTime": {
     "end_time": "2021-11-09T08:43:37.678672Z",
     "start_time": "2021-11-09T08:43:37.609459Z"
    }
   },
   "outputs": [],
   "source": [
    "# csr_matrix를 저장\n",
    "spr.save_npz('./data/tag_genreb_csr.npz',A)"
   ]
  },
  {
   "cell_type": "markdown",
   "id": "887a222b",
   "metadata": {},
   "source": [
    "# Vectorization with SVD"
   ]
  },
  {
   "cell_type": "markdown",
   "id": "a727ebe5",
   "metadata": {},
   "source": [
    "## 태그-장르 행렬의 ALS 행렬분해 수행 "
   ]
  },
  {
   "cell_type": "code",
   "execution_count": null,
   "id": "5b681ab7",
   "metadata": {
    "ExecuteTime": {
     "end_time": "2021-11-09T08:46:48.686024Z",
     "start_time": "2021-11-09T08:46:45.461022Z"
    }
   },
   "outputs": [],
   "source": [
    "als = AlternatingLeastSquares()\n",
    "als.fit(A)\n",
    "als.similar_items(tag_to_id['기분전환'])"
   ]
  },
  {
   "cell_type": "markdown",
   "id": "47328986",
   "metadata": {},
   "source": [
    "## cosine유사도를 이용해서 KNN 모델 생성"
   ]
  },
  {
   "cell_type": "code",
   "execution_count": null,
   "id": "72ef74dd",
   "metadata": {
    "ExecuteTime": {
     "end_time": "2021-11-09T07:57:02.333069Z",
     "start_time": "2021-11-09T07:55:07.549510Z"
    }
   },
   "outputs": [],
   "source": [
    "# 100차원으로 index 생성 및 초기화\n",
    "svd_p = hnswlib.Index(space='cosine', dim=dim)  \n",
    "svd_p.init_index(max_elements=data_len, ef_construction=100, M=100)\n",
    "\n",
    "# 짐재행렬 추가\n",
    "svd_p.add_items(svd_vectors,np.arange(data_len))"
   ]
  },
  {
   "cell_type": "code",
   "execution_count": null,
   "id": "c35ccee7",
   "metadata": {
    "ExecuteTime": {
     "end_time": "2021-11-09T07:57:02.525015Z",
     "start_time": "2021-11-09T07:57:02.336013Z"
    }
   },
   "outputs": [],
   "source": [
    "#svd knn모델 저장\n",
    "with open('./data/svd_knn_model.pickle', 'wb') as f:\n",
    "    pickle.dump(svd_p,f)"
   ]
  },
  {
   "cell_type": "code",
   "execution_count": null,
   "id": "inclusive-cause",
   "metadata": {
    "ExecuteTime": {
     "end_time": "2021-11-09T07:57:02.572429Z",
     "start_time": "2021-11-09T07:57:02.527432Z"
    }
   },
   "outputs": [],
   "source": [
    "# svd tag의 벡터들을 저장\n",
    "with open('./data/svd_tag_vectors.pickle', 'wb') as f:\n",
    "    pickle.dump(svd_vectors,f)"
   ]
  },
  {
   "cell_type": "code",
   "execution_count": null,
   "id": "6e4f89cc",
   "metadata": {
    "ExecuteTime": {
     "end_time": "2021-11-09T07:57:02.588427Z",
     "start_time": "2021-11-09T07:57:02.578429Z"
    }
   },
   "outputs": [],
   "source": [
    "# svd_knn_model로 태그를 예측하여 예측된 결과의 list를 저장하는 함수\n",
    "\n",
    "def tag_svd(x):\n",
    "    target_ids = [tag_to_id[t] for t in x]\n",
    "    \n",
    "    vectors = np.zeros((100,1))\n",
    "    \n",
    "    for id in target_ids:\n",
    "        vectors = vectors+svd_vectors[id]\n",
    "    \n",
    "    labels, distances = svd_p.knn_query(vectors/len(target_ids), k = 10+len(x))\n",
    "\n",
    "    ids = [label for label in labels[0]]\n",
    "    \n",
    "    return list(set([id_to_tag[tag] for tag in ids])-set(x))"
   ]
  },
  {
   "cell_type": "code",
   "execution_count": null,
   "id": "8229231a",
   "metadata": {
    "ExecuteTime": {
     "end_time": "2021-11-09T07:57:29.001945Z",
     "start_time": "2021-11-09T07:57:02.591428Z"
    }
   },
   "outputs": [],
   "source": [
    "# 예측수행\n",
    "cal_tag_hit_df['svd_예측결과'] = cal_tag_hit_df['예측용태그'].map(tag_svd)\n",
    "cal_tag_hit_df.head()"
   ]
  },
  {
   "cell_type": "code",
   "execution_count": null,
   "id": "6650697c",
   "metadata": {
    "ExecuteTime": {
     "end_time": "2021-11-09T07:57:29.017960Z",
     "start_time": "2021-11-09T07:57:29.004946Z"
    }
   },
   "outputs": [],
   "source": [
    "val_tag = cal_tag_hit_df['검증용태그'].tolist()\n",
    "svd_tag = cal_tag_hit_df['svd_예측결과'].tolist()"
   ]
  },
  {
   "cell_type": "code",
   "execution_count": null,
   "id": "e26fd484",
   "metadata": {
    "ExecuteTime": {
     "end_time": "2021-11-09T07:57:29.065946Z",
     "start_time": "2021-11-09T07:57:29.019945Z"
    }
   },
   "outputs": [],
   "source": [
    "svd_hit = []\n",
    "\n",
    "for val,svd in zip(val_tag,svd_tag):\n",
    "    if len(val) == len(set(val)-set(svd)):\n",
    "        svd_hit.append(0)\n",
    "    else:\n",
    "        svd_hit.append(1)"
   ]
  },
  {
   "cell_type": "code",
   "execution_count": null,
   "id": "aab3e3ee",
   "metadata": {
    "ExecuteTime": {
     "end_time": "2021-11-09T07:57:29.081945Z",
     "start_time": "2021-11-09T07:57:29.068951Z"
    }
   },
   "outputs": [],
   "source": [
    "cal_tag_hit_df['svd_히트'] = svd_hit"
   ]
  },
  {
   "cell_type": "code",
   "execution_count": null,
   "id": "6d4c82a5",
   "metadata": {
    "ExecuteTime": {
     "end_time": "2021-11-09T07:57:29.145946Z",
     "start_time": "2021-11-09T07:57:29.089948Z"
    }
   },
   "outputs": [],
   "source": [
    "cal_tag_hit_df"
   ]
  },
  {
   "cell_type": "code",
   "execution_count": null,
   "id": "00521a2e",
   "metadata": {
    "ExecuteTime": {
     "end_time": "2021-11-09T07:57:29.241959Z",
     "start_time": "2021-11-09T07:57:29.148945Z"
    }
   },
   "outputs": [],
   "source": [
    "sum(svd_hit)/len(svd_hit)"
   ]
  },
  {
   "cell_type": "code",
   "execution_count": null,
   "id": "88dd9a7a",
   "metadata": {
    "ExecuteTime": {
     "end_time": "2021-11-09T08:10:07.504068Z",
     "start_time": "2021-11-09T08:10:07.455078Z"
    }
   },
   "outputs": [],
   "source": [
    "cal_tag_hit_df.head(30)"
   ]
  },
  {
   "cell_type": "markdown",
   "id": "da40d53a",
   "metadata": {},
   "source": [
    "## 과연 한 태그의 장르 점유율은 어떨까?"
   ]
  },
  {
   "cell_type": "code",
   "execution_count": null,
   "id": "d6370a69",
   "metadata": {
    "ExecuteTime": {
     "end_time": "2021-11-08T23:42:38.582047Z",
     "start_time": "2021-11-08T23:42:37.457856Z"
    }
   },
   "outputs": [],
   "source": [
    "# {tag_Id:genre_detail_ids}\n",
    "\n",
    "tag_id_to_genre_detail_ids = defaultdict(list)\n",
    "\n",
    "for ids,genres in zip(train_df['태그아이디'].tolist(),train_df['세부장르'].tolist()):\n",
    "    for id in ids:\n",
    "        tag_id_to_genre_detail_ids[id].extend(genres)"
   ]
  },
  {
   "cell_type": "code",
   "execution_count": null,
   "id": "7aa22539",
   "metadata": {
    "ExecuteTime": {
     "end_time": "2021-11-08T23:42:50.705048Z",
     "start_time": "2021-11-08T23:42:48.008931Z"
    }
   },
   "outputs": [],
   "source": [
    "# 장르의 빈도수를 카운트해서 value를 바꿈\n",
    "\n",
    "for k,v in tag_id_to_genre_detail_ids.items():\n",
    "    tag_id_to_genre_detail_ids[k] = dict(Counter(v))"
   ]
  },
  {
   "cell_type": "code",
   "execution_count": null,
   "id": "16806738",
   "metadata": {
    "ExecuteTime": {
     "end_time": "2021-11-08T23:42:54.864857Z",
     "start_time": "2021-11-08T23:42:54.818932Z"
    }
   },
   "outputs": [],
   "source": [
    "tag_genre_sorted = {}\n",
    "for k,v in tag_id_to_genre_detail_ids.items():\n",
    "    tag_genre_sorted[k] = sorted(tag_id_to_genre_detail_ids[k].items(),key=lambda x : x[1],reverse=True)"
   ]
  },
  {
   "cell_type": "code",
   "execution_count": null,
   "id": "b38f3a03",
   "metadata": {
    "ExecuteTime": {
     "end_time": "2021-11-08T23:42:58.990857Z",
     "start_time": "2021-11-08T23:42:58.960931Z"
    }
   },
   "outputs": [],
   "source": [
    "genre_counts = []\n",
    "\n",
    "for k,v in tag_genre_sorted.items():\n",
    "    genre_counts.append([count for id,count in v])"
   ]
  },
  {
   "cell_type": "code",
   "execution_count": null,
   "id": "b7b20e8f",
   "metadata": {
    "ExecuteTime": {
     "end_time": "2021-11-08T23:43:03.372974Z",
     "start_time": "2021-11-08T23:43:03.229856Z"
    }
   },
   "outputs": [],
   "source": [
    "genre_skew = list(map(lambda x : skew(x),genre_counts))"
   ]
  },
  {
   "cell_type": "code",
   "execution_count": null,
   "id": "4a74e9a8",
   "metadata": {
    "ExecuteTime": {
     "end_time": "2021-11-09T03:17:31.992893Z",
     "start_time": "2021-11-09T03:17:31.832901Z"
    }
   },
   "outputs": [],
   "source": [
    "genre_kurtosis = list(map(lambda x : kurtosis(x),genre_counts))"
   ]
  },
  {
   "cell_type": "code",
   "execution_count": null,
   "id": "392e5b7c",
   "metadata": {
    "ExecuteTime": {
     "end_time": "2021-11-09T01:22:46.256875Z",
     "start_time": "2021-11-09T01:22:46.248004Z"
    }
   },
   "outputs": [],
   "source": [
    "skew(genre_counts[2])"
   ]
  },
  {
   "cell_type": "code",
   "execution_count": null,
   "id": "380d0a6a",
   "metadata": {
    "ExecuteTime": {
     "end_time": "2021-11-09T03:27:04.893782Z",
     "start_time": "2021-11-09T03:27:04.877777Z"
    }
   },
   "outputs": [],
   "source": [
    "np.median(genre_counts[2])"
   ]
  },
  {
   "cell_type": "code",
   "execution_count": null,
   "id": "37bd3ca7",
   "metadata": {
    "ExecuteTime": {
     "end_time": "2021-11-09T03:17:40.709466Z",
     "start_time": "2021-11-09T03:17:40.698449Z"
    }
   },
   "outputs": [],
   "source": [
    "max(genre_kurtosis), min(genre_kurtosis)"
   ]
  },
  {
   "cell_type": "code",
   "execution_count": null,
   "id": "b3facc80",
   "metadata": {
    "ExecuteTime": {
     "end_time": "2021-11-09T03:18:24.705581Z",
     "start_time": "2021-11-09T03:18:24.686499Z"
    }
   },
   "outputs": [],
   "source": [
    "np.median(genre_kurtosis)"
   ]
  },
  {
   "cell_type": "code",
   "execution_count": null,
   "id": "27da3fbe",
   "metadata": {
    "ExecuteTime": {
     "end_time": "2021-11-09T03:20:22.800900Z",
     "start_time": "2021-11-09T03:20:22.783912Z"
    }
   },
   "outputs": [],
   "source": [
    "genre_kurtosis.index(min(genre_kurtosis))"
   ]
  },
  {
   "cell_type": "code",
   "execution_count": null,
   "id": "c6a5e7d5",
   "metadata": {},
   "outputs": [],
   "source": [
    "genre_kurtosis"
   ]
  },
  {
   "cell_type": "code",
   "execution_count": null,
   "id": "08c4be03",
   "metadata": {
    "ExecuteTime": {
     "end_time": "2021-11-08T23:43:12.407859Z",
     "start_time": "2021-11-08T23:43:12.393856Z"
    }
   },
   "outputs": [],
   "source": [
    "len(genre_skew)"
   ]
  },
  {
   "cell_type": "code",
   "execution_count": null,
   "id": "d2fc7187",
   "metadata": {
    "ExecuteTime": {
     "end_time": "2021-11-09T03:20:59.609471Z",
     "start_time": "2021-11-09T03:20:59.481472Z"
    }
   },
   "outputs": [],
   "source": [
    "#sns.kdeplot([(x-np.mean(genre_counts[0]))/np.std(genre_counts[0]) for x in genre_counts[0]],shade=True)\n",
    "#sns.kdeplot(np.random.normal(),shade=True)\n",
    "#np.mean(genre_counts[2])\n",
    "\n",
    "#ax = sns.kdeplot(genre_counts[2],shade=False,color='crimson')\n",
    "ax = sns.distplot(genre_counts[1099],color='crimson')\n",
    "kdeline = ax.lines[0]\n",
    "mean = np.mean(genre_counts[1099])\n",
    "xs = kdeline.get_xdata()\n",
    "ys = kdeline.get_ydata()\n",
    "height = np.interp(mean,xs,ys)\n",
    "ax.vlines(mean,0,height,color='crimson',ls=':')\n",
    "ax.fill_between(xs,0,ys,facecolor='crimson',alpha=0.2)\n",
    "plt.show()\n",
    "print(f' 평균 : {mean}  왜도: {skew(genre_counts[1099])} 첨도: {kurtosis(genre_counts[1099])}')"
   ]
  },
  {
   "cell_type": "code",
   "execution_count": null,
   "id": "15f7796e",
   "metadata": {
    "ExecuteTime": {
     "end_time": "2021-11-09T03:21:32.547249Z",
     "start_time": "2021-11-09T03:21:32.533250Z"
    }
   },
   "outputs": [],
   "source": [
    "id_to_tag[1099]"
   ]
  },
  {
   "cell_type": "code",
   "execution_count": null,
   "id": "70447b92",
   "metadata": {
    "ExecuteTime": {
     "end_time": "2021-11-09T03:22:21.294950Z",
     "start_time": "2021-11-09T03:22:21.290874Z"
    }
   },
   "outputs": [],
   "source": [
    "tag_id_to_genre_big_ids[2]"
   ]
  },
  {
   "cell_type": "code",
   "execution_count": null,
   "id": "ffb2cf08",
   "metadata": {
    "ExecuteTime": {
     "end_time": "2021-11-09T02:07:16.993740Z",
     "start_time": "2021-11-09T02:07:16.408671Z"
    }
   },
   "outputs": [],
   "source": [
    "genre_counts_pie = []\n",
    "\n",
    "genre_counts_pie.extend(genre_counts[2])\n",
    "genre_counts_pie.append(np.sum(genre_counts[2][10:]))\n",
    "\n",
    "plt.pie(genre_counts_pie)\n",
    "\n",
    "plt.show()"
   ]
  },
  {
   "cell_type": "markdown",
   "id": "2918ec64",
   "metadata": {},
   "source": [
    "# 과연 한 태그의 대장르의 분포가 치우쳐져 있을까?"
   ]
  },
  {
   "cell_type": "code",
   "execution_count": null,
   "id": "352a67f0",
   "metadata": {
    "ExecuteTime": {
     "end_time": "2021-11-09T02:16:24.857531Z",
     "start_time": "2021-11-09T02:16:24.251474Z"
    }
   },
   "outputs": [],
   "source": [
    "# {tag_Id:genre_big_ids}\n",
    "\n",
    "tag_id_to_genre_big_ids = defaultdict(list)\n",
    "\n",
    "for ids,genres in zip(train_df['태그아이디'].tolist(),train_df['대장르'].tolist()):\n",
    "    for id in ids:\n",
    "        tag_id_to_genre_big_ids[id].extend(genres)"
   ]
  },
  {
   "cell_type": "code",
   "execution_count": null,
   "id": "8aea2a30",
   "metadata": {
    "ExecuteTime": {
     "end_time": "2021-11-09T02:17:18.154875Z",
     "start_time": "2021-11-09T02:17:17.112192Z"
    }
   },
   "outputs": [],
   "source": [
    "# 대장르의 빈도수를 카운트해서 value를 바꿈\n",
    "\n",
    "for k,v in tag_id_to_genre_big_ids.items():\n",
    "    tag_id_to_genre_big_ids[k] = dict(Counter(v))"
   ]
  },
  {
   "cell_type": "code",
   "execution_count": null,
   "id": "eca9ed14",
   "metadata": {
    "ExecuteTime": {
     "end_time": "2021-11-09T02:17:49.805690Z",
     "start_time": "2021-11-09T02:17:49.785701Z"
    }
   },
   "outputs": [],
   "source": [
    "tag_big_genre_sorted = {}\n",
    "for k,v in tag_id_to_genre_big_ids.items():\n",
    "    tag_big_genre_sorted[k] = sorted(tag_id_to_genre_big_ids[k].items(),key=lambda x : x[1],reverse=True)"
   ]
  },
  {
   "cell_type": "code",
   "execution_count": null,
   "id": "301d55a6",
   "metadata": {
    "ExecuteTime": {
     "end_time": "2021-11-09T02:18:08.729579Z",
     "start_time": "2021-11-09T02:18:08.714580Z"
    }
   },
   "outputs": [],
   "source": [
    "big_genre_counts = []\n",
    "\n",
    "for k,v in tag_big_genre_sorted.items():\n",
    "    big_genre_counts.append([count for id,count in v])"
   ]
  },
  {
   "cell_type": "code",
   "execution_count": null,
   "id": "70ec90f9",
   "metadata": {
    "ExecuteTime": {
     "end_time": "2021-11-09T02:19:52.000150Z",
     "start_time": "2021-11-09T02:19:51.859067Z"
    }
   },
   "outputs": [],
   "source": [
    "big_genre_counts_pie = []\n",
    "\n",
    "big_genre_counts_pie.extend(big_genre_counts[2])\n",
    "#big_genre_counts_pie.append(np.sum(big_genre_counts[2][5:]))\n",
    "\n",
    "plt.pie(big_genre_counts_pie)\n",
    "\n",
    "plt.show()"
   ]
  },
  {
   "cell_type": "markdown",
   "id": "eea0d1a2",
   "metadata": {},
   "source": [
    "# 과연 플레이리스트안의 세부장르의 분포는?"
   ]
  },
  {
   "cell_type": "code",
   "execution_count": null,
   "id": "bf5fa4b3",
   "metadata": {
    "ExecuteTime": {
     "end_time": "2021-11-09T01:49:21.656456Z",
     "start_time": "2021-11-09T01:49:21.647549Z"
    }
   },
   "outputs": [],
   "source": [
    "train_df['새플리아이디'] = train_df.index\n",
    "train_df.head(1)"
   ]
  },
  {
   "cell_type": "code",
   "execution_count": null,
   "id": "7ded5c0a",
   "metadata": {
    "ExecuteTime": {
     "end_time": "2021-11-09T01:50:08.710073Z",
     "start_time": "2021-11-09T01:50:08.408937Z"
    }
   },
   "outputs": [],
   "source": [
    "p_id_to_genre_detail_ids = defaultdict(list)\n",
    "\n",
    "for id,genres in zip(train_df['새플리아이디'].tolist(),train_df['세부장르'].tolist()):\n",
    "    p_id_to_genre_detail_ids[id].extend(genres)"
   ]
  },
  {
   "cell_type": "code",
   "execution_count": null,
   "id": "4e508bef",
   "metadata": {
    "ExecuteTime": {
     "end_time": "2021-11-09T01:51:06.892844Z",
     "start_time": "2021-11-09T01:51:06.038896Z"
    }
   },
   "outputs": [],
   "source": [
    "# 장르의 빈도수를 카운트해서 value를 바꿈\n",
    "\n",
    "for k,v in p_id_to_genre_detail_ids.items():\n",
    "    p_id_to_genre_detail_ids[k] = dict(Counter(v))"
   ]
  },
  {
   "cell_type": "code",
   "execution_count": null,
   "id": "5341aa26",
   "metadata": {
    "ExecuteTime": {
     "end_time": "2021-11-09T01:51:30.049298Z",
     "start_time": "2021-11-09T01:51:29.685664Z"
    }
   },
   "outputs": [],
   "source": [
    "p_genre_sorted = {}\n",
    "for k,v in p_id_to_genre_detail_ids.items():\n",
    "    p_genre_sorted[k] = sorted(p_id_to_genre_detail_ids[k].items(),key=lambda x : x[1],reverse=True)"
   ]
  },
  {
   "cell_type": "code",
   "execution_count": null,
   "id": "eb779d0b",
   "metadata": {
    "ExecuteTime": {
     "end_time": "2021-11-09T01:51:44.146148Z",
     "start_time": "2021-11-09T01:51:43.987156Z"
    }
   },
   "outputs": [],
   "source": [
    "p_genre_counts = []\n",
    "\n",
    "for k,v in p_genre_sorted.items():\n",
    "    p_genre_counts.append([count for id,count in v])"
   ]
  },
  {
   "cell_type": "code",
   "execution_count": null,
   "id": "13fdf478",
   "metadata": {
    "ExecuteTime": {
     "end_time": "2021-11-09T01:52:13.028217Z",
     "start_time": "2021-11-09T01:52:05.331611Z"
    }
   },
   "outputs": [],
   "source": [
    "p_genre_skew = list(map(lambda x : skew(x),p_genre_counts))"
   ]
  },
  {
   "cell_type": "code",
   "execution_count": null,
   "id": "36cfebe2",
   "metadata": {
    "ExecuteTime": {
     "end_time": "2021-11-09T01:52:25.127819Z",
     "start_time": "2021-11-09T01:52:25.112840Z"
    }
   },
   "outputs": [],
   "source": [
    "max(p_genre_skew), min(p_genre_skew)"
   ]
  },
  {
   "cell_type": "code",
   "execution_count": null,
   "id": "d65d633a",
   "metadata": {
    "ExecuteTime": {
     "end_time": "2021-11-09T01:54:22.202008Z",
     "start_time": "2021-11-09T01:54:14.809453Z"
    }
   },
   "outputs": [],
   "source": [
    "p_genre_kurtosis = list(map(lambda x : kurtosis(x),p_genre_counts))"
   ]
  },
  {
   "cell_type": "code",
   "execution_count": null,
   "id": "0bd8f0ed",
   "metadata": {
    "ExecuteTime": {
     "end_time": "2021-11-09T01:54:32.687588Z",
     "start_time": "2021-11-09T01:54:32.680509Z"
    }
   },
   "outputs": [],
   "source": [
    "max(p_genre_kurtosis), min(p_genre_kurtosis)"
   ]
  }
 ],
 "metadata": {
  "kernelspec": {
   "display_name": "Python 3 (ipykernel)",
   "language": "python",
   "name": "python3"
  },
  "language_info": {
   "codemirror_mode": {
    "name": "ipython",
    "version": 3
   },
   "file_extension": ".py",
   "mimetype": "text/x-python",
   "name": "python",
   "nbconvert_exporter": "python",
   "pygments_lexer": "ipython3",
   "version": "3.9.6"
  },
  "toc": {
   "base_numbering": 1,
   "nav_menu": {},
   "number_sections": true,
   "sideBar": true,
   "skip_h1_title": false,
   "title_cell": "Table of Contents",
   "title_sidebar": "Contents",
   "toc_cell": false,
   "toc_position": {},
   "toc_section_display": true,
   "toc_window_display": false
  },
  "varInspector": {
   "cols": {
    "lenName": 16,
    "lenType": 16,
    "lenVar": 40
   },
   "kernels_config": {
    "python": {
     "delete_cmd_postfix": "",
     "delete_cmd_prefix": "del ",
     "library": "var_list.py",
     "varRefreshCmd": "print(var_dic_list())"
    },
    "r": {
     "delete_cmd_postfix": ") ",
     "delete_cmd_prefix": "rm(",
     "library": "var_list.r",
     "varRefreshCmd": "cat(var_dic_list()) "
    }
   },
   "types_to_exclude": [
    "module",
    "function",
    "builtin_function_or_method",
    "instance",
    "_Feature"
   ],
   "window_display": false
  }
 },
 "nbformat": 4,
 "nbformat_minor": 5
}
