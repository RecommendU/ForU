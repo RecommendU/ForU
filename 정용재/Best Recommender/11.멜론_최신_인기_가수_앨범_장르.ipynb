{
 "cells": [
  {
   "cell_type": "code",
   "execution_count": 1,
   "id": "passing-sugar",
   "metadata": {
    "ExecuteTime": {
     "end_time": "2021-09-16T06:04:51.385170Z",
     "start_time": "2021-09-16T06:04:51.168172Z"
    }
   },
   "outputs": [],
   "source": [
    "import os\n",
    "import json\n",
    "import numpy as np\n",
    "import pandas as pd\n",
    "from collections import Counter,defaultdict"
   ]
  },
  {
   "cell_type": "code",
   "execution_count": 2,
   "id": "general-teach",
   "metadata": {
    "ExecuteTime": {
     "end_time": "2021-09-16T06:04:59.936170Z",
     "start_time": "2021-09-16T06:04:51.386170Z"
    }
   },
   "outputs": [],
   "source": [
    "with open('data/train.json',encoding='utf-8-sig') as f:\n",
    "    train_dict = json.load(f)\n",
    "    \n",
    "with open('data/song_meta.json',encoding='utf-8-sig') as f:\n",
    "    song_dict = json.load(f)\n",
    "    \n",
    "with open('data/genre_gn_all.json',encoding='utf-8-sig') as f:\n",
    "    genre_dict = json.load(f)\n",
    "    \n",
    "train_df = pd.DataFrame.from_dict(train_dict)\n",
    "song_df = pd.DataFrame.from_dict(song_dict)"
   ]
  },
  {
   "cell_type": "markdown",
   "id": "tired-philippines",
   "metadata": {},
   "source": [
    "# 데이터 처리"
   ]
  },
  {
   "cell_type": "markdown",
   "id": "technical-encounter",
   "metadata": {},
   "source": [
    "## train_df 전처리"
   ]
  },
  {
   "cell_type": "code",
   "execution_count": 3,
   "id": "martial-hypothetical",
   "metadata": {
    "ExecuteTime": {
     "end_time": "2021-09-16T06:04:59.967170Z",
     "start_time": "2021-09-16T06:04:59.937171Z"
    }
   },
   "outputs": [
    {
     "data": {
      "text/html": [
       "<div>\n",
       "<style scoped>\n",
       "    .dataframe tbody tr th:only-of-type {\n",
       "        vertical-align: middle;\n",
       "    }\n",
       "\n",
       "    .dataframe tbody tr th {\n",
       "        vertical-align: top;\n",
       "    }\n",
       "\n",
       "    .dataframe thead th {\n",
       "        text-align: right;\n",
       "    }\n",
       "</style>\n",
       "<table border=\"1\" class=\"dataframe\">\n",
       "  <thead>\n",
       "    <tr style=\"text-align: right;\">\n",
       "      <th></th>\n",
       "      <th>tags</th>\n",
       "      <th>id</th>\n",
       "      <th>plylst_title</th>\n",
       "      <th>songs</th>\n",
       "      <th>like_cnt</th>\n",
       "      <th>updt_date</th>\n",
       "    </tr>\n",
       "  </thead>\n",
       "  <tbody>\n",
       "    <tr>\n",
       "      <th>0</th>\n",
       "      <td>[락]</td>\n",
       "      <td>61281</td>\n",
       "      <td>여행같은 음악</td>\n",
       "      <td>[525514, 129701, 383374, 562083, 297861, 13954...</td>\n",
       "      <td>71</td>\n",
       "      <td>2013-12-19 18:36:19.000</td>\n",
       "    </tr>\n",
       "    <tr>\n",
       "      <th>1</th>\n",
       "      <td>[추억, 회상]</td>\n",
       "      <td>10532</td>\n",
       "      <td>요즘 너 말야</td>\n",
       "      <td>[432406, 675945, 497066, 120377, 389529, 24427...</td>\n",
       "      <td>1</td>\n",
       "      <td>2014-12-02 16:19:42.000</td>\n",
       "    </tr>\n",
       "    <tr>\n",
       "      <th>2</th>\n",
       "      <td>[까페, 잔잔한]</td>\n",
       "      <td>76951</td>\n",
       "      <td>편하게, 잔잔하게 들을 수 있는 곡.-</td>\n",
       "      <td>[83116, 276692, 166267, 186301, 354465, 256598...</td>\n",
       "      <td>17</td>\n",
       "      <td>2017-08-28 07:09:34.000</td>\n",
       "    </tr>\n",
       "  </tbody>\n",
       "</table>\n",
       "</div>"
      ],
      "text/plain": [
       "        tags     id           plylst_title  \\\n",
       "0        [락]  61281                여행같은 음악   \n",
       "1   [추억, 회상]  10532                요즘 너 말야   \n",
       "2  [까페, 잔잔한]  76951  편하게, 잔잔하게 들을 수 있는 곡.-   \n",
       "\n",
       "                                               songs  like_cnt  \\\n",
       "0  [525514, 129701, 383374, 562083, 297861, 13954...        71   \n",
       "1  [432406, 675945, 497066, 120377, 389529, 24427...         1   \n",
       "2  [83116, 276692, 166267, 186301, 354465, 256598...        17   \n",
       "\n",
       "                 updt_date  \n",
       "0  2013-12-19 18:36:19.000  \n",
       "1  2014-12-02 16:19:42.000  \n",
       "2  2017-08-28 07:09:34.000  "
      ]
     },
     "execution_count": 3,
     "metadata": {},
     "output_type": "execute_result"
    }
   ],
   "source": [
    "train_df.head(3)"
   ]
  },
  {
   "cell_type": "markdown",
   "id": "instructional-harvard",
   "metadata": {},
   "source": [
    "### train_df 필요한 컬럼 추가"
   ]
  },
  {
   "cell_type": "code",
   "execution_count": 4,
   "id": "theoretical-roman",
   "metadata": {
    "ExecuteTime": {
     "end_time": "2021-09-16T06:05:00.062994Z",
     "start_time": "2021-09-16T06:04:59.968173Z"
    }
   },
   "outputs": [],
   "source": [
    "# 플레이리스트 곡수 컬럼 추가\n",
    "train_df['tags_cnt'] = train_df['tags'].map(lambda x : len(x))\n",
    "\n",
    "# 플레이리스트 태그수 컬럼 추가\n",
    "train_df['songs_cnt'] = train_df['songs'].map(lambda x : len(x))"
   ]
  },
  {
   "cell_type": "markdown",
   "id": "colonial-triple",
   "metadata": {},
   "source": [
    "### train_df 에 포함된 곡들 (중복포함,중복제거)"
   ]
  },
  {
   "cell_type": "code",
   "execution_count": 5,
   "id": "congressional-thumb",
   "metadata": {
    "ExecuteTime": {
     "end_time": "2021-09-16T06:05:00.518579Z",
     "start_time": "2021-09-16T06:05:00.063997Z"
    }
   },
   "outputs": [],
   "source": [
    "from itertools import chain\n",
    "\n",
    "# 플레이리스트 포함된 노래 중복포함\n",
    "songs_duplicate = chain.from_iterable(train_df['songs'].tolist())\n",
    "\n",
    "# 플레이리스트 포함된 노래 중복제거\n",
    "songs_unique = list(set(songs_duplicate))"
   ]
  },
  {
   "cell_type": "markdown",
   "id": "streaming-weekend",
   "metadata": {},
   "source": [
    "### train_df 에 포함된 태그들 (중복포함,중복제거)"
   ]
  },
  {
   "cell_type": "code",
   "execution_count": 6,
   "id": "specialized-associate",
   "metadata": {
    "ExecuteTime": {
     "end_time": "2021-09-16T06:05:00.580579Z",
     "start_time": "2021-09-16T06:05:00.519580Z"
    }
   },
   "outputs": [],
   "source": [
    "# 플레이리스트 포함된 태그 중복포함\n",
    "tags_duplicate = list(chain.from_iterable(train_df['tags'].tolist()))\n",
    "\n",
    "# 플레이리스트 포함된 태그 중복제거\n",
    "tags_unique = list(set(tags_duplicate))"
   ]
  },
  {
   "cell_type": "markdown",
   "id": "manual-nashville",
   "metadata": {},
   "source": [
    "### tag에 새로운 id부여, new_tags_id 컬럼 생성"
   ]
  },
  {
   "cell_type": "code",
   "execution_count": 7,
   "id": "timely-tuition",
   "metadata": {
    "ExecuteTime": {
     "end_time": "2021-09-16T06:05:00.738524Z",
     "start_time": "2021-09-16T06:05:00.581579Z"
    }
   },
   "outputs": [],
   "source": [
    "# { 태그 : 새로운id } 딕셔너리\n",
    "tag_to_id = dict(zip(tags_unique,range(0,len(tags_unique))))\n",
    "\n",
    "# { 새로운id : 태그 } 딕셔너리\n",
    "id_to_tag = dict(zip(range(0,len(tags_unique)),tags_unique))\n",
    "\n",
    "train_df['new_tags_id'] = train_df['tags'].map(lambda x : [tag_to_id[v] for v in x])"
   ]
  },
  {
   "cell_type": "markdown",
   "id": "funny-degree",
   "metadata": {},
   "source": [
    "### songs에 새로운 id부여, new_songs_id 컬럼 생성"
   ]
  },
  {
   "cell_type": "code",
   "execution_count": 8,
   "id": "municipal-munich",
   "metadata": {
    "ExecuteTime": {
     "end_time": "2021-09-16T06:05:02.160525Z",
     "start_time": "2021-09-16T06:05:00.739526Z"
    }
   },
   "outputs": [],
   "source": [
    "# { 노래 : 새로운id } 딕셔너리\n",
    "song_to_id = dict(zip(songs_unique,range(0,len(songs_unique))))\n",
    "\n",
    "# { 새로운id : 태그 } 딕셔너리\n",
    "id_to_song = dict(zip(range(0,len(songs_unique)),songs_unique))\n",
    "\n",
    "train_df['new_songs_id'] = train_df['songs'].map(lambda x : [song_to_id[v] for v in x])"
   ]
  },
  {
   "cell_type": "code",
   "execution_count": 9,
   "id": "automatic-stephen",
   "metadata": {
    "ExecuteTime": {
     "end_time": "2021-09-16T06:05:02.176525Z",
     "start_time": "2021-09-16T06:05:02.162528Z"
    }
   },
   "outputs": [
    {
     "data": {
      "text/html": [
       "<div>\n",
       "<style scoped>\n",
       "    .dataframe tbody tr th:only-of-type {\n",
       "        vertical-align: middle;\n",
       "    }\n",
       "\n",
       "    .dataframe tbody tr th {\n",
       "        vertical-align: top;\n",
       "    }\n",
       "\n",
       "    .dataframe thead th {\n",
       "        text-align: right;\n",
       "    }\n",
       "</style>\n",
       "<table border=\"1\" class=\"dataframe\">\n",
       "  <thead>\n",
       "    <tr style=\"text-align: right;\">\n",
       "      <th></th>\n",
       "      <th>tags</th>\n",
       "      <th>id</th>\n",
       "      <th>plylst_title</th>\n",
       "      <th>songs</th>\n",
       "      <th>like_cnt</th>\n",
       "      <th>updt_date</th>\n",
       "      <th>tags_cnt</th>\n",
       "      <th>songs_cnt</th>\n",
       "      <th>new_tags_id</th>\n",
       "      <th>new_songs_id</th>\n",
       "    </tr>\n",
       "  </thead>\n",
       "  <tbody>\n",
       "    <tr>\n",
       "      <th>0</th>\n",
       "      <td>[락]</td>\n",
       "      <td>61281</td>\n",
       "      <td>여행같은 음악</td>\n",
       "      <td>[525514, 129701, 383374, 562083, 297861, 13954...</td>\n",
       "      <td>71</td>\n",
       "      <td>2013-12-19 18:36:19.000</td>\n",
       "      <td>1</td>\n",
       "      <td>19</td>\n",
       "      <td>[25187]</td>\n",
       "      <td>[456704, 112732, 333158, 488440, 258853, 12127...</td>\n",
       "    </tr>\n",
       "    <tr>\n",
       "      <th>1</th>\n",
       "      <td>[추억, 회상]</td>\n",
       "      <td>10532</td>\n",
       "      <td>요즘 너 말야</td>\n",
       "      <td>[432406, 675945, 497066, 120377, 389529, 24427...</td>\n",
       "      <td>1</td>\n",
       "      <td>2014-12-02 16:19:42.000</td>\n",
       "      <td>2</td>\n",
       "      <td>42</td>\n",
       "      <td>[1886, 7966]</td>\n",
       "      <td>[375894, 587314, 431997, 104605, 338568, 21226...</td>\n",
       "    </tr>\n",
       "    <tr>\n",
       "      <th>2</th>\n",
       "      <td>[까페, 잔잔한]</td>\n",
       "      <td>76951</td>\n",
       "      <td>편하게, 잔잔하게 들을 수 있는 곡.-</td>\n",
       "      <td>[83116, 276692, 166267, 186301, 354465, 256598...</td>\n",
       "      <td>17</td>\n",
       "      <td>2017-08-28 07:09:34.000</td>\n",
       "      <td>2</td>\n",
       "      <td>28</td>\n",
       "      <td>[815, 15252]</td>\n",
       "      <td>[72132, 240434, 144495, 161861, 307991, 222934...</td>\n",
       "    </tr>\n",
       "  </tbody>\n",
       "</table>\n",
       "</div>"
      ],
      "text/plain": [
       "        tags     id           plylst_title  \\\n",
       "0        [락]  61281                여행같은 음악   \n",
       "1   [추억, 회상]  10532                요즘 너 말야   \n",
       "2  [까페, 잔잔한]  76951  편하게, 잔잔하게 들을 수 있는 곡.-   \n",
       "\n",
       "                                               songs  like_cnt  \\\n",
       "0  [525514, 129701, 383374, 562083, 297861, 13954...        71   \n",
       "1  [432406, 675945, 497066, 120377, 389529, 24427...         1   \n",
       "2  [83116, 276692, 166267, 186301, 354465, 256598...        17   \n",
       "\n",
       "                 updt_date  tags_cnt  songs_cnt   new_tags_id  \\\n",
       "0  2013-12-19 18:36:19.000         1         19       [25187]   \n",
       "1  2014-12-02 16:19:42.000         2         42  [1886, 7966]   \n",
       "2  2017-08-28 07:09:34.000         2         28  [815, 15252]   \n",
       "\n",
       "                                        new_songs_id  \n",
       "0  [456704, 112732, 333158, 488440, 258853, 12127...  \n",
       "1  [375894, 587314, 431997, 104605, 338568, 21226...  \n",
       "2  [72132, 240434, 144495, 161861, 307991, 222934...  "
      ]
     },
     "execution_count": 9,
     "metadata": {},
     "output_type": "execute_result"
    }
   ],
   "source": [
    "train_df.head(3)"
   ]
  },
  {
   "cell_type": "code",
   "execution_count": 10,
   "id": "mysterious-strand",
   "metadata": {
    "ExecuteTime": {
     "end_time": "2021-09-16T06:05:02.238525Z",
     "start_time": "2021-09-16T06:05:02.177526Z"
    }
   },
   "outputs": [
    {
     "data": {
      "text/html": [
       "<div>\n",
       "<style scoped>\n",
       "    .dataframe tbody tr th:only-of-type {\n",
       "        vertical-align: middle;\n",
       "    }\n",
       "\n",
       "    .dataframe tbody tr th {\n",
       "        vertical-align: top;\n",
       "    }\n",
       "\n",
       "    .dataframe thead th {\n",
       "        text-align: right;\n",
       "    }\n",
       "</style>\n",
       "<table border=\"1\" class=\"dataframe\">\n",
       "  <thead>\n",
       "    <tr style=\"text-align: right;\">\n",
       "      <th></th>\n",
       "      <th>id</th>\n",
       "      <th>plylst_title</th>\n",
       "      <th>tags</th>\n",
       "      <th>new_tags_id</th>\n",
       "      <th>songs</th>\n",
       "      <th>new_songs_id</th>\n",
       "      <th>tags_cnt</th>\n",
       "      <th>songs_cnt</th>\n",
       "      <th>like_cnt</th>\n",
       "      <th>updt_date</th>\n",
       "    </tr>\n",
       "  </thead>\n",
       "  <tbody>\n",
       "    <tr>\n",
       "      <th>0</th>\n",
       "      <td>61281</td>\n",
       "      <td>여행같은 음악</td>\n",
       "      <td>[락]</td>\n",
       "      <td>[25187]</td>\n",
       "      <td>[525514, 129701, 383374, 562083, 297861, 13954...</td>\n",
       "      <td>[456704, 112732, 333158, 488440, 258853, 12127...</td>\n",
       "      <td>1</td>\n",
       "      <td>19</td>\n",
       "      <td>71</td>\n",
       "      <td>2013-12-19 18:36:19.000</td>\n",
       "    </tr>\n",
       "    <tr>\n",
       "      <th>1</th>\n",
       "      <td>10532</td>\n",
       "      <td>요즘 너 말야</td>\n",
       "      <td>[추억, 회상]</td>\n",
       "      <td>[1886, 7966]</td>\n",
       "      <td>[432406, 675945, 497066, 120377, 389529, 24427...</td>\n",
       "      <td>[375894, 587314, 431997, 104605, 338568, 21226...</td>\n",
       "      <td>2</td>\n",
       "      <td>42</td>\n",
       "      <td>1</td>\n",
       "      <td>2014-12-02 16:19:42.000</td>\n",
       "    </tr>\n",
       "    <tr>\n",
       "      <th>2</th>\n",
       "      <td>76951</td>\n",
       "      <td>편하게, 잔잔하게 들을 수 있는 곡.-</td>\n",
       "      <td>[까페, 잔잔한]</td>\n",
       "      <td>[815, 15252]</td>\n",
       "      <td>[83116, 276692, 166267, 186301, 354465, 256598...</td>\n",
       "      <td>[72132, 240434, 144495, 161861, 307991, 222934...</td>\n",
       "      <td>2</td>\n",
       "      <td>28</td>\n",
       "      <td>17</td>\n",
       "      <td>2017-08-28 07:09:34.000</td>\n",
       "    </tr>\n",
       "  </tbody>\n",
       "</table>\n",
       "</div>"
      ],
      "text/plain": [
       "      id           plylst_title       tags   new_tags_id  \\\n",
       "0  61281                여행같은 음악        [락]       [25187]   \n",
       "1  10532                요즘 너 말야   [추억, 회상]  [1886, 7966]   \n",
       "2  76951  편하게, 잔잔하게 들을 수 있는 곡.-  [까페, 잔잔한]  [815, 15252]   \n",
       "\n",
       "                                               songs  \\\n",
       "0  [525514, 129701, 383374, 562083, 297861, 13954...   \n",
       "1  [432406, 675945, 497066, 120377, 389529, 24427...   \n",
       "2  [83116, 276692, 166267, 186301, 354465, 256598...   \n",
       "\n",
       "                                        new_songs_id  tags_cnt  songs_cnt  \\\n",
       "0  [456704, 112732, 333158, 488440, 258853, 12127...         1         19   \n",
       "1  [375894, 587314, 431997, 104605, 338568, 21226...         2         42   \n",
       "2  [72132, 240434, 144495, 161861, 307991, 222934...         2         28   \n",
       "\n",
       "   like_cnt                updt_date  \n",
       "0        71  2013-12-19 18:36:19.000  \n",
       "1         1  2014-12-02 16:19:42.000  \n",
       "2        17  2017-08-28 07:09:34.000  "
      ]
     },
     "execution_count": 10,
     "metadata": {},
     "output_type": "execute_result"
    }
   ],
   "source": [
    "train_df = train_df[['id','plylst_title','tags','new_tags_id','songs','new_songs_id','tags_cnt','songs_cnt','like_cnt','updt_date']]\n",
    "train_df.head(3)"
   ]
  },
  {
   "cell_type": "code",
   "execution_count": 11,
   "id": "written-scale",
   "metadata": {
    "ExecuteTime": {
     "end_time": "2021-09-16T06:05:02.254525Z",
     "start_time": "2021-09-16T06:05:02.239526Z"
    }
   },
   "outputs": [
    {
     "data": {
      "text/html": [
       "<div>\n",
       "<style scoped>\n",
       "    .dataframe tbody tr th:only-of-type {\n",
       "        vertical-align: middle;\n",
       "    }\n",
       "\n",
       "    .dataframe tbody tr th {\n",
       "        vertical-align: top;\n",
       "    }\n",
       "\n",
       "    .dataframe thead th {\n",
       "        text-align: right;\n",
       "    }\n",
       "</style>\n",
       "<table border=\"1\" class=\"dataframe\">\n",
       "  <thead>\n",
       "    <tr style=\"text-align: right;\">\n",
       "      <th></th>\n",
       "      <th>플리_id</th>\n",
       "      <th>플리제목</th>\n",
       "      <th>태그</th>\n",
       "      <th>새태그_id</th>\n",
       "      <th>노래_id</th>\n",
       "      <th>새노래_id</th>\n",
       "      <th>태그수</th>\n",
       "      <th>노래수</th>\n",
       "      <th>좋아요수</th>\n",
       "      <th>갱신일</th>\n",
       "    </tr>\n",
       "  </thead>\n",
       "  <tbody>\n",
       "    <tr>\n",
       "      <th>0</th>\n",
       "      <td>61281</td>\n",
       "      <td>여행같은 음악</td>\n",
       "      <td>[락]</td>\n",
       "      <td>[25187]</td>\n",
       "      <td>[525514, 129701, 383374, 562083, 297861, 13954...</td>\n",
       "      <td>[456704, 112732, 333158, 488440, 258853, 12127...</td>\n",
       "      <td>1</td>\n",
       "      <td>19</td>\n",
       "      <td>71</td>\n",
       "      <td>2013-12-19 18:36:19.000</td>\n",
       "    </tr>\n",
       "    <tr>\n",
       "      <th>1</th>\n",
       "      <td>10532</td>\n",
       "      <td>요즘 너 말야</td>\n",
       "      <td>[추억, 회상]</td>\n",
       "      <td>[1886, 7966]</td>\n",
       "      <td>[432406, 675945, 497066, 120377, 389529, 24427...</td>\n",
       "      <td>[375894, 587314, 431997, 104605, 338568, 21226...</td>\n",
       "      <td>2</td>\n",
       "      <td>42</td>\n",
       "      <td>1</td>\n",
       "      <td>2014-12-02 16:19:42.000</td>\n",
       "    </tr>\n",
       "    <tr>\n",
       "      <th>2</th>\n",
       "      <td>76951</td>\n",
       "      <td>편하게, 잔잔하게 들을 수 있는 곡.-</td>\n",
       "      <td>[까페, 잔잔한]</td>\n",
       "      <td>[815, 15252]</td>\n",
       "      <td>[83116, 276692, 166267, 186301, 354465, 256598...</td>\n",
       "      <td>[72132, 240434, 144495, 161861, 307991, 222934...</td>\n",
       "      <td>2</td>\n",
       "      <td>28</td>\n",
       "      <td>17</td>\n",
       "      <td>2017-08-28 07:09:34.000</td>\n",
       "    </tr>\n",
       "  </tbody>\n",
       "</table>\n",
       "</div>"
      ],
      "text/plain": [
       "   플리_id                   플리제목         태그        새태그_id  \\\n",
       "0  61281                여행같은 음악        [락]       [25187]   \n",
       "1  10532                요즘 너 말야   [추억, 회상]  [1886, 7966]   \n",
       "2  76951  편하게, 잔잔하게 들을 수 있는 곡.-  [까페, 잔잔한]  [815, 15252]   \n",
       "\n",
       "                                               노래_id  \\\n",
       "0  [525514, 129701, 383374, 562083, 297861, 13954...   \n",
       "1  [432406, 675945, 497066, 120377, 389529, 24427...   \n",
       "2  [83116, 276692, 166267, 186301, 354465, 256598...   \n",
       "\n",
       "                                              새노래_id  태그수  노래수  좋아요수  \\\n",
       "0  [456704, 112732, 333158, 488440, 258853, 12127...    1   19    71   \n",
       "1  [375894, 587314, 431997, 104605, 338568, 21226...    2   42     1   \n",
       "2  [72132, 240434, 144495, 161861, 307991, 222934...    2   28    17   \n",
       "\n",
       "                       갱신일  \n",
       "0  2013-12-19 18:36:19.000  \n",
       "1  2014-12-02 16:19:42.000  \n",
       "2  2017-08-28 07:09:34.000  "
      ]
     },
     "execution_count": 11,
     "metadata": {},
     "output_type": "execute_result"
    }
   ],
   "source": [
    "train_df.columns = ['플리_id','플리제목','태그','새태그_id','노래_id','새노래_id','태그수','노래수','좋아요수','갱신일']\n",
    "train_df.head(3)"
   ]
  },
  {
   "cell_type": "markdown",
   "id": "bacterial-ballet",
   "metadata": {},
   "source": [
    "## 변수 정리"
   ]
  },
  {
   "cell_type": "markdown",
   "id": "respective-parent",
   "metadata": {
    "ExecuteTime": {
     "end_time": "2021-09-14T06:33:14.458608Z",
     "start_time": "2021-09-14T06:33:14.447595Z"
    }
   },
   "source": [
    "<현재>\n",
    "\n",
    "- tags_duplicate : 태그 중복 포함 리스트\n",
    "- tags_unique : 태그 중복 제거 리스트\n",
    "- songs_duplicate : 노래 중복 포함 리스트\n",
    "- songs_unique : 노래 중복 제거 리스트\n",
    " \n",
    "- tag_to_id : { 태그 : 새로운id } 딕셔너리\n",
    "- id_to_tag : { 새로운id : 태그 } 딕셔너리\n",
    "- song_to_id : { 노래 : 새로운id } 딕셔너리\n",
    "- id_to_song : { 새로운id : 노래 } 딕셔너리"
   ]
  },
  {
   "cell_type": "markdown",
   "id": "about-chick",
   "metadata": {},
   "source": [
    "## song_df 전처리\n",
    "\n",
    "- 칼럼명 한글화\n",
    "- 수정날짜 데이터 변환\n",
    "- 필요한 딕셔너리 생성"
   ]
  },
  {
   "cell_type": "code",
   "execution_count": 12,
   "id": "electric-making",
   "metadata": {
    "ExecuteTime": {
     "end_time": "2021-09-16T06:05:02.269525Z",
     "start_time": "2021-09-16T06:05:02.255526Z"
    }
   },
   "outputs": [
    {
     "data": {
      "text/html": [
       "<div>\n",
       "<style scoped>\n",
       "    .dataframe tbody tr th:only-of-type {\n",
       "        vertical-align: middle;\n",
       "    }\n",
       "\n",
       "    .dataframe tbody tr th {\n",
       "        vertical-align: top;\n",
       "    }\n",
       "\n",
       "    .dataframe thead th {\n",
       "        text-align: right;\n",
       "    }\n",
       "</style>\n",
       "<table border=\"1\" class=\"dataframe\">\n",
       "  <thead>\n",
       "    <tr style=\"text-align: right;\">\n",
       "      <th></th>\n",
       "      <th>song_gn_dtl_gnr_basket</th>\n",
       "      <th>issue_date</th>\n",
       "      <th>album_name</th>\n",
       "      <th>album_id</th>\n",
       "      <th>artist_id_basket</th>\n",
       "      <th>song_name</th>\n",
       "      <th>song_gn_gnr_basket</th>\n",
       "      <th>artist_name_basket</th>\n",
       "      <th>id</th>\n",
       "    </tr>\n",
       "  </thead>\n",
       "  <tbody>\n",
       "    <tr>\n",
       "      <th>0</th>\n",
       "      <td>[GN0901]</td>\n",
       "      <td>20140512</td>\n",
       "      <td>불후의 명곡 - 7080 추억의 얄개시대 팝송베스트</td>\n",
       "      <td>2255639</td>\n",
       "      <td>[2727]</td>\n",
       "      <td>Feelings</td>\n",
       "      <td>[GN0900]</td>\n",
       "      <td>[Various Artists]</td>\n",
       "      <td>0</td>\n",
       "    </tr>\n",
       "    <tr>\n",
       "      <th>1</th>\n",
       "      <td>[GN1601, GN1606]</td>\n",
       "      <td>20080421</td>\n",
       "      <td>Bach : Partitas Nos. 2, 3 &amp; 4</td>\n",
       "      <td>376431</td>\n",
       "      <td>[29966]</td>\n",
       "      <td>Bach : Partita No. 4 In D Major, BWV 828 - II....</td>\n",
       "      <td>[GN1600]</td>\n",
       "      <td>[Murray Perahia]</td>\n",
       "      <td>1</td>\n",
       "    </tr>\n",
       "    <tr>\n",
       "      <th>2</th>\n",
       "      <td>[GN0901]</td>\n",
       "      <td>20180518</td>\n",
       "      <td>Hit</td>\n",
       "      <td>4698747</td>\n",
       "      <td>[3361]</td>\n",
       "      <td>Solsbury Hill (Remastered 2002)</td>\n",
       "      <td>[GN0900]</td>\n",
       "      <td>[Peter Gabriel]</td>\n",
       "      <td>2</td>\n",
       "    </tr>\n",
       "  </tbody>\n",
       "</table>\n",
       "</div>"
      ],
      "text/plain": [
       "  song_gn_dtl_gnr_basket issue_date                     album_name  album_id  \\\n",
       "0               [GN0901]   20140512   불후의 명곡 - 7080 추억의 얄개시대 팝송베스트   2255639   \n",
       "1       [GN1601, GN1606]   20080421  Bach : Partitas Nos. 2, 3 & 4    376431   \n",
       "2               [GN0901]   20180518                            Hit   4698747   \n",
       "\n",
       "  artist_id_basket                                          song_name  \\\n",
       "0           [2727]                                           Feelings   \n",
       "1          [29966]  Bach : Partita No. 4 In D Major, BWV 828 - II....   \n",
       "2           [3361]                    Solsbury Hill (Remastered 2002)   \n",
       "\n",
       "  song_gn_gnr_basket artist_name_basket  id  \n",
       "0           [GN0900]  [Various Artists]   0  \n",
       "1           [GN1600]   [Murray Perahia]   1  \n",
       "2           [GN0900]    [Peter Gabriel]   2  "
      ]
     },
     "execution_count": 12,
     "metadata": {},
     "output_type": "execute_result"
    }
   ],
   "source": [
    "song_df.head(3)"
   ]
  },
  {
   "cell_type": "code",
   "execution_count": 13,
   "id": "annoying-heater",
   "metadata": {
    "ExecuteTime": {
     "end_time": "2021-09-16T06:05:02.394525Z",
     "start_time": "2021-09-16T06:05:02.270526Z"
    }
   },
   "outputs": [
    {
     "data": {
      "text/html": [
       "<div>\n",
       "<style scoped>\n",
       "    .dataframe tbody tr th:only-of-type {\n",
       "        vertical-align: middle;\n",
       "    }\n",
       "\n",
       "    .dataframe tbody tr th {\n",
       "        vertical-align: top;\n",
       "    }\n",
       "\n",
       "    .dataframe thead th {\n",
       "        text-align: right;\n",
       "    }\n",
       "</style>\n",
       "<table border=\"1\" class=\"dataframe\">\n",
       "  <thead>\n",
       "    <tr style=\"text-align: right;\">\n",
       "      <th></th>\n",
       "      <th>노래ID</th>\n",
       "      <th>노래명</th>\n",
       "      <th>앨범ID</th>\n",
       "      <th>앨범명</th>\n",
       "      <th>가수ID</th>\n",
       "      <th>가수이름</th>\n",
       "      <th>장르_대분류</th>\n",
       "      <th>장르_소분류</th>\n",
       "      <th>수정날짜</th>\n",
       "    </tr>\n",
       "  </thead>\n",
       "  <tbody>\n",
       "    <tr>\n",
       "      <th>0</th>\n",
       "      <td>0</td>\n",
       "      <td>Feelings</td>\n",
       "      <td>2255639</td>\n",
       "      <td>불후의 명곡 - 7080 추억의 얄개시대 팝송베스트</td>\n",
       "      <td>[2727]</td>\n",
       "      <td>[Various Artists]</td>\n",
       "      <td>[GN0900]</td>\n",
       "      <td>[GN0901]</td>\n",
       "      <td>20140512</td>\n",
       "    </tr>\n",
       "    <tr>\n",
       "      <th>1</th>\n",
       "      <td>1</td>\n",
       "      <td>Bach : Partita No. 4 In D Major, BWV 828 - II....</td>\n",
       "      <td>376431</td>\n",
       "      <td>Bach : Partitas Nos. 2, 3 &amp; 4</td>\n",
       "      <td>[29966]</td>\n",
       "      <td>[Murray Perahia]</td>\n",
       "      <td>[GN1600]</td>\n",
       "      <td>[GN1601, GN1606]</td>\n",
       "      <td>20080421</td>\n",
       "    </tr>\n",
       "    <tr>\n",
       "      <th>2</th>\n",
       "      <td>2</td>\n",
       "      <td>Solsbury Hill (Remastered 2002)</td>\n",
       "      <td>4698747</td>\n",
       "      <td>Hit</td>\n",
       "      <td>[3361]</td>\n",
       "      <td>[Peter Gabriel]</td>\n",
       "      <td>[GN0900]</td>\n",
       "      <td>[GN0901]</td>\n",
       "      <td>20180518</td>\n",
       "    </tr>\n",
       "  </tbody>\n",
       "</table>\n",
       "</div>"
      ],
      "text/plain": [
       "   노래ID                                                노래명     앨범ID  \\\n",
       "0     0                                           Feelings  2255639   \n",
       "1     1  Bach : Partita No. 4 In D Major, BWV 828 - II....   376431   \n",
       "2     2                    Solsbury Hill (Remastered 2002)  4698747   \n",
       "\n",
       "                             앨범명     가수ID               가수이름    장르_대분류  \\\n",
       "0   불후의 명곡 - 7080 추억의 얄개시대 팝송베스트   [2727]  [Various Artists]  [GN0900]   \n",
       "1  Bach : Partitas Nos. 2, 3 & 4  [29966]   [Murray Perahia]  [GN1600]   \n",
       "2                            Hit   [3361]    [Peter Gabriel]  [GN0900]   \n",
       "\n",
       "             장르_소분류      수정날짜  \n",
       "0          [GN0901]  20140512  \n",
       "1  [GN1601, GN1606]  20080421  \n",
       "2          [GN0901]  20180518  "
      ]
     },
     "execution_count": 13,
     "metadata": {},
     "output_type": "execute_result"
    }
   ],
   "source": [
    "# 컬럼명 변환\n",
    "\n",
    "song_df.columns = ['장르_소분류','수정날짜','앨범명','앨범ID','가수ID','노래명','장르_대분류','가수이름','노래ID']\n",
    "song_df = song_df[['노래ID','노래명','앨범ID','앨범명','가수ID','가수이름','장르_대분류','장르_소분류','수정날짜']]\n",
    "song_df.head(3)"
   ]
  },
  {
   "cell_type": "code",
   "execution_count": 14,
   "id": "a0870078",
   "metadata": {
    "ExecuteTime": {
     "end_time": "2021-09-16T06:05:02.770539Z",
     "start_time": "2021-09-16T06:05:02.395525Z"
    }
   },
   "outputs": [],
   "source": [
    "songid_singer_dict = dict(zip(song_df['노래ID'].tolist(),song_df['가수이름'].tolist()))\n",
    "songid_genre_b_dict = dict(zip(song_df['노래ID'].tolist(),song_df['장르_대분류'].tolist()))\n",
    "songid_genre_d_dict = dict(zip(song_df['노래ID'].tolist(),song_df['장르_소분류'].tolist()))"
   ]
  },
  {
   "cell_type": "code",
   "execution_count": 15,
   "id": "split-convenience",
   "metadata": {
    "ExecuteTime": {
     "end_time": "2021-09-16T06:05:04.068543Z",
     "start_time": "2021-09-16T06:05:02.771544Z"
    }
   },
   "outputs": [
    {
     "data": {
      "text/html": [
       "<div>\n",
       "<style scoped>\n",
       "    .dataframe tbody tr th:only-of-type {\n",
       "        vertical-align: middle;\n",
       "    }\n",
       "\n",
       "    .dataframe tbody tr th {\n",
       "        vertical-align: top;\n",
       "    }\n",
       "\n",
       "    .dataframe thead th {\n",
       "        text-align: right;\n",
       "    }\n",
       "</style>\n",
       "<table border=\"1\" class=\"dataframe\">\n",
       "  <thead>\n",
       "    <tr style=\"text-align: right;\">\n",
       "      <th></th>\n",
       "      <th>노래ID</th>\n",
       "      <th>노래명</th>\n",
       "      <th>앨범ID</th>\n",
       "      <th>앨범명</th>\n",
       "      <th>가수ID</th>\n",
       "      <th>가수이름</th>\n",
       "      <th>장르_대분류</th>\n",
       "      <th>장르_소분류</th>\n",
       "      <th>수정날짜</th>\n",
       "    </tr>\n",
       "  </thead>\n",
       "  <tbody>\n",
       "    <tr>\n",
       "      <th>448286</th>\n",
       "      <td>448286</td>\n",
       "      <td>여수 바다 (Yeosu sea)</td>\n",
       "      <td>10403230</td>\n",
       "      <td>고요한 밤바다 구경하기 [여수 바다]</td>\n",
       "      <td>[2737142]</td>\n",
       "      <td>[무드홀릭 (Moodholic)]</td>\n",
       "      <td>[GN1800]</td>\n",
       "      <td>[GN1801]</td>\n",
       "      <td>20220113</td>\n",
       "    </tr>\n",
       "    <tr>\n",
       "      <th>141185</th>\n",
       "      <td>141185</td>\n",
       "      <td>잔잔한 바람이 불어와 (There is a gentle breeze)</td>\n",
       "      <td>10403230</td>\n",
       "      <td>고요한 밤바다 구경하기 [여수 바다]</td>\n",
       "      <td>[2737142]</td>\n",
       "      <td>[무드홀릭 (Moodholic)]</td>\n",
       "      <td>[GN1800]</td>\n",
       "      <td>[GN1801]</td>\n",
       "      <td>20220113</td>\n",
       "    </tr>\n",
       "    <tr>\n",
       "      <th>419219</th>\n",
       "      <td>419219</td>\n",
       "      <td>MDKDVV (Gardons le sourire)</td>\n",
       "      <td>10420389</td>\n",
       "      <td>MDKDVV (Gardons le sourire)</td>\n",
       "      <td>[2764604]</td>\n",
       "      <td>[Bryans]</td>\n",
       "      <td>[GN1300]</td>\n",
       "      <td>[GN1301]</td>\n",
       "      <td>20200423</td>\n",
       "    </tr>\n",
       "  </tbody>\n",
       "</table>\n",
       "</div>"
      ],
      "text/plain": [
       "          노래ID                                     노래명      앨범ID  \\\n",
       "448286  448286                       여수 바다 (Yeosu sea)  10403230   \n",
       "141185  141185  잔잔한 바람이 불어와 (There is a gentle breeze)  10403230   \n",
       "419219  419219             MDKDVV (Gardons le sourire)  10420389   \n",
       "\n",
       "                                앨범명       가수ID                가수이름    장르_대분류  \\\n",
       "448286         고요한 밤바다 구경하기 [여수 바다]  [2737142]  [무드홀릭 (Moodholic)]  [GN1800]   \n",
       "141185         고요한 밤바다 구경하기 [여수 바다]  [2737142]  [무드홀릭 (Moodholic)]  [GN1800]   \n",
       "419219  MDKDVV (Gardons le sourire)  [2764604]            [Bryans]  [GN1300]   \n",
       "\n",
       "          장르_소분류      수정날짜  \n",
       "448286  [GN1801]  20220113  \n",
       "141185  [GN1801]  20220113  \n",
       "419219  [GN1301]  20200423  "
      ]
     },
     "execution_count": 15,
     "metadata": {},
     "output_type": "execute_result"
    }
   ],
   "source": [
    "song_df.sort_values(by='수정날짜',ascending=False).head(3)"
   ]
  },
  {
   "cell_type": "code",
   "execution_count": 16,
   "id": "weird-sierra",
   "metadata": {
    "ExecuteTime": {
     "end_time": "2021-09-16T06:05:04.191826Z",
     "start_time": "2021-09-16T06:05:04.069544Z"
    }
   },
   "outputs": [],
   "source": [
    "# {노래id : 노래명}을 가진 딕셔너리\n",
    "songid_songname_dict = dict(zip(song_df['노래ID'].tolist(),song_df['노래명'].tolist()))\n",
    "#songid_songname_dict"
   ]
  },
  {
   "cell_type": "code",
   "execution_count": 17,
   "id": "sealed-platform",
   "metadata": {
    "ExecuteTime": {
     "end_time": "2021-09-16T06:05:04.334857Z",
     "start_time": "2021-09-16T06:05:04.192827Z"
    }
   },
   "outputs": [],
   "source": [
    "# {노래id : 가수이름}을 가진 딕셔너리\n",
    "songid_singername_dict = dict(zip(song_df['노래ID'].tolist(),song_df['가수이름'].tolist()))"
   ]
  },
  {
   "cell_type": "code",
   "execution_count": 18,
   "id": "coordinated-swimming",
   "metadata": {
    "ExecuteTime": {
     "end_time": "2021-09-16T06:05:04.350713Z",
     "start_time": "2021-09-16T06:05:04.335857Z"
    }
   },
   "outputs": [
    {
     "data": {
      "text/plain": [
       "'2020'"
      ]
     },
     "execution_count": 18,
     "metadata": {},
     "output_type": "execute_result"
    }
   ],
   "source": [
    "# 가장 최신 곡의 날짜\n",
    "most_recent = '20200423'\n",
    "most_recent[:-4]"
   ]
  },
  {
   "cell_type": "code",
   "execution_count": 19,
   "id": "balanced-damages",
   "metadata": {
    "ExecuteTime": {
     "end_time": "2021-09-16T06:05:05.048753Z",
     "start_time": "2021-09-16T06:05:04.351713Z"
    }
   },
   "outputs": [],
   "source": [
    "# 2020년 노래만 추출\n",
    "song_19_20_df = song_df[(song_df['수정날짜'].str.startswith('2019')) | (song_df['수정날짜'].str.startswith('2020'))]"
   ]
  },
  {
   "cell_type": "code",
   "execution_count": 23,
   "id": "facial-wellington",
   "metadata": {
    "ExecuteTime": {
     "end_time": "2021-09-16T06:07:32.932524Z",
     "start_time": "2021-09-16T06:07:32.924523Z"
    }
   },
   "outputs": [],
   "source": [
    "song_19_20_df = song_19_20_df.reset_index(drop=True)"
   ]
  },
  {
   "cell_type": "code",
   "execution_count": 24,
   "id": "selected-funeral",
   "metadata": {
    "ExecuteTime": {
     "end_time": "2021-09-16T06:07:48.641523Z",
     "start_time": "2021-09-16T06:07:48.611524Z"
    }
   },
   "outputs": [],
   "source": [
    "# 2020년 노래 df의 수정날짜 데이터 형식을 datetime으로 변경\n",
    "song_19_20_df.loc[:,('수정날짜')] = pd.to_datetime(song_19_20_df['수정날짜'])\n",
    "\n",
    "# 마찬가지 플레이리스트 갱신일도 날짜 데이터 형식으로\n",
    "train_df.loc[:,('갱신일')] = pd.to_datetime(train_df['갱신일'])"
   ]
  },
  {
   "cell_type": "code",
   "execution_count": 27,
   "id": "tracked-imagination",
   "metadata": {
    "ExecuteTime": {
     "end_time": "2021-09-16T06:09:53.568482Z",
     "start_time": "2021-09-16T06:09:53.392471Z"
    }
   },
   "outputs": [
    {
     "name": "stdout",
     "output_type": "stream",
     "text": [
      "2020-01-01 00:00:00 2020-04-23 00:00:00\n",
      "\n",
      "\n",
      "\n",
      "\n",
      "['송가인'] - 내 마음의 사진, 빈도수 : 104\n",
      "['지코 (ZICO)'] - 아무노래, 빈도수 : 99\n",
      "['아이유'] - 마음을 드려요, 빈도수 : 77\n",
      "['방탄소년단'] - ON, 빈도수 : 71\n",
      "['pH-1'] - Nerdy Love (Feat. 백예린), 빈도수 : 67\n",
      "['백예린'] - 다시 난, 여기, 빈도수 : 65\n",
      "['Justin Bieber'] - Yummy, 빈도수 : 65\n",
      "['이찬원'] - 진또배기, 빈도수 : 62\n",
      "['임영웅'] - 바램, 빈도수 : 62\n",
      "['방탄소년단'] - 00:00 (Zero O’Clock), 빈도수 : 62\n",
      "['영탁'] - 막걸리 한잔, 빈도수 : 60\n",
      "['가호 (Gaho)'] - 시작, 빈도수 : 56\n",
      "['백현 (BAEKHYUN)'] - 너를 사랑하고 있어, 빈도수 : 55\n",
      "['유산슬', '송가인'] - 이별의 버스 정류장, 빈도수 : 51\n",
      "['임영웅'] - 어느 60대 노부부이야기, 빈도수 : 51\n",
      "['Lauv'] - Changes, 빈도수 : 49\n",
      "['Jeremy Zucker'] - always, i&#39;ll care, 빈도수 : 49\n",
      "['송가인'] - 花柳春夢(1막2장), 빈도수 : 49\n",
      "['영탁'] - 찐이야, 빈도수 : 48\n",
      "['김호중'] - 태클을 걸지마, 빈도수 : 48\n",
      "['송가인'] - 花柳春夢, 빈도수 : 48\n",
      "['IZ*ONE (아이즈원)'] - FIESTA, 빈도수 : 48\n",
      "['정동원'] - 보릿고개, 빈도수 : 47\n",
      "['방탄소년단'] - Black Swan, 빈도수 : 46\n",
      "['Anne-Marie'] - Birthday, 빈도수 : 45\n",
      "['Mae Muller'] - Therapist, 빈도수 : 45\n",
      "['방탄소년단'] - 친구, 빈도수 : 44\n",
      "['김필'] - 그때 그 아인, 빈도수 : 43\n",
      "['방탄소년단'] - Filter, 빈도수 : 43\n",
      "['ITZY (있지)'] - WANNABE, 빈도수 : 43\n",
      "\n",
      "\n",
      "\n",
      "\n",
      "[('방탄소년단', 266), ('송가인', 252), ('임영웅', 113), ('영탁', 108), ('지코 (ZICO)', 99), ('아이유', 77), ('pH-1', 67), ('백예린', 65), ('Justin Bieber', 65), ('이찬원', 62), ('가호 (Gaho)', 56), ('백현 (BAEKHYUN)', 55), ('유산슬', 51), ('Lauv', 49), ('Jeremy Zucker', 49), ('김호중', 48), ('IZ*ONE (아이즈원)', 48), ('정동원', 47), ('Anne-Marie', 45), ('Mae Muller', 45), ('김필', 43), ('ITZY (있지)', 43)]\n",
      "\n",
      "\n",
      "\n",
      "\n",
      "[('성인가요', 526), ('아이돌', 511), ('랩/힙합', 432), ('OST', 400), ('발라드', 344), ('POP', 253), ('댄스', 91), ('록/메탈', 56)]\n"
     ]
    }
   ],
   "source": [
    "from datetime import datetime\n",
    "\n",
    "# 날짜로 검색\n",
    "\n",
    "# 첫날\n",
    "date1 = datetime(2020,1,1)\n",
    "\n",
    "# 마지막 날\n",
    "date2 = datetime(2020,4,23)\n",
    "\n",
    "# 상위 몇개\n",
    "\n",
    "topn = 30\n",
    "\n",
    "def popular_song_artist_list(date1,date2,topn):\n",
    "    \n",
    "    # 특정 날짜들 사이에 수정된 플레이리스트만 가져오기\n",
    "    specific_date = song_19_20_df[(song_19_20_df['수정날짜'] >= date1) & (song_19_20_df['수정날짜'] <= date2)]\n",
    "\n",
    "    # 특정 날짜들 사이에 들어있는 노래 id를 list로\n",
    "    my_song_list = specific_date['노래ID'].tolist()\n",
    "    \n",
    "    # 특정 기간에 갱신된 플레이리스트만 가져옴\n",
    "    specific_date_plysts = train_df[(train_df['갱신일'] >= date1) & (train_df['갱신일'] <= date2)]\n",
    "    \n",
    "    # 어뷰징을 회피하기 위해 좋아요 수가 30을 넘은 (좋아요수 75% 위치의 값) 플레이리스트만 사용\n",
    "    specific_date_plysts = specific_date_plysts.query('좋아요수 > 10')\n",
    "    \n",
    "    # 최신곡이 아닌 노래도 포함한 list\n",
    "    origin_song_list = list(chain.from_iterable(specific_date_plysts['노래_id'].tolist()))\n",
    "\n",
    "    # 소괄호 안에 있는 연산을 하면 최신곡이 아닌노래가 나오고 그걸 다시 전체에서 빼주면 최신곡만 남음\n",
    "    filtered_song_set = set(origin_song_list)  - (set(origin_song_list) - set(my_song_list))\n",
    "    \n",
    "    # 일단 Couter를 사용해서 모든 노래의 출현 빈도를 구함\n",
    "    song_counted = Counter(origin_song_list)\n",
    "\n",
    "    # 그중에 최신 곡의 빈도만 거름\n",
    "    filtered_song_couted = {k:song_counted[k] for k in filtered_song_set}\n",
    "\n",
    "    # 빈도로 정렬\n",
    "    filtered_song_couted  = sorted(filtered_song_couted .items(),key=lambda x : x[1],reverse=True)\n",
    "    \n",
    "    # 빈도수 높은 가수 저장할 defaultdict\n",
    "    artist_ddict = defaultdict(int)\n",
    "    \n",
    "    # 빈도수 높은 장르 저장할 defaultdict\n",
    "    genre_ddict = defaultdict(int)\n",
    "    \n",
    "    # 가장많이나온 노래 topn개 선택\n",
    "    for id,count in filtered_song_couted [0:topn]:\n",
    "        print(f'{songid_singername_dict[id]} - {songid_songname_dict[id]}, 빈도수 : {count}')\n",
    "        \n",
    "        # 가수들에다가 노래 출몰 빈도수 더해주는 식\n",
    "        for singer_name in songid_singername_dict[id]:\n",
    "            artist_ddict[singer_name] += count\n",
    "            \n",
    "        for genre_big in  songid_genre_b_dict[id]:\n",
    "            genre_ddict[genre_big] += count\n",
    "            \n",
    "    #가수 dict value로 정렬\n",
    "    artist_tuples = sorted(artist_ddict.items(),key=lambda x : x[1],reverse=True)\n",
    "    \n",
    "    #장르 dict value로 정렬\n",
    "    genre_tuples = sorted(genre_ddict.items(),key=lambda x : x[1],reverse=True)\n",
    "    \n",
    "    genre_tuples = [(genre_dict[k],v) for k,v in genre_tuples]\n",
    "    \n",
    "    print('\\n\\n\\n')\n",
    "    print(artist_tuples[:topn])\n",
    "    \n",
    "    print('\\n\\n\\n')\n",
    "    print(genre_tuples[:topn])\n",
    "\n",
    "print(date1,date2)\n",
    "print('\\n\\n\\n')\n",
    "popular_song_artist_list(date1,date2,topn)"
   ]
  },
  {
   "cell_type": "code",
   "execution_count": null,
   "id": "b400b2c1",
   "metadata": {},
   "outputs": [],
   "source": []
  }
 ],
 "metadata": {
  "kernelspec": {
   "display_name": "Python 3",
   "language": "python",
   "name": "python3"
  },
  "language_info": {
   "codemirror_mode": {
    "name": "ipython",
    "version": 3
   },
   "file_extension": ".py",
   "mimetype": "text/x-python",
   "name": "python",
   "nbconvert_exporter": "python",
   "pygments_lexer": "ipython3",
   "version": "3.9.1"
  },
  "toc": {
   "base_numbering": 1,
   "nav_menu": {},
   "number_sections": true,
   "sideBar": true,
   "skip_h1_title": false,
   "title_cell": "Table of Contents",
   "title_sidebar": "Contents",
   "toc_cell": false,
   "toc_position": {},
   "toc_section_display": true,
   "toc_window_display": false
  },
  "varInspector": {
   "cols": {
    "lenName": 16,
    "lenType": 16,
    "lenVar": 40
   },
   "kernels_config": {
    "python": {
     "delete_cmd_postfix": "",
     "delete_cmd_prefix": "del ",
     "library": "var_list.py",
     "varRefreshCmd": "print(var_dic_list())"
    },
    "r": {
     "delete_cmd_postfix": ") ",
     "delete_cmd_prefix": "rm(",
     "library": "var_list.r",
     "varRefreshCmd": "cat(var_dic_list()) "
    }
   },
   "types_to_exclude": [
    "module",
    "function",
    "builtin_function_or_method",
    "instance",
    "_Feature"
   ],
   "window_display": false
  }
 },
 "nbformat": 4,
 "nbformat_minor": 5
}
