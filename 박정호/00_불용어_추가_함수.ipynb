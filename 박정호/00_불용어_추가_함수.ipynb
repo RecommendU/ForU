{
  "nbformat": 4,
  "nbformat_minor": 0,
  "metadata": {
    "kernelspec": {
      "display_name": "Python 3",
      "language": "python",
      "name": "python3"
    },
    "language_info": {
      "codemirror_mode": {
        "name": "ipython",
        "version": 3
      },
      "file_extension": ".py",
      "mimetype": "text/x-python",
      "name": "python",
      "nbconvert_exporter": "python",
      "pygments_lexer": "ipython3",
      "version": "3.8.5"
    },
    "colab": {
      "name": "00. 불용어 추가 함수.ipynb",
      "provenance": []
    }
  },
  "cells": [
    {
      "cell_type": "markdown",
      "metadata": {
        "id": "4sgXkvgF7ptA"
      },
      "source": [
        "# 불용어 크롤링"
      ]
    },
    {
      "cell_type": "code",
      "metadata": {
        "id": "m7KYhYIN7ptD"
      },
      "source": [
        "# 불용어 크롤링\n",
        "from selenium import webdriver\n",
        "import requests\n",
        "import time\n",
        "\n",
        "stopwords_dict = {\n",
        "            'stopwords' : []\n",
        "}\n",
        "\n",
        "driver = webdriver.Chrome('chromedriver')\n",
        "site = 'https://www.ranks.nl/stopwords/korean'\n",
        "time.sleep(6)\n",
        "driver.get(site)\n",
        "\n",
        "a1 = driver.find_element_by_css_selector('#article178ebefbfb1b165454ec9f168f545239 > div.panel-body > table')\n",
        "\n",
        "li_list= a1.find_elements_by_css_selector('tbody')\n",
        "\n",
        "\n",
        "for i in li_list:\n",
        "    a_tag = i.find_element_by_css_selector('tr')\n",
        "    a = a_tag.text.strip()\n",
        "    \n",
        "    char_list = ['\\\\', '/',':','*','\"','?','<','>','|','\\n']\n",
        "    \n",
        "    for c1 in char_list:\n",
        "        stopwords = a.replace(c1, ' ')\n",
        "        \n",
        "    for j in stopwords.split():\n",
        "        stopwords_dict['stopwords'].append(j)\n",
        "\n",
        "df = pd.DataFrame(stopwords_dict, columns=['stopwords'])"
      ],
      "execution_count": null,
      "outputs": []
    },
    {
      "cell_type": "markdown",
      "metadata": {
        "id": "Y2Eucrjv7ptE"
      },
      "source": [
        "---\n",
        "---\n",
        "---"
      ]
    },
    {
      "cell_type": "markdown",
      "metadata": {
        "id": "xXN3z8Ui7ptF"
      },
      "source": [
        "# 불용어 추가"
      ]
    },
    {
      "cell_type": "code",
      "metadata": {
        "id": "3BsU9dMO7ptG"
      },
      "source": [
        "# stopwords 추가\n",
        "\n",
        "# lit = 'ㄱ ㄴ ㄷ ㄹ ㅁ ㅅ ㅂ ㅇ ㅈ ㅊ ㅋ ㅌ ㅎ ㄱ ㄱ ㄱ ㄱ'\n",
        "# 이런 식으로 띄어쓰기로 단어 추가하면 된다\n",
        "# 중복 제거되고 \n",
        "import pandas as pd\n",
        "import numpy as np\n",
        "\n",
        "def append_stopwords(lit):\n",
        "    stopwords = pd.read_csv('data/stopword.csv')\n",
        "    stopwords_dict = stopwords.to_dict('list')\n",
        "    stopwords_dict\n",
        "    print('기존 개수 : ',stopwords.shape,'\\n')\n",
        "    \n",
        "    lit = lit.split()\n",
        "    \n",
        "    for i in lit:\n",
        "        stopwords_dict['stopwords'].append(i)\n",
        "        \n",
        "    stopwords_df = pd.DataFrame(stopwords_dict,columns=['stopwords'])\n",
        "    stopwords_df = stopwords_df.drop_duplicates()\n",
        "    print('추가한 후 개수 : ', stopwords_df.shape,'\\n')\n",
        "    \n",
        "    \n",
        "    stopwords_df.to_csv('data/stopword.csv',index = False, encoding = 'utf-8' )\n",
        "    print('저장완료')\n",
        "    return stopwords_df"
      ],
      "execution_count": null,
      "outputs": []
    },
    {
      "cell_type": "code",
      "metadata": {
        "scrolled": true,
        "id": "tOsMON-O7ptG",
        "outputId": "7e6760ba-64b3-454b-942f-1b1d8bd930c2"
      },
      "source": [
        "append_stopwords('! @ # $ % ^ ㅏ ㅑ ㅓ ㅕ ㅗ ㅛ ㅡ ㅣ ㅢ ㅙ ㅐ ㅒ ㅔ ㅖ ㅟ ㅘ ㅝ ㅜ ㅠ')"
      ],
      "execution_count": null,
      "outputs": [
        {
          "name": "stdout",
          "output_type": "stream",
          "text": [
            "기존 개수 :  (694, 1) \n",
            "\n",
            "추가한 후 개수 :  (697, 1) \n",
            "\n",
            "저장완료\n"
          ]
        }
      ]
    },
    {
      "cell_type": "code",
      "metadata": {
        "id": "9QfCajNt7ptH"
      },
      "source": [
        "stopwords = pd.read_csv('data/stopword.csv')"
      ],
      "execution_count": null,
      "outputs": []
    },
    {
      "cell_type": "code",
      "metadata": {
        "id": "UhCOh7wD7ptI",
        "outputId": "8bf56ab9-83d2-44dc-b779-4024bfb5eda3"
      },
      "source": [
        "stopwords"
      ],
      "execution_count": null,
      "outputs": [
        {
          "data": {
            "text/html": [
              "<div>\n",
              "<style scoped>\n",
              "    .dataframe tbody tr th:only-of-type {\n",
              "        vertical-align: middle;\n",
              "    }\n",
              "\n",
              "    .dataframe tbody tr th {\n",
              "        vertical-align: top;\n",
              "    }\n",
              "\n",
              "    .dataframe thead th {\n",
              "        text-align: right;\n",
              "    }\n",
              "</style>\n",
              "<table border=\"1\" class=\"dataframe\">\n",
              "  <thead>\n",
              "    <tr style=\"text-align: right;\">\n",
              "      <th></th>\n",
              "      <th>stopwords</th>\n",
              "    </tr>\n",
              "  </thead>\n",
              "  <tbody>\n",
              "    <tr>\n",
              "      <th>0</th>\n",
              "      <td>아</td>\n",
              "    </tr>\n",
              "    <tr>\n",
              "      <th>1</th>\n",
              "      <td>휴</td>\n",
              "    </tr>\n",
              "    <tr>\n",
              "      <th>2</th>\n",
              "      <td>아이구</td>\n",
              "    </tr>\n",
              "    <tr>\n",
              "      <th>3</th>\n",
              "      <td>아이쿠</td>\n",
              "    </tr>\n",
              "    <tr>\n",
              "      <th>4</th>\n",
              "      <td>아이고</td>\n",
              "    </tr>\n",
              "    <tr>\n",
              "      <th>...</th>\n",
              "      <td>...</td>\n",
              "    </tr>\n",
              "    <tr>\n",
              "      <th>692</th>\n",
              "      <td>ㅌ</td>\n",
              "    </tr>\n",
              "    <tr>\n",
              "      <th>693</th>\n",
              "      <td>ㅎ</td>\n",
              "    </tr>\n",
              "    <tr>\n",
              "      <th>694</th>\n",
              "      <td>!</td>\n",
              "    </tr>\n",
              "    <tr>\n",
              "      <th>695</th>\n",
              "      <td>@</td>\n",
              "    </tr>\n",
              "    <tr>\n",
              "      <th>696</th>\n",
              "      <td>#</td>\n",
              "    </tr>\n",
              "  </tbody>\n",
              "</table>\n",
              "<p>697 rows × 1 columns</p>\n",
              "</div>"
            ],
            "text/plain": [
              "    stopwords\n",
              "0           아\n",
              "1           휴\n",
              "2         아이구\n",
              "3         아이쿠\n",
              "4         아이고\n",
              "..        ...\n",
              "692         ㅌ\n",
              "693         ㅎ\n",
              "694         !\n",
              "695         @\n",
              "696         #\n",
              "\n",
              "[697 rows x 1 columns]"
            ]
          },
          "execution_count": 128,
          "metadata": {},
          "output_type": "execute_result"
        }
      ]
    }
  ]
}