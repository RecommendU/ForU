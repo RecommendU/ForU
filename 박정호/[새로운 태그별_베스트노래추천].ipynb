{
 "cells": [
  {
   "cell_type": "code",
   "execution_count": 1,
   "id": "aa4d754e-11ba-4a22-b56d-ed034a8ba89f",
   "metadata": {
    "ExecuteTime": {
     "end_time": "2021-09-08T16:03:28.577763Z",
     "start_time": "2021-09-08T16:03:27.332005Z"
    }
   },
   "outputs": [],
   "source": [
    "from sklearn.metrics.pairwise import cosine_similarity\n",
    "import numpy as np\n",
    "import pandas as pd\n",
    "from scipy.sparse import *\n",
    "from scipy.sparse.linalg import svds\n",
    "from tqdm import tqdm\n",
    "from collections import Counter\n",
    "from itertools import chain, combinations"
   ]
  },
  {
   "cell_type": "code",
   "execution_count": 2,
   "id": "84b33e8a",
   "metadata": {
    "ExecuteTime": {
     "end_time": "2021-09-08T16:03:29.565161Z",
     "start_time": "2021-09-08T16:03:28.608681Z"
    }
   },
   "outputs": [
    {
     "name": "stderr",
     "output_type": "stream",
     "text": [
      "[nltk_data] Downloading package stopwords to\n",
      "[nltk_data]     C:\\Users\\HOME\\AppData\\Roaming\\nltk_data...\n",
      "[nltk_data]   Package stopwords is already up-to-date!\n"
     ]
    },
    {
     "data": {
      "text/plain": [
       "True"
      ]
     },
     "execution_count": 2,
     "metadata": {},
     "output_type": "execute_result"
    }
   ],
   "source": [
    "import numpy as np\n",
    "import pandas as pd\n",
    "import seaborn as sns\n",
    "import matplotlib.pyplot as plt\n",
    "\n",
    "from sklearn.metrics.pairwise import cosine_similarity\n",
    "from sklearn.feature_extraction.text import CountVectorizer\n",
    "\n",
    "plt.rcParams['font.family'] = 'Malgun Gothic'\n",
    "plt.rcParams['font.size'] = 15\n",
    "plt.rcParams['axes.unicode_minus'] = False\n",
    "plt.rcParams['figure.figsize'] = 16,8\n",
    "\n",
    "import warnings\n",
    "warnings.filterwarnings('ignore')\n",
    "\n",
    "\n",
    "import re\n",
    "from konlpy.tag import Okt, Mecab\n",
    "from hanspell import spell_checker\n",
    "from bs4 import BeautifulSoup\n",
    "from nltk.corpus import stopwords\n",
    "from nltk.tokenize import word_tokenize, sent_tokenize\n",
    "\n",
    "import nltk\n",
    "nltk.download('stopwords')"
   ]
  },
  {
   "cell_type": "code",
   "execution_count": 3,
   "id": "69dede34",
   "metadata": {
    "ExecuteTime": {
     "end_time": "2021-09-08T16:03:29.834681Z",
     "start_time": "2021-09-08T16:03:29.596227Z"
    }
   },
   "outputs": [],
   "source": [
    "stopword = pd.read_csv('data/stopword.csv')\n",
    "stopword = stopword.iloc[:,0].tolist()\n",
    "\n",
    "okt = Okt()\n",
    "m = Mecab(r'C:/mecab/mecab-ko-dic')"
   ]
  },
  {
   "cell_type": "code",
   "execution_count": 4,
   "id": "d91d4854-14db-465a-b7be-82752d70f788",
   "metadata": {
    "ExecuteTime": {
     "end_time": "2021-09-08T16:03:42.162719Z",
     "start_time": "2021-09-08T16:03:29.865568Z"
    }
   },
   "outputs": [],
   "source": [
    "#플레이 리스트\n",
    "# 새로운 태그 파일 \n",
    "train = pd.read_json('data/new_tag/new_train0.json')\n",
    "#곡 정보\n",
    "song_meta = pd.read_json('data/song_meta.json')"
   ]
  },
  {
   "cell_type": "code",
   "execution_count": 5,
   "id": "d293421a-fdf3-4178-9117-9130f417a4f3",
   "metadata": {
    "ExecuteTime": {
     "end_time": "2021-09-08T16:03:42.237580Z",
     "start_time": "2021-09-08T16:03:42.223617Z"
    }
   },
   "outputs": [
    {
     "data": {
      "text/html": [
       "<div>\n",
       "<style scoped>\n",
       "    .dataframe tbody tr th:only-of-type {\n",
       "        vertical-align: middle;\n",
       "    }\n",
       "\n",
       "    .dataframe tbody tr th {\n",
       "        vertical-align: top;\n",
       "    }\n",
       "\n",
       "    .dataframe thead th {\n",
       "        text-align: right;\n",
       "    }\n",
       "</style>\n",
       "<table border=\"1\" class=\"dataframe\">\n",
       "  <thead>\n",
       "    <tr style=\"text-align: right;\">\n",
       "      <th></th>\n",
       "      <th>tags</th>\n",
       "      <th>id</th>\n",
       "      <th>안지움</th>\n",
       "      <th>plylst_title</th>\n",
       "      <th>songs</th>\n",
       "      <th>like_cnt</th>\n",
       "      <th>updt_date</th>\n",
       "    </tr>\n",
       "  </thead>\n",
       "  <tbody>\n",
       "    <tr>\n",
       "      <th>0</th>\n",
       "      <td>[락]</td>\n",
       "      <td>61281</td>\n",
       "      <td>[락, 여행]</td>\n",
       "      <td>여행같은 음악</td>\n",
       "      <td>[525514, 129701, 383374, 562083, 297861, 13954...</td>\n",
       "      <td>71</td>\n",
       "      <td>2013-12-19 18:36:19.000</td>\n",
       "    </tr>\n",
       "  </tbody>\n",
       "</table>\n",
       "</div>"
      ],
      "text/plain": [
       "  tags     id      안지움 plylst_title  \\\n",
       "0  [락]  61281  [락, 여행]      여행같은 음악   \n",
       "\n",
       "                                               songs  like_cnt  \\\n",
       "0  [525514, 129701, 383374, 562083, 297861, 13954...        71   \n",
       "\n",
       "                 updt_date  \n",
       "0  2013-12-19 18:36:19.000  "
      ]
     },
     "metadata": {},
     "output_type": "display_data"
    },
    {
     "data": {
      "text/html": [
       "<div>\n",
       "<style scoped>\n",
       "    .dataframe tbody tr th:only-of-type {\n",
       "        vertical-align: middle;\n",
       "    }\n",
       "\n",
       "    .dataframe tbody tr th {\n",
       "        vertical-align: top;\n",
       "    }\n",
       "\n",
       "    .dataframe thead th {\n",
       "        text-align: right;\n",
       "    }\n",
       "</style>\n",
       "<table border=\"1\" class=\"dataframe\">\n",
       "  <thead>\n",
       "    <tr style=\"text-align: right;\">\n",
       "      <th></th>\n",
       "      <th>song_gn_dtl_gnr_basket</th>\n",
       "      <th>issue_date</th>\n",
       "      <th>album_name</th>\n",
       "      <th>album_id</th>\n",
       "      <th>artist_id_basket</th>\n",
       "      <th>song_name</th>\n",
       "      <th>song_gn_gnr_basket</th>\n",
       "      <th>artist_name_basket</th>\n",
       "      <th>id</th>\n",
       "    </tr>\n",
       "  </thead>\n",
       "  <tbody>\n",
       "    <tr>\n",
       "      <th>0</th>\n",
       "      <td>[GN0901]</td>\n",
       "      <td>20140512</td>\n",
       "      <td>불후의 명곡 - 7080 추억의 얄개시대 팝송베스트</td>\n",
       "      <td>2255639</td>\n",
       "      <td>[2727]</td>\n",
       "      <td>Feelings</td>\n",
       "      <td>[GN0900]</td>\n",
       "      <td>[Various Artists]</td>\n",
       "      <td>0</td>\n",
       "    </tr>\n",
       "  </tbody>\n",
       "</table>\n",
       "</div>"
      ],
      "text/plain": [
       "  song_gn_dtl_gnr_basket  issue_date                    album_name  album_id  \\\n",
       "0               [GN0901]    20140512  불후의 명곡 - 7080 추억의 얄개시대 팝송베스트   2255639   \n",
       "\n",
       "  artist_id_basket song_name song_gn_gnr_basket artist_name_basket  id  \n",
       "0           [2727]  Feelings           [GN0900]  [Various Artists]   0  "
      ]
     },
     "metadata": {},
     "output_type": "display_data"
    }
   ],
   "source": [
    "display(train.head(1))\n",
    "display(song_meta.head(1))"
   ]
  },
  {
   "cell_type": "markdown",
   "id": "0b43ce32-c639-4a06-8127-fdcb0a2bba2b",
   "metadata": {},
   "source": [
    "## song_meta에 노래 빈도수 추가\n",
    "- 추천리스트에 많은 노래가 나왔을 때 추천 기준으로 삼을 수 있다.\n",
    "- popularity 컬럼으로 추가해준다."
   ]
  },
  {
   "cell_type": "code",
   "execution_count": 6,
   "id": "8e2fd284-8cec-4708-a3c4-dac2d224b779",
   "metadata": {
    "ExecuteTime": {
     "end_time": "2021-09-08T16:03:44.496638Z",
     "start_time": "2021-09-08T16:03:42.298417Z"
    }
   },
   "outputs": [],
   "source": [
    "#모든 노래를 하나의 리스트로 모은다\n",
    "all_songs = np.concatenate(train['songs'])\n",
    "#노래의 빈도수를 센다.\n",
    "song_counts = dict(Counter(all_songs))\n",
    "\n",
    "#popularity에 넣는다.\n",
    "song_meta['popularity'] = song_meta['id'].apply(lambda x : song_counts.get(x) if song_counts.get(x) else 0)"
   ]
  },
  {
   "cell_type": "markdown",
   "id": "c3690ce9-2cb5-41de-a636-7f2532071c7d",
   "metadata": {},
   "source": [
    "# 희소행렬 만들기\n",
    "- 각 플레이리스트에 달린 태그 유무를 희소행렬로 표현한다."
   ]
  },
  {
   "cell_type": "code",
   "execution_count": 7,
   "id": "8a088b0c-2dc5-4c21-a74a-3475a480c24f",
   "metadata": {
    "ExecuteTime": {
     "end_time": "2021-09-08T16:03:45.843069Z",
     "start_time": "2021-09-08T16:03:45.006275Z"
    }
   },
   "outputs": [],
   "source": [
    "#각 플레이리스트 보유 태그 수\n",
    "train['tag_cnt']= train['안지움'].apply(lambda x : len(x))\n",
    "\n",
    "#중복을 제외한 태그 셋\n",
    "all_tags_set = set(np.concatenate(train['안지움']))\n",
    "\n",
    "#태그를 list형으로 모은다.\n",
    "tag_lists = train['안지움'].tolist()"
   ]
  },
  {
   "cell_type": "code",
   "execution_count": 8,
   "id": "62af0ca7-9fdf-43df-848b-5425dc013e3f",
   "metadata": {
    "ExecuteTime": {
     "end_time": "2021-09-08T16:03:46.785644Z",
     "start_time": "2021-09-08T16:03:46.562118Z"
    }
   },
   "outputs": [],
   "source": [
    "#태그 아이디 만들기\n",
    "id_to_tag = dict(zip(range(len(all_tags_set)), all_tags_set))\n",
    "tag_to_id = dict(zip(all_tags_set, range(len(all_tags_set)) ))\n",
    "\n",
    "#태그를 할당된 id로 바꾼 list\n",
    "id_tag_lists = [list(map(lambda x: tag_to_id[x] , tags)) for tags in train['안지움']]"
   ]
  },
  {
   "cell_type": "code",
   "execution_count": 9,
   "id": "7712dc63-1cd1-40c3-b177-92f0355fd77e",
   "metadata": {
    "ExecuteTime": {
     "end_time": "2021-09-08T16:03:47.982446Z",
     "start_time": "2021-09-08T16:03:47.745071Z"
    }
   },
   "outputs": [],
   "source": [
    "row = np.repeat(np.arange(len(train)), train['tag_cnt'].tolist())\n",
    "col = np.concatenate(id_tag_lists).astype(np.int)\n",
    "data = np.ones(col.shape[0])\n",
    "\n",
    "\n",
    "#희소 행렬 만들기\n",
    "ply_tag = csr_matrix((data, (row, col)))\n",
    "tag_ply = ply_tag.T"
   ]
  },
  {
   "cell_type": "markdown",
   "id": "606230e6-2f6a-4e99-97ce-1f8e85f187c8",
   "metadata": {},
   "source": [
    "# 태그 입력, 곡의 빈도수 기반 추천 - 세부과정\n",
    "1. **사용자로부터 태그를 입력받는다.** -> ***`input_tag_id`***  \n",
    "    - `len(tag_cnt) >= 2`\n",
    "    - `len(tag_cnt) == 1`\n",
    "2. **각 태그가 속한 플레이리스트의 곡들을 가져온다.**  \n",
    "    - `플레이리스트 곡들의 총 합이 30곡 보다 작으면 중복제거 후 바로 제공` - *다음에*\n",
    "3. **각 태그의 전체 곡들을 빈도수로 정렬하고 상위 n개로 자른다.** -> ***`popular_songs_each_tag`***\n",
    "4. **각 곡모음 모든 조합의 교집합을 구한다.**\n",
    "    -  **?** 교집합 결과가 30곡 미만인 경우 - *다음에*\n",
    "5. **결과 노래를 그대로 제공한다 (상위 노래일수록 많은 플레이리스에서 등장한 노래) or  \n",
    "  ~~노래 `popularity`로 정렬하여 제공한다.~~**"
   ]
  },
  {
   "cell_type": "markdown",
   "id": "3b5da071-9132-4a0c-8665-8bf7347dde5b",
   "metadata": {},
   "source": [
    "### **태그 입력받기**"
   ]
  },
  {
   "cell_type": "code",
   "execution_count": 10,
   "id": "3f418e5e-803e-446b-adb5-417e49059444",
   "metadata": {
    "ExecuteTime": {
     "end_time": "2021-09-08T16:03:48.954819Z",
     "start_time": "2021-09-08T16:03:48.940856Z"
    }
   },
   "outputs": [
    {
     "data": {
      "text/plain": [
       "[7333, 6959, 9023]"
      ]
     },
     "execution_count": 10,
     "metadata": {},
     "output_type": "execute_result"
    }
   ],
   "source": [
    "input_tags = ['비오는날','이별','감성','저녁']\n",
    "\n",
    "# is not None 조건으로 존재하지 않는 태그의 경우 반영하지 않는다.\n",
    "input_tag_id = [tag_to_id.get(x) for x in input_tags if tag_to_id.get(x) is not None]\n",
    "input_tag_id"
   ]
  },
  {
   "cell_type": "markdown",
   "id": "7ad65193-900f-4694-9518-fcbd25aee301",
   "metadata": {},
   "source": [
    "### **각 태그가 속한 플레이리스트 가져오기**"
   ]
  },
  {
   "cell_type": "code",
   "execution_count": 11,
   "id": "ac4f2e19-17a1-45a0-b938-53293ffc9bd6",
   "metadata": {
    "ExecuteTime": {
     "end_time": "2021-09-08T16:03:49.942368Z",
     "start_time": "2021-09-08T16:03:49.913350Z"
    }
   },
   "outputs": [
    {
     "data": {
      "text/plain": [
       "[array([     6,     45,     55, ..., 115039, 115045, 115052], dtype=int64),\n",
       " array([     6,     16,     20, ..., 115030, 115039, 115056], dtype=int64),\n",
       " array([    59,    158,    198, ..., 114767, 114822, 114867], dtype=int64)]"
      ]
     },
     "execution_count": 11,
     "metadata": {},
     "output_type": "execute_result"
    }
   ],
   "source": [
    "selected_playlists = []\n",
    "for tag_id in input_tag_id:\n",
    "    # tag_id인 열 가져오기\n",
    "    temp_list = ply_tag[:,tag_id].toarray().reshape(-1)\n",
    "    # 그 중 1인 것만 playlist에 넣기\n",
    "    selected_playlists.append(np.argwhere(temp_list == 1).reshape(-1))\n",
    "\n",
    "selected_playlists"
   ]
  },
  {
   "cell_type": "markdown",
   "id": "42da9bc8-c5db-45e5-8678-641e767574a0",
   "metadata": {},
   "source": [
    "### **각 태그별 플레이리스트들의 노래를 하나의 리스트들로 만들고 빈도를 센다.**\n",
    "- 중복이 존재할 수 있다."
   ]
  },
  {
   "cell_type": "code",
   "execution_count": 12,
   "id": "2db8c0e5-a564-4573-9954-5caee2403ca9",
   "metadata": {
    "ExecuteTime": {
     "end_time": "2021-09-08T16:03:51.199010Z",
     "start_time": "2021-09-08T16:03:50.885814Z"
    }
   },
   "outputs": [],
   "source": [
    "tag_playlist_songs = []\n",
    "for playlist in selected_playlists:\n",
    "    # 태그에 딸린 플레이리스트들의 곡을 합친 리스트.\n",
    "    temp = np.concatenate(train.iloc[playlist]['songs'].tolist())\n",
    "    tag_playlist_songs.append(temp)\n",
    "\n",
    "# 각 노래리스트에서 빈도수를 센다. \n",
    "counts = []\n",
    "for song in tag_playlist_songs:\n",
    "    counts.append(dict(Counter(song)))"
   ]
  },
  {
   "cell_type": "markdown",
   "id": "8d7f3713-ba4b-4161-93cc-bb226c221808",
   "metadata": {},
   "source": [
    "### **각 노래들의 빈도 순위로 자르기**"
   ]
  },
  {
   "cell_type": "code",
   "execution_count": 13,
   "id": "238791a9-28f0-40d8-a779-e47b2d870b9e",
   "metadata": {
    "ExecuteTime": {
     "end_time": "2021-09-08T16:03:52.365954Z",
     "start_time": "2021-09-08T16:03:52.322067Z"
    }
   },
   "outputs": [],
   "source": [
    "popular_songs_each_tag = []\n",
    "for count in counts:\n",
    "    popular_songs_each_tag.append(sorted(count, key= count.get, reverse = True)[:200])"
   ]
  },
  {
   "cell_type": "markdown",
   "id": "5d1508f5-ecbb-4bca-9dac-c7532f24a9f3",
   "metadata": {},
   "source": [
    "> `popular_songs_each_tag` - 각 태그가 붙은 플레이리스트에서 등장한 상위 500곡"
   ]
  },
  {
   "cell_type": "markdown",
   "id": "6991559c-180c-4d5e-a755-c2c0e03dd6db",
   "metadata": {},
   "source": [
    "### **모든 조합의 교집합 구하기**"
   ]
  },
  {
   "cell_type": "code",
   "execution_count": 14,
   "id": "f9d98827-eb94-40e4-abc6-dcd96114909e",
   "metadata": {
    "ExecuteTime": {
     "end_time": "2021-09-08T16:03:53.517902Z",
     "start_time": "2021-09-08T16:03:53.505905Z"
    }
   },
   "outputs": [],
   "source": [
    "input_tag_cnt = len(input_tag_id)\n",
    "\n",
    "# 모든 조합 구하기\n",
    "combs = list(chain.from_iterable(combinations(popular_songs_each_tag, r) for r in range(2, (input_tag_cnt + 1))))"
   ]
  },
  {
   "cell_type": "code",
   "execution_count": 15,
   "id": "31631136-6fa3-4cc4-b353-1908df7f82b9",
   "metadata": {
    "ExecuteTime": {
     "end_time": "2021-09-08T16:03:54.669793Z",
     "start_time": "2021-09-08T16:03:54.655830Z"
    }
   },
   "outputs": [
    {
     "name": "stdout",
     "output_type": "stream",
     "text": [
      "중복 제거 전 곡 수 :372\n",
      "최종 결과 곡 수 :165\n"
     ]
    }
   ],
   "source": [
    "#조합을 순회하며 겹치는 노래들을 추천 플레이 리스트에 추가\n",
    "#밑에 있을수록 다수의 플레이리스트에서 겹치는 노래다. -> reverse로 반대로 만든다.\n",
    "rec_playlist = []\n",
    "for comb in combs:\n",
    "    rec_playlist.extend(list(set.intersection(*map(set,comb))))\n",
    "rec_playlist.reverse()\n",
    "\n",
    "print(f'중복 제거 전 곡 수 :{len(rec_playlist)}')\n",
    "\n",
    "# 혹시 있을 중복을 제거한다.\n",
    "# 순서를 유지하기 위해 df로 처리한다.\n",
    "rec_df = pd.DataFrame(rec_playlist)\n",
    "rec_df.drop_duplicates(inplace= True, ignore_index = True)\n",
    "\n",
    "print(f'최종 결과 곡 수 :{len(rec_df)}')"
   ]
  },
  {
   "cell_type": "markdown",
   "id": "b0604457-73fc-4c36-9d92-2ebeaaff2afd",
   "metadata": {},
   "source": [
    "### 최종 결과 곡들의 상위 30곡"
   ]
  },
  {
   "cell_type": "code",
   "execution_count": 16,
   "id": "73a9f02d-d370-4b38-a2bc-7dd4e8a7e9a5",
   "metadata": {
    "ExecuteTime": {
     "end_time": "2021-09-08T16:03:55.851633Z",
     "start_time": "2021-09-08T16:03:55.822711Z"
    },
    "tags": []
   },
   "outputs": [
    {
     "data": {
      "text/html": [
       "<div>\n",
       "<style scoped>\n",
       "    .dataframe tbody tr th:only-of-type {\n",
       "        vertical-align: middle;\n",
       "    }\n",
       "\n",
       "    .dataframe tbody tr th {\n",
       "        vertical-align: top;\n",
       "    }\n",
       "\n",
       "    .dataframe thead th {\n",
       "        text-align: right;\n",
       "    }\n",
       "</style>\n",
       "<table border=\"1\" class=\"dataframe\">\n",
       "  <thead>\n",
       "    <tr style=\"text-align: right;\">\n",
       "      <th></th>\n",
       "      <th>song_name</th>\n",
       "      <th>artist_name_basket</th>\n",
       "      <th>popularity</th>\n",
       "    </tr>\n",
       "  </thead>\n",
       "  <tbody>\n",
       "    <tr>\n",
       "      <th>547967</th>\n",
       "      <td>불안해</td>\n",
       "      <td>[혜지 (Hyeji)]</td>\n",
       "      <td>1434</td>\n",
       "    </tr>\n",
       "    <tr>\n",
       "      <th>235773</th>\n",
       "      <td>이 노래를 듣게 된다면 (Feat. 이소진)</td>\n",
       "      <td>[어쿠스틱 멜로디 (Acoustic Melody)]</td>\n",
       "      <td>1320</td>\n",
       "    </tr>\n",
       "    <tr>\n",
       "      <th>68348</th>\n",
       "      <td>손편지 (Vocal 태인)</td>\n",
       "      <td>[아재]</td>\n",
       "      <td>1324</td>\n",
       "    </tr>\n",
       "    <tr>\n",
       "      <th>703096</th>\n",
       "      <td>사랑에 연습이 있었다면 (Prod. 2soo)</td>\n",
       "      <td>[임재현]</td>\n",
       "      <td>837</td>\n",
       "    </tr>\n",
       "    <tr>\n",
       "      <th>357367</th>\n",
       "      <td>비</td>\n",
       "      <td>[폴킴]</td>\n",
       "      <td>1981</td>\n",
       "    </tr>\n",
       "    <tr>\n",
       "      <th>38261</th>\n",
       "      <td>한번쯤 (With 박은옥)</td>\n",
       "      <td>[아재]</td>\n",
       "      <td>1060</td>\n",
       "    </tr>\n",
       "    <tr>\n",
       "      <th>448116</th>\n",
       "      <td>MOM (겨울나무)</td>\n",
       "      <td>[홍아]</td>\n",
       "      <td>1368</td>\n",
       "    </tr>\n",
       "    <tr>\n",
       "      <th>215411</th>\n",
       "      <td>지금보다 조금 (Feat. 이원)</td>\n",
       "      <td>[어쿠스틱 멜로디 (Acoustic Melody)]</td>\n",
       "      <td>1408</td>\n",
       "    </tr>\n",
       "    <tr>\n",
       "      <th>541682</th>\n",
       "      <td>솔직하게 말해서 나</td>\n",
       "      <td>[김나영]</td>\n",
       "      <td>602</td>\n",
       "    </tr>\n",
       "    <tr>\n",
       "      <th>674160</th>\n",
       "      <td>늦은 밤 너의 집 앞 골목길에서</td>\n",
       "      <td>[노을]</td>\n",
       "      <td>1119</td>\n",
       "    </tr>\n",
       "    <tr>\n",
       "      <th>209135</th>\n",
       "      <td>소란했던 시절에</td>\n",
       "      <td>[빌리어코스티]</td>\n",
       "      <td>1312</td>\n",
       "    </tr>\n",
       "    <tr>\n",
       "      <th>351342</th>\n",
       "      <td>끝</td>\n",
       "      <td>[권진아]</td>\n",
       "      <td>1203</td>\n",
       "    </tr>\n",
       "    <tr>\n",
       "      <th>133484</th>\n",
       "      <td>Oh Beautiful</td>\n",
       "      <td>[김제훈]</td>\n",
       "      <td>893</td>\n",
       "    </tr>\n",
       "    <tr>\n",
       "      <th>582252</th>\n",
       "      <td>준비된 이별 (With 박은옥)</td>\n",
       "      <td>[아재]</td>\n",
       "      <td>1380</td>\n",
       "    </tr>\n",
       "    <tr>\n",
       "      <th>678762</th>\n",
       "      <td>꽃잎이 떨어지면 (Feat. 뜨때로)</td>\n",
       "      <td>[어쿠스틱 멜로디 (Acoustic Melody)]</td>\n",
       "      <td>1207</td>\n",
       "    </tr>\n",
       "    <tr>\n",
       "      <th>154858</th>\n",
       "      <td>안녕</td>\n",
       "      <td>[폴킴]</td>\n",
       "      <td>1112</td>\n",
       "    </tr>\n",
       "    <tr>\n",
       "      <th>487911</th>\n",
       "      <td>Midnight (Feat. 민우)</td>\n",
       "      <td>[아재]</td>\n",
       "      <td>1307</td>\n",
       "    </tr>\n",
       "    <tr>\n",
       "      <th>108004</th>\n",
       "      <td>언능언능</td>\n",
       "      <td>[홍아]</td>\n",
       "      <td>1184</td>\n",
       "    </tr>\n",
       "    <tr>\n",
       "      <th>616038</th>\n",
       "      <td>그때의 나, 그때의 우리</td>\n",
       "      <td>[어반자카파]</td>\n",
       "      <td>871</td>\n",
       "    </tr>\n",
       "    <tr>\n",
       "      <th>350309</th>\n",
       "      <td>Sad Movie (Vocal by Levi)</td>\n",
       "      <td>[업라이트 (Upright)]</td>\n",
       "      <td>1425</td>\n",
       "    </tr>\n",
       "    <tr>\n",
       "      <th>13281</th>\n",
       "      <td>넌 이별 난 아직 (With 한소현 Of 3rd Coast)</td>\n",
       "      <td>[스탠딩 에그]</td>\n",
       "      <td>1473</td>\n",
       "    </tr>\n",
       "    <tr>\n",
       "      <th>19811</th>\n",
       "      <td>새 사랑</td>\n",
       "      <td>[송하예]</td>\n",
       "      <td>856</td>\n",
       "    </tr>\n",
       "    <tr>\n",
       "      <th>600802</th>\n",
       "      <td>비가 온다</td>\n",
       "      <td>[정승환]</td>\n",
       "      <td>918</td>\n",
       "    </tr>\n",
       "    <tr>\n",
       "      <th>358241</th>\n",
       "      <td>사랑이란 멜로는 없어</td>\n",
       "      <td>[전상근]</td>\n",
       "      <td>1007</td>\n",
       "    </tr>\n",
       "    <tr>\n",
       "      <th>668128</th>\n",
       "      <td>사랑이 그리워</td>\n",
       "      <td>[태인]</td>\n",
       "      <td>1402</td>\n",
       "    </tr>\n",
       "    <tr>\n",
       "      <th>519391</th>\n",
       "      <td>Love Again</td>\n",
       "      <td>[김제훈]</td>\n",
       "      <td>1251</td>\n",
       "    </tr>\n",
       "    <tr>\n",
       "      <th>199262</th>\n",
       "      <td>후회 (Feat. 박은옥)</td>\n",
       "      <td>[아재]</td>\n",
       "      <td>1333</td>\n",
       "    </tr>\n",
       "    <tr>\n",
       "      <th>95323</th>\n",
       "      <td>내일 할 일</td>\n",
       "      <td>[윤종신, 성시경]</td>\n",
       "      <td>1137</td>\n",
       "    </tr>\n",
       "    <tr>\n",
       "      <th>15318</th>\n",
       "      <td>With Winter</td>\n",
       "      <td>[민은서밴드]</td>\n",
       "      <td>1198</td>\n",
       "    </tr>\n",
       "    <tr>\n",
       "      <th>459165</th>\n",
       "      <td>그리워하다</td>\n",
       "      <td>[비투비]</td>\n",
       "      <td>827</td>\n",
       "    </tr>\n",
       "  </tbody>\n",
       "</table>\n",
       "</div>"
      ],
      "text/plain": [
       "                                song_name            artist_name_basket  \\\n",
       "547967                                불안해                  [혜지 (Hyeji)]   \n",
       "235773           이 노래를 듣게 된다면 (Feat. 이소진)  [어쿠스틱 멜로디 (Acoustic Melody)]   \n",
       "68348                      손편지 (Vocal 태인)                          [아재]   \n",
       "703096          사랑에 연습이 있었다면 (Prod. 2soo)                         [임재현]   \n",
       "357367                                  비                          [폴킴]   \n",
       "38261                      한번쯤 (With 박은옥)                          [아재]   \n",
       "448116                         MOM (겨울나무)                          [홍아]   \n",
       "215411                 지금보다 조금 (Feat. 이원)  [어쿠스틱 멜로디 (Acoustic Melody)]   \n",
       "541682                         솔직하게 말해서 나                         [김나영]   \n",
       "674160                  늦은 밤 너의 집 앞 골목길에서                          [노을]   \n",
       "209135                           소란했던 시절에                      [빌리어코스티]   \n",
       "351342                                  끝                         [권진아]   \n",
       "133484                       Oh Beautiful                         [김제훈]   \n",
       "582252                  준비된 이별 (With 박은옥)                          [아재]   \n",
       "678762               꽃잎이 떨어지면 (Feat. 뜨때로)  [어쿠스틱 멜로디 (Acoustic Melody)]   \n",
       "154858                                 안녕                          [폴킴]   \n",
       "487911                Midnight (Feat. 민우)                          [아재]   \n",
       "108004                               언능언능                          [홍아]   \n",
       "616038                      그때의 나, 그때의 우리                       [어반자카파]   \n",
       "350309          Sad Movie (Vocal by Levi)              [업라이트 (Upright)]   \n",
       "13281   넌 이별 난 아직 (With 한소현 Of 3rd Coast)                      [스탠딩 에그]   \n",
       "19811                                새 사랑                         [송하예]   \n",
       "600802                              비가 온다                         [정승환]   \n",
       "358241                        사랑이란 멜로는 없어                         [전상근]   \n",
       "668128                            사랑이 그리워                          [태인]   \n",
       "519391                         Love Again                         [김제훈]   \n",
       "199262                     후회 (Feat. 박은옥)                          [아재]   \n",
       "95323                              내일 할 일                    [윤종신, 성시경]   \n",
       "15318                         With Winter                       [민은서밴드]   \n",
       "459165                              그리워하다                         [비투비]   \n",
       "\n",
       "        popularity  \n",
       "547967        1434  \n",
       "235773        1320  \n",
       "68348         1324  \n",
       "703096         837  \n",
       "357367        1981  \n",
       "38261         1060  \n",
       "448116        1368  \n",
       "215411        1408  \n",
       "541682         602  \n",
       "674160        1119  \n",
       "209135        1312  \n",
       "351342        1203  \n",
       "133484         893  \n",
       "582252        1380  \n",
       "678762        1207  \n",
       "154858        1112  \n",
       "487911        1307  \n",
       "108004        1184  \n",
       "616038         871  \n",
       "350309        1425  \n",
       "13281         1473  \n",
       "19811          856  \n",
       "600802         918  \n",
       "358241        1007  \n",
       "668128        1402  \n",
       "519391        1251  \n",
       "199262        1333  \n",
       "95323         1137  \n",
       "15318         1198  \n",
       "459165         827  "
      ]
     },
     "execution_count": 16,
     "metadata": {},
     "output_type": "execute_result"
    }
   ],
   "source": [
    "song_meta.iloc[rec_df[0]][['song_name','artist_name_basket','popularity']].head(30)"
   ]
  },
  {
   "cell_type": "markdown",
   "id": "8bcab0f3-598f-4767-93c6-94e8f434c7f0",
   "metadata": {},
   "source": [
    "### ~~최종 결과 곡들을 전체인기도로 정렬 후 상위 30곡~~\n",
    "- 아무데나 들어가는 국밥곡들이 있어서 이렇게는 안됨"
   ]
  },
  {
   "cell_type": "code",
   "execution_count": 17,
   "id": "35144660-bb1a-4438-882f-7b2312b76f04",
   "metadata": {
    "ExecuteTime": {
     "end_time": "2021-09-08T16:03:57.018544Z",
     "start_time": "2021-09-08T16:03:57.004582Z"
    },
    "jupyter": {
     "outputs_hidden": true
    },
    "tags": []
   },
   "outputs": [
    {
     "data": {
      "text/html": [
       "<div>\n",
       "<style scoped>\n",
       "    .dataframe tbody tr th:only-of-type {\n",
       "        vertical-align: middle;\n",
       "    }\n",
       "\n",
       "    .dataframe tbody tr th {\n",
       "        vertical-align: top;\n",
       "    }\n",
       "\n",
       "    .dataframe thead th {\n",
       "        text-align: right;\n",
       "    }\n",
       "</style>\n",
       "<table border=\"1\" class=\"dataframe\">\n",
       "  <thead>\n",
       "    <tr style=\"text-align: right;\">\n",
       "      <th></th>\n",
       "      <th>song_name</th>\n",
       "      <th>artist_name_basket</th>\n",
       "      <th>popularity</th>\n",
       "    </tr>\n",
       "  </thead>\n",
       "  <tbody>\n",
       "    <tr>\n",
       "      <th>144663</th>\n",
       "      <td>밤편지</td>\n",
       "      <td>[아이유]</td>\n",
       "      <td>2175</td>\n",
       "    </tr>\n",
       "    <tr>\n",
       "      <th>116573</th>\n",
       "      <td>안아줘</td>\n",
       "      <td>[정준일]</td>\n",
       "      <td>2121</td>\n",
       "    </tr>\n",
       "    <tr>\n",
       "      <th>357367</th>\n",
       "      <td>비</td>\n",
       "      <td>[폴킴]</td>\n",
       "      <td>1981</td>\n",
       "    </tr>\n",
       "    <tr>\n",
       "      <th>366786</th>\n",
       "      <td>가끔 미치도록 네가 안고 싶어질 때가 있어</td>\n",
       "      <td>[가을방학]</td>\n",
       "      <td>1919</td>\n",
       "    </tr>\n",
       "    <tr>\n",
       "      <th>654757</th>\n",
       "      <td>눈의 꽃</td>\n",
       "      <td>[박효신]</td>\n",
       "      <td>1647</td>\n",
       "    </tr>\n",
       "    <tr>\n",
       "      <th>349492</th>\n",
       "      <td>어떤이별</td>\n",
       "      <td>[임승부]</td>\n",
       "      <td>1599</td>\n",
       "    </tr>\n",
       "    <tr>\n",
       "      <th>675115</th>\n",
       "      <td>야생화</td>\n",
       "      <td>[박효신]</td>\n",
       "      <td>1598</td>\n",
       "    </tr>\n",
       "    <tr>\n",
       "      <th>463173</th>\n",
       "      <td>비가 내렸어 (Vocal by 스티브언니)</td>\n",
       "      <td>[업라이트 (Upright)]</td>\n",
       "      <td>1544</td>\n",
       "    </tr>\n",
       "    <tr>\n",
       "      <th>42155</th>\n",
       "      <td>벙어리</td>\n",
       "      <td>[홍아]</td>\n",
       "      <td>1540</td>\n",
       "    </tr>\n",
       "    <tr>\n",
       "      <th>396828</th>\n",
       "      <td>쉬운사랑</td>\n",
       "      <td>[중신]</td>\n",
       "      <td>1538</td>\n",
       "    </tr>\n",
       "    <tr>\n",
       "      <th>461341</th>\n",
       "      <td>어떻게 지내</td>\n",
       "      <td>[Crush]</td>\n",
       "      <td>1526</td>\n",
       "    </tr>\n",
       "    <tr>\n",
       "      <th>174749</th>\n",
       "      <td>비도 오고 그래서 (Feat. 신용재)</td>\n",
       "      <td>[헤이즈 (Heize)]</td>\n",
       "      <td>1512</td>\n",
       "    </tr>\n",
       "    <tr>\n",
       "      <th>520093</th>\n",
       "      <td>고마운 사람 (Vocal by 이소진)</td>\n",
       "      <td>[업라이트 (Upright)]</td>\n",
       "      <td>1508</td>\n",
       "    </tr>\n",
       "    <tr>\n",
       "      <th>485155</th>\n",
       "      <td>선물</td>\n",
       "      <td>[민우]</td>\n",
       "      <td>1492</td>\n",
       "    </tr>\n",
       "    <tr>\n",
       "      <th>523521</th>\n",
       "      <td>사랑을 놓치고</td>\n",
       "      <td>[박은옥]</td>\n",
       "      <td>1476</td>\n",
       "    </tr>\n",
       "    <tr>\n",
       "      <th>13281</th>\n",
       "      <td>넌 이별 난 아직 (With 한소현 Of 3rd Coast)</td>\n",
       "      <td>[스탠딩 에그]</td>\n",
       "      <td>1473</td>\n",
       "    </tr>\n",
       "    <tr>\n",
       "      <th>648628</th>\n",
       "      <td>분홍빛 가득한 날에 (Vocal by 호수)</td>\n",
       "      <td>[아재]</td>\n",
       "      <td>1470</td>\n",
       "    </tr>\n",
       "    <tr>\n",
       "      <th>449244</th>\n",
       "      <td>스토커</td>\n",
       "      <td>[10CM]</td>\n",
       "      <td>1468</td>\n",
       "    </tr>\n",
       "    <tr>\n",
       "      <th>680366</th>\n",
       "      <td>끝내지 못한 이야기 (Feat. 호수)</td>\n",
       "      <td>[어쿠스틱 멜로디 (Acoustic Melody)]</td>\n",
       "      <td>1467</td>\n",
       "    </tr>\n",
       "    <tr>\n",
       "      <th>169984</th>\n",
       "      <td>같은 시간 속의 너</td>\n",
       "      <td>[나얼]</td>\n",
       "      <td>1463</td>\n",
       "    </tr>\n",
       "    <tr>\n",
       "      <th>422915</th>\n",
       "      <td>연인</td>\n",
       "      <td>[중신]</td>\n",
       "      <td>1455</td>\n",
       "    </tr>\n",
       "    <tr>\n",
       "      <th>187047</th>\n",
       "      <td>착각</td>\n",
       "      <td>[박은옥]</td>\n",
       "      <td>1437</td>\n",
       "    </tr>\n",
       "    <tr>\n",
       "      <th>547967</th>\n",
       "      <td>불안해</td>\n",
       "      <td>[혜지 (Hyeji)]</td>\n",
       "      <td>1434</td>\n",
       "    </tr>\n",
       "    <tr>\n",
       "      <th>422077</th>\n",
       "      <td>너로 가득해</td>\n",
       "      <td>[혜지 (Hyeji)]</td>\n",
       "      <td>1432</td>\n",
       "    </tr>\n",
       "    <tr>\n",
       "      <th>350309</th>\n",
       "      <td>Sad Movie (Vocal by Levi)</td>\n",
       "      <td>[업라이트 (Upright)]</td>\n",
       "      <td>1425</td>\n",
       "    </tr>\n",
       "    <tr>\n",
       "      <th>627363</th>\n",
       "      <td>널 사랑하지 않아</td>\n",
       "      <td>[어반자카파]</td>\n",
       "      <td>1424</td>\n",
       "    </tr>\n",
       "    <tr>\n",
       "      <th>300087</th>\n",
       "      <td>Madeleine Love</td>\n",
       "      <td>[CHEEZE (치즈)]</td>\n",
       "      <td>1415</td>\n",
       "    </tr>\n",
       "    <tr>\n",
       "      <th>215411</th>\n",
       "      <td>지금보다 조금 (Feat. 이원)</td>\n",
       "      <td>[어쿠스틱 멜로디 (Acoustic Melody)]</td>\n",
       "      <td>1408</td>\n",
       "    </tr>\n",
       "    <tr>\n",
       "      <th>427724</th>\n",
       "      <td>지워줄게 (Vocal by 스티브언니)</td>\n",
       "      <td>[아재]</td>\n",
       "      <td>1407</td>\n",
       "    </tr>\n",
       "    <tr>\n",
       "      <th>442014</th>\n",
       "      <td>내 곁에 있어줘</td>\n",
       "      <td>[중신]</td>\n",
       "      <td>1403</td>\n",
       "    </tr>\n",
       "  </tbody>\n",
       "</table>\n",
       "</div>"
      ],
      "text/plain": [
       "                                song_name            artist_name_basket  \\\n",
       "144663                                밤편지                         [아이유]   \n",
       "116573                                안아줘                         [정준일]   \n",
       "357367                                  비                          [폴킴]   \n",
       "366786            가끔 미치도록 네가 안고 싶어질 때가 있어                        [가을방학]   \n",
       "654757                               눈의 꽃                         [박효신]   \n",
       "349492                               어떤이별                         [임승부]   \n",
       "675115                                야생화                         [박효신]   \n",
       "463173            비가 내렸어 (Vocal by 스티브언니)              [업라이트 (Upright)]   \n",
       "42155                                 벙어리                          [홍아]   \n",
       "396828                               쉬운사랑                          [중신]   \n",
       "461341                             어떻게 지내                       [Crush]   \n",
       "174749              비도 오고 그래서 (Feat. 신용재)                 [헤이즈 (Heize)]   \n",
       "520093              고마운 사람 (Vocal by 이소진)              [업라이트 (Upright)]   \n",
       "485155                                 선물                          [민우]   \n",
       "523521                            사랑을 놓치고                         [박은옥]   \n",
       "13281   넌 이별 난 아직 (With 한소현 Of 3rd Coast)                      [스탠딩 에그]   \n",
       "648628           분홍빛 가득한 날에 (Vocal by 호수)                          [아재]   \n",
       "449244                                스토커                        [10CM]   \n",
       "680366              끝내지 못한 이야기 (Feat. 호수)  [어쿠스틱 멜로디 (Acoustic Melody)]   \n",
       "169984                         같은 시간 속의 너                          [나얼]   \n",
       "422915                                 연인                          [중신]   \n",
       "187047                                 착각                         [박은옥]   \n",
       "547967                                불안해                  [혜지 (Hyeji)]   \n",
       "422077                             너로 가득해                  [혜지 (Hyeji)]   \n",
       "350309          Sad Movie (Vocal by Levi)              [업라이트 (Upright)]   \n",
       "627363                          널 사랑하지 않아                       [어반자카파]   \n",
       "300087                     Madeleine Love                 [CHEEZE (치즈)]   \n",
       "215411                 지금보다 조금 (Feat. 이원)  [어쿠스틱 멜로디 (Acoustic Melody)]   \n",
       "427724              지워줄게 (Vocal by 스티브언니)                          [아재]   \n",
       "442014                           내 곁에 있어줘                          [중신]   \n",
       "\n",
       "        popularity  \n",
       "144663        2175  \n",
       "116573        2121  \n",
       "357367        1981  \n",
       "366786        1919  \n",
       "654757        1647  \n",
       "349492        1599  \n",
       "675115        1598  \n",
       "463173        1544  \n",
       "42155         1540  \n",
       "396828        1538  \n",
       "461341        1526  \n",
       "174749        1512  \n",
       "520093        1508  \n",
       "485155        1492  \n",
       "523521        1476  \n",
       "13281         1473  \n",
       "648628        1470  \n",
       "449244        1468  \n",
       "680366        1467  \n",
       "169984        1463  \n",
       "422915        1455  \n",
       "187047        1437  \n",
       "547967        1434  \n",
       "422077        1432  \n",
       "350309        1425  \n",
       "627363        1424  \n",
       "300087        1415  \n",
       "215411        1408  \n",
       "427724        1407  \n",
       "442014        1403  "
      ]
     },
     "execution_count": 17,
     "metadata": {},
     "output_type": "execute_result"
    }
   ],
   "source": [
    "song_meta.iloc[rec_df[0]][['song_name','artist_name_basket','popularity']].sort_values(by = 'popularity', ascending = False).head(30)"
   ]
  },
  {
   "cell_type": "markdown",
   "id": "92c8d68d-d768-493a-a7e2-9611a5a5e78f",
   "metadata": {},
   "source": [
    "---"
   ]
  },
  {
   "cell_type": "markdown",
   "id": "aa87df76-00ef-4814-915c-9ff002b3b5be",
   "metadata": {},
   "source": [
    "# 테스트 해보기"
   ]
  },
  {
   "cell_type": "code",
   "execution_count": 18,
   "id": "34eef4e2-5f01-44ee-bfbc-c83460bddedd",
   "metadata": {
    "ExecuteTime": {
     "end_time": "2021-09-08T16:03:58.215350Z",
     "start_time": "2021-09-08T16:03:58.201386Z"
    }
   },
   "outputs": [],
   "source": [
    "def recommend(input_tags):  \n",
    "    \n",
    "    input_tag_id = [tag_to_id.get(x) for x in input_tags if tag_to_id.get(x) is not None]\n",
    "    if not input_tag_id:\n",
    "        print('입력하신 태그가 모두 존재하지 않습니다.')\n",
    "        return 0\n",
    "    \n",
    "    selected_playlists = []\n",
    "    for tag_id in input_tag_id:\n",
    "        # tag_id인 열 가져오기\n",
    "        temp_list = ply_tag[:,tag_id].toarray().reshape(-1)\n",
    "        # 그 중 1인 것만 playlist에 넣기\n",
    "        selected_playlists.append(np.argwhere(temp_list == 1).reshape(-1))\n",
    "\n",
    "    tag_playlist_songs = []\n",
    "    for playlist in selected_playlists:\n",
    "        # 태그에 딸린 플레이리스트들의 곡을 합친 리스트.\n",
    "        temp = np.concatenate(train.iloc[playlist]['songs'].tolist())\n",
    "        tag_playlist_songs.append(temp)\n",
    "\n",
    "    counts = []\n",
    "    for song in tag_playlist_songs:\n",
    "        counts.append(dict(Counter(song)))\n",
    "        \n",
    "    popular_songs_each_tag = []\n",
    "    for count in counts:\n",
    "        popular_songs_each_tag.append(sorted(count, key= count.get, reverse = True)[:200])\n",
    "    \n",
    "    \n",
    "    # 인풋 태그가 한개면 그냥 상위 30곡 리턴\n",
    "    input_tag_cnt = len(input_tag_id)\n",
    "    if input_tag_cnt < 2:\n",
    "        return song_meta.iloc[popular_songs_each_tag[0]][['song_name','artist_name_basket','popularity']].head(30)\n",
    "    \n",
    "    \n",
    "    # 모든 조합 구하기\n",
    "    combs = list(chain.from_iterable(combinations(popular_songs_each_tag, r) for r in range(2, (input_tag_cnt + 1))))\n",
    "\n",
    "    rec_playlist = []\n",
    "    for comb in combs:\n",
    "        rec_playlist.extend(list(set.intersection(*map(set,comb))))\n",
    "    rec_playlist.reverse()\n",
    "        \n",
    "    \n",
    "    rec_df = pd.DataFrame(rec_playlist)\n",
    "    rec_df.drop_duplicates(inplace= True, ignore_index = True)\n",
    "    \n",
    "    if len(rec_df) == 0:\n",
    "        print('곡이 존재하지 않습니다.')\n",
    "        return 0\n",
    "    \n",
    "    return song_meta.iloc[rec_df[0]][['song_name','artist_name_basket','popularity']].head(30)"
   ]
  },
  {
   "cell_type": "markdown",
   "id": "01ceb193-c7a0-4a0e-89de-dc078f6d0c36",
   "metadata": {},
   "source": [
    "### 테스트 하려면 아래 셀을 실행"
   ]
  },
  {
   "cell_type": "code",
   "execution_count": 60,
   "id": "9cf3cc1f",
   "metadata": {
    "ExecuteTime": {
     "end_time": "2021-09-08T16:13:49.863553Z",
     "start_time": "2021-09-08T16:13:49.844610Z"
    }
   },
   "outputs": [],
   "source": [
    "def konlpy_preprocessing(text, removes_stopwords = False, stop_words = []):\n",
    "    # review : 전처리할 텍스트\n",
    "    # okt : okt 객체를 반복적으로 사용하지 않고 미리 생성한 후 인자로 받는다\n",
    "    # 불용어 사전은 사용자가 직접 입력해야함. 기본값은 빈 리스트    \n",
    "    \n",
    "    \n",
    "    text = re.sub('[^A-Za-z가-힣0-9]',\" \",text)\n",
    "    txt = spell_checker.check(text).checked\n",
    "    \n",
    "    \n",
    "    # okt를 활용해서 \n",
    "    # stem = True > 어간 추출\n",
    "    # norm = True > 정규화 진행\n",
    "    \n",
    "    morph = okt.morphs(txt, stem = True, norm = True)\n",
    "\n",
    "#     sentences_tag = []    \n",
    "#     sentences_tag.append(morph)\n",
    "    \n",
    "    \n",
    "    parts_of_speech = []\n",
    "    # mecab으로 원하는 품사만 뽑아오기\n",
    "    for mor in morph:\n",
    "        for word, tag in m.pos(mor):\n",
    "            \n",
    "            if tag in ['NNG', 'NNP', 'NNBC', 'VV','VA', 'XR', 'MAG', 'SN','SL']:\n",
    "                parts_of_speech.append(word.lower())  \n",
    "            \n",
    "#             if tag in ['NNG', 'NNP', 'VA', 'XR', 'MAG', 'SL']:\n",
    "#                 part_of_speech.append(word)\n",
    "#             elif tag  == 'SN':\n",
    "#                 b = str(word)\n",
    "#             elif tag == 'NNBC':\n",
    "#                 c = str(word)\n",
    "#                 part_of_speech.append(b+c)                           \n",
    "    \n",
    "#     parts_of_speech = parts_of_speech\n",
    "    \n",
    "    # stopwords에 있는 단어 제거\n",
    "    if removes_stopwords == True:\n",
    "        parts_of_speech = [token for token in parts_of_speech if not token in stop_words]    \n",
    "\n",
    "        stops = set(stopwords.words('english')) # 영어 불용어 불러오기\n",
    "\n",
    "        parts_of_speech = [w for w in parts_of_speech if not w in stops] \n",
    "    \n",
    "        \n",
    "    \n",
    "    return parts_of_speech"
   ]
  },
  {
   "cell_type": "code",
   "execution_count": 64,
   "id": "27f973d5-53fe-4fd4-ba4b-5159b8d0c028",
   "metadata": {
    "ExecuteTime": {
     "end_time": "2021-09-08T16:14:13.363152Z",
     "start_time": "2021-09-08T16:14:09.612454Z"
    },
    "scrolled": false
   },
   "outputs": [
    {
     "name": "stdout",
     "output_type": "stream",
     "text": [
      "태그를 입력하세요(띄어쓰기 구분) :신나는 발라드\n",
      "곡이 존재하지 않습니다.\n"
     ]
    },
    {
     "data": {
      "text/plain": [
       "0"
      ]
     },
     "metadata": {},
     "output_type": "display_data"
    }
   ],
   "source": [
    "while True:\n",
    "    test_tag = konlpy_preprocessing(input('태그를 입력하세요(띄어쓰기 구분) :' ), removes_stopwords = True, stop_words = stopword)\n",
    "    if not test_tag or test_tag == ['']:\n",
    "        print('태그 입력하세요')\n",
    "        continue\n",
    "    else:\n",
    "        r1 = recommend(test_tag)\n",
    "        display(r1)\n",
    "    break"
   ]
  }
 ],
 "metadata": {
  "kernelspec": {
   "display_name": "Python 3",
   "language": "python",
   "name": "python3"
  },
  "language_info": {
   "codemirror_mode": {
    "name": "ipython",
    "version": 3
   },
   "file_extension": ".py",
   "mimetype": "text/x-python",
   "name": "python",
   "nbconvert_exporter": "python",
   "pygments_lexer": "ipython3",
   "version": "3.8.5"
  },
  "toc": {
   "base_numbering": 1,
   "nav_menu": {},
   "number_sections": true,
   "sideBar": true,
   "skip_h1_title": false,
   "title_cell": "Table of Contents",
   "title_sidebar": "Contents",
   "toc_cell": false,
   "toc_position": {},
   "toc_section_display": true,
   "toc_window_display": false
  },
  "varInspector": {
   "cols": {
    "lenName": 16,
    "lenType": 16,
    "lenVar": 40
   },
   "kernels_config": {
    "python": {
     "delete_cmd_postfix": "",
     "delete_cmd_prefix": "del ",
     "library": "var_list.py",
     "varRefreshCmd": "print(var_dic_list())"
    },
    "r": {
     "delete_cmd_postfix": ") ",
     "delete_cmd_prefix": "rm(",
     "library": "var_list.r",
     "varRefreshCmd": "cat(var_dic_list()) "
    }
   },
   "types_to_exclude": [
    "module",
    "function",
    "builtin_function_or_method",
    "instance",
    "_Feature"
   ],
   "window_display": false
  }
 },
 "nbformat": 4,
 "nbformat_minor": 5
}
