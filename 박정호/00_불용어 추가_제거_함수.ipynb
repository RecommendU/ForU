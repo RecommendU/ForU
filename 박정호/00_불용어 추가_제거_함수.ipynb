{
 "cells": [
  {
   "cell_type": "markdown",
   "metadata": {},
   "source": [
    "# 불용어 크롤링"
   ]
  },
  {
   "cell_type": "code",
   "execution_count": null,
   "metadata": {},
   "outputs": [],
   "source": [
    "# 불용어 크롤링\n",
    "from selenium import webdriver\n",
    "import requests\n",
    "import time\n",
    "\n",
    "stopwords_dict = {\n",
    "            'stopwords' : []\n",
    "}\n",
    "\n",
    "driver = webdriver.Chrome('chromedriver')\n",
    "site = 'https://www.ranks.nl/stopwords/korean'\n",
    "time.sleep(6)\n",
    "driver.get(site)\n",
    "\n",
    "a1 = driver.find_element_by_css_selector('#article178ebefbfb1b165454ec9f168f545239 > div.panel-body > table')\n",
    "\n",
    "li_list= a1.find_elements_by_css_selector('tbody')\n",
    "\n",
    "\n",
    "for i in li_list:\n",
    "    a_tag = i.find_element_by_css_selector('tr')\n",
    "    a = a_tag.text.strip()\n",
    "    \n",
    "    char_list = ['\\\\', '/',':','*','\"','?','<','>','|','\\n']\n",
    "    \n",
    "    for c1 in char_list:\n",
    "        stopwords = a.replace(c1, ' ')\n",
    "        \n",
    "    for j in stopwords.split():\n",
    "        stopwords_dict['stopwords'].append(j)\n",
    "\n",
    "df = pd.DataFrame(stopwords_dict, columns=['stopwords'])"
   ]
  },
  {
   "cell_type": "markdown",
   "metadata": {},
   "source": [
    "---\n",
    "---\n",
    "---"
   ]
  },
  {
   "cell_type": "markdown",
   "metadata": {},
   "source": [
    "# 불용어 추가"
   ]
  },
  {
   "cell_type": "code",
   "execution_count": 1,
   "metadata": {},
   "outputs": [],
   "source": [
    "# stopwords 추가\n",
    "\n",
    "import pandas as pd\n",
    "import numpy as np\n",
    "\n",
    "# lit = 'ㄱ ㄴ ㄷ ㄹ ㅁ ㅅ ㅂ ㅇ ㅈ ㅊ ㅋ ㅌ ㅎ ㄱ ㄱ ㄱ ㄱ'\n",
    "# 이런 식으로 띄어쓰기로 단어 추가하면 된다\n",
    "# 중복 제거되고 \n",
    "\n",
    "\n",
    "def append_stopwords(lit):\n",
    "    stopwords = pd.read_csv('data/stopword.csv')\n",
    "    stopwords_dict = stopwords.to_dict('list')\n",
    "    stopwords_dict\n",
    "    print('기존 개수 : ',stopwords.shape,'\\n')\n",
    "    \n",
    "    lit = lit.split()\n",
    "    \n",
    "    for i in lit:\n",
    "        stopwords_dict['stopwords'].append(i)\n",
    "        \n",
    "    stopwords_df = pd.DataFrame(stopwords_dict,columns=['stopwords'])\n",
    "    stopwords_df = stopwords_df.drop_duplicates()\n",
    "    print('추가한 후 개수 : ', stopwords_df.shape,'\\n')\n",
    "    \n",
    "    \n",
    "    stopwords_df.to_csv('data/stopword.csv',index = False, encoding = 'utf-8' )\n",
    "    print('저장완료')\n",
    "    return stopwords_df"
   ]
  },
  {
   "cell_type": "code",
   "execution_count": 117,
   "metadata": {},
   "outputs": [],
   "source": [
    "def remove_stopwords(lit):\n",
    "    stopwords = pd.read_csv('data/stopword.csv')\n",
    "    print('기존 개수 : ',stopwords.shape,'\\n')\n",
    "    lit = lit.split()\n",
    "    \n",
    "    for i in lit:\n",
    "        \n",
    "        \n",
    "        x = stopwords[stopwords['stopwords'] == i].index\n",
    "        stopwords = stopwords.drop(x,axis=0).reset_index(drop=True)\n",
    "         \n",
    "    stopwords.to_csv('data/stopword.csv',index = False, encoding = 'utf-8' )\n",
    "        \n",
    "    print('추가한 후 개수 : ', stopwords.shape,'\\n')\n",
    "    \n",
    "    return stopwords"
   ]
  },
  {
   "cell_type": "code",
   "execution_count": 106,
   "metadata": {
    "scrolled": true
   },
   "outputs": [
    {
     "name": "stdout",
     "output_type": "stream",
     "text": [
      "기존 개수 :  (702, 1) \n",
      "\n",
      "추가한 후 개수 :  (706, 1) \n",
      "\n",
      "저장완료\n"
     ]
    },
    {
     "data": {
      "text/html": [
       "<div>\n",
       "<style scoped>\n",
       "    .dataframe tbody tr th:only-of-type {\n",
       "        vertical-align: middle;\n",
       "    }\n",
       "\n",
       "    .dataframe tbody tr th {\n",
       "        vertical-align: top;\n",
       "    }\n",
       "\n",
       "    .dataframe thead th {\n",
       "        text-align: right;\n",
       "    }\n",
       "</style>\n",
       "<table border=\"1\" class=\"dataframe\">\n",
       "  <thead>\n",
       "    <tr style=\"text-align: right;\">\n",
       "      <th></th>\n",
       "      <th>stopwords</th>\n",
       "    </tr>\n",
       "  </thead>\n",
       "  <tbody>\n",
       "    <tr>\n",
       "      <th>0</th>\n",
       "      <td>아</td>\n",
       "    </tr>\n",
       "    <tr>\n",
       "      <th>1</th>\n",
       "      <td>휴</td>\n",
       "    </tr>\n",
       "    <tr>\n",
       "      <th>2</th>\n",
       "      <td>아이구</td>\n",
       "    </tr>\n",
       "    <tr>\n",
       "      <th>3</th>\n",
       "      <td>아이쿠</td>\n",
       "    </tr>\n",
       "    <tr>\n",
       "      <th>4</th>\n",
       "      <td>아이고</td>\n",
       "    </tr>\n",
       "    <tr>\n",
       "      <th>...</th>\n",
       "      <td>...</td>\n",
       "    </tr>\n",
       "    <tr>\n",
       "      <th>701</th>\n",
       "      <td>은</td>\n",
       "    </tr>\n",
       "    <tr>\n",
       "      <th>702</th>\n",
       "      <td>날</td>\n",
       "    </tr>\n",
       "    <tr>\n",
       "      <th>703</th>\n",
       "      <td>앤</td>\n",
       "    </tr>\n",
       "    <tr>\n",
       "      <th>704</th>\n",
       "      <td>함</td>\n",
       "    </tr>\n",
       "    <tr>\n",
       "      <th>705</th>\n",
       "      <td>위</td>\n",
       "    </tr>\n",
       "  </tbody>\n",
       "</table>\n",
       "<p>706 rows × 1 columns</p>\n",
       "</div>"
      ],
      "text/plain": [
       "    stopwords\n",
       "0           아\n",
       "1           휴\n",
       "2         아이구\n",
       "3         아이쿠\n",
       "4         아이고\n",
       "..        ...\n",
       "701         은\n",
       "702         날\n",
       "703         앤\n",
       "704         함\n",
       "705         위\n",
       "\n",
       "[706 rows x 1 columns]"
      ]
     },
     "execution_count": 106,
     "metadata": {},
     "output_type": "execute_result"
    }
   ],
   "source": [
    "append_stopwords('')"
   ]
  },
  {
   "cell_type": "code",
   "execution_count": 110,
   "metadata": {
    "scrolled": true
   },
   "outputs": [
    {
     "data": {
      "text/html": [
       "<div>\n",
       "<style scoped>\n",
       "    .dataframe tbody tr th:only-of-type {\n",
       "        vertical-align: middle;\n",
       "    }\n",
       "\n",
       "    .dataframe tbody tr th {\n",
       "        vertical-align: top;\n",
       "    }\n",
       "\n",
       "    .dataframe thead th {\n",
       "        text-align: right;\n",
       "    }\n",
       "</style>\n",
       "<table border=\"1\" class=\"dataframe\">\n",
       "  <thead>\n",
       "    <tr style=\"text-align: right;\">\n",
       "      <th></th>\n",
       "      <th>stopwords</th>\n",
       "    </tr>\n",
       "  </thead>\n",
       "  <tbody>\n",
       "  </tbody>\n",
       "</table>\n",
       "</div>"
      ],
      "text/plain": [
       "Empty DataFrame\n",
       "Columns: [stopwords]\n",
       "Index: []"
      ]
     },
     "execution_count": 110,
     "metadata": {},
     "output_type": "execute_result"
    }
   ],
   "source": [
    "stopwords.query('stopwords == \"살\"')"
   ]
  },
  {
   "cell_type": "code",
   "execution_count": 116,
   "metadata": {},
   "outputs": [
    {
     "data": {
      "text/html": [
       "<div>\n",
       "<style scoped>\n",
       "    .dataframe tbody tr th:only-of-type {\n",
       "        vertical-align: middle;\n",
       "    }\n",
       "\n",
       "    .dataframe tbody tr th {\n",
       "        vertical-align: top;\n",
       "    }\n",
       "\n",
       "    .dataframe thead th {\n",
       "        text-align: right;\n",
       "    }\n",
       "</style>\n",
       "<table border=\"1\" class=\"dataframe\">\n",
       "  <thead>\n",
       "    <tr style=\"text-align: right;\">\n",
       "      <th></th>\n",
       "      <th>stopwords</th>\n",
       "    </tr>\n",
       "  </thead>\n",
       "  <tbody>\n",
       "    <tr>\n",
       "      <th>0</th>\n",
       "      <td>아</td>\n",
       "    </tr>\n",
       "    <tr>\n",
       "      <th>1</th>\n",
       "      <td>휴</td>\n",
       "    </tr>\n",
       "    <tr>\n",
       "      <th>2</th>\n",
       "      <td>아이구</td>\n",
       "    </tr>\n",
       "    <tr>\n",
       "      <th>3</th>\n",
       "      <td>아이쿠</td>\n",
       "    </tr>\n",
       "    <tr>\n",
       "      <th>4</th>\n",
       "      <td>아이고</td>\n",
       "    </tr>\n",
       "    <tr>\n",
       "      <th>...</th>\n",
       "      <td>...</td>\n",
       "    </tr>\n",
       "    <tr>\n",
       "      <th>698</th>\n",
       "      <td>은</td>\n",
       "    </tr>\n",
       "    <tr>\n",
       "      <th>699</th>\n",
       "      <td>날</td>\n",
       "    </tr>\n",
       "    <tr>\n",
       "      <th>700</th>\n",
       "      <td>앤</td>\n",
       "    </tr>\n",
       "    <tr>\n",
       "      <th>701</th>\n",
       "      <td>함</td>\n",
       "    </tr>\n",
       "    <tr>\n",
       "      <th>702</th>\n",
       "      <td>위</td>\n",
       "    </tr>\n",
       "  </tbody>\n",
       "</table>\n",
       "<p>703 rows × 1 columns</p>\n",
       "</div>"
      ],
      "text/plain": [
       "    stopwords\n",
       "0           아\n",
       "1           휴\n",
       "2         아이구\n",
       "3         아이쿠\n",
       "4         아이고\n",
       "..        ...\n",
       "698         은\n",
       "699         날\n",
       "700         앤\n",
       "701         함\n",
       "702         위\n",
       "\n",
       "[703 rows x 1 columns]"
      ]
     },
     "execution_count": 116,
     "metadata": {},
     "output_type": "execute_result"
    }
   ],
   "source": [
    "remove_stopwords('ㄱ ㄴ')"
   ]
  },
  {
   "cell_type": "code",
   "execution_count": 107,
   "metadata": {},
   "outputs": [],
   "source": [
    "import pandas as pd\n",
    "import numpy as np\n",
    "\n",
    "stopwords = pd.read_csv('data/stopword.csv')\n",
    "\n",
    "stopwords.query('stopwords == \"살\"')"
   ]
  },
  {
   "cell_type": "code",
   "execution_count": null,
   "metadata": {},
   "outputs": [],
   "source": []
  }
 ],
 "metadata": {
  "kernelspec": {
   "display_name": "Python 3",
   "language": "python",
   "name": "python3"
  },
  "language_info": {
   "codemirror_mode": {
    "name": "ipython",
    "version": 3
   },
   "file_extension": ".py",
   "mimetype": "text/x-python",
   "name": "python",
   "nbconvert_exporter": "python",
   "pygments_lexer": "ipython3",
   "version": "3.8.8"
  }
 },
 "nbformat": 4,
 "nbformat_minor": 4
}
