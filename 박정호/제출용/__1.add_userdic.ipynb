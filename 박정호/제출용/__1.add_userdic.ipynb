{
 "cells": [
  {
   "cell_type": "markdown",
   "metadata": {},
   "source": [
    "# 1. add user dictionary\n",
    "\n",
    "mecab의 사용자 사전을 추가"
   ]
  },
  {
   "cell_type": "code",
   "execution_count": 1,
   "metadata": {},
   "outputs": [
    {
     "name": "stdout",
     "output_type": "stream",
     "text": [
      "22812\n",
      "22812\n"
     ]
    }
   ],
   "source": [
    "import pickle\n",
    "import numpy as np\n",
    "\n",
    "with open(r\"/home/ubuntu/workspace/mecab-ko-dic-2.1.1-20180720/user-dic/nnp.csv\", 'r', encoding='utf-8') as f: \n",
    "    file_data = f.readlines()\n",
    "file_data =list(set(file_data))\n",
    "print(len(file_data))\n",
    "\n",
    "with open( \"data/add_user_dictionary.pickle\", \"rb\" ) as file:\n",
    "    loaded_data = pickle.load(file)\n",
    "print(len(loaded_data))"
   ]
  },
  {
   "cell_type": "code",
   "execution_count": 2,
   "metadata": {},
   "outputs": [
    {
     "name": "stdout",
     "output_type": "stream",
     "text": [
      "22811\n"
     ]
    }
   ],
   "source": [
    "import re\n",
    "loaded_data = list(set(np.concatenate([re.sub('[^A-Za-z가-힣0-9]',\" \",text).split() for text in file_data])))\n",
    "loaded_data.remove('NNP')\n",
    "loaded_data.remove('T')\n",
    "print(len(loaded_data))"
   ]
  },
  {
   "cell_type": "code",
   "execution_count": 6,
   "metadata": {},
   "outputs": [],
   "source": [
    "loaded_data.append('비욘세')"
   ]
  },
  {
   "cell_type": "code",
   "execution_count": 7,
   "metadata": {},
   "outputs": [
    {
     "name": "stdout",
     "output_type": "stream",
     "text": [
      "22812\n",
      "22812\n"
     ]
    }
   ],
   "source": [
    "x = loaded_data\n",
    "\n",
    "file_data = []\n",
    "for X in x:\n",
    "    file_data.append(f'{X},,,,NNP,*,T,{X},*,*,*,*,*\\n')\n",
    "#     loaded_data.append(X)\n",
    "\n",
    "file_data = list(set(file_data))\n",
    "loaded_data = list(set(loaded_data))\n",
    "    \n",
    "with open(r\"/home/ubuntu/workspace/mecab-ko-dic-2.1.1-20180720/user-dic/nnp.csv\", 'w', encoding='utf-8') as f: \n",
    "    for line in file_data: \n",
    "        f.write(line)\n",
    "        \n",
    "with open( \"data/add_user_dictionary.pickle\", \"wb\" ) as file:\n",
    "    pickle.dump(loaded_data, file)        \n",
    "\n",
    "print(len(file_data))\n",
    "print(len(loaded_data))"
   ]
  },
  {
   "cell_type": "markdown",
   "metadata": {},
   "source": [
    "# 2. 불용어 크롤링\n",
    "google에 있는 한글 불용어 사전을 크롤링해서 pickle로 저장"
   ]
  },
  {
   "cell_type": "code",
   "execution_count": null,
   "metadata": {},
   "outputs": [],
   "source": [
    "# 불용어 크롤링\n",
    "from selenium import webdriver\n",
    "import requests\n",
    "import time\n",
    "\n",
    "stopwords_dict = {\n",
    "            'stopwords' : []\n",
    "}\n",
    "\n",
    "driver = webdriver.Chrome('/home/ubuntu/workspace/jh/project/chromedriver')\n",
    "site = 'https://www.ranks.nl/stopwords/korean'\n",
    "time.sleep(2)\n",
    "driver.get(site)\n",
    "\n",
    "a1 = driver.find_element_by_css_selector('#article178ebefbfb1b165454ec9f168f545239 > div.panel-body > table')\n",
    "\n",
    "li_list= a1.find_elements_by_css_selector('tbody')\n",
    "\n",
    "\n",
    "for i in li_list:\n",
    "    a_tag = i.find_element_by_css_selector('tr')\n",
    "    a = a_tag.text.strip()\n",
    "    \n",
    "    char_list = ['\\\\', '/',':','*','\"','?','<','>','|','\\n']\n",
    "    \n",
    "    for c1 in char_list:\n",
    "        stopwords = a.replace(c1, ' ')\n",
    "        \n",
    "    for j in stopwords.split():\n",
    "        stopwords_dict['stopwords'].append(j)\n",
    "\n",
    "pickle.dump(stopword_dict,\"data/stopword.pickle\", \"wb\")"
   ]
  },
  {
   "cell_type": "code",
   "execution_count": null,
   "metadata": {},
   "outputs": [],
   "source": []
  }
 ],
 "metadata": {
  "interpreter": {
   "hash": "7a2c4b191d1ae843dde5cb5f4d1f62fa892f6b79b0f9392a84691e890e33c5a4"
  },
  "kernelspec": {
   "display_name": "Python 3.9.5 64-bit ('base': conda)",
   "language": "python",
   "name": "python3"
  },
  "language_info": {
   "codemirror_mode": {
    "name": "ipython",
    "version": 3
   },
   "file_extension": ".py",
   "mimetype": "text/x-python",
   "name": "python",
   "nbconvert_exporter": "python",
   "pygments_lexer": "ipython3",
   "version": "3.8.11"
  },
  "orig_nbformat": 4
 },
 "nbformat": 4,
 "nbformat_minor": 2
}
