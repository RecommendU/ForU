{
 "cells": [
  {
   "cell_type": "code",
   "execution_count": 1,
   "metadata": {},
   "outputs": [],
   "source": [
    "import numpy as np\n",
    "import pandas as pd\n",
    "import seaborn as sns\n",
    "import matplotlib.pyplot as plt\n",
    "\n",
    "plt.rcParams['font.family'] = 'Malgun Gothic'\n",
    "plt.rcParams['font.size'] = 15\n",
    "plt.rcParams['axes.unicode_minus'] = False\n",
    "plt.rcParams['figure.figsize'] = 16,8\n",
    "\n",
    "from collections import Counter,defaultdict\n",
    "from itertools import chain, combinations\n",
    "\n",
    "import warnings\n",
    "warnings.filterwarnings('ignore')\n",
    "\n",
    "import imshow\n",
    "from wordcloud import WordCloud\n",
    "from PIL import Image\n",
    "\n",
    "from itertools import chain\n",
    "from collections import Counter\n",
    "import pickle\n",
    "\n",
    "import re\n",
    "import sent2vec\n",
    "import hnswlib\n",
    "from gensim.models import Word2Vec\n",
    "from gensim import corpora\n",
    "\n",
    "\n",
    "import math\n",
    "\n",
    "from py_file.total_processing import konlpy_preprocessing\n",
    "kp = konlpy_preprocessing()"
   ]
  },
  {
   "cell_type": "code",
   "execution_count": 2,
   "metadata": {},
   "outputs": [
    {
     "data": {
      "text/html": [
       "<div>\n",
       "<style scoped>\n",
       "    .dataframe tbody tr th:only-of-type {\n",
       "        vertical-align: middle;\n",
       "    }\n",
       "\n",
       "    .dataframe tbody tr th {\n",
       "        vertical-align: top;\n",
       "    }\n",
       "\n",
       "    .dataframe thead th {\n",
       "        text-align: right;\n",
       "    }\n",
       "</style>\n",
       "<table border=\"1\" class=\"dataframe\">\n",
       "  <thead>\n",
       "    <tr style=\"text-align: right;\">\n",
       "      <th></th>\n",
       "      <th>tags</th>\n",
       "      <th>id</th>\n",
       "      <th>new_tags</th>\n",
       "      <th>plylst_title</th>\n",
       "      <th>songs</th>\n",
       "      <th>like_cnt</th>\n",
       "      <th>updt_date</th>\n",
       "    </tr>\n",
       "  </thead>\n",
       "  <tbody>\n",
       "    <tr>\n",
       "      <th>0</th>\n",
       "      <td>[락]</td>\n",
       "      <td>61281</td>\n",
       "      <td>[여행, 락]</td>\n",
       "      <td>여행같은 음악</td>\n",
       "      <td>[525514, 129701, 383374, 562083, 297861, 13954...</td>\n",
       "      <td>71</td>\n",
       "      <td>2013-12-19 18:36:19.000</td>\n",
       "    </tr>\n",
       "    <tr>\n",
       "      <th>1</th>\n",
       "      <td>[추억, 회상]</td>\n",
       "      <td>10532</td>\n",
       "      <td>[회상, 추억]</td>\n",
       "      <td>요즘 너 말야</td>\n",
       "      <td>[432406, 675945, 497066, 120377, 389529, 24427...</td>\n",
       "      <td>1</td>\n",
       "      <td>2014-12-02 16:19:42.000</td>\n",
       "    </tr>\n",
       "    <tr>\n",
       "      <th>2</th>\n",
       "      <td>[까페, 잔잔한]</td>\n",
       "      <td>76951</td>\n",
       "      <td>[편하, 까페, 잔잔]</td>\n",
       "      <td>편하게, 잔잔하게 들을 수 있는 곡.-</td>\n",
       "      <td>[83116, 276692, 166267, 186301, 354465, 256598...</td>\n",
       "      <td>17</td>\n",
       "      <td>2017-08-28 07:09:34.000</td>\n",
       "    </tr>\n",
       "  </tbody>\n",
       "</table>\n",
       "</div>"
      ],
      "text/plain": [
       "        tags     id      new_tags           plylst_title  \\\n",
       "0        [락]  61281       [여행, 락]                여행같은 음악   \n",
       "1   [추억, 회상]  10532      [회상, 추억]                요즘 너 말야   \n",
       "2  [까페, 잔잔한]  76951  [편하, 까페, 잔잔]  편하게, 잔잔하게 들을 수 있는 곡.-   \n",
       "\n",
       "                                               songs  like_cnt  \\\n",
       "0  [525514, 129701, 383374, 562083, 297861, 13954...        71   \n",
       "1  [432406, 675945, 497066, 120377, 389529, 24427...         1   \n",
       "2  [83116, 276692, 166267, 186301, 354465, 256598...        17   \n",
       "\n",
       "                 updt_date  \n",
       "0  2013-12-19 18:36:19.000  \n",
       "1  2014-12-02 16:19:42.000  \n",
       "2  2017-08-28 07:09:34.000  "
      ]
     },
     "execution_count": 2,
     "metadata": {},
     "output_type": "execute_result"
    }
   ],
   "source": [
    "# konlpy_total을 통해 데이터를 통해서 word2vec 모델을 생성 \n",
    "train = pd.read_json('data/1108_new_train.json')\n",
    "train.head(3)"
   ]
  },
  {
   "cell_type": "markdown",
   "metadata": {},
   "source": [
    "# 1. Word2Vec 모델 생성\n",
    "\n",
    "자연어 전처리를 통해 나온 new_tag를 이용해  word2vec의 모델을 생성함"
   ]
  },
  {
   "cell_type": "code",
   "execution_count": 3,
   "metadata": {},
   "outputs": [],
   "source": [
    "# w2v 모델 생성\n",
    "w2v_model = Word2Vec(sentences=train['new_tags'].tolist(),vector_size=100,window=5,min_count=0,workers=6,sg=0,\n",
    "                     negative=16)\n",
    "\n",
    "# w2v 모델 저장\n",
    "w2v_model.save('model/w2v.model')"
   ]
  },
  {
   "cell_type": "markdown",
   "metadata": {},
   "source": [
    "# 2. KNN\n",
    "\n",
    "- knn을 통해 단어의 유사도를 판별함\n",
    "- 기존의 knn은 Euclidean 거리를 이용해 유사도를 계산하지만 이 방법에서는 Cosine 거리를 이용해 유사도를 계산함\n",
    "- 현재 데이터를 보면 플레이리스트 new_tags에 하나의 태그만 있을 수도 여러 개의 태그가 있을 수도 있다. \n",
    "    - 그렇기 때문에 플레이리스트의 유사도를 판별할 때 여러 개의 태그가 있는 경우 vector의 평균으로 유사도를 계산함\n",
    "\n",
    "- 아래에서는 new_tags, tags, playlist_title을 이용해 총 3가지의 knn모델을 생성한다"
   ]
  },
  {
   "cell_type": "markdown",
   "metadata": {},
   "source": [
    "## 2_1 KNN 모델 학습을 위한 전처리 \n",
    "\n",
    "- 아래의 방법은 각각 new_tags, tags, playlist_title을 이용함\n",
    "- 각각의 데이터를 이용해 사용가능한 플레이리스트를 뽑아 낸다\n",
    "- 없는 단어가 있다면 vector의 값을 np.zeros(100)을 통해 생성함\n",
    "    - word2vec 모델을 만들 때 vector_size=100을 사용했기 때문에 똑같이 np.zeros(100)을 생성함"
   ]
  },
  {
   "cell_type": "code",
   "execution_count": 11,
   "metadata": {},
   "outputs": [],
   "source": [
    "# new_tags\n",
    "new_tags_emb = []\n",
    "for i in train['new_tags'].tolist():\n",
    "    a = []\n",
    "    try:\n",
    "        for j in i :\n",
    "            vec = w2v_model.wv.get_vector(j)\n",
    "            a.append(vec)\n",
    "        # x.append(a)\n",
    "        vec_ave = (sum(a))/len(a)\n",
    "        new_tags_emb.append(vec_ave)\n",
    "    except ZeroDivisionError:\n",
    "        new_tags_emb.append(np.zeros(100))\n",
    "\n",
    "\n",
    "\n",
    "new_tags_idx_to_emb = {}\n",
    "for idx, emb in enumerate(new_tags_emb):\n",
    "    if emb.sum() != 0:\n",
    "        new_tags_idx_to_emb[idx] = emb\n",
    "\n",
    "\n",
    "\n",
    "# tags\n",
    "tags_emb = []\n",
    "for i in train['tags'].tolist():\n",
    "    a = []\n",
    "    try:\n",
    "        for j in i :\n",
    "            vec = w2v_model.wv.get_vector(j)\n",
    "            a.append(vec)\n",
    "        # x.append(a)\n",
    "        vec_ave = (sum(a))/len(a)\n",
    "        tags_emb.append(vec_ave)\n",
    "    except ZeroDivisionError and KeyError:\n",
    "        tags_emb.append(np.zeros(100))\n",
    "\n",
    "\n",
    "\n",
    "tags_idx_to_emb = {}\n",
    "for idx, emb in enumerate(tags_emb):\n",
    "    if emb.sum() != 0:\n",
    "        tags_idx_to_emb[idx] = emb\n",
    "\n",
    "\n",
    "\n",
    "# title\n",
    "titles_emb = []\n",
    "for i in train['plylst_title'].tolist():\n",
    "    a = []\n",
    "    try:\n",
    "        for j in i :\n",
    "            vec = w2v_model.wv.get_vector(j)\n",
    "            a.append(vec)\n",
    "        # x.append(a)\n",
    "        vec_ave = (sum(a))/len(a)\n",
    "        titles_emb.append(vec_ave)\n",
    "    except ZeroDivisionError and KeyError:\n",
    "        titles_emb.append(np.zeros(100))\n",
    "\n",
    "\n",
    "titles_idx_to_emb = {}\n",
    "for idx, emb in enumerate(tags_emb):\n",
    "    if emb.sum() != 0:\n",
    "        titles_idx_to_emb[idx] = emb"
   ]
  },
  {
   "cell_type": "markdown",
   "metadata": {},
   "source": [
    "## 2_2 knn 모델 생성\n",
    "\n",
    "- Cosine 거리를 통해 유사도를 계산함\n",
    "- word2vec에서 vector_size=100으로 해주었기 때문에 dim 또한 100으로 설정"
   ]
  },
  {
   "cell_type": "code",
   "execution_count": null,
   "metadata": {},
   "outputs": [],
   "source": [
    "# new_tags\n",
    "p_new_tags = hnswlib.Index(space = 'cosine', dim = 100)\n",
    "p_new_tags.init_index(max_elements = len(new_tags_idx_to_emb), \n",
    "                   ef_construction = 100, M = 16, random_seed = 100)\n",
    "p_new_tags.add_items(list(new_tags_idx_to_emb.values()), list(new_tags_idx_to_emb.keys()))\n",
    "\n",
    "\n",
    "# tags\n",
    "p_tags = hnswlib.Index(space = 'cosine', dim = 100)\n",
    "p_tags.init_index(max_elements = len(tags_idx_to_emb), \n",
    "                   ef_construction = 100, M = 16, random_seed = 100)\n",
    "p_tags.add_items(list(tags_idx_to_emb.values()), list(tags_idx_to_emb.keys()))\n",
    "\n",
    "\n",
    "# title\n",
    "p_titles = hnswlib.Index(space = 'cosine', dim = 100)\n",
    "p_titles.init_index(max_elements = len(titles_idx_to_emb), \n",
    "                   ef_construction = 100, M = 16, random_seed = 100)\n",
    "p_titles.add_items(list(titles_idx_to_emb.values()), list(titles_idx_to_emb.keys()))"
   ]
  },
  {
   "cell_type": "markdown",
   "metadata": {},
   "source": [
    "## 2_3. 모델 저장"
   ]
  },
  {
   "cell_type": "code",
   "execution_count": 12,
   "metadata": {},
   "outputs": [],
   "source": [
    "# 모델 저장\n",
    "pickle.dump(p_tags, open('/home/ubuntu/workspace/jh/project/model/w2v_p_tags.pickle', 'wb') )\n",
    "pickle.dump(p_titles, open('/home/ubuntu/workspace/jh/project/model/w2v_p_titles.pickle', 'wb') )\n",
    "pickle.dump(p_new_tags, open('/home/ubuntu/workspace/jh/project/model/w2v_p_new_tags.pickle', 'wb') )"
   ]
  }
 ],
 "metadata": {
  "interpreter": {
   "hash": "7a2c4b191d1ae843dde5cb5f4d1f62fa892f6b79b0f9392a84691e890e33c5a4"
  },
  "kernelspec": {
   "display_name": "Python 3.9.5 64-bit ('base': conda)",
   "language": "python",
   "name": "python3"
  },
  "language_info": {
   "codemirror_mode": {
    "name": "ipython",
    "version": 3
   },
   "file_extension": ".py",
   "mimetype": "text/x-python",
   "name": "python",
   "nbconvert_exporter": "python",
   "pygments_lexer": "ipython3",
   "version": "3.8.11"
  },
  "orig_nbformat": 4
 },
 "nbformat": 4,
 "nbformat_minor": 2
}
