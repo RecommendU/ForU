{
 "cells": [
  {
   "cell_type": "code",
   "execution_count": 3,
   "metadata": {},
   "outputs": [],
   "source": [
    "import numpy as np\n",
    "import pandas as pd\n",
    "import seaborn as sns\n",
    "import matplotlib.pyplot as plt\n",
    "\n",
    "plt.rcParams['font.family'] = 'NanumGothicCoding'\n",
    "# fontPath = '/home/ubuntu/miniconda3/envs/foru/lib/python3.8/site-packages/matplotlib/mpl-data/fonts/ttf/GmarketSansTTFBold.ttf'\n",
    "plt.rcParams['font.size'] = 15\n",
    "plt.rcParams['axes.unicode_minus'] = False\n",
    "plt.rcParams['figure.figsize'] = 16,8\n",
    "\n",
    "\n",
    "\n",
    "\n",
    "import warnings\n",
    "warnings.filterwarnings('ignore')\n",
    "\n",
    "import imshow\n",
    "from wordcloud import WordCloud\n",
    "from PIL import Image\n",
    "\n",
    "from itertools import chain\n",
    "\n",
    "import re\n",
    "from konlpy.tag import Okt, Mecab\n",
    "import nltk\n",
    "from nltk.corpus import stopwords\n",
    "\n",
    "\n",
    "from collections import Counter\n",
    "import pickle\n",
    "\n",
    "import sent2vec\n",
    "import hnswlib\n",
    "from gensim.models import Word2Vec\n",
    "from gensim import corpora\n",
    "from scipy.sparse import *\n",
    "from scipy.sparse.linalg import svds\n",
    "\n",
    "\n",
    "# -------\n",
    "with open('/home/ubuntu/workspace/jh/project/data/10_28_stopword.pickle','rb') as file:\n",
    "    stopword = pickle.load(file)\n",
    "\n",
    "m = Mecab('/home/ubuntu/workspace/mecab-ko-dic-2.1.1-20180720')\n",
    "\n",
    "from py_file.total_processing import konlpy_preprocessing\n",
    "kp = konlpy_preprocessing()"
   ]
  },
  {
   "cell_type": "code",
   "execution_count": 4,
   "metadata": {},
   "outputs": [
    {
     "data": {
      "text/html": [
       "<div>\n",
       "<style scoped>\n",
       "    .dataframe tbody tr th:only-of-type {\n",
       "        vertical-align: middle;\n",
       "    }\n",
       "\n",
       "    .dataframe tbody tr th {\n",
       "        vertical-align: top;\n",
       "    }\n",
       "\n",
       "    .dataframe thead th {\n",
       "        text-align: right;\n",
       "    }\n",
       "</style>\n",
       "<table border=\"1\" class=\"dataframe\">\n",
       "  <thead>\n",
       "    <tr style=\"text-align: right;\">\n",
       "      <th></th>\n",
       "      <th>tags</th>\n",
       "      <th>id</th>\n",
       "      <th>new_tags</th>\n",
       "      <th>plylst_title</th>\n",
       "      <th>songs</th>\n",
       "      <th>like_cnt</th>\n",
       "      <th>updt_date</th>\n",
       "    </tr>\n",
       "  </thead>\n",
       "  <tbody>\n",
       "    <tr>\n",
       "      <th>0</th>\n",
       "      <td>[락]</td>\n",
       "      <td>61281</td>\n",
       "      <td>[여행, 락]</td>\n",
       "      <td>여행같은 음악</td>\n",
       "      <td>[525514, 129701, 383374, 562083, 297861, 13954...</td>\n",
       "      <td>71</td>\n",
       "      <td>2013-12-19 18:36:19.000</td>\n",
       "    </tr>\n",
       "    <tr>\n",
       "      <th>1</th>\n",
       "      <td>[추억, 회상]</td>\n",
       "      <td>10532</td>\n",
       "      <td>[회상, 추억]</td>\n",
       "      <td>요즘 너 말야</td>\n",
       "      <td>[432406, 675945, 497066, 120377, 389529, 24427...</td>\n",
       "      <td>1</td>\n",
       "      <td>2014-12-02 16:19:42.000</td>\n",
       "    </tr>\n",
       "    <tr>\n",
       "      <th>2</th>\n",
       "      <td>[까페, 잔잔한]</td>\n",
       "      <td>76951</td>\n",
       "      <td>[편하, 까페, 잔잔]</td>\n",
       "      <td>편하게, 잔잔하게 들을 수 있는 곡.-</td>\n",
       "      <td>[83116, 276692, 166267, 186301, 354465, 256598...</td>\n",
       "      <td>17</td>\n",
       "      <td>2017-08-28 07:09:34.000</td>\n",
       "    </tr>\n",
       "  </tbody>\n",
       "</table>\n",
       "</div>"
      ],
      "text/plain": [
       "        tags     id      new_tags           plylst_title  \\\n",
       "0        [락]  61281       [여행, 락]                여행같은 음악   \n",
       "1   [추억, 회상]  10532      [회상, 추억]                요즘 너 말야   \n",
       "2  [까페, 잔잔한]  76951  [편하, 까페, 잔잔]  편하게, 잔잔하게 들을 수 있는 곡.-   \n",
       "\n",
       "                                               songs  like_cnt  \\\n",
       "0  [525514, 129701, 383374, 562083, 297861, 13954...        71   \n",
       "1  [432406, 675945, 497066, 120377, 389529, 24427...         1   \n",
       "2  [83116, 276692, 166267, 186301, 354465, 256598...        17   \n",
       "\n",
       "                 updt_date  \n",
       "0  2013-12-19 18:36:19.000  \n",
       "1  2014-12-02 16:19:42.000  \n",
       "2  2017-08-28 07:09:34.000  "
      ]
     },
     "execution_count": 4,
     "metadata": {},
     "output_type": "execute_result"
    }
   ],
   "source": [
    "train = pd.read_json('/home/ubuntu/workspace/jh/project/data/1108_new_train.json')\n",
    "train.head(3)"
   ]
  },
  {
   "cell_type": "code",
   "execution_count": 5,
   "metadata": {},
   "outputs": [],
   "source": [
    "w2v_model = Word2Vec.load('model/w2v.model')\n",
    "p_tags = pickle.load(open('/home/ubuntu/workspace/jh/project/model/w2v_p_tags.pickle', 'rb'))\n",
    "p_titles = pickle.load(open('/home/ubuntu/workspace/jh/project/model/w2v_p_titles.pickle', 'rb'))\n",
    "p_new_tags = pickle.load(open('/home/ubuntu/workspace/jh/project/model/w2v_p_new_tags.pickle', 'rb'))"
   ]
  },
  {
   "cell_type": "code",
   "execution_count": 6,
   "metadata": {},
   "outputs": [],
   "source": [
    "def w2v_visual(text, k_n = 10):\n",
    "    # print(text)\n",
    "    try:\n",
    "        test_tag = kp.konlpy_preprocessing(text)\n",
    "\n",
    "        test_tag = test_tag.split()\n",
    "        x = []\n",
    "        for i in test_tag:\n",
    "            vec = w2v_model.wv.get_vector(i)\n",
    "            x.append(vec)\n",
    "        \n",
    "        emb = sum(x)/len(x)\n",
    "\n",
    "        title_labels, title_distances = p_titles.knn_query(emb, k = k_n, num_threads=8)\n",
    "        tag_labels, tags_distances = p_tags.knn_query(emb, k = k_n, num_threads=8)\n",
    "        new_tag_labels, new_tags_distances = p_new_tags.knn_query(emb, k = k_n, num_threads=8)\n",
    "\n",
    "        reco_idx = list(chain.from_iterable(zip(title_labels.reshape(-1),tag_labels.reshape(-1),new_tag_labels.reshape(-1))))\n",
    "\n",
    "        count = Counter(np.concatenate(train.iloc[reco_idx]['tags'].tolist()))\n",
    "        words = dict(count.most_common())\n",
    "        \n",
    "        fig, ax = plt.subplots()\n",
    "        wc = WordCloud(font_path=r'/home/ubuntu/workspace/font/GmarketSansTTFMedium.ttf',\n",
    "                        max_words=100,\n",
    "                        background_color='white',\n",
    "                        color_func = color_func,\n",
    "                        relative_scaling  = 0.2,\n",
    "                        stopwords=stopword,\n",
    "                        width = 3000,\n",
    "                        height = 2000)\n",
    "\n",
    "        wc.generate_from_frequencies(words)\n",
    "\n",
    "        ax.imshow(wc,interpolation='bilinear')\n",
    "        ax.axis('off')\n",
    "        # ax.set_title('{text}')\n",
    "            \n",
    "        plt.show()\n",
    "        # plt.savefig(f'/home/ubuntu/workspace/fffff/word2vec_{text}.png',dpi=1000)\n",
    "\n",
    "        return reco_idx\n",
    "    except KeyError:\n",
    "        print('다시 입력해주세요')"
   ]
  },
  {
   "cell_type": "code",
   "execution_count": 7,
   "metadata": {},
   "outputs": [
    {
     "data": {
      "image/png": "[encoded data removed]",
      "text/plain": [
       "<Figure size 1152x576 with 1 Axes>"
      ]
     },
     "metadata": {
      "needs_background": "light"
     },
     "output_type": "display_data"
    }
   ],
   "source": [
    "def color_func(word, font_size, position,orientation,random_state=None, **kwargs):\n",
    "    return(f\"hsl({np.random.randint(18,45)},{np.random.randint(99,100)}%, {np.random.randint(30,70)}%)\")\n",
    "\n",
    "x = w2v_visual('밤이나 새벽에 듣기 좋은 잔잔한 노래')"
   ]
  },
  {
   "cell_type": "code",
   "execution_count": null,
   "metadata": {},
   "outputs": [],
   "source": []
  }
 ],
 "metadata": {
  "interpreter": {
   "hash": "7a2c4b191d1ae843dde5cb5f4d1f62fa892f6b79b0f9392a84691e890e33c5a4"
  },
  "kernelspec": {
   "display_name": "Python 3.9.5 64-bit ('base': conda)",
   "language": "python",
   "name": "python3"
  },
  "language_info": {
   "codemirror_mode": {
    "name": "ipython",
    "version": 3
   },
   "file_extension": ".py",
   "mimetype": "text/x-python",
   "name": "python",
   "nbconvert_exporter": "python",
   "pygments_lexer": "ipython3",
   "version": "3.8.11"
  },
  "orig_nbformat": 4
 },
 "nbformat": 4,
 "nbformat_minor": 2
}
