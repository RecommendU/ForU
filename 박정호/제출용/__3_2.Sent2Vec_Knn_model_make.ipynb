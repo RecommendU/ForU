{
 "cells": [
  {
   "cell_type": "code",
   "execution_count": 1,
   "metadata": {
    "ExecuteTime": {
     "end_time": "2021-10-11T04:04:52.232747Z",
     "start_time": "2021-10-11T04:04:49.065738Z"
    }
   },
   "outputs": [],
   "source": [
    "import numpy as np\n",
    "import pandas as pd\n",
    "import seaborn as sns\n",
    "import matplotlib.pyplot as plt\n",
    "\n",
    "plt.rcParams['font.family'] = 'Malgun Gothic'\n",
    "plt.rcParams['font.size'] = 15\n",
    "plt.rcParams['axes.unicode_minus'] = False\n",
    "plt.rcParams['figure.figsize'] = 16,8\n",
    "\n",
    "from collections import Counter,defaultdict\n",
    "from itertools import chain, combinations\n",
    "\n",
    "import warnings\n",
    "warnings.filterwarnings('ignore')\n",
    "\n",
    "from itertools import chain\n",
    "\n",
    "import re\n",
    "from konlpy.tag import Okt, Mecab\n",
    "import nltk\n",
    "from nltk.corpus import stopwords\n",
    "\n",
    "\n",
    "from collections import Counter\n",
    "import pickle\n",
    "\n",
    "import sent2vec\n",
    "import hnswlib\n",
    "from gensim.models import Word2Vec\n",
    "from gensim import corpora\n",
    "from scipy.sparse import *\n",
    "from scipy.sparse.linalg import svds\n",
    "\n",
    "# -------\n",
    "with open('/home/ubuntu/workspace/jh/project/data/10_28_stopword.pickle','rb') as file:\n",
    "    stopword = pickle.load(file)\n",
    "\n",
    "m = Mecab('/home/ubuntu/workspace/mecab-ko-dic-2.1.1-20180720')"
   ]
  },
  {
   "cell_type": "code",
   "execution_count": 2,
   "metadata": {},
   "outputs": [
    {
     "data": {
      "text/html": [
       "<div>\n",
       "<style scoped>\n",
       "    .dataframe tbody tr th:only-of-type {\n",
       "        vertical-align: middle;\n",
       "    }\n",
       "\n",
       "    .dataframe tbody tr th {\n",
       "        vertical-align: top;\n",
       "    }\n",
       "\n",
       "    .dataframe thead th {\n",
       "        text-align: right;\n",
       "    }\n",
       "</style>\n",
       "<table border=\"1\" class=\"dataframe\">\n",
       "  <thead>\n",
       "    <tr style=\"text-align: right;\">\n",
       "      <th></th>\n",
       "      <th>tags</th>\n",
       "      <th>id</th>\n",
       "      <th>new_tags</th>\n",
       "      <th>plylst_title</th>\n",
       "      <th>songs</th>\n",
       "      <th>like_cnt</th>\n",
       "      <th>updt_date</th>\n",
       "      <th>tag</th>\n",
       "      <th>new_tags__</th>\n",
       "      <th>tags__</th>\n",
       "    </tr>\n",
       "  </thead>\n",
       "  <tbody>\n",
       "    <tr>\n",
       "      <th>0</th>\n",
       "      <td>[락]</td>\n",
       "      <td>61281</td>\n",
       "      <td>[여행, 락]</td>\n",
       "      <td>여행같은 음악</td>\n",
       "      <td>[525514, 129701, 383374, 562083, 297861, 13954...</td>\n",
       "      <td>71</td>\n",
       "      <td>2013-12-19 18:36:19.000</td>\n",
       "      <td>[락]</td>\n",
       "      <td>여행 락</td>\n",
       "      <td>락</td>\n",
       "    </tr>\n",
       "    <tr>\n",
       "      <th>1</th>\n",
       "      <td>[추억, 회상]</td>\n",
       "      <td>10532</td>\n",
       "      <td>[회상, 추억]</td>\n",
       "      <td>요즘 너 말야</td>\n",
       "      <td>[432406, 675945, 497066, 120377, 389529, 24427...</td>\n",
       "      <td>1</td>\n",
       "      <td>2014-12-02 16:19:42.000</td>\n",
       "      <td>[추억, 회상]</td>\n",
       "      <td>회상 추억</td>\n",
       "      <td>추억 회상</td>\n",
       "    </tr>\n",
       "    <tr>\n",
       "      <th>2</th>\n",
       "      <td>[까페, 잔잔한]</td>\n",
       "      <td>76951</td>\n",
       "      <td>[편하, 까페, 잔잔]</td>\n",
       "      <td>편하게, 잔잔하게 들을 수 있는 곡.-</td>\n",
       "      <td>[83116, 276692, 166267, 186301, 354465, 256598...</td>\n",
       "      <td>17</td>\n",
       "      <td>2017-08-28 07:09:34.000</td>\n",
       "      <td>[까페, 잔잔]</td>\n",
       "      <td>편하 까페 잔잔</td>\n",
       "      <td>까페 잔잔</td>\n",
       "    </tr>\n",
       "  </tbody>\n",
       "</table>\n",
       "</div>"
      ],
      "text/plain": [
       "        tags     id      new_tags           plylst_title  \\\n",
       "0        [락]  61281       [여행, 락]                여행같은 음악   \n",
       "1   [추억, 회상]  10532      [회상, 추억]                요즘 너 말야   \n",
       "2  [까페, 잔잔한]  76951  [편하, 까페, 잔잔]  편하게, 잔잔하게 들을 수 있는 곡.-   \n",
       "\n",
       "                                               songs  like_cnt  \\\n",
       "0  [525514, 129701, 383374, 562083, 297861, 13954...        71   \n",
       "1  [432406, 675945, 497066, 120377, 389529, 24427...         1   \n",
       "2  [83116, 276692, 166267, 186301, 354465, 256598...        17   \n",
       "\n",
       "                 updt_date       tag new_tags__ tags__  \n",
       "0  2013-12-19 18:36:19.000       [락]       여행 락      락  \n",
       "1  2014-12-02 16:19:42.000  [추억, 회상]      회상 추억  추억 회상  \n",
       "2  2017-08-28 07:09:34.000  [까페, 잔잔]   편하 까페 잔잔  까페 잔잔  "
      ]
     },
     "execution_count": 2,
     "metadata": {},
     "output_type": "execute_result"
    }
   ],
   "source": [
    "# konlpy_total을 통해 데이터를 통해서 sent2vec 모델을 생성 \n",
    "train = pd.read_json('data/1108_new_train.json')\n",
    "\n",
    "tag_title = pd.read_json('/home/ubuntu/workspace/jh/project/data/1108_konlpy_text.json')\n",
    "\n",
    "train['tag'] = tag_title['tags']\n",
    "train['new_tags__'] = train['new_tags'].apply(lambda x : \" \".join(x))\n",
    "train['tags__'] = train['tag'].apply(lambda x : \" \".join(x))\n",
    "\n",
    "ply_title = train['plylst_title'].tolist()\n",
    "tags = train['tags__'].tolist()\n",
    "new_tags = train['new_tags__'].tolist()\n",
    "\n",
    "\n",
    "train.head(3)"
   ]
  },
  {
   "cell_type": "markdown",
   "metadata": {},
   "source": [
    "# 1. Sent2Vec\n",
    "\n",
    "- word2vec는 단어 단위에서는 의미가 있지만 서브샘플링과 다이나믹 컨제스트 윈도우, n_그램의 영향으로 문장 단위로 확장하면 해석이 힘들수가 있다\n",
    "- 그렇기 때문에 word2vec에서 CBOW를 확장한 Sent2vec을 사용\n",
    "    - word2vec과 달리 서브샘플링과 다이나믹 컨제스트 윈도우를 비활성화해서 문장 전체의 의미를 살릴 수 있다\n",
    "    - n_그램 또한 전산 언어학에서의 n_그램이 아닌 비아그램의 최대거리를 뜻하며 n_그램의 확장 또한 뒤로 진행하고 이전의 단어는 포함하지 않아 문장의 의미를 살릴 수 있다"
   ]
  },
  {
   "cell_type": "markdown",
   "metadata": {},
   "source": [
    "[sent2vec doc](https://github.com/epfml/sent2vec)\n",
    "\n",
    "다운 방법은 위의 링크에서 확인 가능"
   ]
  },
  {
   "cell_type": "markdown",
   "metadata": {},
   "source": [
    "## 1_1. sent2vec 모델 학습 \n",
    "\n",
    "- 모델을 학습시킬 경우 아래와 같이 txt파일로 진행하면 편하게 진행 가능하다\n",
    "- 또한 sent2vec은 C++언어를 통해 학습을 진행하기 때문에 해당 폴더에서 학습을 진행 시킨다\n",
    "- 그렇기 때문에 아래와 같이 경로를 지정한 후 os.system()을 통해 학습을 진행하고 바로 모델을 저장한다"
   ]
  },
  {
   "cell_type": "code",
   "execution_count": 19,
   "metadata": {},
   "outputs": [
    {
     "data": {
      "text/plain": [
       "<function TextIOWrapper.close()>"
      ]
     },
     "execution_count": 19,
     "metadata": {},
     "output_type": "execute_result"
    }
   ],
   "source": [
    "s2v_text = train['new_tags__'].tolist()\n",
    "\n",
    "f = open(\"./data/s2v_text.txt\", 'w')\n",
    "for i in s2v_text:\n",
    "    x = f'{i} \\n'\n",
    "    f.write(x)\n",
    "\n",
    "f.close"
   ]
  },
  {
   "cell_type": "code",
   "execution_count": 38,
   "metadata": {
    "ExecuteTime": {
     "end_time": "2021-10-11T04:05:01.867722Z",
     "start_time": "2021-10-11T04:05:01.860722Z"
    },
    "scrolled": true
   },
   "outputs": [],
   "source": [
    "cmd = \"/home/ubuntu/workspace/sent2vec/fasttext sent2vec\" \n",
    "cmd += \" -input /home/ubuntu/workspace/jh/project/data/s2v_text.txt\" \n",
    "cmd += \" -output ./model/s2v_model\" \n",
    "cmd += \" -minCount 0\" \n",
    "cmd += \" -dim 100\" \n",
    "cmd += \" -epoch 20\" \n",
    "cmd += \" -lr 0.2\" \n",
    "cmd += \" -wordNgrams 3\" \n",
    "cmd += \" -loss ns\" \n",
    "cmd += \" -neg 11\" \n",
    "cmd += \" -thread 16\" \n",
    "cmd += \" -t 0.000005\" \n",
    "cmd += \" -dropoutK 4\" \n",
    "cmd += \" -minCountLabel 20\" \n",
    "cmd += \" -bucket 100000\" \n",
    "cmd += \" -maxVocabSize 20000\" \n",
    "cmd += \" -numCheckPoints 1\""
   ]
  },
  {
   "cell_type": "code",
   "execution_count": 39,
   "metadata": {},
   "outputs": [
    {
     "name": "stderr",
     "output_type": "stream",
     "text": [
      "Read 0M words\n",
      "Number of words:  9303\n",
      "Number of labels: 0\n",
      "Progress: 100.0%  words/sec/thread: 504460  lr: 0.000000  loss: 2.103966  eta: 0h0m \n"
     ]
    },
    {
     "data": {
      "text/plain": [
       "0"
      ]
     },
     "execution_count": 39,
     "metadata": {},
     "output_type": "execute_result"
    }
   ],
   "source": [
    "import os \n",
    "os.system(cmd)"
   ]
  },
  {
   "cell_type": "markdown",
   "metadata": {},
   "source": [
    "# 2. KNN\n",
    "\n",
    "- sent2vec의 모델 학습은 이전 파일인 __3_1.Word2Vec_Knn_model_make.ipynb의 방식과 똑같은 방식으로 진행한다"
   ]
  },
  {
   "cell_type": "code",
   "execution_count": 40,
   "metadata": {},
   "outputs": [],
   "source": [
    "s2v_model = sent2vec.Sent2vecModel()\n",
    "s2v_model.load_model('/home/ubuntu/workspace/jh/project/model/s2v_model.bin')"
   ]
  },
  {
   "cell_type": "markdown",
   "metadata": {},
   "source": [
    "## 2_1 KNN 모델 학습을 위한 전처리"
   ]
  },
  {
   "cell_type": "code",
   "execution_count": 41,
   "metadata": {},
   "outputs": [],
   "source": [
    "# title\n",
    "title_emb = s2v_model.embed_sentences(ply_title)\n",
    "title_idx_to_emb = {}\n",
    "for idx, emb in enumerate(title_emb):\n",
    "    if emb.sum() != 0:\n",
    "        title_idx_to_emb[idx] = emb\n",
    "\n",
    "# tags\n",
    "tags_emb = s2v_model.embed_sentences(tags)\n",
    "tags_idx_to_emb = {}\n",
    "for idx, emb in enumerate(tags_emb):\n",
    "    if emb.sum() != 0:\n",
    "        tags_idx_to_emb[idx] = emb\n",
    "\n",
    "# new_tags\n",
    "new_tags_emb = s2v_model.embed_sentences(new_tags)\n",
    "new_tags_idx_to_emb = {}\n",
    "for idx, emb in enumerate(new_tags_emb):\n",
    "    if emb.sum() != 0:\n",
    "        new_tags_idx_to_emb[idx] = emb"
   ]
  },
  {
   "cell_type": "markdown",
   "metadata": {},
   "source": [
    "## 2_2 knn 모델 생성\n"
   ]
  },
  {
   "cell_type": "code",
   "execution_count": 42,
   "metadata": {},
   "outputs": [],
   "source": [
    "sp = 'cosine'\n",
    "dim = s2v_model.get_emb_size()\n",
    "    \n",
    "# title\n",
    "p_title = hnswlib.Index(space = sp, dim = dim)\n",
    "p_title.init_index(max_elements = len(title_idx_to_emb), \n",
    "                   ef_construction = 100, M = 16, random_seed = 100)\n",
    "p_title.add_items(list(title_idx_to_emb.values()), list(title_idx_to_emb.keys()))\n",
    "\n",
    "# tags\n",
    "p_tags = hnswlib.Index(space = sp, dim = dim)\n",
    "p_tags.init_index(max_elements = len(tags_idx_to_emb), \n",
    "                  ef_construction = 100, M = 16, random_seed = 100)\n",
    "p_tags.add_items(list(tags_idx_to_emb.values()), list(tags_idx_to_emb.keys()))\n",
    "\n",
    "# new_tags\n",
    "p_new_tags = hnswlib.Index(space = sp, dim = dim)\n",
    "p_new_tags.init_index(max_elements = len(new_tags_idx_to_emb), \n",
    "                      ef_construction = 100, M = 16, random_seed = 100)\n",
    "p_new_tags.add_items(list(new_tags_idx_to_emb.values()), list(new_tags_idx_to_emb.keys()))"
   ]
  },
  {
   "cell_type": "markdown",
   "metadata": {},
   "source": [
    "## 2_3. 모델 저장"
   ]
  },
  {
   "cell_type": "code",
   "execution_count": 43,
   "metadata": {},
   "outputs": [],
   "source": [
    "# 생성된 모델 pickle 형태로 변환\n",
    "pickle.dump(p_title, open('model/p_title.pickle', 'wb') )\n",
    "pickle.dump(p_tags, open('model/p_tags.pickle', 'wb') )\n",
    "pickle.dump(p_new_tags, open('model/p_new_tags.pickle', 'wb') )"
   ]
  }
 ],
 "metadata": {
  "interpreter": {
   "hash": "26658723ffff9c3dfe0053ce7ae042586db16d1f41a05d22f0c99e3f552c472f"
  },
  "kernelspec": {
   "display_name": "Python 3.8.11 64-bit ('foru': conda)",
   "name": "python3"
  },
  "language_info": {
   "codemirror_mode": {
    "name": "ipython",
    "version": 3
   },
   "file_extension": ".py",
   "mimetype": "text/x-python",
   "name": "python",
   "nbconvert_exporter": "python",
   "pygments_lexer": "ipython3",
   "version": "3.8.11"
  },
  "varInspector": {
   "cols": {
    "lenName": 16,
    "lenType": 16,
    "lenVar": 40
   },
   "kernels_config": {
    "python": {
     "delete_cmd_postfix": "",
     "delete_cmd_prefix": "del ",
     "library": "var_list.py",
     "varRefreshCmd": "print(var_dic_list())"
    },
    "r": {
     "delete_cmd_postfix": ") ",
     "delete_cmd_prefix": "rm(",
     "library": "var_list.r",
     "varRefreshCmd": "cat(var_dic_list()) "
    }
   },
   "types_to_exclude": [
    "module",
    "function",
    "builtin_function_or_method",
    "instance",
    "_Feature"
   ],
   "window_display": false
  }
 },
 "nbformat": 4,
 "nbformat_minor": 4
}
