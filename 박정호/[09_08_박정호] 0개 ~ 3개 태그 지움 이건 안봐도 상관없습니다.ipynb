{
 "cells": [
  {
   "cell_type": "code",
   "execution_count": 96,
   "metadata": {
    "ExecuteTime": {
     "end_time": "2021-09-10T13:08:24.034152Z",
     "start_time": "2021-09-10T13:08:24.022183Z"
    },
    "scrolled": true
   },
   "outputs": [
    {
     "name": "stderr",
     "output_type": "stream",
     "text": [
      "[nltk_data] Downloading package stopwords to\n",
      "[nltk_data]     C:\\Users\\HOME\\AppData\\Roaming\\nltk_data...\n",
      "[nltk_data]   Package stopwords is already up-to-date!\n"
     ]
    },
    {
     "data": {
      "text/plain": [
       "True"
      ]
     },
     "execution_count": 96,
     "metadata": {},
     "output_type": "execute_result"
    }
   ],
   "source": [
    "import numpy as np\n",
    "import pandas as pd\n",
    "import seaborn as sns\n",
    "import matplotlib.pyplot as plt\n",
    "\n",
    "from sklearn.metrics.pairwise import cosine_similarity\n",
    "from sklearn.feature_extraction.text import CountVectorizer\n",
    "\n",
    "plt.rcParams['font.family'] = 'Malgun Gothic'\n",
    "plt.rcParams['font.size'] = 15\n",
    "plt.rcParams['axes.unicode_minus'] = False\n",
    "plt.rcParams['figure.figsize'] = 16,8\n",
    "\n",
    "import warnings\n",
    "warnings.filterwarnings('ignore')\n",
    "\n",
    "\n",
    "import re\n",
    "from konlpy.tag import Okt, Mecab\n",
    "from hanspell import spell_checker\n",
    "from bs4 import BeautifulSoup\n",
    "from nltk.corpus import stopwords\n",
    "from nltk.tokenize import word_tokenize, sent_tokenize\n",
    "\n",
    "import nltk\n",
    "nltk.download('stopwords')"
   ]
  },
  {
   "cell_type": "markdown",
   "metadata": {},
   "source": [
    "## 데이터 불러오기"
   ]
  },
  {
   "cell_type": "code",
   "execution_count": 97,
   "metadata": {
    "ExecuteTime": {
     "end_time": "2021-09-10T13:08:26.382872Z",
     "start_time": "2021-09-10T13:08:25.994909Z"
    }
   },
   "outputs": [],
   "source": [
    "tag_df = pd.read_json('data/tag_konlpy.json')\n",
    "title_to_tag_df = pd.read_json('data/title_to_tag_konlpy.json')"
   ]
  },
  {
   "cell_type": "code",
   "execution_count": 98,
   "metadata": {
    "ExecuteTime": {
     "end_time": "2021-09-10T13:08:28.357593Z",
     "start_time": "2021-09-10T13:08:28.343630Z"
    }
   },
   "outputs": [
    {
     "data": {
      "text/html": [
       "<div>\n",
       "<style scoped>\n",
       "    .dataframe tbody tr th:only-of-type {\n",
       "        vertical-align: middle;\n",
       "    }\n",
       "\n",
       "    .dataframe tbody tr th {\n",
       "        vertical-align: top;\n",
       "    }\n",
       "\n",
       "    .dataframe thead th {\n",
       "        text-align: right;\n",
       "    }\n",
       "</style>\n",
       "<table border=\"1\" class=\"dataframe\">\n",
       "  <thead>\n",
       "    <tr style=\"text-align: right;\">\n",
       "      <th></th>\n",
       "      <th>index</th>\n",
       "      <th>tags__</th>\n",
       "    </tr>\n",
       "  </thead>\n",
       "  <tbody>\n",
       "    <tr>\n",
       "      <th>0</th>\n",
       "      <td>0</td>\n",
       "      <td>[락]</td>\n",
       "    </tr>\n",
       "    <tr>\n",
       "      <th>1</th>\n",
       "      <td>1</td>\n",
       "      <td>[추억, 회상]</td>\n",
       "    </tr>\n",
       "    <tr>\n",
       "      <th>2</th>\n",
       "      <td>2</td>\n",
       "      <td>[카페, 잔잔]</td>\n",
       "    </tr>\n",
       "    <tr>\n",
       "      <th>3</th>\n",
       "      <td>3</td>\n",
       "      <td>[연말, 눈, 오다, 날, 캐럴, 분위기, 크리스마스, 캐럴, 겨울, 노래, 크리스...</td>\n",
       "    </tr>\n",
       "    <tr>\n",
       "      <th>4</th>\n",
       "      <td>4</td>\n",
       "      <td>[댄스]</td>\n",
       "    </tr>\n",
       "    <tr>\n",
       "      <th>...</th>\n",
       "      <td>...</td>\n",
       "      <td>...</td>\n",
       "    </tr>\n",
       "    <tr>\n",
       "      <th>115066</th>\n",
       "      <td>115066</td>\n",
       "      <td>[록, 메탈, 밴드, 사운드, 록, 락, 메탈, 메탈, 락, extreme]</td>\n",
       "    </tr>\n",
       "    <tr>\n",
       "      <th>115067</th>\n",
       "      <td>115067</td>\n",
       "      <td>[일렉]</td>\n",
       "    </tr>\n",
       "    <tr>\n",
       "      <th>115068</th>\n",
       "      <td>115068</td>\n",
       "      <td>[담시, 가족, 눈물, 그리움, 주인공, 이야기, 사랑, 친구]</td>\n",
       "    </tr>\n",
       "    <tr>\n",
       "      <th>115069</th>\n",
       "      <td>115069</td>\n",
       "      <td>[잔잔, 버스, 퇴근, 버스, Pop, 풍경, 퇴근길]</td>\n",
       "    </tr>\n",
       "    <tr>\n",
       "      <th>115070</th>\n",
       "      <td>115070</td>\n",
       "      <td>[노래, 추천, 팝송, 추천, 팝송, 팝송, 모음]</td>\n",
       "    </tr>\n",
       "  </tbody>\n",
       "</table>\n",
       "<p>115071 rows × 2 columns</p>\n",
       "</div>"
      ],
      "text/plain": [
       "         index                                             tags__\n",
       "0            0                                                [락]\n",
       "1            1                                           [추억, 회상]\n",
       "2            2                                           [카페, 잔잔]\n",
       "3            3  [연말, 눈, 오다, 날, 캐럴, 분위기, 크리스마스, 캐럴, 겨울, 노래, 크리스...\n",
       "4            4                                               [댄스]\n",
       "...        ...                                                ...\n",
       "115066  115066         [록, 메탈, 밴드, 사운드, 록, 락, 메탈, 메탈, 락, extreme]\n",
       "115067  115067                                               [일렉]\n",
       "115068  115068                [담시, 가족, 눈물, 그리움, 주인공, 이야기, 사랑, 친구]\n",
       "115069  115069                     [잔잔, 버스, 퇴근, 버스, Pop, 풍경, 퇴근길]\n",
       "115070  115070                       [노래, 추천, 팝송, 추천, 팝송, 팝송, 모음]\n",
       "\n",
       "[115071 rows x 2 columns]"
      ]
     },
     "execution_count": 98,
     "metadata": {},
     "output_type": "execute_result"
    }
   ],
   "source": [
    "tag_df.reset_index(inplace=True)\n",
    "tag_df"
   ]
  },
  {
   "cell_type": "code",
   "execution_count": 99,
   "metadata": {
    "ExecuteTime": {
     "end_time": "2021-09-10T13:08:30.287433Z",
     "start_time": "2021-09-10T13:08:30.274468Z"
    }
   },
   "outputs": [
    {
     "data": {
      "text/html": [
       "<div>\n",
       "<style scoped>\n",
       "    .dataframe tbody tr th:only-of-type {\n",
       "        vertical-align: middle;\n",
       "    }\n",
       "\n",
       "    .dataframe tbody tr th {\n",
       "        vertical-align: top;\n",
       "    }\n",
       "\n",
       "    .dataframe thead th {\n",
       "        text-align: right;\n",
       "    }\n",
       "</style>\n",
       "<table border=\"1\" class=\"dataframe\">\n",
       "  <thead>\n",
       "    <tr style=\"text-align: right;\">\n",
       "      <th></th>\n",
       "      <th>index</th>\n",
       "      <th>plylist_title__</th>\n",
       "    </tr>\n",
       "  </thead>\n",
       "  <tbody>\n",
       "    <tr>\n",
       "      <th>0</th>\n",
       "      <td>0</td>\n",
       "      <td>[여행, 음악]</td>\n",
       "    </tr>\n",
       "    <tr>\n",
       "      <th>1</th>\n",
       "      <td>1</td>\n",
       "      <td>[요즘]</td>\n",
       "    </tr>\n",
       "    <tr>\n",
       "      <th>2</th>\n",
       "      <td>2</td>\n",
       "      <td>[편하, 잔잔, 곡]</td>\n",
       "    </tr>\n",
       "    <tr>\n",
       "      <th>3</th>\n",
       "      <td>3</td>\n",
       "      <td>[크리스마스, 분위기, 흠뻑, 취하]</td>\n",
       "    </tr>\n",
       "    <tr>\n",
       "      <th>4</th>\n",
       "      <td>4</td>\n",
       "      <td>[추억, 노래]</td>\n",
       "    </tr>\n",
       "    <tr>\n",
       "      <th>...</th>\n",
       "      <td>...</td>\n",
       "      <td>...</td>\n",
       "    </tr>\n",
       "    <tr>\n",
       "      <th>115066</th>\n",
       "      <td>115066</td>\n",
       "      <td>[METAL, E, SM]</td>\n",
       "    </tr>\n",
       "    <tr>\n",
       "      <th>115067</th>\n",
       "      <td>115067</td>\n",
       "      <td>[빠르, 리스, 위, 따끈따끈, 최신, 인기, EDM, 모음]</td>\n",
       "    </tr>\n",
       "    <tr>\n",
       "      <th>115068</th>\n",
       "      <td>115068</td>\n",
       "      <td>[눈물, 이야기]</td>\n",
       "    </tr>\n",
       "    <tr>\n",
       "      <th>115069</th>\n",
       "      <td>115069</td>\n",
       "      <td>[퇴근, 버스, 편히, 하루, 마무리, POP]</td>\n",
       "    </tr>\n",
       "    <tr>\n",
       "      <th>115070</th>\n",
       "      <td>115070</td>\n",
       "      <td>[FAVORITE, POPSONG]</td>\n",
       "    </tr>\n",
       "  </tbody>\n",
       "</table>\n",
       "<p>115071 rows × 2 columns</p>\n",
       "</div>"
      ],
      "text/plain": [
       "         index                     plylist_title__\n",
       "0            0                            [여행, 음악]\n",
       "1            1                                [요즘]\n",
       "2            2                         [편하, 잔잔, 곡]\n",
       "3            3                [크리스마스, 분위기, 흠뻑, 취하]\n",
       "4            4                            [추억, 노래]\n",
       "...        ...                                 ...\n",
       "115066  115066                      [METAL, E, SM]\n",
       "115067  115067  [빠르, 리스, 위, 따끈따끈, 최신, 인기, EDM, 모음]\n",
       "115068  115068                           [눈물, 이야기]\n",
       "115069  115069          [퇴근, 버스, 편히, 하루, 마무리, POP]\n",
       "115070  115070                 [FAVORITE, POPSONG]\n",
       "\n",
       "[115071 rows x 2 columns]"
      ]
     },
     "execution_count": 99,
     "metadata": {},
     "output_type": "execute_result"
    }
   ],
   "source": [
    "title_to_tag_df.reset_index(inplace=True)\n",
    "title_to_tag_df"
   ]
  },
  {
   "cell_type": "markdown",
   "metadata": {},
   "source": [
    "## 데이터 합쳐서 새로운 태그로 만들기"
   ]
  },
  {
   "cell_type": "code",
   "execution_count": 100,
   "metadata": {
    "ExecuteTime": {
     "end_time": "2021-09-10T13:08:32.336954Z",
     "start_time": "2021-09-10T13:08:32.203311Z"
    }
   },
   "outputs": [
    {
     "data": {
      "text/html": [
       "<div>\n",
       "<style scoped>\n",
       "    .dataframe tbody tr th:only-of-type {\n",
       "        vertical-align: middle;\n",
       "    }\n",
       "\n",
       "    .dataframe tbody tr th {\n",
       "        vertical-align: top;\n",
       "    }\n",
       "\n",
       "    .dataframe thead th {\n",
       "        text-align: right;\n",
       "    }\n",
       "</style>\n",
       "<table border=\"1\" class=\"dataframe\">\n",
       "  <thead>\n",
       "    <tr style=\"text-align: right;\">\n",
       "      <th></th>\n",
       "      <th>tags__</th>\n",
       "      <th>plylist_title__</th>\n",
       "      <th>new_tags</th>\n",
       "    </tr>\n",
       "  </thead>\n",
       "  <tbody>\n",
       "    <tr>\n",
       "      <th>0</th>\n",
       "      <td>[락]</td>\n",
       "      <td>[여행, 음악]</td>\n",
       "      <td>[락, 여행, 음악]</td>\n",
       "    </tr>\n",
       "    <tr>\n",
       "      <th>1</th>\n",
       "      <td>[추억, 회상]</td>\n",
       "      <td>[요즘]</td>\n",
       "      <td>[추억, 회상, 요즘]</td>\n",
       "    </tr>\n",
       "    <tr>\n",
       "      <th>2</th>\n",
       "      <td>[카페, 잔잔]</td>\n",
       "      <td>[편하, 잔잔, 곡]</td>\n",
       "      <td>[카페, 잔잔, 편하, 잔잔, 곡]</td>\n",
       "    </tr>\n",
       "    <tr>\n",
       "      <th>3</th>\n",
       "      <td>[연말, 눈, 오다, 날, 캐럴, 분위기, 크리스마스, 캐럴, 겨울, 노래, 크리스...</td>\n",
       "      <td>[크리스마스, 분위기, 흠뻑, 취하]</td>\n",
       "      <td>[연말, 눈, 오다, 날, 캐럴, 분위기, 크리스마스, 캐럴, 겨울, 노래, 크리스...</td>\n",
       "    </tr>\n",
       "    <tr>\n",
       "      <th>4</th>\n",
       "      <td>[댄스]</td>\n",
       "      <td>[추억, 노래]</td>\n",
       "      <td>[댄스, 추억, 노래]</td>\n",
       "    </tr>\n",
       "    <tr>\n",
       "      <th>...</th>\n",
       "      <td>...</td>\n",
       "      <td>...</td>\n",
       "      <td>...</td>\n",
       "    </tr>\n",
       "    <tr>\n",
       "      <th>115066</th>\n",
       "      <td>[록, 메탈, 밴드, 사운드, 록, 락, 메탈, 메탈, 락, extreme]</td>\n",
       "      <td>[METAL, E, SM]</td>\n",
       "      <td>[록, 메탈, 밴드, 사운드, 록, 락, 메탈, 메탈, 락, extreme, MET...</td>\n",
       "    </tr>\n",
       "    <tr>\n",
       "      <th>115067</th>\n",
       "      <td>[일렉]</td>\n",
       "      <td>[빠르, 리스, 위, 따끈따끈, 최신, 인기, EDM, 모음]</td>\n",
       "      <td>[일렉, 빠르, 리스, 위, 따끈따끈, 최신, 인기, EDM, 모음]</td>\n",
       "    </tr>\n",
       "    <tr>\n",
       "      <th>115068</th>\n",
       "      <td>[담시, 가족, 눈물, 그리움, 주인공, 이야기, 사랑, 친구]</td>\n",
       "      <td>[눈물, 이야기]</td>\n",
       "      <td>[담시, 가족, 눈물, 그리움, 주인공, 이야기, 사랑, 친구, 눈물, 이야기]</td>\n",
       "    </tr>\n",
       "    <tr>\n",
       "      <th>115069</th>\n",
       "      <td>[잔잔, 버스, 퇴근, 버스, Pop, 풍경, 퇴근길]</td>\n",
       "      <td>[퇴근, 버스, 편히, 하루, 마무리, POP]</td>\n",
       "      <td>[잔잔, 버스, 퇴근, 버스, Pop, 풍경, 퇴근길, 퇴근, 버스, 편히, 하루,...</td>\n",
       "    </tr>\n",
       "    <tr>\n",
       "      <th>115070</th>\n",
       "      <td>[노래, 추천, 팝송, 추천, 팝송, 팝송, 모음]</td>\n",
       "      <td>[FAVORITE, POPSONG]</td>\n",
       "      <td>[노래, 추천, 팝송, 추천, 팝송, 팝송, 모음, FAVORITE, POPSONG]</td>\n",
       "    </tr>\n",
       "  </tbody>\n",
       "</table>\n",
       "<p>115071 rows × 3 columns</p>\n",
       "</div>"
      ],
      "text/plain": [
       "                                                   tags__  \\\n",
       "0                                                     [락]   \n",
       "1                                                [추억, 회상]   \n",
       "2                                                [카페, 잔잔]   \n",
       "3       [연말, 눈, 오다, 날, 캐럴, 분위기, 크리스마스, 캐럴, 겨울, 노래, 크리스...   \n",
       "4                                                    [댄스]   \n",
       "...                                                   ...   \n",
       "115066         [록, 메탈, 밴드, 사운드, 록, 락, 메탈, 메탈, 락, extreme]   \n",
       "115067                                               [일렉]   \n",
       "115068                [담시, 가족, 눈물, 그리움, 주인공, 이야기, 사랑, 친구]   \n",
       "115069                     [잔잔, 버스, 퇴근, 버스, Pop, 풍경, 퇴근길]   \n",
       "115070                       [노래, 추천, 팝송, 추천, 팝송, 팝송, 모음]   \n",
       "\n",
       "                           plylist_title__  \\\n",
       "0                                 [여행, 음악]   \n",
       "1                                     [요즘]   \n",
       "2                              [편하, 잔잔, 곡]   \n",
       "3                     [크리스마스, 분위기, 흠뻑, 취하]   \n",
       "4                                 [추억, 노래]   \n",
       "...                                    ...   \n",
       "115066                      [METAL, E, SM]   \n",
       "115067  [빠르, 리스, 위, 따끈따끈, 최신, 인기, EDM, 모음]   \n",
       "115068                           [눈물, 이야기]   \n",
       "115069          [퇴근, 버스, 편히, 하루, 마무리, POP]   \n",
       "115070                 [FAVORITE, POPSONG]   \n",
       "\n",
       "                                                 new_tags  \n",
       "0                                             [락, 여행, 음악]  \n",
       "1                                            [추억, 회상, 요즘]  \n",
       "2                                     [카페, 잔잔, 편하, 잔잔, 곡]  \n",
       "3       [연말, 눈, 오다, 날, 캐럴, 분위기, 크리스마스, 캐럴, 겨울, 노래, 크리스...  \n",
       "4                                            [댄스, 추억, 노래]  \n",
       "...                                                   ...  \n",
       "115066  [록, 메탈, 밴드, 사운드, 록, 락, 메탈, 메탈, 락, extreme, MET...  \n",
       "115067             [일렉, 빠르, 리스, 위, 따끈따끈, 최신, 인기, EDM, 모음]  \n",
       "115068       [담시, 가족, 눈물, 그리움, 주인공, 이야기, 사랑, 친구, 눈물, 이야기]  \n",
       "115069  [잔잔, 버스, 퇴근, 버스, Pop, 풍경, 퇴근길, 퇴근, 버스, 편히, 하루,...  \n",
       "115070    [노래, 추천, 팝송, 추천, 팝송, 팝송, 모음, FAVORITE, POPSONG]  \n",
       "\n",
       "[115071 rows x 3 columns]"
      ]
     },
     "execution_count": 100,
     "metadata": {},
     "output_type": "execute_result"
    }
   ],
   "source": [
    "total = pd.merge(tag_df,title_to_tag_df, on='index', how='left')\n",
    "total['new_tags'] = total['tags__'] + total['plylist_title__']\n",
    "total.drop('index',axis=1,inplace=True)\n",
    "total"
   ]
  },
  {
   "cell_type": "markdown",
   "metadata": {},
   "source": [
    "### 새로운 태그 저장"
   ]
  },
  {
   "cell_type": "code",
   "execution_count": 101,
   "metadata": {
    "ExecuteTime": {
     "end_time": "2021-09-10T13:08:34.641019Z",
     "start_time": "2021-09-10T13:08:34.267792Z"
    }
   },
   "outputs": [],
   "source": [
    "total.to_json('data/totla_new_tag.json', orient = 'records')"
   ]
  },
  {
   "cell_type": "markdown",
   "metadata": {},
   "source": [
    "---\n",
    "---\n",
    "---\n",
    "## 필요없는 태그 지우기 "
   ]
  },
  {
   "cell_type": "code",
   "execution_count": 109,
   "metadata": {
    "ExecuteTime": {
     "end_time": "2021-09-10T13:10:03.200529Z",
     "start_time": "2021-09-10T13:10:03.175590Z"
    },
    "scrolled": false
   },
   "outputs": [
    {
     "data": {
      "text/html": [
       "<div>\n",
       "<style scoped>\n",
       "    .dataframe tbody tr th:only-of-type {\n",
       "        vertical-align: middle;\n",
       "    }\n",
       "\n",
       "    .dataframe tbody tr th {\n",
       "        vertical-align: top;\n",
       "    }\n",
       "\n",
       "    .dataframe thead th {\n",
       "        text-align: right;\n",
       "    }\n",
       "</style>\n",
       "<table border=\"1\" class=\"dataframe\">\n",
       "  <thead>\n",
       "    <tr style=\"text-align: right;\">\n",
       "      <th></th>\n",
       "      <th>tags__</th>\n",
       "      <th>plylist_title__</th>\n",
       "      <th>new_tags</th>\n",
       "    </tr>\n",
       "  </thead>\n",
       "  <tbody>\n",
       "    <tr>\n",
       "      <th>0</th>\n",
       "      <td>[락]</td>\n",
       "      <td>[여행, 음악]</td>\n",
       "      <td>[락, 여행, 음악]</td>\n",
       "    </tr>\n",
       "    <tr>\n",
       "      <th>1</th>\n",
       "      <td>[추억, 회상]</td>\n",
       "      <td>[요즘]</td>\n",
       "      <td>[추억, 회상, 요즘]</td>\n",
       "    </tr>\n",
       "    <tr>\n",
       "      <th>2</th>\n",
       "      <td>[카페, 잔잔]</td>\n",
       "      <td>[편하, 잔잔, 곡]</td>\n",
       "      <td>[카페, 잔잔, 편하, 잔잔, 곡]</td>\n",
       "    </tr>\n",
       "    <tr>\n",
       "      <th>3</th>\n",
       "      <td>[연말, 눈, 오다, 날, 캐럴, 분위기, 크리스마스, 캐럴, 겨울, 노래, 크리스...</td>\n",
       "      <td>[크리스마스, 분위기, 흠뻑, 취하]</td>\n",
       "      <td>[연말, 눈, 오다, 날, 캐럴, 분위기, 크리스마스, 캐럴, 겨울, 노래, 크리스...</td>\n",
       "    </tr>\n",
       "    <tr>\n",
       "      <th>4</th>\n",
       "      <td>[댄스]</td>\n",
       "      <td>[추억, 노래]</td>\n",
       "      <td>[댄스, 추억, 노래]</td>\n",
       "    </tr>\n",
       "    <tr>\n",
       "      <th>...</th>\n",
       "      <td>...</td>\n",
       "      <td>...</td>\n",
       "      <td>...</td>\n",
       "    </tr>\n",
       "    <tr>\n",
       "      <th>115066</th>\n",
       "      <td>[록, 메탈, 밴드, 사운드, 록, 락, 메탈, 메탈, 락, extreme]</td>\n",
       "      <td>[METAL, E, SM]</td>\n",
       "      <td>[록, 메탈, 밴드, 사운드, 록, 락, 메탈, 메탈, 락, extreme, MET...</td>\n",
       "    </tr>\n",
       "    <tr>\n",
       "      <th>115067</th>\n",
       "      <td>[일렉]</td>\n",
       "      <td>[빠르, 리스, 위, 따끈따끈, 최신, 인기, EDM, 모음]</td>\n",
       "      <td>[일렉, 빠르, 리스, 위, 따끈따끈, 최신, 인기, EDM, 모음]</td>\n",
       "    </tr>\n",
       "    <tr>\n",
       "      <th>115068</th>\n",
       "      <td>[담시, 가족, 눈물, 그리움, 주인공, 이야기, 사랑, 친구]</td>\n",
       "      <td>[눈물, 이야기]</td>\n",
       "      <td>[담시, 가족, 눈물, 그리움, 주인공, 이야기, 사랑, 친구, 눈물, 이야기]</td>\n",
       "    </tr>\n",
       "    <tr>\n",
       "      <th>115069</th>\n",
       "      <td>[잔잔, 버스, 퇴근, 버스, Pop, 풍경, 퇴근길]</td>\n",
       "      <td>[퇴근, 버스, 편히, 하루, 마무리, POP]</td>\n",
       "      <td>[잔잔, 버스, 퇴근, 버스, Pop, 풍경, 퇴근길, 퇴근, 버스, 편히, 하루,...</td>\n",
       "    </tr>\n",
       "    <tr>\n",
       "      <th>115070</th>\n",
       "      <td>[노래, 추천, 팝송, 추천, 팝송, 팝송, 모음]</td>\n",
       "      <td>[FAVORITE, POPSONG]</td>\n",
       "      <td>[노래, 추천, 팝송, 추천, 팝송, 팝송, 모음, FAVORITE, POPSONG]</td>\n",
       "    </tr>\n",
       "  </tbody>\n",
       "</table>\n",
       "<p>115071 rows × 3 columns</p>\n",
       "</div>"
      ],
      "text/plain": [
       "                                                   tags__  \\\n",
       "0                                                     [락]   \n",
       "1                                                [추억, 회상]   \n",
       "2                                                [카페, 잔잔]   \n",
       "3       [연말, 눈, 오다, 날, 캐럴, 분위기, 크리스마스, 캐럴, 겨울, 노래, 크리스...   \n",
       "4                                                    [댄스]   \n",
       "...                                                   ...   \n",
       "115066         [록, 메탈, 밴드, 사운드, 록, 락, 메탈, 메탈, 락, extreme]   \n",
       "115067                                               [일렉]   \n",
       "115068                [담시, 가족, 눈물, 그리움, 주인공, 이야기, 사랑, 친구]   \n",
       "115069                     [잔잔, 버스, 퇴근, 버스, Pop, 풍경, 퇴근길]   \n",
       "115070                       [노래, 추천, 팝송, 추천, 팝송, 팝송, 모음]   \n",
       "\n",
       "                           plylist_title__  \\\n",
       "0                                 [여행, 음악]   \n",
       "1                                     [요즘]   \n",
       "2                              [편하, 잔잔, 곡]   \n",
       "3                     [크리스마스, 분위기, 흠뻑, 취하]   \n",
       "4                                 [추억, 노래]   \n",
       "...                                    ...   \n",
       "115066                      [METAL, E, SM]   \n",
       "115067  [빠르, 리스, 위, 따끈따끈, 최신, 인기, EDM, 모음]   \n",
       "115068                           [눈물, 이야기]   \n",
       "115069          [퇴근, 버스, 편히, 하루, 마무리, POP]   \n",
       "115070                 [FAVORITE, POPSONG]   \n",
       "\n",
       "                                                 new_tags  \n",
       "0                                             [락, 여행, 음악]  \n",
       "1                                            [추억, 회상, 요즘]  \n",
       "2                                     [카페, 잔잔, 편하, 잔잔, 곡]  \n",
       "3       [연말, 눈, 오다, 날, 캐럴, 분위기, 크리스마스, 캐럴, 겨울, 노래, 크리스...  \n",
       "4                                            [댄스, 추억, 노래]  \n",
       "...                                                   ...  \n",
       "115066  [록, 메탈, 밴드, 사운드, 록, 락, 메탈, 메탈, 락, extreme, MET...  \n",
       "115067             [일렉, 빠르, 리스, 위, 따끈따끈, 최신, 인기, EDM, 모음]  \n",
       "115068       [담시, 가족, 눈물, 그리움, 주인공, 이야기, 사랑, 친구, 눈물, 이야기]  \n",
       "115069  [잔잔, 버스, 퇴근, 버스, Pop, 풍경, 퇴근길, 퇴근, 버스, 편히, 하루,...  \n",
       "115070    [노래, 추천, 팝송, 추천, 팝송, 팝송, 모음, FAVORITE, POPSONG]  \n",
       "\n",
       "[115071 rows x 3 columns]"
      ]
     },
     "execution_count": 109,
     "metadata": {},
     "output_type": "execute_result"
    }
   ],
   "source": [
    "new_tag = total.copy()\n",
    "new_tag"
   ]
  },
  {
   "cell_type": "code",
   "execution_count": 110,
   "metadata": {
    "ExecuteTime": {
     "end_time": "2021-09-10T13:10:06.671245Z",
     "start_time": "2021-09-10T13:10:05.161296Z"
    },
    "scrolled": false
   },
   "outputs": [
    {
     "data": {
      "text/html": [
       "<div>\n",
       "<style scoped>\n",
       "    .dataframe tbody tr th:only-of-type {\n",
       "        vertical-align: middle;\n",
       "    }\n",
       "\n",
       "    .dataframe tbody tr th {\n",
       "        vertical-align: top;\n",
       "    }\n",
       "\n",
       "    .dataframe thead th {\n",
       "        text-align: right;\n",
       "    }\n",
       "</style>\n",
       "<table border=\"1\" class=\"dataframe\">\n",
       "  <thead>\n",
       "    <tr style=\"text-align: right;\">\n",
       "      <th></th>\n",
       "      <th>no_du</th>\n",
       "    </tr>\n",
       "  </thead>\n",
       "  <tbody>\n",
       "    <tr>\n",
       "      <th>0</th>\n",
       "      <td>[음악, 여행, 락]</td>\n",
       "    </tr>\n",
       "    <tr>\n",
       "      <th>1</th>\n",
       "      <td>[회상, 요즘, 추억]</td>\n",
       "    </tr>\n",
       "    <tr>\n",
       "      <th>2</th>\n",
       "      <td>[편하, 곡, 카페, 잔잔]</td>\n",
       "    </tr>\n",
       "    <tr>\n",
       "      <th>3</th>\n",
       "      <td>[눈, 노래, 왕국, 연말, 분위기, 겨울, 취하, 날, 크리스마스, 송, 캐럴, ...</td>\n",
       "    </tr>\n",
       "    <tr>\n",
       "      <th>4</th>\n",
       "      <td>[노래, 댄스, 추억]</td>\n",
       "    </tr>\n",
       "    <tr>\n",
       "      <th>...</th>\n",
       "      <td>...</td>\n",
       "    </tr>\n",
       "    <tr>\n",
       "      <th>115066</th>\n",
       "      <td>[록, extreme, METAL, 사운드, 메탈, E, SM, 밴드, 락]</td>\n",
       "    </tr>\n",
       "    <tr>\n",
       "      <th>115067</th>\n",
       "      <td>[인기, 위, 모음, 빠르, 일렉, 리스, EDM, 최신, 따끈따끈]</td>\n",
       "    </tr>\n",
       "    <tr>\n",
       "      <th>115068</th>\n",
       "      <td>[주인공, 눈물, 사랑, 그리움, 이야기, 친구, 담시, 가족]</td>\n",
       "    </tr>\n",
       "    <tr>\n",
       "      <th>115069</th>\n",
       "      <td>[버스, 편히, 마무리, POP, 잔잔, 퇴근길, 하루, 풍경, Pop, 퇴근]</td>\n",
       "    </tr>\n",
       "    <tr>\n",
       "      <th>115070</th>\n",
       "      <td>[노래, FAVORITE, 추천, 모음, 팝송, POPSONG]</td>\n",
       "    </tr>\n",
       "  </tbody>\n",
       "</table>\n",
       "<p>115071 rows × 1 columns</p>\n",
       "</div>"
      ],
      "text/plain": [
       "                                                    no_du\n",
       "0                                             [음악, 여행, 락]\n",
       "1                                            [회상, 요즘, 추억]\n",
       "2                                         [편하, 곡, 카페, 잔잔]\n",
       "3       [눈, 노래, 왕국, 연말, 분위기, 겨울, 취하, 날, 크리스마스, 송, 캐럴, ...\n",
       "4                                            [노래, 댄스, 추억]\n",
       "...                                                   ...\n",
       "115066         [록, extreme, METAL, 사운드, 메탈, E, SM, 밴드, 락]\n",
       "115067             [인기, 위, 모음, 빠르, 일렉, 리스, EDM, 최신, 따끈따끈]\n",
       "115068                [주인공, 눈물, 사랑, 그리움, 이야기, 친구, 담시, 가족]\n",
       "115069       [버스, 편히, 마무리, POP, 잔잔, 퇴근길, 하루, 풍경, Pop, 퇴근]\n",
       "115070                [노래, FAVORITE, 추천, 모음, 팝송, POPSONG]\n",
       "\n",
       "[115071 rows x 1 columns]"
      ]
     },
     "execution_count": 110,
     "metadata": {},
     "output_type": "execute_result"
    }
   ],
   "source": [
    "# 중복 태그 지우기\n",
    "X = [list(set(x)) for x in new_tag['new_tags']]\n",
    "new_tag['no_du'] = X\n",
    "new_tag.drop(['tags__','plylist_title__','new_tags'],axis=1,inplace=True)\n",
    "new_tag"
   ]
  },
  {
   "cell_type": "code",
   "execution_count": 111,
   "metadata": {
    "ExecuteTime": {
     "end_time": "2021-09-10T13:10:09.468793Z",
     "start_time": "2021-09-10T13:10:08.603080Z"
    }
   },
   "outputs": [
    {
     "data": {
      "text/html": [
       "<div>\n",
       "<style scoped>\n",
       "    .dataframe tbody tr th:only-of-type {\n",
       "        vertical-align: middle;\n",
       "    }\n",
       "\n",
       "    .dataframe tbody tr th {\n",
       "        vertical-align: top;\n",
       "    }\n",
       "\n",
       "    .dataframe thead th {\n",
       "        text-align: right;\n",
       "    }\n",
       "</style>\n",
       "<table border=\"1\" class=\"dataframe\">\n",
       "  <thead>\n",
       "    <tr style=\"text-align: right;\">\n",
       "      <th></th>\n",
       "      <th>no_du</th>\n",
       "      <th>cnt</th>\n",
       "    </tr>\n",
       "  </thead>\n",
       "  <tbody>\n",
       "    <tr>\n",
       "      <th>0</th>\n",
       "      <td>노래</td>\n",
       "      <td>21435</td>\n",
       "    </tr>\n",
       "    <tr>\n",
       "      <th>1</th>\n",
       "      <td>음악</td>\n",
       "      <td>19147</td>\n",
       "    </tr>\n",
       "    <tr>\n",
       "      <th>2</th>\n",
       "      <td>기분</td>\n",
       "      <td>18436</td>\n",
       "    </tr>\n",
       "    <tr>\n",
       "      <th>3</th>\n",
       "      <td>감성</td>\n",
       "      <td>17154</td>\n",
       "    </tr>\n",
       "    <tr>\n",
       "      <th>4</th>\n",
       "      <td>전환</td>\n",
       "      <td>16761</td>\n",
       "    </tr>\n",
       "    <tr>\n",
       "      <th>...</th>\n",
       "      <td>...</td>\n",
       "      <td>...</td>\n",
       "    </tr>\n",
       "    <tr>\n",
       "      <th>24883</th>\n",
       "      <td>블루문</td>\n",
       "      <td>1</td>\n",
       "    </tr>\n",
       "    <tr>\n",
       "      <th>24884</th>\n",
       "      <td>리드보</td>\n",
       "      <td>1</td>\n",
       "    </tr>\n",
       "    <tr>\n",
       "      <th>24885</th>\n",
       "      <td>거짓</td>\n",
       "      <td>1</td>\n",
       "    </tr>\n",
       "    <tr>\n",
       "      <th>24886</th>\n",
       "      <td>채프만</td>\n",
       "      <td>1</td>\n",
       "    </tr>\n",
       "    <tr>\n",
       "      <th>24887</th>\n",
       "      <td>fallout</td>\n",
       "      <td>1</td>\n",
       "    </tr>\n",
       "  </tbody>\n",
       "</table>\n",
       "<p>24888 rows × 2 columns</p>\n",
       "</div>"
      ],
      "text/plain": [
       "         no_du    cnt\n",
       "0           노래  21435\n",
       "1           음악  19147\n",
       "2           기분  18436\n",
       "3           감성  17154\n",
       "4           전환  16761\n",
       "...        ...    ...\n",
       "24883      블루문      1\n",
       "24884      리드보      1\n",
       "24885       거짓      1\n",
       "24886      채프만      1\n",
       "24887  fallout      1\n",
       "\n",
       "[24888 rows x 2 columns]"
      ]
     },
     "execution_count": 111,
     "metadata": {},
     "output_type": "execute_result"
    }
   ],
   "source": [
    "unnest = np.dstack(\n",
    "    (np.repeat(new_tag.index.values,list(map(len,new_tag.no_du))),\n",
    "     np.concatenate(new_tag.no_du.values))\n",
    "         )\n",
    "\n",
    "unnest_df = pd.DataFrame(unnest[0],columns = ['id','no_du'])\n",
    "\n",
    "ddf = pd.DataFrame(unnest_df['no_du'].value_counts())\n",
    "ddf.reset_index(inplace=True)\n",
    "ddf.columns = ['no_du','cnt']\n",
    "ddf"
   ]
  },
  {
   "cell_type": "code",
   "execution_count": 112,
   "metadata": {
    "ExecuteTime": {
     "end_time": "2021-09-10T13:10:11.413566Z",
     "start_time": "2021-09-10T13:10:11.399604Z"
    }
   },
   "outputs": [
    {
     "data": {
      "text/html": [
       "<div>\n",
       "<style scoped>\n",
       "    .dataframe tbody tr th:only-of-type {\n",
       "        vertical-align: middle;\n",
       "    }\n",
       "\n",
       "    .dataframe tbody tr th {\n",
       "        vertical-align: top;\n",
       "    }\n",
       "\n",
       "    .dataframe thead th {\n",
       "        text-align: right;\n",
       "    }\n",
       "</style>\n",
       "<table border=\"1\" class=\"dataframe\">\n",
       "  <thead>\n",
       "    <tr style=\"text-align: right;\">\n",
       "      <th></th>\n",
       "      <th>no_du</th>\n",
       "      <th>cnt</th>\n",
       "    </tr>\n",
       "  </thead>\n",
       "  <tbody>\n",
       "    <tr>\n",
       "      <th>1854</th>\n",
       "      <td>8살</td>\n",
       "      <td>39</td>\n",
       "    </tr>\n",
       "  </tbody>\n",
       "</table>\n",
       "</div>"
      ],
      "text/plain": [
       "     no_du  cnt\n",
       "1854    8살   39"
      ]
     },
     "execution_count": 112,
     "metadata": {},
     "output_type": "execute_result"
    }
   ],
   "source": [
    "ddf[ddf['no_du'] == '8살']"
   ]
  },
  {
   "cell_type": "markdown",
   "metadata": {},
   "source": [
    "### 일정 개수 이하의 태그 지우기 \n",
    "- 단어 안지운거 \n",
    "- 1개 지운거\n",
    "- 2개 지운거 \n",
    "- 3개 지운거 만들기"
   ]
  },
  {
   "cell_type": "markdown",
   "metadata": {},
   "source": [
    "### 안지운거"
   ]
  },
  {
   "cell_type": "code",
   "execution_count": 113,
   "metadata": {
    "ExecuteTime": {
     "end_time": "2021-09-10T13:10:24.971839Z",
     "start_time": "2021-09-10T13:10:20.014093Z"
    },
    "scrolled": true
   },
   "outputs": [
    {
     "data": {
      "text/html": [
       "<div>\n",
       "<style scoped>\n",
       "    .dataframe tbody tr th:only-of-type {\n",
       "        vertical-align: middle;\n",
       "    }\n",
       "\n",
       "    .dataframe tbody tr th {\n",
       "        vertical-align: top;\n",
       "    }\n",
       "\n",
       "    .dataframe thead th {\n",
       "        text-align: right;\n",
       "    }\n",
       "</style>\n",
       "<table border=\"1\" class=\"dataframe\">\n",
       "  <thead>\n",
       "    <tr style=\"text-align: right;\">\n",
       "      <th></th>\n",
       "      <th>안지움</th>\n",
       "    </tr>\n",
       "  </thead>\n",
       "  <tbody>\n",
       "    <tr>\n",
       "      <th>0</th>\n",
       "      <td>[여행, 락]</td>\n",
       "    </tr>\n",
       "    <tr>\n",
       "      <th>1</th>\n",
       "      <td>[회상, 요즘, 추억]</td>\n",
       "    </tr>\n",
       "    <tr>\n",
       "      <th>2</th>\n",
       "      <td>[편하, 카페, 잔잔]</td>\n",
       "    </tr>\n",
       "    <tr>\n",
       "      <th>3</th>\n",
       "      <td>[눈, 왕국, 연말, 분위기, 겨울, 취하, 크리스마스, 캐럴, 흠뻑]</td>\n",
       "    </tr>\n",
       "    <tr>\n",
       "      <th>4</th>\n",
       "      <td>[댄스, 추억]</td>\n",
       "    </tr>\n",
       "    <tr>\n",
       "      <th>...</th>\n",
       "      <td>...</td>\n",
       "    </tr>\n",
       "    <tr>\n",
       "      <th>115066</th>\n",
       "      <td>[록, extreme, METAL, 사운드, 메탈, E, SM, 밴드, 락]</td>\n",
       "    </tr>\n",
       "    <tr>\n",
       "      <th>115067</th>\n",
       "      <td>[인기, 빠르, 일렉, 리스, EDM, 최신, 따끈따끈]</td>\n",
       "    </tr>\n",
       "    <tr>\n",
       "      <th>115068</th>\n",
       "      <td>[주인공, 눈물, 사랑, 그리움, 이야기, 친구, 담시, 가족]</td>\n",
       "    </tr>\n",
       "    <tr>\n",
       "      <th>115069</th>\n",
       "      <td>[버스, 편히, 마무리, POP, 잔잔, 퇴근길, 하루, 풍경, Pop, 퇴근]</td>\n",
       "    </tr>\n",
       "    <tr>\n",
       "      <th>115070</th>\n",
       "      <td>[FAVORITE, 팝송, POPSONG]</td>\n",
       "    </tr>\n",
       "  </tbody>\n",
       "</table>\n",
       "<p>115071 rows × 1 columns</p>\n",
       "</div>"
      ],
      "text/plain": [
       "                                                 안지움\n",
       "0                                            [여행, 락]\n",
       "1                                       [회상, 요즘, 추억]\n",
       "2                                       [편하, 카페, 잔잔]\n",
       "3            [눈, 왕국, 연말, 분위기, 겨울, 취하, 크리스마스, 캐럴, 흠뻑]\n",
       "4                                           [댄스, 추억]\n",
       "...                                              ...\n",
       "115066    [록, extreme, METAL, 사운드, 메탈, E, SM, 밴드, 락]\n",
       "115067               [인기, 빠르, 일렉, 리스, EDM, 최신, 따끈따끈]\n",
       "115068           [주인공, 눈물, 사랑, 그리움, 이야기, 친구, 담시, 가족]\n",
       "115069  [버스, 편히, 마무리, POP, 잔잔, 퇴근길, 하루, 풍경, Pop, 퇴근]\n",
       "115070                       [FAVORITE, 팝송, POPSONG]\n",
       "\n",
       "[115071 rows x 1 columns]"
      ]
     },
     "execution_count": 113,
     "metadata": {},
     "output_type": "execute_result"
    }
   ],
   "source": [
    "rem = ['음악','모음','노래','곡','날','오다','추천','위','은','대','도','b','r','다','성','송','귀','뮤직','music','차트',\n",
    "       'vol']\n",
    "\n",
    "# 단어 제거하기\n",
    "\n",
    "clean = []\n",
    "\n",
    "for big_list in new_tag['no_du']:\n",
    "    temp_list = []\n",
    "    for word in big_list:\n",
    "        if word not in rem:\n",
    "            temp_list.append(word)\n",
    "    clean.append(temp_list)\n",
    "            \n",
    "A0 = []\n",
    "A0.append(clean)\n",
    "\n",
    "new_tag0 = pd.DataFrame(A0).T\n",
    "new_tag0.columns = ['안지움']\n",
    "new_tag0"
   ]
  },
  {
   "cell_type": "code",
   "execution_count": 114,
   "metadata": {
    "ExecuteTime": {
     "end_time": "2021-09-10T13:10:27.739440Z",
     "start_time": "2021-09-10T13:10:26.917637Z"
    }
   },
   "outputs": [
    {
     "data": {
      "text/html": [
       "<div>\n",
       "<style scoped>\n",
       "    .dataframe tbody tr th:only-of-type {\n",
       "        vertical-align: middle;\n",
       "    }\n",
       "\n",
       "    .dataframe tbody tr th {\n",
       "        vertical-align: top;\n",
       "    }\n",
       "\n",
       "    .dataframe thead th {\n",
       "        text-align: right;\n",
       "    }\n",
       "</style>\n",
       "<table border=\"1\" class=\"dataframe\">\n",
       "  <thead>\n",
       "    <tr style=\"text-align: right;\">\n",
       "      <th></th>\n",
       "      <th>안지움</th>\n",
       "      <th>cnt</th>\n",
       "    </tr>\n",
       "  </thead>\n",
       "  <tbody>\n",
       "    <tr>\n",
       "      <th>0</th>\n",
       "      <td>기분</td>\n",
       "      <td>18436</td>\n",
       "    </tr>\n",
       "    <tr>\n",
       "      <th>1</th>\n",
       "      <td>감성</td>\n",
       "      <td>17154</td>\n",
       "    </tr>\n",
       "    <tr>\n",
       "      <th>2</th>\n",
       "      <td>전환</td>\n",
       "      <td>16761</td>\n",
       "    </tr>\n",
       "    <tr>\n",
       "      <th>3</th>\n",
       "      <td>발라드</td>\n",
       "      <td>12181</td>\n",
       "    </tr>\n",
       "    <tr>\n",
       "      <th>4</th>\n",
       "      <td>잔잔</td>\n",
       "      <td>11959</td>\n",
       "    </tr>\n",
       "    <tr>\n",
       "      <th>...</th>\n",
       "      <td>...</td>\n",
       "      <td>...</td>\n",
       "    </tr>\n",
       "    <tr>\n",
       "      <th>24862</th>\n",
       "      <td>Amber</td>\n",
       "      <td>1</td>\n",
       "    </tr>\n",
       "    <tr>\n",
       "      <th>24863</th>\n",
       "      <td>블루문</td>\n",
       "      <td>1</td>\n",
       "    </tr>\n",
       "    <tr>\n",
       "      <th>24864</th>\n",
       "      <td>리드보</td>\n",
       "      <td>1</td>\n",
       "    </tr>\n",
       "    <tr>\n",
       "      <th>24865</th>\n",
       "      <td>거짓</td>\n",
       "      <td>1</td>\n",
       "    </tr>\n",
       "    <tr>\n",
       "      <th>24866</th>\n",
       "      <td>fallout</td>\n",
       "      <td>1</td>\n",
       "    </tr>\n",
       "  </tbody>\n",
       "</table>\n",
       "<p>24867 rows × 2 columns</p>\n",
       "</div>"
      ],
      "text/plain": [
       "           안지움    cnt\n",
       "0           기분  18436\n",
       "1           감성  17154\n",
       "2           전환  16761\n",
       "3          발라드  12181\n",
       "4           잔잔  11959\n",
       "...        ...    ...\n",
       "24862    Amber      1\n",
       "24863      블루문      1\n",
       "24864      리드보      1\n",
       "24865       거짓      1\n",
       "24866  fallout      1\n",
       "\n",
       "[24867 rows x 2 columns]"
      ]
     },
     "execution_count": 114,
     "metadata": {},
     "output_type": "execute_result"
    }
   ],
   "source": [
    "unnest = np.dstack(\n",
    "    (np.repeat(new_tag0.index.values,list(map(len,new_tag0['안지움']))),\n",
    "     np.concatenate(new_tag0['안지움'].values))\n",
    "         )\n",
    "\n",
    "unnest_df = pd.DataFrame(unnest[0],columns = ['id','안지움'])\n",
    "\n",
    "ddf0 = pd.DataFrame(unnest_df['안지움'].value_counts())\n",
    "ddf0.reset_index(inplace=True)\n",
    "ddf0.columns = ['안지움','cnt']\n",
    "ddf0"
   ]
  },
  {
   "cell_type": "code",
   "execution_count": 115,
   "metadata": {
    "ExecuteTime": {
     "end_time": "2021-09-10T13:10:29.744080Z",
     "start_time": "2021-09-10T13:10:29.730118Z"
    }
   },
   "outputs": [
    {
     "data": {
      "text/html": [
       "<div>\n",
       "<style scoped>\n",
       "    .dataframe tbody tr th:only-of-type {\n",
       "        vertical-align: middle;\n",
       "    }\n",
       "\n",
       "    .dataframe tbody tr th {\n",
       "        vertical-align: top;\n",
       "    }\n",
       "\n",
       "    .dataframe thead th {\n",
       "        text-align: right;\n",
       "    }\n",
       "</style>\n",
       "<table border=\"1\" class=\"dataframe\">\n",
       "  <thead>\n",
       "    <tr style=\"text-align: right;\">\n",
       "      <th></th>\n",
       "      <th>안지움</th>\n",
       "      <th>cnt</th>\n",
       "    </tr>\n",
       "  </thead>\n",
       "  <tbody>\n",
       "    <tr>\n",
       "      <th>1826</th>\n",
       "      <td>8살</td>\n",
       "      <td>39</td>\n",
       "    </tr>\n",
       "  </tbody>\n",
       "</table>\n",
       "</div>"
      ],
      "text/plain": [
       "     안지움  cnt\n",
       "1826  8살   39"
      ]
     },
     "execution_count": 115,
     "metadata": {},
     "output_type": "execute_result"
    }
   ],
   "source": [
    "ddf0[ddf0['안지움'] == '8살']"
   ]
  },
  {
   "cell_type": "code",
   "execution_count": 116,
   "metadata": {
    "ExecuteTime": {
     "end_time": "2021-09-10T13:10:31.943227Z",
     "start_time": "2021-09-10T13:10:31.821526Z"
    }
   },
   "outputs": [],
   "source": [
    "new_tag0.to_json('data/new_tag/new_tag0.json', orient = 'records')"
   ]
  },
  {
   "cell_type": "markdown",
   "metadata": {},
   "source": [
    "### 1개 지운거"
   ]
  },
  {
   "cell_type": "code",
   "execution_count": 117,
   "metadata": {
    "ExecuteTime": {
     "end_time": "2021-09-10T13:13:53.815822Z",
     "start_time": "2021-09-10T13:10:33.888999Z"
    }
   },
   "outputs": [
    {
     "data": {
      "text/html": [
       "<div>\n",
       "<style scoped>\n",
       "    .dataframe tbody tr th:only-of-type {\n",
       "        vertical-align: middle;\n",
       "    }\n",
       "\n",
       "    .dataframe tbody tr th {\n",
       "        vertical-align: top;\n",
       "    }\n",
       "\n",
       "    .dataframe thead th {\n",
       "        text-align: right;\n",
       "    }\n",
       "</style>\n",
       "<table border=\"1\" class=\"dataframe\">\n",
       "  <thead>\n",
       "    <tr style=\"text-align: right;\">\n",
       "      <th></th>\n",
       "      <th>한개지움</th>\n",
       "    </tr>\n",
       "  </thead>\n",
       "  <tbody>\n",
       "    <tr>\n",
       "      <th>0</th>\n",
       "      <td>[여행, 락]</td>\n",
       "    </tr>\n",
       "    <tr>\n",
       "      <th>1</th>\n",
       "      <td>[회상, 요즘, 추억]</td>\n",
       "    </tr>\n",
       "    <tr>\n",
       "      <th>2</th>\n",
       "      <td>[편하, 카페, 잔잔]</td>\n",
       "    </tr>\n",
       "    <tr>\n",
       "      <th>3</th>\n",
       "      <td>[눈, 왕국, 연말, 분위기, 겨울, 취하, 크리스마스, 캐럴, 흠뻑]</td>\n",
       "    </tr>\n",
       "    <tr>\n",
       "      <th>4</th>\n",
       "      <td>[댄스, 추억]</td>\n",
       "    </tr>\n",
       "    <tr>\n",
       "      <th>...</th>\n",
       "      <td>...</td>\n",
       "    </tr>\n",
       "    <tr>\n",
       "      <th>115066</th>\n",
       "      <td>[록, extreme, METAL, 사운드, 메탈, E, SM, 밴드, 락]</td>\n",
       "    </tr>\n",
       "    <tr>\n",
       "      <th>115067</th>\n",
       "      <td>[인기, 빠르, 일렉, 리스, EDM, 최신, 따끈따끈]</td>\n",
       "    </tr>\n",
       "    <tr>\n",
       "      <th>115068</th>\n",
       "      <td>[주인공, 눈물, 사랑, 그리움, 이야기, 친구, 담시, 가족]</td>\n",
       "    </tr>\n",
       "    <tr>\n",
       "      <th>115069</th>\n",
       "      <td>[버스, 편히, 마무리, POP, 잔잔, 퇴근길, 하루, 풍경, Pop, 퇴근]</td>\n",
       "    </tr>\n",
       "    <tr>\n",
       "      <th>115070</th>\n",
       "      <td>[FAVORITE, 팝송, POPSONG]</td>\n",
       "    </tr>\n",
       "  </tbody>\n",
       "</table>\n",
       "<p>115071 rows × 1 columns</p>\n",
       "</div>"
      ],
      "text/plain": [
       "                                                한개지움\n",
       "0                                            [여행, 락]\n",
       "1                                       [회상, 요즘, 추억]\n",
       "2                                       [편하, 카페, 잔잔]\n",
       "3            [눈, 왕국, 연말, 분위기, 겨울, 취하, 크리스마스, 캐럴, 흠뻑]\n",
       "4                                           [댄스, 추억]\n",
       "...                                              ...\n",
       "115066    [록, extreme, METAL, 사운드, 메탈, E, SM, 밴드, 락]\n",
       "115067               [인기, 빠르, 일렉, 리스, EDM, 최신, 따끈따끈]\n",
       "115068           [주인공, 눈물, 사랑, 그리움, 이야기, 친구, 담시, 가족]\n",
       "115069  [버스, 편히, 마무리, POP, 잔잔, 퇴근길, 하루, 풍경, Pop, 퇴근]\n",
       "115070                       [FAVORITE, 팝송, POPSONG]\n",
       "\n",
       "[115071 rows x 1 columns]"
      ]
     },
     "execution_count": 117,
     "metadata": {},
     "output_type": "execute_result"
    }
   ],
   "source": [
    "app = ['음악','모음','노래','곡','날','오다','추천','위','은','대','도','b','r','다','성','송','귀','뮤직','music','차트',\n",
    "       'vol']\n",
    "rem1 = ddf.query('cnt <= 1')['no_du'].values\n",
    "rem1 = np.append(rem1,app)\n",
    "rem1\n",
    "\n",
    "# 단어 제거하기\n",
    "\n",
    "clean_1 = []\n",
    "\n",
    "for big_list in new_tag['no_du']:\n",
    "    temp_list = []\n",
    "    for word in big_list:\n",
    "        if word not in rem1:\n",
    "            temp_list.append(word)\n",
    "    clean_1.append(temp_list)\n",
    "    \n",
    "A1 = []\n",
    "A1.append(clean_1)\n",
    "\n",
    "new_tag1 = pd.DataFrame(A1).T\n",
    "new_tag1.columns = ['한개지움']\n",
    "new_tag1"
   ]
  },
  {
   "cell_type": "code",
   "execution_count": 118,
   "metadata": {
    "ExecuteTime": {
     "end_time": "2021-09-10T13:13:56.797034Z",
     "start_time": "2021-09-10T13:13:55.914156Z"
    }
   },
   "outputs": [
    {
     "data": {
      "text/html": [
       "<div>\n",
       "<style scoped>\n",
       "    .dataframe tbody tr th:only-of-type {\n",
       "        vertical-align: middle;\n",
       "    }\n",
       "\n",
       "    .dataframe tbody tr th {\n",
       "        vertical-align: top;\n",
       "    }\n",
       "\n",
       "    .dataframe thead th {\n",
       "        text-align: right;\n",
       "    }\n",
       "</style>\n",
       "<table border=\"1\" class=\"dataframe\">\n",
       "  <thead>\n",
       "    <tr style=\"text-align: right;\">\n",
       "      <th></th>\n",
       "      <th>한개지움</th>\n",
       "      <th>cnt</th>\n",
       "    </tr>\n",
       "  </thead>\n",
       "  <tbody>\n",
       "    <tr>\n",
       "      <th>0</th>\n",
       "      <td>기분</td>\n",
       "      <td>18436</td>\n",
       "    </tr>\n",
       "    <tr>\n",
       "      <th>1</th>\n",
       "      <td>감성</td>\n",
       "      <td>17154</td>\n",
       "    </tr>\n",
       "    <tr>\n",
       "      <th>2</th>\n",
       "      <td>전환</td>\n",
       "      <td>16761</td>\n",
       "    </tr>\n",
       "    <tr>\n",
       "      <th>3</th>\n",
       "      <td>발라드</td>\n",
       "      <td>12181</td>\n",
       "    </tr>\n",
       "    <tr>\n",
       "      <th>4</th>\n",
       "      <td>잔잔</td>\n",
       "      <td>11959</td>\n",
       "    </tr>\n",
       "    <tr>\n",
       "      <th>...</th>\n",
       "      <td>...</td>\n",
       "      <td>...</td>\n",
       "    </tr>\n",
       "    <tr>\n",
       "      <th>13639</th>\n",
       "      <td>바셀린</td>\n",
       "      <td>2</td>\n",
       "    </tr>\n",
       "    <tr>\n",
       "      <th>13640</th>\n",
       "      <td>나윤선</td>\n",
       "      <td>2</td>\n",
       "    </tr>\n",
       "    <tr>\n",
       "      <th>13641</th>\n",
       "      <td>느끼</td>\n",
       "      <td>2</td>\n",
       "    </tr>\n",
       "    <tr>\n",
       "      <th>13642</th>\n",
       "      <td>게스</td>\n",
       "      <td>2</td>\n",
       "    </tr>\n",
       "    <tr>\n",
       "      <th>13643</th>\n",
       "      <td>챗</td>\n",
       "      <td>2</td>\n",
       "    </tr>\n",
       "  </tbody>\n",
       "</table>\n",
       "<p>13644 rows × 2 columns</p>\n",
       "</div>"
      ],
      "text/plain": [
       "      한개지움    cnt\n",
       "0       기분  18436\n",
       "1       감성  17154\n",
       "2       전환  16761\n",
       "3      발라드  12181\n",
       "4       잔잔  11959\n",
       "...    ...    ...\n",
       "13639  바셀린      2\n",
       "13640  나윤선      2\n",
       "13641   느끼      2\n",
       "13642   게스      2\n",
       "13643    챗      2\n",
       "\n",
       "[13644 rows x 2 columns]"
      ]
     },
     "execution_count": 118,
     "metadata": {},
     "output_type": "execute_result"
    }
   ],
   "source": [
    "unnest = np.dstack(\n",
    "    (np.repeat(new_tag1.index.values,list(map(len,new_tag1['한개지움']))),\n",
    "     np.concatenate(new_tag1['한개지움'].values))\n",
    "         )\n",
    "\n",
    "unnest_df = pd.DataFrame(unnest[0],columns = ['id','한개지움'])\n",
    "\n",
    "ddf1 = pd.DataFrame(unnest_df['한개지움'].value_counts())\n",
    "ddf1.reset_index(inplace=True)\n",
    "ddf1.columns = ['한개지움','cnt']\n",
    "ddf1"
   ]
  },
  {
   "cell_type": "code",
   "execution_count": 120,
   "metadata": {
    "ExecuteTime": {
     "end_time": "2021-09-10T13:14:01.127568Z",
     "start_time": "2021-09-10T13:14:01.113641Z"
    }
   },
   "outputs": [
    {
     "data": {
      "text/html": [
       "<div>\n",
       "<style scoped>\n",
       "    .dataframe tbody tr th:only-of-type {\n",
       "        vertical-align: middle;\n",
       "    }\n",
       "\n",
       "    .dataframe tbody tr th {\n",
       "        vertical-align: top;\n",
       "    }\n",
       "\n",
       "    .dataframe thead th {\n",
       "        text-align: right;\n",
       "    }\n",
       "</style>\n",
       "<table border=\"1\" class=\"dataframe\">\n",
       "  <thead>\n",
       "    <tr style=\"text-align: right;\">\n",
       "      <th></th>\n",
       "      <th>한개지움</th>\n",
       "      <th>cnt</th>\n",
       "    </tr>\n",
       "  </thead>\n",
       "  <tbody>\n",
       "    <tr>\n",
       "      <th>1851</th>\n",
       "      <td>8살</td>\n",
       "      <td>39</td>\n",
       "    </tr>\n",
       "  </tbody>\n",
       "</table>\n",
       "</div>"
      ],
      "text/plain": [
       "     한개지움  cnt\n",
       "1851   8살   39"
      ]
     },
     "execution_count": 120,
     "metadata": {},
     "output_type": "execute_result"
    }
   ],
   "source": [
    "ddf1[ddf1['한개지움'] == '8살']"
   ]
  },
  {
   "cell_type": "code",
   "execution_count": 119,
   "metadata": {
    "ExecuteTime": {
     "end_time": "2021-09-10T13:13:59.028705Z",
     "start_time": "2021-09-10T13:13:58.895962Z"
    }
   },
   "outputs": [],
   "source": [
    "new_tag1.to_json('data/new_tag/new_tag1.json', orient = 'records')"
   ]
  },
  {
   "cell_type": "markdown",
   "metadata": {},
   "source": [
    "### 2개 지운거"
   ]
  },
  {
   "cell_type": "code",
   "execution_count": 121,
   "metadata": {
    "ExecuteTime": {
     "end_time": "2021-09-10T13:18:35.485315Z",
     "start_time": "2021-09-10T13:14:03.210088Z"
    }
   },
   "outputs": [
    {
     "data": {
      "text/html": [
       "<div>\n",
       "<style scoped>\n",
       "    .dataframe tbody tr th:only-of-type {\n",
       "        vertical-align: middle;\n",
       "    }\n",
       "\n",
       "    .dataframe tbody tr th {\n",
       "        vertical-align: top;\n",
       "    }\n",
       "\n",
       "    .dataframe thead th {\n",
       "        text-align: right;\n",
       "    }\n",
       "</style>\n",
       "<table border=\"1\" class=\"dataframe\">\n",
       "  <thead>\n",
       "    <tr style=\"text-align: right;\">\n",
       "      <th></th>\n",
       "      <th>두개지움</th>\n",
       "    </tr>\n",
       "  </thead>\n",
       "  <tbody>\n",
       "    <tr>\n",
       "      <th>0</th>\n",
       "      <td>[여행, 락]</td>\n",
       "    </tr>\n",
       "    <tr>\n",
       "      <th>1</th>\n",
       "      <td>[회상, 요즘, 추억]</td>\n",
       "    </tr>\n",
       "    <tr>\n",
       "      <th>2</th>\n",
       "      <td>[편하, 카페, 잔잔]</td>\n",
       "    </tr>\n",
       "    <tr>\n",
       "      <th>3</th>\n",
       "      <td>[눈, 왕국, 연말, 분위기, 겨울, 취하, 크리스마스, 캐럴, 흠뻑]</td>\n",
       "    </tr>\n",
       "    <tr>\n",
       "      <th>4</th>\n",
       "      <td>[댄스, 추억]</td>\n",
       "    </tr>\n",
       "    <tr>\n",
       "      <th>...</th>\n",
       "      <td>...</td>\n",
       "    </tr>\n",
       "    <tr>\n",
       "      <th>115066</th>\n",
       "      <td>[록, METAL, 사운드, 메탈, E, SM, 밴드, 락]</td>\n",
       "    </tr>\n",
       "    <tr>\n",
       "      <th>115067</th>\n",
       "      <td>[인기, 빠르, 일렉, 리스, EDM, 최신, 따끈따끈]</td>\n",
       "    </tr>\n",
       "    <tr>\n",
       "      <th>115068</th>\n",
       "      <td>[주인공, 눈물, 사랑, 그리움, 이야기, 친구, 담시, 가족]</td>\n",
       "    </tr>\n",
       "    <tr>\n",
       "      <th>115069</th>\n",
       "      <td>[버스, 편히, 마무리, POP, 잔잔, 퇴근길, 하루, 풍경, Pop, 퇴근]</td>\n",
       "    </tr>\n",
       "    <tr>\n",
       "      <th>115070</th>\n",
       "      <td>[FAVORITE, 팝송, POPSONG]</td>\n",
       "    </tr>\n",
       "  </tbody>\n",
       "</table>\n",
       "<p>115071 rows × 1 columns</p>\n",
       "</div>"
      ],
      "text/plain": [
       "                                                두개지움\n",
       "0                                            [여행, 락]\n",
       "1                                       [회상, 요즘, 추억]\n",
       "2                                       [편하, 카페, 잔잔]\n",
       "3            [눈, 왕국, 연말, 분위기, 겨울, 취하, 크리스마스, 캐럴, 흠뻑]\n",
       "4                                           [댄스, 추억]\n",
       "...                                              ...\n",
       "115066             [록, METAL, 사운드, 메탈, E, SM, 밴드, 락]\n",
       "115067               [인기, 빠르, 일렉, 리스, EDM, 최신, 따끈따끈]\n",
       "115068           [주인공, 눈물, 사랑, 그리움, 이야기, 친구, 담시, 가족]\n",
       "115069  [버스, 편히, 마무리, POP, 잔잔, 퇴근길, 하루, 풍경, Pop, 퇴근]\n",
       "115070                       [FAVORITE, 팝송, POPSONG]\n",
       "\n",
       "[115071 rows x 1 columns]"
      ]
     },
     "execution_count": 121,
     "metadata": {},
     "output_type": "execute_result"
    }
   ],
   "source": [
    "app = ['음악','모음','노래','곡','날','오다','추천','위','은','대','도','b','r','다','성','송','귀','뮤직','music','차트',\n",
    "       'vol']\n",
    "rem2 = ddf.query('cnt <= 2')['no_du'].values\n",
    "rem2 = np.append(rem2,app)\n",
    "rem2\n",
    "\n",
    "# 단어 제거하기\n",
    "\n",
    "clean_2 = []\n",
    "\n",
    "for big_list in new_tag['no_du']:\n",
    "    temp_list = []\n",
    "    for word in big_list:\n",
    "        if word not in rem2:\n",
    "            temp_list.append(word)\n",
    "    clean_2.append(temp_list)\n",
    "    \n",
    "A2 = []\n",
    "A2.append(clean_2)\n",
    "            \n",
    "new_tag2 = pd.DataFrame(A2).T\n",
    "new_tag2.columns = ['두개지움']\n",
    "new_tag2"
   ]
  },
  {
   "cell_type": "code",
   "execution_count": 122,
   "metadata": {
    "ExecuteTime": {
     "end_time": "2021-09-10T13:18:38.494265Z",
     "start_time": "2021-09-10T13:18:37.627555Z"
    }
   },
   "outputs": [
    {
     "data": {
      "text/html": [
       "<div>\n",
       "<style scoped>\n",
       "    .dataframe tbody tr th:only-of-type {\n",
       "        vertical-align: middle;\n",
       "    }\n",
       "\n",
       "    .dataframe tbody tr th {\n",
       "        vertical-align: top;\n",
       "    }\n",
       "\n",
       "    .dataframe thead th {\n",
       "        text-align: right;\n",
       "    }\n",
       "</style>\n",
       "<table border=\"1\" class=\"dataframe\">\n",
       "  <thead>\n",
       "    <tr style=\"text-align: right;\">\n",
       "      <th></th>\n",
       "      <th>두개지움</th>\n",
       "      <th>cnt</th>\n",
       "    </tr>\n",
       "  </thead>\n",
       "  <tbody>\n",
       "    <tr>\n",
       "      <th>0</th>\n",
       "      <td>기분</td>\n",
       "      <td>18436</td>\n",
       "    </tr>\n",
       "    <tr>\n",
       "      <th>1</th>\n",
       "      <td>감성</td>\n",
       "      <td>17154</td>\n",
       "    </tr>\n",
       "    <tr>\n",
       "      <th>2</th>\n",
       "      <td>전환</td>\n",
       "      <td>16761</td>\n",
       "    </tr>\n",
       "    <tr>\n",
       "      <th>3</th>\n",
       "      <td>발라드</td>\n",
       "      <td>12181</td>\n",
       "    </tr>\n",
       "    <tr>\n",
       "      <th>4</th>\n",
       "      <td>잔잔</td>\n",
       "      <td>11959</td>\n",
       "    </tr>\n",
       "    <tr>\n",
       "      <th>...</th>\n",
       "      <td>...</td>\n",
       "      <td>...</td>\n",
       "    </tr>\n",
       "    <tr>\n",
       "      <th>10197</th>\n",
       "      <td>누룩</td>\n",
       "      <td>3</td>\n",
       "    </tr>\n",
       "    <tr>\n",
       "      <th>10198</th>\n",
       "      <td>타도</td>\n",
       "      <td>3</td>\n",
       "    </tr>\n",
       "    <tr>\n",
       "      <th>10199</th>\n",
       "      <td>윤석</td>\n",
       "      <td>3</td>\n",
       "    </tr>\n",
       "    <tr>\n",
       "      <th>10200</th>\n",
       "      <td>흐뭇</td>\n",
       "      <td>3</td>\n",
       "    </tr>\n",
       "    <tr>\n",
       "      <th>10201</th>\n",
       "      <td>쌍포</td>\n",
       "      <td>3</td>\n",
       "    </tr>\n",
       "  </tbody>\n",
       "</table>\n",
       "<p>10202 rows × 2 columns</p>\n",
       "</div>"
      ],
      "text/plain": [
       "      두개지움    cnt\n",
       "0       기분  18436\n",
       "1       감성  17154\n",
       "2       전환  16761\n",
       "3      발라드  12181\n",
       "4       잔잔  11959\n",
       "...    ...    ...\n",
       "10197   누룩      3\n",
       "10198   타도      3\n",
       "10199   윤석      3\n",
       "10200   흐뭇      3\n",
       "10201   쌍포      3\n",
       "\n",
       "[10202 rows x 2 columns]"
      ]
     },
     "execution_count": 122,
     "metadata": {},
     "output_type": "execute_result"
    }
   ],
   "source": [
    "unnest = np.dstack(\n",
    "    (np.repeat(new_tag2.index.values,list(map(len,new_tag2['두개지움']))),\n",
    "     np.concatenate(new_tag2['두개지움'].values))\n",
    "         )\n",
    "\n",
    "unnest_df = pd.DataFrame(unnest[0],columns = ['id','두개지움'])\n",
    "\n",
    "ddf2 = pd.DataFrame(unnest_df['두개지움'].value_counts())\n",
    "ddf2.reset_index(inplace=True)\n",
    "ddf2.columns = ['두개지움','cnt']\n",
    "ddf2"
   ]
  },
  {
   "cell_type": "code",
   "execution_count": 125,
   "metadata": {
    "ExecuteTime": {
     "end_time": "2021-09-10T13:18:45.098258Z",
     "start_time": "2021-09-10T13:18:45.084522Z"
    }
   },
   "outputs": [
    {
     "data": {
      "text/html": [
       "<div>\n",
       "<style scoped>\n",
       "    .dataframe tbody tr th:only-of-type {\n",
       "        vertical-align: middle;\n",
       "    }\n",
       "\n",
       "    .dataframe tbody tr th {\n",
       "        vertical-align: top;\n",
       "    }\n",
       "\n",
       "    .dataframe thead th {\n",
       "        text-align: right;\n",
       "    }\n",
       "</style>\n",
       "<table border=\"1\" class=\"dataframe\">\n",
       "  <thead>\n",
       "    <tr style=\"text-align: right;\">\n",
       "      <th></th>\n",
       "      <th>두개지움</th>\n",
       "      <th>cnt</th>\n",
       "    </tr>\n",
       "  </thead>\n",
       "  <tbody>\n",
       "    <tr>\n",
       "      <th>1852</th>\n",
       "      <td>8살</td>\n",
       "      <td>39</td>\n",
       "    </tr>\n",
       "  </tbody>\n",
       "</table>\n",
       "</div>"
      ],
      "text/plain": [
       "     두개지움  cnt\n",
       "1852   8살   39"
      ]
     },
     "execution_count": 125,
     "metadata": {},
     "output_type": "execute_result"
    }
   ],
   "source": [
    "ddf2[ddf2['두개지움'] == '8살']"
   ]
  },
  {
   "cell_type": "code",
   "execution_count": 126,
   "metadata": {
    "ExecuteTime": {
     "end_time": "2021-09-10T13:18:47.361618Z",
     "start_time": "2021-09-10T13:18:47.227970Z"
    }
   },
   "outputs": [],
   "source": [
    "new_tag2.to_json('data/new_tag/new_tag2.json', orient = 'records')"
   ]
  },
  {
   "cell_type": "markdown",
   "metadata": {},
   "source": [
    "### 3개 지운거"
   ]
  },
  {
   "cell_type": "code",
   "execution_count": 127,
   "metadata": {
    "ExecuteTime": {
     "end_time": "2021-09-10T13:23:59.890263Z",
     "start_time": "2021-09-10T13:18:49.503577Z"
    },
    "scrolled": false
   },
   "outputs": [
    {
     "data": {
      "text/html": [
       "<div>\n",
       "<style scoped>\n",
       "    .dataframe tbody tr th:only-of-type {\n",
       "        vertical-align: middle;\n",
       "    }\n",
       "\n",
       "    .dataframe tbody tr th {\n",
       "        vertical-align: top;\n",
       "    }\n",
       "\n",
       "    .dataframe thead th {\n",
       "        text-align: right;\n",
       "    }\n",
       "</style>\n",
       "<table border=\"1\" class=\"dataframe\">\n",
       "  <thead>\n",
       "    <tr style=\"text-align: right;\">\n",
       "      <th></th>\n",
       "      <th>세개지움</th>\n",
       "    </tr>\n",
       "  </thead>\n",
       "  <tbody>\n",
       "    <tr>\n",
       "      <th>0</th>\n",
       "      <td>[여행, 락]</td>\n",
       "    </tr>\n",
       "    <tr>\n",
       "      <th>1</th>\n",
       "      <td>[회상, 요즘, 추억]</td>\n",
       "    </tr>\n",
       "    <tr>\n",
       "      <th>2</th>\n",
       "      <td>[편하, 카페, 잔잔]</td>\n",
       "    </tr>\n",
       "    <tr>\n",
       "      <th>3</th>\n",
       "      <td>[눈, 왕국, 연말, 분위기, 겨울, 취하, 크리스마스, 캐럴, 흠뻑]</td>\n",
       "    </tr>\n",
       "    <tr>\n",
       "      <th>4</th>\n",
       "      <td>[댄스, 추억]</td>\n",
       "    </tr>\n",
       "    <tr>\n",
       "      <th>...</th>\n",
       "      <td>...</td>\n",
       "    </tr>\n",
       "    <tr>\n",
       "      <th>115066</th>\n",
       "      <td>[록, METAL, 사운드, 메탈, E, SM, 밴드, 락]</td>\n",
       "    </tr>\n",
       "    <tr>\n",
       "      <th>115067</th>\n",
       "      <td>[인기, 빠르, 일렉, 리스, EDM, 최신, 따끈따끈]</td>\n",
       "    </tr>\n",
       "    <tr>\n",
       "      <th>115068</th>\n",
       "      <td>[주인공, 눈물, 사랑, 그리움, 이야기, 친구, 가족]</td>\n",
       "    </tr>\n",
       "    <tr>\n",
       "      <th>115069</th>\n",
       "      <td>[버스, 편히, 마무리, POP, 잔잔, 퇴근길, 하루, 풍경, Pop, 퇴근]</td>\n",
       "    </tr>\n",
       "    <tr>\n",
       "      <th>115070</th>\n",
       "      <td>[FAVORITE, 팝송, POPSONG]</td>\n",
       "    </tr>\n",
       "  </tbody>\n",
       "</table>\n",
       "<p>115071 rows × 1 columns</p>\n",
       "</div>"
      ],
      "text/plain": [
       "                                                세개지움\n",
       "0                                            [여행, 락]\n",
       "1                                       [회상, 요즘, 추억]\n",
       "2                                       [편하, 카페, 잔잔]\n",
       "3            [눈, 왕국, 연말, 분위기, 겨울, 취하, 크리스마스, 캐럴, 흠뻑]\n",
       "4                                           [댄스, 추억]\n",
       "...                                              ...\n",
       "115066             [록, METAL, 사운드, 메탈, E, SM, 밴드, 락]\n",
       "115067               [인기, 빠르, 일렉, 리스, EDM, 최신, 따끈따끈]\n",
       "115068               [주인공, 눈물, 사랑, 그리움, 이야기, 친구, 가족]\n",
       "115069  [버스, 편히, 마무리, POP, 잔잔, 퇴근길, 하루, 풍경, Pop, 퇴근]\n",
       "115070                       [FAVORITE, 팝송, POPSONG]\n",
       "\n",
       "[115071 rows x 1 columns]"
      ]
     },
     "execution_count": 127,
     "metadata": {},
     "output_type": "execute_result"
    }
   ],
   "source": [
    "app = ['음악','모음','노래','곡','날','오다','추천','위','은','대','도','b','r','다','성','송','귀','뮤직','music','차트',\n",
    "       'vol']\n",
    "rem3 = ddf.query('cnt <= 3')['no_du'].values\n",
    "rem3 = np.append(rem3,app)\n",
    "rem3\n",
    "\n",
    "# 단어 제거하기\n",
    "\n",
    "clean_3 = []\n",
    "\n",
    "for big_list in new_tag['no_du']:\n",
    "    temp_list = []\n",
    "    for word in big_list:\n",
    "        if word not in rem3:\n",
    "            temp_list.append(word)\n",
    "    clean_3.append(temp_list)\n",
    "            \n",
    "A3 = []\n",
    "A3.append(clean_3)\n",
    "            \n",
    "new_tag3 = pd.DataFrame(A3).T\n",
    "new_tag3.columns = ['세개지움']\n",
    "new_tag3"
   ]
  },
  {
   "cell_type": "code",
   "execution_count": 128,
   "metadata": {
    "ExecuteTime": {
     "end_time": "2021-09-10T13:24:02.990263Z",
     "start_time": "2021-09-10T13:24:02.092566Z"
    }
   },
   "outputs": [
    {
     "data": {
      "text/html": [
       "<div>\n",
       "<style scoped>\n",
       "    .dataframe tbody tr th:only-of-type {\n",
       "        vertical-align: middle;\n",
       "    }\n",
       "\n",
       "    .dataframe tbody tr th {\n",
       "        vertical-align: top;\n",
       "    }\n",
       "\n",
       "    .dataframe thead th {\n",
       "        text-align: right;\n",
       "    }\n",
       "</style>\n",
       "<table border=\"1\" class=\"dataframe\">\n",
       "  <thead>\n",
       "    <tr style=\"text-align: right;\">\n",
       "      <th></th>\n",
       "      <th>세개지움</th>\n",
       "      <th>cnt</th>\n",
       "    </tr>\n",
       "  </thead>\n",
       "  <tbody>\n",
       "    <tr>\n",
       "      <th>0</th>\n",
       "      <td>기분</td>\n",
       "      <td>18436</td>\n",
       "    </tr>\n",
       "    <tr>\n",
       "      <th>1</th>\n",
       "      <td>감성</td>\n",
       "      <td>17154</td>\n",
       "    </tr>\n",
       "    <tr>\n",
       "      <th>2</th>\n",
       "      <td>전환</td>\n",
       "      <td>16761</td>\n",
       "    </tr>\n",
       "    <tr>\n",
       "      <th>3</th>\n",
       "      <td>발라드</td>\n",
       "      <td>12181</td>\n",
       "    </tr>\n",
       "    <tr>\n",
       "      <th>4</th>\n",
       "      <td>잔잔</td>\n",
       "      <td>11959</td>\n",
       "    </tr>\n",
       "    <tr>\n",
       "      <th>...</th>\n",
       "      <td>...</td>\n",
       "      <td>...</td>\n",
       "    </tr>\n",
       "    <tr>\n",
       "      <th>8287</th>\n",
       "      <td>지호</td>\n",
       "      <td>4</td>\n",
       "    </tr>\n",
       "    <tr>\n",
       "      <th>8288</th>\n",
       "      <td>얼티밋</td>\n",
       "      <td>4</td>\n",
       "    </tr>\n",
       "    <tr>\n",
       "      <th>8289</th>\n",
       "      <td>Vince</td>\n",
       "      <td>4</td>\n",
       "    </tr>\n",
       "    <tr>\n",
       "      <th>8290</th>\n",
       "      <td>싸늘</td>\n",
       "      <td>4</td>\n",
       "    </tr>\n",
       "    <tr>\n",
       "      <th>8291</th>\n",
       "      <td>JYJ</td>\n",
       "      <td>4</td>\n",
       "    </tr>\n",
       "  </tbody>\n",
       "</table>\n",
       "<p>8292 rows × 2 columns</p>\n",
       "</div>"
      ],
      "text/plain": [
       "       세개지움    cnt\n",
       "0        기분  18436\n",
       "1        감성  17154\n",
       "2        전환  16761\n",
       "3       발라드  12181\n",
       "4        잔잔  11959\n",
       "...     ...    ...\n",
       "8287     지호      4\n",
       "8288    얼티밋      4\n",
       "8289  Vince      4\n",
       "8290     싸늘      4\n",
       "8291    JYJ      4\n",
       "\n",
       "[8292 rows x 2 columns]"
      ]
     },
     "execution_count": 128,
     "metadata": {},
     "output_type": "execute_result"
    }
   ],
   "source": [
    "unnest = np.dstack(\n",
    "    (np.repeat(new_tag3.index.values,list(map(len,new_tag3['세개지움']))),\n",
    "     np.concatenate(new_tag3['세개지움'].values))\n",
    "         )\n",
    "\n",
    "unnest_df = pd.DataFrame(unnest[0],columns = ['id','세개지움'])\n",
    "\n",
    "ddf3 = pd.DataFrame(unnest_df['세개지움'].value_counts())\n",
    "ddf3.reset_index(inplace=True)\n",
    "ddf3.columns = ['세개지움','cnt']\n",
    "ddf3"
   ]
  },
  {
   "cell_type": "code",
   "execution_count": 129,
   "metadata": {
    "ExecuteTime": {
     "end_time": "2021-09-10T13:24:05.177740Z",
     "start_time": "2021-09-10T13:24:05.163776Z"
    }
   },
   "outputs": [
    {
     "data": {
      "text/html": [
       "<div>\n",
       "<style scoped>\n",
       "    .dataframe tbody tr th:only-of-type {\n",
       "        vertical-align: middle;\n",
       "    }\n",
       "\n",
       "    .dataframe tbody tr th {\n",
       "        vertical-align: top;\n",
       "    }\n",
       "\n",
       "    .dataframe thead th {\n",
       "        text-align: right;\n",
       "    }\n",
       "</style>\n",
       "<table border=\"1\" class=\"dataframe\">\n",
       "  <thead>\n",
       "    <tr style=\"text-align: right;\">\n",
       "      <th></th>\n",
       "      <th>세개지움</th>\n",
       "      <th>cnt</th>\n",
       "    </tr>\n",
       "  </thead>\n",
       "  <tbody>\n",
       "    <tr>\n",
       "      <th>1848</th>\n",
       "      <td>8살</td>\n",
       "      <td>39</td>\n",
       "    </tr>\n",
       "  </tbody>\n",
       "</table>\n",
       "</div>"
      ],
      "text/plain": [
       "     세개지움  cnt\n",
       "1848   8살   39"
      ]
     },
     "execution_count": 129,
     "metadata": {},
     "output_type": "execute_result"
    }
   ],
   "source": [
    "ddf3[ddf3['세개지움'] == '8살']"
   ]
  },
  {
   "cell_type": "code",
   "execution_count": 130,
   "metadata": {
    "ExecuteTime": {
     "end_time": "2021-09-10T13:24:07.499514Z",
     "start_time": "2021-09-10T13:24:07.365302Z"
    }
   },
   "outputs": [],
   "source": [
    "new_tag3.to_json('data/new_tag/new_tag3.json', orient = 'records')"
   ]
  },
  {
   "cell_type": "markdown",
   "metadata": {},
   "source": [
    "---\n",
    "---\n",
    "---"
   ]
  },
  {
   "cell_type": "markdown",
   "metadata": {},
   "source": [
    "---\n",
    "---\n",
    "---"
   ]
  },
  {
   "cell_type": "code",
   "execution_count": 131,
   "metadata": {
    "ExecuteTime": {
     "end_time": "2021-09-10T13:24:10.613352Z",
     "start_time": "2021-09-10T13:24:09.671868Z"
    }
   },
   "outputs": [],
   "source": [
    "new_tag0 = pd.read_json('data/new_tag/new_tag0.json')\n",
    "new_tag0.reset_index(inplace=True)\n",
    "\n",
    "new_tag1 = pd.read_json('data/new_tag/new_tag1.json')\n",
    "new_tag1.reset_index(inplace=True)\n",
    "\n",
    "new_tag2 = pd.read_json('data/new_tag/new_tag2.json')\n",
    "new_tag2.reset_index(inplace=True)\n",
    "\n",
    "new_tag3 = pd.read_json('data/new_tag/new_tag3.json')\n",
    "new_tag3.reset_index(inplace=True)"
   ]
  },
  {
   "cell_type": "code",
   "execution_count": 132,
   "metadata": {
    "ExecuteTime": {
     "end_time": "2021-09-10T13:24:15.618942Z",
     "start_time": "2021-09-10T13:24:12.846027Z"
    }
   },
   "outputs": [],
   "source": [
    "train = pd.read_json('data/train.json')\n",
    "train.reset_index(inplace=True)"
   ]
  },
  {
   "cell_type": "code",
   "execution_count": 133,
   "metadata": {
    "ExecuteTime": {
     "end_time": "2021-09-10T13:24:19.167667Z",
     "start_time": "2021-09-10T13:24:17.908831Z"
    }
   },
   "outputs": [],
   "source": [
    "new_train0 = pd.merge(train, new_tag0, on='index')\n",
    "new_train0.drop('index',axis=1,inplace=True)\n",
    "new_train0 = new_train0[['tags','id','안지움','plylst_title','songs','like_cnt','updt_date']]\n",
    "new_train0.to_json('data/new_tag/new_train0.json', orient = 'records')"
   ]
  },
  {
   "cell_type": "code",
   "execution_count": 134,
   "metadata": {
    "ExecuteTime": {
     "end_time": "2021-09-10T13:24:22.491804Z",
     "start_time": "2021-09-10T13:24:21.398615Z"
    }
   },
   "outputs": [],
   "source": [
    "new_train1 = pd.merge(train, new_tag1, on='index')\n",
    "new_train1.drop('index',axis=1,inplace=True)\n",
    "new_train1 = new_train1[['tags','id','한개지움','plylst_title','songs','like_cnt','updt_date']]\n",
    "new_train1.to_json('data/new_tag/new_train1.json', orient = 'records')"
   ]
  },
  {
   "cell_type": "code",
   "execution_count": 135,
   "metadata": {
    "ExecuteTime": {
     "end_time": "2021-09-10T13:24:25.756892Z",
     "start_time": "2021-09-10T13:24:24.695498Z"
    }
   },
   "outputs": [],
   "source": [
    "new_train2 = pd.merge(train, new_tag2, on='index')\n",
    "new_train2.drop('index',axis=1,inplace=True)\n",
    "new_train2 = new_train2[['tags','id','두개지움','plylst_title','songs','like_cnt','updt_date']]\n",
    "new_train2.to_json('data/new_tag/new_train2.json', orient = 'records')"
   ]
  },
  {
   "cell_type": "code",
   "execution_count": 136,
   "metadata": {
    "ExecuteTime": {
     "end_time": "2021-09-10T13:24:29.125961Z",
     "start_time": "2021-09-10T13:24:27.974952Z"
    }
   },
   "outputs": [],
   "source": [
    "new_train3 = pd.merge(train, new_tag3, on='index')\n",
    "new_train3.drop('index',axis=1,inplace=True)\n",
    "new_train3 = new_train3[['tags','id','세개지움','plylst_title','songs','like_cnt','updt_date']]\n",
    "new_train3.to_json('data/new_tag/new_train3.json', orient = 'records')"
   ]
  }
 ],
 "metadata": {
  "kernelspec": {
   "display_name": "Python 3",
   "language": "python",
   "name": "python3"
  },
  "language_info": {
   "codemirror_mode": {
    "name": "ipython",
    "version": 3
   },
   "file_extension": ".py",
   "mimetype": "text/x-python",
   "name": "python",
   "nbconvert_exporter": "python",
   "pygments_lexer": "ipython3",
   "version": "3.8.5"
  },
  "toc": {
   "base_numbering": 1,
   "nav_menu": {},
   "number_sections": true,
   "sideBar": true,
   "skip_h1_title": false,
   "title_cell": "Table of Contents",
   "title_sidebar": "Contents",
   "toc_cell": false,
   "toc_position": {},
   "toc_section_display": true,
   "toc_window_display": false
  },
  "varInspector": {
   "cols": {
    "lenName": 16,
    "lenType": 16,
    "lenVar": 40
   },
   "kernels_config": {
    "python": {
     "delete_cmd_postfix": "",
     "delete_cmd_prefix": "del ",
     "library": "var_list.py",
     "varRefreshCmd": "print(var_dic_list())"
    },
    "r": {
     "delete_cmd_postfix": ") ",
     "delete_cmd_prefix": "rm(",
     "library": "var_list.r",
     "varRefreshCmd": "cat(var_dic_list()) "
    }
   },
   "types_to_exclude": [
    "module",
    "function",
    "builtin_function_or_method",
    "instance",
    "_Feature"
   ],
   "window_display": false
  }
 },
 "nbformat": 4,
 "nbformat_minor": 4
}
