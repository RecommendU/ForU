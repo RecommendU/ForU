{
 "cells": [
  {
   "cell_type": "code",
   "execution_count": null,
   "id": "7abe7c58-ba3d-4717-9244-654c26e147e8",
   "metadata": {},
   "outputs": [],
   "source": [
    "from sklearn.metrics.pairwise import cosine_similarity\n",
    "import numpy as np\n",
    "import pandas as pd\n",
    "from scipy.sparse import *\n",
    "from scipy.sparse.linalg import svds"
   ]
  },
  {
   "cell_type": "markdown",
   "id": "b32e84b4-c0ce-477a-8c1a-c87f6624b44a",
   "metadata": {},
   "source": [
    "# 곡-플레이리스트 행렬에서 계산된 곡 간의 유사도 테스트"
   ]
  },
  {
   "cell_type": "code",
   "execution_count": 87,
   "id": "1b854690-05d0-42f7-af33-f38f3fadf280",
   "metadata": {},
   "outputs": [],
   "source": [
    "#플레이 리스트\n",
    "train = pd.read_json('../data/train.json')\n",
    "\n",
    "#곡 정보\n",
    "song_meta = pd.read_json('../data/song_meta.json')"
   ]
  },
  {
   "cell_type": "code",
   "execution_count": 88,
   "id": "7575ff19-c92b-4bb3-85fe-01c885edd992",
   "metadata": {},
   "outputs": [
    {
     "data": {
      "text/html": [
       "<div>\n",
       "<style scoped>\n",
       "    .dataframe tbody tr th:only-of-type {\n",
       "        vertical-align: middle;\n",
       "    }\n",
       "\n",
       "    .dataframe tbody tr th {\n",
       "        vertical-align: top;\n",
       "    }\n",
       "\n",
       "    .dataframe thead th {\n",
       "        text-align: right;\n",
       "    }\n",
       "</style>\n",
       "<table border=\"1\" class=\"dataframe\">\n",
       "  <thead>\n",
       "    <tr style=\"text-align: right;\">\n",
       "      <th></th>\n",
       "      <th>tags</th>\n",
       "      <th>id</th>\n",
       "      <th>plylst_title</th>\n",
       "      <th>songs</th>\n",
       "      <th>like_cnt</th>\n",
       "      <th>updt_date</th>\n",
       "    </tr>\n",
       "  </thead>\n",
       "  <tbody>\n",
       "    <tr>\n",
       "      <th>0</th>\n",
       "      <td>[락]</td>\n",
       "      <td>61281</td>\n",
       "      <td>여행같은 음악</td>\n",
       "      <td>[525514, 129701, 383374, 562083, 297861, 13954...</td>\n",
       "      <td>71</td>\n",
       "      <td>2013-12-19 18:36:19.000</td>\n",
       "    </tr>\n",
       "    <tr>\n",
       "      <th>1</th>\n",
       "      <td>[추억, 회상]</td>\n",
       "      <td>10532</td>\n",
       "      <td>요즘 너 말야</td>\n",
       "      <td>[432406, 675945, 497066, 120377, 389529, 24427...</td>\n",
       "      <td>1</td>\n",
       "      <td>2014-12-02 16:19:42.000</td>\n",
       "    </tr>\n",
       "    <tr>\n",
       "      <th>2</th>\n",
       "      <td>[까페, 잔잔한]</td>\n",
       "      <td>76951</td>\n",
       "      <td>편하게, 잔잔하게 들을 수 있는 곡.-</td>\n",
       "      <td>[83116, 276692, 166267, 186301, 354465, 256598...</td>\n",
       "      <td>17</td>\n",
       "      <td>2017-08-28 07:09:34.000</td>\n",
       "    </tr>\n",
       "    <tr>\n",
       "      <th>3</th>\n",
       "      <td>[연말, 눈오는날, 캐럴, 분위기, 따듯한, 크리스마스캐럴, 겨울노래, 크리스마스,...</td>\n",
       "      <td>147456</td>\n",
       "      <td>크리스마스 분위기에 흠뻑 취하고 싶을때</td>\n",
       "      <td>[394031, 195524, 540149, 287984, 440773, 10033...</td>\n",
       "      <td>33</td>\n",
       "      <td>2019-12-05 15:15:18.000</td>\n",
       "    </tr>\n",
       "    <tr>\n",
       "      <th>4</th>\n",
       "      <td>[댄스]</td>\n",
       "      <td>27616</td>\n",
       "      <td>추억의 노래 ㅋ</td>\n",
       "      <td>[159327, 553610, 5130, 645103, 294435, 100657,...</td>\n",
       "      <td>9</td>\n",
       "      <td>2011-10-25 13:54:56.000</td>\n",
       "    </tr>\n",
       "  </tbody>\n",
       "</table>\n",
       "</div>"
      ],
      "text/plain": [
       "                                                tags      id  \\\n",
       "0                                                [락]   61281   \n",
       "1                                           [추억, 회상]   10532   \n",
       "2                                          [까페, 잔잔한]   76951   \n",
       "3  [연말, 눈오는날, 캐럴, 분위기, 따듯한, 크리스마스캐럴, 겨울노래, 크리스마스,...  147456   \n",
       "4                                               [댄스]   27616   \n",
       "\n",
       "            plylst_title                                              songs  \\\n",
       "0                여행같은 음악  [525514, 129701, 383374, 562083, 297861, 13954...   \n",
       "1                요즘 너 말야  [432406, 675945, 497066, 120377, 389529, 24427...   \n",
       "2  편하게, 잔잔하게 들을 수 있는 곡.-  [83116, 276692, 166267, 186301, 354465, 256598...   \n",
       "3  크리스마스 분위기에 흠뻑 취하고 싶을때  [394031, 195524, 540149, 287984, 440773, 10033...   \n",
       "4               추억의 노래 ㅋ  [159327, 553610, 5130, 645103, 294435, 100657,...   \n",
       "\n",
       "   like_cnt                updt_date  \n",
       "0        71  2013-12-19 18:36:19.000  \n",
       "1         1  2014-12-02 16:19:42.000  \n",
       "2        17  2017-08-28 07:09:34.000  \n",
       "3        33  2019-12-05 15:15:18.000  \n",
       "4         9  2011-10-25 13:54:56.000  "
      ]
     },
     "execution_count": 88,
     "metadata": {},
     "output_type": "execute_result"
    }
   ],
   "source": [
    "train.head()"
   ]
  },
  {
   "cell_type": "markdown",
   "id": "e0e143e6-9bc2-443a-b5b3-037c0e3f2f59",
   "metadata": {},
   "source": [
    "### 곡 id를 다시 인덱싱"
   ]
  },
  {
   "cell_type": "code",
   "execution_count": 89,
   "id": "5c8a3796-e3d5-40a8-a387-f5a499ed6a34",
   "metadata": {},
   "outputs": [],
   "source": [
    "# 플레이리스트의 모든 곡을 하나로 합치고 set으로 중복을 제거한다.\n",
    "all_songs = set(np.concatenate(train['songs']))\n",
    "\n",
    "#중복을 제외한 플레이리스트 내 등장한 전체 곡 수\n",
    "n_songs = len(all_songs)\n",
    "\n",
    "#새 인덱스와 기존 인덱스간 인코딩 디코딩을 위한 딕셔너리 초기화.\n",
    "# song_to_newid[원본인덱스] -> 바뀐 인덱스\n",
    "# newid_to_song[바뀐인덱스] -> 원본인덱스\n",
    "song_to_newid  = dict()\n",
    "newid_to_song = dict()"
   ]
  },
  {
   "cell_type": "code",
   "execution_count": 90,
   "id": "2cff23f7-6c37-4479-9217-557995e91618",
   "metadata": {},
   "outputs": [],
   "source": [
    "# 위 딕셔너리를 채운다.\n",
    "for i, t in enumerate(all_songs):\n",
    "    song_to_newid[t] = i\n",
    "    newid_to_song[i] = t"
   ]
  },
  {
   "cell_type": "code",
   "execution_count": 91,
   "id": "25a775d0-4dde-4b13-888e-9b1bf5058b25",
   "metadata": {},
   "outputs": [
    {
     "data": {
      "text/plain": [
       "0         [456704, 112732, 333158, 488440, 258853, 12127...\n",
       "1         [375894, 587314, 431997, 104605, 338568, 21226...\n",
       "2         [72132, 240434, 144495, 161861, 307991, 222934...\n",
       "3         [342495, 169897, 469393, 250235, 383169, 87161...\n",
       "4         [138494, 481095, 4399, 560460, 255877, 87448, ...\n",
       "                                ...                        \n",
       "115066    [373452, 383795, 531854, 448795, 601027, 33646...\n",
       "115067    [279203, 187803, 464493, 208798, 287747, 20234...\n",
       "115068    [43717, 216378, 217755, 322592, 199796, 603802...\n",
       "115069    [463690, 528384, 298561, 362605, 529162, 26262...\n",
       "115070    [22532, 396641, 281634, 78058, 117563, 124743,...\n",
       "Name: song_newid, Length: 115071, dtype: object"
      ]
     },
     "metadata": {},
     "output_type": "display_data"
    }
   ],
   "source": [
    "#기존 곡 id를 새 id로 바꾼 컬럼을 만든다.\n",
    "train['song_newid'] = train['songs'].apply(lambda x: [song_to_newid[song] for song in x])\n",
    "display(train['song_newid'])"
   ]
  },
  {
   "cell_type": "markdown",
   "id": "940c624c-b36f-4cea-ae20-3290d940d1f7",
   "metadata": {},
   "source": [
    "### playlist - song 테이블 구성\n",
    "\n",
    "`csr_matrix`를 구성하기위해 아래 3개가 필요하다.  \n",
    "`csr_matrix((data, (row_ind, col_ind)), [shape=(M, N)])`\n",
    "- row : 각 플레이리스트에 있는 곡 수만큼 반복되는 플레이리스트 인덱스들\n",
    "- col : 각 플레이리스트에 있는 곡들의 id 리스트\n",
    "- data : 각 플레이리스트 곡 값 (우리는 평점이 아니므로 전부 1)"
   ]
  },
  {
   "cell_type": "markdown",
   "id": "ca12deea-74df-4e17-9cd6-aa27100600a8",
   "metadata": {},
   "source": [
    "### row"
   ]
  },
  {
   "cell_type": "code",
   "execution_count": 92,
   "id": "1e79337a-ef68-4bbf-b274-32df95fae663",
   "metadata": {},
   "outputs": [
    {
     "data": {
      "text/plain": [
       "(5285871,)"
      ]
     },
     "execution_count": 92,
     "metadata": {},
     "output_type": "execute_result"
    }
   ],
   "source": [
    "# 각 플레이리스트 별 곡 수가 필요함\n",
    "train['song_cnt'] = train['songs'].map(lambda x : len(x))\n",
    "\n",
    "#각 플레이리스트 id를 각 플레이리스트 곡 수 만큼 반복\n",
    "row = np.repeat(range(len(train)), train['song_cnt'])\n",
    "row.shape"
   ]
  },
  {
   "cell_type": "markdown",
   "id": "ed4e4655-1c1c-47cf-ba9c-b13fee1394d2",
   "metadata": {},
   "source": [
    "### col"
   ]
  },
  {
   "cell_type": "code",
   "execution_count": 93,
   "id": "a2bafc67-ef0d-441f-979d-4c0cdc0a2656",
   "metadata": {},
   "outputs": [
    {
     "data": {
      "text/plain": [
       "(5285871,)"
      ]
     },
     "execution_count": 93,
     "metadata": {},
     "output_type": "execute_result"
    }
   ],
   "source": [
    "#각 플레이 리스트에 있는 곡들을 전부 붙이면 된다.\n",
    "col =  np.concatenate(train['song_newid'])\n",
    "col.shape"
   ]
  },
  {
   "cell_type": "markdown",
   "id": "f79639f8-e602-4be7-adc8-d52de7d8a266",
   "metadata": {},
   "source": [
    "### data"
   ]
  },
  {
   "cell_type": "code",
   "execution_count": 94,
   "id": "f4a97529-8a10-49f7-8af6-a82bfd974a1b",
   "metadata": {},
   "outputs": [],
   "source": [
    "# 우리는 평점에 대한 정보가 없으므로 data는 전부 1인 array가 된다.\n",
    "data = np.ones(col.shape[0])"
   ]
  },
  {
   "cell_type": "markdown",
   "id": "a5aa904b-67c9-4f05-9cbd-03171cda5252",
   "metadata": {},
   "source": [
    "## sparse matrix"
   ]
  },
  {
   "cell_type": "code",
   "execution_count": 95,
   "id": "3bf366e4-f7bb-4cba-b0ca-0baee203c9a3",
   "metadata": {},
   "outputs": [],
   "source": [
    "# 위 데이터로 희소행렬을 만든다.\n",
    "ply_song_table = csr_matrix((data, (row,col)), shape= (len(train), n_songs))"
   ]
  },
  {
   "cell_type": "code",
   "execution_count": 96,
   "id": "758d635b-b5d1-4e85-b29b-7b5bc3019060",
   "metadata": {},
   "outputs": [
    {
     "data": {
      "text/plain": [
       "<115071x615142 sparse matrix of type '<class 'numpy.float64'>'\n",
       "\twith 5285871 stored elements in Compressed Sparse Row format>"
      ]
     },
     "execution_count": 96,
     "metadata": {},
     "output_type": "execute_result"
    }
   ],
   "source": [
    "#행이 플레이리스트, 열이 곡인 행렬\n",
    "ply_song_table"
   ]
  },
  {
   "cell_type": "markdown",
   "id": "948c637d-02c5-4398-979c-e7db6ab2fb5b",
   "metadata": {},
   "source": [
    "# 곡 간의 유사도 계산"
   ]
  },
  {
   "cell_type": "code",
   "execution_count": 97,
   "id": "10710aa1-8454-49f5-8ef7-9af3e01d15c0",
   "metadata": {},
   "outputs": [],
   "source": [
    "#곡 간 유사도 계산을 위해 곡이 행으로 플레이리스트가 열로 와야한다.\n",
    "song_ply_table = ply_song_table.transpose()\n",
    "\n",
    "#코사인 유사도 계산.\n",
    "song_sim = cosine_similarity(song_ply_table, song_ply_table, dense_output = False)\n",
    "#곡 수 x 곡 수 크기의 유사도 행렬이 만들어짐."
   ]
  },
  {
   "cell_type": "markdown",
   "id": "fbc46a1d-5e53-434d-8cf9-26e37467c827",
   "metadata": {},
   "source": [
    "아이유 밤편지와 유사한 곡 30곡을 뽑아보자.  \n",
    "밤편지의 원본 id는 144663이다"
   ]
  },
  {
   "cell_type": "code",
   "execution_count": 98,
   "id": "633cc0c7-9621-4439-88b2-0fbaa30c56a2",
   "metadata": {},
   "outputs": [],
   "source": [
    "# 밤편지의 원본 id를 song_to_newid로 새로 부여된 인덱스로 바꿈\n",
    "# song_sim[바뀐인덱스] - 밤편지와 다른 곡들간의 유사도를 toarray()로 spaese 형식에서 ndarray로 변환\n",
    "# reshape(-1)로 행렬을 벡터로 변환.\n",
    "# argsort()[::-1][:30]로 상위 30개의 곡 인덱스 추출.\n",
    "top30 =  song_sim[song_to_newid[144663]].toarray().reshape(-1).argsort()[::-1][:30]"
   ]
  },
  {
   "cell_type": "code",
   "execution_count": 99,
   "id": "88074275-e620-451f-a92e-fd8f475f31aa",
   "metadata": {},
   "outputs": [
    {
     "data": {
      "text/plain": [
       "[144663,\n",
       " 140920,\n",
       " 174749,\n",
       " 305045,\n",
       " 185174,\n",
       " 648635,\n",
       " 532347,\n",
       " 541682,\n",
       " 367963,\n",
       " 346058,\n",
       " 612516,\n",
       " 459165,\n",
       " 224921,\n",
       " 357367,\n",
       " 301392,\n",
       " 423594,\n",
       " 19533,\n",
       " 70185,\n",
       " 468613,\n",
       " 478754,\n",
       " 15341,\n",
       " 8719,\n",
       " 601037,\n",
       " 334539,\n",
       " 627363,\n",
       " 205247,\n",
       " 123541,\n",
       " 501822,\n",
       " 244565,\n",
       " 246531]"
      ]
     },
     "execution_count": 99,
     "metadata": {},
     "output_type": "execute_result"
    }
   ],
   "source": [
    "# 추출된 곡 인덱스를 원본 인덱스로 바꾼다.\n",
    "top30_song = [newid_to_song[x] for x in top30]\n",
    "top30_song"
   ]
  },
  {
   "cell_type": "code",
   "execution_count": 100,
   "id": "722f5f92-8797-4c9e-898c-efa3c5be8bad",
   "metadata": {},
   "outputs": [
    {
     "data": {
      "text/html": [
       "<div>\n",
       "<style scoped>\n",
       "    .dataframe tbody tr th:only-of-type {\n",
       "        vertical-align: middle;\n",
       "    }\n",
       "\n",
       "    .dataframe tbody tr th {\n",
       "        vertical-align: top;\n",
       "    }\n",
       "\n",
       "    .dataframe thead th {\n",
       "        text-align: right;\n",
       "    }\n",
       "</style>\n",
       "<table border=\"1\" class=\"dataframe\">\n",
       "  <thead>\n",
       "    <tr style=\"text-align: right;\">\n",
       "      <th></th>\n",
       "      <th>song_name</th>\n",
       "      <th>artist_name_basket</th>\n",
       "    </tr>\n",
       "  </thead>\n",
       "  <tbody>\n",
       "    <tr>\n",
       "      <th>144663</th>\n",
       "      <td>밤편지</td>\n",
       "      <td>[아이유]</td>\n",
       "    </tr>\n",
       "    <tr>\n",
       "      <th>140920</th>\n",
       "      <td>팔레트 (Feat. G-DRAGON)</td>\n",
       "      <td>[아이유]</td>\n",
       "    </tr>\n",
       "    <tr>\n",
       "      <th>174749</th>\n",
       "      <td>비도 오고 그래서 (Feat. 신용재)</td>\n",
       "      <td>[헤이즈 (Heize)]</td>\n",
       "    </tr>\n",
       "    <tr>\n",
       "      <th>305045</th>\n",
       "      <td>가을 아침</td>\n",
       "      <td>[아이유]</td>\n",
       "    </tr>\n",
       "    <tr>\n",
       "      <th>185174</th>\n",
       "      <td>사랑이 잘 (With 오혁)</td>\n",
       "      <td>[아이유]</td>\n",
       "    </tr>\n",
       "    <tr>\n",
       "      <th>648635</th>\n",
       "      <td>이름에게</td>\n",
       "      <td>[아이유]</td>\n",
       "    </tr>\n",
       "    <tr>\n",
       "      <th>532347</th>\n",
       "      <td>이런 엔딩</td>\n",
       "      <td>[아이유]</td>\n",
       "    </tr>\n",
       "    <tr>\n",
       "      <th>541682</th>\n",
       "      <td>솔직하게 말해서 나</td>\n",
       "      <td>[김나영]</td>\n",
       "    </tr>\n",
       "    <tr>\n",
       "      <th>367963</th>\n",
       "      <td>좋니</td>\n",
       "      <td>[윤종신]</td>\n",
       "    </tr>\n",
       "    <tr>\n",
       "      <th>346058</th>\n",
       "      <td>가을 타나 봐</td>\n",
       "      <td>[바이브]</td>\n",
       "    </tr>\n",
       "    <tr>\n",
       "      <th>612516</th>\n",
       "      <td>가을 안부</td>\n",
       "      <td>[먼데이 키즈 (Monday Kiz)]</td>\n",
       "    </tr>\n",
       "    <tr>\n",
       "      <th>459165</th>\n",
       "      <td>그리워하다</td>\n",
       "      <td>[비투비]</td>\n",
       "    </tr>\n",
       "    <tr>\n",
       "      <th>224921</th>\n",
       "      <td>첫눈처럼 너에게 가겠다</td>\n",
       "      <td>[에일리]</td>\n",
       "    </tr>\n",
       "    <tr>\n",
       "      <th>357367</th>\n",
       "      <td>비</td>\n",
       "      <td>[폴킴]</td>\n",
       "    </tr>\n",
       "    <tr>\n",
       "      <th>301392</th>\n",
       "      <td>커피한잔할래요</td>\n",
       "      <td>[폴킴]</td>\n",
       "    </tr>\n",
       "    <tr>\n",
       "      <th>423594</th>\n",
       "      <td>여전히 아늑해 (Prod.by 성시경) (Still)</td>\n",
       "      <td>[규현 (KYUHYUN)]</td>\n",
       "    </tr>\n",
       "    <tr>\n",
       "      <th>19533</th>\n",
       "      <td>all of my life</td>\n",
       "      <td>[박원]</td>\n",
       "    </tr>\n",
       "    <tr>\n",
       "      <th>70185</th>\n",
       "      <td>잠 못 드는 밤 비는 내리고</td>\n",
       "      <td>[아이유]</td>\n",
       "    </tr>\n",
       "    <tr>\n",
       "      <th>468613</th>\n",
       "      <td>내 안부</td>\n",
       "      <td>[이우]</td>\n",
       "    </tr>\n",
       "    <tr>\n",
       "      <th>478754</th>\n",
       "      <td>선물</td>\n",
       "      <td>[멜로망스]</td>\n",
       "    </tr>\n",
       "    <tr>\n",
       "      <th>15341</th>\n",
       "      <td>혼자</td>\n",
       "      <td>[어반자카파]</td>\n",
       "    </tr>\n",
       "    <tr>\n",
       "      <th>8719</th>\n",
       "      <td>무릎</td>\n",
       "      <td>[아이유]</td>\n",
       "    </tr>\n",
       "    <tr>\n",
       "      <th>601037</th>\n",
       "      <td>여기까지</td>\n",
       "      <td>[권진아, 샘김 (Sam Kim)]</td>\n",
       "    </tr>\n",
       "    <tr>\n",
       "      <th>334539</th>\n",
       "      <td>별 보러 가자</td>\n",
       "      <td>[적재]</td>\n",
       "    </tr>\n",
       "    <tr>\n",
       "      <th>627363</th>\n",
       "      <td>널 사랑하지 않아</td>\n",
       "      <td>[어반자카파]</td>\n",
       "    </tr>\n",
       "    <tr>\n",
       "      <th>205247</th>\n",
       "      <td>밤이 되니까</td>\n",
       "      <td>[펀치 (Punch)]</td>\n",
       "    </tr>\n",
       "    <tr>\n",
       "      <th>123541</th>\n",
       "      <td>후회할 것 같아서 (Prod. By VAN.C)</td>\n",
       "      <td>[피아노맨]</td>\n",
       "    </tr>\n",
       "    <tr>\n",
       "      <th>501822</th>\n",
       "      <td>이 지금</td>\n",
       "      <td>[아이유]</td>\n",
       "    </tr>\n",
       "    <tr>\n",
       "      <th>244565</th>\n",
       "      <td>매일 듣는 노래 (A Daily Song)</td>\n",
       "      <td>[황치열]</td>\n",
       "    </tr>\n",
       "    <tr>\n",
       "      <th>246531</th>\n",
       "      <td>모든 날, 모든 순간 (Every day, Every Moment)</td>\n",
       "      <td>[폴킴]</td>\n",
       "    </tr>\n",
       "  </tbody>\n",
       "</table>\n",
       "</div>"
      ],
      "text/plain": [
       "                                    song_name     artist_name_basket\n",
       "144663                                    밤편지                  [아이유]\n",
       "140920                   팔레트 (Feat. G-DRAGON)                  [아이유]\n",
       "174749                  비도 오고 그래서 (Feat. 신용재)          [헤이즈 (Heize)]\n",
       "305045                                  가을 아침                  [아이유]\n",
       "185174                        사랑이 잘 (With 오혁)                  [아이유]\n",
       "648635                                   이름에게                  [아이유]\n",
       "532347                                  이런 엔딩                  [아이유]\n",
       "541682                             솔직하게 말해서 나                  [김나영]\n",
       "367963                                     좋니                  [윤종신]\n",
       "346058                                가을 타나 봐                  [바이브]\n",
       "612516                                  가을 안부  [먼데이 키즈 (Monday Kiz)]\n",
       "459165                                  그리워하다                  [비투비]\n",
       "224921                           첫눈처럼 너에게 가겠다                  [에일리]\n",
       "357367                                      비                   [폴킴]\n",
       "301392                                커피한잔할래요                   [폴킴]\n",
       "423594          여전히 아늑해 (Prod.by 성시경) (Still)         [규현 (KYUHYUN)]\n",
       "19533                          all of my life                   [박원]\n",
       "70185                         잠 못 드는 밤 비는 내리고                  [아이유]\n",
       "468613                                   내 안부                   [이우]\n",
       "478754                                     선물                 [멜로망스]\n",
       "15341                                      혼자                [어반자카파]\n",
       "8719                                       무릎                  [아이유]\n",
       "601037                                   여기까지    [권진아, 샘김 (Sam Kim)]\n",
       "334539                                별 보러 가자                   [적재]\n",
       "627363                              널 사랑하지 않아                [어반자카파]\n",
       "205247                                 밤이 되니까           [펀치 (Punch)]\n",
       "123541             후회할 것 같아서 (Prod. By VAN.C)                 [피아노맨]\n",
       "501822                                   이 지금                  [아이유]\n",
       "244565                매일 듣는 노래 (A Daily Song)                  [황치열]\n",
       "246531  모든 날, 모든 순간 (Every day, Every Moment)                   [폴킴]"
      ]
     },
     "execution_count": 100,
     "metadata": {},
     "output_type": "execute_result"
    }
   ],
   "source": [
    "song_meta.iloc[top30_song][['song_name','artist_name_basket']]"
   ]
  },
  {
   "cell_type": "markdown",
   "id": "336027dc-095d-4062-80fd-938c0dd52594",
   "metadata": {},
   "source": [
    "## ALS 추천 방식"
   ]
  },
  {
   "cell_type": "markdown",
   "id": "49a694de-bf10-4289-ac8a-520a9871f6ee",
   "metadata": {},
   "source": [
    "implicit 라이브러리 사용  \n",
    "https://implicit.readthedocs.io/en/latest/als.html"
   ]
  },
  {
   "cell_type": "code",
   "execution_count": 72,
   "id": "751efa05-cfbd-4d0c-94f7-025346a9c3eb",
   "metadata": {},
   "outputs": [],
   "source": [
    "from implicit.als import AlternatingLeastSquares as ALS"
   ]
  },
  {
   "cell_type": "code",
   "execution_count": 81,
   "id": "7cdef35d-7262-4543-8e92-1edf923cdb03",
   "metadata": {},
   "outputs": [
    {
     "data": {
      "application/vnd.jupyter.widget-view+json": {
       "model_id": "1b437f2091d040b9b62db79c06d9a28f",
       "version_major": 2,
       "version_minor": 0
      },
      "text/plain": [
       "  0%|          | 0/15 [00:00<?, ?it/s]"
      ]
     },
     "metadata": {},
     "output_type": "display_data"
    }
   ],
   "source": [
    "als_model = ALS(factors=30, regularization=0.08)\n",
    "als_model.fit(ply_song_table.T * 15.0)"
   ]
  },
  {
   "cell_type": "code",
   "execution_count": 82,
   "id": "cd3475a9-bac8-4bfb-99b0-63217f2a83db",
   "metadata": {},
   "outputs": [
    {
     "data": {
      "text/plain": [
       "(115071, 30)"
      ]
     },
     "execution_count": 82,
     "metadata": {},
     "output_type": "execute_result"
    }
   ],
   "source": [
    "model = ALS(use_gpu=False)\n",
    "model.user_factors = als_model.user_factors\n",
    "model.user_factors.shape"
   ]
  },
  {
   "cell_type": "code",
   "execution_count": 83,
   "id": "a5fb8f7f-4194-4e82-a7eb-7bfe0ac11e3b",
   "metadata": {},
   "outputs": [
    {
     "data": {
      "text/plain": [
       "(615142, 30)"
      ]
     },
     "execution_count": 83,
     "metadata": {},
     "output_type": "execute_result"
    }
   ],
   "source": [
    "model.item_factors = als_model.item_factors\n",
    "model.item_factors.shape"
   ]
  },
  {
   "cell_type": "code",
   "execution_count": 84,
   "id": "74312018-e296-483b-9df1-f6ac8c932d89",
   "metadata": {},
   "outputs": [],
   "source": [
    "topsong = model.similar_items(song_to_newid[144663],N=30)"
   ]
  },
  {
   "cell_type": "code",
   "execution_count": 85,
   "id": "bed2244b-e8c1-4965-a7ca-9b30db3ef259",
   "metadata": {},
   "outputs": [],
   "source": [
    "topsong_30 = [newid_to_song[idx] for idx, _ in topsong]"
   ]
  },
  {
   "cell_type": "code",
   "execution_count": 86,
   "id": "377bae19-a4eb-4a9b-9463-a79e28f05286",
   "metadata": {},
   "outputs": [
    {
     "data": {
      "text/html": [
       "<div>\n",
       "<style scoped>\n",
       "    .dataframe tbody tr th:only-of-type {\n",
       "        vertical-align: middle;\n",
       "    }\n",
       "\n",
       "    .dataframe tbody tr th {\n",
       "        vertical-align: top;\n",
       "    }\n",
       "\n",
       "    .dataframe thead th {\n",
       "        text-align: right;\n",
       "    }\n",
       "</style>\n",
       "<table border=\"1\" class=\"dataframe\">\n",
       "  <thead>\n",
       "    <tr style=\"text-align: right;\">\n",
       "      <th></th>\n",
       "      <th>song_name</th>\n",
       "      <th>artist_name_basket</th>\n",
       "    </tr>\n",
       "  </thead>\n",
       "  <tbody>\n",
       "    <tr>\n",
       "      <th>144663</th>\n",
       "      <td>밤편지</td>\n",
       "      <td>[아이유]</td>\n",
       "    </tr>\n",
       "    <tr>\n",
       "      <th>305045</th>\n",
       "      <td>가을 아침</td>\n",
       "      <td>[아이유]</td>\n",
       "    </tr>\n",
       "    <tr>\n",
       "      <th>357367</th>\n",
       "      <td>비</td>\n",
       "      <td>[폴킴]</td>\n",
       "    </tr>\n",
       "    <tr>\n",
       "      <th>174749</th>\n",
       "      <td>비도 오고 그래서 (Feat. 신용재)</td>\n",
       "      <td>[헤이즈 (Heize)]</td>\n",
       "    </tr>\n",
       "    <tr>\n",
       "      <th>351342</th>\n",
       "      <td>끝</td>\n",
       "      <td>[권진아]</td>\n",
       "    </tr>\n",
       "    <tr>\n",
       "      <th>532347</th>\n",
       "      <td>이런 엔딩</td>\n",
       "      <td>[아이유]</td>\n",
       "    </tr>\n",
       "    <tr>\n",
       "      <th>185174</th>\n",
       "      <td>사랑이 잘 (With 오혁)</td>\n",
       "      <td>[아이유]</td>\n",
       "    </tr>\n",
       "    <tr>\n",
       "      <th>611737</th>\n",
       "      <td>11:11</td>\n",
       "      <td>[태연 (TAEYEON)]</td>\n",
       "    </tr>\n",
       "    <tr>\n",
       "      <th>471691</th>\n",
       "      <td>오랜 날 오랜 밤</td>\n",
       "      <td>[AKMU (악동뮤지션)]</td>\n",
       "    </tr>\n",
       "    <tr>\n",
       "      <th>70185</th>\n",
       "      <td>잠 못 드는 밤 비는 내리고</td>\n",
       "      <td>[아이유]</td>\n",
       "    </tr>\n",
       "    <tr>\n",
       "      <th>627363</th>\n",
       "      <td>널 사랑하지 않아</td>\n",
       "      <td>[어반자카파]</td>\n",
       "    </tr>\n",
       "    <tr>\n",
       "      <th>19533</th>\n",
       "      <td>all of my life</td>\n",
       "      <td>[박원]</td>\n",
       "    </tr>\n",
       "    <tr>\n",
       "      <th>648635</th>\n",
       "      <td>이름에게</td>\n",
       "      <td>[아이유]</td>\n",
       "    </tr>\n",
       "    <tr>\n",
       "      <th>461341</th>\n",
       "      <td>어떻게 지내</td>\n",
       "      <td>[Crush]</td>\n",
       "    </tr>\n",
       "    <tr>\n",
       "      <th>459165</th>\n",
       "      <td>그리워하다</td>\n",
       "      <td>[비투비]</td>\n",
       "    </tr>\n",
       "    <tr>\n",
       "      <th>492711</th>\n",
       "      <td>사랑이 남아 (Vocal by 수찬)</td>\n",
       "      <td>[platz (플랏츠)]</td>\n",
       "    </tr>\n",
       "    <tr>\n",
       "      <th>447468</th>\n",
       "      <td>Blue</td>\n",
       "      <td>[볼빨간사춘기]</td>\n",
       "    </tr>\n",
       "    <tr>\n",
       "      <th>572801</th>\n",
       "      <td>그때 헤어지면 돼</td>\n",
       "      <td>[로이킴]</td>\n",
       "    </tr>\n",
       "    <tr>\n",
       "      <th>175389</th>\n",
       "      <td>It was you</td>\n",
       "      <td>[윤한]</td>\n",
       "    </tr>\n",
       "    <tr>\n",
       "      <th>133204</th>\n",
       "      <td>길 잃은 옆자리</td>\n",
       "      <td>[변민석]</td>\n",
       "    </tr>\n",
       "    <tr>\n",
       "      <th>84618</th>\n",
       "      <td>괜찮아 (It`s Alright) (Feat. 정병학)</td>\n",
       "      <td>[Mu.K]</td>\n",
       "    </tr>\n",
       "    <tr>\n",
       "      <th>15341</th>\n",
       "      <td>혼자</td>\n",
       "      <td>[어반자카파]</td>\n",
       "    </tr>\n",
       "    <tr>\n",
       "      <th>516653</th>\n",
       "      <td>노력</td>\n",
       "      <td>[박원]</td>\n",
       "    </tr>\n",
       "    <tr>\n",
       "      <th>367963</th>\n",
       "      <td>좋니</td>\n",
       "      <td>[윤종신]</td>\n",
       "    </tr>\n",
       "    <tr>\n",
       "      <th>649477</th>\n",
       "      <td>좋아</td>\n",
       "      <td>[윤종신, 민서]</td>\n",
       "    </tr>\n",
       "    <tr>\n",
       "      <th>140920</th>\n",
       "      <td>팔레트 (Feat. G-DRAGON)</td>\n",
       "      <td>[아이유]</td>\n",
       "    </tr>\n",
       "    <tr>\n",
       "      <th>398692</th>\n",
       "      <td>잘자 내 몫까지 (With 이루마)</td>\n",
       "      <td>[수지 (SUZY)]</td>\n",
       "    </tr>\n",
       "    <tr>\n",
       "      <th>575259</th>\n",
       "      <td>Night</td>\n",
       "      <td>[코드코즈 (Chord Coze)]</td>\n",
       "    </tr>\n",
       "    <tr>\n",
       "      <th>170279</th>\n",
       "      <td>오늘 취하면 (Feat. 창모) (Prod. SUGA)</td>\n",
       "      <td>[SURAN (수란)]</td>\n",
       "    </tr>\n",
       "    <tr>\n",
       "      <th>60216</th>\n",
       "      <td>Creep</td>\n",
       "      <td>[I`ll (아일), 홍진호, 김형우, 하현상]</td>\n",
       "    </tr>\n",
       "  </tbody>\n",
       "</table>\n",
       "</div>"
      ],
      "text/plain": [
       "                             song_name          artist_name_basket\n",
       "144663                             밤편지                       [아이유]\n",
       "305045                           가을 아침                       [아이유]\n",
       "357367                               비                        [폴킴]\n",
       "174749           비도 오고 그래서 (Feat. 신용재)               [헤이즈 (Heize)]\n",
       "351342                               끝                       [권진아]\n",
       "532347                           이런 엔딩                       [아이유]\n",
       "185174                 사랑이 잘 (With 오혁)                       [아이유]\n",
       "611737                           11:11              [태연 (TAEYEON)]\n",
       "471691                       오랜 날 오랜 밤              [AKMU (악동뮤지션)]\n",
       "70185                  잠 못 드는 밤 비는 내리고                       [아이유]\n",
       "627363                       널 사랑하지 않아                     [어반자카파]\n",
       "19533                   all of my life                        [박원]\n",
       "648635                            이름에게                       [아이유]\n",
       "461341                          어떻게 지내                     [Crush]\n",
       "459165                           그리워하다                       [비투비]\n",
       "492711            사랑이 남아 (Vocal by 수찬)               [platz (플랏츠)]\n",
       "447468                            Blue                    [볼빨간사춘기]\n",
       "572801                       그때 헤어지면 돼                       [로이킴]\n",
       "175389                      It was you                        [윤한]\n",
       "133204                        길 잃은 옆자리                       [변민석]\n",
       "84618   괜찮아 (It`s Alright) (Feat. 정병학)                      [Mu.K]\n",
       "15341                               혼자                     [어반자카파]\n",
       "516653                              노력                        [박원]\n",
       "367963                              좋니                       [윤종신]\n",
       "649477                              좋아                   [윤종신, 민서]\n",
       "140920            팔레트 (Feat. G-DRAGON)                       [아이유]\n",
       "398692             잘자 내 몫까지 (With 이루마)                 [수지 (SUZY)]\n",
       "575259                           Night         [코드코즈 (Chord Coze)]\n",
       "170279  오늘 취하면 (Feat. 창모) (Prod. SUGA)                [SURAN (수란)]\n",
       "60216                            Creep  [I`ll (아일), 홍진호, 김형우, 하현상]"
      ]
     },
     "execution_count": 86,
     "metadata": {},
     "output_type": "execute_result"
    }
   ],
   "source": [
    "song_meta.iloc[topsong_30][['song_name','artist_name_basket']]"
   ]
  },
  {
   "cell_type": "code",
   "execution_count": null,
   "id": "bcca3e0f-a7d2-4758-ad90-79b9fe1f7362",
   "metadata": {},
   "outputs": [],
   "source": []
  }
 ],
 "metadata": {
  "kernelspec": {
   "display_name": "Python 3",
   "language": "python",
   "name": "python3"
  },
  "language_info": {
   "codemirror_mode": {
    "name": "ipython",
    "version": 3
   },
   "file_extension": ".py",
   "mimetype": "text/x-python",
   "name": "python",
   "nbconvert_exporter": "python",
   "pygments_lexer": "ipython3",
   "version": "3.8.8"
  }
 },
 "nbformat": 4,
 "nbformat_minor": 5
}
