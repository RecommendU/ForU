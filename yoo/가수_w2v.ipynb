{
 "cells": [
  {
   "cell_type": "code",
   "execution_count": 15,
   "id": "eeadc975-1eae-45be-9f30-85292abbc254",
   "metadata": {},
   "outputs": [],
   "source": [
    "import numpy as np\n",
    "import pandas as pd\n",
    "from scipy.sparse import *\n",
    "from tqdm import tqdm\n",
    "from collections import Counter\n",
    "from itertools import chain, combinations\n",
    "import time\n",
    "from gensim.models import Word2Vec\n",
    "tqdm.pandas()"
   ]
  },
  {
   "cell_type": "code",
   "execution_count": 2,
   "id": "38cd4deb-5032-45d9-8edd-fd4e2eec49d7",
   "metadata": {},
   "outputs": [],
   "source": [
    "#플레이 리스트\n",
    "train = pd.read_json('data/train.json')\n",
    "\n",
    "#곡 정보\n",
    "song_meta = pd.read_json('data/song_meta.json')"
   ]
  },
  {
   "cell_type": "code",
   "execution_count": 3,
   "id": "fbeae6b8-389b-48d2-a478-8bfad807235d",
   "metadata": {},
   "outputs": [
    {
     "data": {
      "text/html": [
       "<div>\n",
       "<style scoped>\n",
       "    .dataframe tbody tr th:only-of-type {\n",
       "        vertical-align: middle;\n",
       "    }\n",
       "\n",
       "    .dataframe tbody tr th {\n",
       "        vertical-align: top;\n",
       "    }\n",
       "\n",
       "    .dataframe thead th {\n",
       "        text-align: right;\n",
       "    }\n",
       "</style>\n",
       "<table border=\"1\" class=\"dataframe\">\n",
       "  <thead>\n",
       "    <tr style=\"text-align: right;\">\n",
       "      <th></th>\n",
       "      <th>tags</th>\n",
       "      <th>id</th>\n",
       "      <th>plylst_title</th>\n",
       "      <th>songs</th>\n",
       "      <th>like_cnt</th>\n",
       "      <th>updt_date</th>\n",
       "    </tr>\n",
       "  </thead>\n",
       "  <tbody>\n",
       "    <tr>\n",
       "      <th>0</th>\n",
       "      <td>[락]</td>\n",
       "      <td>61281</td>\n",
       "      <td>여행같은 음악</td>\n",
       "      <td>[525514, 129701, 383374, 562083, 297861, 13954...</td>\n",
       "      <td>71</td>\n",
       "      <td>2013-12-19 18:36:19.000</td>\n",
       "    </tr>\n",
       "  </tbody>\n",
       "</table>\n",
       "</div>"
      ],
      "text/plain": [
       "  tags     id plylst_title                                              songs  \\\n",
       "0  [락]  61281      여행같은 음악  [525514, 129701, 383374, 562083, 297861, 13954...   \n",
       "\n",
       "   like_cnt                updt_date  \n",
       "0        71  2013-12-19 18:36:19.000  "
      ]
     },
     "metadata": {},
     "output_type": "display_data"
    },
    {
     "data": {
      "text/html": [
       "<div>\n",
       "<style scoped>\n",
       "    .dataframe tbody tr th:only-of-type {\n",
       "        vertical-align: middle;\n",
       "    }\n",
       "\n",
       "    .dataframe tbody tr th {\n",
       "        vertical-align: top;\n",
       "    }\n",
       "\n",
       "    .dataframe thead th {\n",
       "        text-align: right;\n",
       "    }\n",
       "</style>\n",
       "<table border=\"1\" class=\"dataframe\">\n",
       "  <thead>\n",
       "    <tr style=\"text-align: right;\">\n",
       "      <th></th>\n",
       "      <th>song_gn_dtl_gnr_basket</th>\n",
       "      <th>issue_date</th>\n",
       "      <th>album_name</th>\n",
       "      <th>album_id</th>\n",
       "      <th>artist_id_basket</th>\n",
       "      <th>song_name</th>\n",
       "      <th>song_gn_gnr_basket</th>\n",
       "      <th>artist_name_basket</th>\n",
       "      <th>id</th>\n",
       "    </tr>\n",
       "  </thead>\n",
       "  <tbody>\n",
       "    <tr>\n",
       "      <th>0</th>\n",
       "      <td>[GN0901]</td>\n",
       "      <td>20140512</td>\n",
       "      <td>불후의 명곡 - 7080 추억의 얄개시대 팝송베스트</td>\n",
       "      <td>2255639</td>\n",
       "      <td>[2727]</td>\n",
       "      <td>Feelings</td>\n",
       "      <td>[GN0900]</td>\n",
       "      <td>[Various Artists]</td>\n",
       "      <td>0</td>\n",
       "    </tr>\n",
       "  </tbody>\n",
       "</table>\n",
       "</div>"
      ],
      "text/plain": [
       "  song_gn_dtl_gnr_basket  issue_date                    album_name  album_id  \\\n",
       "0               [GN0901]    20140512  불후의 명곡 - 7080 추억의 얄개시대 팝송베스트   2255639   \n",
       "\n",
       "  artist_id_basket song_name song_gn_gnr_basket artist_name_basket  id  \n",
       "0           [2727]  Feelings           [GN0900]  [Various Artists]   0  "
      ]
     },
     "metadata": {},
     "output_type": "display_data"
    }
   ],
   "source": [
    "display(train.head(1))\n",
    "display(song_meta.head(1))"
   ]
  },
  {
   "cell_type": "code",
   "execution_count": 4,
   "id": "1f610861-73f2-4041-9b3e-c0bb74110669",
   "metadata": {},
   "outputs": [],
   "source": [
    "# 노래 id가 key, 값은 그 노래를 부른 가수 리스트\n",
    "songid_to_artists = dict(zip(song_meta['id'],song_meta['artist_name_basket']))"
   ]
  },
  {
   "cell_type": "code",
   "execution_count": 5,
   "id": "40d93a9d-d957-473d-9e39-39ae1dea145a",
   "metadata": {},
   "outputs": [],
   "source": [
    "# 각 플레이리스트에 포함된 노래를 부른 가수들을 가져오기 위한 함수\n",
    "def get_artist(playlist):\n",
    "    artists = set()\n",
    "    for song in playlist:\n",
    "        artists.update(songid_to_artists[song])\n",
    "    return list(artists)"
   ]
  },
  {
   "cell_type": "code",
   "execution_count": 8,
   "id": "30a5dcd3-746d-456e-bec8-1417121adff3",
   "metadata": {},
   "outputs": [
    {
     "name": "stderr",
     "output_type": "stream",
     "text": [
      "100%|███████████████████████████████████████████████████████████████████████| 115071/115071 [00:04<00:00, 24555.20it/s]\n"
     ]
    }
   ],
   "source": [
    "train['artists'] = train['songs'].progress_apply(get_artist)"
   ]
  },
  {
   "cell_type": "code",
   "execution_count": 85,
   "id": "f652b6c7-bc55-41eb-8738-746fa73d4150",
   "metadata": {},
   "outputs": [
    {
     "data": {
      "text/plain": [
       "[('artists',\n",
       "  ['Phoenix',\n",
       "   'Never Shout Never',\n",
       "   'Honeymoon Suite',\n",
       "   'Royal Bangs',\n",
       "   'Bruno Mars',\n",
       "   'Cody Simpson',\n",
       "   'OneRepublic',\n",
       "   'The Sol',\n",
       "   'Lily Of The Valley',\n",
       "   'Red Hot Chili Peppers',\n",
       "   'Corinne Bailey Rae',\n",
       "   'Tomi Swick',\n",
       "   'Boyzone',\n",
       "   'All About She',\n",
       "   'Man Man',\n",
       "   'Christophe Mae',\n",
       "   'James Blunt'])]"
      ]
     },
     "execution_count": 85,
     "metadata": {},
     "output_type": "execute_result"
    }
   ],
   "source": [
    "list(train[['artists']].iloc[0].iteritems())"
   ]
  },
  {
   "cell_type": "code",
   "execution_count": 12,
   "id": "8012cd69-09c1-4679-ab62-c197e5710568",
   "metadata": {},
   "outputs": [
    {
     "data": {
      "text/plain": [
       "250"
      ]
     },
     "execution_count": 12,
     "metadata": {},
     "output_type": "execute_result"
    }
   ],
   "source": [
    "#플레이리스트 내 가수 수의 최대값\n",
    "train['artists'].apply(lambda x : len(x)).max()"
   ]
  },
  {
   "cell_type": "code",
   "execution_count": 53,
   "id": "dafb858f-f86d-4603-a775-79608e387f8d",
   "metadata": {},
   "outputs": [],
   "source": [
    "#10분 정도 걸림\n",
    "# w2v_model = Word2Vec(train['artists'].tolist(), min_count = 1, size = 100 , window = 200, sg = 1)\n",
    "# w2v_model.save('artist_w2v.model')"
   ]
  },
  {
   "cell_type": "code",
   "execution_count": 80,
   "id": "8ff3a358-e578-434b-bd25-0892c73ab062",
   "metadata": {},
   "outputs": [
    {
     "data": {
      "text/plain": [
       "[('WINNER', 0.9203924536705017),\n",
       " ('San E', 0.885474443435669),\n",
       " ('스피카', 0.8853033781051636),\n",
       " ('KissBlue (키스블루)', 0.8834551572799683),\n",
       " ('걸크러쉬 (GIRL CRUSH)', 0.8833224177360535),\n",
       " ('레이나 (Raina)', 0.8829860687255859),\n",
       " ('배희관 밴드', 0.882705807685852),\n",
       " ('정은지', 0.8822885751724243),\n",
       " ('Leah Dizon', 0.8819307088851929),\n",
       " ('수지 (SUZY)', 0.8817796111106873)]"
      ]
     },
     "execution_count": 80,
     "metadata": {},
     "output_type": "execute_result"
    }
   ],
   "source": [
    "w2v_model.wv.most_similar('마마무 (Mamamoo)')"
   ]
  },
  {
   "cell_type": "code",
   "execution_count": 74,
   "id": "c3d354b1-37c4-4cdf-8d46-9d50075a1eb9",
   "metadata": {},
   "outputs": [],
   "source": [
    "#가수 벡터들을 df로 변환\n",
    "artist_w2v_dict = {w: w2v_model.wv[w] for w in w2v_model.wv.vocab}\n",
    "artist_w2v_df = pd.DataFrame(artist_w2v_dict).T"
   ]
  },
  {
   "cell_type": "code",
   "execution_count": 77,
   "id": "f8c821ad-073a-4278-a2dc-4be81765a9ff",
   "metadata": {},
   "outputs": [],
   "source": [
    "# 저장\n",
    "artist_w2v_df.to_csv('data/artist_w2v_df.csv')"
   ]
  }
 ],
 "metadata": {
  "kernelspec": {
   "display_name": "Python 3",
   "language": "python",
   "name": "python3"
  },
  "language_info": {
   "codemirror_mode": {
    "name": "ipython",
    "version": 3
   },
   "file_extension": ".py",
   "mimetype": "text/x-python",
   "name": "python",
   "nbconvert_exporter": "python",
   "pygments_lexer": "ipython3",
   "version": "3.8.8"
  }
 },
 "nbformat": 4,
 "nbformat_minor": 5
}
