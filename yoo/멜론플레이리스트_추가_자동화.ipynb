{
 "cells": [
  {
   "cell_type": "code",
   "execution_count": 123,
   "id": "95bf38ea-31ed-4eba-bbf2-7748246ad9c5",
   "metadata": {},
   "outputs": [],
   "source": [
    "import selenium.webdriver as webdriver\n",
    "from selenium.webdriver.common.keys import Keys\n",
    "import datetime\n",
    "from tqdm import tqdm"
   ]
  },
  {
   "cell_type": "code",
   "execution_count": 105,
   "id": "4d4b5fb2-8d0e-4b5d-b7d5-8faf892f88c5",
   "metadata": {},
   "outputs": [],
   "source": [
    "#selenium 속도 향상 설정.\n",
    "\n",
    "options = webdriver.ChromeOptions() # 크롬 옵션 객체 생성\n",
    "options.add_argument('headless') # headless 모드 설정\n",
    "options.add_argument(\"disable-gpu\") \n",
    "options.add_argument(\"disable-infobars\")\n",
    "options.add_argument(\"--disable-extensions\")\n",
    "\n",
    "# 속도 향상을 위한 옵션 해제\n",
    "prefs = {'profile.default_content_setting_values': {'cookies' : 2, 'images': 2, 'plugins' : 2, 'popups': 2, 'geolocation': 2, 'notifications' : 2, 'auto_select_certificate': 2, 'fullscreen' : 2, 'mouselock' : 2, 'mixed_script': 2, 'media_stream' : 2, 'media_stream_mic' : 2, 'media_stream_camera': 2, 'protocol_handlers' : 2, 'ppapi_broker' : 2, 'automatic_downloads': 2, 'midi_sysex' : 2, 'push_messaging' : 2, 'ssl_cert_decisions': 2, 'metro_switch_to_desktop' : 2, 'protected_media_identifier': 2, 'app_banner': 2, 'site_engagement' : 2, 'durable_storage' : 2}}   \n",
    "options.add_experimental_option('prefs', prefs)"
   ]
  },
  {
   "cell_type": "code",
   "execution_count": 132,
   "id": "084360c2-4c3f-4918-aade-e0469001f697",
   "metadata": {},
   "outputs": [
    {
     "data": {
      "text/plain": [
       "30"
      ]
     },
     "execution_count": 132,
     "metadata": {},
     "output_type": "execute_result"
    }
   ],
   "source": [
    "#test songs\n",
    "test_songs = ['밤편지 아이유','넌 감동이었어 성시경','벚꽃엔딩 버스커버스커','gee 소녀시대',\n",
    "             '첫사랑니 f(x)','asap 스테이씨','번지 오마이걸','봄이 좋냐 10cm', 'love love love 에픽하이',\n",
    "             '발레리노 리쌍','canvas 리쌍','im yours jason mraz', 'too much food jason mraz',\n",
    "             'plane jason mraz','이름에게 아이유','나이 윤종신','시력 박재정','너랑나 아이유',\n",
    "             '향수 버스커버스커','소원을말해봐 소녀시대','한남자 김종국','철부지 존박','소나기 윤하',\n",
    "             '오늘 헤어졌어요 윤하','크림소스파스타 윤하','기다려줘 윤하','supersonic 윤하',\n",
    "             '우리가 헤어진 진짜 이유 윤하','보고싶다 김범수','환생 윤종신']\n",
    "\n",
    "len(test_songs)"
   ]
  },
  {
   "cell_type": "code",
   "execution_count": 106,
   "id": "be1d6eb3-0251-4148-ab98-da67c0aaaa57",
   "metadata": {},
   "outputs": [],
   "source": [
    "driver = webdriver.Chrome(\"C://chromedriver/chromedriver.exe\", options=options)\n",
    "login_url = 'https://member.melon.com/muid/web/login/login_informM.htm'"
   ]
  },
  {
   "cell_type": "code",
   "execution_count": 107,
   "id": "9ba77092-1c7e-4f05-9509-e5c8b682d150",
   "metadata": {},
   "outputs": [],
   "source": [
    "# melon_id = aaa\n",
    "# password = bbb"
   ]
  },
  {
   "cell_type": "code",
   "execution_count": 108,
   "id": "1986528f-501a-4d80-b02d-23aba0eced29",
   "metadata": {},
   "outputs": [],
   "source": [
    "# 로그인 하기\n",
    "driver.get(login_url)\n",
    "driver.implicitly_wait(3)\n",
    "driver.find_element_by_id('id').send_keys(melon_id)\n",
    "driver.find_element_by_id('pwd').send_keys(password)\n",
    "driver.find_element_by_id('btnLogin').click()\n",
    "#---- 로그인\n",
    "driver.implicitly_wait(3)"
   ]
  },
  {
   "cell_type": "code",
   "execution_count": 128,
   "id": "5a188e97-2286-40ad-ab35-3174913c3799",
   "metadata": {},
   "outputs": [],
   "source": [
    "def add_to_playlist(driver, test_songs):\n",
    "    now = datetime.datetime.now()\n",
    "    now = now.strftime('%y%m%d %H:%M:%S')\n",
    "    \n",
    "    for i, keyword in enumerate(tqdm(test_songs)):\n",
    "        #노래검색\n",
    "        driver.switch_to.window(driver.window_handles[0])\n",
    "        search_url =f'https://www.melon.com/search/song/index.htm?q={keyword}&section=&searchGnbYn=Y&kkoSpl=Y&kkoDpType=&mwkLogType=T'\n",
    "        driver.get(search_url)\n",
    "        \n",
    "        \n",
    "        #해당 노래 추가버튼 클릭\n",
    "        try:\n",
    "            driver.find_element_by_xpath('//*[@id=\"frm_defaultList\"]/div/table/tbody/tr[1]/td[3]/div/div/button[2]').click()\n",
    "            driver.switch_to.window(driver.window_handles[-1])\n",
    "        except:\n",
    "            continue\n",
    "        \n",
    "        if i == 0: # 처음 추가하는 곡\n",
    "            driver.find_element_by_xpath('/html/body/div/div[1]/div[2]/button').click()\n",
    "            \n",
    "            driver.switch_to.window(driver.window_handles[-1])\n",
    "            driver.find_element_by_xpath('//*[@id=\"plylstTitle\"]').send_keys('ForU ' + now)\n",
    "            driver.find_element_by_xpath('/html/body/div/div/div[2]/button[1]').click()\n",
    "            \n",
    "            driver.switch_to.window(driver.window_handles[-1])\n",
    "            driver.close()\n",
    "       \n",
    "        else:      # 이후 곡 처리.\n",
    "            try:\n",
    "                add_button = driver.find_element_by_xpath('//*[@id=\"plylstList\"]/div/table/tbody/tr[1]/td[1]/div/span/button')\n",
    "                driver.execute_script(\"arguments[0].click();\", add_button)\n",
    "\n",
    "                driver.switch_to.window(driver.window_handles[-1])\n",
    "                driver.close()\n",
    "            except:\n",
    "                continue\n",
    "    \n",
    "    \n",
    "    return driver"
   ]
  },
  {
   "cell_type": "code",
   "execution_count": 133,
   "id": "a73ae6c7-7a73-441e-9fa3-5fb2b1c76993",
   "metadata": {},
   "outputs": [
    {
     "name": "stderr",
     "output_type": "stream",
     "text": [
      "100%|██████████████████████████████████████████████████████████████████████████████████| 30/30 [00:19<00:00,  1.57it/s]"
     ]
    },
    {
     "name": "stdout",
     "output_type": "stream",
     "text": [
      "Wall time: 19.2 s\n"
     ]
    },
    {
     "name": "stderr",
     "output_type": "stream",
     "text": [
      "\n"
     ]
    }
   ],
   "source": [
    "%%time\n",
    "driver = add_to_playlist(driver,test_songs)\n",
    "dirver.close()"
   ]
  },
  {
   "cell_type": "code",
   "execution_count": 77,
   "id": "e7901dfe-f42d-4690-9491-6899fb0ca92d",
   "metadata": {},
   "outputs": [],
   "source": []
  }
 ],
 "metadata": {
  "kernelspec": {
   "display_name": "Python 3",
   "language": "python",
   "name": "python3"
  },
  "language_info": {
   "codemirror_mode": {
    "name": "ipython",
    "version": 3
   },
   "file_extension": ".py",
   "mimetype": "text/x-python",
   "name": "python",
   "nbconvert_exporter": "python",
   "pygments_lexer": "ipython3",
   "version": "3.8.8"
  }
 },
 "nbformat": 4,
 "nbformat_minor": 5
}
