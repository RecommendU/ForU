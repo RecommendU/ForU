{
 "cells": [
  {
   "cell_type": "code",
   "execution_count": 1,
   "id": "3b7a4fb5-d5f9-453b-b579-d38203c116b4",
   "metadata": {},
   "outputs": [],
   "source": [
    "from sklearn.metrics.pairwise import cosine_similarity\n",
    "import numpy as np\n",
    "import pandas as pd\n",
    "from scipy.sparse import *\n",
    "from scipy.sparse.linalg import svds\n",
    "from tqdm import tqdm\n",
    "from collections import Counter\n",
    "from itertools import chain, combinations\n",
    "from tqdm import tqdm \n",
    "import time"
   ]
  },
  {
   "cell_type": "code",
   "execution_count": 13,
   "id": "e3c7ad4a-a6c3-436c-8029-49cc3745b472",
   "metadata": {},
   "outputs": [],
   "source": [
    "tqdm.pandas()"
   ]
  },
  {
   "cell_type": "code",
   "execution_count": 2,
   "id": "64f022d6-64af-4d8f-9544-e0b966982443",
   "metadata": {},
   "outputs": [],
   "source": [
    "#플레이 리스트\n",
    "train = pd.read_json('data/train.json')\n",
    "#곡 정보\n",
    "song_meta = pd.read_json('data/song_meta.json')"
   ]
  },
  {
   "cell_type": "code",
   "execution_count": 3,
   "id": "e0db4f99-79e9-4d18-863e-3f7ec506a799",
   "metadata": {},
   "outputs": [],
   "source": [
    "# 해당 노래를 부른 가수의 수\n",
    "song_meta['singer_cnt'] = song_meta['artist_name_basket'].apply(lambda x: len(x))"
   ]
  },
  {
   "cell_type": "code",
   "execution_count": 4,
   "id": "c71f8f4b-8cae-4735-9b6b-e239c7b95722",
   "metadata": {},
   "outputs": [],
   "source": [
    "# 모든 장르 리스트\n",
    "all_genre = list(set(np.concatenate(song_meta['song_gn_gnr_basket'])))"
   ]
  },
  {
   "cell_type": "code",
   "execution_count": 5,
   "id": "8db30e59-08b2-4188-8c83-8896b8566664",
   "metadata": {},
   "outputs": [],
   "source": [
    "# 단체곡 가수를 분리하기 위해 flatten\n",
    "artist_flat = pd.DataFrame([[i, x] for i, y in song_meta['artist_name_basket'].iteritems() for x in y], columns=['i','artist'])\n",
    "artist_flat = artist_flat.set_index('i')"
   ]
  },
  {
   "cell_type": "code",
   "execution_count": 6,
   "id": "36286e60-a5a5-432b-9a81-f68171526041",
   "metadata": {},
   "outputs": [],
   "source": [
    "# 단체곡을 한 가수씩 펼친 dataframe\n",
    "song_meta_artist = song_meta.merge(artist_flat, left_index=True, right_index=True).reset_index(drop = True)"
   ]
  },
  {
   "cell_type": "code",
   "execution_count": 9,
   "id": "a6885f2a-c460-4441-ae47-75b9685d46c8",
   "metadata": {},
   "outputs": [],
   "source": [
    "# count vectorizer로 세기위해 장르를 공백으로 구분된 string으로 만든다.\n",
    "song_meta_artist['words'] = song_meta_artist['song_gn_gnr_basket'].apply(lambda x : \" \".join(x))"
   ]
  },
  {
   "cell_type": "code",
   "execution_count": 10,
   "id": "993fef38-c251-49d3-b57c-873d0db453b3",
   "metadata": {},
   "outputs": [],
   "source": [
    "def add_str(x):\n",
    "    t = []\n",
    "    t.append(x)\n",
    "    return \" \".join(x)"
   ]
  },
  {
   "cell_type": "code",
   "execution_count": 14,
   "id": "181eee95-e1ef-4c1f-b5f5-f4dabc6d688a",
   "metadata": {},
   "outputs": [
    {
     "name": "stderr",
     "output_type": "stream",
     "text": [
      "100%|███████████████████████████████████████████████████████████████████████| 111304/111304 [00:03<00:00, 29341.66it/s]\n"
     ]
    }
   ],
   "source": [
    "# 가수별로 그룹바이한 장르리스트를 합쳐 공백으로 구분된 string으로 만든다.\n",
    "art_gnr = song_meta_artist.groupby('artist')['words'].progress_apply(add_str)"
   ]
  },
  {
   "cell_type": "code",
   "execution_count": 16,
   "id": "6563c5c3-fce9-43df-8496-02932904f04c",
   "metadata": {},
   "outputs": [
    {
     "data": {
      "text/plain": [
       "artist\n",
       "                                       GN1200 GN2000 GN1100\n",
       " A.R.D.I.                                            GN1100\n",
       " Al Kasha                                     GN1500 GN2200\n",
       " Benny Benassi    GN1100 GN1100 GN1100 GN1100 GN1100 GN1100\n",
       " Black Pata                                   GN1100 GN1100\n",
       "                                    ...                    \n",
       "힙합시보사동                                        GN0500 GN0300\n",
       "힛 더 나인                                        GN0400 GN0200\n",
       "＝AH15                                                GN1400\n",
       "？班生                                                  GN0900\n",
       "￦HERE AM I                                    GN0500 GN0300\n",
       "Name: words, Length: 111304, dtype: object"
      ]
     },
     "execution_count": 16,
     "metadata": {},
     "output_type": "execute_result"
    }
   ],
   "source": [
    "art_gnr"
   ]
  },
  {
   "cell_type": "code",
   "execution_count": 17,
   "id": "a48667e0-0b12-4d0b-9b0c-7d32bd076134",
   "metadata": {},
   "outputs": [],
   "source": [
    "art_gnr = pd.DataFrame(art_gnr)"
   ]
  },
  {
   "cell_type": "code",
   "execution_count": 18,
   "id": "2323aa5f-6a51-44de-b320-f1cf90e31e27",
   "metadata": {},
   "outputs": [],
   "source": [
    "from sklearn.feature_extraction.text import CountVectorizer"
   ]
  },
  {
   "cell_type": "code",
   "execution_count": 19,
   "id": "60bcbddf-aeb2-4fe2-bc14-8f560c4b4290",
   "metadata": {},
   "outputs": [],
   "source": [
    "model = CountVectorizer()\n",
    "artist_gnr_vector = model.fit_transform(art_gnr['words'])"
   ]
  },
  {
   "cell_type": "code",
   "execution_count": 21,
   "id": "ea3ff3d7-14e6-4523-bf18-d2fef96d6099",
   "metadata": {},
   "outputs": [
    {
     "data": {
      "text/plain": [
       "array([[0, 0, 0, ..., 0, 0, 0],\n",
       "       [0, 0, 0, ..., 0, 0, 0],\n",
       "       [0, 0, 0, ..., 0, 0, 0],\n",
       "       ...,\n",
       "       [0, 0, 0, ..., 0, 0, 0],\n",
       "       [0, 0, 0, ..., 0, 0, 0],\n",
       "       [0, 0, 1, ..., 0, 0, 0]], dtype=int64)"
      ]
     },
     "execution_count": 21,
     "metadata": {},
     "output_type": "execute_result"
    }
   ],
   "source": [
    "artist_gnr_vector.toarray()"
   ]
  },
  {
   "cell_type": "code",
   "execution_count": 24,
   "id": "108d7711-3f9c-4b54-8671-86894c02197a",
   "metadata": {},
   "outputs": [
    {
     "data": {
      "text/plain": [
       "['gn0100',\n",
       " 'gn0200',\n",
       " 'gn0300',\n",
       " 'gn0400',\n",
       " 'gn0500',\n",
       " 'gn0600',\n",
       " 'gn0700',\n",
       " 'gn0800',\n",
       " 'gn0900',\n",
       " 'gn1000',\n",
       " 'gn1100',\n",
       " 'gn1200',\n",
       " 'gn1300',\n",
       " 'gn1400',\n",
       " 'gn1500',\n",
       " 'gn1600',\n",
       " 'gn1700',\n",
       " 'gn1800',\n",
       " 'gn1900',\n",
       " 'gn2000',\n",
       " 'gn2100',\n",
       " 'gn2200',\n",
       " 'gn2300',\n",
       " 'gn2400',\n",
       " 'gn2500',\n",
       " 'gn2600',\n",
       " 'gn2700',\n",
       " 'gn2800',\n",
       " 'gn2900',\n",
       " 'gn9000']"
      ]
     },
     "execution_count": 24,
     "metadata": {},
     "output_type": "execute_result"
    }
   ],
   "source": [
    "model.get_feature_names()"
   ]
  },
  {
   "cell_type": "code",
   "execution_count": 50,
   "id": "8f572cbc-2512-4465-8db2-26134cbb8714",
   "metadata": {},
   "outputs": [
    {
     "data": {
      "text/plain": [
       "30"
      ]
     },
     "execution_count": 50,
     "metadata": {},
     "output_type": "execute_result"
    }
   ],
   "source": [
    "len(model.get_feature_names())"
   ]
  },
  {
   "cell_type": "code",
   "execution_count": 33,
   "id": "b340b506-4ae2-46cd-8fb7-4f0c1238708d",
   "metadata": {},
   "outputs": [],
   "source": [
    "artist_list = art_gnr.index.tolist()"
   ]
  },
  {
   "cell_type": "code",
   "execution_count": 36,
   "id": "8d0f919c-09a0-4b18-b734-3953daca2916",
   "metadata": {},
   "outputs": [],
   "source": [
    "artist_gnr_df = pd.DataFrame(artist_gnr_vector.toarray(), index =artist_list, columns = model.get_feature_names())"
   ]
  },
  {
   "cell_type": "code",
   "execution_count": 65,
   "id": "239833f5-38b7-4455-8e01-479ae9af602c",
   "metadata": {},
   "outputs": [
    {
     "data": {
      "text/html": [
       "<div>\n",
       "<style scoped>\n",
       "    .dataframe tbody tr th:only-of-type {\n",
       "        vertical-align: middle;\n",
       "    }\n",
       "\n",
       "    .dataframe tbody tr th {\n",
       "        vertical-align: top;\n",
       "    }\n",
       "\n",
       "    .dataframe thead th {\n",
       "        text-align: right;\n",
       "    }\n",
       "</style>\n",
       "<table border=\"1\" class=\"dataframe\">\n",
       "  <thead>\n",
       "    <tr style=\"text-align: right;\">\n",
       "      <th></th>\n",
       "      <th>gn0100</th>\n",
       "      <th>gn0200</th>\n",
       "      <th>gn0300</th>\n",
       "      <th>gn0400</th>\n",
       "      <th>gn0500</th>\n",
       "      <th>gn0600</th>\n",
       "      <th>gn0700</th>\n",
       "      <th>gn0800</th>\n",
       "      <th>gn0900</th>\n",
       "      <th>gn1000</th>\n",
       "      <th>...</th>\n",
       "      <th>gn2100</th>\n",
       "      <th>gn2200</th>\n",
       "      <th>gn2300</th>\n",
       "      <th>gn2400</th>\n",
       "      <th>gn2500</th>\n",
       "      <th>gn2600</th>\n",
       "      <th>gn2700</th>\n",
       "      <th>gn2800</th>\n",
       "      <th>gn2900</th>\n",
       "      <th>gn9000</th>\n",
       "    </tr>\n",
       "  </thead>\n",
       "  <tbody>\n",
       "    <tr>\n",
       "      <th>아이유</th>\n",
       "      <td>91</td>\n",
       "      <td>37</td>\n",
       "      <td>0</td>\n",
       "      <td>3</td>\n",
       "      <td>0</td>\n",
       "      <td>23</td>\n",
       "      <td>0</td>\n",
       "      <td>4</td>\n",
       "      <td>0</td>\n",
       "      <td>0</td>\n",
       "      <td>...</td>\n",
       "      <td>0</td>\n",
       "      <td>0</td>\n",
       "      <td>0</td>\n",
       "      <td>0</td>\n",
       "      <td>0</td>\n",
       "      <td>1</td>\n",
       "      <td>0</td>\n",
       "      <td>0</td>\n",
       "      <td>0</td>\n",
       "      <td>0</td>\n",
       "    </tr>\n",
       "  </tbody>\n",
       "</table>\n",
       "<p>1 rows × 30 columns</p>\n",
       "</div>"
      ],
      "text/plain": [
       "     gn0100  gn0200  gn0300  gn0400  gn0500  gn0600  gn0700  gn0800  gn0900  \\\n",
       "아이유      91      37       0       3       0      23       0       4       0   \n",
       "\n",
       "     gn1000  ...  gn2100  gn2200  gn2300  gn2400  gn2500  gn2600  gn2700  \\\n",
       "아이유       0  ...       0       0       0       0       0       1       0   \n",
       "\n",
       "     gn2800  gn2900  gn9000  \n",
       "아이유       0       0       0  \n",
       "\n",
       "[1 rows x 30 columns]"
      ]
     },
     "execution_count": 65,
     "metadata": {},
     "output_type": "execute_result"
    }
   ],
   "source": [
    "artist_gnr_df.loc[['아이유']]"
   ]
  },
  {
   "cell_type": "code",
   "execution_count": 61,
   "id": "724a267d-11a0-499a-8069-30c351edab24",
   "metadata": {},
   "outputs": [],
   "source": [
    "artist_gnr_df.to_csv('data/artist_gnr_df.csv')"
   ]
  }
 ],
 "metadata": {
  "kernelspec": {
   "display_name": "Python 3",
   "language": "python",
   "name": "python3"
  },
  "language_info": {
   "codemirror_mode": {
    "name": "ipython",
    "version": 3
   },
   "file_extension": ".py",
   "mimetype": "text/x-python",
   "name": "python",
   "nbconvert_exporter": "python",
   "pygments_lexer": "ipython3",
   "version": "3.8.8"
  }
 },
 "nbformat": 4,
 "nbformat_minor": 5
}
