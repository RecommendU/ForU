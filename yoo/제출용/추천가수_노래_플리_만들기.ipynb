{
 "cells": [
  {
   "cell_type": "code",
   "execution_count": 1,
   "id": "7e0f4ca7-b868-4494-a690-5fe2e792f7eb",
   "metadata": {},
   "outputs": [],
   "source": [
    "import numpy as np\n",
    "import pandas as pd\n",
    "from gensim.models import Word2Vec\n",
    "import random\n",
    "from random import sample\n",
    "from collections import Counter, defaultdict\n",
    "from itertools import chain\n",
    "import math\n",
    "from tqdm import tqdm\n",
    "tqdm.pandas()\n",
    "import json"
   ]
  },
  {
   "cell_type": "markdown",
   "id": "a772c7e8-9586-472c-8233-e62b39a62fc2",
   "metadata": {},
   "source": [
    "# 데이터 불러오기\n",
    "- song_meta에 인기도가 필요함.\n",
    "- 가수 유사도 계산을 위한 word2vec 모델 필요"
   ]
  },
  {
   "cell_type": "code",
   "execution_count": 2,
   "id": "081fb257-cc20-4a49-a02e-81b0c8117ffd",
   "metadata": {},
   "outputs": [],
   "source": [
    "train = pd.read_json('train.json')\n",
    "song_meta = pd.read_json('song_meta_pop.json')\n",
    "w2v_model = Word2Vec.load('../artist_w2v.model')"
   ]
  },
  {
   "cell_type": "markdown",
   "id": "0f4b7763-9670-42e2-8198-64bad595fc88",
   "metadata": {},
   "source": [
    "### 플레이리스트에 있는 가수 컬럼으로 만들기."
   ]
  },
  {
   "cell_type": "code",
   "execution_count": 3,
   "id": "4b57dc26-4095-4d8e-988f-3bf95bb7ad85",
   "metadata": {},
   "outputs": [
    {
     "name": "stderr",
     "output_type": "stream",
     "text": [
      "100%|███████████████████████████████████████████████████████████████████████| 115071/115071 [00:04<00:00, 24207.80it/s]\n"
     ]
    }
   ],
   "source": [
    "# 노래 id가 key, 값은 그 노래를 부른 가수 리스트\n",
    "songid_to_artists = dict(zip(song_meta['id'],song_meta['artist_name_basket']))\n",
    "\n",
    "# 각 플레이리스트에 포함된 노래를 부른 가수들을 가져오기 위한 함수\n",
    "def get_artist(playlist):\n",
    "    artists = set()\n",
    "    for song in playlist:\n",
    "        artists.update(songid_to_artists[song])\n",
    "    return list(artists)\n",
    "\n",
    "train['artists'] = train['songs'].progress_apply(get_artist)"
   ]
  },
  {
   "cell_type": "markdown",
   "id": "280f580c-d26a-4b3d-9032-fac34a4dc7a1",
   "metadata": {},
   "source": [
    "### artist 펼치기"
   ]
  },
  {
   "cell_type": "code",
   "execution_count": 4,
   "id": "96bcb54d-2b12-430b-a876-0c1ad82915cb",
   "metadata": {},
   "outputs": [],
   "source": [
    "artist_flat = pd.DataFrame([[i, x] for i, y in song_meta['artist_name_basket'].iteritems() for x in y], columns=['i','artist'])\n",
    "artist_flat = artist_flat.set_index('i')\n",
    "artist_flat.loc[artist_flat['artist'] == \"\",'artist'] = 'unknown'"
   ]
  },
  {
   "cell_type": "markdown",
   "id": "2922629a-4b70-44b8-8ac6-e023d6d2fbbe",
   "metadata": {},
   "source": [
    "### 펼친 df를 dict로 만들기."
   ]
  },
  {
   "cell_type": "code",
   "execution_count": 5,
   "id": "f52a5fbd-ddca-4bc0-9195-07e182667178",
   "metadata": {},
   "outputs": [
    {
     "name": "stderr",
     "output_type": "stream",
     "text": [
      "100%|█████████████████████████████████████████████████████████████████████| 779485/779485 [00:00<00:00, 1088628.74it/s]"
     ]
    },
    {
     "name": "stdout",
     "output_type": "stream",
     "text": [
      "111304\n"
     ]
    },
    {
     "name": "stderr",
     "output_type": "stream",
     "text": [
      "\n"
     ]
    }
   ],
   "source": [
    "#  key = 가수 value = 부른 노래 리스트.\n",
    "artist_song_dict = defaultdict(list)\n",
    "\n",
    "for i, artist in tqdm(artist_flat['artist'].iteritems(), total = len(artist_flat)):\n",
    "    artist_song_dict[artist].append(i)\n",
    "print(len(artist_song_dict))"
   ]
  },
  {
   "cell_type": "code",
   "execution_count": 6,
   "id": "607ba1f8-a36a-468b-815d-a23f7702b752",
   "metadata": {},
   "outputs": [],
   "source": [
    "# json.dump(artist_song_dict, open('db/artist_song_dict.json', 'w'))"
   ]
  },
  {
   "cell_type": "code",
   "execution_count": 7,
   "id": "1100dc9b-22fe-4139-a77c-411c4d84dfcf",
   "metadata": {},
   "outputs": [],
   "source": [
    "#  artist_song_dict = dict(json.loads(open('db/artist_song_dict.json', 'r').read()))"
   ]
  },
  {
   "cell_type": "markdown",
   "id": "369991e9-90cd-4455-b3ee-3c4507fdbd6c",
   "metadata": {},
   "source": [
    "# 모델\n",
    "### word2vec을 기반으로 추천 받은 가수들의 곡을 기준 가수 곡과 적절히 섞어서 추천한다."
   ]
  },
  {
   "cell_type": "code",
   "execution_count": 8,
   "id": "a9cd116e-b941-4cc7-b720-de1ad6edf286",
   "metadata": {},
   "outputs": [],
   "source": [
    "class Recommender:\n",
    "    \n",
    "    def __init__(self):\n",
    "        self.song_meta = pd.read_json('song_meta_pop.json')\n",
    "        self.train = pd.read_json('train.json')\n",
    "        self.all_tags_set = set(chain(*train['tags']))\n",
    "        self.id_to_tag = dict(zip(range(len(self.all_tags_set)), self.all_tags_set))\n",
    "        self.tag_to_id = dict(zip(self.all_tags_set, range(len(self.all_tags_set)) ))\n",
    "        \n",
    "        #for singer_recommend\n",
    "        self.artist_w2v_model = Word2Vec.load('../artist_w2v.model')\n",
    "        self.artist_song_dict = dict(json.loads(open('db/artist_song_dict.json', 'r').read())) # 위에서 만든 dict\n",
    "    \n",
    "    def singer_recommend(self, user, rec_songs_cnt = 30, rate_of_familiar_songs = 0.3, artist_sample = 5):\n",
    "        #아는 가수의 노래 수\n",
    "        song_cnt_from_fam = int(rec_songs_cnt * rate_of_familiar_songs)\n",
    "        #추천 받은 가수의 노래 수\n",
    "        song_cnt_from_rec = int(rec_songs_cnt * (1-rate_of_familiar_songs))\n",
    "        \n",
    "        artist_songs = []\n",
    "        new_artist_songs = []\n",
    "        final_recommendation = []\n",
    "        user_recommend_artists = []\n",
    "    \n",
    "        #유저 아티스트 랜덤 샘플 가져오기\n",
    "        if len(user['artists'].values) > artist_sample:\n",
    "            user_random_artist_list = random.sample(*user['artists'].values, artist_sample)\n",
    "        else:\n",
    "            user_random_artist_list = list(*user['artists'].values)\n",
    "        \n",
    "        #유사 가수 찾기  - (가수 전체로 찾는다.)\n",
    "        temp = self.artist_w2v_model.wv.most_similar(user_random_artist_list, topn = 7)\n",
    "        user_recommend_artists.extend([x for x , _ in temp])\n",
    "        \n",
    "        # 기존 가수 노래 가져오기\n",
    "        for artist_ in user_random_artist_list:\n",
    "            temp_songs = self.song_meta.iloc[self.artist_song_dict[artist_]].sort_values(by= 'popularity', ascending = False)[:10]\n",
    "            artist_songs.extend(temp_songs['id'])\n",
    "        # 새 가수 노래 가져오기    \n",
    "        for artist_ in user_recommend_artists:\n",
    "            temp_songs = self.song_meta.iloc[self.artist_song_dict[artist_]].sort_values(by= 'popularity', ascending = False)[:10]\n",
    "            new_artist_songs.extend(temp_songs['id'])\n",
    "        # 기존 가수 곡 중 이미 있는 노래는 제거\n",
    "        artist_songs =  set(artist_songs) - set(*user['songs'])\n",
    "        \n",
    "        #노래 샘플로 뽑기\n",
    "        #뽑힌 기존 가수 노래가 설정된 기존 가수 노래 수보다 크면 수를 맞춘다.\n",
    "        if len(artist_songs) >= song_cnt_from_fam:\n",
    "            final_recommendation.extend(sample(artist_songs,  song_cnt_from_fam   ))\n",
    "        else:\n",
    "            final_recommendation.extend(artist_songs)\n",
    "        \n",
    "        #추천 가수 노래가 설정된 추천가수노래보다 크면 수를 맞춘다.\n",
    "        if len(new_artist_songs) >= song_cnt_from_rec:\n",
    "            final_recommendation.extend(sample(new_artist_songs,  song_cnt_from_rec    ))\n",
    "        else:\n",
    "            final_recommendation.extend(new_artist_songs)\n",
    "            \n",
    "        return final_recommendation"
   ]
  },
  {
   "cell_type": "code",
   "execution_count": 9,
   "id": "d12d6ffb-c4b6-4d73-a107-25f669897788",
   "metadata": {},
   "outputs": [
    {
     "name": "stdout",
     "output_type": "stream",
     "text": [
      "Wall time: 17.9 s\n"
     ]
    }
   ],
   "source": [
    "%%time\n",
    "rec = Recommender()"
   ]
  },
  {
   "cell_type": "code",
   "execution_count": 125,
   "id": "e7b882e1-ef8b-4bac-a566-194f3bfbfe02",
   "metadata": {},
   "outputs": [
    {
     "name": "stdout",
     "output_type": "stream",
     "text": [
      "샘플 유저 : \n",
      "\n"
     ]
    },
    {
     "data": {
      "text/html": [
       "<div>\n",
       "<style scoped>\n",
       "    .dataframe tbody tr th:only-of-type {\n",
       "        vertical-align: middle;\n",
       "    }\n",
       "\n",
       "    .dataframe tbody tr th {\n",
       "        vertical-align: top;\n",
       "    }\n",
       "\n",
       "    .dataframe thead th {\n",
       "        text-align: right;\n",
       "    }\n",
       "</style>\n",
       "<table border=\"1\" class=\"dataframe\">\n",
       "  <thead>\n",
       "    <tr style=\"text-align: right;\">\n",
       "      <th></th>\n",
       "      <th>tags</th>\n",
       "      <th>id</th>\n",
       "      <th>plylst_title</th>\n",
       "      <th>songs</th>\n",
       "      <th>like_cnt</th>\n",
       "      <th>updt_date</th>\n",
       "      <th>artists</th>\n",
       "    </tr>\n",
       "  </thead>\n",
       "  <tbody>\n",
       "    <tr>\n",
       "      <th>23720</th>\n",
       "      <td>[발라드]</td>\n",
       "      <td>79111</td>\n",
       "      <td>가을에 들을 말한 노래</td>\n",
       "      <td>[452583, 321059, 287003, 198388, 603107, 31758...</td>\n",
       "      <td>10</td>\n",
       "      <td>2009-09-26 14:30:56.000</td>\n",
       "      <td>[부활, 마리오, 김경호, 다이나믹 듀오, 이승철, 럼블피쉬, 케이윌, 플라이 투 ...</td>\n",
       "    </tr>\n",
       "  </tbody>\n",
       "</table>\n",
       "</div>"
      ],
      "text/plain": [
       "        tags     id  plylst_title  \\\n",
       "23720  [발라드]  79111  가을에 들을 말한 노래   \n",
       "\n",
       "                                                   songs  like_cnt  \\\n",
       "23720  [452583, 321059, 287003, 198388, 603107, 31758...        10   \n",
       "\n",
       "                     updt_date  \\\n",
       "23720  2009-09-26 14:30:56.000   \n",
       "\n",
       "                                                 artists  \n",
       "23720  [부활, 마리오, 김경호, 다이나믹 듀오, 이승철, 럼블피쉬, 케이윌, 플라이 투 ...  "
      ]
     },
     "metadata": {},
     "output_type": "display_data"
    }
   ],
   "source": [
    "sample_user = train.sample(1)\n",
    "print('샘플 유저 : \\n')\n",
    "display(sample_user)"
   ]
  },
  {
   "cell_type": "markdown",
   "id": "f49c376f-e396-4ee2-9588-48f14d65bb83",
   "metadata": {},
   "source": [
    "### 샘플 유저로 추천 테스트 해보기"
   ]
  },
  {
   "cell_type": "code",
   "execution_count": 127,
   "id": "8169fb74-8b81-42b6-859c-ff8de9b55d53",
   "metadata": {},
   "outputs": [],
   "source": [
    "final_recommendation =  rec.singer_recommend(sample_user)"
   ]
  },
  {
   "cell_type": "code",
   "execution_count": 128,
   "id": "e6b4e47c-5533-40bb-b878-74b5d865ffb0",
   "metadata": {},
   "outputs": [
    {
     "data": {
      "text/html": [
       "<div>\n",
       "<style scoped>\n",
       "    .dataframe tbody tr th:only-of-type {\n",
       "        vertical-align: middle;\n",
       "    }\n",
       "\n",
       "    .dataframe tbody tr th {\n",
       "        vertical-align: top;\n",
       "    }\n",
       "\n",
       "    .dataframe thead th {\n",
       "        text-align: right;\n",
       "    }\n",
       "</style>\n",
       "<table border=\"1\" class=\"dataframe\">\n",
       "  <thead>\n",
       "    <tr style=\"text-align: right;\">\n",
       "      <th></th>\n",
       "      <th>song_name</th>\n",
       "      <th>artist_name_basket</th>\n",
       "    </tr>\n",
       "  </thead>\n",
       "  <tbody>\n",
       "    <tr>\n",
       "      <th>635537</th>\n",
       "      <td>보고 싶다</td>\n",
       "      <td>[김범수]</td>\n",
       "    </tr>\n",
       "    <tr>\n",
       "      <th>9033</th>\n",
       "      <td>그게 나야</td>\n",
       "      <td>[김동률]</td>\n",
       "    </tr>\n",
       "    <tr>\n",
       "      <th>247663</th>\n",
       "      <td>Smile Again</td>\n",
       "      <td>[KCM]</td>\n",
       "    </tr>\n",
       "    <tr>\n",
       "      <th>238621</th>\n",
       "      <td>Missing You</td>\n",
       "      <td>[플라이 투 더 스카이]</td>\n",
       "    </tr>\n",
       "    <tr>\n",
       "      <th>138931</th>\n",
       "      <td>바람이 되어서라도</td>\n",
       "      <td>[환희]</td>\n",
       "    </tr>\n",
       "    <tr>\n",
       "      <th>695770</th>\n",
       "      <td>300원짜리 커피</td>\n",
       "      <td>[소울스타 (SOULSTAR)]</td>\n",
       "    </tr>\n",
       "    <tr>\n",
       "      <th>187486</th>\n",
       "      <td>내 사랑 내 곁에</td>\n",
       "      <td>[럼블피쉬]</td>\n",
       "    </tr>\n",
       "    <tr>\n",
       "      <th>279076</th>\n",
       "      <td>내 생에 아름다운</td>\n",
       "      <td>[케이윌]</td>\n",
       "    </tr>\n",
       "    <tr>\n",
       "      <th>538124</th>\n",
       "      <td>결혼해줄래</td>\n",
       "      <td>[이승기]</td>\n",
       "    </tr>\n",
       "    <tr>\n",
       "      <th>444921</th>\n",
       "      <td>사랑은 아프려고 하는 거죠</td>\n",
       "      <td>[엠씨더맥스 (M.C the MAX)]</td>\n",
       "    </tr>\n",
       "    <tr>\n",
       "      <th>172823</th>\n",
       "      <td>Buen Camino</td>\n",
       "      <td>[신혜성, 린]</td>\n",
       "    </tr>\n",
       "    <tr>\n",
       "      <th>279595</th>\n",
       "      <td>상처</td>\n",
       "      <td>[S.Papa]</td>\n",
       "    </tr>\n",
       "    <tr>\n",
       "      <th>184717</th>\n",
       "      <td>With Me</td>\n",
       "      <td>[휘성 (Realslow)]</td>\n",
       "    </tr>\n",
       "    <tr>\n",
       "      <th>363429</th>\n",
       "      <td>그대는 눈물겹다</td>\n",
       "      <td>[엠씨더맥스 (M.C the MAX)]</td>\n",
       "    </tr>\n",
       "    <tr>\n",
       "      <th>391645</th>\n",
       "      <td>그리움을 사랑한 가시나무</td>\n",
       "      <td>[테이]</td>\n",
       "    </tr>\n",
       "    <tr>\n",
       "      <th>260719</th>\n",
       "      <td>가슴 시린 이야기 (Feat. 용준형 Of Beast)</td>\n",
       "      <td>[휘성 (Realslow)]</td>\n",
       "    </tr>\n",
       "    <tr>\n",
       "      <th>41567</th>\n",
       "      <td>사랑은 맛있다♡</td>\n",
       "      <td>[휘성 (Realslow)]</td>\n",
       "    </tr>\n",
       "    <tr>\n",
       "      <th>528414</th>\n",
       "      <td>일년이면</td>\n",
       "      <td>[휘성 (Realslow)]</td>\n",
       "    </tr>\n",
       "    <tr>\n",
       "      <th>492678</th>\n",
       "      <td>시간을 거슬러</td>\n",
       "      <td>[린]</td>\n",
       "    </tr>\n",
       "    <tr>\n",
       "      <th>584779</th>\n",
       "      <td>사랑은... 향기를 남기고</td>\n",
       "      <td>[테이]</td>\n",
       "    </tr>\n",
       "    <tr>\n",
       "      <th>620754</th>\n",
       "      <td>행복하지 말아요</td>\n",
       "      <td>[엠씨더맥스 (M.C the MAX)]</td>\n",
       "    </tr>\n",
       "    <tr>\n",
       "      <th>277272</th>\n",
       "      <td>내사람 : Partner For Life</td>\n",
       "      <td>[SG 워너비]</td>\n",
       "    </tr>\n",
       "    <tr>\n",
       "      <th>543298</th>\n",
       "      <td>내사람</td>\n",
       "      <td>[SG 워너비]</td>\n",
       "    </tr>\n",
       "    <tr>\n",
       "      <th>150118</th>\n",
       "      <td>겨울이 오면</td>\n",
       "      <td>[임재범, 테이]</td>\n",
       "    </tr>\n",
       "    <tr>\n",
       "      <th>698250</th>\n",
       "      <td>어디에도</td>\n",
       "      <td>[엠씨더맥스 (M.C the MAX)]</td>\n",
       "    </tr>\n",
       "    <tr>\n",
       "      <th>257277</th>\n",
       "      <td>사랑의 시(時)</td>\n",
       "      <td>[엠씨더맥스 (M.C the MAX)]</td>\n",
       "    </tr>\n",
       "    <tr>\n",
       "      <th>71385</th>\n",
       "      <td>전할 수 없는 이야기 (부제:시티 오브 엔젤)</td>\n",
       "      <td>[휘성 (Realslow)]</td>\n",
       "    </tr>\n",
       "    <tr>\n",
       "      <th>414647</th>\n",
       "      <td>Special Love</td>\n",
       "      <td>[휘성 (Realslow), 거미]</td>\n",
       "    </tr>\n",
       "    <tr>\n",
       "      <th>516237</th>\n",
       "      <td>안 되나요.. (부제: 화양연화)</td>\n",
       "      <td>[휘성 (Realslow)]</td>\n",
       "    </tr>\n",
       "    <tr>\n",
       "      <th>60807</th>\n",
       "      <td>통화연결음</td>\n",
       "      <td>[린]</td>\n",
       "    </tr>\n",
       "  </tbody>\n",
       "</table>\n",
       "</div>"
      ],
      "text/plain": [
       "                             song_name     artist_name_basket\n",
       "635537                           보고 싶다                  [김범수]\n",
       "9033                             그게 나야                  [김동률]\n",
       "247663                     Smile Again                  [KCM]\n",
       "238621                     Missing You          [플라이 투 더 스카이]\n",
       "138931                       바람이 되어서라도                   [환희]\n",
       "695770                       300원짜리 커피      [소울스타 (SOULSTAR)]\n",
       "187486                       내 사랑 내 곁에                 [럼블피쉬]\n",
       "279076                       내 생에 아름다운                  [케이윌]\n",
       "538124                           결혼해줄래                  [이승기]\n",
       "444921                  사랑은 아프려고 하는 거죠  [엠씨더맥스 (M.C the MAX)]\n",
       "172823                     Buen Camino               [신혜성, 린]\n",
       "279595                              상처               [S.Papa]\n",
       "184717                         With Me        [휘성 (Realslow)]\n",
       "363429                        그대는 눈물겹다  [엠씨더맥스 (M.C the MAX)]\n",
       "391645                   그리움을 사랑한 가시나무                   [테이]\n",
       "260719  가슴 시린 이야기 (Feat. 용준형 Of Beast)        [휘성 (Realslow)]\n",
       "41567                         사랑은 맛있다♡        [휘성 (Realslow)]\n",
       "528414                            일년이면        [휘성 (Realslow)]\n",
       "492678                         시간을 거슬러                    [린]\n",
       "584779                  사랑은... 향기를 남기고                   [테이]\n",
       "620754                        행복하지 말아요  [엠씨더맥스 (M.C the MAX)]\n",
       "277272          내사람 : Partner For Life               [SG 워너비]\n",
       "543298                             내사람               [SG 워너비]\n",
       "150118                          겨울이 오면              [임재범, 테이]\n",
       "698250                            어디에도  [엠씨더맥스 (M.C the MAX)]\n",
       "257277                        사랑의 시(時)  [엠씨더맥스 (M.C the MAX)]\n",
       "71385        전할 수 없는 이야기 (부제:시티 오브 엔젤)        [휘성 (Realslow)]\n",
       "414647                    Special Love    [휘성 (Realslow), 거미]\n",
       "516237              안 되나요.. (부제: 화양연화)        [휘성 (Realslow)]\n",
       "60807                            통화연결음                    [린]"
      ]
     },
     "metadata": {},
     "output_type": "display_data"
    }
   ],
   "source": [
    "display(song_meta.iloc[final_recommendation][['song_name','artist_name_basket']])"
   ]
  },
  {
   "cell_type": "code",
   "execution_count": null,
   "id": "7b33d62b-ede3-43a2-948d-6a8bde8ae42c",
   "metadata": {},
   "outputs": [],
   "source": []
  }
 ],
 "metadata": {
  "kernelspec": {
   "display_name": "Python 3",
   "language": "python",
   "name": "python3"
  },
  "language_info": {
   "codemirror_mode": {
    "name": "ipython",
    "version": 3
   },
   "file_extension": ".py",
   "mimetype": "text/x-python",
   "name": "python",
   "nbconvert_exporter": "python",
   "pygments_lexer": "ipython3",
   "version": "3.8.8"
  }
 },
 "nbformat": 4,
 "nbformat_minor": 5
}
