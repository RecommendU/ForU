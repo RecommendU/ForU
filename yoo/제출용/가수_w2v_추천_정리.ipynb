{
 "cells": [
  {
   "cell_type": "code",
   "execution_count": 43,
   "id": "1d4abd6c-7cfe-4059-973f-4fdb1384d5e1",
   "metadata": {},
   "outputs": [],
   "source": [
    "import numpy as np\n",
    "import pandas as pd\n",
    "from tqdm import tqdm\n",
    "tqdm.pandas()\n",
    "from gensim.models import Word2Vec\n",
    "import random"
   ]
  },
  {
   "cell_type": "markdown",
   "id": "e99ef1d9-b1c1-4cfc-b643-c306fbea497f",
   "metadata": {},
   "source": [
    "# Word2vec 활용 유사 가수 추천"
   ]
  },
  {
   "cell_type": "markdown",
   "id": "93c22a33-431f-4cf5-bb54-8eae1d6fa62e",
   "metadata": {},
   "source": [
    "### 데이터 불러오기\n",
    "데이터 출처  \n",
    "- [카카오 아레나 Melon Playlist Continuation](https://arena.kakao.com/c/8/data)"
   ]
  },
  {
   "cell_type": "code",
   "execution_count": 2,
   "id": "9c9bcef4-fc53-4909-be64-c64cdbe99092",
   "metadata": {},
   "outputs": [],
   "source": [
    "#플레이 리스트\n",
    "playlist = pd.read_json('data/train.json')\n",
    "#곡 정보\n",
    "song_meta = pd.read_json('data/song_meta.json')"
   ]
  },
  {
   "cell_type": "code",
   "execution_count": 3,
   "id": "41674dfa-d059-486e-8fa8-74ab0bc535cc",
   "metadata": {},
   "outputs": [
    {
     "data": {
      "text/html": [
       "<div>\n",
       "<style scoped>\n",
       "    .dataframe tbody tr th:only-of-type {\n",
       "        vertical-align: middle;\n",
       "    }\n",
       "\n",
       "    .dataframe tbody tr th {\n",
       "        vertical-align: top;\n",
       "    }\n",
       "\n",
       "    .dataframe thead th {\n",
       "        text-align: right;\n",
       "    }\n",
       "</style>\n",
       "<table border=\"1\" class=\"dataframe\">\n",
       "  <thead>\n",
       "    <tr style=\"text-align: right;\">\n",
       "      <th></th>\n",
       "      <th>tags</th>\n",
       "      <th>id</th>\n",
       "      <th>plylst_title</th>\n",
       "      <th>songs</th>\n",
       "      <th>like_cnt</th>\n",
       "      <th>updt_date</th>\n",
       "    </tr>\n",
       "  </thead>\n",
       "  <tbody>\n",
       "    <tr>\n",
       "      <th>0</th>\n",
       "      <td>[락]</td>\n",
       "      <td>61281</td>\n",
       "      <td>여행같은 음악</td>\n",
       "      <td>[525514, 129701, 383374, 562083, 297861, 139541, 351214, 650298, 531057, 205238, 706183, 127099,...</td>\n",
       "      <td>71</td>\n",
       "      <td>2013-12-19 18:36:19.000</td>\n",
       "    </tr>\n",
       "    <tr>\n",
       "      <th>1</th>\n",
       "      <td>[추억, 회상]</td>\n",
       "      <td>10532</td>\n",
       "      <td>요즘 너 말야</td>\n",
       "      <td>[432406, 675945, 497066, 120377, 389529, 244277, 461062, 696302, 442765, 532114, 586541, 33389, ...</td>\n",
       "      <td>1</td>\n",
       "      <td>2014-12-02 16:19:42.000</td>\n",
       "    </tr>\n",
       "    <tr>\n",
       "      <th>2</th>\n",
       "      <td>[까페, 잔잔한]</td>\n",
       "      <td>76951</td>\n",
       "      <td>편하게, 잔잔하게 들을 수 있는 곡.-</td>\n",
       "      <td>[83116, 276692, 166267, 186301, 354465, 256598, 233195, 666852, 686560, 556426, 142974, 331878, ...</td>\n",
       "      <td>17</td>\n",
       "      <td>2017-08-28 07:09:34.000</td>\n",
       "    </tr>\n",
       "    <tr>\n",
       "      <th>3</th>\n",
       "      <td>[연말, 눈오는날, 캐럴, 분위기, 따듯한, 크리스마스캐럴, 겨울노래, 크리스마스, 겨울왕국, 크리스마스송]</td>\n",
       "      <td>147456</td>\n",
       "      <td>크리스마스 분위기에 흠뻑 취하고 싶을때</td>\n",
       "      <td>[394031, 195524, 540149, 287984, 440773, 100335, 556301, 655561, 534818, 695032, 516602, 521739,...</td>\n",
       "      <td>33</td>\n",
       "      <td>2019-12-05 15:15:18.000</td>\n",
       "    </tr>\n",
       "  </tbody>\n",
       "</table>\n",
       "</div>"
      ],
      "text/plain": [
       "                                                           tags      id  \\\n",
       "0                                                           [락]   61281   \n",
       "1                                                      [추억, 회상]   10532   \n",
       "2                                                     [까페, 잔잔한]   76951   \n",
       "3  [연말, 눈오는날, 캐럴, 분위기, 따듯한, 크리스마스캐럴, 겨울노래, 크리스마스, 겨울왕국, 크리스마스송]  147456   \n",
       "\n",
       "            plylst_title  \\\n",
       "0                여행같은 음악   \n",
       "1                요즘 너 말야   \n",
       "2  편하게, 잔잔하게 들을 수 있는 곡.-   \n",
       "3  크리스마스 분위기에 흠뻑 취하고 싶을때   \n",
       "\n",
       "                                                                                                 songs  \\\n",
       "0  [525514, 129701, 383374, 562083, 297861, 139541, 351214, 650298, 531057, 205238, 706183, 127099,...   \n",
       "1  [432406, 675945, 497066, 120377, 389529, 244277, 461062, 696302, 442765, 532114, 586541, 33389, ...   \n",
       "2  [83116, 276692, 166267, 186301, 354465, 256598, 233195, 666852, 686560, 556426, 142974, 331878, ...   \n",
       "3  [394031, 195524, 540149, 287984, 440773, 100335, 556301, 655561, 534818, 695032, 516602, 521739,...   \n",
       "\n",
       "   like_cnt                updt_date  \n",
       "0        71  2013-12-19 18:36:19.000  \n",
       "1         1  2014-12-02 16:19:42.000  \n",
       "2        17  2017-08-28 07:09:34.000  \n",
       "3        33  2019-12-05 15:15:18.000  "
      ]
     },
     "metadata": {},
     "output_type": "display_data"
    },
    {
     "data": {
      "text/html": [
       "<div>\n",
       "<style scoped>\n",
       "    .dataframe tbody tr th:only-of-type {\n",
       "        vertical-align: middle;\n",
       "    }\n",
       "\n",
       "    .dataframe tbody tr th {\n",
       "        vertical-align: top;\n",
       "    }\n",
       "\n",
       "    .dataframe thead th {\n",
       "        text-align: right;\n",
       "    }\n",
       "</style>\n",
       "<table border=\"1\" class=\"dataframe\">\n",
       "  <thead>\n",
       "    <tr style=\"text-align: right;\">\n",
       "      <th></th>\n",
       "      <th>song_gn_dtl_gnr_basket</th>\n",
       "      <th>issue_date</th>\n",
       "      <th>album_name</th>\n",
       "      <th>album_id</th>\n",
       "      <th>artist_id_basket</th>\n",
       "      <th>song_name</th>\n",
       "      <th>song_gn_gnr_basket</th>\n",
       "      <th>artist_name_basket</th>\n",
       "      <th>id</th>\n",
       "    </tr>\n",
       "  </thead>\n",
       "  <tbody>\n",
       "    <tr>\n",
       "      <th>0</th>\n",
       "      <td>[GN0901]</td>\n",
       "      <td>20140512</td>\n",
       "      <td>불후의 명곡 - 7080 추억의 얄개시대 팝송베스트</td>\n",
       "      <td>2255639</td>\n",
       "      <td>[2727]</td>\n",
       "      <td>Feelings</td>\n",
       "      <td>[GN0900]</td>\n",
       "      <td>[Various Artists]</td>\n",
       "      <td>0</td>\n",
       "    </tr>\n",
       "    <tr>\n",
       "      <th>1</th>\n",
       "      <td>[GN1601, GN1606]</td>\n",
       "      <td>20080421</td>\n",
       "      <td>Bach : Partitas Nos. 2, 3 &amp; 4</td>\n",
       "      <td>376431</td>\n",
       "      <td>[29966]</td>\n",
       "      <td>Bach : Partita No. 4 In D Major, BWV 828 - II. Allemande</td>\n",
       "      <td>[GN1600]</td>\n",
       "      <td>[Murray Perahia]</td>\n",
       "      <td>1</td>\n",
       "    </tr>\n",
       "    <tr>\n",
       "      <th>2</th>\n",
       "      <td>[GN0901]</td>\n",
       "      <td>20180518</td>\n",
       "      <td>Hit</td>\n",
       "      <td>4698747</td>\n",
       "      <td>[3361]</td>\n",
       "      <td>Solsbury Hill (Remastered 2002)</td>\n",
       "      <td>[GN0900]</td>\n",
       "      <td>[Peter Gabriel]</td>\n",
       "      <td>2</td>\n",
       "    </tr>\n",
       "    <tr>\n",
       "      <th>3</th>\n",
       "      <td>[GN1102, GN1101]</td>\n",
       "      <td>20151016</td>\n",
       "      <td>Feeling Right (Everything Is Nice) (Feat. Popcaan &amp; Wale)</td>\n",
       "      <td>2644882</td>\n",
       "      <td>[838543]</td>\n",
       "      <td>Feeling Right (Everything Is Nice) (Feat. Popcaan &amp; Wale)</td>\n",
       "      <td>[GN1100]</td>\n",
       "      <td>[Matoma]</td>\n",
       "      <td>3</td>\n",
       "    </tr>\n",
       "  </tbody>\n",
       "</table>\n",
       "</div>"
      ],
      "text/plain": [
       "  song_gn_dtl_gnr_basket  issue_date  \\\n",
       "0               [GN0901]    20140512   \n",
       "1       [GN1601, GN1606]    20080421   \n",
       "2               [GN0901]    20180518   \n",
       "3       [GN1102, GN1101]    20151016   \n",
       "\n",
       "                                                  album_name  album_id  \\\n",
       "0                               불후의 명곡 - 7080 추억의 얄개시대 팝송베스트   2255639   \n",
       "1                              Bach : Partitas Nos. 2, 3 & 4    376431   \n",
       "2                                                        Hit   4698747   \n",
       "3  Feeling Right (Everything Is Nice) (Feat. Popcaan & Wale)   2644882   \n",
       "\n",
       "  artist_id_basket                                                  song_name  \\\n",
       "0           [2727]                                                   Feelings   \n",
       "1          [29966]   Bach : Partita No. 4 In D Major, BWV 828 - II. Allemande   \n",
       "2           [3361]                            Solsbury Hill (Remastered 2002)   \n",
       "3         [838543]  Feeling Right (Everything Is Nice) (Feat. Popcaan & Wale)   \n",
       "\n",
       "  song_gn_gnr_basket artist_name_basket  id  \n",
       "0           [GN0900]  [Various Artists]   0  \n",
       "1           [GN1600]   [Murray Perahia]   1  \n",
       "2           [GN0900]    [Peter Gabriel]   2  \n",
       "3           [GN1100]           [Matoma]   3  "
      ]
     },
     "metadata": {},
     "output_type": "display_data"
    }
   ],
   "source": [
    "display(playlist.head(4))\n",
    "display(song_meta.head(4))"
   ]
  },
  {
   "cell_type": "markdown",
   "id": "3c016e30-51be-40bd-a024-ec6b47e9e0db",
   "metadata": {},
   "source": [
    "> 곡을 부른 가수는 리스트 형태로 저장되어 있다. "
   ]
  },
  {
   "cell_type": "markdown",
   "id": "1f9086e8-0e2b-47f3-b786-69425f120096",
   "metadata": {},
   "source": [
    "### 플레이리스트 artist 컬럼 추가"
   ]
  },
  {
   "cell_type": "code",
   "execution_count": 4,
   "id": "698934a5-9a83-41d9-9fe1-829d9536bdf3",
   "metadata": {},
   "outputs": [],
   "source": [
    "# 노래를 부른 가수를 가져올 dict를 만든다\n",
    "# 노래 id가 key, 값은 그 노래를 부른 가수의 리스트\n",
    "songid_to_artists = dict(zip(song_meta['id'],song_meta['artist_name_basket']))\n",
    "\n",
    "# 각 플레이리스트에 포함된 노래의 가수를 set에 추가하여 리턴하는 함수\n",
    "def get_artist(playlist):\n",
    "    artists = set()\n",
    "    for song in playlist:\n",
    "        artists.update(songid_to_artists[song])\n",
    "    return list(artists)"
   ]
  },
  {
   "cell_type": "code",
   "execution_count": 5,
   "id": "684b9c4d-347b-4588-8067-4a990cf093d3",
   "metadata": {},
   "outputs": [
    {
     "name": "stderr",
     "output_type": "stream",
     "text": [
      "100%|███████████████████████████████████████████████████████████████████████| 115071/115071 [00:05<00:00, 19687.77it/s]\n"
     ]
    }
   ],
   "source": [
    "#플레이리스트 내 수록된 곡들의 가수를 모은 컬럼\n",
    "playlist['artists'] = playlist['songs'].progress_apply(get_artist)"
   ]
  },
  {
   "cell_type": "markdown",
   "id": "dab3b7a1-f0d7-4d3f-8862-39488845ccbf",
   "metadata": {},
   "source": [
    "# word2vec 임베딩"
   ]
  },
  {
   "cell_type": "markdown",
   "id": "8c5d1702-a9e2-4a83-8752-b690492cc3db",
   "metadata": {},
   "source": [
    "- 단어의 의미를 다차원 공간에 벡터화하는 방법\n",
    "![word2vec](https://wikidocs.net/images/page/22660/%EB%8B%A8%EC%96%B4.PNG)"
   ]
  },
  {
   "cell_type": "markdown",
   "id": "65f384bd-0fce-4ba8-8db1-0a419119e5df",
   "metadata": {},
   "source": [
    "- 플레이리스트는 대부분 의도를 가지고 만들어졌기 때문에   \n",
    "  플레이리스트 내의 가수들을 단어로 보고 w2v으로 임베딩하면 연관되거나 유사한 가수끼리 모일 것으로 기대   \n",
    "  &nbsp;\n",
    "- 한 단어로 주변의 단어를 예측하는 skip-gram 방식 사용"
   ]
  },
  {
   "cell_type": "code",
   "execution_count": 6,
   "id": "5e569a88-ab32-4ea8-a3c5-c9a3a41a4352",
   "metadata": {},
   "outputs": [
    {
     "data": {
      "text/html": [
       "<div>\n",
       "<style scoped>\n",
       "    .dataframe tbody tr th:only-of-type {\n",
       "        vertical-align: middle;\n",
       "    }\n",
       "\n",
       "    .dataframe tbody tr th {\n",
       "        vertical-align: top;\n",
       "    }\n",
       "\n",
       "    .dataframe thead th {\n",
       "        text-align: right;\n",
       "    }\n",
       "</style>\n",
       "<table border=\"1\" class=\"dataframe\">\n",
       "  <thead>\n",
       "    <tr style=\"text-align: right;\">\n",
       "      <th></th>\n",
       "      <th>artists</th>\n",
       "    </tr>\n",
       "  </thead>\n",
       "  <tbody>\n",
       "    <tr>\n",
       "      <th>56972</th>\n",
       "      <td>[프리스타일, 우이경 (Woo Yi Kyung), 혜령, 뱅크, 소냐, M.Street (엠스트리트), 브라운아이드걸스, 빅마마, 휘, 이은미, 김경록 (V.O.S), 캔디...</td>\n",
       "    </tr>\n",
       "    <tr>\n",
       "      <th>109414</th>\n",
       "      <td>[AOA, 가인, 스텔라, EXID, 걸스데이, 효민, 라니아, 헬로비너스, 레인보우, 선미, 달샤벳, 포엘 (4L), 씨스타, 지연, 레인보우 블랙, 피에스타]</td>\n",
       "    </tr>\n",
       "    <tr>\n",
       "      <th>59644</th>\n",
       "      <td>[Sia, Taylor Swift, Pentatonix, Maroon 5, Owl City, Jessie J, Ariana Grande, Straight No Chaser,...</td>\n",
       "    </tr>\n",
       "    <tr>\n",
       "      <th>57905</th>\n",
       "      <td>[조이 (JOY), 가인, 에이프릴 (APRIL), SHINee (샤이니), 도영 (DOYOUNG), B1A4, XIA (준수), 애프터스쿨, 소녀시대-태티서 (Girls`...</td>\n",
       "    </tr>\n",
       "    <tr>\n",
       "      <th>101011</th>\n",
       "      <td>[2LSON, Pentatonix, 태일 (블락비), 폴 송, 쿠기 (Coogie), 박재범, OLNL (오르내림), ILLIONAIRE RECORDS, 다이나믹 듀오, 폴...</td>\n",
       "    </tr>\n",
       "    <tr>\n",
       "      <th>44453</th>\n",
       "      <td>[사이먼 도미닉, 주석, MC몽, 프라이머리, San E, 은지원, 크루셜스타 (Crucial Star), 리쌍, MC 스나이퍼, 로꼬]</td>\n",
       "    </tr>\n",
       "    <tr>\n",
       "      <th>33404</th>\n",
       "      <td>[프롬, 민채, 멜로망스, 로지피피, TETE, 랄라스윗 (lalasweet), 만쥬한봉지, 에디전 (뷰티핸섬), 유현 (YOOHYUN), 노리플라이 (no reply), ...</td>\n",
       "    </tr>\n",
       "    <tr>\n",
       "      <th>97305</th>\n",
       "      <td>[신승훈]</td>\n",
       "    </tr>\n",
       "    <tr>\n",
       "      <th>83338</th>\n",
       "      <td>[키스 더 뉴에이지, 박철진, 붐아카데미, 키즈팡팡, 소울 싱어즈, 말하기듣기, 최영환, 모닉, 플라스틱 피플, 돼지]</td>\n",
       "    </tr>\n",
       "    <tr>\n",
       "      <th>15453</th>\n",
       "      <td>[신해철, Alter Bridge, Dark New Day, 노브레인, DAVINK (다빈크), Otep, 여자친구 (GFRIEND), Arch Enemy, 김사랑, 터보,...</td>\n",
       "    </tr>\n",
       "  </tbody>\n",
       "</table>\n",
       "</div>"
      ],
      "text/plain": [
       "                                                                                                    artists\n",
       "56972   [프리스타일, 우이경 (Woo Yi Kyung), 혜령, 뱅크, 소냐, M.Street (엠스트리트), 브라운아이드걸스, 빅마마, 휘, 이은미, 김경록 (V.O.S), 캔디...\n",
       "109414           [AOA, 가인, 스텔라, EXID, 걸스데이, 효민, 라니아, 헬로비너스, 레인보우, 선미, 달샤벳, 포엘 (4L), 씨스타, 지연, 레인보우 블랙, 피에스타]\n",
       "59644   [Sia, Taylor Swift, Pentatonix, Maroon 5, Owl City, Jessie J, Ariana Grande, Straight No Chaser,...\n",
       "57905   [조이 (JOY), 가인, 에이프릴 (APRIL), SHINee (샤이니), 도영 (DOYOUNG), B1A4, XIA (준수), 애프터스쿨, 소녀시대-태티서 (Girls`...\n",
       "101011  [2LSON, Pentatonix, 태일 (블락비), 폴 송, 쿠기 (Coogie), 박재범, OLNL (오르내림), ILLIONAIRE RECORDS, 다이나믹 듀오, 폴...\n",
       "44453                          [사이먼 도미닉, 주석, MC몽, 프라이머리, San E, 은지원, 크루셜스타 (Crucial Star), 리쌍, MC 스나이퍼, 로꼬]\n",
       "33404   [프롬, 민채, 멜로망스, 로지피피, TETE, 랄라스윗 (lalasweet), 만쥬한봉지, 에디전 (뷰티핸섬), 유현 (YOOHYUN), 노리플라이 (no reply), ...\n",
       "97305                                                                                                 [신승훈]\n",
       "83338                                    [키스 더 뉴에이지, 박철진, 붐아카데미, 키즈팡팡, 소울 싱어즈, 말하기듣기, 최영환, 모닉, 플라스틱 피플, 돼지]\n",
       "15453   [신해철, Alter Bridge, Dark New Day, 노브레인, DAVINK (다빈크), Otep, 여자친구 (GFRIEND), Arch Enemy, 김사랑, 터보,..."
      ]
     },
     "execution_count": 6,
     "metadata": {},
     "output_type": "execute_result"
    }
   ],
   "source": [
    "playlist.iloc[ random.sample(range(len(playlist)), 10) ][['artists']]"
   ]
  },
  {
   "cell_type": "code",
   "execution_count": 7,
   "id": "c9512bd8-0e8b-4f53-8794-39d672d8347d",
   "metadata": {},
   "outputs": [
    {
     "data": {
      "text/plain": [
       "250"
      ]
     },
     "execution_count": 7,
     "metadata": {},
     "output_type": "execute_result"
    }
   ],
   "source": [
    "#플레이리스트 내 가수 수의 최대값\n",
    "playlist['artists'].apply(lambda x : len(x)).max()"
   ]
  },
  {
   "cell_type": "code",
   "execution_count": 34,
   "id": "3d2a74f9-63ac-44fc-a059-cdaf1df4d1df",
   "metadata": {},
   "outputs": [
    {
     "name": "stdout",
     "output_type": "stream",
     "text": [
      "Wall time: 10min 9s\n"
     ]
    }
   ],
   "source": [
    "%%time\n",
    "#가수의 최대 수를 고려하여 window 크기는 200으로 설정했고  \n",
    "# 벡터 사이즈는 100으로 설정함\n",
    "\n",
    "w2v_model = Word2Vec(playlist['artists'].tolist(), min_count = 1, size = 100 , window = 200, sg = 1, seed=20)"
   ]
  },
  {
   "cell_type": "code",
   "execution_count": 35,
   "id": "ea73546e-2d5e-4b9f-972b-d1fbec247118",
   "metadata": {},
   "outputs": [],
   "source": [
    "# w2v_model.save(\"artist_w2v_new.model\")\n",
    "# w2v_model = Word2Vec.load(\"artist_w2v.model\")"
   ]
  },
  {
   "cell_type": "markdown",
   "id": "b5923ac2-1a57-4e77-8b5d-e89626c78511",
   "metadata": {},
   "source": [
    "## 임베딩 확인"
   ]
  },
  {
   "cell_type": "code",
   "execution_count": 36,
   "id": "56ab5992-6a52-4c31-ad2a-571a34720bf1",
   "metadata": {},
   "outputs": [
    {
     "data": {
      "text/plain": [
       "[('여자친구 (GFRIEND)', 0.920008659362793),\n",
       " ('오마이걸', 0.916660487651825),\n",
       " ('러블리즈', 0.8950859308242798),\n",
       " ('Red Velvet (레드벨벳)', 0.8837219476699829),\n",
       " ('모모랜드 (MOMOLAND)', 0.8731927871704102),\n",
       " ('Apink (에이핑크)', 0.8724551796913147),\n",
       " ('에이프릴 (APRIL)', 0.8555316925048828),\n",
       " ('언니쓰', 0.8523924350738525),\n",
       " ('세븐틴', 0.8472380638122559),\n",
       " ('EXID', 0.843825101852417)]"
      ]
     },
     "execution_count": 36,
     "metadata": {},
     "output_type": "execute_result"
    }
   ],
   "source": [
    "w2v_model.wv.most_similar(['TWICE (트와이스)'], topn = 10)"
   ]
  },
  {
   "cell_type": "code",
   "execution_count": 37,
   "id": "a8f8a007-6e8b-43a7-b148-abc954b190f0",
   "metadata": {},
   "outputs": [
    {
     "data": {
      "text/plain": [
       "[('긱스 (Geeks)', 0.8807218074798584),\n",
       " ('리쌍', 0.876873254776001),\n",
       " ('버벌진트', 0.8625829219818115),\n",
       " ('다이나믹 듀오', 0.8477752208709717),\n",
       " ('윤하 (YOUNHA)', 0.8359357118606567),\n",
       " ('Supreme Team', 0.8324116468429565),\n",
       " ('MC몽', 0.8311997652053833),\n",
       " ('MC 스나이퍼', 0.8247138261795044),\n",
       " ('매드클라운', 0.8200557231903076),\n",
       " ('Tablo', 0.8194074630737305)]"
      ]
     },
     "execution_count": 37,
     "metadata": {},
     "output_type": "execute_result"
    }
   ],
   "source": [
    "w2v_model.wv.most_similar(['에픽하이 (EPIK HIGH)'], topn = 10)"
   ]
  },
  {
   "cell_type": "code",
   "execution_count": 40,
   "id": "1819b829-2d3e-4c80-998b-47e1e1db775f",
   "metadata": {},
   "outputs": [
    {
     "data": {
      "text/plain": [
       "[('신화', 0.946173906326294),\n",
       " ('god', 0.9072445631027222),\n",
       " ('룰라', 0.8881131410598755),\n",
       " ('카라', 0.8857624530792236),\n",
       " ('제이', 0.8712475299835205),\n",
       " ('슈', 0.8667564392089844),\n",
       " ('씨스타', 0.8627978563308716),\n",
       " ('바다 (BADA)', 0.8623074293136597),\n",
       " ('베이비 복스', 0.8581351637840271),\n",
       " ('박경림', 0.8577195405960083)]"
      ]
     },
     "execution_count": 40,
     "metadata": {},
     "output_type": "execute_result"
    }
   ],
   "source": [
    "w2v_model.wv.most_similar(['S.E.S.'], topn = 10)"
   ]
  },
  {
   "cell_type": "code",
   "execution_count": null,
   "id": "04fd4ce5-95f3-458b-967d-5768189ac78b",
   "metadata": {},
   "outputs": [],
   "source": []
  }
 ],
 "metadata": {
  "kernelspec": {
   "display_name": "Python 3",
   "language": "python",
   "name": "python3"
  },
  "language_info": {
   "codemirror_mode": {
    "name": "ipython",
    "version": 3
   },
   "file_extension": ".py",
   "mimetype": "text/x-python",
   "name": "python",
   "nbconvert_exporter": "python",
   "pygments_lexer": "ipython3",
   "version": "3.8.8"
  }
 },
 "nbformat": 4,
 "nbformat_minor": 5
}
