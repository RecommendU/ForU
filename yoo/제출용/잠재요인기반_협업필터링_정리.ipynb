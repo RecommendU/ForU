{
 "cells": [
  {
   "cell_type": "code",
   "execution_count": 20,
   "id": "9ab46d53-66b5-4d0d-84b2-43d6f73fa7f9",
   "metadata": {},
   "outputs": [],
   "source": [
    "import numpy as np\n",
    "import pandas as pd\n",
    "from tqdm import tqdm\n",
    "tqdm.pandas()\n",
    "from itertools import chain\n",
    "from sklearn.model_selection import train_test_split\n",
    "from scipy.sparse import *\n",
    "from scipy.sparse.linalg import svds\n",
    "import random"
   ]
  },
  {
   "cell_type": "markdown",
   "id": "acc273ff-a70c-4729-bc22-aa2b16710030",
   "metadata": {},
   "source": [
    "# implicit 라이브러리를 활용한 멜론 노래 추천\n",
    "\n",
    "데이터 출처  \n",
    "- [카카오 아레나 Melon Playlist Continuation](https://arena.kakao.com/c/8/data)"
   ]
  },
  {
   "cell_type": "markdown",
   "id": "6d9c008c-5ba0-49a5-b826-8c8a2db0a9cc",
   "metadata": {},
   "source": [
    "### 데이터 불러오기"
   ]
  },
  {
   "cell_type": "code",
   "execution_count": 2,
   "id": "db78e40a-7e1c-4d81-b0e2-801aab4206c5",
   "metadata": {},
   "outputs": [
    {
     "data": {
      "text/html": [
       "<div>\n",
       "<style scoped>\n",
       "    .dataframe tbody tr th:only-of-type {\n",
       "        vertical-align: middle;\n",
       "    }\n",
       "\n",
       "    .dataframe tbody tr th {\n",
       "        vertical-align: top;\n",
       "    }\n",
       "\n",
       "    .dataframe thead th {\n",
       "        text-align: right;\n",
       "    }\n",
       "</style>\n",
       "<table border=\"1\" class=\"dataframe\">\n",
       "  <thead>\n",
       "    <tr style=\"text-align: right;\">\n",
       "      <th></th>\n",
       "      <th>tags</th>\n",
       "      <th>id</th>\n",
       "      <th>plylst_title</th>\n",
       "      <th>songs</th>\n",
       "      <th>like_cnt</th>\n",
       "      <th>updt_date</th>\n",
       "    </tr>\n",
       "  </thead>\n",
       "  <tbody>\n",
       "    <tr>\n",
       "      <th>0</th>\n",
       "      <td>[락]</td>\n",
       "      <td>61281</td>\n",
       "      <td>여행같은 음악</td>\n",
       "      <td>[525514, 129701, 383374, 562083, 297861, 13954...</td>\n",
       "      <td>71</td>\n",
       "      <td>2013-12-19 18:36:19.000</td>\n",
       "    </tr>\n",
       "    <tr>\n",
       "      <th>1</th>\n",
       "      <td>[추억, 회상]</td>\n",
       "      <td>10532</td>\n",
       "      <td>요즘 너 말야</td>\n",
       "      <td>[432406, 675945, 497066, 120377, 389529, 24427...</td>\n",
       "      <td>1</td>\n",
       "      <td>2014-12-02 16:19:42.000</td>\n",
       "    </tr>\n",
       "    <tr>\n",
       "      <th>2</th>\n",
       "      <td>[까페, 잔잔한]</td>\n",
       "      <td>76951</td>\n",
       "      <td>편하게, 잔잔하게 들을 수 있는 곡.-</td>\n",
       "      <td>[83116, 276692, 166267, 186301, 354465, 256598...</td>\n",
       "      <td>17</td>\n",
       "      <td>2017-08-28 07:09:34.000</td>\n",
       "    </tr>\n",
       "    <tr>\n",
       "      <th>3</th>\n",
       "      <td>[연말, 눈오는날, 캐럴, 분위기, 따듯한, 크리스마스캐럴, 겨울노래, 크리스마스,...</td>\n",
       "      <td>147456</td>\n",
       "      <td>크리스마스 분위기에 흠뻑 취하고 싶을때</td>\n",
       "      <td>[394031, 195524, 540149, 287984, 440773, 10033...</td>\n",
       "      <td>33</td>\n",
       "      <td>2019-12-05 15:15:18.000</td>\n",
       "    </tr>\n",
       "    <tr>\n",
       "      <th>4</th>\n",
       "      <td>[댄스]</td>\n",
       "      <td>27616</td>\n",
       "      <td>추억의 노래 ㅋ</td>\n",
       "      <td>[159327, 553610, 5130, 645103, 294435, 100657,...</td>\n",
       "      <td>9</td>\n",
       "      <td>2011-10-25 13:54:56.000</td>\n",
       "    </tr>\n",
       "  </tbody>\n",
       "</table>\n",
       "</div>"
      ],
      "text/plain": [
       "                                                tags      id  \\\n",
       "0                                                [락]   61281   \n",
       "1                                           [추억, 회상]   10532   \n",
       "2                                          [까페, 잔잔한]   76951   \n",
       "3  [연말, 눈오는날, 캐럴, 분위기, 따듯한, 크리스마스캐럴, 겨울노래, 크리스마스,...  147456   \n",
       "4                                               [댄스]   27616   \n",
       "\n",
       "            plylst_title                                              songs  \\\n",
       "0                여행같은 음악  [525514, 129701, 383374, 562083, 297861, 13954...   \n",
       "1                요즘 너 말야  [432406, 675945, 497066, 120377, 389529, 24427...   \n",
       "2  편하게, 잔잔하게 들을 수 있는 곡.-  [83116, 276692, 166267, 186301, 354465, 256598...   \n",
       "3  크리스마스 분위기에 흠뻑 취하고 싶을때  [394031, 195524, 540149, 287984, 440773, 10033...   \n",
       "4               추억의 노래 ㅋ  [159327, 553610, 5130, 645103, 294435, 100657,...   \n",
       "\n",
       "   like_cnt                updt_date  \n",
       "0        71  2013-12-19 18:36:19.000  \n",
       "1         1  2014-12-02 16:19:42.000  \n",
       "2        17  2017-08-28 07:09:34.000  \n",
       "3        33  2019-12-05 15:15:18.000  \n",
       "4         9  2011-10-25 13:54:56.000  "
      ]
     },
     "execution_count": 2,
     "metadata": {},
     "output_type": "execute_result"
    }
   ],
   "source": [
    "playlist = pd.read_json('/home/ubuntu/data/json_datas/train.json')\n",
    "song_meta = pd.read_csv('/home/ubuntu/data/json_datas/song_meta.csv')\n",
    "playlist.head(5)"
   ]
  },
  {
   "cell_type": "markdown",
   "id": "71075c2f-01f8-4a8d-ba97-f3b2eacbe9c7",
   "metadata": {},
   "source": [
    "---"
   ]
  },
  {
   "cell_type": "markdown",
   "id": "8d63d8e5-a6cb-4577-a144-f41f1547bdd4",
   "metadata": {},
   "source": [
    "### 데이터 변환"
   ]
  },
  {
   "cell_type": "markdown",
   "id": "3c3bce09-8d2c-48b1-9710-cde4fb278ba4",
   "metadata": {},
   "source": [
    "- `playlists x songs` 테이블을 한번에 만들기에는 희소행렬의 크기가 너무 커서 scr 방식으로 만들어야 한다"
   ]
  },
  {
   "cell_type": "code",
   "execution_count": 3,
   "id": "77be934d-4cdd-4a3f-9a4e-70dad87ffed2",
   "metadata": {},
   "outputs": [
    {
     "name": "stderr",
     "output_type": "stream",
     "text": [
      "100%|██████████| 115071/115071 [00:00<00:00, 913822.67it/s] \n"
     ]
    }
   ],
   "source": [
    "# 각 플레이리스트 곡 수 컬럼 생성\n",
    "playlist['song_cnt'] = playlist['songs'].progress_apply(lambda x: len(x))\n",
    "\n",
    "# 플레일리스트에 포함된 모든 노래 리스트\n",
    "all_songs = list(set(chain(*playlist['songs'])))\n",
    "# 모든 노래 수\n",
    "N_songs = len(all_songs)\n",
    "\n",
    "# 0부터 시작하는 id를 노래에 새로 할당하기 위한 dict\n",
    "song_to_newid = dict(zip(all_songs, range(N_songs)))\n",
    "newid_to_song = dict( zip(range(N_songs), all_songs)) "
   ]
  },
  {
   "cell_type": "code",
   "execution_count": 4,
   "id": "8b726eb9-d580-4fac-aac1-ee450c78aa5c",
   "metadata": {},
   "outputs": [
    {
     "name": "stderr",
     "output_type": "stream",
     "text": [
      "100%|██████████| 115071/115071 [00:01<00:00, 62411.16it/s]\n"
     ]
    }
   ],
   "source": [
    "#기존 곡 id를 새 id로 바꾼 컬럼을 만든다.\n",
    "playlist['song_newid'] = playlist['songs'].progress_apply(lambda x: [song_to_newid[song] for song in x])"
   ]
  },
  {
   "cell_type": "markdown",
   "id": "523c5368-6be7-4f72-bd4e-7bf996ecbd81",
   "metadata": {},
   "source": [
    "---"
   ]
  },
  {
   "cell_type": "markdown",
   "id": "f2fec444-b4d4-4c94-b6b8-f2ca155f3076",
   "metadata": {},
   "source": [
    "**csr sparse matrix 만들기**"
   ]
  },
  {
   "cell_type": "code",
   "execution_count": 5,
   "id": "a6ab3ed2-10cf-4084-a14e-8b448185b82d",
   "metadata": {},
   "outputs": [
    {
     "data": {
      "text/plain": [
       "<115071x615142 sparse matrix of type '<class 'numpy.float64'>'\n",
       "\twith 5285871 stored elements in Compressed Sparse Row format>"
      ]
     },
     "metadata": {},
     "output_type": "display_data"
    }
   ],
   "source": [
    "row = np.repeat(range(len(playlist)), playlist['song_cnt'])\n",
    "col =  np.array(np.concatenate(playlist['song_newid']), dtype = np.int64)\n",
    "data = np.ones(col.shape[0])\n",
    "\n",
    "ply_song_table = csr_matrix((data, (row,col) ))\n",
    "display(ply_song_table)"
   ]
  },
  {
   "cell_type": "markdown",
   "id": "d67c1753-784a-42f5-b3b3-586d1bdf2913",
   "metadata": {},
   "source": [
    "- 현재 데이터는 유저의 선호도를 직접적으로 나타낸 평점 데이터가 아니라  \n",
    "  노래의 포함 여부만을 `0, 1`로 표현한 것이다."
   ]
  },
  {
   "cell_type": "markdown",
   "id": "45db6cb3-eed7-44d7-9f99-25851b5379d7",
   "metadata": {},
   "source": [
    ">implicit data 추천에 효과적인 ALS 협업 필터링 사용"
   ]
  },
  {
   "cell_type": "markdown",
   "id": "5e40d8bd-92fe-4c1f-88fd-c588314d4e1b",
   "metadata": {},
   "source": [
    "# implicit 라이브러리\n",
    "- [documentation](https://implicit.readthedocs.io/en/latest/quickstart.html)\n",
    "- [collaborative filtering implicit data](http://yifanhu.net/PUB/cf.pdf) 논문을 구현한 라이브러리\n",
    "- ALS 알고리즘 사용"
   ]
  },
  {
   "cell_type": "code",
   "execution_count": 6,
   "id": "59d78fb1",
   "metadata": {},
   "outputs": [],
   "source": [
    "from implicit.als import AlternatingLeastSquares as ALS\n"
   ]
  },
  {
   "cell_type": "code",
   "execution_count": 14,
   "id": "adc9072d-8c58-4b25-aae3-62b073f4ab4f",
   "metadata": {},
   "outputs": [
    {
     "name": "stderr",
     "output_type": "stream",
     "text": [
      "WARNING:root:OpenBLAS detected. Its highly recommend to set the environment variable 'export OPENBLAS_NUM_THREADS=1' to disable its internal multithreading\n"
     ]
    },
    {
     "data": {
      "application/vnd.jupyter.widget-view+json": {
       "model_id": "b39f331bbbdb45b48f59e1fb16fcce6b",
       "version_major": 2,
       "version_minor": 0
      },
      "text/plain": [
       "  0%|          | 0/30 [00:00<?, ?it/s]"
      ]
     },
     "metadata": {},
     "output_type": "display_data"
    }
   ],
   "source": [
    "# 모델링\n",
    "# 논문에서 가장 좋다고 한 factor 수 200 사용.\n",
    "# 데이터 크기를 고려하여 iter 수를 기본값의 두배인 30 설정.\n",
    "als_model = ALS(factors=200, regularization=0.1, iterations = 30)\n",
    "iterations=als_model.fit(ply_song_table.T * 10)"
   ]
  },
  {
   "cell_type": "markdown",
   "id": "5ed0e162-1bac-413e-896a-2c1b444448fc",
   "metadata": {},
   "source": [
    "### 샘플유저 노래 추천"
   ]
  },
  {
   "cell_type": "markdown",
   "id": "49390f60-3f9c-4b83-90f5-bbbbf1e37983",
   "metadata": {},
   "source": [
    "- 국악연주곡들을 모은 플레이리스트"
   ]
  },
  {
   "cell_type": "code",
   "execution_count": 15,
   "id": "e74bcc1f-4f91-40d3-887e-58b08914fa5b",
   "metadata": {},
   "outputs": [
    {
     "data": {
      "text/html": [
       "<div>\n",
       "<style scoped>\n",
       "    .dataframe tbody tr th:only-of-type {\n",
       "        vertical-align: middle;\n",
       "    }\n",
       "\n",
       "    .dataframe tbody tr th {\n",
       "        vertical-align: top;\n",
       "    }\n",
       "\n",
       "    .dataframe thead th {\n",
       "        text-align: right;\n",
       "    }\n",
       "</style>\n",
       "<table border=\"1\" class=\"dataframe\">\n",
       "  <thead>\n",
       "    <tr style=\"text-align: right;\">\n",
       "      <th></th>\n",
       "      <th>tags</th>\n",
       "      <th>id</th>\n",
       "      <th>plylst_title</th>\n",
       "      <th>songs</th>\n",
       "      <th>like_cnt</th>\n",
       "      <th>updt_date</th>\n",
       "      <th>song_cnt</th>\n",
       "      <th>song_newid</th>\n",
       "    </tr>\n",
       "  </thead>\n",
       "  <tbody>\n",
       "    <tr>\n",
       "      <th>92059</th>\n",
       "      <td>[키즈클래식, 7살]</td>\n",
       "      <td>17544</td>\n",
       "      <td>누구나 듣기 좋은 국악연주곡</td>\n",
       "      <td>[27990, 207564, 321177, 17134, 43421, 38063, 3...</td>\n",
       "      <td>4</td>\n",
       "      <td>2020-04-21 17:19:30.000</td>\n",
       "      <td>12</td>\n",
       "      <td>[24231, 180374, 279075, 14816, 37583, 32962, 3...</td>\n",
       "    </tr>\n",
       "  </tbody>\n",
       "</table>\n",
       "</div>"
      ],
      "text/plain": [
       "              tags     id     plylst_title  \\\n",
       "92059  [키즈클래식, 7살]  17544  누구나 듣기 좋은 국악연주곡   \n",
       "\n",
       "                                                   songs  like_cnt  \\\n",
       "92059  [27990, 207564, 321177, 17134, 43421, 38063, 3...         4   \n",
       "\n",
       "                     updt_date  song_cnt  \\\n",
       "92059  2020-04-21 17:19:30.000        12   \n",
       "\n",
       "                                              song_newid  \n",
       "92059  [24231, 180374, 279075, 14816, 37583, 32962, 3...  "
      ]
     },
     "execution_count": 15,
     "metadata": {},
     "output_type": "execute_result"
    }
   ],
   "source": [
    "playlist.iloc[[92059]]"
   ]
  },
  {
   "cell_type": "code",
   "execution_count": 16,
   "id": "8ebbeaef-c542-4632-8546-d6475ebfd722",
   "metadata": {},
   "outputs": [
    {
     "data": {
      "text/html": [
       "<div>\n",
       "<style scoped>\n",
       "    .dataframe tbody tr th:only-of-type {\n",
       "        vertical-align: middle;\n",
       "    }\n",
       "\n",
       "    .dataframe tbody tr th {\n",
       "        vertical-align: top;\n",
       "    }\n",
       "\n",
       "    .dataframe thead th {\n",
       "        text-align: right;\n",
       "    }\n",
       "</style>\n",
       "<table border=\"1\" class=\"dataframe\">\n",
       "  <thead>\n",
       "    <tr style=\"text-align: right;\">\n",
       "      <th></th>\n",
       "      <th>song_name</th>\n",
       "      <th>artist_name_basket</th>\n",
       "    </tr>\n",
       "  </thead>\n",
       "  <tbody>\n",
       "    <tr>\n",
       "      <th>27990</th>\n",
       "      <td>은하수를 보던 날</td>\n",
       "      <td>['그림 (The 林)']</td>\n",
       "    </tr>\n",
       "    <tr>\n",
       "      <th>207564</th>\n",
       "      <td>수선화</td>\n",
       "      <td>['꽃별']</td>\n",
       "    </tr>\n",
       "    <tr>\n",
       "      <th>321177</th>\n",
       "      <td>달빛이 하늘로</td>\n",
       "      <td>['그림 (The 林)']</td>\n",
       "    </tr>\n",
       "    <tr>\n",
       "      <th>17134</th>\n",
       "      <td>아름드리</td>\n",
       "      <td>['아름드리']</td>\n",
       "    </tr>\n",
       "    <tr>\n",
       "      <th>43421</th>\n",
       "      <td>얼음연못</td>\n",
       "      <td>['안진성']</td>\n",
       "    </tr>\n",
       "    <tr>\n",
       "      <th>38063</th>\n",
       "      <td>파랑새 (L`Oiseau Bleu)</td>\n",
       "      <td>['거문고 팩토리']</td>\n",
       "    </tr>\n",
       "    <tr>\n",
       "      <th>345973</th>\n",
       "      <td>가시리</td>\n",
       "      <td>['정겨운']</td>\n",
       "    </tr>\n",
       "    <tr>\n",
       "      <th>16222</th>\n",
       "      <td>Sebastian (Remastered)</td>\n",
       "      <td>['한혜진']</td>\n",
       "    </tr>\n",
       "    <tr>\n",
       "      <th>29083</th>\n",
       "      <td>일렁이는 마음</td>\n",
       "      <td>['꽃별']</td>\n",
       "    </tr>\n",
       "    <tr>\n",
       "      <th>59638</th>\n",
       "      <td>Melancholic Sunset</td>\n",
       "      <td>['이세미']</td>\n",
       "    </tr>\n",
       "    <tr>\n",
       "      <th>182854</th>\n",
       "      <td>밤이 찾아오면</td>\n",
       "      <td>['해금살롱']</td>\n",
       "    </tr>\n",
       "    <tr>\n",
       "      <th>173147</th>\n",
       "      <td>Dancing Sanjo 2 (댄싱산조 2)</td>\n",
       "      <td>['임준희']</td>\n",
       "    </tr>\n",
       "  </tbody>\n",
       "</table>\n",
       "</div>"
      ],
      "text/plain": [
       "                       song_name artist_name_basket\n",
       "27990                  은하수를 보던 날     ['그림 (The 林)']\n",
       "207564                       수선화             ['꽃별']\n",
       "321177                   달빛이 하늘로     ['그림 (The 林)']\n",
       "17134                       아름드리           ['아름드리']\n",
       "43421                       얼음연못            ['안진성']\n",
       "38063        파랑새 (L`Oiseau Bleu)        ['거문고 팩토리']\n",
       "345973                       가시리            ['정겨운']\n",
       "16222     Sebastian (Remastered)            ['한혜진']\n",
       "29083                    일렁이는 마음             ['꽃별']\n",
       "59638         Melancholic Sunset            ['이세미']\n",
       "182854                   밤이 찾아오면           ['해금살롱']\n",
       "173147  Dancing Sanjo 2 (댄싱산조 2)            ['임준희']"
      ]
     },
     "execution_count": 16,
     "metadata": {},
     "output_type": "execute_result"
    }
   ],
   "source": [
    "# 플레이리스트 수록곡\n",
    "song_meta.iloc[playlist.iloc[92059]['songs']][['song_name','artist_name_basket']]"
   ]
  },
  {
   "cell_type": "markdown",
   "id": "ff9b45d7",
   "metadata": {},
   "source": [
    "샘플 플레이리스트는 국악 연주곡을 모아 놓은 플레이리스트이다."
   ]
  },
  {
   "cell_type": "code",
   "execution_count": 18,
   "id": "133556cf-3532-4ba5-85af-a15806dacd4b",
   "metadata": {},
   "outputs": [
    {
     "name": "stdout",
     "output_type": "stream",
     "text": [
      "CPU times: user 146 ms, sys: 52.8 ms, total: 199 ms\n",
      "Wall time: 25.7 ms\n"
     ]
    },
    {
     "data": {
      "text/html": [
       "<div>\n",
       "<style scoped>\n",
       "    .dataframe tbody tr th:only-of-type {\n",
       "        vertical-align: middle;\n",
       "    }\n",
       "\n",
       "    .dataframe tbody tr th {\n",
       "        vertical-align: top;\n",
       "    }\n",
       "\n",
       "    .dataframe thead th {\n",
       "        text-align: right;\n",
       "    }\n",
       "</style>\n",
       "<table border=\"1\" class=\"dataframe\">\n",
       "  <thead>\n",
       "    <tr style=\"text-align: right;\">\n",
       "      <th></th>\n",
       "      <th>song_name</th>\n",
       "      <th>artist_name_basket</th>\n",
       "    </tr>\n",
       "  </thead>\n",
       "  <tbody>\n",
       "    <tr>\n",
       "      <th>250323</th>\n",
       "      <td>비익련리</td>\n",
       "      <td>['꽃별']</td>\n",
       "    </tr>\n",
       "    <tr>\n",
       "      <th>233468</th>\n",
       "      <td>꽃날</td>\n",
       "      <td>['Various Artists']</td>\n",
       "    </tr>\n",
       "    <tr>\n",
       "      <th>642526</th>\n",
       "      <td>얼음연못</td>\n",
       "      <td>['두번째달']</td>\n",
       "    </tr>\n",
       "    <tr>\n",
       "      <th>596419</th>\n",
       "      <td>달빛의 노래</td>\n",
       "      <td>['Various Artists']</td>\n",
       "    </tr>\n",
       "    <tr>\n",
       "      <th>649727</th>\n",
       "      <td>프롤로그 - 먼길</td>\n",
       "      <td>['이병우']</td>\n",
       "    </tr>\n",
       "    <tr>\n",
       "      <th>319820</th>\n",
       "      <td>인연</td>\n",
       "      <td>['이선희']</td>\n",
       "    </tr>\n",
       "    <tr>\n",
       "      <th>83704</th>\n",
       "      <td>은월각</td>\n",
       "      <td>['Various Artists']</td>\n",
       "    </tr>\n",
       "    <tr>\n",
       "      <th>277019</th>\n",
       "      <td>꽃물</td>\n",
       "      <td>['Various Artists']</td>\n",
       "    </tr>\n",
       "    <tr>\n",
       "      <th>421581</th>\n",
       "      <td>그대에게 가 닿으리</td>\n",
       "      <td>['Various Artists']</td>\n",
       "    </tr>\n",
       "    <tr>\n",
       "      <th>494720</th>\n",
       "      <td>엉퀴바람</td>\n",
       "      <td>['Various Artists']</td>\n",
       "    </tr>\n",
       "    <tr>\n",
       "      <th>615157</th>\n",
       "      <td>돌이킬 수 없는 걸음</td>\n",
       "      <td>['이병우']</td>\n",
       "    </tr>\n",
       "    <tr>\n",
       "      <th>514704</th>\n",
       "      <td>별후광음(別後光陰)</td>\n",
       "      <td>['두번째달']</td>\n",
       "    </tr>\n",
       "    <tr>\n",
       "      <th>662008</th>\n",
       "      <td>宮 (궁)</td>\n",
       "      <td>['두번째달']</td>\n",
       "    </tr>\n",
       "    <tr>\n",
       "      <th>145369</th>\n",
       "      <td>첫사랑</td>\n",
       "      <td>['Hisaishi Joe']</td>\n",
       "    </tr>\n",
       "    <tr>\n",
       "      <th>569225</th>\n",
       "      <td>해를 품은 달</td>\n",
       "      <td>['Various Artists']</td>\n",
       "    </tr>\n",
       "  </tbody>\n",
       "</table>\n",
       "</div>"
      ],
      "text/plain": [
       "          song_name   artist_name_basket\n",
       "250323         비익련리               ['꽃별']\n",
       "233468           꽃날  ['Various Artists']\n",
       "642526         얼음연못             ['두번째달']\n",
       "596419       달빛의 노래  ['Various Artists']\n",
       "649727    프롤로그 - 먼길              ['이병우']\n",
       "319820           인연              ['이선희']\n",
       "83704           은월각  ['Various Artists']\n",
       "277019           꽃물  ['Various Artists']\n",
       "421581   그대에게 가 닿으리  ['Various Artists']\n",
       "494720         엉퀴바람  ['Various Artists']\n",
       "615157  돌이킬 수 없는 걸음              ['이병우']\n",
       "514704   별후광음(別後光陰)             ['두번째달']\n",
       "662008        宮 (궁)             ['두번째달']\n",
       "145369          첫사랑     ['Hisaishi Joe']\n",
       "569225      해를 품은 달  ['Various Artists']"
      ]
     },
     "execution_count": 18,
     "metadata": {},
     "output_type": "execute_result"
    }
   ],
   "source": [
    "%%time\n",
    "playlist_id = 92059\n",
    "rec_songs = als_model.recommend(playlist_id, ply_song_table, N = 15)\n",
    "# 추천 받은 노래 확인하기\n",
    "rec_songs_list = [x for x, _ in rec_songs]\n",
    "song_meta.iloc[ [newid_to_song[x]  for x in rec_songs_list] ][['song_name','artist_name_basket']]"
   ]
  },
  {
   "cell_type": "markdown",
   "id": "17a6ca71-3814-4df8-88da-686bcd163f89",
   "metadata": {},
   "source": [
    "-  추천 예측 결과 사극ost 등 동양풍 연주곡 위주의 결과를 확인할 수 있다."
   ]
  },
  {
   "cell_type": "markdown",
   "id": "30b69a6f-619b-4f30-98cd-0026cbc2e06b",
   "metadata": {},
   "source": [
    "---"
   ]
  },
  {
   "cell_type": "markdown",
   "id": "7a440a20-e20f-42f8-9771-1f39a4ba90db",
   "metadata": {},
   "source": [
    "# 평가\n",
    "\n",
    "## 평가지표\n",
    "### hit rate  \n",
    "  - 30곡을 추천하여 일치한 노래가 하나라도 있을 경우 `1`, 아닌경우 `0`으로 한다.\n",
    "\n",
    "### Precision\n",
    "  -  `적중한 곡 수 / 추천한 곡 수` \n",
    "### recall\n",
    "  -  `적중한 곡 수 / 테스트 곡 수`"
   ]
  },
  {
   "cell_type": "markdown",
   "id": "2c973c1f-f594-4965-a0a0-95d8f041054d",
   "metadata": {},
   "source": [
    "### 평가 방식\n",
    "- 플레이리스트 중 일부에서 곡의 절반을 숨기고 ALS 행렬분해 적용\n",
    "- ALS 결과 테이블에서 점수가 높은 곡들과 숨긴 원본 곡을 비교하여 평가 "
   ]
  },
  {
   "cell_type": "code",
   "execution_count": 23,
   "id": "1093e596",
   "metadata": {},
   "outputs": [],
   "source": [
    "def hit_rate(rec, answer):\n",
    "    s1 = set(rec) \n",
    "    s2 = set(answer)\n",
    "    if len(s1 & s2) >= 1:\n",
    "        return 1\n",
    "    else:\n",
    "        return 0\n",
    "\n",
    "def precision(rec, answer):\n",
    "    s1 = set(rec)\n",
    "    s2 = set(answer)\n",
    "    return len(( s1 & s2 )) / len(rec)\n",
    "\n",
    "def recall(rec, answer):\n",
    "    s1 = set(rec)\n",
    "    s2 = set(answer)\n",
    "    return len(( s1 & s2 )) / len(answer)"
   ]
  },
  {
   "cell_type": "markdown",
   "id": "64827688",
   "metadata": {},
   "source": [
    "## 테스트 데이터"
   ]
  },
  {
   "cell_type": "code",
   "execution_count": 8,
   "id": "b966f90b-6577-45eb-8390-0154c5ff438b",
   "metadata": {},
   "outputs": [
    {
     "name": "stderr",
     "output_type": "stream",
     "text": [
      "100%|██████████| 115071/115071 [00:00<00:00, 179102.97it/s]\n",
      "100%|██████████| 115071/115071 [00:00<00:00, 159697.45it/s]\n"
     ]
    }
   ],
   "source": [
    "# 노래의 절반을 없앤 컬럼 추가\n",
    "playlist['song_train'] = playlist['song_newid'].progress_apply(lambda x : x[:(len(x)//2)])\n",
    "playlist['song_test'] = playlist['song_newid'].progress_apply(lambda x : x[(len(x)//2):])"
   ]
  },
  {
   "cell_type": "code",
   "execution_count": 9,
   "id": "c06eb9bf",
   "metadata": {},
   "outputs": [],
   "source": [
    "# train test 인덱스 분리\n",
    "train_df, test_df = train_test_split(playlist, test_size = 0.1, shuffle = True)"
   ]
  },
  {
   "cell_type": "markdown",
   "id": "612ed05f",
   "metadata": {},
   "source": [
    "train / test를 분리하더라도 협업테이블을 적용할 테이블의 전체 유저수는 유지되어야 한다. (헙업필터링은 존재하는 유저에 대해서만 추천 가능함)  \n",
    "`train_df` idx를 가진 플레이리스트는 원본 곡 리스트,  \n",
    "`test_df` idx를 가진 플레이리스트는 원본 곡의 절반만을 제공한다.  "
   ]
  },
  {
   "cell_type": "code",
   "execution_count": 10,
   "id": "5d9eb381",
   "metadata": {},
   "outputs": [],
   "source": [
    "\n",
    "train_final = pd.DataFrame(train_df['song_newid'].append(test_df['song_train']), columns = ['song_newid'])\n",
    "train_final['song_cnt'] = train_final['song_newid'].map(lambda x : len(x))\n",
    "all_train_songs = list(set(chain(*train_final['song_newid'])))\n",
    "n_songs = len(all_songs)"
   ]
  },
  {
   "cell_type": "code",
   "execution_count": 11,
   "id": "06c0cf00",
   "metadata": {},
   "outputs": [],
   "source": [
    "# 섞인 인덱스 정렬\n",
    "train_final = train_final.sort_index()"
   ]
  },
  {
   "cell_type": "code",
   "execution_count": 12,
   "id": "bf6f9d73",
   "metadata": {},
   "outputs": [],
   "source": [
    "# 검증용 테이블로 희소행렬 생성\n",
    "\n",
    "row = np.repeat(range(len(train_final)), train_final['song_cnt'])\n",
    "col =  np.array(np.concatenate(train_final['song_newid']), dtype = np.int64)\n",
    "data = np.ones(col.shape[0])\n",
    "\n",
    "train_ply_song_table = csr_matrix((data, (row,col)))"
   ]
  },
  {
   "cell_type": "code",
   "execution_count": 16,
   "id": "cb0c0bc6",
   "metadata": {},
   "outputs": [
    {
     "data": {
      "application/vnd.jupyter.widget-view+json": {
       "model_id": "c012e9f29fef4cb5bd8d6f00c08af2e2",
       "version_major": 2,
       "version_minor": 0
      },
      "text/plain": [
       "  0%|          | 0/15 [00:00<?, ?it/s]"
      ]
     },
     "metadata": {},
     "output_type": "display_data"
    }
   ],
   "source": [
    "# 검증용 테이블로 ALS 협업필터링 수행\n",
    "\n",
    "from implicit.als import AlternatingLeastSquares as ALS\n",
    "als_model = ALS(factors=200, regularization=0.1 ) # 잠재요인 수 200\n",
    "als_model.fit(train_ply_song_table.T * 40)"
   ]
  },
  {
   "cell_type": "markdown",
   "id": "43cdd92b",
   "metadata": {},
   "source": [
    "test_df idx를 가진 플레이리스트들의 30곡 추천을 받고  \n",
    "감추었던 실제 곡 리스트와 비교한다."
   ]
  },
  {
   "cell_type": "code",
   "execution_count": 17,
   "id": "40447a98",
   "metadata": {},
   "outputs": [
    {
     "name": "stderr",
     "output_type": "stream",
     "text": [
      "100%|██████████| 11508/11508 [04:09<00:00, 46.07it/s]\n"
     ]
    }
   ],
   "source": [
    "# test index 모음\n",
    "test_index_list = test_df.index\n",
    "answer_list = test_df['song_test'].tolist()\n",
    "\n",
    "#예측하기.\n",
    "rec_list = []\n",
    "for playlist_id in tqdm(test_index_list):\n",
    "    rec_songs = als_model.recommend(playlist_id, train_ply_song_table, N = 30)\n",
    "    rec_songs_list = [x for x, _ in rec_songs]\n",
    "    rec_list.append(rec_songs_list)"
   ]
  },
  {
   "cell_type": "code",
   "execution_count": 25,
   "id": "5cfb48b5",
   "metadata": {},
   "outputs": [
    {
     "name": "stderr",
     "output_type": "stream",
     "text": [
      "100%|██████████| 11508/11508 [00:00<00:00, 70036.32it/s]"
     ]
    },
    {
     "name": "stdout",
     "output_type": "stream",
     "text": [
      "hit rate\n",
      "0.5768161279110184\n",
      "precision\n",
      "0.08218630517900793\n",
      "recall\n",
      "0.11625493731902184\n"
     ]
    },
    {
     "name": "stderr",
     "output_type": "stream",
     "text": [
      "\n"
     ]
    }
   ],
   "source": [
    "hit_rate_ = 0\n",
    "precision_ = 0\n",
    "recall_ = 0\n",
    "for rec, answer in tqdm(zip(rec_list, answer_list), total = len(test_index_list)):\n",
    "    hit_rate_ += hit_rate(rec, answer)\n",
    "    precision_ += precision(rec, answer)\n",
    "    recall_ += recall(rec, answer)\n",
    "    \n",
    "print('hit rate')\n",
    "print(hit_rate_/len(test_index_list))\n",
    "\n",
    "print('precision')\n",
    "print(precision_/len(test_index_list))\n",
    "\n",
    "print('recall')\n",
    "print(recall_/len(test_index_list))\n"
   ]
  },
  {
   "cell_type": "markdown",
   "id": "cf902acf",
   "metadata": {},
   "source": [
    "### 무작위 유저의 곡 추천 예측 확인"
   ]
  },
  {
   "cell_type": "code",
   "execution_count": 22,
   "id": "a37cc1d0",
   "metadata": {},
   "outputs": [
    {
     "data": {
      "text/plain": [
       "'원래 가진 노래'"
      ]
     },
     "metadata": {},
     "output_type": "display_data"
    },
    {
     "data": {
      "text/html": [
       "<div>\n",
       "<style scoped>\n",
       "    .dataframe tbody tr th:only-of-type {\n",
       "        vertical-align: middle;\n",
       "    }\n",
       "\n",
       "    .dataframe tbody tr th {\n",
       "        vertical-align: top;\n",
       "    }\n",
       "\n",
       "    .dataframe thead th {\n",
       "        text-align: right;\n",
       "    }\n",
       "</style>\n",
       "<table border=\"1\" class=\"dataframe\">\n",
       "  <thead>\n",
       "    <tr style=\"text-align: right;\">\n",
       "      <th></th>\n",
       "      <th>song_name</th>\n",
       "      <th>artist_name_basket</th>\n",
       "    </tr>\n",
       "  </thead>\n",
       "  <tbody>\n",
       "    <tr>\n",
       "      <th>456581</th>\n",
       "      <td>너의 곁으로</td>\n",
       "      <td>['조성모']</td>\n",
       "    </tr>\n",
       "    <tr>\n",
       "      <th>464364</th>\n",
       "      <td>I`m Your Girl</td>\n",
       "      <td>['S.E.S.']</td>\n",
       "    </tr>\n",
       "    <tr>\n",
       "      <th>300973</th>\n",
       "      <td>행복한 나를</td>\n",
       "      <td>['에코']</td>\n",
       "    </tr>\n",
       "    <tr>\n",
       "      <th>347914</th>\n",
       "      <td>대한건아 만세</td>\n",
       "      <td>['엔알지 (NRG)']</td>\n",
       "    </tr>\n",
       "    <tr>\n",
       "      <th>614240</th>\n",
       "      <td>편지할께요</td>\n",
       "      <td>['박정현']</td>\n",
       "    </tr>\n",
       "    <tr>\n",
       "      <th>369929</th>\n",
       "      <td>남자답게</td>\n",
       "      <td>['플라이 투 더 스카이']</td>\n",
       "    </tr>\n",
       "    <tr>\n",
       "      <th>118239</th>\n",
       "      <td>애송이</td>\n",
       "      <td>['렉시']</td>\n",
       "    </tr>\n",
       "    <tr>\n",
       "      <th>7670</th>\n",
       "      <td>비상</td>\n",
       "      <td>['KYT (코요태)']</td>\n",
       "    </tr>\n",
       "    <tr>\n",
       "      <th>168738</th>\n",
       "      <td>디스코왕</td>\n",
       "      <td>['KYT (코요태)']</td>\n",
       "    </tr>\n",
       "    <tr>\n",
       "      <th>428063</th>\n",
       "      <td>불꽃</td>\n",
       "      <td>['KYT (코요태)']</td>\n",
       "    </tr>\n",
       "    <tr>\n",
       "      <th>264162</th>\n",
       "      <td>To Heaven</td>\n",
       "      <td>['조성모']</td>\n",
       "    </tr>\n",
       "    <tr>\n",
       "      <th>246057</th>\n",
       "      <td>Hey, Come on!</td>\n",
       "      <td>['신화']</td>\n",
       "    </tr>\n",
       "    <tr>\n",
       "      <th>505571</th>\n",
       "      <td>Missing You</td>\n",
       "      <td>['플라이 투 더 스카이']</td>\n",
       "    </tr>\n",
       "    <tr>\n",
       "      <th>420730</th>\n",
       "      <td>흔들린 우정</td>\n",
       "      <td>['홍경민']</td>\n",
       "    </tr>\n",
       "    <tr>\n",
       "      <th>222763</th>\n",
       "      <td>I Love You</td>\n",
       "      <td>['포지션']</td>\n",
       "    </tr>\n",
       "  </tbody>\n",
       "</table>\n",
       "</div>"
      ],
      "text/plain": [
       "            song_name artist_name_basket\n",
       "456581         너의 곁으로            ['조성모']\n",
       "464364  I`m Your Girl         ['S.E.S.']\n",
       "300973         행복한 나를             ['에코']\n",
       "347914        대한건아 만세      ['엔알지 (NRG)']\n",
       "614240          편지할께요            ['박정현']\n",
       "369929           남자답게    ['플라이 투 더 스카이']\n",
       "118239            애송이             ['렉시']\n",
       "7670               비상      ['KYT (코요태)']\n",
       "168738           디스코왕      ['KYT (코요태)']\n",
       "428063             불꽃      ['KYT (코요태)']\n",
       "264162      To Heaven            ['조성모']\n",
       "246057  Hey, Come on!             ['신화']\n",
       "505571    Missing You    ['플라이 투 더 스카이']\n",
       "420730         흔들린 우정            ['홍경민']\n",
       "222763     I Love You            ['포지션']"
      ]
     },
     "metadata": {},
     "output_type": "display_data"
    },
    {
     "data": {
      "text/plain": [
       "'추천된 노래'"
      ]
     },
     "metadata": {},
     "output_type": "display_data"
    },
    {
     "data": {
      "text/html": [
       "<div>\n",
       "<style scoped>\n",
       "    .dataframe tbody tr th:only-of-type {\n",
       "        vertical-align: middle;\n",
       "    }\n",
       "\n",
       "    .dataframe tbody tr th {\n",
       "        vertical-align: top;\n",
       "    }\n",
       "\n",
       "    .dataframe thead th {\n",
       "        text-align: right;\n",
       "    }\n",
       "</style>\n",
       "<table border=\"1\" class=\"dataframe\">\n",
       "  <thead>\n",
       "    <tr style=\"text-align: right;\">\n",
       "      <th></th>\n",
       "      <th>song_name</th>\n",
       "      <th>artist_name_basket</th>\n",
       "    </tr>\n",
       "  </thead>\n",
       "  <tbody>\n",
       "    <tr>\n",
       "      <th>564916</th>\n",
       "      <td>영원한 사랑</td>\n",
       "      <td>['핑클 (Fin.K.L)']</td>\n",
       "    </tr>\n",
       "    <tr>\n",
       "      <th>231154</th>\n",
       "      <td>사나이 가는 길 (폼생폼사)</td>\n",
       "      <td>['젝스키스']</td>\n",
       "    </tr>\n",
       "    <tr>\n",
       "      <th>284179</th>\n",
       "      <td>Candy</td>\n",
       "      <td>['H.O.T.']</td>\n",
       "    </tr>\n",
       "    <tr>\n",
       "      <th>672639</th>\n",
       "      <td>(`Cause) I`m Your Girl</td>\n",
       "      <td>['S.E.S.']</td>\n",
       "    </tr>\n",
       "    <tr>\n",
       "      <th>308189</th>\n",
       "      <td>너를 사랑해</td>\n",
       "      <td>['S.E.S.']</td>\n",
       "    </tr>\n",
       "    <tr>\n",
       "      <th>644788</th>\n",
       "      <td>Friday Night</td>\n",
       "      <td>['god']</td>\n",
       "    </tr>\n",
       "    <tr>\n",
       "      <th>550126</th>\n",
       "      <td>니가 있어야 할 곳</td>\n",
       "      <td>['god']</td>\n",
       "    </tr>\n",
       "    <tr>\n",
       "      <th>310375</th>\n",
       "      <td>행복</td>\n",
       "      <td>['H.O.T.']</td>\n",
       "    </tr>\n",
       "    <tr>\n",
       "      <th>455304</th>\n",
       "      <td>캔디 (Candy)</td>\n",
       "      <td>['H.O.T.']</td>\n",
       "    </tr>\n",
       "    <tr>\n",
       "      <th>158153</th>\n",
       "      <td>커플</td>\n",
       "      <td>['젝스키스']</td>\n",
       "    </tr>\n",
       "    <tr>\n",
       "      <th>420005</th>\n",
       "      <td>멍</td>\n",
       "      <td>['김현정']</td>\n",
       "    </tr>\n",
       "    <tr>\n",
       "      <th>684625</th>\n",
       "      <td>Dreams Come True</td>\n",
       "      <td>['S.E.S.']</td>\n",
       "    </tr>\n",
       "    <tr>\n",
       "      <th>255453</th>\n",
       "      <td>사랑해 그리고 기억해</td>\n",
       "      <td>['god']</td>\n",
       "    </tr>\n",
       "    <tr>\n",
       "      <th>470374</th>\n",
       "      <td>빛 (Hope)</td>\n",
       "      <td>['H.O.T.']</td>\n",
       "    </tr>\n",
       "    <tr>\n",
       "      <th>464364</th>\n",
       "      <td>I`m Your Girl</td>\n",
       "      <td>['S.E.S.']</td>\n",
       "    </tr>\n",
       "  </tbody>\n",
       "</table>\n",
       "</div>"
      ],
      "text/plain": [
       "                     song_name artist_name_basket\n",
       "564916                  영원한 사랑   ['핑클 (Fin.K.L)']\n",
       "231154         사나이 가는 길 (폼생폼사)           ['젝스키스']\n",
       "284179                   Candy         ['H.O.T.']\n",
       "672639  (`Cause) I`m Your Girl         ['S.E.S.']\n",
       "308189                  너를 사랑해         ['S.E.S.']\n",
       "644788            Friday Night            ['god']\n",
       "550126              니가 있어야 할 곳            ['god']\n",
       "310375                      행복         ['H.O.T.']\n",
       "455304              캔디 (Candy)         ['H.O.T.']\n",
       "158153                      커플           ['젝스키스']\n",
       "420005                       멍            ['김현정']\n",
       "684625        Dreams Come True         ['S.E.S.']\n",
       "255453             사랑해 그리고 기억해            ['god']\n",
       "470374                빛 (Hope)         ['H.O.T.']\n",
       "464364           I`m Your Girl         ['S.E.S.']"
      ]
     },
     "metadata": {},
     "output_type": "display_data"
    }
   ],
   "source": [
    "sample_user = random.sample(list(test_index_list), 1)[0]\n",
    "sample_user_test = playlist.iloc[sample_user]['song_test']\n",
    "sample_user_rec = als_model.recommend(sample_user, train_ply_song_table, N = 30)\n",
    "sample_user_rec = [x for x, _ in sample_user_rec]\n",
    "display(\"원래 가진 노래\", song_meta.iloc[ [newid_to_song[x]  for x in sample_user_test] ][['song_name','artist_name_basket']][:15])\n",
    "display(\"추천된 노래\", song_meta.iloc[ [newid_to_song[x]  for x in sample_user_rec] ][['song_name','artist_name_basket']][:15])"
   ]
  },
  {
   "cell_type": "markdown",
   "id": "b2341765",
   "metadata": {},
   "source": [
    ">**평가 지표상 점수는 굉장히 낮지만 원본 플레이리스트의 곡들과 유사한 곡들이 추천되는 것을 확인 할 수 있었다.**"
   ]
  }
 ],
 "metadata": {
  "kernelspec": {
   "display_name": "Python 3",
   "language": "python",
   "name": "python3"
  },
  "language_info": {
   "codemirror_mode": {
    "name": "ipython",
    "version": 3
   },
   "file_extension": ".py",
   "mimetype": "text/x-python",
   "name": "python",
   "nbconvert_exporter": "python",
   "pygments_lexer": "ipython3",
   "version": "3.8.11"
  }
 },
 "nbformat": 4,
 "nbformat_minor": 5
}
