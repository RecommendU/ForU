{
 "cells": [
  {
   "cell_type": "code",
   "execution_count": 101,
   "id": "31ba9984-b678-41ca-9568-d6fae5abbebe",
   "metadata": {},
   "outputs": [],
   "source": [
    "import pandas as pd\n",
    "import numpy as np\n",
    "from sklearn.cluster import KMeans\n",
    "from sklearn.metrics import pairwise_distances_argmin_min\n",
    "from sklearn.decomposition import PCA\n",
    "import matplotlib.pyplot as plt"
   ]
  },
  {
   "cell_type": "code",
   "execution_count": 114,
   "id": "3966fcfb-c7bc-4ee3-b6f0-532e47cc447c",
   "metadata": {},
   "outputs": [],
   "source": [
    "# 가수_장르_df.ipynb 파일 결과 csv\n",
    "artist_gnr = pd.read_csv('data/artist_gnr_df.csv', index_col = 0)\n",
    "\n",
    "#가수_w2v.ipynb 파일 결과 csv\n",
    "artist_w2v_df = pd.read_csv('data/artist_w2v_df.csv', index_col = 0)"
   ]
  },
  {
   "cell_type": "code",
   "execution_count": 103,
   "id": "6cb28514-e2ae-4259-b68b-dd8fa55b732a",
   "metadata": {},
   "outputs": [],
   "source": [
    "#gn2500의 top100 가수들.\n",
    "gn2500_top100 = artist_gnr.sort_values(by = 'gn2500', ascending = False).head(100)"
   ]
  },
  {
   "cell_type": "code",
   "execution_count": 104,
   "id": "0e7775fe-41bd-460d-b906-4b9a98649f3b",
   "metadata": {},
   "outputs": [
    {
     "data": {
      "text/plain": [
       "Index(['EXO', '동방신기 (TVXQ!)', 'SHINee (샤이니)', '신화', '소녀시대 (GIRLS` GENERATION)',\n",
       "       'FTISLAND (FT아일랜드)', '방탄소년단', '인피니트', 'BIGBANG', '보아 (BoA)', '티아라',\n",
       "       'god', '브라운아이드걸스', 'GOT7 (갓세븐)', 'VIXX (빅스)', '러블리즈', '젝스키스', '비투비',\n",
       "       '마마무 (Mamamoo)', 'Apink (에이핑크)', '틴탑', 'Red Velvet (레드벨벳)', 'H.O.T.',\n",
       "       '걸스데이', 'CNBLUE (씨엔블루)', 'S.E.S.', 'TWICE (트와이스)', '카라', '태연 (TAEYEON)',\n",
       "       '몬스타엑스', '비스트', '여자친구 (GFRIEND)', '세븐틴', '핑클 (Fin.K.L)', 'B1A4', 'f(x)',\n",
       "       'NCT 127', 'DAY6 (데이식스)', '서태지와 아이들', 'XIA (준수)', '원더걸스', '씨스타',\n",
       "       '블락비 (Block B)', 'B.A.P', '엠블랙', '4minute', '베이비 복스', '오마이걸',\n",
       "       '클릭비 (Click-B)', 'EXID', 'DIA (다이아)', '라비(RAVI)', '우주소녀', 'SS501',\n",
       "       '쥬얼리', 'AOA', '제국의아이들 (ZE:A)', 'G-DRAGON', '보이프렌드', '라붐 (LABOUM)',\n",
       "       'Stray Kids (스트레이 키즈)', '펜타곤', '원타임', '뉴이스트', 'WINNER', '에이프릴 (APRIL)',\n",
       "       '종현 (JONGHYUN)', '아스트로 (ASTRO)', '태양', '미쓰에이', 'CLC', '효린', '애프터스쿨',\n",
       "       '나인뮤지스', '이달의 소녀', '업텐션 (UP10TION)', '태민 (TAEMIN)', '2NE1', '달샤벳',\n",
       "       '시크릿', '가인', 'SF9', '드림캐쳐', '레인보우', '오렌지 캬라멜', '엔플라잉 (N.Flying)',\n",
       "       'iKON', '헬로비너스', 'JYJ', '더보이즈 (THE BOYZ)', '현아', '샤크라', '양요섭',\n",
       "       '루나 (LUNA)', '청하', '김성규', '정은지', 'Wanna One (워너원)', '베리굿 (BerryGood)',\n",
       "       'JTL'],\n",
       "      dtype='object')"
      ]
     },
     "execution_count": 104,
     "metadata": {},
     "output_type": "execute_result"
    }
   ],
   "source": [
    "gn2500_top100.index"
   ]
  },
  {
   "cell_type": "code",
   "execution_count": 105,
   "id": "4c6028e9-48ea-4e40-be0d-30c48322afd2",
   "metadata": {},
   "outputs": [],
   "source": [
    "#gn2500 top100 가수들의 벡터를 가져온다.\n",
    "gn2500_top100_df = artist_w2v_df.loc[gn2500_top100.index]"
   ]
  },
  {
   "cell_type": "code",
   "execution_count": 106,
   "id": "4855cf6f-453b-4e5d-a4f4-11f84564c9b3",
   "metadata": {},
   "outputs": [],
   "source": [
    "kmeans = KMeans(n_clusters=6)"
   ]
  },
  {
   "cell_type": "code",
   "execution_count": 107,
   "id": "3678c746-af50-4f55-916a-6d50c5ea5e4b",
   "metadata": {},
   "outputs": [
    {
     "data": {
      "text/plain": [
       "KMeans(n_clusters=6)"
      ]
     },
     "execution_count": 107,
     "metadata": {},
     "output_type": "execute_result"
    }
   ],
   "source": [
    "kmeans.fit(gn2500_top100_df)"
   ]
  },
  {
   "cell_type": "code",
   "execution_count": 108,
   "id": "e04c20b7-fb8c-4e3f-a394-eea7bbbf7339",
   "metadata": {},
   "outputs": [
    {
     "data": {
      "text/plain": [
       "array([0, 0, 0, 5, 4, 0, 0, 0, 0, 0, 4, 1, 4, 3, 0, 3, 1, 0, 0, 4, 4, 3,\n",
       "       5, 4, 0, 5, 3, 4, 0, 3, 0, 3, 3, 1, 0, 4, 3, 3, 5, 0, 4, 4, 0, 0,\n",
       "       4, 4, 5, 3, 1, 0, 3, 3, 3, 4, 4, 4, 4, 0, 3, 3, 3, 3, 5, 2, 0, 2,\n",
       "       0, 3, 0, 4, 3, 0, 4, 4, 3, 3, 0, 4, 4, 4, 0, 3, 3, 4, 4, 3, 0, 4,\n",
       "       0, 2, 4, 1, 0, 0, 3, 0, 0, 3, 2, 5])"
      ]
     },
     "execution_count": 108,
     "metadata": {},
     "output_type": "execute_result"
    }
   ],
   "source": [
    "#군집 결과\n",
    "kmeans.labels_"
   ]
  },
  {
   "cell_type": "code",
   "execution_count": 109,
   "id": "0b3a44d5-7cf4-4cdc-b3b9-7c2df8fa5ba6",
   "metadata": {},
   "outputs": [],
   "source": [
    "# 각 군집 중심과 가장 가까운 벡터 계산\n",
    "closest, _ = pairwise_distances_argmin_min(kmeans.cluster_centers_, gn2500_top100_df)"
   ]
  },
  {
   "cell_type": "code",
   "execution_count": 110,
   "id": "65f20ce3-55e7-4219-ad31-96f078b9d543",
   "metadata": {},
   "outputs": [
    {
     "data": {
      "text/plain": [
       "array([ 2, 16, 65, 47, 69, 22], dtype=int64)"
      ]
     },
     "execution_count": 110,
     "metadata": {},
     "output_type": "execute_result"
    }
   ],
   "source": [
    "closest"
   ]
  },
  {
   "cell_type": "code",
   "execution_count": 111,
   "id": "818fcdf1-0efb-45cb-88f1-a6cc9b6790db",
   "metadata": {},
   "outputs": [
    {
     "data": {
      "text/html": [
       "<div>\n",
       "<style scoped>\n",
       "    .dataframe tbody tr th:only-of-type {\n",
       "        vertical-align: middle;\n",
       "    }\n",
       "\n",
       "    .dataframe tbody tr th {\n",
       "        vertical-align: top;\n",
       "    }\n",
       "\n",
       "    .dataframe thead th {\n",
       "        text-align: right;\n",
       "    }\n",
       "</style>\n",
       "<table border=\"1\" class=\"dataframe\">\n",
       "  <thead>\n",
       "    <tr style=\"text-align: right;\">\n",
       "      <th></th>\n",
       "      <th>0</th>\n",
       "      <th>1</th>\n",
       "      <th>2</th>\n",
       "      <th>3</th>\n",
       "      <th>4</th>\n",
       "      <th>5</th>\n",
       "      <th>6</th>\n",
       "      <th>7</th>\n",
       "      <th>8</th>\n",
       "      <th>9</th>\n",
       "      <th>...</th>\n",
       "      <th>90</th>\n",
       "      <th>91</th>\n",
       "      <th>92</th>\n",
       "      <th>93</th>\n",
       "      <th>94</th>\n",
       "      <th>95</th>\n",
       "      <th>96</th>\n",
       "      <th>97</th>\n",
       "      <th>98</th>\n",
       "      <th>99</th>\n",
       "    </tr>\n",
       "  </thead>\n",
       "  <tbody>\n",
       "    <tr>\n",
       "      <th>SHINee (샤이니)</th>\n",
       "      <td>-0.186402</td>\n",
       "      <td>0.032459</td>\n",
       "      <td>0.201963</td>\n",
       "      <td>0.025344</td>\n",
       "      <td>-0.104237</td>\n",
       "      <td>0.384505</td>\n",
       "      <td>-0.106204</td>\n",
       "      <td>-0.124222</td>\n",
       "      <td>0.229191</td>\n",
       "      <td>0.276741</td>\n",
       "      <td>...</td>\n",
       "      <td>0.100464</td>\n",
       "      <td>0.087594</td>\n",
       "      <td>-0.104593</td>\n",
       "      <td>-0.277286</td>\n",
       "      <td>0.325050</td>\n",
       "      <td>-0.605031</td>\n",
       "      <td>0.156795</td>\n",
       "      <td>0.046709</td>\n",
       "      <td>0.368138</td>\n",
       "      <td>-0.093467</td>\n",
       "    </tr>\n",
       "    <tr>\n",
       "      <th>젝스키스</th>\n",
       "      <td>-0.451687</td>\n",
       "      <td>0.137069</td>\n",
       "      <td>0.161973</td>\n",
       "      <td>-0.057269</td>\n",
       "      <td>0.157222</td>\n",
       "      <td>0.797997</td>\n",
       "      <td>-0.539899</td>\n",
       "      <td>-0.801019</td>\n",
       "      <td>0.671974</td>\n",
       "      <td>0.307851</td>\n",
       "      <td>...</td>\n",
       "      <td>0.679532</td>\n",
       "      <td>-0.171487</td>\n",
       "      <td>-0.043145</td>\n",
       "      <td>-0.234886</td>\n",
       "      <td>0.400825</td>\n",
       "      <td>-0.268274</td>\n",
       "      <td>-0.292812</td>\n",
       "      <td>0.264752</td>\n",
       "      <td>0.993472</td>\n",
       "      <td>-0.369915</td>\n",
       "    </tr>\n",
       "    <tr>\n",
       "      <th>에이프릴 (APRIL)</th>\n",
       "      <td>-0.648805</td>\n",
       "      <td>-0.284471</td>\n",
       "      <td>0.398574</td>\n",
       "      <td>-0.254582</td>\n",
       "      <td>0.590276</td>\n",
       "      <td>1.021658</td>\n",
       "      <td>0.059812</td>\n",
       "      <td>-0.331974</td>\n",
       "      <td>1.289104</td>\n",
       "      <td>0.223043</td>\n",
       "      <td>...</td>\n",
       "      <td>0.262140</td>\n",
       "      <td>0.130383</td>\n",
       "      <td>-0.373873</td>\n",
       "      <td>-0.372063</td>\n",
       "      <td>0.296243</td>\n",
       "      <td>-0.205979</td>\n",
       "      <td>-0.004411</td>\n",
       "      <td>0.487535</td>\n",
       "      <td>0.743860</td>\n",
       "      <td>-0.487927</td>\n",
       "    </tr>\n",
       "    <tr>\n",
       "      <th>오마이걸</th>\n",
       "      <td>-0.440829</td>\n",
       "      <td>-0.001026</td>\n",
       "      <td>0.248904</td>\n",
       "      <td>-0.042343</td>\n",
       "      <td>0.077008</td>\n",
       "      <td>0.370622</td>\n",
       "      <td>-0.190258</td>\n",
       "      <td>-0.059240</td>\n",
       "      <td>0.543828</td>\n",
       "      <td>0.332294</td>\n",
       "      <td>...</td>\n",
       "      <td>0.062366</td>\n",
       "      <td>0.091975</td>\n",
       "      <td>-0.081018</td>\n",
       "      <td>-0.100633</td>\n",
       "      <td>0.260532</td>\n",
       "      <td>-0.297191</td>\n",
       "      <td>0.002852</td>\n",
       "      <td>0.003866</td>\n",
       "      <td>0.286555</td>\n",
       "      <td>-0.125965</td>\n",
       "    </tr>\n",
       "    <tr>\n",
       "      <th>미쓰에이</th>\n",
       "      <td>-0.296547</td>\n",
       "      <td>-0.150032</td>\n",
       "      <td>-0.026748</td>\n",
       "      <td>0.015553</td>\n",
       "      <td>0.052029</td>\n",
       "      <td>0.515532</td>\n",
       "      <td>-0.089677</td>\n",
       "      <td>-0.500666</td>\n",
       "      <td>0.411755</td>\n",
       "      <td>0.354093</td>\n",
       "      <td>...</td>\n",
       "      <td>0.082103</td>\n",
       "      <td>-0.108834</td>\n",
       "      <td>0.110100</td>\n",
       "      <td>-0.409705</td>\n",
       "      <td>0.079375</td>\n",
       "      <td>-0.335729</td>\n",
       "      <td>0.104064</td>\n",
       "      <td>0.362046</td>\n",
       "      <td>0.527320</td>\n",
       "      <td>-0.305141</td>\n",
       "    </tr>\n",
       "    <tr>\n",
       "      <th>H.O.T.</th>\n",
       "      <td>-0.354544</td>\n",
       "      <td>-0.142586</td>\n",
       "      <td>-0.028313</td>\n",
       "      <td>0.070725</td>\n",
       "      <td>-0.221196</td>\n",
       "      <td>0.326957</td>\n",
       "      <td>-0.282742</td>\n",
       "      <td>-0.649096</td>\n",
       "      <td>0.367869</td>\n",
       "      <td>0.371337</td>\n",
       "      <td>...</td>\n",
       "      <td>0.174227</td>\n",
       "      <td>0.012199</td>\n",
       "      <td>-0.440350</td>\n",
       "      <td>-0.002676</td>\n",
       "      <td>0.293018</td>\n",
       "      <td>-0.316779</td>\n",
       "      <td>-0.074243</td>\n",
       "      <td>0.091962</td>\n",
       "      <td>0.639452</td>\n",
       "      <td>-0.379300</td>\n",
       "    </tr>\n",
       "  </tbody>\n",
       "</table>\n",
       "<p>6 rows × 100 columns</p>\n",
       "</div>"
      ],
      "text/plain": [
       "                     0         1         2         3         4         5  \\\n",
       "SHINee (샤이니) -0.186402  0.032459  0.201963  0.025344 -0.104237  0.384505   \n",
       "젝스키스         -0.451687  0.137069  0.161973 -0.057269  0.157222  0.797997   \n",
       "에이프릴 (APRIL) -0.648805 -0.284471  0.398574 -0.254582  0.590276  1.021658   \n",
       "오마이걸         -0.440829 -0.001026  0.248904 -0.042343  0.077008  0.370622   \n",
       "미쓰에이         -0.296547 -0.150032 -0.026748  0.015553  0.052029  0.515532   \n",
       "H.O.T.       -0.354544 -0.142586 -0.028313  0.070725 -0.221196  0.326957   \n",
       "\n",
       "                     6         7         8         9  ...        90        91  \\\n",
       "SHINee (샤이니) -0.106204 -0.124222  0.229191  0.276741  ...  0.100464  0.087594   \n",
       "젝스키스         -0.539899 -0.801019  0.671974  0.307851  ...  0.679532 -0.171487   \n",
       "에이프릴 (APRIL)  0.059812 -0.331974  1.289104  0.223043  ...  0.262140  0.130383   \n",
       "오마이걸         -0.190258 -0.059240  0.543828  0.332294  ...  0.062366  0.091975   \n",
       "미쓰에이         -0.089677 -0.500666  0.411755  0.354093  ...  0.082103 -0.108834   \n",
       "H.O.T.       -0.282742 -0.649096  0.367869  0.371337  ...  0.174227  0.012199   \n",
       "\n",
       "                    92        93        94        95        96        97  \\\n",
       "SHINee (샤이니) -0.104593 -0.277286  0.325050 -0.605031  0.156795  0.046709   \n",
       "젝스키스         -0.043145 -0.234886  0.400825 -0.268274 -0.292812  0.264752   \n",
       "에이프릴 (APRIL) -0.373873 -0.372063  0.296243 -0.205979 -0.004411  0.487535   \n",
       "오마이걸         -0.081018 -0.100633  0.260532 -0.297191  0.002852  0.003866   \n",
       "미쓰에이          0.110100 -0.409705  0.079375 -0.335729  0.104064  0.362046   \n",
       "H.O.T.       -0.440350 -0.002676  0.293018 -0.316779 -0.074243  0.091962   \n",
       "\n",
       "                    98        99  \n",
       "SHINee (샤이니)  0.368138 -0.093467  \n",
       "젝스키스          0.993472 -0.369915  \n",
       "에이프릴 (APRIL)  0.743860 -0.487927  \n",
       "오마이걸          0.286555 -0.125965  \n",
       "미쓰에이          0.527320 -0.305141  \n",
       "H.O.T.        0.639452 -0.379300  \n",
       "\n",
       "[6 rows x 100 columns]"
      ]
     },
     "execution_count": 111,
     "metadata": {},
     "output_type": "execute_result"
    }
   ],
   "source": [
    "gn2500_top100_df.iloc[closest]"
   ]
  },
  {
   "cell_type": "code",
   "execution_count": 112,
   "id": "24e05361-1ec8-4e77-8d40-831eb9dc753b",
   "metadata": {},
   "outputs": [],
   "source": [
    "gn2500_top100_df['label'] = kmeans.labels_"
   ]
  },
  {
   "cell_type": "code",
   "execution_count": 113,
   "id": "565ee346-d225-4384-b2b0-db11d08c1698",
   "metadata": {},
   "outputs": [
    {
     "name": "stdout",
     "output_type": "stream",
     "text": [
      "0번 군집 :\n",
      "Index(['EXO', '동방신기 (TVXQ!)', 'SHINee (샤이니)', 'FTISLAND (FT아일랜드)', '방탄소년단',\n",
      "       '인피니트', 'BIGBANG', '보아 (BoA)', 'VIXX (빅스)', '비투비', '마마무 (Mamamoo)',\n",
      "       'CNBLUE (씨엔블루)', '태연 (TAEYEON)', '비스트', 'B1A4', 'XIA (준수)',\n",
      "       '블락비 (Block B)', 'B.A.P', 'EXID', 'G-DRAGON', 'WINNER', '종현 (JONGHYUN)',\n",
      "       '태양', '효린', '태민 (TAEMIN)', '가인', 'iKON', 'JYJ', '양요섭', '루나 (LUNA)',\n",
      "       '김성규', '정은지'],\n",
      "      dtype='object') \n",
      "\n",
      "1번 군집 :\n",
      "Index(['god', '젝스키스', '핑클 (Fin.K.L)', '클릭비 (Click-B)', '샤크라'], dtype='object') \n",
      "\n",
      "2번 군집 :\n",
      "Index(['뉴이스트', '에이프릴 (APRIL)', '더보이즈 (THE BOYZ)', '베리굿 (BerryGood)'], dtype='object') \n",
      "\n",
      "3번 군집 :\n",
      "Index(['GOT7 (갓세븐)', '러블리즈', 'Red Velvet (레드벨벳)', 'TWICE (트와이스)', '몬스타엑스',\n",
      "       '여자친구 (GFRIEND)', '세븐틴', 'NCT 127', 'DAY6 (데이식스)', '오마이걸', 'DIA (다이아)',\n",
      "       '라비(RAVI)', '우주소녀', '보이프렌드', '라붐 (LABOUM)', 'Stray Kids (스트레이 키즈)',\n",
      "       '펜타곤', '아스트로 (ASTRO)', 'CLC', '이달의 소녀', '업텐션 (UP10TION)', 'SF9', '드림캐쳐',\n",
      "       '엔플라잉 (N.Flying)', '청하', 'Wanna One (워너원)'],\n",
      "      dtype='object') \n",
      "\n",
      "4번 군집 :\n",
      "Index(['소녀시대 (GIRLS` GENERATION)', '티아라', '브라운아이드걸스', 'Apink (에이핑크)', '틴탑',\n",
      "       '걸스데이', '카라', 'f(x)', '원더걸스', '씨스타', '엠블랙', '4minute', 'SS501', '쥬얼리',\n",
      "       'AOA', '제국의아이들 (ZE:A)', '미쓰에이', '애프터스쿨', '나인뮤지스', '2NE1', '달샤벳', '시크릿',\n",
      "       '레인보우', '오렌지 캬라멜', '헬로비너스', '현아'],\n",
      "      dtype='object') \n",
      "\n",
      "5번 군집 :\n",
      "Index(['신화', 'H.O.T.', 'S.E.S.', '서태지와 아이들', '베이비 복스', '원타임', 'JTL'], dtype='object') \n",
      "\n"
     ]
    }
   ],
   "source": [
    "# 군집 확인\n",
    "for i in range(6):\n",
    "    print(f'{i}번 군집 :')\n",
    "    print(gn2500_top100_df[gn2500_top100_df['label']== i].index, '\\n')"
   ]
  },
  {
   "cell_type": "markdown",
   "id": "b8ea8363-f169-4cd0-a2df-e81ed1cbdfc6",
   "metadata": {},
   "source": [
    "# PCA로 차원축소 후에 군집화하여 시각화"
   ]
  },
  {
   "cell_type": "code",
   "execution_count": 98,
   "id": "e5b04b4e-aab9-419b-b928-69c51a3d6543",
   "metadata": {},
   "outputs": [],
   "source": [
    "#gn2500 top100 가수들의 벡터를 가져온다.\n",
    "gn2500_top100_df = artist_w2v_df.loc[gn2500_top100.index]"
   ]
  },
  {
   "cell_type": "code",
   "execution_count": 99,
   "id": "73d10bb7-3a8b-4329-939d-0849b5ad7f0e",
   "metadata": {},
   "outputs": [],
   "source": [
    "pca = PCA(n_components=2)\n",
    "gn2500_pca = pca.fit_transform(gn2500_top100_df)"
   ]
  },
  {
   "cell_type": "code",
   "execution_count": 100,
   "id": "8d09b58d-4600-4762-94ee-0375d6d6725b",
   "metadata": {},
   "outputs": [],
   "source": [
    "gn2500_pca_df = pd.DataFrame(gn2500_pca, index= gn2500_top100_df.index)"
   ]
  },
  {
   "cell_type": "code",
   "execution_count": 73,
   "id": "f38869d5-cd31-460e-88bc-553fbdbdecc2",
   "metadata": {},
   "outputs": [
    {
     "data": {
      "text/plain": [
       "KMeans(n_clusters=6)"
      ]
     },
     "execution_count": 73,
     "metadata": {},
     "output_type": "execute_result"
    }
   ],
   "source": [
    "kmeans_pca = KMeans(n_clusters=6)\n",
    "kmeans_pca.fit(gn2500_pca_df)"
   ]
  },
  {
   "cell_type": "code",
   "execution_count": 75,
   "id": "1360fe76-40a9-4ed6-b55a-3b2db77eb9c9",
   "metadata": {},
   "outputs": [
    {
     "data": {
      "text/html": [
       "<div>\n",
       "<style scoped>\n",
       "    .dataframe tbody tr th:only-of-type {\n",
       "        vertical-align: middle;\n",
       "    }\n",
       "\n",
       "    .dataframe tbody tr th {\n",
       "        vertical-align: top;\n",
       "    }\n",
       "\n",
       "    .dataframe thead th {\n",
       "        text-align: right;\n",
       "    }\n",
       "</style>\n",
       "<table border=\"1\" class=\"dataframe\">\n",
       "  <thead>\n",
       "    <tr style=\"text-align: right;\">\n",
       "      <th></th>\n",
       "      <th>0</th>\n",
       "      <th>1</th>\n",
       "    </tr>\n",
       "  </thead>\n",
       "  <tbody>\n",
       "    <tr>\n",
       "      <th>S.E.S.</th>\n",
       "      <td>-1.079581</td>\n",
       "      <td>0.043787</td>\n",
       "    </tr>\n",
       "    <tr>\n",
       "      <th>세븐틴</th>\n",
       "      <td>0.883519</td>\n",
       "      <td>-0.657380</td>\n",
       "    </tr>\n",
       "    <tr>\n",
       "      <th>루나 (LUNA)</th>\n",
       "      <td>0.337571</td>\n",
       "      <td>0.009789</td>\n",
       "    </tr>\n",
       "    <tr>\n",
       "      <th>CLC</th>\n",
       "      <td>1.120044</td>\n",
       "      <td>0.848361</td>\n",
       "    </tr>\n",
       "    <tr>\n",
       "      <th>가인</th>\n",
       "      <td>-0.439582</td>\n",
       "      <td>-0.393336</td>\n",
       "    </tr>\n",
       "    <tr>\n",
       "      <th>티아라</th>\n",
       "      <td>-0.645341</td>\n",
       "      <td>1.333826</td>\n",
       "    </tr>\n",
       "  </tbody>\n",
       "</table>\n",
       "</div>"
      ],
      "text/plain": [
       "                  0         1\n",
       "S.E.S.    -1.079581  0.043787\n",
       "세븐틴        0.883519 -0.657380\n",
       "루나 (LUNA)  0.337571  0.009789\n",
       "CLC        1.120044  0.848361\n",
       "가인        -0.439582 -0.393336\n",
       "티아라       -0.645341  1.333826"
      ]
     },
     "execution_count": 75,
     "metadata": {},
     "output_type": "execute_result"
    }
   ],
   "source": [
    "# 각 군집 중심과 가장 가까운 벡터 계산\n",
    "closest, _ = pairwise_distances_argmin_min(kmeans_pca.cluster_centers_, gn2500_pca_df)\n",
    "gn2500_pca_df.iloc[closest]"
   ]
  },
  {
   "cell_type": "code",
   "execution_count": 76,
   "id": "1985ece4-f2a1-4230-a812-1fce8ea838c9",
   "metadata": {},
   "outputs": [],
   "source": [
    "gn2500_pca_df['label'] = kmeans_pca.labels_"
   ]
  },
  {
   "cell_type": "code",
   "execution_count": 96,
   "id": "2a6261cf-956e-4317-8a05-6689d06e5757",
   "metadata": {},
   "outputs": [
    {
     "data": {
      "image/png": "[encoded data removed]",
      "text/plain": [
       "<Figure size 720x576 with 1 Axes>"
      ]
     },
     "metadata": {
      "needs_background": "light"
     },
     "output_type": "display_data"
    }
   ],
   "source": [
    "plt.figure(figsize = (10,8))\n",
    "for i in range(6):\n",
    "    plt.scatter(gn2500_pca_df[gn2500_pca_df['label'] == i][0],\n",
    "               gn2500_pca_df[gn2500_pca_df['label'] == i][1],\n",
    "               label = i)\n",
    "plt.legend()\n",
    "plt.show()"
   ]
  },
  {
   "cell_type": "code",
   "execution_count": 94,
   "id": "5545c829-f53e-47b4-a43b-d34c21f4cde2",
   "metadata": {},
   "outputs": [
    {
     "name": "stdout",
     "output_type": "stream",
     "text": [
      "0번 군집 :\n",
      "Index(['신화', '브라운아이드걸스', 'H.O.T.', 'S.E.S.', '카라', '핑클 (Fin.K.L)', '서태지와 아이들',\n",
      "       '베이비 복스', '클릭비 (Click-B)', 'SS501', '쥬얼리', '원타임', '애프터스쿨', 'JTL'],\n",
      "      dtype='object') \n",
      "\n",
      "1번 군집 :\n",
      "Index(['방탄소년단', 'GOT7 (갓세븐)', 'Red Velvet (레드벨벳)', 'TWICE (트와이스)', '몬스타엑스',\n",
      "       '여자친구 (GFRIEND)', '세븐틴', 'DAY6 (데이식스)', '오마이걸', 'DIA (다이아)', '라비(RAVI)',\n",
      "       '우주소녀', 'Stray Kids (스트레이 키즈)', '펜타곤', '아스트로 (ASTRO)', '이달의 소녀',\n",
      "       '업텐션 (UP10TION)', 'SF9', '엔플라잉 (N.Flying)', 'iKON', '청하',\n",
      "       'Wanna One (워너원)'],\n",
      "      dtype='object') \n",
      "\n",
      "2번 군집 :\n",
      "Index(['EXO', '러블리즈', '비투비', '마마무 (Mamamoo)', 'Apink (에이핑크)', 'B1A4', 'B.A.P',\n",
      "       'EXID', 'AOA', '보이프렌드', 'WINNER', '종현 (JONGHYUN)', '효린', '태민 (TAEMIN)',\n",
      "       '헬로비너스', '양요섭', '루나 (LUNA)', '김성규'],\n",
      "      dtype='object') \n",
      "\n",
      "3번 군집 :\n",
      "Index(['NCT 127', '라붐 (LABOUM)', '뉴이스트', '에이프릴 (APRIL)', 'CLC', '드림캐쳐',\n",
      "       '더보이즈 (THE BOYZ)', '베리굿 (BerryGood)'],\n",
      "      dtype='object') \n",
      "\n",
      "4번 군집 :\n",
      "Index(['동방신기 (TVXQ!)', 'SHINee (샤이니)', '소녀시대 (GIRLS` GENERATION)',\n",
      "       'FTISLAND (FT아일랜드)', '인피니트', 'BIGBANG', '보아 (BoA)', 'VIXX (빅스)', '틴탑',\n",
      "       '걸스데이', 'CNBLUE (씨엔블루)', '태연 (TAEYEON)', '비스트', 'f(x)', 'XIA (준수)',\n",
      "       '원더걸스', '씨스타', '블락비 (Block B)', '엠블랙', '제국의아이들 (ZE:A)', 'G-DRAGON',\n",
      "       '태양', '미쓰에이', '2NE1', '달샤벳', '시크릿', '가인', '레인보우', '오렌지 캬라멜'],\n",
      "      dtype='object') \n",
      "\n",
      "5번 군집 :\n",
      "Index(['티아라', 'god', '젝스키스', '4minute', '나인뮤지스', 'JYJ', '현아', '샤크라', '정은지'], dtype='object') \n",
      "\n"
     ]
    }
   ],
   "source": [
    "for i in range(6):\n",
    "    print(f'{i}번 군집 :')\n",
    "    print(gn2500_pca_df[gn2500_pca_df['label']== i].index, '\\n')"
   ]
  },
  {
   "cell_type": "code",
   "execution_count": null,
   "id": "e6eaf521-1f07-4a4c-9cb4-ced3af32794c",
   "metadata": {},
   "outputs": [],
   "source": []
  }
 ],
 "metadata": {
  "kernelspec": {
   "display_name": "Python 3",
   "language": "python",
   "name": "python3"
  },
  "language_info": {
   "codemirror_mode": {
    "name": "ipython",
    "version": 3
   },
   "file_extension": ".py",
   "mimetype": "text/x-python",
   "name": "python",
   "nbconvert_exporter": "python",
   "pygments_lexer": "ipython3",
   "version": "3.8.8"
  }
 },
 "nbformat": 4,
 "nbformat_minor": 5
}
